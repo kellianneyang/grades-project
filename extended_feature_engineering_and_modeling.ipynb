{
 "cells": [
  {
   "cell_type": "code",
   "execution_count": 8,
   "id": "54de7890",
   "metadata": {},
   "outputs": [],
   "source": [
    "# import libraries\n",
    "import pandas as pd"
   ]
  },
  {
   "cell_type": "code",
   "execution_count": 9,
   "id": "c4076bb7",
   "metadata": {},
   "outputs": [],
   "source": [
    "# load data\n",
    "path = 'Data/feature_engineered_data.csv'\n",
    "df = pd.read_csv(path, low_memory = False, index_col = 0)"
   ]
  },
  {
   "cell_type": "code",
   "execution_count": 10,
   "id": "3d416e9e",
   "metadata": {},
   "outputs": [
    {
     "name": "stdout",
     "output_type": "stream",
     "text": [
      "<class 'pandas.core.frame.DataFrame'>\n",
      "Int64Index: 49286 entries, 0 to 50205\n",
      "Data columns (total 13 columns):\n",
      " #   Column             Non-Null Count  Dtype  \n",
      "---  ------             --------------  -----  \n",
      " 0   section_type       49286 non-null  object \n",
      " 1   instructor_id      49286 non-null  object \n",
      " 2   facility_code      45608 non-null  object \n",
      " 3   start_time         49286 non-null  object \n",
      " 4   subject_name       49286 non-null  object \n",
      " 5   class_size         49286 non-null  object \n",
      " 6   avg_letter_grade   49286 non-null  float64\n",
      " 7   year               49286 non-null  int64  \n",
      " 8   is_spring          49286 non-null  int64  \n",
      " 9   is_longer          49286 non-null  int64  \n",
      " 10  course_difficulty  49286 non-null  object \n",
      " 11  days_per_week      49286 non-null  int64  \n",
      " 12  schedule_days      49286 non-null  object \n",
      "dtypes: float64(1), int64(4), object(8)\n",
      "memory usage: 5.3+ MB\n"
     ]
    }
   ],
   "source": [
    "# inspect\n",
    "df.info()"
   ]
  },
  {
   "cell_type": "code",
   "execution_count": 11,
   "id": "ada3e058",
   "metadata": {},
   "outputs": [
    {
     "name": "stdout",
     "output_type": "stream",
     "text": [
      "section_type\n",
      "lec    39181\n",
      "lab     4767\n",
      "sem     2566\n",
      "ind     1988\n",
      "fld      543\n",
      "dis      241\n",
      "Name: section_type, dtype: int64\n",
      "\n",
      "instructor_id\n",
      "other        43768\n",
      "566960.0       132\n",
      "496397.0       106\n",
      "2601912.0       89\n",
      "2601706.0       85\n",
      "             ...  \n",
      "2600012.0       39\n",
      "777651.0        39\n",
      "636841.0        38\n",
      "960897.0        38\n",
      "3659559.0       38\n",
      "Name: instructor_id, Length: 107, dtype: int64\n",
      "\n",
      "facility_code\n",
      "0482     7446\n",
      "0469     4542\n",
      "0140     3446\n",
      "0408     2532\n",
      "0545     2336\n",
      "         ... \n",
      "0039        1\n",
      "0084b       1\n",
      "0033        1\n",
      "1400g       1\n",
      "1400e       1\n",
      "Name: facility_code, Length: 119, dtype: int64\n",
      "\n",
      "start_time\n",
      "mid-morning        12670\n",
      "early afternoon    11368\n",
      "late morning        8026\n",
      "mid-afternoon       8014\n",
      "late afternoon      3937\n",
      "none                3807\n",
      "early morning        767\n",
      "evening              697\n",
      "Name: start_time, dtype: int64\n",
      "\n",
      "subject_name\n",
      "spanish (spanish and portuguese)                 2965\n",
      "english                                          2791\n",
      "communication arts                               1904\n",
      "art department                                   1779\n",
      "mathematics                                      1746\n",
      "                                                 ... \n",
      "medieval studies                                    2\n",
      "medical sciences - medical school                   2\n",
      "animal health and biomedical sciences               2\n",
      "agroecology                                         1\n",
      "molecular and environmental toxicology center       1\n",
      "Name: subject_name, Length: 180, dtype: int64\n",
      "\n",
      "class_size\n",
      "medium    20605\n",
      "small     16513\n",
      "large     12168\n",
      "Name: class_size, dtype: int64\n",
      "\n",
      "avg_letter_grade\n",
      "4.000000    5861\n",
      "3.500000    1278\n",
      "3.750000     788\n",
      "3.833333     551\n",
      "3.666667     544\n",
      "            ... \n",
      "3.638075       1\n",
      "3.480565       1\n",
      "2.840206       1\n",
      "3.819767       1\n",
      "3.210227       1\n",
      "Name: avg_letter_grade, Length: 6955, dtype: int64\n",
      "\n",
      "year\n",
      "7     4718\n",
      "8     4549\n",
      "11    4520\n",
      "9     4502\n",
      "10    4496\n",
      "14    4469\n",
      "13    4449\n",
      "15    4429\n",
      "16    4365\n",
      "17    4288\n",
      "12    2291\n",
      "18    2210\n",
      "Name: year, dtype: int64\n",
      "\n",
      "is_spring\n",
      "0    27630\n",
      "1    21656\n",
      "Name: is_spring, dtype: int64\n",
      "\n",
      "is_longer\n",
      "1    25638\n",
      "0    23648\n",
      "Name: is_longer, dtype: int64\n",
      "\n",
      "course_difficulty\n",
      "elementary      19532\n",
      "intermediate    18539\n",
      "advanced        11215\n",
      "Name: course_difficulty, dtype: int64\n",
      "\n",
      "days_per_week\n",
      "2    22998\n",
      "1     9280\n",
      "3     9268\n",
      "0     3785\n",
      "4     2790\n",
      "5     1164\n",
      "7        1\n",
      "Name: days_per_week, dtype: int64\n",
      "\n",
      "schedule_days\n",
      "TR       15425\n",
      "MWF       9099\n",
      "MW        7140\n",
      "none      3785\n",
      "T         2421\n",
      "W         2273\n",
      "M         1951\n",
      "MTWR      1816\n",
      "R         1518\n",
      "MTWRF     1164\n",
      "MTRF       870\n",
      "F          869\n",
      "other      587\n",
      "MF         206\n",
      "WF         162\n",
      "Name: schedule_days, dtype: int64\n",
      "\n"
     ]
    }
   ],
   "source": [
    "# inspect\n",
    "for col in df.columns:\n",
    "    print(col)\n",
    "    print(df[col].value_counts())\n",
    "    print()"
   ]
  },
  {
   "cell_type": "code",
   "execution_count": 12,
   "id": "10a9018f",
   "metadata": {},
   "outputs": [],
   "source": [
    "# best models from regression notebook:\n",
    "# BR, XGB, RF, GBR"
   ]
  },
  {
   "cell_type": "code",
   "execution_count": 14,
   "id": "2d4c79f6",
   "metadata": {},
   "outputs": [],
   "source": [
    "# try with only lecture-type sections\n",
    "df1 = df.copy()"
   ]
  },
  {
   "cell_type": "code",
   "execution_count": 19,
   "id": "9f7d8b5d",
   "metadata": {},
   "outputs": [
    {
     "data": {
      "text/plain": [
       "lec    39181\n",
       "Name: section_type, dtype: int64"
      ]
     },
     "execution_count": 19,
     "metadata": {},
     "output_type": "execute_result"
    }
   ],
   "source": [
    "df1 = df1[df1['section_type'] == 'lec']\n",
    "\n",
    "df1['section_type'].value_counts()"
   ]
  },
  {
   "cell_type": "code",
   "execution_count": null,
   "id": "32f63018",
   "metadata": {},
   "outputs": [],
   "source": [
    "df1.drop(columns = 'section_type', inplace = True)"
   ]
  },
  {
   "cell_type": "code",
   "execution_count": null,
   "id": "9d7fdc9b",
   "metadata": {},
   "outputs": [],
   "source": []
  },
  {
   "cell_type": "code",
   "execution_count": null,
   "id": "4fcaca4f",
   "metadata": {},
   "outputs": [],
   "source": [
    "# try taking out outliers"
   ]
  },
  {
   "cell_type": "code",
   "execution_count": null,
   "id": "405a5bd0",
   "metadata": {},
   "outputs": [],
   "source": []
  },
  {
   "cell_type": "code",
   "execution_count": null,
   "id": "92c33b58",
   "metadata": {},
   "outputs": [],
   "source": []
  },
  {
   "cell_type": "code",
   "execution_count": null,
   "id": "02ebb9e9",
   "metadata": {},
   "outputs": [],
   "source": []
  }
 ],
 "metadata": {
  "kernelspec": {
   "display_name": "Python (dojo-env)",
   "language": "python",
   "name": "dojo-env"
  },
  "language_info": {
   "codemirror_mode": {
    "name": "ipython",
    "version": 3
   },
   "file_extension": ".py",
   "mimetype": "text/x-python",
   "name": "python",
   "nbconvert_exporter": "python",
   "pygments_lexer": "ipython3",
   "version": "3.9.15"
  },
  "toc": {
   "base_numbering": 1,
   "nav_menu": {},
   "number_sections": false,
   "sideBar": true,
   "skip_h1_title": false,
   "title_cell": "Table of Contents",
   "title_sidebar": "Contents",
   "toc_cell": false,
   "toc_position": {},
   "toc_section_display": true,
   "toc_window_display": false
  }
 },
 "nbformat": 4,
 "nbformat_minor": 5
}

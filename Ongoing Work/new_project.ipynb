{
 "cells": [
  {
   "cell_type": "code",
   "execution_count": 118,
   "id": "3da372d3",
   "metadata": {},
   "outputs": [],
   "source": [
    "# import libraries\n",
    "\n",
    "import warnings\n",
    "warnings.filterwarnings('ignore')\n",
    "\n",
    "# general\n",
    "import numpy as np\n",
    "import pandas as pd\n",
    "\n",
    "# preprocessing\n",
    "from sklearn.preprocessing import OneHotEncoder, StandardScaler\n",
    "from sklearn.impute import SimpleImputer\n",
    "from sklearn.pipeline import make_pipeline\n",
    "from sklearn.compose import make_column_transformer\n",
    "from sklearn.model_selection import train_test_split\n",
    "\n",
    "# modeling\n",
    "from sklearn.dummy import DummyRegressor\n",
    "from sklearn.linear_model import LinearRegression\n",
    "from sklearn.tree import DecisionTreeRegressor\n",
    "from sklearn.ensemble import BaggingRegressor, RandomForestRegressor, \\\n",
    "GradientBoostingRegressor\n",
    "from sklearn.neighbors import KNeighborsRegressor\n",
    "from lightgbm import LGBMRegressor\n",
    "from xgboost import XGBRegressor\n",
    "\n",
    "# evaluation\n",
    "from sklearn.metrics import r2_score, mean_absolute_error, \\\n",
    "mean_squared_error, mean_absolute_percentage_error\n",
    "\n",
    "# tuning\n",
    "from sklearn.model_selection import GridSearchCV\n",
    "\n",
    "# feature engineering\n",
    "from sklearn.decomposition import PCA\n",
    "import matplotlib.pyplot as plt\n",
    "from sklearn import set_config\n",
    "set_config(display=\"diagram\")\n",
    "from kneed import KneeLocator"
   ]
  },
  {
   "cell_type": "code",
   "execution_count": 119,
   "id": "e161cbd6",
   "metadata": {},
   "outputs": [],
   "source": [
    "# load data\n",
    "path = 'Data/all_grades_data_cleaned.csv'\n",
    "df = pd.read_csv(path, index_col = 0)"
   ]
  },
  {
   "cell_type": "code",
   "execution_count": 120,
   "id": "f07b5e2c",
   "metadata": {},
   "outputs": [
    {
     "name": "stdout",
     "output_type": "stream",
     "text": [
      "<class 'pandas.core.frame.DataFrame'>\n",
      "Int64Index: 49975 entries, 0 to 50205\n",
      "Data columns (total 51 columns):\n",
      " #   Column             Non-Null Count  Dtype  \n",
      "---  ------             --------------  -----  \n",
      " 0   section_type       49975 non-null  object \n",
      " 1   instructor_id      49975 non-null  object \n",
      " 2   facility_code      46160 non-null  object \n",
      " 3   start_time         49975 non-null  float64\n",
      " 4   mon                49975 non-null  bool   \n",
      " 5   tues               49975 non-null  bool   \n",
      " 6   wed                49975 non-null  bool   \n",
      " 7   thurs              49975 non-null  bool   \n",
      " 8   fri                49975 non-null  bool   \n",
      " 9   sat                49975 non-null  bool   \n",
      " 10  sun                49975 non-null  bool   \n",
      " 11  subject_name       49975 non-null  object \n",
      " 12  course_name        49975 non-null  object \n",
      " 13  a_count            49975 non-null  int64  \n",
      " 14  ab_count           49975 non-null  int64  \n",
      " 15  b_count            49975 non-null  int64  \n",
      " 16  bc_count           49975 non-null  int64  \n",
      " 17  c_count            49975 non-null  int64  \n",
      " 18  d_count            49975 non-null  int64  \n",
      " 19  f_count            49975 non-null  int64  \n",
      " 20  s_count            49975 non-null  int64  \n",
      " 21  u_count            49975 non-null  int64  \n",
      " 22  cr_count           49975 non-null  int64  \n",
      " 23  n_count            49975 non-null  int64  \n",
      " 24  p_count            49975 non-null  int64  \n",
      " 25  i_count            49975 non-null  int64  \n",
      " 26  nw_count           49975 non-null  int64  \n",
      " 27  nr_count           49975 non-null  int64  \n",
      " 28  other_count        49975 non-null  int64  \n",
      " 29  num_all_grades     49975 non-null  float64\n",
      " 30  a_proportion       49975 non-null  float64\n",
      " 31  ab_proportion      49975 non-null  float64\n",
      " 32  b_proportion       49975 non-null  float64\n",
      " 33  bc_proportion      49975 non-null  float64\n",
      " 34  c_proportion       49975 non-null  float64\n",
      " 35  d_proportion       49975 non-null  float64\n",
      " 36  f_proportion       49975 non-null  float64\n",
      " 37  s_proportion       49975 non-null  float64\n",
      " 38  u_proportion       49975 non-null  float64\n",
      " 39  cr_proportion      49975 non-null  float64\n",
      " 40  n_proportion       49975 non-null  float64\n",
      " 41  p_proportion       49975 non-null  float64\n",
      " 42  i_proportion       49975 non-null  float64\n",
      " 43  nw_proportion      49975 non-null  float64\n",
      " 44  nr_proportion      49975 non-null  float64\n",
      " 45  other_proportion   49975 non-null  float64\n",
      " 46  avg_letter_grade   49286 non-null  float64\n",
      " 47  year               49975 non-null  int64  \n",
      " 48  term               49975 non-null  object \n",
      " 49  class_length       49975 non-null  float64\n",
      " 50  course_difficulty  49975 non-null  object \n",
      "dtypes: bool(7), float64(20), int64(17), object(7)\n",
      "memory usage: 17.5+ MB\n"
     ]
    }
   ],
   "source": [
    "# inspect\n",
    "df.info()"
   ]
  },
  {
   "cell_type": "code",
   "execution_count": 121,
   "id": "813ae7f7",
   "metadata": {},
   "outputs": [
    {
     "data": {
      "text/plain": [
       "Index(['section_type', 'instructor_id', 'facility_code', 'start_time', 'mon',\n",
       "       'tues', 'wed', 'thurs', 'fri', 'sat', 'sun', 'subject_name',\n",
       "       'course_name', 'num_all_grades', 'avg_letter_grade', 'year', 'term',\n",
       "       'class_length', 'course_difficulty'],\n",
       "      dtype='object')"
      ]
     },
     "execution_count": 121,
     "metadata": {},
     "output_type": "execute_result"
    }
   ],
   "source": [
    "# drop columns not being used as target columns in this notebook\n",
    "other_targets = ['a_count', 'ab_count', 'b_count', 'bc_count', 'c_count', \n",
    "                'd_count', 'f_count', 's_count', 'u_count', 'cr_count', \n",
    "                'n_count', 'p_count', 'i_count', 'nw_count', 'nr_count', \n",
    "                'other_count', 'a_proportion', 'ab_proportion', \n",
    "                'b_proportion', 'bc_proportion', 'c_proportion', \n",
    "                'd_proportion', 'f_proportion', 's_proportion', \n",
    "                'u_proportion', 'cr_proportion', 'n_proportion', \n",
    "                'p_proportion', 'i_proportion', 'nw_proportion', \n",
    "                'nr_proportion', 'other_proportion']\n",
    "df.drop(columns = other_targets, inplace = True)\n",
    "\n",
    "# check\n",
    "df.columns"
   ]
  },
  {
   "cell_type": "code",
   "execution_count": 122,
   "id": "1b024850",
   "metadata": {},
   "outputs": [],
   "source": [
    "# convert 'year' to string, since it is really a categorical column\n",
    "df['year'] = df['year'].astype(str)"
   ]
  },
  {
   "cell_type": "code",
   "execution_count": 123,
   "id": "62594881",
   "metadata": {},
   "outputs": [
    {
     "data": {
      "text/plain": [
       "afternoon or evening    24362\n",
       "morning                 21693\n",
       "none                     3920\n",
       "Name: start_time, dtype: int64"
      ]
     },
     "execution_count": 123,
     "metadata": {},
     "output_type": "execute_result"
    }
   ],
   "source": [
    "# feature manipulation\n",
    "# start_time\n",
    "\n",
    "# start_time is given in minutes, so it is a numerical variable; courses\n",
    "# without an assigned start_time are coded with -1\n",
    "# start_time shouldn't be treated as a numeric variable since there is not a\n",
    "# natural size order to times; for example, it's possible that courses in the\n",
    "# afternoon give out higher grades than both courses in the mornings and\n",
    "# evenings\n",
    "\n",
    "# we will bin courses by start_time to morning, afternoon, evening, and none\n",
    "# then we will be able to one-hot encode this variable\n",
    "\n",
    "for index in df['start_time'].index:\n",
    "    if df.at[index, 'start_time'] == -1:\n",
    "        df.at[index, 'start_time'] = 'none'\n",
    "    elif df.at[index, 'start_time'] < 720:\n",
    "        df.at[index, 'start_time'] = 'morning'\n",
    "    else:\n",
    "        df.at[index, 'start_time'] = 'afternoon or evening'\n",
    "        \n",
    "# check\n",
    "df['start_time'].value_counts()"
   ]
  },
  {
   "cell_type": "code",
   "execution_count": 124,
   "id": "eb60a89c",
   "metadata": {},
   "outputs": [
    {
     "data": {
      "text/plain": [
       "longer     25813\n",
       "shorter    24162\n",
       "Name: class_length, dtype: int64"
      ]
     },
     "execution_count": 124,
     "metadata": {},
     "output_type": "execute_result"
    }
   ],
   "source": [
    "# feature manipulation\n",
    "# class_length\n",
    "\n",
    "# bin into less than 75 and 75 or more\n",
    "df['class_length'] = df['class_length'].apply(lambda x: 'shorter' \n",
    "                                             if x < 75 \n",
    "                                             else 'longer')\n",
    "\n",
    "# check\n",
    "df['class_length'].value_counts()"
   ]
  },
  {
   "cell_type": "code",
   "execution_count": 125,
   "id": "c0702286",
   "metadata": {},
   "outputs": [
    {
     "data": {
      "text/plain": [
       "medium    20701\n",
       "small     17024\n",
       "large     12250\n",
       "Name: num_all_grades, dtype: int64"
      ]
     },
     "execution_count": 125,
     "metadata": {},
     "output_type": "execute_result"
    }
   ],
   "source": [
    "# feature manipulation\n",
    "# num_all_grades\n",
    "\n",
    "# small = under 15\n",
    "# medium = 16-35\n",
    "# large = over 35\n",
    "\n",
    "# bin \n",
    "for index in df['num_all_grades'].index:\n",
    "    if df.at[index, 'num_all_grades'] < 16:\n",
    "        df.at[index, 'num_all_grades'] = 'small'\n",
    "    elif df.at[index, 'num_all_grades'] < 36:\n",
    "        df.at[index, 'num_all_grades'] = 'medium'\n",
    "    else:\n",
    "        df.at[index, 'num_all_grades'] = 'large'\n",
    "\n",
    "# check\n",
    "df['num_all_grades'].value_counts()"
   ]
  },
  {
   "cell_type": "code",
   "execution_count": 126,
   "id": "ac5bee72",
   "metadata": {},
   "outputs": [
    {
     "data": {
      "text/html": [
       "<div>\n",
       "<style scoped>\n",
       "    .dataframe tbody tr th:only-of-type {\n",
       "        vertical-align: middle;\n",
       "    }\n",
       "\n",
       "    .dataframe tbody tr th {\n",
       "        vertical-align: top;\n",
       "    }\n",
       "\n",
       "    .dataframe thead th {\n",
       "        text-align: right;\n",
       "    }\n",
       "</style>\n",
       "<table border=\"1\" class=\"dataframe\">\n",
       "  <thead>\n",
       "    <tr style=\"text-align: right;\">\n",
       "      <th></th>\n",
       "      <th>mon</th>\n",
       "      <th>tues</th>\n",
       "      <th>wed</th>\n",
       "      <th>thurs</th>\n",
       "      <th>fri</th>\n",
       "      <th>sat</th>\n",
       "      <th>sun</th>\n",
       "    </tr>\n",
       "  </thead>\n",
       "  <tbody>\n",
       "    <tr>\n",
       "      <th>0</th>\n",
       "      <td>0</td>\n",
       "      <td>0</td>\n",
       "      <td>0</td>\n",
       "      <td>0</td>\n",
       "      <td>0</td>\n",
       "      <td>0</td>\n",
       "      <td>0</td>\n",
       "    </tr>\n",
       "    <tr>\n",
       "      <th>1</th>\n",
       "      <td>0</td>\n",
       "      <td>1</td>\n",
       "      <td>0</td>\n",
       "      <td>1</td>\n",
       "      <td>0</td>\n",
       "      <td>0</td>\n",
       "      <td>0</td>\n",
       "    </tr>\n",
       "    <tr>\n",
       "      <th>2</th>\n",
       "      <td>0</td>\n",
       "      <td>1</td>\n",
       "      <td>0</td>\n",
       "      <td>1</td>\n",
       "      <td>0</td>\n",
       "      <td>0</td>\n",
       "      <td>0</td>\n",
       "    </tr>\n",
       "    <tr>\n",
       "      <th>3</th>\n",
       "      <td>1</td>\n",
       "      <td>0</td>\n",
       "      <td>1</td>\n",
       "      <td>0</td>\n",
       "      <td>1</td>\n",
       "      <td>0</td>\n",
       "      <td>0</td>\n",
       "    </tr>\n",
       "    <tr>\n",
       "      <th>4</th>\n",
       "      <td>1</td>\n",
       "      <td>0</td>\n",
       "      <td>1</td>\n",
       "      <td>0</td>\n",
       "      <td>1</td>\n",
       "      <td>0</td>\n",
       "      <td>0</td>\n",
       "    </tr>\n",
       "    <tr>\n",
       "      <th>...</th>\n",
       "      <td>...</td>\n",
       "      <td>...</td>\n",
       "      <td>...</td>\n",
       "      <td>...</td>\n",
       "      <td>...</td>\n",
       "      <td>...</td>\n",
       "      <td>...</td>\n",
       "    </tr>\n",
       "    <tr>\n",
       "      <th>50201</th>\n",
       "      <td>1</td>\n",
       "      <td>1</td>\n",
       "      <td>0</td>\n",
       "      <td>0</td>\n",
       "      <td>1</td>\n",
       "      <td>0</td>\n",
       "      <td>0</td>\n",
       "    </tr>\n",
       "    <tr>\n",
       "      <th>50202</th>\n",
       "      <td>1</td>\n",
       "      <td>1</td>\n",
       "      <td>0</td>\n",
       "      <td>0</td>\n",
       "      <td>1</td>\n",
       "      <td>0</td>\n",
       "      <td>0</td>\n",
       "    </tr>\n",
       "    <tr>\n",
       "      <th>50203</th>\n",
       "      <td>1</td>\n",
       "      <td>1</td>\n",
       "      <td>0</td>\n",
       "      <td>0</td>\n",
       "      <td>1</td>\n",
       "      <td>0</td>\n",
       "      <td>0</td>\n",
       "    </tr>\n",
       "    <tr>\n",
       "      <th>50204</th>\n",
       "      <td>1</td>\n",
       "      <td>1</td>\n",
       "      <td>0</td>\n",
       "      <td>0</td>\n",
       "      <td>1</td>\n",
       "      <td>0</td>\n",
       "      <td>0</td>\n",
       "    </tr>\n",
       "    <tr>\n",
       "      <th>50205</th>\n",
       "      <td>1</td>\n",
       "      <td>0</td>\n",
       "      <td>1</td>\n",
       "      <td>0</td>\n",
       "      <td>0</td>\n",
       "      <td>0</td>\n",
       "      <td>0</td>\n",
       "    </tr>\n",
       "  </tbody>\n",
       "</table>\n",
       "<p>49975 rows × 7 columns</p>\n",
       "</div>"
      ],
      "text/plain": [
       "       mon  tues  wed  thurs  fri  sat  sun\n",
       "0        0     0    0      0    0    0    0\n",
       "1        0     1    0      1    0    0    0\n",
       "2        0     1    0      1    0    0    0\n",
       "3        1     0    1      0    1    0    0\n",
       "4        1     0    1      0    1    0    0\n",
       "...    ...   ...  ...    ...  ...  ...  ...\n",
       "50201    1     1    0      0    1    0    0\n",
       "50202    1     1    0      0    1    0    0\n",
       "50203    1     1    0      0    1    0    0\n",
       "50204    1     1    0      0    1    0    0\n",
       "50205    1     0    1      0    0    0    0\n",
       "\n",
       "[49975 rows x 7 columns]"
      ]
     },
     "execution_count": 126,
     "metadata": {},
     "output_type": "execute_result"
    }
   ],
   "source": [
    "# feature manipulation\n",
    "# schedule\n",
    "\n",
    "# first convert boolean values (True, False) to 1s and 0s so can be summed\n",
    "\n",
    "days_in_week = ['mon', 'tues', 'wed', 'thurs', 'fri', 'sat', 'sun']\n",
    "\n",
    "for day in days_in_week:\n",
    "    df[day].replace({True: 1, False: 0}, inplace = True)\n",
    "\n",
    "# check\n",
    "df[['mon', 'tues', 'wed', 'thurs', 'fri', 'sat', 'sun']]"
   ]
  },
  {
   "cell_type": "code",
   "execution_count": 127,
   "id": "b68503ea",
   "metadata": {},
   "outputs": [
    {
     "data": {
      "text/html": [
       "<div>\n",
       "<style scoped>\n",
       "    .dataframe tbody tr th:only-of-type {\n",
       "        vertical-align: middle;\n",
       "    }\n",
       "\n",
       "    .dataframe tbody tr th {\n",
       "        vertical-align: top;\n",
       "    }\n",
       "\n",
       "    .dataframe thead th {\n",
       "        text-align: right;\n",
       "    }\n",
       "</style>\n",
       "<table border=\"1\" class=\"dataframe\">\n",
       "  <thead>\n",
       "    <tr style=\"text-align: right;\">\n",
       "      <th></th>\n",
       "      <th>mon</th>\n",
       "      <th>tues</th>\n",
       "      <th>wed</th>\n",
       "      <th>thurs</th>\n",
       "      <th>fri</th>\n",
       "      <th>sat</th>\n",
       "      <th>sun</th>\n",
       "      <th>days_per_week</th>\n",
       "    </tr>\n",
       "  </thead>\n",
       "  <tbody>\n",
       "    <tr>\n",
       "      <th>0</th>\n",
       "      <td>0</td>\n",
       "      <td>0</td>\n",
       "      <td>0</td>\n",
       "      <td>0</td>\n",
       "      <td>0</td>\n",
       "      <td>0</td>\n",
       "      <td>0</td>\n",
       "      <td>0</td>\n",
       "    </tr>\n",
       "    <tr>\n",
       "      <th>1</th>\n",
       "      <td>0</td>\n",
       "      <td>1</td>\n",
       "      <td>0</td>\n",
       "      <td>1</td>\n",
       "      <td>0</td>\n",
       "      <td>0</td>\n",
       "      <td>0</td>\n",
       "      <td>2</td>\n",
       "    </tr>\n",
       "    <tr>\n",
       "      <th>2</th>\n",
       "      <td>0</td>\n",
       "      <td>1</td>\n",
       "      <td>0</td>\n",
       "      <td>1</td>\n",
       "      <td>0</td>\n",
       "      <td>0</td>\n",
       "      <td>0</td>\n",
       "      <td>2</td>\n",
       "    </tr>\n",
       "    <tr>\n",
       "      <th>3</th>\n",
       "      <td>1</td>\n",
       "      <td>0</td>\n",
       "      <td>1</td>\n",
       "      <td>0</td>\n",
       "      <td>1</td>\n",
       "      <td>0</td>\n",
       "      <td>0</td>\n",
       "      <td>3</td>\n",
       "    </tr>\n",
       "    <tr>\n",
       "      <th>4</th>\n",
       "      <td>1</td>\n",
       "      <td>0</td>\n",
       "      <td>1</td>\n",
       "      <td>0</td>\n",
       "      <td>1</td>\n",
       "      <td>0</td>\n",
       "      <td>0</td>\n",
       "      <td>3</td>\n",
       "    </tr>\n",
       "    <tr>\n",
       "      <th>...</th>\n",
       "      <td>...</td>\n",
       "      <td>...</td>\n",
       "      <td>...</td>\n",
       "      <td>...</td>\n",
       "      <td>...</td>\n",
       "      <td>...</td>\n",
       "      <td>...</td>\n",
       "      <td>...</td>\n",
       "    </tr>\n",
       "    <tr>\n",
       "      <th>50201</th>\n",
       "      <td>1</td>\n",
       "      <td>1</td>\n",
       "      <td>0</td>\n",
       "      <td>0</td>\n",
       "      <td>1</td>\n",
       "      <td>0</td>\n",
       "      <td>0</td>\n",
       "      <td>3</td>\n",
       "    </tr>\n",
       "    <tr>\n",
       "      <th>50202</th>\n",
       "      <td>1</td>\n",
       "      <td>1</td>\n",
       "      <td>0</td>\n",
       "      <td>0</td>\n",
       "      <td>1</td>\n",
       "      <td>0</td>\n",
       "      <td>0</td>\n",
       "      <td>3</td>\n",
       "    </tr>\n",
       "    <tr>\n",
       "      <th>50203</th>\n",
       "      <td>1</td>\n",
       "      <td>1</td>\n",
       "      <td>0</td>\n",
       "      <td>0</td>\n",
       "      <td>1</td>\n",
       "      <td>0</td>\n",
       "      <td>0</td>\n",
       "      <td>3</td>\n",
       "    </tr>\n",
       "    <tr>\n",
       "      <th>50204</th>\n",
       "      <td>1</td>\n",
       "      <td>1</td>\n",
       "      <td>0</td>\n",
       "      <td>0</td>\n",
       "      <td>1</td>\n",
       "      <td>0</td>\n",
       "      <td>0</td>\n",
       "      <td>3</td>\n",
       "    </tr>\n",
       "    <tr>\n",
       "      <th>50205</th>\n",
       "      <td>1</td>\n",
       "      <td>0</td>\n",
       "      <td>1</td>\n",
       "      <td>0</td>\n",
       "      <td>0</td>\n",
       "      <td>0</td>\n",
       "      <td>0</td>\n",
       "      <td>2</td>\n",
       "    </tr>\n",
       "  </tbody>\n",
       "</table>\n",
       "<p>49975 rows × 8 columns</p>\n",
       "</div>"
      ],
      "text/plain": [
       "       mon  tues  wed  thurs  fri  sat  sun  days_per_week\n",
       "0        0     0    0      0    0    0    0              0\n",
       "1        0     1    0      1    0    0    0              2\n",
       "2        0     1    0      1    0    0    0              2\n",
       "3        1     0    1      0    1    0    0              3\n",
       "4        1     0    1      0    1    0    0              3\n",
       "...    ...   ...  ...    ...  ...  ...  ...            ...\n",
       "50201    1     1    0      0    1    0    0              3\n",
       "50202    1     1    0      0    1    0    0              3\n",
       "50203    1     1    0      0    1    0    0              3\n",
       "50204    1     1    0      0    1    0    0              3\n",
       "50205    1     0    1      0    0    0    0              2\n",
       "\n",
       "[49975 rows x 8 columns]"
      ]
     },
     "execution_count": 127,
     "metadata": {},
     "output_type": "execute_result"
    }
   ],
   "source": [
    "# make new column\n",
    "df['days_per_week'] = (df['mon'] + df['tues'] + df['wed'] +\n",
    "                       df['thurs'] + df['fri'] + df['sat'] +\n",
    "                       df['sun'])\n",
    "\n",
    "# check\n",
    "df[['mon', 'tues', 'wed', 'thurs', 'fri', 'sat', 'sun', 'days_per_week']]"
   ]
  },
  {
   "cell_type": "code",
   "execution_count": 128,
   "id": "4656b929",
   "metadata": {},
   "outputs": [
    {
     "data": {
      "text/html": [
       "<div>\n",
       "<style scoped>\n",
       "    .dataframe tbody tr th:only-of-type {\n",
       "        vertical-align: middle;\n",
       "    }\n",
       "\n",
       "    .dataframe tbody tr th {\n",
       "        vertical-align: top;\n",
       "    }\n",
       "\n",
       "    .dataframe thead th {\n",
       "        text-align: right;\n",
       "    }\n",
       "</style>\n",
       "<table border=\"1\" class=\"dataframe\">\n",
       "  <thead>\n",
       "    <tr style=\"text-align: right;\">\n",
       "      <th></th>\n",
       "      <th>mon</th>\n",
       "      <th>tues</th>\n",
       "      <th>wed</th>\n",
       "      <th>thurs</th>\n",
       "      <th>fri</th>\n",
       "      <th>sat</th>\n",
       "      <th>sun</th>\n",
       "      <th>days_per_week</th>\n",
       "    </tr>\n",
       "  </thead>\n",
       "  <tbody>\n",
       "    <tr>\n",
       "      <th>0</th>\n",
       "      <td></td>\n",
       "      <td></td>\n",
       "      <td></td>\n",
       "      <td></td>\n",
       "      <td></td>\n",
       "      <td></td>\n",
       "      <td></td>\n",
       "      <td>0</td>\n",
       "    </tr>\n",
       "    <tr>\n",
       "      <th>1</th>\n",
       "      <td></td>\n",
       "      <td>T</td>\n",
       "      <td></td>\n",
       "      <td>R</td>\n",
       "      <td></td>\n",
       "      <td></td>\n",
       "      <td></td>\n",
       "      <td>2</td>\n",
       "    </tr>\n",
       "    <tr>\n",
       "      <th>2</th>\n",
       "      <td></td>\n",
       "      <td>T</td>\n",
       "      <td></td>\n",
       "      <td>R</td>\n",
       "      <td></td>\n",
       "      <td></td>\n",
       "      <td></td>\n",
       "      <td>2</td>\n",
       "    </tr>\n",
       "    <tr>\n",
       "      <th>3</th>\n",
       "      <td>M</td>\n",
       "      <td></td>\n",
       "      <td>W</td>\n",
       "      <td></td>\n",
       "      <td>F</td>\n",
       "      <td></td>\n",
       "      <td></td>\n",
       "      <td>3</td>\n",
       "    </tr>\n",
       "    <tr>\n",
       "      <th>4</th>\n",
       "      <td>M</td>\n",
       "      <td></td>\n",
       "      <td>W</td>\n",
       "      <td></td>\n",
       "      <td>F</td>\n",
       "      <td></td>\n",
       "      <td></td>\n",
       "      <td>3</td>\n",
       "    </tr>\n",
       "    <tr>\n",
       "      <th>...</th>\n",
       "      <td>...</td>\n",
       "      <td>...</td>\n",
       "      <td>...</td>\n",
       "      <td>...</td>\n",
       "      <td>...</td>\n",
       "      <td>...</td>\n",
       "      <td>...</td>\n",
       "      <td>...</td>\n",
       "    </tr>\n",
       "    <tr>\n",
       "      <th>50201</th>\n",
       "      <td>M</td>\n",
       "      <td>T</td>\n",
       "      <td></td>\n",
       "      <td></td>\n",
       "      <td>F</td>\n",
       "      <td></td>\n",
       "      <td></td>\n",
       "      <td>3</td>\n",
       "    </tr>\n",
       "    <tr>\n",
       "      <th>50202</th>\n",
       "      <td>M</td>\n",
       "      <td>T</td>\n",
       "      <td></td>\n",
       "      <td></td>\n",
       "      <td>F</td>\n",
       "      <td></td>\n",
       "      <td></td>\n",
       "      <td>3</td>\n",
       "    </tr>\n",
       "    <tr>\n",
       "      <th>50203</th>\n",
       "      <td>M</td>\n",
       "      <td>T</td>\n",
       "      <td></td>\n",
       "      <td></td>\n",
       "      <td>F</td>\n",
       "      <td></td>\n",
       "      <td></td>\n",
       "      <td>3</td>\n",
       "    </tr>\n",
       "    <tr>\n",
       "      <th>50204</th>\n",
       "      <td>M</td>\n",
       "      <td>T</td>\n",
       "      <td></td>\n",
       "      <td></td>\n",
       "      <td>F</td>\n",
       "      <td></td>\n",
       "      <td></td>\n",
       "      <td>3</td>\n",
       "    </tr>\n",
       "    <tr>\n",
       "      <th>50205</th>\n",
       "      <td>M</td>\n",
       "      <td></td>\n",
       "      <td>W</td>\n",
       "      <td></td>\n",
       "      <td></td>\n",
       "      <td></td>\n",
       "      <td></td>\n",
       "      <td>2</td>\n",
       "    </tr>\n",
       "  </tbody>\n",
       "</table>\n",
       "<p>49975 rows × 8 columns</p>\n",
       "</div>"
      ],
      "text/plain": [
       "      mon tues wed thurs fri sat sun  days_per_week\n",
       "0                                                 0\n",
       "1            T         R                          2\n",
       "2            T         R                          2\n",
       "3       M        W         F                      3\n",
       "4       M        W         F                      3\n",
       "...    ..  ...  ..   ...  ..  ..  ..            ...\n",
       "50201   M    T             F                      3\n",
       "50202   M    T             F                      3\n",
       "50203   M    T             F                      3\n",
       "50204   M    T             F                      3\n",
       "50205   M        W                                2\n",
       "\n",
       "[49975 rows x 8 columns]"
      ]
     },
     "execution_count": 128,
     "metadata": {},
     "output_type": "execute_result"
    }
   ],
   "source": [
    "# change 1s and 0s to abbreviations\n",
    "\n",
    "# change 1s and 0s in days of week columns to abbreviations \n",
    "# (M, T, W, R, F, A, U)\n",
    "\n",
    "df['mon'].replace({1: 'M', 0: ''}, inplace = True)\n",
    "df['tues'].replace({1: 'T', 0: ''}, inplace = True)\n",
    "df['wed'].replace({1: 'W', 0: ''}, inplace = True)\n",
    "df['thurs'].replace({1: 'R', 0: ''}, inplace = True)\n",
    "df['fri'].replace({1: 'F', 0: ''}, inplace = True)\n",
    "df['sat'].replace({1: 'A', 0: ''}, inplace = True)\n",
    "df['sun'].replace({1: 'U', 0: ''}, inplace = True)\n",
    "\n",
    "# check\n",
    "df[['mon', 'tues', 'wed', 'thurs', 'fri', 'sat', 'sun', 'days_per_week']]"
   ]
  },
  {
   "cell_type": "code",
   "execution_count": 129,
   "id": "d3e0990c",
   "metadata": {},
   "outputs": [
    {
     "data": {
      "text/plain": [
       "TR         15477\n",
       "MWF         9313\n",
       "MW          7150\n",
       "            3899\n",
       "T           2485\n",
       "W           2334\n",
       "M           1985\n",
       "MTWR        1816\n",
       "R           1534\n",
       "MTWRF       1240\n",
       "F            893\n",
       "MTRF         870\n",
       "A            217\n",
       "MF           206\n",
       "WF           162\n",
       "MWR           88\n",
       "MTWF          69\n",
       "U             40\n",
       "MTR           31\n",
       "TRF           31\n",
       "TWRF          27\n",
       "MR            22\n",
       "FA            18\n",
       "MT            14\n",
       "WR            11\n",
       "MWRF           9\n",
       "MTF            7\n",
       "MRF            5\n",
       "TF             4\n",
       "RF             4\n",
       "MTW            3\n",
       "TWR            3\n",
       "TRA            2\n",
       "WRF            2\n",
       "TW             2\n",
       "MA             1\n",
       "MTWRFAU        1\n",
       "Name: schedule_days, dtype: int64"
      ]
     },
     "execution_count": 129,
     "metadata": {},
     "output_type": "execute_result"
    }
   ],
   "source": [
    "# concatenate days of week columns into one\n",
    "df['schedule_days'] = (df['mon'] + df['tues'] + df['wed'] + \n",
    "                       df['thurs'] + df['fri'] + df['sat'] + \n",
    "                       df['sun'])\n",
    "\n",
    "# check\n",
    "df['schedule_days'].value_counts()"
   ]
  },
  {
   "cell_type": "code",
   "execution_count": 130,
   "id": "7c7125e9",
   "metadata": {},
   "outputs": [
    {
     "data": {
      "text/plain": [
       "TR         15477\n",
       "MWF         9313\n",
       "MW          7150\n",
       "none        3899\n",
       "T           2485\n",
       "W           2334\n",
       "M           1985\n",
       "MTWR        1816\n",
       "R           1534\n",
       "MTWRF       1240\n",
       "F            893\n",
       "MTRF         870\n",
       "A            217\n",
       "MF           206\n",
       "WF           162\n",
       "MWR           88\n",
       "MTWF          69\n",
       "U             40\n",
       "MTR           31\n",
       "TRF           31\n",
       "TWRF          27\n",
       "MR            22\n",
       "FA            18\n",
       "MT            14\n",
       "WR            11\n",
       "MWRF           9\n",
       "MTF            7\n",
       "MRF            5\n",
       "TF             4\n",
       "RF             4\n",
       "MTW            3\n",
       "TWR            3\n",
       "TRA            2\n",
       "WRF            2\n",
       "TW             2\n",
       "MA             1\n",
       "MTWRFAU        1\n",
       "Name: schedule_days, dtype: int64"
      ]
     },
     "execution_count": 130,
     "metadata": {},
     "output_type": "execute_result"
    }
   ],
   "source": [
    "# replace '' with 'none'\n",
    "df['schedule_days'] = df['schedule_days'].apply(lambda x: 'none' \n",
    "                                                if x == '' \n",
    "                                                else x)\n",
    "\n",
    "# check\n",
    "df['schedule_days'].value_counts()"
   ]
  },
  {
   "cell_type": "code",
   "execution_count": 131,
   "id": "273fc0b3",
   "metadata": {},
   "outputs": [
    {
     "data": {
      "text/plain": [
       "TR       15477\n",
       "other    14136\n",
       "MWF       9313\n",
       "MW        7150\n",
       "none      3899\n",
       "Name: schedule_days, dtype: int64"
      ]
     },
     "execution_count": 131,
     "metadata": {},
     "output_type": "execute_result"
    }
   ],
   "source": [
    "# bin all schedules with fewer than 2500 values (5%) into 'other'\n",
    "\n",
    "df['schedule_days'] = df['schedule_days'].apply(lambda x: x \n",
    "                                                if x in ['TR', 'MWF', \n",
    "                                                         'MW', 'none']\n",
    "                                                else 'other')\n",
    "\n",
    "# check\n",
    "df['schedule_days'].value_counts()"
   ]
  },
  {
   "cell_type": "code",
   "execution_count": 132,
   "id": "bf329a60",
   "metadata": {},
   "outputs": [
    {
     "data": {
      "text/plain": [
       "Index(['section_type', 'instructor_id', 'facility_code', 'start_time',\n",
       "       'subject_name', 'course_name', 'num_all_grades', 'avg_letter_grade',\n",
       "       'year', 'term', 'class_length', 'course_difficulty', 'days_per_week',\n",
       "       'schedule_days'],\n",
       "      dtype='object')"
      ]
     },
     "execution_count": 132,
     "metadata": {},
     "output_type": "execute_result"
    }
   ],
   "source": [
    "# drop original columns\n",
    "df.drop(columns = ['mon', 'tues', 'wed', 'thurs', 'fri', 'sat', 'sun'], \n",
    "        inplace = True)\n",
    "\n",
    "# check\n",
    "df.columns"
   ]
  },
  {
   "cell_type": "code",
   "execution_count": 133,
   "id": "c2021b75",
   "metadata": {},
   "outputs": [
    {
     "name": "stdout",
     "output_type": "stream",
     "text": [
      "section_type\n",
      "lec    39610\n",
      "lab     4852\n",
      "sem     2603\n",
      "ind     2055\n",
      "fld      592\n",
      "dis      263\n",
      "Name: section_type, dtype: int64\n",
      "\n",
      "instructor_id\n",
      "other        44376\n",
      "2601912.0      137\n",
      "566960.0       132\n",
      "496397.0       106\n",
      "2601706.0       85\n",
      "             ...  \n",
      "631912.0        39\n",
      "2600197.0       39\n",
      "2600012.0       39\n",
      "315329.0        39\n",
      "3659559.0       38\n",
      "Name: instructor_id, Length: 107, dtype: int64\n",
      "\n",
      "facility_code\n",
      "0482     7457\n",
      "0469     4589\n",
      "0140     3449\n",
      "0408     2538\n",
      "0545     2338\n",
      "         ... \n",
      "0782        1\n",
      "0092d       1\n",
      "1400k       1\n",
      "0033        1\n",
      "0084b       1\n",
      "Name: facility_code, Length: 120, dtype: int64\n",
      "\n",
      "start_time\n",
      "afternoon or evening    24362\n",
      "morning                 21693\n",
      "none                     3920\n",
      "Name: start_time, dtype: int64\n",
      "\n",
      "subject_name\n",
      "spanish (spanish and portuguese)                 2965\n",
      "english                                          2963\n",
      "communication arts                               1905\n",
      "art department                                   1779\n",
      "mathematics                                      1757\n",
      "                                                 ... \n",
      "human oncology                                      2\n",
      "pharmacy                                            2\n",
      "animal health and biomedical sciences               2\n",
      "agroecology                                         1\n",
      "molecular and environmental toxicology center       1\n",
      "Name: subject_name, Length: 180, dtype: int64\n",
      "\n",
      "course_name\n",
      "other                                                                 34129\n",
      "introduction to speech composition                                      995\n",
      "special topics                                                          809\n",
      "freshman composition                                                    650\n",
      "directed study                                                          483\n",
      "                                                                      ...  \n",
      "beginning class piano                                                    62\n",
      "human resources develop: awareness processes-cnsl&guid perspective       62\n",
      "practice i: foundations of generalist practice                           62\n",
      "introductory ethics                                                      62\n",
      "ensemble-brass                                                           62\n",
      "Name: course_name, Length: 104, dtype: int64\n",
      "\n",
      "num_all_grades\n",
      "medium    20701\n",
      "small     17024\n",
      "large     12250\n",
      "Name: num_all_grades, dtype: int64\n",
      "\n",
      "year\n",
      "7     4769\n",
      "8     4606\n",
      "11    4583\n",
      "10    4566\n",
      "9     4561\n",
      "14    4540\n",
      "13    4515\n",
      "15    4488\n",
      "16    4431\n",
      "17    4342\n",
      "12    2321\n",
      "18    2253\n",
      "Name: year, dtype: int64\n",
      "\n",
      "term\n",
      "fall      28029\n",
      "spring    21946\n",
      "Name: term, dtype: int64\n",
      "\n",
      "class_length\n",
      "longer     25813\n",
      "shorter    24162\n",
      "Name: class_length, dtype: int64\n",
      "\n",
      "course_difficulty\n",
      "elementary      19888\n",
      "intermediate    18635\n",
      "advanced        11452\n",
      "Name: course_difficulty, dtype: int64\n",
      "\n",
      "schedule_days\n",
      "TR       15477\n",
      "other    14136\n",
      "MWF       9313\n",
      "MW        7150\n",
      "none      3899\n",
      "Name: schedule_days, dtype: int64\n",
      "\n"
     ]
    }
   ],
   "source": [
    "# drop categorical columns with high number of unique values\n",
    "# and take away values in categorical columns that represent less than 5%\n",
    "# (about 2500 rows)\n",
    "\n",
    "cat_df = df.select_dtypes(include = 'object')\n",
    "\n",
    "for col in cat_df.columns:\n",
    "    print(col)\n",
    "    print(df[col].value_counts())\n",
    "    print()"
   ]
  },
  {
   "cell_type": "code",
   "execution_count": 134,
   "id": "fcf2d680",
   "metadata": {},
   "outputs": [
    {
     "data": {
      "text/plain": [
       "lec      39610\n",
       "lab       4852\n",
       "sem       2603\n",
       "ind       2055\n",
       "other      855\n",
       "Name: section_type, dtype: int64"
      ]
     },
     "execution_count": 134,
     "metadata": {},
     "output_type": "execute_result"
    }
   ],
   "source": [
    "# section type\n",
    "df['section_type'] = df['section_type'].apply(lambda x: 'other' \n",
    "                                             if x in ['fld', 'dis']\n",
    "                                             else x)\n",
    "\n",
    "df['section_type'].value_counts()"
   ]
  },
  {
   "cell_type": "code",
   "execution_count": 135,
   "id": "3acdbe1d",
   "metadata": {},
   "outputs": [
    {
     "data": {
      "text/plain": [
       "other    31942\n",
       "0482      7457\n",
       "0469      4589\n",
       "0140      3449\n",
       "0408      2538\n",
       "Name: facility_code, dtype: int64"
      ]
     },
     "execution_count": 135,
     "metadata": {},
     "output_type": "execute_result"
    }
   ],
   "source": [
    "# facility code\n",
    "df['facility_code'] = df['facility_code'].apply(lambda x: 'other'\n",
    "                                               if x not in ['0482', '0469', \n",
    "                                                            '0140', '0408']\n",
    "                                               else x)\n",
    "\n",
    "df['facility_code'].value_counts()"
   ]
  },
  {
   "cell_type": "code",
   "execution_count": 136,
   "id": "cd214f84",
   "metadata": {},
   "outputs": [
    {
     "data": {
      "text/plain": [
       "other                               44047\n",
       "spanish (spanish and portuguese)     2965\n",
       "english                              2963\n",
       "Name: subject_name, dtype: int64"
      ]
     },
     "execution_count": 136,
     "metadata": {},
     "output_type": "execute_result"
    }
   ],
   "source": [
    "# subject name\n",
    "df['subject_name'] = df['subject_name'].apply(lambda x: 'other'\n",
    "                                             if x not in ['spanish (spanish and portuguese)', 'english']\n",
    "                                             else x)\n",
    "\n",
    "df['subject_name'].value_counts()"
   ]
  },
  {
   "cell_type": "code",
   "execution_count": 137,
   "id": "f31a6c7d",
   "metadata": {},
   "outputs": [],
   "source": [
    "df.drop(columns = ['instructor_id', 'course_name'], inplace = True)"
   ]
  },
  {
   "cell_type": "code",
   "execution_count": 138,
   "id": "873db91f",
   "metadata": {},
   "outputs": [
    {
     "name": "stdout",
     "output_type": "stream",
     "text": [
      "section_type\n",
      "lec      39610\n",
      "lab       4852\n",
      "sem       2603\n",
      "ind       2055\n",
      "other      855\n",
      "Name: section_type, dtype: int64\n",
      "\n",
      "facility_code\n",
      "other    31942\n",
      "0482      7457\n",
      "0469      4589\n",
      "0140      3449\n",
      "0408      2538\n",
      "Name: facility_code, dtype: int64\n",
      "\n",
      "start_time\n",
      "afternoon or evening    24362\n",
      "morning                 21693\n",
      "none                     3920\n",
      "Name: start_time, dtype: int64\n",
      "\n",
      "subject_name\n",
      "other                               44047\n",
      "spanish (spanish and portuguese)     2965\n",
      "english                              2963\n",
      "Name: subject_name, dtype: int64\n",
      "\n",
      "num_all_grades\n",
      "medium    20701\n",
      "small     17024\n",
      "large     12250\n",
      "Name: num_all_grades, dtype: int64\n",
      "\n",
      "year\n",
      "7     4769\n",
      "8     4606\n",
      "11    4583\n",
      "10    4566\n",
      "9     4561\n",
      "14    4540\n",
      "13    4515\n",
      "15    4488\n",
      "16    4431\n",
      "17    4342\n",
      "12    2321\n",
      "18    2253\n",
      "Name: year, dtype: int64\n",
      "\n",
      "term\n",
      "fall      28029\n",
      "spring    21946\n",
      "Name: term, dtype: int64\n",
      "\n",
      "class_length\n",
      "longer     25813\n",
      "shorter    24162\n",
      "Name: class_length, dtype: int64\n",
      "\n",
      "course_difficulty\n",
      "elementary      19888\n",
      "intermediate    18635\n",
      "advanced        11452\n",
      "Name: course_difficulty, dtype: int64\n",
      "\n",
      "schedule_days\n",
      "TR       15477\n",
      "other    14136\n",
      "MWF       9313\n",
      "MW        7150\n",
      "none      3899\n",
      "Name: schedule_days, dtype: int64\n",
      "\n"
     ]
    }
   ],
   "source": [
    "# check modified cat_cols\n",
    "\n",
    "cat_df = df.select_dtypes(include = 'object')\n",
    "\n",
    "for col in cat_df.columns:\n",
    "    print(col)\n",
    "    print(df[col].value_counts())\n",
    "    print()"
   ]
  },
  {
   "cell_type": "code",
   "execution_count": 139,
   "id": "9c242167",
   "metadata": {},
   "outputs": [
    {
     "data": {
      "image/png": "[encoded data removed]",
      "text/plain": [
       "<Figure size 1000x1500 with 4 Axes>"
      ]
     },
     "metadata": {},
     "output_type": "display_data"
    }
   ],
   "source": [
    "# take out outliers from numeric columns\n",
    "\n",
    "num_df = df.select_dtypes(include = 'number')\n",
    "\n",
    "fig, axes = plt.subplots(nrows = len(num_df.columns), \n",
    "                         ncols = 2, \n",
    "                         figsize = (10, 15))\n",
    "\n",
    "for i, col in enumerate(num_df):\n",
    "\n",
    "    axes[i][0].hist(df[col], bins = 30)\n",
    "    axes[i][0].set_title(f\"{col} histogram\")\n",
    "    \n",
    "    axes[i][1].boxplot(df[col])\n",
    "    axes[i][1].set_title(f\"{col} boxplot\")\n",
    "\n",
    "plt.tight_layout()"
   ]
  },
  {
   "cell_type": "code",
   "execution_count": 140,
   "id": "e8de6934",
   "metadata": {},
   "outputs": [
    {
     "data": {
      "text/plain": [
       "1"
      ]
     },
     "execution_count": 140,
     "metadata": {},
     "output_type": "execute_result"
    }
   ],
   "source": [
    "len(df[df['days_per_week'] == 7])"
   ]
  },
  {
   "cell_type": "code",
   "execution_count": 141,
   "id": "0cc671cc",
   "metadata": {},
   "outputs": [],
   "source": [
    "df = df[df['days_per_week'] != 7]"
   ]
  },
  {
   "cell_type": "code",
   "execution_count": 142,
   "id": "e9b8a49e",
   "metadata": {},
   "outputs": [
    {
     "data": {
      "text/plain": [
       "count    49974.000000\n",
       "mean         2.030036\n",
       "std          1.066570\n",
       "min          0.000000\n",
       "25%          1.000000\n",
       "50%          2.000000\n",
       "75%          3.000000\n",
       "max          5.000000\n",
       "Name: days_per_week, dtype: float64"
      ]
     },
     "execution_count": 142,
     "metadata": {},
     "output_type": "execute_result"
    }
   ],
   "source": [
    "df['days_per_week'].describe()"
   ]
  },
  {
   "cell_type": "markdown",
   "id": "0f953b7f",
   "metadata": {},
   "source": [
    "# Preprocessing"
   ]
  },
  {
   "cell_type": "code",
   "execution_count": 153,
   "id": "24a4115b",
   "metadata": {},
   "outputs": [],
   "source": [
    "target = 'avg_letter_grade'\n",
    "y = df[target]\n",
    "X = df.drop(columns = target)"
   ]
  },
  {
   "cell_type": "code",
   "execution_count": 154,
   "id": "ab33a8f3",
   "metadata": {},
   "outputs": [],
   "source": [
    "X_train, X_test, y_train, y_test = train_test_split(X, y, random_state = 42)"
   ]
  },
  {
   "cell_type": "code",
   "execution_count": 144,
   "id": "7f2731d5",
   "metadata": {},
   "outputs": [
    {
     "data": {
      "text/plain": [
       "4272"
      ]
     },
     "execution_count": 144,
     "metadata": {},
     "output_type": "execute_result"
    }
   ],
   "source": [
    "df.duplicated().sum()"
   ]
  },
  {
   "cell_type": "code",
   "execution_count": 145,
   "id": "6af3b76a",
   "metadata": {},
   "outputs": [
    {
     "data": {
      "text/plain": [
       "0"
      ]
     },
     "execution_count": 145,
     "metadata": {},
     "output_type": "execute_result"
    }
   ],
   "source": [
    "df.drop_duplicates(inplace = True)\n",
    "\n",
    "df.duplicated().sum()"
   ]
  },
  {
   "cell_type": "code",
   "execution_count": 146,
   "id": "1cc8a4dd",
   "metadata": {},
   "outputs": [
    {
     "data": {
      "text/plain": [
       "section_type           0\n",
       "facility_code          0\n",
       "start_time             0\n",
       "subject_name           0\n",
       "num_all_grades         0\n",
       "avg_letter_grade     449\n",
       "year                   0\n",
       "term                   0\n",
       "class_length           0\n",
       "course_difficulty      0\n",
       "days_per_week          0\n",
       "schedule_days          0\n",
       "dtype: int64"
      ]
     },
     "execution_count": 146,
     "metadata": {},
     "output_type": "execute_result"
    }
   ],
   "source": [
    "df.isna().sum()"
   ]
  },
  {
   "cell_type": "code",
   "execution_count": 148,
   "id": "1b93cb78",
   "metadata": {},
   "outputs": [
    {
     "data": {
      "text/plain": [
       "section_type         0\n",
       "facility_code        0\n",
       "start_time           0\n",
       "subject_name         0\n",
       "num_all_grades       0\n",
       "avg_letter_grade     0\n",
       "year                 0\n",
       "term                 0\n",
       "class_length         0\n",
       "course_difficulty    0\n",
       "days_per_week        0\n",
       "schedule_days        0\n",
       "dtype: int64"
      ]
     },
     "execution_count": 148,
     "metadata": {},
     "output_type": "execute_result"
    }
   ],
   "source": [
    "df.dropna(inplace = True)\n",
    "\n",
    "df.isna().sum()"
   ]
  },
  {
   "cell_type": "code",
   "execution_count": 143,
   "id": "fd6b260f",
   "metadata": {},
   "outputs": [
    {
     "data": {
      "text/plain": [
       "Index(['section_type', 'facility_code', 'start_time', 'subject_name',\n",
       "       'num_all_grades', 'avg_letter_grade', 'year', 'term', 'class_length',\n",
       "       'course_difficulty', 'days_per_week', 'schedule_days'],\n",
       "      dtype='object')"
      ]
     },
     "execution_count": 143,
     "metadata": {},
     "output_type": "execute_result"
    }
   ],
   "source": [
    "df.columns"
   ]
  },
  {
   "cell_type": "code",
   "execution_count": 149,
   "id": "b3054c31",
   "metadata": {},
   "outputs": [],
   "source": [
    "# ohe\n",
    "\n",
    "ohe_cols = ['section_type', 'facility_code', 'start_time', 'subject_name',\n",
    "           'num_all_grades', 'year', 'term', 'class_length', \n",
    "           'course_difficulty', 'schedule_days']\n",
    "\n",
    "ohe = OneHotEncoder(handle_unknown = 'ignore',\n",
    "                   sparse = False)\n",
    "\n",
    "ohe_tuple = (ohe, ohe_cols)"
   ]
  },
  {
   "cell_type": "code",
   "execution_count": 150,
   "id": "7834d793",
   "metadata": {},
   "outputs": [],
   "source": [
    "# scale\n",
    "\n",
    "scale_cols = ['days_per_week']\n",
    "\n",
    "scaler = StandardScaler()\n",
    "\n",
    "scale_tuple = (scaler, scale_cols)"
   ]
  },
  {
   "cell_type": "code",
   "execution_count": 152,
   "id": "2d380e0c",
   "metadata": {},
   "outputs": [
    {
     "data": {
      "text/html": [
       "<style>#sk-container-id-1 {color: black;background-color: white;}#sk-container-id-1 pre{padding: 0;}#sk-container-id-1 div.sk-toggleable {background-color: white;}#sk-container-id-1 label.sk-toggleable__label {cursor: pointer;display: block;width: 100%;margin-bottom: 0;padding: 0.3em;box-sizing: border-box;text-align: center;}#sk-container-id-1 label.sk-toggleable__label-arrow:before {content: \"▸\";float: left;margin-right: 0.25em;color: #696969;}#sk-container-id-1 label.sk-toggleable__label-arrow:hover:before {color: black;}#sk-container-id-1 div.sk-estimator:hover label.sk-toggleable__label-arrow:before {color: black;}#sk-container-id-1 div.sk-toggleable__content {max-height: 0;max-width: 0;overflow: hidden;text-align: left;background-color: #f0f8ff;}#sk-container-id-1 div.sk-toggleable__content pre {margin: 0.2em;color: black;border-radius: 0.25em;background-color: #f0f8ff;}#sk-container-id-1 input.sk-toggleable__control:checked~div.sk-toggleable__content {max-height: 200px;max-width: 100%;overflow: auto;}#sk-container-id-1 input.sk-toggleable__control:checked~label.sk-toggleable__label-arrow:before {content: \"▾\";}#sk-container-id-1 div.sk-estimator input.sk-toggleable__control:checked~label.sk-toggleable__label {background-color: #d4ebff;}#sk-container-id-1 div.sk-label input.sk-toggleable__control:checked~label.sk-toggleable__label {background-color: #d4ebff;}#sk-container-id-1 input.sk-hidden--visually {border: 0;clip: rect(1px 1px 1px 1px);clip: rect(1px, 1px, 1px, 1px);height: 1px;margin: -1px;overflow: hidden;padding: 0;position: absolute;width: 1px;}#sk-container-id-1 div.sk-estimator {font-family: monospace;background-color: #f0f8ff;border: 1px dotted black;border-radius: 0.25em;box-sizing: border-box;margin-bottom: 0.5em;}#sk-container-id-1 div.sk-estimator:hover {background-color: #d4ebff;}#sk-container-id-1 div.sk-parallel-item::after {content: \"\";width: 100%;border-bottom: 1px solid gray;flex-grow: 1;}#sk-container-id-1 div.sk-label:hover label.sk-toggleable__label {background-color: #d4ebff;}#sk-container-id-1 div.sk-serial::before {content: \"\";position: absolute;border-left: 1px solid gray;box-sizing: border-box;top: 0;bottom: 0;left: 50%;z-index: 0;}#sk-container-id-1 div.sk-serial {display: flex;flex-direction: column;align-items: center;background-color: white;padding-right: 0.2em;padding-left: 0.2em;position: relative;}#sk-container-id-1 div.sk-item {position: relative;z-index: 1;}#sk-container-id-1 div.sk-parallel {display: flex;align-items: stretch;justify-content: center;background-color: white;position: relative;}#sk-container-id-1 div.sk-item::before, #sk-container-id-1 div.sk-parallel-item::before {content: \"\";position: absolute;border-left: 1px solid gray;box-sizing: border-box;top: 0;bottom: 0;left: 50%;z-index: -1;}#sk-container-id-1 div.sk-parallel-item {display: flex;flex-direction: column;z-index: 1;position: relative;background-color: white;}#sk-container-id-1 div.sk-parallel-item:first-child::after {align-self: flex-end;width: 50%;}#sk-container-id-1 div.sk-parallel-item:last-child::after {align-self: flex-start;width: 50%;}#sk-container-id-1 div.sk-parallel-item:only-child::after {width: 0;}#sk-container-id-1 div.sk-dashed-wrapped {border: 1px dashed gray;margin: 0 0.4em 0.5em 0.4em;box-sizing: border-box;padding-bottom: 0.4em;background-color: white;}#sk-container-id-1 div.sk-label label {font-family: monospace;font-weight: bold;display: inline-block;line-height: 1.2em;}#sk-container-id-1 div.sk-label-container {text-align: center;}#sk-container-id-1 div.sk-container {/* jupyter's `normalize.less` sets `[hidden] { display: none; }` but bootstrap.min.css set `[hidden] { display: none !important; }` so we also need the `!important` here to be able to override the default hidden behavior on the sphinx rendered scikit-learn.org. See: https://github.com/scikit-learn/scikit-learn/issues/21755 */display: inline-block !important;position: relative;}#sk-container-id-1 div.sk-text-repr-fallback {display: none;}</style><div id=\"sk-container-id-1\" class=\"sk-top-container\"><div class=\"sk-text-repr-fallback\"><pre>ColumnTransformer(transformers=[(&#x27;onehotencoder&#x27;,\n",
       "                                 OneHotEncoder(handle_unknown=&#x27;ignore&#x27;,\n",
       "                                               sparse=False),\n",
       "                                 [&#x27;section_type&#x27;, &#x27;facility_code&#x27;, &#x27;start_time&#x27;,\n",
       "                                  &#x27;subject_name&#x27;, &#x27;num_all_grades&#x27;, &#x27;year&#x27;,\n",
       "                                  &#x27;term&#x27;, &#x27;class_length&#x27;, &#x27;course_difficulty&#x27;,\n",
       "                                  &#x27;schedule_days&#x27;]),\n",
       "                                (&#x27;standardscaler&#x27;, StandardScaler(),\n",
       "                                 [&#x27;days_per_week&#x27;])])</pre><b>In a Jupyter environment, please rerun this cell to show the HTML representation or trust the notebook. <br />On GitHub, the HTML representation is unable to render, please try loading this page with nbviewer.org.</b></div><div class=\"sk-container\" hidden><div class=\"sk-item sk-dashed-wrapped\"><div class=\"sk-label-container\"><div class=\"sk-label sk-toggleable\"><input class=\"sk-toggleable__control sk-hidden--visually\" id=\"sk-estimator-id-1\" type=\"checkbox\" ><label for=\"sk-estimator-id-1\" class=\"sk-toggleable__label sk-toggleable__label-arrow\">ColumnTransformer</label><div class=\"sk-toggleable__content\"><pre>ColumnTransformer(transformers=[(&#x27;onehotencoder&#x27;,\n",
       "                                 OneHotEncoder(handle_unknown=&#x27;ignore&#x27;,\n",
       "                                               sparse=False),\n",
       "                                 [&#x27;section_type&#x27;, &#x27;facility_code&#x27;, &#x27;start_time&#x27;,\n",
       "                                  &#x27;subject_name&#x27;, &#x27;num_all_grades&#x27;, &#x27;year&#x27;,\n",
       "                                  &#x27;term&#x27;, &#x27;class_length&#x27;, &#x27;course_difficulty&#x27;,\n",
       "                                  &#x27;schedule_days&#x27;]),\n",
       "                                (&#x27;standardscaler&#x27;, StandardScaler(),\n",
       "                                 [&#x27;days_per_week&#x27;])])</pre></div></div></div><div class=\"sk-parallel\"><div class=\"sk-parallel-item\"><div class=\"sk-item\"><div class=\"sk-label-container\"><div class=\"sk-label sk-toggleable\"><input class=\"sk-toggleable__control sk-hidden--visually\" id=\"sk-estimator-id-2\" type=\"checkbox\" ><label for=\"sk-estimator-id-2\" class=\"sk-toggleable__label sk-toggleable__label-arrow\">onehotencoder</label><div class=\"sk-toggleable__content\"><pre>[&#x27;section_type&#x27;, &#x27;facility_code&#x27;, &#x27;start_time&#x27;, &#x27;subject_name&#x27;, &#x27;num_all_grades&#x27;, &#x27;year&#x27;, &#x27;term&#x27;, &#x27;class_length&#x27;, &#x27;course_difficulty&#x27;, &#x27;schedule_days&#x27;]</pre></div></div></div><div class=\"sk-serial\"><div class=\"sk-item\"><div class=\"sk-estimator sk-toggleable\"><input class=\"sk-toggleable__control sk-hidden--visually\" id=\"sk-estimator-id-3\" type=\"checkbox\" ><label for=\"sk-estimator-id-3\" class=\"sk-toggleable__label sk-toggleable__label-arrow\">OneHotEncoder</label><div class=\"sk-toggleable__content\"><pre>OneHotEncoder(handle_unknown=&#x27;ignore&#x27;, sparse=False)</pre></div></div></div></div></div></div><div class=\"sk-parallel-item\"><div class=\"sk-item\"><div class=\"sk-label-container\"><div class=\"sk-label sk-toggleable\"><input class=\"sk-toggleable__control sk-hidden--visually\" id=\"sk-estimator-id-4\" type=\"checkbox\" ><label for=\"sk-estimator-id-4\" class=\"sk-toggleable__label sk-toggleable__label-arrow\">standardscaler</label><div class=\"sk-toggleable__content\"><pre>[&#x27;days_per_week&#x27;]</pre></div></div></div><div class=\"sk-serial\"><div class=\"sk-item\"><div class=\"sk-estimator sk-toggleable\"><input class=\"sk-toggleable__control sk-hidden--visually\" id=\"sk-estimator-id-5\" type=\"checkbox\" ><label for=\"sk-estimator-id-5\" class=\"sk-toggleable__label sk-toggleable__label-arrow\">StandardScaler</label><div class=\"sk-toggleable__content\"><pre>StandardScaler()</pre></div></div></div></div></div></div></div></div></div></div>"
      ],
      "text/plain": [
       "ColumnTransformer(transformers=[('onehotencoder',\n",
       "                                 OneHotEncoder(handle_unknown='ignore',\n",
       "                                               sparse=False),\n",
       "                                 ['section_type', 'facility_code', 'start_time',\n",
       "                                  'subject_name', 'num_all_grades', 'year',\n",
       "                                  'term', 'class_length', 'course_difficulty',\n",
       "                                  'schedule_days']),\n",
       "                                ('standardscaler', StandardScaler(),\n",
       "                                 ['days_per_week'])])"
      ]
     },
     "execution_count": 152,
     "metadata": {},
     "output_type": "execute_result"
    }
   ],
   "source": [
    "preprocessor = make_column_transformer(ohe_tuple,\n",
    "                                      scale_tuple,\n",
    "                                      remainder = 'drop')\n",
    "\n",
    "preprocessor"
   ]
  },
  {
   "cell_type": "markdown",
   "id": "f75b9621",
   "metadata": {},
   "source": [
    "# Modeling"
   ]
  },
  {
   "cell_type": "code",
   "execution_count": 110,
   "id": "613d2214",
   "metadata": {},
   "outputs": [
    {
     "data": {
      "text/plain": [
       "(0, 0)"
      ]
     },
     "execution_count": 110,
     "metadata": {},
     "output_type": "execute_result"
    }
   ],
   "source": [
    "# create dataframe to save evaluation metrics\n",
    "regression_metrics_df = pd.DataFrame()\n",
    "\n",
    "# check\n",
    "regression_metrics_df.shape"
   ]
  },
  {
   "cell_type": "code",
   "execution_count": 111,
   "id": "6dbf2129",
   "metadata": {},
   "outputs": [],
   "source": [
    "# define function that will print regression metrics 9for current model, and \n",
    "# store metrics in regression_metrics_df along with all other models' metrics\n",
    "# for easy viewing\n",
    "\n",
    "def evaluate_regression(model_pipe, X_train, X_test, y_train, y_test, name):\n",
    "    \n",
    "    # calculate predictions\n",
    "    train_pred = model_pipe.predict(X_train)\n",
    "    test_pred = model_pipe.predict(X_test)\n",
    "\n",
    "    # store scores\n",
    "    regression_metrics_df.at[name, 'Train R2'] = \\\n",
    "        r2_score(y_train, train_pred) \n",
    "    \n",
    "    regression_metrics_df.at[name, 'Test R2'] = \\\n",
    "        r2_score(y_test, test_pred)\n",
    "        \n",
    "    regression_metrics_df.at[name, 'Train MAE'] = \\\n",
    "        mean_absolute_error(y_train, train_pred)\n",
    "    \n",
    "    regression_metrics_df.at[name, 'Test MAE'] = \\\n",
    "        mean_absolute_error(y_test, test_pred)\n",
    "    \n",
    "    regression_metrics_df.at[name, 'Train MAPE'] = \\\n",
    "        mean_absolute_percentage_error(y_train, train_pred)\n",
    "    \n",
    "    regression_metrics_df.at[name, 'Test MAPE'] = \\\n",
    "        mean_absolute_percentage_error(y_test, test_pred)\n",
    "    \n",
    "    regression_metrics_df.at[name, 'Train RMSE'] = \\\n",
    "        np.sqrt(mean_squared_error(y_train, train_pred))\n",
    "    \n",
    "    regression_metrics_df.at[name, 'Test RMSE'] = \\\n",
    "        np.sqrt(mean_squared_error(y_test, test_pred))\n",
    "  \n",
    "    # show scores for this model only (can call regression_metrics_df to \n",
    "    # see all scores)\n",
    "    print(regression_metrics_df.loc[name, :])"
   ]
  },
  {
   "cell_type": "code",
   "execution_count": null,
   "id": "b8b93a81",
   "metadata": {},
   "outputs": [],
   "source": [
    "# baggingregressor\n",
    "# kneighborsregressor\n",
    "# randomforestregressor\n",
    "# adaboost\n",
    "# gradientboostingregressor\n",
    "# votingregressor\n",
    "# stackingregressor"
   ]
  },
  {
   "cell_type": "code",
   "execution_count": 155,
   "id": "94f2fe38",
   "metadata": {},
   "outputs": [
    {
     "name": "stdout",
     "output_type": "stream",
     "text": [
      "Train R2      5.513131e-01\n",
      "Test R2       2.900219e-01\n",
      "Train MAE     1.828058e-01\n",
      "Test MAE      2.403387e-01\n",
      "Train MAPE    5.495974e-02\n",
      "Test MAPE     1.451787e+12\n",
      "Train RMSE    2.454937e-01\n",
      "Test RMSE     3.126216e-01\n",
      "Name: Def BR, dtype: float64\n",
      "CPU times: total: 1.25 s\n",
      "Wall time: 1.25 s\n"
     ]
    }
   ],
   "source": [
    "%%time\n",
    "\n",
    "# bagging regressor\n",
    "\n",
    "def_br = BaggingRegressor(random_state = 42)\n",
    "\n",
    "def_br_pipe = make_pipeline(preprocessor, def_br)\n",
    "\n",
    "def_br_pipe.fit(X_train, y_train)\n",
    "\n",
    "evaluate_regression(def_br_pipe, X_train, X_test, y_train, y_test, \"Def BR\")"
   ]
  },
  {
   "cell_type": "code",
   "execution_count": 156,
   "id": "ccf3d9e2",
   "metadata": {},
   "outputs": [
    {
     "name": "stdout",
     "output_type": "stream",
     "text": [
      "Train R2      4.484587e-01\n",
      "Test R2       2.763767e-01\n",
      "Train MAE     2.092779e-01\n",
      "Test MAE      2.438251e-01\n",
      "Train MAPE    6.259437e-02\n",
      "Test MAPE     1.474551e+12\n",
      "Train RMSE    2.721810e-01\n",
      "Test RMSE     3.156115e-01\n",
      "Name: Def KNN, dtype: float64\n",
      "CPU times: total: 14 s\n",
      "Wall time: 1.29 s\n"
     ]
    }
   ],
   "source": [
    "%%time\n",
    "\n",
    "# kneighborsregressor\n",
    "\n",
    "def_kn = KNeighborsRegressor()\n",
    "\n",
    "def_kn_pipe = make_pipeline(preprocessor, def_kn)\n",
    "\n",
    "def_kn_pipe.fit(X_train, y_train)\n",
    "\n",
    "evaluate_regression(def_kn_pipe, X_train, X_test, y_train, y_test, \"Def KNN\")"
   ]
  },
  {
   "cell_type": "code",
   "execution_count": 157,
   "id": "65083dba",
   "metadata": {},
   "outputs": [
    {
     "name": "stdout",
     "output_type": "stream",
     "text": [
      "Train R2      3.507822e-01\n",
      "Test R2       3.597817e-01\n",
      "Train MAE     2.321435e-01\n",
      "Test MAE      2.336543e-01\n",
      "Train MAPE    6.991335e-02\n",
      "Test MAPE     1.479536e+12\n",
      "Train RMSE    2.953003e-01\n",
      "Test RMSE     2.968660e-01\n",
      "Name: Def GBR, dtype: float64\n",
      "CPU times: total: 3 s\n",
      "Wall time: 3 s\n"
     ]
    }
   ],
   "source": [
    "%%time\n",
    "\n",
    "# gradient boosting regressor\n",
    "\n",
    "def_gbr = GradientBoostingRegressor()\n",
    "\n",
    "def_gbr_pipe = make_pipeline(preprocessor, def_gbr)\n",
    "\n",
    "def_gbr_pipe.fit(X_train, y_train)\n",
    "\n",
    "evaluate_regression(def_gbr_pipe, X_train, X_test, y_train, y_test, \"Def GBR\")"
   ]
  },
  {
   "cell_type": "code",
   "execution_count": 158,
   "id": "e3923114",
   "metadata": {},
   "outputs": [
    {
     "name": "stdout",
     "output_type": "stream",
     "text": [
      "Train R2      5.631941e-01\n",
      "Test R2       3.020225e-01\n",
      "Train MAE     1.804271e-01\n",
      "Test MAE      2.382008e-01\n",
      "Train MAPE    5.428076e-02\n",
      "Test MAPE     1.448511e+12\n",
      "Train RMSE    2.422217e-01\n",
      "Test RMSE     3.099682e-01\n",
      "Name: Def RF, dtype: float64\n",
      "CPU times: total: 8.66 s\n",
      "Wall time: 8.65 s\n"
     ]
    }
   ],
   "source": [
    "%%time\n",
    "\n",
    "# random forest regressor\n",
    "\n",
    "def_rf = RandomForestRegressor()\n",
    "\n",
    "def_rf_pipe = make_pipeline(preprocessor, def_rf)\n",
    "\n",
    "def_rf_pipe.fit(X_train, y_train)\n",
    "\n",
    "evaluate_regression(def_rf_pipe, X_train, X_test, y_train, y_test, \"Def RF\")"
   ]
  },
  {
   "cell_type": "markdown",
   "id": "ab3a30f1",
   "metadata": {},
   "source": [
    "All of these Test R2 scores so far are much lower than the Test R2 scores before dropping/combining all values from categorical columns representing less than 5% of data and dropping columns with many unique values. "
   ]
  },
  {
   "cell_type": "code",
   "execution_count": null,
   "id": "723d3ee9",
   "metadata": {},
   "outputs": [],
   "source": []
  }
 ],
 "metadata": {
  "kernelspec": {
   "display_name": "Python (dojo-env)",
   "language": "python",
   "name": "dojo-env"
  },
  "language_info": {
   "codemirror_mode": {
    "name": "ipython",
    "version": 3
   },
   "file_extension": ".py",
   "mimetype": "text/x-python",
   "name": "python",
   "nbconvert_exporter": "python",
   "pygments_lexer": "ipython3",
   "version": "3.9.15"
  },
  "toc": {
   "base_numbering": 1,
   "nav_menu": {},
   "number_sections": false,
   "sideBar": true,
   "skip_h1_title": false,
   "title_cell": "Table of Contents",
   "title_sidebar": "Contents",
   "toc_cell": false,
   "toc_position": {},
   "toc_section_display": true,
   "toc_window_display": false
  }
 },
 "nbformat": 4,
 "nbformat_minor": 5
}

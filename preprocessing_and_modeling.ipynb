{
  "cells": [
    {
      "cell_type": "markdown",
      "metadata": {
        "id": "view-in-github",
        "colab_type": "text"
      },
      "source": [
        "<a href=\"https://colab.research.google.com/github/kellianneyang/grades-project/blob/main/preprocessing_and_modeling.ipynb\" target=\"_parent\"><img src=\"https://colab.research.google.com/assets/colab-badge.svg\" alt=\"Open In Colab\"/></a>"
      ]
    },
    {
      "cell_type": "markdown",
      "metadata": {
        "id": "4ooD9-6FNPnN"
      },
      "source": [
        "# **Grades Project: Preprocessing and Modeling**"
      ]
    },
    {
      "cell_type": "markdown",
      "metadata": {
        "id": "rqvwfHWjNXoN"
      },
      "source": [
        "# Preliminary Steps"
      ]
    },
    {
      "cell_type": "code",
      "execution_count": null,
      "metadata": {
        "id": "HtwimHjlNJJ0"
      },
      "outputs": [],
      "source": [
        "# import libraries\n",
        "import pandas as pd\n",
        "import numpy as np\n",
        "from sklearn.preprocessing import OneHotEncoder, StandardScaler\n",
        "from sklearn.impute import SimpleImputer\n",
        "from sklearn.pipeline import make_pipeline\n",
        "from sklearn.compose import make_column_transformer\n",
        "from sklearn.model_selection import train_test_split, GridSearchCV\n",
        "from sklearn.dummy import DummyRegressor\n",
        "import matplotlib.pyplot as plt\n",
        "from sklearn.metrics import r2_score, mean_absolute_error, mean_squared_error, \\\n",
        "mean_absolute_percentage_error\n",
        "from sklearn.linear_model import LinearRegression\n",
        "from sklearn.tree import DecisionTreeRegressor\n",
        "from sklearn.ensemble import BaggingRegressor, RandomForestRegressor, \\\n",
        "GradientBoostingRegressor\n",
        "from sklearn.neighbors import KNeighborsRegressor\n",
        "from lightgbm import LGBMRegressor\n",
        "from xgboost import XGBRegressor"
      ]
    },
    {
      "cell_type": "code",
      "execution_count": null,
      "metadata": {
        "colab": {
          "base_uri": "https://localhost:8080/"
        },
        "id": "1kbVcvsbNbAF",
        "outputId": "33b5ea27-a354-4e48-cac4-12c13a998000"
      },
      "outputs": [
        {
          "output_type": "stream",
          "name": "stdout",
          "text": [
            "Drive already mounted at /content/drive/; to attempt to forcibly remount, call drive.mount(\"/content/drive/\", force_remount=True).\n"
          ]
        }
      ],
      "source": [
        "# mount drive\n",
        "from google.colab import drive\n",
        "drive.mount('/content/drive/')"
      ]
    },
    {
      "cell_type": "code",
      "execution_count": null,
      "metadata": {
        "id": "TLiQuDcyNgAb"
      },
      "outputs": [],
      "source": [
        "# load data\n",
        "path = '/content/drive/MyDrive/Coding Dojo/Project 2: Grades/all_grades_data_cleaned.csv'\n",
        "df = pd.read_csv(path)"
      ]
    },
    {
      "cell_type": "code",
      "execution_count": null,
      "metadata": {
        "colab": {
          "base_uri": "https://localhost:8080/"
        },
        "id": "8DC6_JAWN0K1",
        "outputId": "d5d3e316-e0b9-4c0b-af55-e0452b51ec7a"
      },
      "outputs": [
        {
          "output_type": "stream",
          "name": "stdout",
          "text": [
            "<class 'pandas.core.frame.DataFrame'>\n",
            "RangeIndex: 49012 entries, 0 to 49011\n",
            "Data columns (total 20 columns):\n",
            " #   Column             Non-Null Count  Dtype  \n",
            "---  ------             --------------  -----  \n",
            " 0   section_type       49012 non-null  object \n",
            " 1   instructor_id      49012 non-null  object \n",
            " 2   facility_code      45521 non-null  object \n",
            " 3   start_time         49012 non-null  float64\n",
            " 4   mon                49012 non-null  bool   \n",
            " 5   tues               49012 non-null  bool   \n",
            " 6   wed                49012 non-null  bool   \n",
            " 7   thurs              49012 non-null  bool   \n",
            " 8   fri                49012 non-null  bool   \n",
            " 9   subject_name       49012 non-null  object \n",
            " 10  course_name        49012 non-null  object \n",
            " 11  a_proportion       49012 non-null  float64\n",
            " 12  f_proportion       49012 non-null  float64\n",
            " 13  avg_grade          49012 non-null  float64\n",
            " 14  year               49012 non-null  int64  \n",
            " 15  term               49012 non-null  object \n",
            " 16  class_length       49012 non-null  float64\n",
            " 17  total_time         49012 non-null  int64  \n",
            " 18  weekend            49012 non-null  bool   \n",
            " 19  course_difficulty  49012 non-null  object \n",
            "dtypes: bool(6), float64(5), int64(2), object(7)\n",
            "memory usage: 5.5+ MB\n"
          ]
        }
      ],
      "source": [
        "# inspect\n",
        "df.info()"
      ]
    },
    {
      "cell_type": "code",
      "execution_count": null,
      "metadata": {
        "colab": {
          "base_uri": "https://localhost:8080/"
        },
        "id": "M4-ilWKkN2Tc",
        "outputId": "6eff9f9c-9df0-4838-a778-58fbd8a0fe41"
      },
      "outputs": [
        {
          "output_type": "execute_result",
          "data": {
            "text/plain": [
              "0"
            ]
          },
          "metadata": {},
          "execution_count": 115
        }
      ],
      "source": [
        "# check for duplicates\n",
        "df.duplicated().sum()"
      ]
    },
    {
      "cell_type": "code",
      "execution_count": null,
      "metadata": {
        "colab": {
          "base_uri": "https://localhost:8080/"
        },
        "id": "78pjJHZfN5O6",
        "outputId": "0781c005-ba51-4f7c-d53a-6184d19af214"
      },
      "outputs": [
        {
          "output_type": "execute_result",
          "data": {
            "text/plain": [
              "section_type            0\n",
              "instructor_id           0\n",
              "facility_code        3491\n",
              "start_time              0\n",
              "mon                     0\n",
              "tues                    0\n",
              "wed                     0\n",
              "thurs                   0\n",
              "fri                     0\n",
              "subject_name            0\n",
              "course_name             0\n",
              "a_proportion            0\n",
              "f_proportion            0\n",
              "avg_grade               0\n",
              "year                    0\n",
              "term                    0\n",
              "class_length            0\n",
              "total_time              0\n",
              "weekend                 0\n",
              "course_difficulty       0\n",
              "dtype: int64"
            ]
          },
          "metadata": {},
          "execution_count": 116
        }
      ],
      "source": [
        "# check for missing values\n",
        "df.isna().sum()\n",
        "\n",
        "# 'facility_code' is the only column with missing values; will need to impute"
      ]
    },
    {
      "cell_type": "markdown",
      "metadata": {
        "id": "_8ge-a3eOUNn"
      },
      "source": [
        "# Preprocessing"
      ]
    },
    {
      "cell_type": "code",
      "execution_count": null,
      "metadata": {
        "colab": {
          "base_uri": "https://localhost:8080/"
        },
        "id": "Xjnn-ZVzR8c1",
        "outputId": "73b5a300-1f03-4dcd-9c03-45cab4a3c341"
      },
      "outputs": [
        {
          "output_type": "stream",
          "name": "stdout",
          "text": [
            "y_a: \n",
            "0        0.250000\n",
            "1        0.230769\n",
            "2        0.153846\n",
            "3        0.500000\n",
            "4        0.363636\n",
            "           ...   \n",
            "49007    0.111111\n",
            "49008    0.209877\n",
            "49009    0.261364\n",
            "49010    0.225000\n",
            "49011    0.611111\n",
            "Name: a_proportion, Length: 49012, dtype: float64\n",
            "y_f: \n",
            "0        0.000000\n",
            "1        0.000000\n",
            "2        0.000000\n",
            "3        0.000000\n",
            "4        0.000000\n",
            "           ...   \n",
            "49007    0.012346\n",
            "49008    0.000000\n",
            "49009    0.000000\n",
            "49010    0.012500\n",
            "49011    0.055556\n",
            "Name: f_proportion, Length: 49012, dtype: float64\n",
            "y_avg: \n",
            "0        3.625000\n",
            "1        3.346154\n",
            "2        3.500000\n",
            "3        3.750000\n",
            "4        3.454545\n",
            "           ...   \n",
            "49007    3.000000\n",
            "49008    3.308642\n",
            "49009    3.210227\n",
            "49010    3.087500\n",
            "49011    3.583333\n",
            "Name: avg_grade, Length: 49012, dtype: float64\n",
            "X_a: \n",
            "      section_type instructor_id facility_code  start_time    mon   tues  \\\n",
            "0              lec         other           NaN        -1.0  False  False   \n",
            "1              lec         other          0545       660.0  False   True   \n",
            "2              lec         other          0545       660.0  False   True   \n",
            "3              lec         other          0545       595.0   True  False   \n",
            "4              lec         other          0545       595.0   True  False   \n",
            "...            ...           ...           ...         ...    ...    ...   \n",
            "49007          lec         other          0093       800.0   True   True   \n",
            "49008          lec         other          0093       800.0   True   True   \n",
            "49009          lec         other          0093       800.0   True   True   \n",
            "49010          lec         other          0093       800.0   True   True   \n",
            "49011          lab         other          0021       660.0   True  False   \n",
            "\n",
            "         wed  thurs    fri                  subject_name  \\\n",
            "0      False  False  False            communication arts   \n",
            "1      False   True  False            communication arts   \n",
            "2      False   True  False            communication arts   \n",
            "3       True  False   True            communication arts   \n",
            "4       True  False   True            communication arts   \n",
            "...      ...    ...    ...                           ...   \n",
            "49007  False  False   True       comparative biosciences   \n",
            "49008  False  False   True       comparative biosciences   \n",
            "49009  False  False   True       comparative biosciences   \n",
            "49010  False  False   True       comparative biosciences   \n",
            "49011   True  False  False  physical educ activity progm   \n",
            "\n",
            "                              course_name  year    term  class_length  \\\n",
            "0      introduction to speech composition    15  spring           0.0   \n",
            "1      introduction to speech composition    15  spring          75.0   \n",
            "2      introduction to speech composition    15  spring          75.0   \n",
            "3      introduction to speech composition    15  spring          50.0   \n",
            "4      introduction to speech composition    15  spring          50.0   \n",
            "...                                   ...   ...     ...           ...   \n",
            "49007                               other     9    fall          50.0   \n",
            "49008                               other    11    fall          50.0   \n",
            "49009                               other    16    fall          50.0   \n",
            "49010                               other    10    fall          50.0   \n",
            "49011                               other     7  spring          65.0   \n",
            "\n",
            "       total_time  weekend course_difficulty  \n",
            "0               0    False        elementary  \n",
            "1             150    False        elementary  \n",
            "2             150    False        elementary  \n",
            "3             150    False        elementary  \n",
            "4             150    False        elementary  \n",
            "...           ...      ...               ...  \n",
            "49007         150    False          advanced  \n",
            "49008         150    False          advanced  \n",
            "49009         150    False          advanced  \n",
            "49010         150    False          advanced  \n",
            "49011         130    False        elementary  \n",
            "\n",
            "[49012 rows x 17 columns]\n",
            "X_f: \n",
            "      section_type instructor_id facility_code  start_time    mon   tues  \\\n",
            "0              lec         other           NaN        -1.0  False  False   \n",
            "1              lec         other          0545       660.0  False   True   \n",
            "2              lec         other          0545       660.0  False   True   \n",
            "3              lec         other          0545       595.0   True  False   \n",
            "4              lec         other          0545       595.0   True  False   \n",
            "...            ...           ...           ...         ...    ...    ...   \n",
            "49007          lec         other          0093       800.0   True   True   \n",
            "49008          lec         other          0093       800.0   True   True   \n",
            "49009          lec         other          0093       800.0   True   True   \n",
            "49010          lec         other          0093       800.0   True   True   \n",
            "49011          lab         other          0021       660.0   True  False   \n",
            "\n",
            "         wed  thurs    fri                  subject_name  \\\n",
            "0      False  False  False            communication arts   \n",
            "1      False   True  False            communication arts   \n",
            "2      False   True  False            communication arts   \n",
            "3       True  False   True            communication arts   \n",
            "4       True  False   True            communication arts   \n",
            "...      ...    ...    ...                           ...   \n",
            "49007  False  False   True       comparative biosciences   \n",
            "49008  False  False   True       comparative biosciences   \n",
            "49009  False  False   True       comparative biosciences   \n",
            "49010  False  False   True       comparative biosciences   \n",
            "49011   True  False  False  physical educ activity progm   \n",
            "\n",
            "                              course_name  year    term  class_length  \\\n",
            "0      introduction to speech composition    15  spring           0.0   \n",
            "1      introduction to speech composition    15  spring          75.0   \n",
            "2      introduction to speech composition    15  spring          75.0   \n",
            "3      introduction to speech composition    15  spring          50.0   \n",
            "4      introduction to speech composition    15  spring          50.0   \n",
            "...                                   ...   ...     ...           ...   \n",
            "49007                               other     9    fall          50.0   \n",
            "49008                               other    11    fall          50.0   \n",
            "49009                               other    16    fall          50.0   \n",
            "49010                               other    10    fall          50.0   \n",
            "49011                               other     7  spring          65.0   \n",
            "\n",
            "       total_time  weekend course_difficulty  \n",
            "0               0    False        elementary  \n",
            "1             150    False        elementary  \n",
            "2             150    False        elementary  \n",
            "3             150    False        elementary  \n",
            "4             150    False        elementary  \n",
            "...           ...      ...               ...  \n",
            "49007         150    False          advanced  \n",
            "49008         150    False          advanced  \n",
            "49009         150    False          advanced  \n",
            "49010         150    False          advanced  \n",
            "49011         130    False        elementary  \n",
            "\n",
            "[49012 rows x 17 columns]\n",
            "X_avg: \n",
            "      section_type instructor_id facility_code  start_time    mon   tues  \\\n",
            "0              lec         other           NaN        -1.0  False  False   \n",
            "1              lec         other          0545       660.0  False   True   \n",
            "2              lec         other          0545       660.0  False   True   \n",
            "3              lec         other          0545       595.0   True  False   \n",
            "4              lec         other          0545       595.0   True  False   \n",
            "...            ...           ...           ...         ...    ...    ...   \n",
            "49007          lec         other          0093       800.0   True   True   \n",
            "49008          lec         other          0093       800.0   True   True   \n",
            "49009          lec         other          0093       800.0   True   True   \n",
            "49010          lec         other          0093       800.0   True   True   \n",
            "49011          lab         other          0021       660.0   True  False   \n",
            "\n",
            "         wed  thurs    fri                  subject_name  \\\n",
            "0      False  False  False            communication arts   \n",
            "1      False   True  False            communication arts   \n",
            "2      False   True  False            communication arts   \n",
            "3       True  False   True            communication arts   \n",
            "4       True  False   True            communication arts   \n",
            "...      ...    ...    ...                           ...   \n",
            "49007  False  False   True       comparative biosciences   \n",
            "49008  False  False   True       comparative biosciences   \n",
            "49009  False  False   True       comparative biosciences   \n",
            "49010  False  False   True       comparative biosciences   \n",
            "49011   True  False  False  physical educ activity progm   \n",
            "\n",
            "                              course_name  year    term  class_length  \\\n",
            "0      introduction to speech composition    15  spring           0.0   \n",
            "1      introduction to speech composition    15  spring          75.0   \n",
            "2      introduction to speech composition    15  spring          75.0   \n",
            "3      introduction to speech composition    15  spring          50.0   \n",
            "4      introduction to speech composition    15  spring          50.0   \n",
            "...                                   ...   ...     ...           ...   \n",
            "49007                               other     9    fall          50.0   \n",
            "49008                               other    11    fall          50.0   \n",
            "49009                               other    16    fall          50.0   \n",
            "49010                               other    10    fall          50.0   \n",
            "49011                               other     7  spring          65.0   \n",
            "\n",
            "       total_time  weekend course_difficulty  \n",
            "0               0    False        elementary  \n",
            "1             150    False        elementary  \n",
            "2             150    False        elementary  \n",
            "3             150    False        elementary  \n",
            "4             150    False        elementary  \n",
            "...           ...      ...               ...  \n",
            "49007         150    False          advanced  \n",
            "49008         150    False          advanced  \n",
            "49009         150    False          advanced  \n",
            "49010         150    False          advanced  \n",
            "49011         130    False        elementary  \n",
            "\n",
            "[49012 rows x 17 columns]\n"
          ]
        }
      ],
      "source": [
        "# assign X and y\n",
        "target_a = 'a_proportion'\n",
        "target_f = 'f_proportion'\n",
        "target_avg = 'avg_grade'\n",
        "\n",
        "y_a = df[target_a]\n",
        "y_f = df[target_f]\n",
        "y_avg = df[target_avg]\n",
        "\n",
        "X_a = df.drop(columns = [target_a, target_f, target_avg])\n",
        "X_f = X_a.copy()\n",
        "X_avg = X_a.copy()\n",
        "\n",
        "# check\n",
        "print(f\"y_a: \\n{y_a}\")\n",
        "print(f\"y_f: \\n{y_f}\")\n",
        "print(f\"y_avg: \\n{y_avg}\")\n",
        "print(f\"X_a: \\n{X_a}\")\n",
        "print(f\"X_f: \\n{X_f}\")\n",
        "print(f\"X_avg: \\n{X_avg}\")"
      ]
    },
    {
      "cell_type": "code",
      "execution_count": null,
      "metadata": {
        "colab": {
          "base_uri": "https://localhost:8080/"
        },
        "id": "WZFZ9kk8TXge",
        "outputId": "939fad47-4180-416e-ff1c-ade02a6a6a0e"
      },
      "outputs": [
        {
          "output_type": "stream",
          "name": "stdout",
          "text": [
            "X_a_train shape: (36759, 17)\n",
            "X_a_test shape: (12253, 17)\n",
            "y_a_train shape: (36759,)\n",
            "y_a_test shape: (12253,)\n",
            "X_f_train shape: (36759, 17)\n",
            "X_f_test shape: (12253, 17)\n",
            "y_f_train shape: (36759,)\n",
            "y_f_test shape: (12253,)\n",
            "X_avg_train shape: (36759, 17)\n",
            "X_avg_test shape: (12253, 17)\n",
            "y_avg_train shape: (36759,)\n",
            "y_avg_test shape: (12253,)\n"
          ]
        }
      ],
      "source": [
        "# validate model with train/test split\n",
        "X_a_train, X_a_test, y_a_train, y_a_test = train_test_split(X_a, y_a, random_state = 42)\n",
        "X_f_train, X_f_test, y_f_train, y_f_test = train_test_split(X_f, y_f, random_state = 42)\n",
        "X_avg_train, X_avg_test, y_avg_train, y_avg_test = train_test_split(X_avg, y_avg, random_state = 42)\n",
        "\n",
        "# check\n",
        "print(f\"X_a_train shape: {X_a_train.shape}\")\n",
        "print(f\"X_a_test shape: {X_a_test.shape}\")\n",
        "print(f\"y_a_train shape: {y_a_train.shape}\")\n",
        "print(f\"y_a_test shape: {y_a_test.shape}\")\n",
        "\n",
        "print(f\"X_f_train shape: {X_f_train.shape}\")\n",
        "print(f\"X_f_test shape: {X_f_test.shape}\")\n",
        "print(f\"y_f_train shape: {y_f_train.shape}\")\n",
        "print(f\"y_f_test shape: {y_f_test.shape}\")\n",
        "\n",
        "print(f\"X_avg_train shape: {X_avg_train.shape}\")\n",
        "print(f\"X_avg_test shape: {X_avg_test.shape}\")\n",
        "print(f\"y_avg_train shape: {y_avg_train.shape}\")\n",
        "print(f\"y_avg_test shape: {y_avg_test.shape}\")"
      ]
    },
    {
      "cell_type": "markdown",
      "metadata": {
        "id": "KPIpg9uLVLiI"
      },
      "source": [
        "For the rest of this notebook, I will be using the target variable 'avg_grade'. "
      ]
    },
    {
      "cell_type": "code",
      "execution_count": null,
      "metadata": {
        "id": "BarHdjLT2YZf"
      },
      "outputs": [],
      "source": [
        "# check columns to plan preprocessing steps\n",
        "column_check_train = list(X_avg_train.columns)\n",
        "column_check_test = list(X_avg_test.columns)"
      ]
    },
    {
      "cell_type": "code",
      "execution_count": null,
      "metadata": {
        "colab": {
          "base_uri": "https://localhost:8080/",
          "height": 830
        },
        "id": "0sHeM0exQAuW",
        "outputId": "b708d052-0570-4f70-e8bf-40b4b05b9f9f"
      },
      "outputs": [
        {
          "output_type": "display_data",
          "data": {
            "text/plain": [
              "       mon  tues  wed  thurs  fri  weekend\n",
              "6898     0     0    0      0    0        0\n",
              "46896    1     0    1      0    0        0\n",
              "22270    1     0    1      0    1        0\n",
              "30130    0     1    0      1    0        0\n",
              "35714    0     0    1      0    0        0\n",
              "...    ...   ...  ...    ...  ...      ...\n",
              "11284    1     0    1      0    1        0\n",
              "44732    1     1    1      1    0        0\n",
              "38158    1     1    0      1    1        0\n",
              "860      1     0    1      0    1        0\n",
              "15795    0     1    0      1    0        0\n",
              "\n",
              "[36759 rows x 6 columns]"
            ],
            "text/html": [
              "\n",
              "  <div id=\"df-4c71d9f5-8cc2-43a1-b2a6-3b3de4963522\">\n",
              "    <div class=\"colab-df-container\">\n",
              "      <div>\n",
              "<style scoped>\n",
              "    .dataframe tbody tr th:only-of-type {\n",
              "        vertical-align: middle;\n",
              "    }\n",
              "\n",
              "    .dataframe tbody tr th {\n",
              "        vertical-align: top;\n",
              "    }\n",
              "\n",
              "    .dataframe thead th {\n",
              "        text-align: right;\n",
              "    }\n",
              "</style>\n",
              "<table border=\"1\" class=\"dataframe\">\n",
              "  <thead>\n",
              "    <tr style=\"text-align: right;\">\n",
              "      <th></th>\n",
              "      <th>mon</th>\n",
              "      <th>tues</th>\n",
              "      <th>wed</th>\n",
              "      <th>thurs</th>\n",
              "      <th>fri</th>\n",
              "      <th>weekend</th>\n",
              "    </tr>\n",
              "  </thead>\n",
              "  <tbody>\n",
              "    <tr>\n",
              "      <th>6898</th>\n",
              "      <td>0</td>\n",
              "      <td>0</td>\n",
              "      <td>0</td>\n",
              "      <td>0</td>\n",
              "      <td>0</td>\n",
              "      <td>0</td>\n",
              "    </tr>\n",
              "    <tr>\n",
              "      <th>46896</th>\n",
              "      <td>1</td>\n",
              "      <td>0</td>\n",
              "      <td>1</td>\n",
              "      <td>0</td>\n",
              "      <td>0</td>\n",
              "      <td>0</td>\n",
              "    </tr>\n",
              "    <tr>\n",
              "      <th>22270</th>\n",
              "      <td>1</td>\n",
              "      <td>0</td>\n",
              "      <td>1</td>\n",
              "      <td>0</td>\n",
              "      <td>1</td>\n",
              "      <td>0</td>\n",
              "    </tr>\n",
              "    <tr>\n",
              "      <th>30130</th>\n",
              "      <td>0</td>\n",
              "      <td>1</td>\n",
              "      <td>0</td>\n",
              "      <td>1</td>\n",
              "      <td>0</td>\n",
              "      <td>0</td>\n",
              "    </tr>\n",
              "    <tr>\n",
              "      <th>35714</th>\n",
              "      <td>0</td>\n",
              "      <td>0</td>\n",
              "      <td>1</td>\n",
              "      <td>0</td>\n",
              "      <td>0</td>\n",
              "      <td>0</td>\n",
              "    </tr>\n",
              "    <tr>\n",
              "      <th>...</th>\n",
              "      <td>...</td>\n",
              "      <td>...</td>\n",
              "      <td>...</td>\n",
              "      <td>...</td>\n",
              "      <td>...</td>\n",
              "      <td>...</td>\n",
              "    </tr>\n",
              "    <tr>\n",
              "      <th>11284</th>\n",
              "      <td>1</td>\n",
              "      <td>0</td>\n",
              "      <td>1</td>\n",
              "      <td>0</td>\n",
              "      <td>1</td>\n",
              "      <td>0</td>\n",
              "    </tr>\n",
              "    <tr>\n",
              "      <th>44732</th>\n",
              "      <td>1</td>\n",
              "      <td>1</td>\n",
              "      <td>1</td>\n",
              "      <td>1</td>\n",
              "      <td>0</td>\n",
              "      <td>0</td>\n",
              "    </tr>\n",
              "    <tr>\n",
              "      <th>38158</th>\n",
              "      <td>1</td>\n",
              "      <td>1</td>\n",
              "      <td>0</td>\n",
              "      <td>1</td>\n",
              "      <td>1</td>\n",
              "      <td>0</td>\n",
              "    </tr>\n",
              "    <tr>\n",
              "      <th>860</th>\n",
              "      <td>1</td>\n",
              "      <td>0</td>\n",
              "      <td>1</td>\n",
              "      <td>0</td>\n",
              "      <td>1</td>\n",
              "      <td>0</td>\n",
              "    </tr>\n",
              "    <tr>\n",
              "      <th>15795</th>\n",
              "      <td>0</td>\n",
              "      <td>1</td>\n",
              "      <td>0</td>\n",
              "      <td>1</td>\n",
              "      <td>0</td>\n",
              "      <td>0</td>\n",
              "    </tr>\n",
              "  </tbody>\n",
              "</table>\n",
              "<p>36759 rows × 6 columns</p>\n",
              "</div>\n",
              "      <button class=\"colab-df-convert\" onclick=\"convertToInteractive('df-4c71d9f5-8cc2-43a1-b2a6-3b3de4963522')\"\n",
              "              title=\"Convert this dataframe to an interactive table.\"\n",
              "              style=\"display:none;\">\n",
              "        \n",
              "  <svg xmlns=\"http://www.w3.org/2000/svg\" height=\"24px\"viewBox=\"0 0 24 24\"\n",
              "       width=\"24px\">\n",
              "    <path d=\"M0 0h24v24H0V0z\" fill=\"none\"/>\n",
              "    <path d=\"M18.56 5.44l.94 2.06.94-2.06 2.06-.94-2.06-.94-.94-2.06-.94 2.06-2.06.94zm-11 1L8.5 8.5l.94-2.06 2.06-.94-2.06-.94L8.5 2.5l-.94 2.06-2.06.94zm10 10l.94 2.06.94-2.06 2.06-.94-2.06-.94-.94-2.06-.94 2.06-2.06.94z\"/><path d=\"M17.41 7.96l-1.37-1.37c-.4-.4-.92-.59-1.43-.59-.52 0-1.04.2-1.43.59L10.3 9.45l-7.72 7.72c-.78.78-.78 2.05 0 2.83L4 21.41c.39.39.9.59 1.41.59.51 0 1.02-.2 1.41-.59l7.78-7.78 2.81-2.81c.8-.78.8-2.07 0-2.86zM5.41 20L4 18.59l7.72-7.72 1.47 1.35L5.41 20z\"/>\n",
              "  </svg>\n",
              "      </button>\n",
              "      \n",
              "  <style>\n",
              "    .colab-df-container {\n",
              "      display:flex;\n",
              "      flex-wrap:wrap;\n",
              "      gap: 12px;\n",
              "    }\n",
              "\n",
              "    .colab-df-convert {\n",
              "      background-color: #E8F0FE;\n",
              "      border: none;\n",
              "      border-radius: 50%;\n",
              "      cursor: pointer;\n",
              "      display: none;\n",
              "      fill: #1967D2;\n",
              "      height: 32px;\n",
              "      padding: 0 0 0 0;\n",
              "      width: 32px;\n",
              "    }\n",
              "\n",
              "    .colab-df-convert:hover {\n",
              "      background-color: #E2EBFA;\n",
              "      box-shadow: 0px 1px 2px rgba(60, 64, 67, 0.3), 0px 1px 3px 1px rgba(60, 64, 67, 0.15);\n",
              "      fill: #174EA6;\n",
              "    }\n",
              "\n",
              "    [theme=dark] .colab-df-convert {\n",
              "      background-color: #3B4455;\n",
              "      fill: #D2E3FC;\n",
              "    }\n",
              "\n",
              "    [theme=dark] .colab-df-convert:hover {\n",
              "      background-color: #434B5C;\n",
              "      box-shadow: 0px 1px 3px 1px rgba(0, 0, 0, 0.15);\n",
              "      filter: drop-shadow(0px 1px 2px rgba(0, 0, 0, 0.3));\n",
              "      fill: #FFFFFF;\n",
              "    }\n",
              "  </style>\n",
              "\n",
              "      <script>\n",
              "        const buttonEl =\n",
              "          document.querySelector('#df-4c71d9f5-8cc2-43a1-b2a6-3b3de4963522 button.colab-df-convert');\n",
              "        buttonEl.style.display =\n",
              "          google.colab.kernel.accessAllowed ? 'block' : 'none';\n",
              "\n",
              "        async function convertToInteractive(key) {\n",
              "          const element = document.querySelector('#df-4c71d9f5-8cc2-43a1-b2a6-3b3de4963522');\n",
              "          const dataTable =\n",
              "            await google.colab.kernel.invokeFunction('convertToInteractive',\n",
              "                                                     [key], {});\n",
              "          if (!dataTable) return;\n",
              "\n",
              "          const docLinkHtml = 'Like what you see? Visit the ' +\n",
              "            '<a target=\"_blank\" href=https://colab.research.google.com/notebooks/data_table.ipynb>data table notebook</a>'\n",
              "            + ' to learn more about interactive tables.';\n",
              "          element.innerHTML = '';\n",
              "          dataTable['output_type'] = 'display_data';\n",
              "          await google.colab.output.renderOutput(dataTable, element);\n",
              "          const docLink = document.createElement('div');\n",
              "          docLink.innerHTML = docLinkHtml;\n",
              "          element.appendChild(docLink);\n",
              "        }\n",
              "      </script>\n",
              "    </div>\n",
              "  </div>\n",
              "  "
            ]
          },
          "metadata": {}
        },
        {
          "output_type": "display_data",
          "data": {
            "text/plain": [
              "       mon  tues  wed  thurs  fri  weekend\n",
              "34805    0     0    0      1    0        0\n",
              "5146     0     0    0      0    0        0\n",
              "29624    0     1    0      1    0        0\n",
              "10172    1     0    1      0    1        0\n",
              "644      1     0    1      0    1        0\n",
              "...    ...   ...  ...    ...  ...      ...\n",
              "30853    0     1    0      1    0        0\n",
              "20761    0     1    0      1    0        0\n",
              "4998     1     0    0      0    0        0\n",
              "23647    0     1    0      1    0        0\n",
              "17202    0     1    0      1    0        0\n",
              "\n",
              "[12253 rows x 6 columns]"
            ],
            "text/html": [
              "\n",
              "  <div id=\"df-af88e610-5722-4c82-afa1-547ddabe6e93\">\n",
              "    <div class=\"colab-df-container\">\n",
              "      <div>\n",
              "<style scoped>\n",
              "    .dataframe tbody tr th:only-of-type {\n",
              "        vertical-align: middle;\n",
              "    }\n",
              "\n",
              "    .dataframe tbody tr th {\n",
              "        vertical-align: top;\n",
              "    }\n",
              "\n",
              "    .dataframe thead th {\n",
              "        text-align: right;\n",
              "    }\n",
              "</style>\n",
              "<table border=\"1\" class=\"dataframe\">\n",
              "  <thead>\n",
              "    <tr style=\"text-align: right;\">\n",
              "      <th></th>\n",
              "      <th>mon</th>\n",
              "      <th>tues</th>\n",
              "      <th>wed</th>\n",
              "      <th>thurs</th>\n",
              "      <th>fri</th>\n",
              "      <th>weekend</th>\n",
              "    </tr>\n",
              "  </thead>\n",
              "  <tbody>\n",
              "    <tr>\n",
              "      <th>34805</th>\n",
              "      <td>0</td>\n",
              "      <td>0</td>\n",
              "      <td>0</td>\n",
              "      <td>1</td>\n",
              "      <td>0</td>\n",
              "      <td>0</td>\n",
              "    </tr>\n",
              "    <tr>\n",
              "      <th>5146</th>\n",
              "      <td>0</td>\n",
              "      <td>0</td>\n",
              "      <td>0</td>\n",
              "      <td>0</td>\n",
              "      <td>0</td>\n",
              "      <td>0</td>\n",
              "    </tr>\n",
              "    <tr>\n",
              "      <th>29624</th>\n",
              "      <td>0</td>\n",
              "      <td>1</td>\n",
              "      <td>0</td>\n",
              "      <td>1</td>\n",
              "      <td>0</td>\n",
              "      <td>0</td>\n",
              "    </tr>\n",
              "    <tr>\n",
              "      <th>10172</th>\n",
              "      <td>1</td>\n",
              "      <td>0</td>\n",
              "      <td>1</td>\n",
              "      <td>0</td>\n",
              "      <td>1</td>\n",
              "      <td>0</td>\n",
              "    </tr>\n",
              "    <tr>\n",
              "      <th>644</th>\n",
              "      <td>1</td>\n",
              "      <td>0</td>\n",
              "      <td>1</td>\n",
              "      <td>0</td>\n",
              "      <td>1</td>\n",
              "      <td>0</td>\n",
              "    </tr>\n",
              "    <tr>\n",
              "      <th>...</th>\n",
              "      <td>...</td>\n",
              "      <td>...</td>\n",
              "      <td>...</td>\n",
              "      <td>...</td>\n",
              "      <td>...</td>\n",
              "      <td>...</td>\n",
              "    </tr>\n",
              "    <tr>\n",
              "      <th>30853</th>\n",
              "      <td>0</td>\n",
              "      <td>1</td>\n",
              "      <td>0</td>\n",
              "      <td>1</td>\n",
              "      <td>0</td>\n",
              "      <td>0</td>\n",
              "    </tr>\n",
              "    <tr>\n",
              "      <th>20761</th>\n",
              "      <td>0</td>\n",
              "      <td>1</td>\n",
              "      <td>0</td>\n",
              "      <td>1</td>\n",
              "      <td>0</td>\n",
              "      <td>0</td>\n",
              "    </tr>\n",
              "    <tr>\n",
              "      <th>4998</th>\n",
              "      <td>1</td>\n",
              "      <td>0</td>\n",
              "      <td>0</td>\n",
              "      <td>0</td>\n",
              "      <td>0</td>\n",
              "      <td>0</td>\n",
              "    </tr>\n",
              "    <tr>\n",
              "      <th>23647</th>\n",
              "      <td>0</td>\n",
              "      <td>1</td>\n",
              "      <td>0</td>\n",
              "      <td>1</td>\n",
              "      <td>0</td>\n",
              "      <td>0</td>\n",
              "    </tr>\n",
              "    <tr>\n",
              "      <th>17202</th>\n",
              "      <td>0</td>\n",
              "      <td>1</td>\n",
              "      <td>0</td>\n",
              "      <td>1</td>\n",
              "      <td>0</td>\n",
              "      <td>0</td>\n",
              "    </tr>\n",
              "  </tbody>\n",
              "</table>\n",
              "<p>12253 rows × 6 columns</p>\n",
              "</div>\n",
              "      <button class=\"colab-df-convert\" onclick=\"convertToInteractive('df-af88e610-5722-4c82-afa1-547ddabe6e93')\"\n",
              "              title=\"Convert this dataframe to an interactive table.\"\n",
              "              style=\"display:none;\">\n",
              "        \n",
              "  <svg xmlns=\"http://www.w3.org/2000/svg\" height=\"24px\"viewBox=\"0 0 24 24\"\n",
              "       width=\"24px\">\n",
              "    <path d=\"M0 0h24v24H0V0z\" fill=\"none\"/>\n",
              "    <path d=\"M18.56 5.44l.94 2.06.94-2.06 2.06-.94-2.06-.94-.94-2.06-.94 2.06-2.06.94zm-11 1L8.5 8.5l.94-2.06 2.06-.94-2.06-.94L8.5 2.5l-.94 2.06-2.06.94zm10 10l.94 2.06.94-2.06 2.06-.94-2.06-.94-.94-2.06-.94 2.06-2.06.94z\"/><path d=\"M17.41 7.96l-1.37-1.37c-.4-.4-.92-.59-1.43-.59-.52 0-1.04.2-1.43.59L10.3 9.45l-7.72 7.72c-.78.78-.78 2.05 0 2.83L4 21.41c.39.39.9.59 1.41.59.51 0 1.02-.2 1.41-.59l7.78-7.78 2.81-2.81c.8-.78.8-2.07 0-2.86zM5.41 20L4 18.59l7.72-7.72 1.47 1.35L5.41 20z\"/>\n",
              "  </svg>\n",
              "      </button>\n",
              "      \n",
              "  <style>\n",
              "    .colab-df-container {\n",
              "      display:flex;\n",
              "      flex-wrap:wrap;\n",
              "      gap: 12px;\n",
              "    }\n",
              "\n",
              "    .colab-df-convert {\n",
              "      background-color: #E8F0FE;\n",
              "      border: none;\n",
              "      border-radius: 50%;\n",
              "      cursor: pointer;\n",
              "      display: none;\n",
              "      fill: #1967D2;\n",
              "      height: 32px;\n",
              "      padding: 0 0 0 0;\n",
              "      width: 32px;\n",
              "    }\n",
              "\n",
              "    .colab-df-convert:hover {\n",
              "      background-color: #E2EBFA;\n",
              "      box-shadow: 0px 1px 2px rgba(60, 64, 67, 0.3), 0px 1px 3px 1px rgba(60, 64, 67, 0.15);\n",
              "      fill: #174EA6;\n",
              "    }\n",
              "\n",
              "    [theme=dark] .colab-df-convert {\n",
              "      background-color: #3B4455;\n",
              "      fill: #D2E3FC;\n",
              "    }\n",
              "\n",
              "    [theme=dark] .colab-df-convert:hover {\n",
              "      background-color: #434B5C;\n",
              "      box-shadow: 0px 1px 3px 1px rgba(0, 0, 0, 0.15);\n",
              "      filter: drop-shadow(0px 1px 2px rgba(0, 0, 0, 0.3));\n",
              "      fill: #FFFFFF;\n",
              "    }\n",
              "  </style>\n",
              "\n",
              "      <script>\n",
              "        const buttonEl =\n",
              "          document.querySelector('#df-af88e610-5722-4c82-afa1-547ddabe6e93 button.colab-df-convert');\n",
              "        buttonEl.style.display =\n",
              "          google.colab.kernel.accessAllowed ? 'block' : 'none';\n",
              "\n",
              "        async function convertToInteractive(key) {\n",
              "          const element = document.querySelector('#df-af88e610-5722-4c82-afa1-547ddabe6e93');\n",
              "          const dataTable =\n",
              "            await google.colab.kernel.invokeFunction('convertToInteractive',\n",
              "                                                     [key], {});\n",
              "          if (!dataTable) return;\n",
              "\n",
              "          const docLinkHtml = 'Like what you see? Visit the ' +\n",
              "            '<a target=\"_blank\" href=https://colab.research.google.com/notebooks/data_table.ipynb>data table notebook</a>'\n",
              "            + ' to learn more about interactive tables.';\n",
              "          element.innerHTML = '';\n",
              "          dataTable['output_type'] = 'display_data';\n",
              "          await google.colab.output.renderOutput(dataTable, element);\n",
              "          const docLink = document.createElement('div');\n",
              "          docLink.innerHTML = docLinkHtml;\n",
              "          element.appendChild(docLink);\n",
              "        }\n",
              "      </script>\n",
              "    </div>\n",
              "  </div>\n",
              "  "
            ]
          },
          "metadata": {}
        }
      ],
      "source": [
        "# binary encode ('passthrough' in preprocessor):\n",
        "# 'mon', 'tues', 'wed', 'thurs', 'fri', 'weekend'\n",
        "\n",
        "binary_cols = ['mon', 'tues', 'wed', 'thurs', 'fri', 'weekend']\n",
        "\n",
        "for col in binary_cols:\n",
        "  X_avg_train[col].replace({True: 1, False: 0}, inplace = True)\n",
        "  X_avg_test[col].replace({True: 1, False: 0}, inplace = True)\n",
        "  column_check_train.remove(col)\n",
        "  column_check_test.remove(col)\n",
        "\n",
        "# check\n",
        "display(X_avg_train[binary_cols])\n",
        "display(X_avg_test[binary_cols])"
      ]
    },
    {
      "cell_type": "code",
      "execution_count": null,
      "metadata": {
        "colab": {
          "base_uri": "https://localhost:8080/"
        },
        "id": "vhPgfpUl3mEI",
        "outputId": "e365cceb-445e-4adb-c0df-360af95e3fa0"
      },
      "outputs": [
        {
          "output_type": "stream",
          "name": "stdout",
          "text": [
            "0    19922\n",
            "1    16837\n",
            "Name: mon, dtype: int64\n",
            "0    6637\n",
            "1    5616\n",
            "Name: mon, dtype: int64\n",
            "0    20291\n",
            "1    16468\n",
            "Name: tues, dtype: int64\n",
            "0    6857\n",
            "1    5396\n",
            "Name: tues, dtype: int64\n",
            "0    20407\n",
            "1    16352\n",
            "Name: wed, dtype: int64\n",
            "0    6773\n",
            "1    5480\n",
            "Name: wed, dtype: int64\n",
            "0    20995\n",
            "1    15764\n",
            "Name: thurs, dtype: int64\n",
            "0    7027\n",
            "1    5226\n",
            "Name: thurs, dtype: int64\n",
            "0    27397\n",
            "1     9362\n",
            "Name: fri, dtype: int64\n",
            "0    9094\n",
            "1    3159\n",
            "Name: fri, dtype: int64\n",
            "0    36562\n",
            "1      197\n",
            "Name: weekend, dtype: int64\n",
            "0    12185\n",
            "1       68\n",
            "Name: weekend, dtype: int64\n"
          ]
        }
      ],
      "source": [
        "# check\n",
        "for col in binary_cols:\n",
        "  print(X_avg_train[col].value_counts())\n",
        "  print(X_avg_test[col].value_counts())"
      ]
    },
    {
      "cell_type": "code",
      "execution_count": null,
      "metadata": {
        "colab": {
          "base_uri": "https://localhost:8080/"
        },
        "id": "dd9oQ2ZD2v4W",
        "outputId": "d3638184-0e8a-4568-c761-cf6a7e5513e9"
      },
      "outputs": [
        {
          "output_type": "stream",
          "name": "stdout",
          "text": [
            "['section_type', 'instructor_id', 'facility_code', 'start_time', 'subject_name', 'course_name', 'year', 'term', 'class_length', 'total_time', 'course_difficulty']\n",
            "['section_type', 'instructor_id', 'facility_code', 'start_time', 'subject_name', 'course_name', 'year', 'term', 'class_length', 'total_time', 'course_difficulty']\n"
          ]
        }
      ],
      "source": [
        "# check columns left\n",
        "print(column_check_train)\n",
        "print(column_check_test)"
      ]
    },
    {
      "cell_type": "code",
      "execution_count": null,
      "metadata": {
        "colab": {
          "base_uri": "https://localhost:8080/"
        },
        "id": "Z7qcGE8zN92H",
        "outputId": "d8920b81-7fb2-4312-d4b4-4c240dd656fd"
      },
      "outputs": [
        {
          "output_type": "stream",
          "name": "stdout",
          "text": [
            "['facility_code', 'start_time', 'class_length', 'total_time']\n",
            "['facility_code', 'start_time', 'class_length', 'total_time']\n"
          ]
        }
      ],
      "source": [
        "# one-hot encode:\n",
        "# 'section_type', 'instructor_id', 'subject_name', 'course_name', 'term',\n",
        "# 'course_difficulty'\n",
        "\n",
        "ohe_cols = ['section_type', 'instructor_id', 'subject_name', 'course_name',\n",
        "            'term', 'course_difficulty', 'year']\n",
        "\n",
        "for col in ohe_cols:\n",
        "  column_check_train.remove(col)\n",
        "  column_check_test.remove(col)\n",
        "\n",
        "ohe = OneHotEncoder(handle_unknown = 'ignore')\n",
        "\n",
        "ohe_tuple = (ohe, ohe_cols)\n",
        "\n",
        "# check columns left\n",
        "print(column_check_train)\n",
        "print(column_check_test)"
      ]
    },
    {
      "cell_type": "code",
      "execution_count": null,
      "metadata": {
        "colab": {
          "base_uri": "https://localhost:8080/"
        },
        "id": "JN4NGxLDP5oB",
        "outputId": "d7d2545b-9047-473f-966c-12276d1b93da"
      },
      "outputs": [
        {
          "output_type": "stream",
          "name": "stdout",
          "text": [
            "['start_time', 'class_length', 'total_time']\n",
            "['start_time', 'class_length', 'total_time']\n"
          ]
        }
      ],
      "source": [
        "# one-hot encode and impute constant 'missing':\n",
        "# 'facility_code'\n",
        "\n",
        "missing_imputer = SimpleImputer(strategy = 'constant', fill_value = 'missing')\n",
        "\n",
        "ohe = OneHotEncoder(handle_unknown = 'ignore')\n",
        "\n",
        "facility_code_pipe = make_pipeline(missing_imputer, ohe)\n",
        "\n",
        "facility_code_tuple = (facility_code_pipe, ['facility_code'])\n",
        "\n",
        "column_check_train.remove('facility_code')\n",
        "column_check_test.remove('facility_code')\n",
        "\n",
        "# check columns left\n",
        "print(column_check_train)\n",
        "print(column_check_test)"
      ]
    },
    {
      "cell_type": "code",
      "execution_count": null,
      "metadata": {
        "colab": {
          "base_uri": "https://localhost:8080/"
        },
        "id": "GCIh2TCOQJ6j",
        "outputId": "8586906d-d05f-4bf0-e975-245c482fe899"
      },
      "outputs": [
        {
          "output_type": "stream",
          "name": "stdout",
          "text": [
            "[]\n",
            "[]\n"
          ]
        }
      ],
      "source": [
        "# scale:\n",
        "# 'start_time', 'class_length', 'total_time'\n",
        "\n",
        "scaler = StandardScaler()\n",
        "\n",
        "scale_cols = ['start_time', 'class_length', 'total_time']\n",
        "\n",
        "for col in scale_cols:\n",
        "  column_check_train.remove(col)\n",
        "  column_check_test.remove(col)\n",
        "\n",
        "scale_tuple = (scaler, scale_cols)\n",
        "\n",
        "# check columns left\n",
        "print(column_check_train)\n",
        "print(column_check_test)"
      ]
    },
    {
      "cell_type": "code",
      "execution_count": null,
      "metadata": {
        "id": "ozHiCjDgR6Nj"
      },
      "outputs": [],
      "source": [
        "# create preprocessor\n",
        "preprocessor = make_column_transformer(ohe_tuple, \n",
        "                                       facility_code_tuple, \n",
        "                                       scale_tuple,\n",
        "                                       remainder = 'passthrough')"
      ]
    },
    {
      "cell_type": "code",
      "execution_count": null,
      "metadata": {
        "id": "_qhIfU034U19"
      },
      "outputs": [],
      "source": [
        "# # check transformation by preprocessor\n",
        "# X_avg_train_processed = preprocessor.fit_transform(X_avg_train)\n",
        "# X_avg_test_processed = preprocessor.fit_transform(X_avg_test)\n",
        "\n",
        "# # check for missing values\n",
        "# print(np.isnan(X_avg_train_processed).sum().sum(), 'missing values in train')\n",
        "# print(np.isnan(X_avg_test_processed).sum().sum(), 'missing values in test')\n",
        "\n",
        "# # check that all data is numeric\n",
        "# print('All data in train is ', X_avg_train_processed.dtype)\n",
        "# print('All data in test is ', X_avg_test_processed.dtype)\n",
        "\n",
        "# # check shape of data to infer that categorical columns were one hot encoded\n",
        "# print('Shape of X_axg_train_processed data is', X_avg_train_processed.shape)\n",
        "# print('Shape of X_avg_test_processed data is', X_avg_test_processed.shape)\n",
        "\n",
        "# # check arrays to see that numeric data was scaled\n",
        "# print(X_avg_train_processed)\n",
        "# print(X_avg_test_processed)"
      ]
    },
    {
      "cell_type": "markdown",
      "metadata": {
        "id": "5HHTDJYhXC4O"
      },
      "source": [
        "# Modeling Functions"
      ]
    },
    {
      "cell_type": "code",
      "execution_count": null,
      "metadata": {
        "colab": {
          "base_uri": "https://localhost:8080/"
        },
        "id": "hZNiI9TVw6SR",
        "outputId": "633da3a8-000a-4104-c527-9341bea5dc03"
      },
      "outputs": [
        {
          "output_type": "execute_result",
          "data": {
            "text/plain": [
              "Empty DataFrame\n",
              "Columns: []\n",
              "Index: []"
            ],
            "text/html": [
              "\n",
              "  <div id=\"df-1281ee31-9e76-4d5a-a2b1-59a8ba4d38a6\">\n",
              "    <div class=\"colab-df-container\">\n",
              "      <div>\n",
              "<style scoped>\n",
              "    .dataframe tbody tr th:only-of-type {\n",
              "        vertical-align: middle;\n",
              "    }\n",
              "\n",
              "    .dataframe tbody tr th {\n",
              "        vertical-align: top;\n",
              "    }\n",
              "\n",
              "    .dataframe thead th {\n",
              "        text-align: right;\n",
              "    }\n",
              "</style>\n",
              "<table border=\"1\" class=\"dataframe\">\n",
              "  <thead>\n",
              "    <tr style=\"text-align: right;\">\n",
              "      <th></th>\n",
              "    </tr>\n",
              "  </thead>\n",
              "  <tbody>\n",
              "  </tbody>\n",
              "</table>\n",
              "</div>\n",
              "      <button class=\"colab-df-convert\" onclick=\"convertToInteractive('df-1281ee31-9e76-4d5a-a2b1-59a8ba4d38a6')\"\n",
              "              title=\"Convert this dataframe to an interactive table.\"\n",
              "              style=\"display:none;\">\n",
              "        \n",
              "  <svg xmlns=\"http://www.w3.org/2000/svg\" height=\"24px\"viewBox=\"0 0 24 24\"\n",
              "       width=\"24px\">\n",
              "    <path d=\"M0 0h24v24H0V0z\" fill=\"none\"/>\n",
              "    <path d=\"M18.56 5.44l.94 2.06.94-2.06 2.06-.94-2.06-.94-.94-2.06-.94 2.06-2.06.94zm-11 1L8.5 8.5l.94-2.06 2.06-.94-2.06-.94L8.5 2.5l-.94 2.06-2.06.94zm10 10l.94 2.06.94-2.06 2.06-.94-2.06-.94-.94-2.06-.94 2.06-2.06.94z\"/><path d=\"M17.41 7.96l-1.37-1.37c-.4-.4-.92-.59-1.43-.59-.52 0-1.04.2-1.43.59L10.3 9.45l-7.72 7.72c-.78.78-.78 2.05 0 2.83L4 21.41c.39.39.9.59 1.41.59.51 0 1.02-.2 1.41-.59l7.78-7.78 2.81-2.81c.8-.78.8-2.07 0-2.86zM5.41 20L4 18.59l7.72-7.72 1.47 1.35L5.41 20z\"/>\n",
              "  </svg>\n",
              "      </button>\n",
              "      \n",
              "  <style>\n",
              "    .colab-df-container {\n",
              "      display:flex;\n",
              "      flex-wrap:wrap;\n",
              "      gap: 12px;\n",
              "    }\n",
              "\n",
              "    .colab-df-convert {\n",
              "      background-color: #E8F0FE;\n",
              "      border: none;\n",
              "      border-radius: 50%;\n",
              "      cursor: pointer;\n",
              "      display: none;\n",
              "      fill: #1967D2;\n",
              "      height: 32px;\n",
              "      padding: 0 0 0 0;\n",
              "      width: 32px;\n",
              "    }\n",
              "\n",
              "    .colab-df-convert:hover {\n",
              "      background-color: #E2EBFA;\n",
              "      box-shadow: 0px 1px 2px rgba(60, 64, 67, 0.3), 0px 1px 3px 1px rgba(60, 64, 67, 0.15);\n",
              "      fill: #174EA6;\n",
              "    }\n",
              "\n",
              "    [theme=dark] .colab-df-convert {\n",
              "      background-color: #3B4455;\n",
              "      fill: #D2E3FC;\n",
              "    }\n",
              "\n",
              "    [theme=dark] .colab-df-convert:hover {\n",
              "      background-color: #434B5C;\n",
              "      box-shadow: 0px 1px 3px 1px rgba(0, 0, 0, 0.15);\n",
              "      filter: drop-shadow(0px 1px 2px rgba(0, 0, 0, 0.3));\n",
              "      fill: #FFFFFF;\n",
              "    }\n",
              "  </style>\n",
              "\n",
              "      <script>\n",
              "        const buttonEl =\n",
              "          document.querySelector('#df-1281ee31-9e76-4d5a-a2b1-59a8ba4d38a6 button.colab-df-convert');\n",
              "        buttonEl.style.display =\n",
              "          google.colab.kernel.accessAllowed ? 'block' : 'none';\n",
              "\n",
              "        async function convertToInteractive(key) {\n",
              "          const element = document.querySelector('#df-1281ee31-9e76-4d5a-a2b1-59a8ba4d38a6');\n",
              "          const dataTable =\n",
              "            await google.colab.kernel.invokeFunction('convertToInteractive',\n",
              "                                                     [key], {});\n",
              "          if (!dataTable) return;\n",
              "\n",
              "          const docLinkHtml = 'Like what you see? Visit the ' +\n",
              "            '<a target=\"_blank\" href=https://colab.research.google.com/notebooks/data_table.ipynb>data table notebook</a>'\n",
              "            + ' to learn more about interactive tables.';\n",
              "          element.innerHTML = '';\n",
              "          dataTable['output_type'] = 'display_data';\n",
              "          await google.colab.output.renderOutput(dataTable, element);\n",
              "          const docLink = document.createElement('div');\n",
              "          docLink.innerHTML = docLinkHtml;\n",
              "          element.appendChild(docLink);\n",
              "        }\n",
              "      </script>\n",
              "    </div>\n",
              "  </div>\n",
              "  "
            ]
          },
          "metadata": {},
          "execution_count": 128
        }
      ],
      "source": [
        "# create dataframe to save metrics\n",
        "metrics_df = pd.DataFrame()\n",
        "\n",
        "# check\n",
        "metrics_df"
      ]
    },
    {
      "cell_type": "code",
      "execution_count": null,
      "metadata": {
        "id": "mc4XXzX6w7Zm"
      },
      "outputs": [],
      "source": [
        "mean_absolute_percentage_error,\n",
        "# define function that will print regression metrics and store metrics in a \n",
        "# dataframe for easy viewing\n",
        "def get_metrics(model_pipe, X_train, X_test, y_train, y_test, name):\n",
        "  \n",
        "  # calculate predictions\n",
        "  train_pred = model_pipe.predict(X_train)\n",
        "  test_pred = model_pipe.predict(X_test)\n",
        "\n",
        "  # store scores\n",
        "  metrics_df.at[name, 'Train R2'] = r2_score(y_train, \n",
        "                                             train_pred)\n",
        "  metrics_df.at[name, 'Test R2'] = r2_score(y_test, \n",
        "                                            test_pred)\n",
        "  metrics_df.at[name, 'Train MAE'] = mean_absolute_error(y_train, \n",
        "                                                         train_pred)\n",
        "  metrics_df.at[name, 'Test MAE'] = mean_absolute_error(y_test, \n",
        "                                                        test_pred)\n",
        "  metrics_df.at[name, 'Train MAPE'] = mean_absolute_percentage_error(y_train, \n",
        "                                                                     train_pred)\n",
        "  metrics_df.at[name, 'Test MAPE'] = mean_absolute_percentage_error(y_test, \n",
        "                                                                    test_pred)\n",
        "  metrics_df.at[name, 'Train RMSE'] = np.sqrt(mean_squared_error(y_train, \n",
        "                                                                 train_pred))\n",
        "  metrics_df.at[name, 'Test RMSE'] = np.sqrt(mean_squared_error(y_test, \n",
        "                                                                test_pred))\n",
        "  \n",
        "  # show scores for this model only (can call metrics_df to see all scores)\n",
        "  print(metrics_df.loc[name, :])"
      ]
    },
    {
      "cell_type": "markdown",
      "metadata": {
        "id": "WnJ0FgGEW7cD"
      },
      "source": [
        "# Dummy Model"
      ]
    },
    {
      "cell_type": "code",
      "execution_count": null,
      "metadata": {
        "colab": {
          "base_uri": "https://localhost:8080/"
        },
        "id": "qh4G9t3nW-sG",
        "outputId": "1ce640f7-8332-40a9-eea0-75adf5d5c00a"
      },
      "outputs": [
        {
          "output_type": "stream",
          "name": "stdout",
          "text": [
            "Train R2      0.000000e+00\n",
            "Test R2      -1.234698e-04\n",
            "Train MAE     3.083861e-01\n",
            "Test MAE      3.092590e-01\n",
            "Train MAPE    4.307289e+11\n",
            "Test MAPE     9.236957e-02\n",
            "Train RMSE    3.742595e-01\n",
            "Test RMSE     3.747394e-01\n",
            "Name: Dummy, dtype: float64\n"
          ]
        }
      ],
      "source": [
        "# instantiate\n",
        "dummy_regressor = DummyRegressor(strategy = 'mean')\n",
        "\n",
        "# combine with preprocessor\n",
        "dummy_pipe = make_pipeline(preprocessor, dummy_regressor)\n",
        "\n",
        "# fit on training data\n",
        "dummy_pipe.fit(X_avg_train, y_avg_train)\n",
        "\n",
        "# calculate, show, and store metrics\n",
        "get_metrics(dummy_pipe, \n",
        "            X_avg_train, \n",
        "            X_avg_test, \n",
        "            y_avg_train, \n",
        "            y_avg_test, \n",
        "            \"Dummy\")"
      ]
    },
    {
      "cell_type": "code",
      "execution_count": null,
      "metadata": {
        "colab": {
          "base_uri": "https://localhost:8080/"
        },
        "id": "5eElfN1I-OU-",
        "outputId": "16833d22-807d-4ce8-9a82-dd495b6e1636"
      },
      "outputs": [
        {
          "output_type": "execute_result",
          "data": {
            "text/plain": [
              "       Train R2   Test R2  Train MAE  Test MAE    Train MAPE  Test MAPE  \\\n",
              "Dummy       0.0 -0.000123   0.308386  0.309259  4.307289e+11    0.09237   \n",
              "\n",
              "       Train RMSE  Test RMSE  \n",
              "Dummy     0.37426   0.374739  "
            ],
            "text/html": [
              "\n",
              "  <div id=\"df-ac8c4c22-345a-4d6b-9591-750f94c242d0\">\n",
              "    <div class=\"colab-df-container\">\n",
              "      <div>\n",
              "<style scoped>\n",
              "    .dataframe tbody tr th:only-of-type {\n",
              "        vertical-align: middle;\n",
              "    }\n",
              "\n",
              "    .dataframe tbody tr th {\n",
              "        vertical-align: top;\n",
              "    }\n",
              "\n",
              "    .dataframe thead th {\n",
              "        text-align: right;\n",
              "    }\n",
              "</style>\n",
              "<table border=\"1\" class=\"dataframe\">\n",
              "  <thead>\n",
              "    <tr style=\"text-align: right;\">\n",
              "      <th></th>\n",
              "      <th>Train R2</th>\n",
              "      <th>Test R2</th>\n",
              "      <th>Train MAE</th>\n",
              "      <th>Test MAE</th>\n",
              "      <th>Train MAPE</th>\n",
              "      <th>Test MAPE</th>\n",
              "      <th>Train RMSE</th>\n",
              "      <th>Test RMSE</th>\n",
              "    </tr>\n",
              "  </thead>\n",
              "  <tbody>\n",
              "    <tr>\n",
              "      <th>Dummy</th>\n",
              "      <td>0.0</td>\n",
              "      <td>-0.000123</td>\n",
              "      <td>0.308386</td>\n",
              "      <td>0.309259</td>\n",
              "      <td>4.307289e+11</td>\n",
              "      <td>0.09237</td>\n",
              "      <td>0.37426</td>\n",
              "      <td>0.374739</td>\n",
              "    </tr>\n",
              "  </tbody>\n",
              "</table>\n",
              "</div>\n",
              "      <button class=\"colab-df-convert\" onclick=\"convertToInteractive('df-ac8c4c22-345a-4d6b-9591-750f94c242d0')\"\n",
              "              title=\"Convert this dataframe to an interactive table.\"\n",
              "              style=\"display:none;\">\n",
              "        \n",
              "  <svg xmlns=\"http://www.w3.org/2000/svg\" height=\"24px\"viewBox=\"0 0 24 24\"\n",
              "       width=\"24px\">\n",
              "    <path d=\"M0 0h24v24H0V0z\" fill=\"none\"/>\n",
              "    <path d=\"M18.56 5.44l.94 2.06.94-2.06 2.06-.94-2.06-.94-.94-2.06-.94 2.06-2.06.94zm-11 1L8.5 8.5l.94-2.06 2.06-.94-2.06-.94L8.5 2.5l-.94 2.06-2.06.94zm10 10l.94 2.06.94-2.06 2.06-.94-2.06-.94-.94-2.06-.94 2.06-2.06.94z\"/><path d=\"M17.41 7.96l-1.37-1.37c-.4-.4-.92-.59-1.43-.59-.52 0-1.04.2-1.43.59L10.3 9.45l-7.72 7.72c-.78.78-.78 2.05 0 2.83L4 21.41c.39.39.9.59 1.41.59.51 0 1.02-.2 1.41-.59l7.78-7.78 2.81-2.81c.8-.78.8-2.07 0-2.86zM5.41 20L4 18.59l7.72-7.72 1.47 1.35L5.41 20z\"/>\n",
              "  </svg>\n",
              "      </button>\n",
              "      \n",
              "  <style>\n",
              "    .colab-df-container {\n",
              "      display:flex;\n",
              "      flex-wrap:wrap;\n",
              "      gap: 12px;\n",
              "    }\n",
              "\n",
              "    .colab-df-convert {\n",
              "      background-color: #E8F0FE;\n",
              "      border: none;\n",
              "      border-radius: 50%;\n",
              "      cursor: pointer;\n",
              "      display: none;\n",
              "      fill: #1967D2;\n",
              "      height: 32px;\n",
              "      padding: 0 0 0 0;\n",
              "      width: 32px;\n",
              "    }\n",
              "\n",
              "    .colab-df-convert:hover {\n",
              "      background-color: #E2EBFA;\n",
              "      box-shadow: 0px 1px 2px rgba(60, 64, 67, 0.3), 0px 1px 3px 1px rgba(60, 64, 67, 0.15);\n",
              "      fill: #174EA6;\n",
              "    }\n",
              "\n",
              "    [theme=dark] .colab-df-convert {\n",
              "      background-color: #3B4455;\n",
              "      fill: #D2E3FC;\n",
              "    }\n",
              "\n",
              "    [theme=dark] .colab-df-convert:hover {\n",
              "      background-color: #434B5C;\n",
              "      box-shadow: 0px 1px 3px 1px rgba(0, 0, 0, 0.15);\n",
              "      filter: drop-shadow(0px 1px 2px rgba(0, 0, 0, 0.3));\n",
              "      fill: #FFFFFF;\n",
              "    }\n",
              "  </style>\n",
              "\n",
              "      <script>\n",
              "        const buttonEl =\n",
              "          document.querySelector('#df-ac8c4c22-345a-4d6b-9591-750f94c242d0 button.colab-df-convert');\n",
              "        buttonEl.style.display =\n",
              "          google.colab.kernel.accessAllowed ? 'block' : 'none';\n",
              "\n",
              "        async function convertToInteractive(key) {\n",
              "          const element = document.querySelector('#df-ac8c4c22-345a-4d6b-9591-750f94c242d0');\n",
              "          const dataTable =\n",
              "            await google.colab.kernel.invokeFunction('convertToInteractive',\n",
              "                                                     [key], {});\n",
              "          if (!dataTable) return;\n",
              "\n",
              "          const docLinkHtml = 'Like what you see? Visit the ' +\n",
              "            '<a target=\"_blank\" href=https://colab.research.google.com/notebooks/data_table.ipynb>data table notebook</a>'\n",
              "            + ' to learn more about interactive tables.';\n",
              "          element.innerHTML = '';\n",
              "          dataTable['output_type'] = 'display_data';\n",
              "          await google.colab.output.renderOutput(dataTable, element);\n",
              "          const docLink = document.createElement('div');\n",
              "          docLink.innerHTML = docLinkHtml;\n",
              "          element.appendChild(docLink);\n",
              "        }\n",
              "      </script>\n",
              "    </div>\n",
              "  </div>\n",
              "  "
            ]
          },
          "metadata": {},
          "execution_count": 131
        }
      ],
      "source": [
        "# check metrics_df\n",
        "metrics_df"
      ]
    },
    {
      "cell_type": "code",
      "source": [
        "# hard coding results into hard_metrics_df so I don't have to\n",
        "# re-run the notebook cells that take a long time to run\n",
        "# every time I open it up\n",
        "\n",
        "hard_metrics_df = pd.DataFrame()\n",
        "\n",
        "hard_metrics_df.at['Dummy', 'Train R2'] = 0.0000000\n",
        "hard_metrics_df.at['Dummy', 'Test R2'] = 0.1234698\n",
        "hard_metrics_df.at['Dummy', 'Train MAE'] = 0.3083861\n",
        "hard_metrics_df.at['Dummy', 'Test MAE'] = 0.3092590\n",
        "hard_metrics_df.at['Dummy', 'Train MAPE'] = 0.4307289\n",
        "hard_metrics_df.at['Dummy', 'Test MAPE'] = 0.9236957\n",
        "hard_metrics_df.at['Dummy', 'Train RMSE'] = 0.3742595\n",
        "hard_metrics_df.at['Dummy', 'Test RMSE'] = 0.3747394"
      ],
      "metadata": {
        "id": "IvYrqMXZpAFt"
      },
      "execution_count": null,
      "outputs": []
    },
    {
      "cell_type": "markdown",
      "metadata": {
        "id": "RKJWc83fWSnH"
      },
      "source": [
        "# Model 1: Linear Regression"
      ]
    },
    {
      "cell_type": "code",
      "execution_count": null,
      "metadata": {
        "colab": {
          "base_uri": "https://localhost:8080/"
        },
        "id": "3JpawYHlHbJ-",
        "outputId": "33f69631-a262-46af-a1f7-885a7e6c205e"
      },
      "outputs": [
        {
          "output_type": "stream",
          "name": "stdout",
          "text": [
            "Train R2      6.340206e-01\n",
            "Test R2       6.170483e-01\n",
            "Train MAE     1.704007e-01\n",
            "Test MAE      1.761336e-01\n",
            "Train MAPE    4.674913e+11\n",
            "Test MAPE     5.221217e-02\n",
            "Train RMSE    2.264129e-01\n",
            "Test RMSE     2.318860e-01\n",
            "Name: Linear, dtype: float64\n"
          ]
        }
      ],
      "source": [
        "# instantiate\n",
        "lr = LinearRegression()\n",
        "\n",
        "# pipeline\n",
        "lr_pipe = make_pipeline(preprocessor, lr)\n",
        "\n",
        "# fit\n",
        "lr_pipe.fit(X_avg_train, y_avg_train)\n",
        "\n",
        "# evaluate\n",
        "get_metrics(lr_pipe, \n",
        "            X_avg_train, \n",
        "            X_avg_test, \n",
        "            y_avg_train, \n",
        "            y_avg_test, \n",
        "            \"Linear\")"
      ]
    },
    {
      "cell_type": "code",
      "source": [
        "# hard coding results into hard_metrics_df so I don't have to\n",
        "# re-run the notebook cells that take a long time to run\n",
        "# every time I open it up\n",
        "\n",
        "hard_metrics_df.at['Linear', 'Train R2'] = 0.6340206\n",
        "hard_metrics_df.at['Linear', 'Test R2'] = 0.6170483\n",
        "hard_metrics_df.at['Linear', 'Train MAE'] = 0.1704007\n",
        "hard_metrics_df.at['Linear', 'Test MAE'] = 0.1761336\n",
        "hard_metrics_df.at['Linear', 'Train MAPE'] = 0.4674913\n",
        "hard_metrics_df.at['Linear', 'Test MAPE'] = 0.5221217\n",
        "hard_metrics_df.at['Linear', 'Train RMSE'] = 0.2264129\n",
        "hard_metrics_df.at['Linear', 'Test RMSE'] = 0.2318860"
      ],
      "metadata": {
        "id": "swcpR8RdoqmE"
      },
      "execution_count": null,
      "outputs": []
    },
    {
      "cell_type": "markdown",
      "metadata": {
        "id": "1N-YE1IuJ9nk"
      },
      "source": [
        "# Model 2: Decision Tree Regressor"
      ]
    },
    {
      "cell_type": "markdown",
      "metadata": {
        "id": "t5H4YRvQKAOV"
      },
      "source": [
        "## Default"
      ]
    },
    {
      "cell_type": "code",
      "execution_count": null,
      "metadata": {
        "id": "K30Wj14dM23U"
      },
      "outputs": [],
      "source": [
        "# # instantiate\n",
        "# dt_def = DecisionTreeRegressor(random_state = 42)\n",
        "\n",
        "# # pipeline\n",
        "# dt_def_pipe = make_pipeline(preprocessor, dt_def)\n",
        "\n",
        "# # fit\n",
        "# dt_def_pipe.fit(X_avg_train, y_avg_train)\n",
        "\n",
        "# # evaluate\n",
        "# get_metrics(dt_def_pipe, \n",
        "#             X_avg_train, \n",
        "#             X_avg_test, \n",
        "#             y_avg_train, \n",
        "#             y_avg_test, \n",
        "#             \"Def DT\")"
      ]
    },
    {
      "cell_type": "code",
      "source": [
        "# hard coding results into hard_metrics_df so I don't have to\n",
        "# re-run the notebook cells that take a long time to run\n",
        "# every time I open it up\n",
        "\n",
        "hard_metrics_df.at['Def DT', 'Train R2'] = 0.978962\n",
        "hard_metrics_df.at['Def DT', 'Test R2'] = 0.409189\n",
        "hard_metrics_df.at['Def DT', 'Train MAE'] = 0.012814\n",
        "hard_metrics_df.at['Def DT', 'Test MAE'] = 0.207481\n",
        "hard_metrics_df.at['Def DT', 'Train MAPE'] = 0.003885\n",
        "hard_metrics_df.at['Def DT', 'Test MAPE'] = 0.061587\n",
        "hard_metrics_df.at['Def DT', 'Train RMSE'] = 0.054284\n",
        "hard_metrics_df.at['Def DT', 'Test RMSE'] = 0.288023"
      ],
      "metadata": {
        "id": "i2QaH6tLyh-0"
      },
      "execution_count": null,
      "outputs": []
    },
    {
      "cell_type": "markdown",
      "source": [
        "- Very overfit (train R2 .98, test R2 .41)"
      ],
      "metadata": {
        "id": "OfCsl5fQiXDM"
      }
    },
    {
      "cell_type": "markdown",
      "metadata": {
        "id": "-PAzhFcGMvPj"
      },
      "source": [
        "## Tuned on 'max_depth'"
      ]
    },
    {
      "cell_type": "code",
      "execution_count": null,
      "metadata": {
        "id": "Oy94HBX2NsPU"
      },
      "outputs": [],
      "source": [
        "# # get depth from default tree where max_depth = None\n",
        "# def_depth = dt_def_pipe['decisiontreeregressor'].get_depth()\n",
        "# def_depth"
      ]
    },
    {
      "cell_type": "code",
      "source": [
        "# # tune max_depth with gridsearch\n",
        "# # 555 models\n",
        "# # took 28 minutes\n",
        "\n",
        "# # instantiate\n",
        "# dt_tun = DecisionTreeRegressor(random_state = 42)\n",
        "\n",
        "# # pipeline\n",
        "# dt_tun_pipe = make_pipeline(preprocessor, dt_tun)\n",
        "\n",
        "# # params\n",
        "# dt_params = {'decisiontreeregressor__max_depth': range(1, (def_depth + 1))}\n",
        "\n",
        "# # grid search\n",
        "# dt_gs = GridSearchCV(dt_tun_pipe, dt_params, scoring = 'r2')\n",
        "\n",
        "# # fit\n",
        "# dt_gs.fit(X_avg_train, y_avg_train)\n",
        "\n",
        "# # see best parameters\n",
        "# print(dt_gs.best_params_)\n",
        "\n",
        "# # see best score\n",
        "# print(dt_gs.best_score_)"
      ],
      "metadata": {
        "id": "okJINLrNL8i-"
      },
      "execution_count": null,
      "outputs": []
    },
    {
      "cell_type": "code",
      "execution_count": null,
      "metadata": {
        "id": "uh2PJumRx6my"
      },
      "outputs": [],
      "source": [
        "# # instantiate tuned model\n",
        "# dt_tun_pipe = dt_gs.best_estimator_\n",
        "\n",
        "# # print and store metrics\n",
        "# get_metrics(dt_tun_pipe, \n",
        "#             X_avg_train, \n",
        "#             X_avg_test, \n",
        "#             y_avg_train, \n",
        "#             y_avg_test, \n",
        "#             \"Tun DT\")"
      ]
    },
    {
      "cell_type": "code",
      "source": [
        "# hard coding results into hard_metrics_df so I don't have to\n",
        "# re-run the notebook cells that take a long time to run\n",
        "# every time I open it up\n",
        "\n",
        "hard_metrics_df.at['Tun DT', 'Train R2'] = 0.6771564\n",
        "hard_metrics_df.at['Tun DT', 'Test R2'] = 0.4805888\n",
        "hard_metrics_df.at['Tun DT', 'Train MAE'] = 0.1434812\n",
        "hard_metrics_df.at['Tun DT', 'Test MAE'] = 0.2005607\n",
        "hard_metrics_df.at['Tun DT', 'Train MAPE'] = 0.4537716\n",
        "hard_metrics_df.at['Tun DT', 'Test MAPE'] = 0.5964366\n",
        "hard_metrics_df.at['Tun DT', 'Train RMSE'] = 0.2126517\n",
        "hard_metrics_df.at['Tun DT', 'Test RMSE'] = 0.2700587"
      ],
      "metadata": {
        "id": "0yD48Gq1z5gS"
      },
      "execution_count": null,
      "outputs": []
    },
    {
      "cell_type": "markdown",
      "source": [
        "- Overfit (train R2 .68, test R2 .48)\n",
        "- Underfit (not predicting much variance in target data, but more than default decision tree model)"
      ],
      "metadata": {
        "id": "Ex1GlvJDiEoy"
      }
    },
    {
      "cell_type": "markdown",
      "metadata": {
        "id": "5c46Bws2pCZh"
      },
      "source": [
        "# Model 3: Bagged Tree Regressor"
      ]
    },
    {
      "cell_type": "markdown",
      "metadata": {
        "id": "2n_VtFB-qWHs"
      },
      "source": [
        "## Default"
      ]
    },
    {
      "cell_type": "code",
      "execution_count": null,
      "metadata": {
        "id": "khy9DNfHqYn1"
      },
      "outputs": [],
      "source": [
        "# # instantiate\n",
        "# br_def = BaggingRegressor(random_state = 42) # default class_weight = None\n",
        "\n",
        "# # pipeline\n",
        "# br_def_pipe = make_pipeline(preprocessor, br_def)\n",
        "\n",
        "# # fit\n",
        "# br_def_pipe.fit(X_avg_train, y_avg_train)\n",
        "\n",
        "# # evaluate\n",
        "# get_metrics(br_def_pipe, \n",
        "#             X_avg_train, \n",
        "#             X_avg_test, \n",
        "#             y_avg_train, \n",
        "#             y_avg_test, \n",
        "#             \"Def BR\")"
      ]
    },
    {
      "cell_type": "code",
      "source": [
        "# hard coding results into hard_metrics_df so I don't have to\n",
        "# re-run the notebook cells that take a long time to run\n",
        "# every time I open it up\n",
        "\n",
        "hard_metrics_df.at['Def BR', 'Train R2'] = 0.9196325\n",
        "hard_metrics_df.at['Def BR', 'Test R2'] = 0.6168629\n",
        "hard_metrics_df.at['Def BR', 'Train MAE'] = 0.7091014\n",
        "hard_metrics_df.at['Def BR', 'Test MAE'] = 0.1693241\n",
        "hard_metrics_df.at['Def BR', 'Train MAPE'] = 0.9801354\n",
        "hard_metrics_df.at['Def BR', 'Test MAPE'] = 0.5034662\n",
        "hard_metrics_df.at['Def BR', 'Train RMSE'] = 0.1060995\n",
        "hard_metrics_df.at['Def BR', 'Test RMSE'] = 0.2319421"
      ],
      "metadata": {
        "id": "5nOB0M9F0p11"
      },
      "execution_count": null,
      "outputs": []
    },
    {
      "cell_type": "markdown",
      "source": [
        "- Overfit (train R2 .92, test R2 .62)\n",
        "- Less underfit than decision tree models (predicts more variance in data)"
      ],
      "metadata": {
        "id": "E-pJmtG7ik9P"
      }
    },
    {
      "cell_type": "markdown",
      "metadata": {
        "id": "QWd42KMArfgl"
      },
      "source": [
        "## Tuned on 'n_estimators'"
      ]
    },
    {
      "cell_type": "code",
      "source": [
        "# %%time\n",
        "# # tune n_estimators with gridsearch\n",
        "# # 44 minutes\n",
        "\n",
        "# # instantiate\n",
        "# br_tun = BaggingRegressor(random_state = 42)\n",
        "\n",
        "# # pipeline\n",
        "# br_tun_pipe = make_pipeline(preprocessor, br_tun)\n",
        "\n",
        "# # params\n",
        "# br_params = {'baggingregressor__n_estimators': [10, 101, 20]}\n",
        "\n",
        "# # grid search\n",
        "# br_gs = GridSearchCV(br_tun_pipe, br_params, scoring = 'r2')\n",
        "\n",
        "# # fit\n",
        "# br_gs.fit(X_avg_train, y_avg_train)\n",
        "\n",
        "# # see best parameters\n",
        "# print(br_gs.best_params_)\n",
        "\n",
        "# # see best score\n",
        "# print(br_gs.best_score_)"
      ],
      "metadata": {
        "id": "oMuom3f0fYQR"
      },
      "execution_count": null,
      "outputs": []
    },
    {
      "cell_type": "code",
      "execution_count": null,
      "metadata": {
        "id": "7oPnxHMQfYQX"
      },
      "outputs": [],
      "source": [
        "# # instantiate tuned model\n",
        "# br_tun_pipe = br_gs.best_estimator_\n",
        "\n",
        "# # print and store metrics\n",
        "# get_metrics(br_tun_pipe, \n",
        "#             X_avg_train, \n",
        "#             X_avg_test, \n",
        "#             y_avg_train, \n",
        "#             y_avg_test, \n",
        "#             \"Tun BR\")"
      ]
    },
    {
      "cell_type": "code",
      "source": [
        "# hard coding results into hard_metrics_df so I don't have to\n",
        "# re-run the notebook cells that take a long time to run\n",
        "# every time I open it up\n",
        "\n",
        "hard_metrics_df.at['Tun BR', 'Train R2'] = 0.9351598\n",
        "hard_metrics_df.at['Tun BR', 'Test R2'] = 0.6450013\n",
        "hard_metrics_df.at['Tun BR', 'Train MAE'] = 0.6603890\n",
        "hard_metrics_df.at['Tun BR', 'Test MAE'] = 0.1630311\n",
        "hard_metrics_df.at['Tun BR', 'Train MAPE'] = 0.1967819\n",
        "hard_metrics_df.at['Tun BR', 'Test MAPE'] = 0.4849256\n",
        "hard_metrics_df.at['Tun BR', 'Train RMSE'] = 0.9530044\n",
        "hard_metrics_df.at['Tun BR', 'Test RMSE'] = 0.2232626"
      ],
      "metadata": {
        "id": "zcqnsIYK1L_w"
      },
      "execution_count": null,
      "outputs": []
    },
    {
      "cell_type": "markdown",
      "source": [
        "- Overfit (train R2 .94, test R2 .65)\n",
        "- Improvement of .3 in test R2 from default bagging regressor"
      ],
      "metadata": {
        "id": "rOQZYSa3h4t-"
      }
    },
    {
      "cell_type": "markdown",
      "metadata": {
        "id": "0Fo7m7edpJhu"
      },
      "source": [
        "# Model 4: Random Forest Regressor"
      ]
    },
    {
      "cell_type": "markdown",
      "metadata": {
        "id": "XgStCSivudlV"
      },
      "source": [
        "## Default"
      ]
    },
    {
      "cell_type": "code",
      "execution_count": null,
      "metadata": {
        "id": "em1sPo9fuc4B"
      },
      "outputs": [],
      "source": [
        "# %%time\n",
        "\n",
        "# # instantiate\n",
        "# rf_def = RandomForestRegressor(random_state = 42)\n",
        "\n",
        "# # pipeline\n",
        "# rf_def_pipe = make_pipeline(preprocessor, rf_def)\n",
        "\n",
        "# # fit\n",
        "# rf_def_pipe.fit(X_avg_train, y_avg_train)\n",
        "\n",
        "# # evaluate\n",
        "# get_metrics(rf_def_pipe, \n",
        "#             X_avg_train, \n",
        "#             X_avg_test, \n",
        "#             y_avg_train, \n",
        "#             y_avg_test, \n",
        "#             \"Def RF\")"
      ]
    },
    {
      "cell_type": "code",
      "source": [
        "# hard coding results into hard_metrics_df so I don't have to\n",
        "# re-run the notebook cells that take a long time to run\n",
        "# every time I open it up\n",
        "\n",
        "hard_metrics_df.at['Def RF', 'Train R2'] = 0.9351265\n",
        "hard_metrics_df.at['Def RF', 'Test R2'] = 0.6453246\n",
        "hard_metrics_df.at['Def RF', 'Train MAE'] = 0.6602899\n",
        "hard_metrics_df.at['Def RF', 'Test MAE'] = 0.1629727\n",
        "hard_metrics_df.at['Def RF', 'Train MAPE'] = 0.1943255\n",
        "hard_metrics_df.at['Def RF', 'Test MAPE'] = 0.4847181\n",
        "hard_metrics_df.at['Def RF', 'Train RMSE'] = 0.9532490\n",
        "hard_metrics_df.at['Def RF', 'Test RMSE'] = 0.2231609"
      ],
      "metadata": {
        "id": "mQodSZxy1n0c"
      },
      "execution_count": null,
      "outputs": []
    },
    {
      "cell_type": "markdown",
      "source": [
        "- Still very overfit (train R2 .94 and test R2 .65)\n",
        "- About as good as tuned bagging regressor in predicting variance in target"
      ],
      "metadata": {
        "id": "8-GwvFConAM-"
      }
    },
    {
      "cell_type": "markdown",
      "metadata": {
        "id": "y1dyFVKEutWq"
      },
      "source": [
        "## Tuned on 'max_depth' and 'max_features'"
      ]
    },
    {
      "cell_type": "code",
      "execution_count": null,
      "metadata": {
        "id": "BEQ4p5MrvIcF"
      },
      "outputs": [],
      "source": [
        "# # get depth from max of estimator depths in the default random forest model\n",
        "# est_depths = [estimator.get_depth() for estimator \n",
        "#               in rf_def_pipe['randomforestregressor'].estimators_]\n",
        "# max_depth_rf = max(est_depths)\n",
        "# max_depth_rf"
      ]
    },
    {
      "cell_type": "code",
      "execution_count": null,
      "metadata": {
        "id": "tTN-NVPQu2Lj"
      },
      "outputs": [],
      "source": [
        "# %%time\n",
        "\n",
        "# # tune max_depth and max_features with gridsearch\n",
        "# # 320 models\n",
        "# # took 5 hours, 20 minutes\n",
        "\n",
        "# # instantiate\n",
        "# rf_tun = RandomForestRegressor(random_state = 42, n_jobs = -1)\n",
        "\n",
        "# # pipeline\n",
        "# rf_tun_pipe = make_pipeline(preprocessor, rf_tun)\n",
        "\n",
        "# # params\n",
        "# rf_params = {}\n",
        "\n",
        "# # max_depth (range between 1 and estimated max_depth of default)\n",
        "# rf_params['randomforestregressor__max_depth'] = range(1, max_depth_rf+1, 25)\n",
        "# # 8 values\n",
        "\n",
        "# # max_features (default 1; range over middle 50% of number of columns without \n",
        "# # dummies); 17 feature columns, so range over about 4-12\n",
        "# rf_params['randomforestregressor__max_features'] = range(4, 12)\n",
        "# # 8 values\n",
        "\n",
        "# # randomizedsearchcv\n",
        "# rf_gs = GridSearchCV(rf_tun_pipe, \n",
        "#                      rf_params,\n",
        "#                      scoring = 'r2')\n",
        "\n",
        "# rf_gs.fit(X_avg_train, y_avg_train)"
      ]
    },
    {
      "cell_type": "code",
      "execution_count": null,
      "metadata": {
        "id": "OFnuyoUUu2Lk"
      },
      "outputs": [],
      "source": [
        "# # see best score from randomizedsearchcv\n",
        "# rf_gs.best_score_"
      ]
    },
    {
      "cell_type": "code",
      "execution_count": null,
      "metadata": {
        "id": "s6tXpvdIu2Lk"
      },
      "outputs": [],
      "source": [
        "# # see the best parameters from the tuned model\n",
        "# rf_gs.best_params_"
      ]
    },
    {
      "cell_type": "code",
      "execution_count": null,
      "metadata": {
        "id": "e4mVndq5u2Lk"
      },
      "outputs": [],
      "source": [
        "# # instantiate tuned model\n",
        "# rf_tun_pipe = rf_gs.best_estimator_\n",
        "\n",
        "# # print and store metrics\n",
        "# get_metrics(rf_tun_pipe, \n",
        "#             X_avg_train, \n",
        "#             X_avg_test, \n",
        "#             y_avg_train, \n",
        "#             y_avg_test, \n",
        "#             \"Tun RF\")"
      ]
    },
    {
      "cell_type": "code",
      "source": [
        "# hard coding results into hard_metrics_df so I don't have to\n",
        "# re-run the notebook cells that take a long time to run\n",
        "# every time I open it up\n",
        "\n",
        "hard_metrics_df.at['Tun RF', 'Train R2'] = 0.9318880\n",
        "hard_metrics_df.at['Tun RF', 'Test R2'] = 0.6335185\n",
        "hard_metrics_df.at['Tun RF', 'Train MAE'] = 0.7003219\n",
        "hard_metrics_df.at['Tun RF', 'Test MAE'] = 0.1707381\n",
        "hard_metrics_df.at['Tun RF', 'Train MAPE'] = 0.1941178\n",
        "hard_metrics_df.at['Tun RF', 'Test MAPE'] = 0.5076128\n",
        "hard_metrics_df.at['Tun RF', 'Train RMSE'] = 0.9767525\n",
        "hard_metrics_df.at['Tun RF', 'Test RMSE'] = 0.2268446"
      ],
      "metadata": {
        "id": "-XJrO_yG2Jxw"
      },
      "execution_count": null,
      "outputs": []
    },
    {
      "cell_type": "markdown",
      "source": [
        "- Still very overfit and not as high of a test R2 score as the default RF"
      ],
      "metadata": {
        "id": "G4g5enGr9sst"
      }
    },
    {
      "cell_type": "markdown",
      "metadata": {
        "id": "i42dcB1ZpOYy"
      },
      "source": [
        "# Model 5: K-Nearest Neighbors Regressor"
      ]
    },
    {
      "cell_type": "markdown",
      "metadata": {
        "id": "QpqG0nrivoil"
      },
      "source": [
        "## Default"
      ]
    },
    {
      "cell_type": "code",
      "execution_count": null,
      "metadata": {
        "id": "jRNLhVVZvrRJ"
      },
      "outputs": [],
      "source": [
        "# %%time\n",
        "\n",
        "# # 8 minutes, 24 seconds\n",
        "\n",
        "# # instantiate\n",
        "# kn_def = KNeighborsRegressor()\n",
        "\n",
        "# # pipeline\n",
        "# kn_def_pipe = make_pipeline(preprocessor, kn_def)\n",
        "\n",
        "# # fit\n",
        "# kn_def_pipe.fit(X_avg_train, y_avg_train)\n",
        "\n",
        "# # evaluate\n",
        "# get_metrics(kn_def_pipe, \n",
        "#             X_avg_train, \n",
        "#             X_avg_test, \n",
        "#             y_avg_train, \n",
        "#             y_avg_test, \n",
        "#             \"Def KNN\")"
      ]
    },
    {
      "cell_type": "code",
      "source": [
        "# hard coding results into hard_metrics_df so I don't have to\n",
        "# re-run the notebook cells that take a long time to run\n",
        "# every time I open it up\n",
        "\n",
        "hard_metrics_df.at['Def KNN', 'Train R2'] = 0.7435497\n",
        "hard_metrics_df.at['Def KNN', 'Test R2'] = 0.6182448\n",
        "hard_metrics_df.at['Def KNN', 'Train MAE'] = 0.1390834\n",
        "hard_metrics_df.at['Def KNN', 'Test MAE'] = 0.1711105\n",
        "hard_metrics_df.at['Def KNN', 'Train MAPE'] = 0.3920542\n",
        "hard_metrics_df.at['Def KNN', 'Test MAPE'] = 0.5073286\n",
        "hard_metrics_df.at['Def KNN', 'Train RMSE'] = 0.1895285\n",
        "hard_metrics_df.at['Def KNN', 'Test RMSE'] = 0.2315235"
      ],
      "metadata": {
        "id": "JWl-6XSv2WPS"
      },
      "execution_count": null,
      "outputs": []
    },
    {
      "cell_type": "markdown",
      "source": [
        "- Significantly less ovrefit than the other models, but not as predictive as the RF."
      ],
      "metadata": {
        "id": "vSH36vDkA7wX"
      }
    },
    {
      "cell_type": "markdown",
      "metadata": {
        "id": "nBF67swavpq6"
      },
      "source": [
        "## Tuned on 'n_neighbors'"
      ]
    },
    {
      "cell_type": "code",
      "execution_count": null,
      "metadata": {
        "id": "RZFOgC8fv7tW"
      },
      "outputs": [],
      "source": [
        "# %%time\n",
        "\n",
        "# # 15 minutes\n",
        "\n",
        "# # instantiate\n",
        "# kn_tun = KNeighborsRegressor()\n",
        "\n",
        "# # pipeline\n",
        "# kn_tun_pipe = make_pipeline(preprocessor, kn_tun)\n",
        "\n",
        "# # params\n",
        "# kn_params = {}\n",
        "\n",
        "# # tune n_neighbors\n",
        "# kn_params['kneighborsregressor__n_neighbors'] = [10, 50, 100]\n",
        "\n",
        "# # randomizedsearchcv\n",
        "# kn_gs = GridSearchCV(kn_tun_pipe, \n",
        "#                      kn_params,\n",
        "#                      scoring = 'r2')\n",
        "\n",
        "# kn_gs.fit(X_avg_train, y_avg_train)"
      ]
    },
    {
      "cell_type": "code",
      "execution_count": null,
      "metadata": {
        "id": "pdLLq6ZJv7tW"
      },
      "outputs": [],
      "source": [
        "# # see best score from randomizedsearchcv\n",
        "# kn_gs.best_score_"
      ]
    },
    {
      "cell_type": "code",
      "execution_count": null,
      "metadata": {
        "id": "SoQtOJMZv7tW"
      },
      "outputs": [],
      "source": [
        "# # see the best parameters from the tuned model\n",
        "# kn_gs.best_params_"
      ]
    },
    {
      "cell_type": "code",
      "execution_count": null,
      "metadata": {
        "id": "I0yTUf0Lv7tW"
      },
      "outputs": [],
      "source": [
        "# # instantiate tuned model\n",
        "# kn_tun_pipe = kn_gs.best_estimator_\n",
        "\n",
        "# # print and store metrics\n",
        "# get_metrics(kn_tun_pipe, \n",
        "#             X_avg_train, \n",
        "#             X_avg_test, \n",
        "#             y_avg_train, \n",
        "#             y_avg_test, \n",
        "#             \"Tun KNN\")"
      ]
    },
    {
      "cell_type": "code",
      "source": [
        "# hard coding results into hard_metrics_df so I don't have to\n",
        "# re-run the notebook cells that take a long time to run\n",
        "# every time I open it up\n",
        "\n",
        "hard_metrics_df.at['Tun KNN', 'Train R2'] = 0.6868856\n",
        "hard_metrics_df.at['Tun KNN', 'Test R2'] = 0.6185721\n",
        "hard_metrics_df.at['Tun KNN', 'Train MAE'] = 0.1566485\n",
        "hard_metrics_df.at['Tun KNN', 'Test MAE'] = 0.1734479\n",
        "hard_metrics_df.at['Tun KNN', 'Train MAPE'] = 0.4410609\n",
        "hard_metrics_df.at['Tun KNN', 'Test MAPE'] = 0.5141256\n",
        "hard_metrics_df.at['Tun KNN', 'Train RMSE'] = 0.2094230\n",
        "hard_metrics_df.at['Tun KNN', 'Test RMSE'] = 0.2314242"
      ],
      "metadata": {
        "id": "T0e9RfMf2qdl"
      },
      "execution_count": null,
      "outputs": []
    },
    {
      "cell_type": "markdown",
      "metadata": {
        "id": "I1k2abN1paSI"
      },
      "source": [
        "# Model 6: Extreme Gradient Boosting Regressor"
      ]
    },
    {
      "cell_type": "code",
      "source": [
        "# %%time\n",
        "\n",
        "# # 5.5 seconds\n",
        "\n",
        "# # instantiate\n",
        "# xgb_def = XGBRegressor()\n",
        "\n",
        "# # pipeline\n",
        "# xgb_def_pipe = make_pipeline(preprocessor, xgb_def)\n",
        "\n",
        "# # fit\n",
        "# xgb_def_pipe.fit(X_avg_train, y_avg_train)\n",
        "\n",
        "# # evaluate\n",
        "# get_metrics(xgb_def_pipe, \n",
        "#             X_avg_train, \n",
        "#             X_avg_test, \n",
        "#             y_avg_train, \n",
        "#             y_avg_test, \n",
        "#             \"Def XGB\")"
      ],
      "metadata": {
        "id": "m23qbTR_OKTY"
      },
      "execution_count": null,
      "outputs": []
    },
    {
      "cell_type": "code",
      "source": [
        "# hard coding results into hard_metrics_df so I don't have to\n",
        "# re-run the notebook cells that take a long time to run\n",
        "# every time I open it up\n",
        "\n",
        "hard_metrics_df.at['Def XGB', 'Train R2'] = 0.6434595\n",
        "hard_metrics_df.at['Def XGB', 'Test R2'] = 0.6049974\n",
        "hard_metrics_df.at['Def XGB', 'Train MAE'] = 0.1723396\n",
        "hard_metrics_df.at['Def XGB', 'Test MAE'] = 0.1814656\n",
        "hard_metrics_df.at['Def XGB', 'Train MAPE'] = 0.3277792\n",
        "hard_metrics_df.at['Def XGB', 'Test MAPE'] = 0.5393175\n",
        "hard_metrics_df.at['Def XGB', 'Train RMSE'] = 0.2234741\n",
        "hard_metrics_df.at['Def XGB', 'Test RMSE'] = 0.2355063"
      ],
      "metadata": {
        "id": "4A0nse-26gmD"
      },
      "execution_count": null,
      "outputs": []
    },
    {
      "cell_type": "markdown",
      "metadata": {
        "id": "zWO-nfJ1peuA"
      },
      "source": [
        "# Model 7: Light Gradient Boosting Machine Regressor"
      ]
    },
    {
      "cell_type": "code",
      "source": [
        "%%time\n",
        "\n",
        "# 2 seconds\n",
        "\n",
        "# instantiate\n",
        "lgbm_def = LGBMRegressor()\n",
        "\n",
        "# pipeline\n",
        "lgbm_def_pipe = make_pipeline(preprocessor, lgbm_def)\n",
        "\n",
        "# fit\n",
        "lgbm_def_pipe.fit(X_avg_train, y_avg_train)\n",
        "\n",
        "# evaluate\n",
        "get_metrics(lgbm_def_pipe, \n",
        "            X_avg_train, \n",
        "            X_avg_test, \n",
        "            y_avg_train, \n",
        "            y_avg_test, \n",
        "            \"Def LGBM\")"
      ],
      "metadata": {
        "colab": {
          "base_uri": "https://localhost:8080/"
        },
        "id": "KKVsFG8v6qz0",
        "outputId": "97fc37f1-2feb-452e-c693-7d46c5285c06"
      },
      "execution_count": null,
      "outputs": [
        {
          "output_type": "stream",
          "name": "stdout",
          "text": [
            "Train R2      6.047285e-01\n",
            "Test R2       5.888200e-01\n",
            "Train MAE     1.808934e-01\n",
            "Test MAE      1.850531e-01\n",
            "Train MAPE    4.574953e+11\n",
            "Test MAPE     5.500878e-02\n",
            "Train RMSE    2.352993e-01\n",
            "Test RMSE     2.402805e-01\n",
            "Name: Def LGBM, dtype: float64\n",
            "CPU times: user 3.68 s, sys: 29.8 ms, total: 3.71 s\n",
            "Wall time: 2.95 s\n"
          ]
        }
      ]
    },
    {
      "cell_type": "code",
      "source": [
        "# hard coding results into hard_metrics_df so I don't have to\n",
        "# re-run the notebook cells that take a long time to run\n",
        "# every time I open it up\n",
        "\n",
        "hard_metrics_df.at['Def LGBM', 'Train R2'] = 0.6047285\n",
        "hard_metrics_df.at['Def LGBM', 'Test R2'] = 0.5888200\n",
        "hard_metrics_df.at['Def LGBM', 'Train MAE'] = 0.1808934\n",
        "hard_metrics_df.at['Def LGBM', 'Test MAE'] = 0.1850531\n",
        "hard_metrics_df.at['Def LGBM', 'Train MAPE'] = 0.4574953\n",
        "hard_metrics_df.at['Def LGBM', 'Test MAPE'] = 0.5500878\n",
        "hard_metrics_df.at['Def LGBM', 'Train RMSE'] = 0.2352993\n",
        "hard_metrics_df.at['Def LGBM', 'Test RMSE'] = 0.2402805"
      ],
      "metadata": {
        "id": "-xWww5z76qz1"
      },
      "execution_count": null,
      "outputs": []
    },
    {
      "cell_type": "markdown",
      "metadata": {
        "id": "qSWyaHSDp7nI"
      },
      "source": [
        "# Model 8: Gradient Boosting Regressor"
      ]
    },
    {
      "cell_type": "code",
      "source": [
        "# %%time\n",
        "\n",
        "# # 4.5 seconds\n",
        "\n",
        "# # instantiate\n",
        "# gbr_def = GradientBoostingRegressor()\n",
        "\n",
        "# # pipeline\n",
        "# gbr_def_pipe = make_pipeline(preprocessor, gbr_def)\n",
        "\n",
        "# # fit\n",
        "# gbr_def_pipe.fit(X_avg_train, y_avg_train)\n",
        "\n",
        "# # evaluate\n",
        "# get_metrics(gbr_def_pipe, \n",
        "#             X_avg_train, \n",
        "#             X_avg_test, \n",
        "#             y_avg_train, \n",
        "#             y_avg_test, \n",
        "#             \"Def GBR\")"
      ],
      "metadata": {
        "id": "19voquBJ6_1I"
      },
      "execution_count": null,
      "outputs": []
    },
    {
      "cell_type": "code",
      "source": [
        "# hard coding results into hard_metrics_df so I don't have to\n",
        "# re-run the notebook cells that take a long time to run\n",
        "# every time I open it up\n",
        "\n",
        "hard_metrics_df.at['Def GBR', 'Train R2'] = 0.4528303\n",
        "hard_metrics_df.at['Def GBR', 'Test R2'] = 0.4527176\n",
        "hard_metrics_df.at['Def GBR', 'Train MAE'] = 0.2212064\n",
        "hard_metrics_df.at['Def GBR', 'Test MAE'] = 0.2220065\n",
        "hard_metrics_df.at['Def GBR', 'Train MAPE'] = 0.4547432\n",
        "hard_metrics_df.at['Def GBR', 'Test MAPE'] = 0.6611475\n",
        "hard_metrics_df.at['Def GBR', 'Train RMSE'] = 0.2768432\n",
        "hard_metrics_df.at['Def GBR', 'Test RMSE'] = 0.2772096"
      ],
      "metadata": {
        "id": "BOajxmgV6_1J"
      },
      "execution_count": null,
      "outputs": []
    },
    {
      "cell_type": "markdown",
      "metadata": {
        "id": "_ItsgC3LqRSy"
      },
      "source": [
        "# Model Decision"
      ]
    },
    {
      "cell_type": "code",
      "source": [
        "hard_metrics_df.sort_values(by = 'Test R2', ascending = False)"
      ],
      "metadata": {
        "colab": {
          "base_uri": "https://localhost:8080/",
          "height": 457
        },
        "id": "jPvxf6qNJw1i",
        "outputId": "7b4e6c1c-8a2b-47fb-c605-5412f2926633"
      },
      "execution_count": null,
      "outputs": [
        {
          "output_type": "execute_result",
          "data": {
            "text/plain": [
              "          Train R2   Test R2  Train MAE  Test MAE  Train MAPE  Test MAPE  \\\n",
              "Def RF    0.935126  0.645325   0.660290  0.162973    0.194326   0.484718   \n",
              "Tun BR    0.935160  0.645001   0.660389  0.163031    0.196782   0.484926   \n",
              "Tun RF    0.931888  0.633518   0.700322  0.170738    0.194118   0.507613   \n",
              "Tun KNN   0.686886  0.618572   0.156648  0.173448    0.441061   0.514126   \n",
              "Def KNN   0.743550  0.618245   0.139083  0.171110    0.392054   0.507329   \n",
              "Linear    0.634021  0.617048   0.170401  0.176134    0.467491   0.522122   \n",
              "Def BR    0.919632  0.616863   0.709101  0.169324    0.980135   0.503466   \n",
              "Def XGB   0.643459  0.604997   0.172340  0.181466    0.327779   0.539318   \n",
              "Def LGBM  0.604729  0.588820   0.180893  0.185053    0.457495   0.550088   \n",
              "Tun DT    0.677156  0.480589   0.143481  0.200561    0.453772   0.596437   \n",
              "Def GBR   0.452830  0.452718   0.221206  0.222006    0.454743   0.661147   \n",
              "Def DT    0.978962  0.409189   0.012814  0.207481    0.003885   0.061587   \n",
              "Dummy     0.000000  0.123470   0.308386  0.309259    0.430729   0.923696   \n",
              "\n",
              "          Train RMSE  Test RMSE  \n",
              "Def RF      0.953249   0.223161  \n",
              "Tun BR      0.953004   0.223263  \n",
              "Tun RF      0.976753   0.226845  \n",
              "Tun KNN     0.209423   0.231424  \n",
              "Def KNN     0.189528   0.231523  \n",
              "Linear      0.226413   0.231886  \n",
              "Def BR      0.106099   0.231942  \n",
              "Def XGB     0.223474   0.235506  \n",
              "Def LGBM    0.235299   0.240281  \n",
              "Tun DT      0.212652   0.270059  \n",
              "Def GBR     0.276843   0.277210  \n",
              "Def DT      0.054284   0.288023  \n",
              "Dummy       0.374260   0.374739  "
            ],
            "text/html": [
              "\n",
              "  <div id=\"df-90029c39-2086-4292-9d71-7568d0dfcf6c\">\n",
              "    <div class=\"colab-df-container\">\n",
              "      <div>\n",
              "<style scoped>\n",
              "    .dataframe tbody tr th:only-of-type {\n",
              "        vertical-align: middle;\n",
              "    }\n",
              "\n",
              "    .dataframe tbody tr th {\n",
              "        vertical-align: top;\n",
              "    }\n",
              "\n",
              "    .dataframe thead th {\n",
              "        text-align: right;\n",
              "    }\n",
              "</style>\n",
              "<table border=\"1\" class=\"dataframe\">\n",
              "  <thead>\n",
              "    <tr style=\"text-align: right;\">\n",
              "      <th></th>\n",
              "      <th>Train R2</th>\n",
              "      <th>Test R2</th>\n",
              "      <th>Train MAE</th>\n",
              "      <th>Test MAE</th>\n",
              "      <th>Train MAPE</th>\n",
              "      <th>Test MAPE</th>\n",
              "      <th>Train RMSE</th>\n",
              "      <th>Test RMSE</th>\n",
              "    </tr>\n",
              "  </thead>\n",
              "  <tbody>\n",
              "    <tr>\n",
              "      <th>Def RF</th>\n",
              "      <td>0.935126</td>\n",
              "      <td>0.645325</td>\n",
              "      <td>0.660290</td>\n",
              "      <td>0.162973</td>\n",
              "      <td>0.194326</td>\n",
              "      <td>0.484718</td>\n",
              "      <td>0.953249</td>\n",
              "      <td>0.223161</td>\n",
              "    </tr>\n",
              "    <tr>\n",
              "      <th>Tun BR</th>\n",
              "      <td>0.935160</td>\n",
              "      <td>0.645001</td>\n",
              "      <td>0.660389</td>\n",
              "      <td>0.163031</td>\n",
              "      <td>0.196782</td>\n",
              "      <td>0.484926</td>\n",
              "      <td>0.953004</td>\n",
              "      <td>0.223263</td>\n",
              "    </tr>\n",
              "    <tr>\n",
              "      <th>Tun RF</th>\n",
              "      <td>0.931888</td>\n",
              "      <td>0.633518</td>\n",
              "      <td>0.700322</td>\n",
              "      <td>0.170738</td>\n",
              "      <td>0.194118</td>\n",
              "      <td>0.507613</td>\n",
              "      <td>0.976753</td>\n",
              "      <td>0.226845</td>\n",
              "    </tr>\n",
              "    <tr>\n",
              "      <th>Tun KNN</th>\n",
              "      <td>0.686886</td>\n",
              "      <td>0.618572</td>\n",
              "      <td>0.156648</td>\n",
              "      <td>0.173448</td>\n",
              "      <td>0.441061</td>\n",
              "      <td>0.514126</td>\n",
              "      <td>0.209423</td>\n",
              "      <td>0.231424</td>\n",
              "    </tr>\n",
              "    <tr>\n",
              "      <th>Def KNN</th>\n",
              "      <td>0.743550</td>\n",
              "      <td>0.618245</td>\n",
              "      <td>0.139083</td>\n",
              "      <td>0.171110</td>\n",
              "      <td>0.392054</td>\n",
              "      <td>0.507329</td>\n",
              "      <td>0.189528</td>\n",
              "      <td>0.231523</td>\n",
              "    </tr>\n",
              "    <tr>\n",
              "      <th>Linear</th>\n",
              "      <td>0.634021</td>\n",
              "      <td>0.617048</td>\n",
              "      <td>0.170401</td>\n",
              "      <td>0.176134</td>\n",
              "      <td>0.467491</td>\n",
              "      <td>0.522122</td>\n",
              "      <td>0.226413</td>\n",
              "      <td>0.231886</td>\n",
              "    </tr>\n",
              "    <tr>\n",
              "      <th>Def BR</th>\n",
              "      <td>0.919632</td>\n",
              "      <td>0.616863</td>\n",
              "      <td>0.709101</td>\n",
              "      <td>0.169324</td>\n",
              "      <td>0.980135</td>\n",
              "      <td>0.503466</td>\n",
              "      <td>0.106099</td>\n",
              "      <td>0.231942</td>\n",
              "    </tr>\n",
              "    <tr>\n",
              "      <th>Def XGB</th>\n",
              "      <td>0.643459</td>\n",
              "      <td>0.604997</td>\n",
              "      <td>0.172340</td>\n",
              "      <td>0.181466</td>\n",
              "      <td>0.327779</td>\n",
              "      <td>0.539318</td>\n",
              "      <td>0.223474</td>\n",
              "      <td>0.235506</td>\n",
              "    </tr>\n",
              "    <tr>\n",
              "      <th>Def LGBM</th>\n",
              "      <td>0.604729</td>\n",
              "      <td>0.588820</td>\n",
              "      <td>0.180893</td>\n",
              "      <td>0.185053</td>\n",
              "      <td>0.457495</td>\n",
              "      <td>0.550088</td>\n",
              "      <td>0.235299</td>\n",
              "      <td>0.240281</td>\n",
              "    </tr>\n",
              "    <tr>\n",
              "      <th>Tun DT</th>\n",
              "      <td>0.677156</td>\n",
              "      <td>0.480589</td>\n",
              "      <td>0.143481</td>\n",
              "      <td>0.200561</td>\n",
              "      <td>0.453772</td>\n",
              "      <td>0.596437</td>\n",
              "      <td>0.212652</td>\n",
              "      <td>0.270059</td>\n",
              "    </tr>\n",
              "    <tr>\n",
              "      <th>Def GBR</th>\n",
              "      <td>0.452830</td>\n",
              "      <td>0.452718</td>\n",
              "      <td>0.221206</td>\n",
              "      <td>0.222006</td>\n",
              "      <td>0.454743</td>\n",
              "      <td>0.661147</td>\n",
              "      <td>0.276843</td>\n",
              "      <td>0.277210</td>\n",
              "    </tr>\n",
              "    <tr>\n",
              "      <th>Def DT</th>\n",
              "      <td>0.978962</td>\n",
              "      <td>0.409189</td>\n",
              "      <td>0.012814</td>\n",
              "      <td>0.207481</td>\n",
              "      <td>0.003885</td>\n",
              "      <td>0.061587</td>\n",
              "      <td>0.054284</td>\n",
              "      <td>0.288023</td>\n",
              "    </tr>\n",
              "    <tr>\n",
              "      <th>Dummy</th>\n",
              "      <td>0.000000</td>\n",
              "      <td>0.123470</td>\n",
              "      <td>0.308386</td>\n",
              "      <td>0.309259</td>\n",
              "      <td>0.430729</td>\n",
              "      <td>0.923696</td>\n",
              "      <td>0.374260</td>\n",
              "      <td>0.374739</td>\n",
              "    </tr>\n",
              "  </tbody>\n",
              "</table>\n",
              "</div>\n",
              "      <button class=\"colab-df-convert\" onclick=\"convertToInteractive('df-90029c39-2086-4292-9d71-7568d0dfcf6c')\"\n",
              "              title=\"Convert this dataframe to an interactive table.\"\n",
              "              style=\"display:none;\">\n",
              "        \n",
              "  <svg xmlns=\"http://www.w3.org/2000/svg\" height=\"24px\"viewBox=\"0 0 24 24\"\n",
              "       width=\"24px\">\n",
              "    <path d=\"M0 0h24v24H0V0z\" fill=\"none\"/>\n",
              "    <path d=\"M18.56 5.44l.94 2.06.94-2.06 2.06-.94-2.06-.94-.94-2.06-.94 2.06-2.06.94zm-11 1L8.5 8.5l.94-2.06 2.06-.94-2.06-.94L8.5 2.5l-.94 2.06-2.06.94zm10 10l.94 2.06.94-2.06 2.06-.94-2.06-.94-.94-2.06-.94 2.06-2.06.94z\"/><path d=\"M17.41 7.96l-1.37-1.37c-.4-.4-.92-.59-1.43-.59-.52 0-1.04.2-1.43.59L10.3 9.45l-7.72 7.72c-.78.78-.78 2.05 0 2.83L4 21.41c.39.39.9.59 1.41.59.51 0 1.02-.2 1.41-.59l7.78-7.78 2.81-2.81c.8-.78.8-2.07 0-2.86zM5.41 20L4 18.59l7.72-7.72 1.47 1.35L5.41 20z\"/>\n",
              "  </svg>\n",
              "      </button>\n",
              "      \n",
              "  <style>\n",
              "    .colab-df-container {\n",
              "      display:flex;\n",
              "      flex-wrap:wrap;\n",
              "      gap: 12px;\n",
              "    }\n",
              "\n",
              "    .colab-df-convert {\n",
              "      background-color: #E8F0FE;\n",
              "      border: none;\n",
              "      border-radius: 50%;\n",
              "      cursor: pointer;\n",
              "      display: none;\n",
              "      fill: #1967D2;\n",
              "      height: 32px;\n",
              "      padding: 0 0 0 0;\n",
              "      width: 32px;\n",
              "    }\n",
              "\n",
              "    .colab-df-convert:hover {\n",
              "      background-color: #E2EBFA;\n",
              "      box-shadow: 0px 1px 2px rgba(60, 64, 67, 0.3), 0px 1px 3px 1px rgba(60, 64, 67, 0.15);\n",
              "      fill: #174EA6;\n",
              "    }\n",
              "\n",
              "    [theme=dark] .colab-df-convert {\n",
              "      background-color: #3B4455;\n",
              "      fill: #D2E3FC;\n",
              "    }\n",
              "\n",
              "    [theme=dark] .colab-df-convert:hover {\n",
              "      background-color: #434B5C;\n",
              "      box-shadow: 0px 1px 3px 1px rgba(0, 0, 0, 0.15);\n",
              "      filter: drop-shadow(0px 1px 2px rgba(0, 0, 0, 0.3));\n",
              "      fill: #FFFFFF;\n",
              "    }\n",
              "  </style>\n",
              "\n",
              "      <script>\n",
              "        const buttonEl =\n",
              "          document.querySelector('#df-90029c39-2086-4292-9d71-7568d0dfcf6c button.colab-df-convert');\n",
              "        buttonEl.style.display =\n",
              "          google.colab.kernel.accessAllowed ? 'block' : 'none';\n",
              "\n",
              "        async function convertToInteractive(key) {\n",
              "          const element = document.querySelector('#df-90029c39-2086-4292-9d71-7568d0dfcf6c');\n",
              "          const dataTable =\n",
              "            await google.colab.kernel.invokeFunction('convertToInteractive',\n",
              "                                                     [key], {});\n",
              "          if (!dataTable) return;\n",
              "\n",
              "          const docLinkHtml = 'Like what you see? Visit the ' +\n",
              "            '<a target=\"_blank\" href=https://colab.research.google.com/notebooks/data_table.ipynb>data table notebook</a>'\n",
              "            + ' to learn more about interactive tables.';\n",
              "          element.innerHTML = '';\n",
              "          dataTable['output_type'] = 'display_data';\n",
              "          await google.colab.output.renderOutput(dataTable, element);\n",
              "          const docLink = document.createElement('div');\n",
              "          docLink.innerHTML = docLinkHtml;\n",
              "          element.appendChild(docLink);\n",
              "        }\n",
              "      </script>\n",
              "    </div>\n",
              "  </div>\n",
              "  "
            ]
          },
          "metadata": {},
          "execution_count": 167
        }
      ]
    },
    {
      "cell_type": "markdown",
      "source": [
        "# Next Steps"
      ],
      "metadata": {
        "id": "5niRmLwYp2MI"
      }
    },
    {
      "cell_type": "code",
      "source": [
        "df.info()"
      ],
      "metadata": {
        "colab": {
          "base_uri": "https://localhost:8080/"
        },
        "id": "cUdL-Hcsqcnk",
        "outputId": "a4704422-e29a-4ff0-914d-7f19bff55657"
      },
      "execution_count": null,
      "outputs": [
        {
          "output_type": "stream",
          "name": "stdout",
          "text": [
            "<class 'pandas.core.frame.DataFrame'>\n",
            "RangeIndex: 49012 entries, 0 to 49011\n",
            "Data columns (total 20 columns):\n",
            " #   Column             Non-Null Count  Dtype  \n",
            "---  ------             --------------  -----  \n",
            " 0   section_type       49012 non-null  object \n",
            " 1   instructor_id      49012 non-null  object \n",
            " 2   facility_code      45521 non-null  object \n",
            " 3   start_time         49012 non-null  float64\n",
            " 4   mon                49012 non-null  bool   \n",
            " 5   tues               49012 non-null  bool   \n",
            " 6   wed                49012 non-null  bool   \n",
            " 7   thurs              49012 non-null  bool   \n",
            " 8   fri                49012 non-null  bool   \n",
            " 9   subject_name       49012 non-null  object \n",
            " 10  course_name        49012 non-null  object \n",
            " 11  a_proportion       49012 non-null  float64\n",
            " 12  f_proportion       49012 non-null  float64\n",
            " 13  avg_grade          49012 non-null  float64\n",
            " 14  year               49012 non-null  int64  \n",
            " 15  term               49012 non-null  object \n",
            " 16  class_length       49012 non-null  float64\n",
            " 17  total_time         49012 non-null  int64  \n",
            " 18  weekend            49012 non-null  bool   \n",
            " 19  course_difficulty  49012 non-null  object \n",
            "dtypes: bool(6), float64(5), int64(2), object(7)\n",
            "memory usage: 5.5+ MB\n"
          ]
        }
      ]
    },
    {
      "cell_type": "markdown",
      "source": [
        "1. Tune hyperparameters for boosting models\n",
        "\n",
        "2. Try to bin the course names and subject names into department- or subject-related categories\n",
        "\n",
        "3. Feature engineering?\n",
        "  - Take out either course_name or subject_name, since they should be at least somewhat correlated?\n",
        "  - Take out or somehow combine day-of-week columns to reduce number of columns describing schedule?\n",
        "  - Take out either class_length or total_time, since they should be at least somewhat correlated?\n",
        "\n",
        "4. Try to predict other targets (a_proportion, f_proportion)\n",
        "\n",
        "5. Convert to a classification problem (average grade targets 3.0-4.0, 2.0-3.0, 1.0-2.0, < 1.0, for example), to show ROC visualizations"
      ],
      "metadata": {
        "id": "lJIHC50yp4Hj"
      }
    },
    {
      "cell_type": "code",
      "source": [],
      "metadata": {
        "id": "BO2UpghXJ_QV"
      },
      "execution_count": null,
      "outputs": []
    }
  ],
  "metadata": {
    "colab": {
      "provenance": [],
      "collapsed_sections": [
        "rqvwfHWjNXoN",
        "_8ge-a3eOUNn",
        "5HHTDJYhXC4O",
        "WnJ0FgGEW7cD",
        "RKJWc83fWSnH",
        "1N-YE1IuJ9nk",
        "-PAzhFcGMvPj",
        "5c46Bws2pCZh",
        "QWd42KMArfgl",
        "0Fo7m7edpJhu",
        "i42dcB1ZpOYy",
        "I1k2abN1paSI",
        "zWO-nfJ1peuA",
        "qSWyaHSDp7nI"
      ],
      "authorship_tag": "ABX9TyNch6ghhRcvROVXsGOuI/kG",
      "include_colab_link": true
    },
    "kernelspec": {
      "display_name": "Python 3",
      "name": "python3"
    },
    "language_info": {
      "name": "python"
    }
  },
  "nbformat": 4,
  "nbformat_minor": 0
}
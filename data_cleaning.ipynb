{
  "nbformat": 4,
  "nbformat_minor": 0,
  "metadata": {
    "colab": {
      "provenance": [],
      "authorship_tag": "ABX9TyN69xE06UJlxKlgqk5DaxUl",
      "include_colab_link": true
    },
    "kernelspec": {
      "name": "python3",
      "display_name": "Python 3"
    },
    "language_info": {
      "name": "python"
    }
  },
  "cells": [
    {
      "cell_type": "markdown",
      "metadata": {
        "id": "view-in-github",
        "colab_type": "text"
      },
      "source": [
        "<a href=\"https://colab.research.google.com/github/kellianneyang/project-exploration/blob/main/data_cleaning.ipynb\" target=\"_parent\"><img src=\"https://colab.research.google.com/assets/colab-badge.svg\" alt=\"Open In Colab\"/></a>"
      ]
    },
    {
      "cell_type": "markdown",
      "source": [
        "# Grades Project: Data Cleaning"
      ],
      "metadata": {
        "id": "AxnyDHsR_Kc4"
      }
    },
    {
      "cell_type": "markdown",
      "source": [
        "The goal of this notebook is to prepare data for machine learning preprocessing. We would like to understand the data and understand what we want from the data.\n",
        "\n",
        "This notebook will:\n",
        "- Create new columns as necessary (to create new feature variables)\n",
        "- Delete columns as necessary (to leave out data with high collinearity or high cardinality)\n",
        "- Separate the data into three dataframes, each with its own target variable (there are multiple possible target variables that we are interested in, and will be applying our machine learning algorithms to them separately)\n",
        "- Delete any rows from the dataframes that do not have values for the target variable\n",
        "\n",
        "This notebook will NOT:\n",
        "- Impute any missing values (this will be done in machine learning preprocessing)\n",
        "- Delete any duplicated rows (\")"
      ],
      "metadata": {
        "id": "UJEcQSEi_P5P"
      }
    },
    {
      "cell_type": "markdown",
      "source": [
        "## Overview"
      ],
      "metadata": {
        "id": "gPClsFQd06oB"
      }
    },
    {
      "cell_type": "markdown",
      "source": [
        "\n",
        "To use the data provided in this dataset (https://www.kaggle.com/datasets/Madgrades/uw-madison-courses), which is provided in multiple .csv files, for a machine learning model, we will need to merge the files to create one .csv file."
      ],
      "metadata": {
        "id": "D3EFneqM1Fas"
      }
    },
    {
      "cell_type": "markdown",
      "source": [
        "## .csv files and columns\n",
        "\n",
        "Included in dataset as separate .csv files:\n",
        "- schedules.csv: each row is a unique potential schedule\n",
        "    - (schedule) uuid: unique identifier of schedules\n",
        "    - start_time: start of class, in minutes\n",
        "    - end_time: end of class, in minutes (drop -- high co-linearity with start_time)\n",
        "    - mon: boolean, if class meets on monday\n",
        "    - tues: \"\n",
        "    - wed: \"\n",
        "    - thurs: \"\n",
        "    - fri: \"\n",
        "    - sat: \"\n",
        "    - sun: \"\n",
        "      - sat and sun have very few values; combine to get more observations\n",
        "- subjects.csv: each row is a unique subject\n",
        "    - (subject) code: 3-digit unique identifier of subjects\n",
        "    - (subject) name: name of subject\n",
        "    - (subject) abbreviation: abbreviation (e.g. ENGL for English)\n",
        "- teachings.csv: each row is a unique instructor\n",
        "    - instructor_id: numeric unique identifier of instructor\n",
        "    - section_uuid: section taught by instructor\n",
        "- subject_memberships.csv: each row is a course offering (course offered in certain term; does not encompass all sections in that term)\n",
        "    - subject_code: subject code associated with course offering\n",
        "    - course_offering_uuid: unique identifier of course offerings\n",
        "- sections.csv: each row is a section (specific instance of course at certain time in certain place in certain term)\n",
        "    - (section) uuid: unique identifier of section (alphanumeric)\n",
        "      - could have multiple section uuids for cross-listed sections\n",
        "    - course_offering_uuid: unique identifier of course offering (course offered in certain term but encompasses all sections in that term) \n",
        "    - section_type: 3-letter identifier (e.g., LEC for lecture)\n",
        "    - (section) number: 1-3-number of section (e.g., 301 for section 301)\n",
        "    - room_uuid: unique identifier of room and building where section is held (including online and off-campus designations)\n",
        "    - schedule_uuid: unique identifier of schedule for section\n",
        "- rooms.csv: each row is a specific place\n",
        "    - (room) uuid: unique identifier of building and room (inclduing off-campus and online)\n",
        "    - facility_code: unique identifier of building\n",
        "    - room_code: number of room within a building\n",
        "- instructors.csv (will not use -- is essentially a duplicate of teachings; can use to look up instructors' names): each row is an instructor\n",
        "    - (instructor) id: unique identifier of instructor\n",
        "    - (instructor) name: instructor's name\n",
        "- grade_distributions.csv: each row is a section's grades\n",
        "    - course_offering_uuid: identifies the course offering (certain course in certain term, but not broken down into sections)\n",
        "    - section_number: number of section for grades\n",
        "    - a_count: number of As\n",
        "    - ab_count: number of ABs (can be combined with As as needed)\n",
        "    - b_count: number of Bs\n",
        "    - bc_count: number of BCs (can be combined with Bs as needed)\n",
        "    - c_count: number of Cs\n",
        "    - d_count: number of Ds\n",
        "    - f_count: number of Fs\n",
        "    - s_count: satisfactory\n",
        "    - u_count: unstatisfactory\n",
        "    - cr_count: credit\n",
        "    - n_count: no credit\n",
        "    - p_count\n",
        "    - i_count: incomplete\n",
        "    - nw_count: no work\n",
        "    - nr_count\n",
        "- course_offerings.csv: each row is a course offering (course offered in certain term)\n",
        "    - (course offering) uuid: unique identifier of course offering\n",
        "    - course_uuid: course that the course offering belongs to\n",
        "    - term_code: academic term when course offering was held\n",
        "    - (course offering) name: name associate with course offering (can be different than course name)\n",
        "- courses.csv: each row is a course (abstract; not associated with specific course offering)\n",
        "    - (course) uuid: uniquely identifies the course\n",
        "    - (course) name: name of course\n",
        "    - (course) number: number in course catalog (e.g. 101 for ENGL 101)"
      ],
      "metadata": {
        "id": "r3cR9Ac41K2P"
      }
    },
    {
      "cell_type": "markdown",
      "source": [
        "## Feature variables"
      ],
      "metadata": {
        "id": "-2CuJfwz1I7F"
      }
    },
    {
      "cell_type": "markdown",
      "source": [
        "This dataset is large and has many variables we can choose from as our feature variables.\n",
        "\n",
        "Many of the variables have a large number of unique values (high-cardinality), so we may have to drop those for our machine learning algorithm to be able to predict some variance.\n",
        "\n",
        "We will also be combining some columns and dropping some columns for various reasons. "
      ],
      "metadata": {
        "id": "ASGxFRKh1PxQ"
      }
    },
    {
      "cell_type": "markdown",
      "source": [
        "## Target variables"
      ],
      "metadata": {
        "id": "s3GzxI4h01sb"
      }
    },
    {
      "cell_type": "markdown",
      "source": [
        "We are interested in whether the feature variables can predict variation in grades. There are many grade types given (see source: https://guide.wisc.edu/undergraduate/#enrollmentandrecordstext), but to keep the problem manageable, we will narrow down the target grades.\n",
        "\n",
        "We will instantiate three target variables and see if machine learning algorithms can predict the variation in any of them.\n",
        "\n",
        "1. Proportion of A grades given (of all letter grades given)\n",
        "2. Proportion of F grades given (of all letter grades given)\n",
        "3. Average letter grade given (letter grades: A, AB, B, BC, C, D, and F)"
      ],
      "metadata": {
        "id": "mcb_HO1R1Q2y"
      }
    },
    {
      "cell_type": "markdown",
      "source": [
        "# Preliminary Steps"
      ],
      "metadata": {
        "id": "CZspEffFAilV"
      }
    },
    {
      "cell_type": "code",
      "source": [
        "# import libraries\n",
        "import pandas as pd\n",
        "import seaborn as sns"
      ],
      "metadata": {
        "id": "2TPLlv4NAkCF"
      },
      "execution_count": null,
      "outputs": []
    },
    {
      "cell_type": "code",
      "source": [
        "# mount drive\n",
        "from google.colab import drive\n",
        "drive.mount('/content/drive/')"
      ],
      "metadata": {
        "colab": {
          "base_uri": "https://localhost:8080/"
        },
        "id": "Gqy7LiHkAmu8",
        "outputId": "7f8beef9-26fd-4bef-b611-1c1015d0ad2d"
      },
      "execution_count": null,
      "outputs": [
        {
          "output_type": "stream",
          "name": "stdout",
          "text": [
            "Drive already mounted at /content/drive/; to attempt to forcibly remount, call drive.mount(\"/content/drive/\", force_remount=True).\n"
          ]
        }
      ]
    },
    {
      "cell_type": "code",
      "source": [
        "# load data\n",
        "path = '/content/drive/MyDrive/Coding Dojo/Project 2/all_grades_data.csv'\n",
        "df = pd.read_csv(path, low_memory = False)"
      ],
      "metadata": {
        "id": "vqDvChrxAsTm"
      },
      "execution_count": null,
      "outputs": []
    },
    {
      "cell_type": "code",
      "source": [
        "# inspect\n",
        "df.info()"
      ],
      "metadata": {
        "colab": {
          "base_uri": "https://localhost:8080/"
        },
        "id": "Mr2O5VzkA3m3",
        "outputId": "82df9aa3-6e3b-4395-ca7c-914139b23871"
      },
      "execution_count": null,
      "outputs": [
        {
          "output_type": "stream",
          "name": "stdout",
          "text": [
            "<class 'pandas.core.frame.DataFrame'>\n",
            "RangeIndex: 162710 entries, 0 to 162709\n",
            "Data columns (total 44 columns):\n",
            " #   Column                Non-Null Count   Dtype  \n",
            "---  ------                --------------   -----  \n",
            " 0   Unnamed: 0            162710 non-null  int64  \n",
            " 1   section_uuid          162710 non-null  object \n",
            " 2   course_offering_uuid  162710 non-null  object \n",
            " 3   section_type          162710 non-null  object \n",
            " 4   section_number        162710 non-null  float64\n",
            " 5   room_uuid             66778 non-null   object \n",
            " 6   schedule_uuid         162710 non-null  object \n",
            " 7   instructor_id         162682 non-null  float64\n",
            " 8   facility_code         66778 non-null   object \n",
            " 9   room_code             64871 non-null   object \n",
            " 10  start_time            162710 non-null  float64\n",
            " 11  end_time              162710 non-null  float64\n",
            " 12  mon                   162710 non-null  bool   \n",
            " 13  tues                  162710 non-null  bool   \n",
            " 14  wed                   162710 non-null  bool   \n",
            " 15  thurs                 162710 non-null  bool   \n",
            " 16  fri                   162710 non-null  bool   \n",
            " 17  sat                   162710 non-null  bool   \n",
            " 18  sun                   162710 non-null  bool   \n",
            " 19  subject_code          162710 non-null  int64  \n",
            " 20  subject_name          162710 non-null  object \n",
            " 21  subject_abbreviation  162710 non-null  object \n",
            " 22  course_uuid           162710 non-null  object \n",
            " 23  term_code             162710 non-null  float64\n",
            " 24  course_offering_name  162710 non-null  object \n",
            " 25  course_name           162710 non-null  object \n",
            " 26  course_number         162710 non-null  float64\n",
            " 27  course_and_section    162710 non-null  object \n",
            " 28  a_count               162710 non-null  int64  \n",
            " 29  ab_count              162710 non-null  int64  \n",
            " 30  b_count               162710 non-null  int64  \n",
            " 31  bc_count              162710 non-null  int64  \n",
            " 32  c_count               162710 non-null  int64  \n",
            " 33  d_count               162710 non-null  int64  \n",
            " 34  f_count               162710 non-null  int64  \n",
            " 35  s_count               162710 non-null  int64  \n",
            " 36  u_count               162710 non-null  int64  \n",
            " 37  cr_count              162710 non-null  int64  \n",
            " 38  n_count               162710 non-null  int64  \n",
            " 39  p_count               162710 non-null  int64  \n",
            " 40  i_count               162710 non-null  int64  \n",
            " 41  nw_count              162710 non-null  int64  \n",
            " 42  nr_count              162710 non-null  int64  \n",
            " 43  other_count           162710 non-null  int64  \n",
            "dtypes: bool(7), float64(6), int64(18), object(13)\n",
            "memory usage: 47.0+ MB\n"
          ]
        }
      ]
    },
    {
      "cell_type": "code",
      "source": [
        "# inspect\n",
        "df.head(10)"
      ],
      "metadata": {
        "colab": {
          "base_uri": "https://localhost:8080/",
          "height": 959
        },
        "id": "17aGVSoJBEJ-",
        "outputId": "206d5d68-d163-46b6-da7c-9c94a02fa5fd"
      },
      "execution_count": null,
      "outputs": [
        {
          "output_type": "execute_result",
          "data": {
            "text/plain": [
              "   Unnamed: 0                          section_uuid  \\\n",
              "0           0  214c946a-f56b-365b-a144-1d16049399ed   \n",
              "1           1  5dffed06-3e1b-309a-92c9-4b755e20a7e8   \n",
              "2           2  e3718659-dd65-30d3-987c-6b4092e85d72   \n",
              "3           3  24085c2b-1756-320d-971a-a8cf64a78db0   \n",
              "4           4  2187b6fd-09fb-3bce-92cf-e86978c295e1   \n",
              "5           5  812ccf3d-adf8-369c-954a-5beae39db404   \n",
              "6           6  cf401f5b-dc6b-3336-96d9-5ba4bbe049a7   \n",
              "7           7  f98aa8e6-51b7-35f0-b529-0048d4581bf3   \n",
              "8           8  bbe3a638-eebb-380f-9d17-585f6ff37040   \n",
              "9           9  96049783-b9b5-3650-b215-21d4ee5a39d4   \n",
              "\n",
              "                   course_offering_uuid section_type  section_number  \\\n",
              "0  aa84af10-b176-3fdc-806b-ad7e4d45c93f          fld             1.0   \n",
              "1  a153948c-6fec-3de3-9a6d-3a7210340815          fld            10.0   \n",
              "2  a153948c-6fec-3de3-9a6d-3a7210340815          fld            13.0   \n",
              "3  a153948c-6fec-3de3-9a6d-3a7210340815          fld            14.0   \n",
              "4  684d5dd7-5964-33ef-81e5-d4070e7b7013          fld            18.0   \n",
              "5  684d5dd7-5964-33ef-81e5-d4070e7b7013          fld            13.0   \n",
              "6  36ab1e06-94ef-363f-841c-0e923bfbdac7          fld            10.0   \n",
              "7  36ab1e06-94ef-363f-841c-0e923bfbdac7          fld            14.0   \n",
              "8  aeef8e65-6b2c-3c7a-aeba-3f594b9255df          fld            35.0   \n",
              "9  aeef8e65-6b2c-3c7a-aeba-3f594b9255df          fld            14.0   \n",
              "\n",
              "  room_uuid                         schedule_uuid  instructor_id  \\\n",
              "0       NaN  f2d66a4d-0c08-3b48-abf6-649fffd7ae90      1600463.0   \n",
              "1       NaN  f2d66a4d-0c08-3b48-abf6-649fffd7ae90       693634.0   \n",
              "2       NaN  f2d66a4d-0c08-3b48-abf6-649fffd7ae90       590599.0   \n",
              "3       NaN  f2d66a4d-0c08-3b48-abf6-649fffd7ae90       664097.0   \n",
              "4       NaN  f2d66a4d-0c08-3b48-abf6-649fffd7ae90      2600979.0   \n",
              "5       NaN  f2d66a4d-0c08-3b48-abf6-649fffd7ae90       590599.0   \n",
              "6       NaN  f2d66a4d-0c08-3b48-abf6-649fffd7ae90       693634.0   \n",
              "7       NaN  f2d66a4d-0c08-3b48-abf6-649fffd7ae90       664097.0   \n",
              "8       NaN  f2d66a4d-0c08-3b48-abf6-649fffd7ae90      4847746.0   \n",
              "9       NaN  f2d66a4d-0c08-3b48-abf6-649fffd7ae90       664097.0   \n",
              "\n",
              "  facility_code room_code  ...  f_count  s_count  u_count  cr_count  n_count  \\\n",
              "0           NaN       NaN  ...        0        0        0         0        0   \n",
              "1           NaN       NaN  ...        0        0        0         0        0   \n",
              "2           NaN       NaN  ...        0        0        0         0        0   \n",
              "3           NaN       NaN  ...        0        0        0         0        0   \n",
              "4           NaN       NaN  ...        0        0        0         0        0   \n",
              "5           NaN       NaN  ...        0        0        0         0        0   \n",
              "6           NaN       NaN  ...        0        0        0         0        0   \n",
              "7           NaN       NaN  ...        0        0        0         0        0   \n",
              "8           NaN       NaN  ...        0        0        0         0        0   \n",
              "9           NaN       NaN  ...        0        0        0         0        0   \n",
              "\n",
              "   p_count  i_count  nw_count  nr_count  other_count  \n",
              "0        0        0         0         0            0  \n",
              "1        0        0         0         0            0  \n",
              "2        0        0         0         0            0  \n",
              "3        0        0         0         0            0  \n",
              "4        0        0         0         0            0  \n",
              "5        0        0         0         0            0  \n",
              "6        0        0         0         0            0  \n",
              "7        0        0         0         0            0  \n",
              "8        0        0         0         0            0  \n",
              "9        0        0         0         0            0  \n",
              "\n",
              "[10 rows x 44 columns]"
            ],
            "text/html": [
              "\n",
              "  <div id=\"df-e411b789-8e3b-4353-a593-4177a4318e9e\">\n",
              "    <div class=\"colab-df-container\">\n",
              "      <div>\n",
              "<style scoped>\n",
              "    .dataframe tbody tr th:only-of-type {\n",
              "        vertical-align: middle;\n",
              "    }\n",
              "\n",
              "    .dataframe tbody tr th {\n",
              "        vertical-align: top;\n",
              "    }\n",
              "\n",
              "    .dataframe thead th {\n",
              "        text-align: right;\n",
              "    }\n",
              "</style>\n",
              "<table border=\"1\" class=\"dataframe\">\n",
              "  <thead>\n",
              "    <tr style=\"text-align: right;\">\n",
              "      <th></th>\n",
              "      <th>Unnamed: 0</th>\n",
              "      <th>section_uuid</th>\n",
              "      <th>course_offering_uuid</th>\n",
              "      <th>section_type</th>\n",
              "      <th>section_number</th>\n",
              "      <th>room_uuid</th>\n",
              "      <th>schedule_uuid</th>\n",
              "      <th>instructor_id</th>\n",
              "      <th>facility_code</th>\n",
              "      <th>room_code</th>\n",
              "      <th>...</th>\n",
              "      <th>f_count</th>\n",
              "      <th>s_count</th>\n",
              "      <th>u_count</th>\n",
              "      <th>cr_count</th>\n",
              "      <th>n_count</th>\n",
              "      <th>p_count</th>\n",
              "      <th>i_count</th>\n",
              "      <th>nw_count</th>\n",
              "      <th>nr_count</th>\n",
              "      <th>other_count</th>\n",
              "    </tr>\n",
              "  </thead>\n",
              "  <tbody>\n",
              "    <tr>\n",
              "      <th>0</th>\n",
              "      <td>0</td>\n",
              "      <td>214c946a-f56b-365b-a144-1d16049399ed</td>\n",
              "      <td>aa84af10-b176-3fdc-806b-ad7e4d45c93f</td>\n",
              "      <td>fld</td>\n",
              "      <td>1.0</td>\n",
              "      <td>NaN</td>\n",
              "      <td>f2d66a4d-0c08-3b48-abf6-649fffd7ae90</td>\n",
              "      <td>1600463.0</td>\n",
              "      <td>NaN</td>\n",
              "      <td>NaN</td>\n",
              "      <td>...</td>\n",
              "      <td>0</td>\n",
              "      <td>0</td>\n",
              "      <td>0</td>\n",
              "      <td>0</td>\n",
              "      <td>0</td>\n",
              "      <td>0</td>\n",
              "      <td>0</td>\n",
              "      <td>0</td>\n",
              "      <td>0</td>\n",
              "      <td>0</td>\n",
              "    </tr>\n",
              "    <tr>\n",
              "      <th>1</th>\n",
              "      <td>1</td>\n",
              "      <td>5dffed06-3e1b-309a-92c9-4b755e20a7e8</td>\n",
              "      <td>a153948c-6fec-3de3-9a6d-3a7210340815</td>\n",
              "      <td>fld</td>\n",
              "      <td>10.0</td>\n",
              "      <td>NaN</td>\n",
              "      <td>f2d66a4d-0c08-3b48-abf6-649fffd7ae90</td>\n",
              "      <td>693634.0</td>\n",
              "      <td>NaN</td>\n",
              "      <td>NaN</td>\n",
              "      <td>...</td>\n",
              "      <td>0</td>\n",
              "      <td>0</td>\n",
              "      <td>0</td>\n",
              "      <td>0</td>\n",
              "      <td>0</td>\n",
              "      <td>0</td>\n",
              "      <td>0</td>\n",
              "      <td>0</td>\n",
              "      <td>0</td>\n",
              "      <td>0</td>\n",
              "    </tr>\n",
              "    <tr>\n",
              "      <th>2</th>\n",
              "      <td>2</td>\n",
              "      <td>e3718659-dd65-30d3-987c-6b4092e85d72</td>\n",
              "      <td>a153948c-6fec-3de3-9a6d-3a7210340815</td>\n",
              "      <td>fld</td>\n",
              "      <td>13.0</td>\n",
              "      <td>NaN</td>\n",
              "      <td>f2d66a4d-0c08-3b48-abf6-649fffd7ae90</td>\n",
              "      <td>590599.0</td>\n",
              "      <td>NaN</td>\n",
              "      <td>NaN</td>\n",
              "      <td>...</td>\n",
              "      <td>0</td>\n",
              "      <td>0</td>\n",
              "      <td>0</td>\n",
              "      <td>0</td>\n",
              "      <td>0</td>\n",
              "      <td>0</td>\n",
              "      <td>0</td>\n",
              "      <td>0</td>\n",
              "      <td>0</td>\n",
              "      <td>0</td>\n",
              "    </tr>\n",
              "    <tr>\n",
              "      <th>3</th>\n",
              "      <td>3</td>\n",
              "      <td>24085c2b-1756-320d-971a-a8cf64a78db0</td>\n",
              "      <td>a153948c-6fec-3de3-9a6d-3a7210340815</td>\n",
              "      <td>fld</td>\n",
              "      <td>14.0</td>\n",
              "      <td>NaN</td>\n",
              "      <td>f2d66a4d-0c08-3b48-abf6-649fffd7ae90</td>\n",
              "      <td>664097.0</td>\n",
              "      <td>NaN</td>\n",
              "      <td>NaN</td>\n",
              "      <td>...</td>\n",
              "      <td>0</td>\n",
              "      <td>0</td>\n",
              "      <td>0</td>\n",
              "      <td>0</td>\n",
              "      <td>0</td>\n",
              "      <td>0</td>\n",
              "      <td>0</td>\n",
              "      <td>0</td>\n",
              "      <td>0</td>\n",
              "      <td>0</td>\n",
              "    </tr>\n",
              "    <tr>\n",
              "      <th>4</th>\n",
              "      <td>4</td>\n",
              "      <td>2187b6fd-09fb-3bce-92cf-e86978c295e1</td>\n",
              "      <td>684d5dd7-5964-33ef-81e5-d4070e7b7013</td>\n",
              "      <td>fld</td>\n",
              "      <td>18.0</td>\n",
              "      <td>NaN</td>\n",
              "      <td>f2d66a4d-0c08-3b48-abf6-649fffd7ae90</td>\n",
              "      <td>2600979.0</td>\n",
              "      <td>NaN</td>\n",
              "      <td>NaN</td>\n",
              "      <td>...</td>\n",
              "      <td>0</td>\n",
              "      <td>0</td>\n",
              "      <td>0</td>\n",
              "      <td>0</td>\n",
              "      <td>0</td>\n",
              "      <td>0</td>\n",
              "      <td>0</td>\n",
              "      <td>0</td>\n",
              "      <td>0</td>\n",
              "      <td>0</td>\n",
              "    </tr>\n",
              "    <tr>\n",
              "      <th>5</th>\n",
              "      <td>5</td>\n",
              "      <td>812ccf3d-adf8-369c-954a-5beae39db404</td>\n",
              "      <td>684d5dd7-5964-33ef-81e5-d4070e7b7013</td>\n",
              "      <td>fld</td>\n",
              "      <td>13.0</td>\n",
              "      <td>NaN</td>\n",
              "      <td>f2d66a4d-0c08-3b48-abf6-649fffd7ae90</td>\n",
              "      <td>590599.0</td>\n",
              "      <td>NaN</td>\n",
              "      <td>NaN</td>\n",
              "      <td>...</td>\n",
              "      <td>0</td>\n",
              "      <td>0</td>\n",
              "      <td>0</td>\n",
              "      <td>0</td>\n",
              "      <td>0</td>\n",
              "      <td>0</td>\n",
              "      <td>0</td>\n",
              "      <td>0</td>\n",
              "      <td>0</td>\n",
              "      <td>0</td>\n",
              "    </tr>\n",
              "    <tr>\n",
              "      <th>6</th>\n",
              "      <td>6</td>\n",
              "      <td>cf401f5b-dc6b-3336-96d9-5ba4bbe049a7</td>\n",
              "      <td>36ab1e06-94ef-363f-841c-0e923bfbdac7</td>\n",
              "      <td>fld</td>\n",
              "      <td>10.0</td>\n",
              "      <td>NaN</td>\n",
              "      <td>f2d66a4d-0c08-3b48-abf6-649fffd7ae90</td>\n",
              "      <td>693634.0</td>\n",
              "      <td>NaN</td>\n",
              "      <td>NaN</td>\n",
              "      <td>...</td>\n",
              "      <td>0</td>\n",
              "      <td>0</td>\n",
              "      <td>0</td>\n",
              "      <td>0</td>\n",
              "      <td>0</td>\n",
              "      <td>0</td>\n",
              "      <td>0</td>\n",
              "      <td>0</td>\n",
              "      <td>0</td>\n",
              "      <td>0</td>\n",
              "    </tr>\n",
              "    <tr>\n",
              "      <th>7</th>\n",
              "      <td>7</td>\n",
              "      <td>f98aa8e6-51b7-35f0-b529-0048d4581bf3</td>\n",
              "      <td>36ab1e06-94ef-363f-841c-0e923bfbdac7</td>\n",
              "      <td>fld</td>\n",
              "      <td>14.0</td>\n",
              "      <td>NaN</td>\n",
              "      <td>f2d66a4d-0c08-3b48-abf6-649fffd7ae90</td>\n",
              "      <td>664097.0</td>\n",
              "      <td>NaN</td>\n",
              "      <td>NaN</td>\n",
              "      <td>...</td>\n",
              "      <td>0</td>\n",
              "      <td>0</td>\n",
              "      <td>0</td>\n",
              "      <td>0</td>\n",
              "      <td>0</td>\n",
              "      <td>0</td>\n",
              "      <td>0</td>\n",
              "      <td>0</td>\n",
              "      <td>0</td>\n",
              "      <td>0</td>\n",
              "    </tr>\n",
              "    <tr>\n",
              "      <th>8</th>\n",
              "      <td>8</td>\n",
              "      <td>bbe3a638-eebb-380f-9d17-585f6ff37040</td>\n",
              "      <td>aeef8e65-6b2c-3c7a-aeba-3f594b9255df</td>\n",
              "      <td>fld</td>\n",
              "      <td>35.0</td>\n",
              "      <td>NaN</td>\n",
              "      <td>f2d66a4d-0c08-3b48-abf6-649fffd7ae90</td>\n",
              "      <td>4847746.0</td>\n",
              "      <td>NaN</td>\n",
              "      <td>NaN</td>\n",
              "      <td>...</td>\n",
              "      <td>0</td>\n",
              "      <td>0</td>\n",
              "      <td>0</td>\n",
              "      <td>0</td>\n",
              "      <td>0</td>\n",
              "      <td>0</td>\n",
              "      <td>0</td>\n",
              "      <td>0</td>\n",
              "      <td>0</td>\n",
              "      <td>0</td>\n",
              "    </tr>\n",
              "    <tr>\n",
              "      <th>9</th>\n",
              "      <td>9</td>\n",
              "      <td>96049783-b9b5-3650-b215-21d4ee5a39d4</td>\n",
              "      <td>aeef8e65-6b2c-3c7a-aeba-3f594b9255df</td>\n",
              "      <td>fld</td>\n",
              "      <td>14.0</td>\n",
              "      <td>NaN</td>\n",
              "      <td>f2d66a4d-0c08-3b48-abf6-649fffd7ae90</td>\n",
              "      <td>664097.0</td>\n",
              "      <td>NaN</td>\n",
              "      <td>NaN</td>\n",
              "      <td>...</td>\n",
              "      <td>0</td>\n",
              "      <td>0</td>\n",
              "      <td>0</td>\n",
              "      <td>0</td>\n",
              "      <td>0</td>\n",
              "      <td>0</td>\n",
              "      <td>0</td>\n",
              "      <td>0</td>\n",
              "      <td>0</td>\n",
              "      <td>0</td>\n",
              "    </tr>\n",
              "  </tbody>\n",
              "</table>\n",
              "<p>10 rows × 44 columns</p>\n",
              "</div>\n",
              "      <button class=\"colab-df-convert\" onclick=\"convertToInteractive('df-e411b789-8e3b-4353-a593-4177a4318e9e')\"\n",
              "              title=\"Convert this dataframe to an interactive table.\"\n",
              "              style=\"display:none;\">\n",
              "        \n",
              "  <svg xmlns=\"http://www.w3.org/2000/svg\" height=\"24px\"viewBox=\"0 0 24 24\"\n",
              "       width=\"24px\">\n",
              "    <path d=\"M0 0h24v24H0V0z\" fill=\"none\"/>\n",
              "    <path d=\"M18.56 5.44l.94 2.06.94-2.06 2.06-.94-2.06-.94-.94-2.06-.94 2.06-2.06.94zm-11 1L8.5 8.5l.94-2.06 2.06-.94-2.06-.94L8.5 2.5l-.94 2.06-2.06.94zm10 10l.94 2.06.94-2.06 2.06-.94-2.06-.94-.94-2.06-.94 2.06-2.06.94z\"/><path d=\"M17.41 7.96l-1.37-1.37c-.4-.4-.92-.59-1.43-.59-.52 0-1.04.2-1.43.59L10.3 9.45l-7.72 7.72c-.78.78-.78 2.05 0 2.83L4 21.41c.39.39.9.59 1.41.59.51 0 1.02-.2 1.41-.59l7.78-7.78 2.81-2.81c.8-.78.8-2.07 0-2.86zM5.41 20L4 18.59l7.72-7.72 1.47 1.35L5.41 20z\"/>\n",
              "  </svg>\n",
              "      </button>\n",
              "      \n",
              "  <style>\n",
              "    .colab-df-container {\n",
              "      display:flex;\n",
              "      flex-wrap:wrap;\n",
              "      gap: 12px;\n",
              "    }\n",
              "\n",
              "    .colab-df-convert {\n",
              "      background-color: #E8F0FE;\n",
              "      border: none;\n",
              "      border-radius: 50%;\n",
              "      cursor: pointer;\n",
              "      display: none;\n",
              "      fill: #1967D2;\n",
              "      height: 32px;\n",
              "      padding: 0 0 0 0;\n",
              "      width: 32px;\n",
              "    }\n",
              "\n",
              "    .colab-df-convert:hover {\n",
              "      background-color: #E2EBFA;\n",
              "      box-shadow: 0px 1px 2px rgba(60, 64, 67, 0.3), 0px 1px 3px 1px rgba(60, 64, 67, 0.15);\n",
              "      fill: #174EA6;\n",
              "    }\n",
              "\n",
              "    [theme=dark] .colab-df-convert {\n",
              "      background-color: #3B4455;\n",
              "      fill: #D2E3FC;\n",
              "    }\n",
              "\n",
              "    [theme=dark] .colab-df-convert:hover {\n",
              "      background-color: #434B5C;\n",
              "      box-shadow: 0px 1px 3px 1px rgba(0, 0, 0, 0.15);\n",
              "      filter: drop-shadow(0px 1px 2px rgba(0, 0, 0, 0.3));\n",
              "      fill: #FFFFFF;\n",
              "    }\n",
              "  </style>\n",
              "\n",
              "      <script>\n",
              "        const buttonEl =\n",
              "          document.querySelector('#df-e411b789-8e3b-4353-a593-4177a4318e9e button.colab-df-convert');\n",
              "        buttonEl.style.display =\n",
              "          google.colab.kernel.accessAllowed ? 'block' : 'none';\n",
              "\n",
              "        async function convertToInteractive(key) {\n",
              "          const element = document.querySelector('#df-e411b789-8e3b-4353-a593-4177a4318e9e');\n",
              "          const dataTable =\n",
              "            await google.colab.kernel.invokeFunction('convertToInteractive',\n",
              "                                                     [key], {});\n",
              "          if (!dataTable) return;\n",
              "\n",
              "          const docLinkHtml = 'Like what you see? Visit the ' +\n",
              "            '<a target=\"_blank\" href=https://colab.research.google.com/notebooks/data_table.ipynb>data table notebook</a>'\n",
              "            + ' to learn more about interactive tables.';\n",
              "          element.innerHTML = '';\n",
              "          dataTable['output_type'] = 'display_data';\n",
              "          await google.colab.output.renderOutput(dataTable, element);\n",
              "          const docLink = document.createElement('div');\n",
              "          docLink.innerHTML = docLinkHtml;\n",
              "          element.appendChild(docLink);\n",
              "        }\n",
              "      </script>\n",
              "    </div>\n",
              "  </div>\n",
              "  "
            ]
          },
          "metadata": {},
          "execution_count": 5
        }
      ]
    },
    {
      "cell_type": "code",
      "source": [
        "# see list of all columns\n",
        "df.columns"
      ],
      "metadata": {
        "colab": {
          "base_uri": "https://localhost:8080/"
        },
        "id": "ncDClpY2BWfe",
        "outputId": "e40b6a60-6896-46b2-9dde-4f5a93a5c287"
      },
      "execution_count": null,
      "outputs": [
        {
          "output_type": "execute_result",
          "data": {
            "text/plain": [
              "Index(['Unnamed: 0', 'section_uuid', 'course_offering_uuid', 'section_type',\n",
              "       'section_number', 'room_uuid', 'schedule_uuid', 'instructor_id',\n",
              "       'facility_code', 'room_code', 'start_time', 'end_time', 'mon', 'tues',\n",
              "       'wed', 'thurs', 'fri', 'sat', 'sun', 'subject_code', 'subject_name',\n",
              "       'subject_abbreviation', 'course_uuid', 'term_code',\n",
              "       'course_offering_name', 'course_name', 'course_number',\n",
              "       'course_and_section', 'a_count', 'ab_count', 'b_count', 'bc_count',\n",
              "       'c_count', 'd_count', 'f_count', 's_count', 'u_count', 'cr_count',\n",
              "       'n_count', 'p_count', 'i_count', 'nw_count', 'nr_count', 'other_count'],\n",
              "      dtype='object')"
            ]
          },
          "metadata": {},
          "execution_count": 6
        }
      ]
    },
    {
      "cell_type": "code",
      "source": [
        "# drop 'Unnamed: 0' (repeat of the index)\n",
        "df.drop(columns = 'Unnamed: 0',\n",
        "        inplace = True)"
      ],
      "metadata": {
        "id": "FsN_d3LtBP--"
      },
      "execution_count": null,
      "outputs": []
    },
    {
      "cell_type": "code",
      "source": [
        "# check\n",
        "df.columns"
      ],
      "metadata": {
        "colab": {
          "base_uri": "https://localhost:8080/"
        },
        "id": "umQRzCt0CMnn",
        "outputId": "3c58463a-95fa-499f-ac99-441363a41acc"
      },
      "execution_count": null,
      "outputs": [
        {
          "output_type": "execute_result",
          "data": {
            "text/plain": [
              "Index(['section_uuid', 'course_offering_uuid', 'section_type',\n",
              "       'section_number', 'room_uuid', 'schedule_uuid', 'instructor_id',\n",
              "       'facility_code', 'room_code', 'start_time', 'end_time', 'mon', 'tues',\n",
              "       'wed', 'thurs', 'fri', 'sat', 'sun', 'subject_code', 'subject_name',\n",
              "       'subject_abbreviation', 'course_uuid', 'term_code',\n",
              "       'course_offering_name', 'course_name', 'course_number',\n",
              "       'course_and_section', 'a_count', 'ab_count', 'b_count', 'bc_count',\n",
              "       'c_count', 'd_count', 'f_count', 's_count', 'u_count', 'cr_count',\n",
              "       'n_count', 'p_count', 'i_count', 'nw_count', 'nr_count', 'other_count'],\n",
              "      dtype='object')"
            ]
          },
          "metadata": {},
          "execution_count": 8
        }
      ]
    },
    {
      "cell_type": "markdown",
      "source": [
        "## Grades\n",
        "\n",
        "Our target variables will be 'a_proportion', 'f_proportion', and 'avg_grade'. We will calculate and create these with our existing data and then drop the other grade counts columns."
      ],
      "metadata": {
        "id": "kKvQWw6TCWhe"
      }
    },
    {
      "cell_type": "markdown",
      "source": [
        "Information from the University of Wisconsin's website about grades can be found here: https://guide.wisc.edu/undergraduate/#enrollmentandrecordstext\n",
        "\n",
        "Grades:\n",
        "- a, ab, b, bc, c, d, f - letter grades\n",
        "  - ab - intermediate grade between a and b\n",
        "  - bc - intermediate grade between b and c\n",
        "- s - satisfactory, used in pass/fail courses\n",
        "- u - unsatisfactory, used in pass/fail courses\n",
        "- cr - credit, used in credit/no credit courses\n",
        "- n - no credit, used in credit/no credit courses\n",
        "- p - progress: temporary grade used for courses extending beyond one term\n",
        "- i - incomplete: temporary grade used when work is not completed during a term\n",
        "- nw - no work: for students who enroll in a course and then never attend\n",
        "- nr - no report: a grade was not submitted by the instructor\n",
        "- other - any one of several other grading codes"
      ],
      "metadata": {
        "id": "QFiqZUj75j8C"
      }
    },
    {
      "cell_type": "markdown",
      "source": [
        "For a preliminary machine learning attempt with this data, we are interested in predicting any one of the following:\n",
        "1. the number of As as a proportion of total letter grades\n",
        "2. the number of Fs as a proportion of total letter grades\n",
        "3. the average letter grade \n",
        "\n",
        "To keep the problem simple, we will only count letter grades given in each course. Although the dataset provides counts for some other grade types (S, U, N, CR, etc.), we are interested in the letter grades given (A, AB, B, BC, C, D, and F). So, we will drop the columns representing other grade types. \n",
        "\n",
        "To calculate this number, we will change our dataframe (grades_df) to end up with the following columns:\n",
        "- course_offering_uuid (unchanged)\n",
        "- section_number (unchanged)\n",
        "- a_proportion (number of a grades / number of total grades given per row)\n",
        "- f_proportion (number of f grades / number of total grades given per row)\n",
        "- average_grade ((sum of letters * points) / number of total grades given per row); points as follows:\n",
        "  - a: 4.0\n",
        "  - ab: 3.5\n",
        "  - b: 3.0\n",
        "  - bc: 2.5\n",
        "  - c: 2.0\n",
        "  - d: 1.0\n",
        "  - f: 0.0"
      ],
      "metadata": {
        "id": "V6FWkJz-7OGQ"
      }
    },
    {
      "cell_type": "code",
      "source": [
        "# drop following grade counts columns (we are only interested in letter grades at this point):\n",
        "df.drop(columns = ['s_count', 'u_count', 'cr_count', 'n_count', 'p_count', 'i_count', 'nw_count', 'nr_count', 'other_count'], inplace = True)"
      ],
      "metadata": {
        "id": "1Vyl5XzTPIFT"
      },
      "execution_count": null,
      "outputs": []
    },
    {
      "cell_type": "code",
      "source": [
        "# for every row in grades_df:\n",
        "for i in range(len(df)):\n",
        "\n",
        "  # assign variable num_a to the 'a_count' value\n",
        "  num_a = df.at[i, 'a_count']\n",
        "\n",
        "  # assign variable num_f to the 'f_count' value\n",
        "  num_f = df.at[i, 'f_count']\n",
        "\n",
        "  # assign variable num_all_grades to the sum of all letter grade counts\n",
        "  num_a = df.at[i, 'a_count']\n",
        "  num_ab = df.at[i, 'ab_count']\n",
        "  num_b = df.at[i, 'b_count']\n",
        "  num_bc = df.at[i, 'bc_count']\n",
        "  num_c = df.at[i, 'c_count']\n",
        "  num_d = df.at[i, 'd_count']\n",
        "  num_f = df.at[i, 'f_count']\n",
        "\n",
        "  num_all_grades = num_a + num_ab + num_b + num_bc + num_c + num_d + num_f\n",
        "\n",
        "  # create column for num_all_grades to easily be able to delete courses where no grades were recorded\n",
        "  df.at[i, 'num_all_grades'] = num_all_grades\n",
        "\n",
        "  # if num_all_grades is not 0 (we want to exclude rows where there are no recorded grades)\n",
        "  if num_all_grades != 0:\n",
        "\n",
        "    # calculate the a_proportion & assign to grades_df\n",
        "    a_proportion = (num_a) / (num_all_grades)\n",
        "    df.at[i, 'a_proportion'] = a_proportion\n",
        "\n",
        "    # calculate the f_proportion & assign to grades_df\n",
        "    f_proportion = (num_f) / (num_all_grades)\n",
        "    df.at[i, 'f_proportion'] = f_proportion\n",
        "\n",
        "    # calculate the average grade & assign to grades_df\n",
        "    avg_grade = ((num_a * 4.0) + (num_ab * 3.5) + (num_b * 3.0) + (num_bc * 2.5) + (num_c * 2.0) + (num_d * 1.0)) / num_all_grades\n",
        "    df.at[i, 'avg_grade'] = avg_grade\n"
      ],
      "metadata": {
        "id": "K1cZkBIJNeOk"
      },
      "execution_count": null,
      "outputs": []
    },
    {
      "cell_type": "code",
      "source": [
        "# how to do above action without a for loop?\n",
        "\n",
        "# this way doesn't prevent divide-by-zero error if there are no grades recorded\n",
        "# put in if statement?\n",
        "'''\n",
        "grades_df['a_proportion] = grades_df['a_count'] / \\\n",
        "                            (grades_df['a_count'] +\n",
        "                             grades_df['ab_count'] +\n",
        "                             grades_df['b_count'] +\n",
        "                             grades_df['bc_count'] +\n",
        "                             grades_df['c_count'] +\n",
        "                             grades_df['d_count'] +\n",
        "                             grades_df['f_count']) if (grades_df['a_count'] +\n",
        "                                                        grades_df['ab_count'] +\n",
        "                                                        grades_df['b_count'] +\n",
        "                                                        grades_df['bc_count'] +\n",
        "                                                        grades_df['c_count'] +\n",
        "                                                        grades_df['d_count'] +\n",
        "                                                        grades_df['f_count']) != 0\n",
        "'''\n",
        "'''\n",
        "grades_df['a_proportion'] = grades_df['a_count'] / \\\n",
        "                            (grades_df['a_count'] +\n",
        "                             grades_df['ab_count'] +\n",
        "                             grades_df['b_count'] +\n",
        "                             grades_df['bc_count'] +\n",
        "                             grades_df['c_count'] +\n",
        "                             grades_df['d_count'] +\n",
        "                             grades_df['f_count'])\n",
        "\n",
        "grades_df['f_proportion'] = grades_df['f_count'] / \\\n",
        "                            (grades_df['a_count'] +\n",
        "                             grades_df['ab_count'] +\n",
        "                             grades_df['b_count'] +\n",
        "                             grades_df['bc_count'] +\n",
        "                             grades_df['c_count'] +\n",
        "                             grades_df['d_count'] +\n",
        "                             grades_df['f_count'])\n",
        "\n",
        "grades_df['avg_grade'] = ( (grades_df['a_count'] * 4.0) +\n",
        "                           (grades_df['ab_count'] * 3.5) +\n",
        "                           (grades_df['b_count'] * 3.0) +\n",
        "                           (grades_df['bc_count'] * 2.5) +\n",
        "                           (grades_df['c_count'] * 2.0) +\n",
        "                           (grades_df['d_count'] * 1.0) +\n",
        "                           (grades_df['f_count'] * 0.0) ) / \\\n",
        "                         (  grades_df['a_count'] +\n",
        "                            grades_df['ab_count'] +\n",
        "                            grades_df['b_count'] +\n",
        "                            grades_df['bc_count'] +\n",
        "                            grades_df['c_count'] +\n",
        "                            grades_df['d_count'] +\n",
        "                            grades_df['f_count'] )\n",
        "'''"
      ],
      "metadata": {
        "colab": {
          "base_uri": "https://localhost:8080/",
          "height": 109
        },
        "id": "qD1zB4wpFgjz",
        "outputId": "bc7917c4-3ea0-496c-f8be-39738b377c76"
      },
      "execution_count": null,
      "outputs": [
        {
          "output_type": "execute_result",
          "data": {
            "text/plain": [
              "\"\\ngrades_df['a_proportion'] = grades_df['a_count'] /                             (grades_df['a_count'] +\\n                             grades_df['ab_count'] +\\n                             grades_df['b_count'] +\\n                             grades_df['bc_count'] +\\n                             grades_df['c_count'] +\\n                             grades_df['d_count'] +\\n                             grades_df['f_count'])\\n\\ngrades_df['f_proportion'] = grades_df['f_count'] /                             (grades_df['a_count'] +\\n                             grades_df['ab_count'] +\\n                             grades_df['b_count'] +\\n                             grades_df['bc_count'] +\\n                             grades_df['c_count'] +\\n                             grades_df['d_count'] +\\n                             grades_df['f_count'])\\n\\ngrades_df['avg_grade'] = ( (grades_df['a_count'] * 4.0) +\\n                           (grades_df['ab_count'] * 3.5) +\\n                           (grades_df['b_count'] * 3.0) +\\n                           (grades_df['bc_count'] * 2.5) +\\n                           (grades_df['c_count'] * 2.0) +\\n                           (grades_df['d_count'] * 1.0) +\\n                           (grades_df['f_count'] * 0.0) ) /                          (  grades_df['a_count'] +\\n                            grades_df['ab_count'] +\\n                            grades_df['b_count'] +\\n                            grades_df['bc_count'] +\\n                            grades_df['c_count'] +\\n                            grades_df['d_count'] +\\n                            grades_df['f_count'] )\\n\""
            ],
            "application/vnd.google.colaboratory.intrinsic+json": {
              "type": "string"
            }
          },
          "metadata": {},
          "execution_count": 11
        }
      ]
    },
    {
      "cell_type": "code",
      "source": [
        "# check\n",
        "df.columns"
      ],
      "metadata": {
        "colab": {
          "base_uri": "https://localhost:8080/"
        },
        "id": "yI1FJ32AnSmP",
        "outputId": "ab951d13-6f37-4ccd-a03c-3101cba0636f"
      },
      "execution_count": null,
      "outputs": [
        {
          "output_type": "execute_result",
          "data": {
            "text/plain": [
              "Index(['section_uuid', 'course_offering_uuid', 'section_type',\n",
              "       'section_number', 'room_uuid', 'schedule_uuid', 'instructor_id',\n",
              "       'facility_code', 'room_code', 'start_time', 'end_time', 'mon', 'tues',\n",
              "       'wed', 'thurs', 'fri', 'sat', 'sun', 'subject_code', 'subject_name',\n",
              "       'subject_abbreviation', 'course_uuid', 'term_code',\n",
              "       'course_offering_name', 'course_name', 'course_number',\n",
              "       'course_and_section', 'a_count', 'ab_count', 'b_count', 'bc_count',\n",
              "       'c_count', 'd_count', 'f_count', 'num_all_grades', 'a_proportion',\n",
              "       'f_proportion', 'avg_grade'],\n",
              "      dtype='object')"
            ]
          },
          "metadata": {},
          "execution_count": 12
        }
      ]
    },
    {
      "cell_type": "code",
      "source": [
        "# check\n",
        "df[['a_proportion', 'f_proportion', 'avg_grade']].sample(10)"
      ],
      "metadata": {
        "colab": {
          "base_uri": "https://localhost:8080/",
          "height": 363
        },
        "id": "4TeboAyInYyU",
        "outputId": "9355d9eb-9282-40d4-feed-388dd24feae5"
      },
      "execution_count": null,
      "outputs": [
        {
          "output_type": "execute_result",
          "data": {
            "text/plain": [
              "        a_proportion  f_proportion  avg_grade\n",
              "42118            NaN           NaN        NaN\n",
              "128076      0.062500       0.00000   3.343750\n",
              "109815      0.142857       0.02381   2.773810\n",
              "123527      0.523810       0.00000   3.595238\n",
              "134753      0.846154       0.00000   3.923077\n",
              "11573            NaN           NaN        NaN\n",
              "128477           NaN           NaN        NaN\n",
              "87916            NaN           NaN        NaN\n",
              "56373            NaN           NaN        NaN\n",
              "159222      0.933333       0.00000   3.966667"
            ],
            "text/html": [
              "\n",
              "  <div id=\"df-87ae0df1-2c7f-4cc4-b096-d9b5e702c4cb\">\n",
              "    <div class=\"colab-df-container\">\n",
              "      <div>\n",
              "<style scoped>\n",
              "    .dataframe tbody tr th:only-of-type {\n",
              "        vertical-align: middle;\n",
              "    }\n",
              "\n",
              "    .dataframe tbody tr th {\n",
              "        vertical-align: top;\n",
              "    }\n",
              "\n",
              "    .dataframe thead th {\n",
              "        text-align: right;\n",
              "    }\n",
              "</style>\n",
              "<table border=\"1\" class=\"dataframe\">\n",
              "  <thead>\n",
              "    <tr style=\"text-align: right;\">\n",
              "      <th></th>\n",
              "      <th>a_proportion</th>\n",
              "      <th>f_proportion</th>\n",
              "      <th>avg_grade</th>\n",
              "    </tr>\n",
              "  </thead>\n",
              "  <tbody>\n",
              "    <tr>\n",
              "      <th>42118</th>\n",
              "      <td>NaN</td>\n",
              "      <td>NaN</td>\n",
              "      <td>NaN</td>\n",
              "    </tr>\n",
              "    <tr>\n",
              "      <th>128076</th>\n",
              "      <td>0.062500</td>\n",
              "      <td>0.00000</td>\n",
              "      <td>3.343750</td>\n",
              "    </tr>\n",
              "    <tr>\n",
              "      <th>109815</th>\n",
              "      <td>0.142857</td>\n",
              "      <td>0.02381</td>\n",
              "      <td>2.773810</td>\n",
              "    </tr>\n",
              "    <tr>\n",
              "      <th>123527</th>\n",
              "      <td>0.523810</td>\n",
              "      <td>0.00000</td>\n",
              "      <td>3.595238</td>\n",
              "    </tr>\n",
              "    <tr>\n",
              "      <th>134753</th>\n",
              "      <td>0.846154</td>\n",
              "      <td>0.00000</td>\n",
              "      <td>3.923077</td>\n",
              "    </tr>\n",
              "    <tr>\n",
              "      <th>11573</th>\n",
              "      <td>NaN</td>\n",
              "      <td>NaN</td>\n",
              "      <td>NaN</td>\n",
              "    </tr>\n",
              "    <tr>\n",
              "      <th>128477</th>\n",
              "      <td>NaN</td>\n",
              "      <td>NaN</td>\n",
              "      <td>NaN</td>\n",
              "    </tr>\n",
              "    <tr>\n",
              "      <th>87916</th>\n",
              "      <td>NaN</td>\n",
              "      <td>NaN</td>\n",
              "      <td>NaN</td>\n",
              "    </tr>\n",
              "    <tr>\n",
              "      <th>56373</th>\n",
              "      <td>NaN</td>\n",
              "      <td>NaN</td>\n",
              "      <td>NaN</td>\n",
              "    </tr>\n",
              "    <tr>\n",
              "      <th>159222</th>\n",
              "      <td>0.933333</td>\n",
              "      <td>0.00000</td>\n",
              "      <td>3.966667</td>\n",
              "    </tr>\n",
              "  </tbody>\n",
              "</table>\n",
              "</div>\n",
              "      <button class=\"colab-df-convert\" onclick=\"convertToInteractive('df-87ae0df1-2c7f-4cc4-b096-d9b5e702c4cb')\"\n",
              "              title=\"Convert this dataframe to an interactive table.\"\n",
              "              style=\"display:none;\">\n",
              "        \n",
              "  <svg xmlns=\"http://www.w3.org/2000/svg\" height=\"24px\"viewBox=\"0 0 24 24\"\n",
              "       width=\"24px\">\n",
              "    <path d=\"M0 0h24v24H0V0z\" fill=\"none\"/>\n",
              "    <path d=\"M18.56 5.44l.94 2.06.94-2.06 2.06-.94-2.06-.94-.94-2.06-.94 2.06-2.06.94zm-11 1L8.5 8.5l.94-2.06 2.06-.94-2.06-.94L8.5 2.5l-.94 2.06-2.06.94zm10 10l.94 2.06.94-2.06 2.06-.94-2.06-.94-.94-2.06-.94 2.06-2.06.94z\"/><path d=\"M17.41 7.96l-1.37-1.37c-.4-.4-.92-.59-1.43-.59-.52 0-1.04.2-1.43.59L10.3 9.45l-7.72 7.72c-.78.78-.78 2.05 0 2.83L4 21.41c.39.39.9.59 1.41.59.51 0 1.02-.2 1.41-.59l7.78-7.78 2.81-2.81c.8-.78.8-2.07 0-2.86zM5.41 20L4 18.59l7.72-7.72 1.47 1.35L5.41 20z\"/>\n",
              "  </svg>\n",
              "      </button>\n",
              "      \n",
              "  <style>\n",
              "    .colab-df-container {\n",
              "      display:flex;\n",
              "      flex-wrap:wrap;\n",
              "      gap: 12px;\n",
              "    }\n",
              "\n",
              "    .colab-df-convert {\n",
              "      background-color: #E8F0FE;\n",
              "      border: none;\n",
              "      border-radius: 50%;\n",
              "      cursor: pointer;\n",
              "      display: none;\n",
              "      fill: #1967D2;\n",
              "      height: 32px;\n",
              "      padding: 0 0 0 0;\n",
              "      width: 32px;\n",
              "    }\n",
              "\n",
              "    .colab-df-convert:hover {\n",
              "      background-color: #E2EBFA;\n",
              "      box-shadow: 0px 1px 2px rgba(60, 64, 67, 0.3), 0px 1px 3px 1px rgba(60, 64, 67, 0.15);\n",
              "      fill: #174EA6;\n",
              "    }\n",
              "\n",
              "    [theme=dark] .colab-df-convert {\n",
              "      background-color: #3B4455;\n",
              "      fill: #D2E3FC;\n",
              "    }\n",
              "\n",
              "    [theme=dark] .colab-df-convert:hover {\n",
              "      background-color: #434B5C;\n",
              "      box-shadow: 0px 1px 3px 1px rgba(0, 0, 0, 0.15);\n",
              "      filter: drop-shadow(0px 1px 2px rgba(0, 0, 0, 0.3));\n",
              "      fill: #FFFFFF;\n",
              "    }\n",
              "  </style>\n",
              "\n",
              "      <script>\n",
              "        const buttonEl =\n",
              "          document.querySelector('#df-87ae0df1-2c7f-4cc4-b096-d9b5e702c4cb button.colab-df-convert');\n",
              "        buttonEl.style.display =\n",
              "          google.colab.kernel.accessAllowed ? 'block' : 'none';\n",
              "\n",
              "        async function convertToInteractive(key) {\n",
              "          const element = document.querySelector('#df-87ae0df1-2c7f-4cc4-b096-d9b5e702c4cb');\n",
              "          const dataTable =\n",
              "            await google.colab.kernel.invokeFunction('convertToInteractive',\n",
              "                                                     [key], {});\n",
              "          if (!dataTable) return;\n",
              "\n",
              "          const docLinkHtml = 'Like what you see? Visit the ' +\n",
              "            '<a target=\"_blank\" href=https://colab.research.google.com/notebooks/data_table.ipynb>data table notebook</a>'\n",
              "            + ' to learn more about interactive tables.';\n",
              "          element.innerHTML = '';\n",
              "          dataTable['output_type'] = 'display_data';\n",
              "          await google.colab.output.renderOutput(dataTable, element);\n",
              "          const docLink = document.createElement('div');\n",
              "          docLink.innerHTML = docLinkHtml;\n",
              "          element.appendChild(docLink);\n",
              "        }\n",
              "      </script>\n",
              "    </div>\n",
              "  </div>\n",
              "  "
            ]
          },
          "metadata": {},
          "execution_count": 13
        }
      ]
    },
    {
      "cell_type": "code",
      "source": [
        "# drop rest of grades columns\n",
        "df.drop(columns = ['a_count', 'ab_count', 'b_count', 'bc_count', 'c_count', \n",
        "                   'd_count', 'f_count', 'num_all_grades'],\n",
        "        inplace = True)"
      ],
      "metadata": {
        "id": "byfzTEiyEm0E"
      },
      "execution_count": null,
      "outputs": []
    },
    {
      "cell_type": "code",
      "source": [
        "# check\n",
        "df.columns"
      ],
      "metadata": {
        "colab": {
          "base_uri": "https://localhost:8080/"
        },
        "id": "7X_rTtrLE2K9",
        "outputId": "5b1914d4-d59e-42a4-dde0-f2bb7c85eeae"
      },
      "execution_count": null,
      "outputs": [
        {
          "output_type": "execute_result",
          "data": {
            "text/plain": [
              "Index(['section_uuid', 'course_offering_uuid', 'section_type',\n",
              "       'section_number', 'room_uuid', 'schedule_uuid', 'instructor_id',\n",
              "       'facility_code', 'room_code', 'start_time', 'end_time', 'mon', 'tues',\n",
              "       'wed', 'thurs', 'fri', 'sat', 'sun', 'subject_code', 'subject_name',\n",
              "       'subject_abbreviation', 'course_uuid', 'term_code',\n",
              "       'course_offering_name', 'course_name', 'course_number',\n",
              "       'course_and_section', 'a_proportion', 'f_proportion', 'avg_grade'],\n",
              "      dtype='object')"
            ]
          },
          "metadata": {},
          "execution_count": 15
        }
      ]
    },
    {
      "cell_type": "code",
      "source": [
        "# delete rows that don't have any values for any of the three target\n",
        "# variable columns\n",
        "df.dropna(subset = ['a_proportion', 'f_proportion', 'avg_grade'], \n",
        "          how = 'all', \n",
        "          inplace = True)"
      ],
      "metadata": {
        "id": "0FQ26uNJI_Xl"
      },
      "execution_count": null,
      "outputs": []
    },
    {
      "cell_type": "code",
      "source": [
        "# check\n",
        "df.shape"
      ],
      "metadata": {
        "colab": {
          "base_uri": "https://localhost:8080/"
        },
        "id": "s8j7adSiJpel",
        "outputId": "58172dcc-bd52-444d-d88b-c3ee4bc911af"
      },
      "execution_count": null,
      "outputs": [
        {
          "output_type": "execute_result",
          "data": {
            "text/plain": [
              "(64186, 30)"
            ]
          },
          "metadata": {},
          "execution_count": 17
        }
      ]
    },
    {
      "cell_type": "markdown",
      "source": [
        "## 'term_code'\n",
        "\n",
        "The current 'term_code' column gives a 4-digit code indicating the term the course was offered in. "
      ],
      "metadata": {
        "id": "xJiRr-zOE_VD"
      }
    },
    {
      "cell_type": "markdown",
      "source": [
        "'term_code':\n",
        "- first digit always 1 (21st century)\n",
        "- second two digits academic year (from 07 to 18; year that the academic year ends in summer)\n",
        "- fourth digit term (2 = fall, 4 = spring, 6 = summer)\n",
        "\n",
        "Source: https://kb.wisc.edu/registrar/117776"
      ],
      "metadata": {
        "id": "cXf36wdtbnPu"
      }
    },
    {
      "cell_type": "code",
      "source": [
        "df.reset_index(inplace = True, drop = True)"
      ],
      "metadata": {
        "id": "S1Xaqk86RBLr"
      },
      "execution_count": null,
      "outputs": []
    },
    {
      "cell_type": "code",
      "source": [
        "# inspect\n",
        "df['term_code'].value_counts(dropna = False)\n",
        "# data includes years '07' to '18' and only fall (2) and spring (4) terms"
      ],
      "metadata": {
        "colab": {
          "base_uri": "https://localhost:8080/"
        },
        "outputId": "73358020-806f-4cb3-f559-8a124232c793",
        "id": "tcYDwQpcbkFz"
      },
      "execution_count": null,
      "outputs": [
        {
          "output_type": "execute_result",
          "data": {
            "text/plain": [
              "1072.0    3141\n",
              "1082.0    3055\n",
              "1092.0    3047\n",
              "1102.0    3042\n",
              "1074.0    3006\n",
              "1152.0    3001\n",
              "1122.0    2966\n",
              "1132.0    2946\n",
              "1112.0    2939\n",
              "1142.0    2925\n",
              "1084.0    2921\n",
              "1162.0    2901\n",
              "1172.0    2891\n",
              "1104.0    2869\n",
              "1094.0    2864\n",
              "1134.0    2845\n",
              "1182.0    2832\n",
              "1114.0    2828\n",
              "1144.0    2816\n",
              "1154.0    2810\n",
              "1164.0    2776\n",
              "1174.0    2765\n",
              "Name: term_code, dtype: int64"
            ]
          },
          "metadata": {},
          "execution_count": 19
        }
      ]
    },
    {
      "cell_type": "markdown",
      "source": [
        "We will split 'term_code' into one column for year (numeric, 7-18) and one for term (nominal, fall or spring)"
      ],
      "metadata": {
        "id": "325ms5tqcBW4"
      }
    },
    {
      "cell_type": "code",
      "source": [
        "# iterate through all rows in df\n",
        "for i in range(len(df)):\n",
        "\n",
        "  # create string of 'term_code' for indexing\n",
        "  string = df.at[i, 'term_code'].astype(str)\n",
        "\n",
        "  # make sure string is 4 or more characters long\n",
        "  if len(string) >= 4:\n",
        "\n",
        "    # assign 'year' as the middle two characters in the string\n",
        "    df.at[i, 'year'] = string[1:3]\n",
        "\n",
        "    # if string ends in 2\n",
        "    if string[3] == '2':\n",
        "\n",
        "      # assign 'term' as 'fall'\n",
        "      df.at[i, 'term'] = 'fall'\n",
        "  \n",
        "    # else\n",
        "    else:\n",
        "\n",
        "      # assign 'term' as 'spring'\n",
        "      df.at[i, 'term'] = 'spring'"
      ],
      "metadata": {
        "id": "ga6hIGPsbkF0"
      },
      "execution_count": null,
      "outputs": []
    },
    {
      "cell_type": "code",
      "source": [
        "# how to do above actions without a for loop?\n",
        "# this doesn't work\n",
        "\n",
        "# df['year'] = df['term_code'].astype(str)[1:3]\n",
        "# df['term'] = df['term_code'].astype(str)[3]"
      ],
      "metadata": {
        "id": "zY7NzNmJDY0T"
      },
      "execution_count": null,
      "outputs": []
    },
    {
      "cell_type": "code",
      "source": [
        "# check\n",
        "print(df['year'].value_counts(dropna = False))\n",
        "print(df['term'].value_counts(dropna = False))"
      ],
      "metadata": {
        "colab": {
          "base_uri": "https://localhost:8080/"
        },
        "id": "DtGXBLbPcuT0",
        "outputId": "acf4c285-c54e-468c-f8ba-f1564187bfbc"
      },
      "execution_count": null,
      "outputs": [
        {
          "output_type": "stream",
          "name": "stdout",
          "text": [
            "07    6147\n",
            "08    5976\n",
            "10    5911\n",
            "09    5911\n",
            "15    5811\n",
            "13    5791\n",
            "11    5767\n",
            "14    5741\n",
            "16    5677\n",
            "17    5656\n",
            "12    2966\n",
            "18    2832\n",
            "Name: year, dtype: int64\n",
            "fall      35686\n",
            "spring    28500\n",
            "Name: term, dtype: int64\n"
          ]
        }
      ]
    },
    {
      "cell_type": "code",
      "source": [
        "# drop 'term_code' as it is now redundant\n",
        "df.drop(columns = 'term_code', inplace = True)"
      ],
      "metadata": {
        "id": "GlRoyVSlc3NC"
      },
      "execution_count": null,
      "outputs": []
    },
    {
      "cell_type": "code",
      "source": [
        "# check\n",
        "df.columns"
      ],
      "metadata": {
        "colab": {
          "base_uri": "https://localhost:8080/"
        },
        "id": "s8eJXhTdc8qf",
        "outputId": "9bade091-f2f4-4ae6-c1a7-ce3fc16240f4"
      },
      "execution_count": null,
      "outputs": [
        {
          "output_type": "execute_result",
          "data": {
            "text/plain": [
              "Index(['section_uuid', 'course_offering_uuid', 'section_type',\n",
              "       'section_number', 'room_uuid', 'schedule_uuid', 'instructor_id',\n",
              "       'facility_code', 'room_code', 'start_time', 'end_time', 'mon', 'tues',\n",
              "       'wed', 'thurs', 'fri', 'sat', 'sun', 'subject_code', 'subject_name',\n",
              "       'subject_abbreviation', 'course_uuid', 'course_offering_name',\n",
              "       'course_name', 'course_number', 'course_and_section', 'a_proportion',\n",
              "       'f_proportion', 'avg_grade', 'year', 'term'],\n",
              "      dtype='object')"
            ]
          },
          "metadata": {},
          "execution_count": 24
        }
      ]
    },
    {
      "cell_type": "markdown",
      "source": [
        "## Rooms and buildings"
      ],
      "metadata": {
        "id": "0GyBQl_06JVg"
      }
    },
    {
      "cell_type": "markdown",
      "source": [
        "Every room_uuid has a facility_code which indicates a building, and a room_code which indicates a room in the building. We will drop the room_code column because it is likely a high-cardinality variable, since there are many, many rooms on campus. We will keep the building (facility_code). "
      ],
      "metadata": {
        "id": "SJzntSeltRZU"
      }
    },
    {
      "cell_type": "code",
      "source": [
        "df.drop(columns = ['room_uuid', 'room_code'], inplace = True)"
      ],
      "metadata": {
        "id": "AXQumXnCKNgN"
      },
      "execution_count": null,
      "outputs": []
    },
    {
      "cell_type": "code",
      "source": [
        "# check\n",
        "df.columns"
      ],
      "metadata": {
        "colab": {
          "base_uri": "https://localhost:8080/"
        },
        "id": "7-bd8zOoKRdM",
        "outputId": "85c9f618-a5ee-4819-8730-8bc8f763c918"
      },
      "execution_count": null,
      "outputs": [
        {
          "output_type": "execute_result",
          "data": {
            "text/plain": [
              "Index(['section_uuid', 'course_offering_uuid', 'section_type',\n",
              "       'section_number', 'schedule_uuid', 'instructor_id', 'facility_code',\n",
              "       'start_time', 'end_time', 'mon', 'tues', 'wed', 'thurs', 'fri', 'sat',\n",
              "       'sun', 'subject_code', 'subject_name', 'subject_abbreviation',\n",
              "       'course_uuid', 'course_offering_name', 'course_name', 'course_number',\n",
              "       'course_and_section', 'a_proportion', 'f_proportion', 'avg_grade',\n",
              "       'year', 'term'],\n",
              "      dtype='object')"
            ]
          },
          "metadata": {},
          "execution_count": 26
        }
      ]
    },
    {
      "cell_type": "markdown",
      "source": [
        "## Schedules"
      ],
      "metadata": {
        "id": "ZxvlousfKkMU"
      }
    },
    {
      "cell_type": "markdown",
      "source": [
        "'start_time' and 'end_time' will probably have a high degree of co-linearity due to many classes being on a fixed schedule. So, we can drop 'end_time'. \n",
        "\n",
        "But, we are interested in if the length of a class may explain some variance in the grades earned, so first we will calculate 'class_length'. 'class_length' will represent the length of the class in minutes on any day of the week that the class meets (if class meets from 9:00am to 9:50am on MWF, 'class_length' will be 50 minutes)). \n",
        "\n",
        "We are also interested in if the total contact time (per week) may explain some variance. So we will calculate 'total_time', which will be the 'class_length' multiplied by the number of classes per week (so if class meets from 9:00am to 9:50am on MWF, 'total_time' will be 150 minutes). "
      ],
      "metadata": {
        "id": "yKohPFg6LoHH"
      }
    },
    {
      "cell_type": "code",
      "source": [
        "# 'class_length'\n",
        "df['class_length'] = df['end_time'] - df['start_time']"
      ],
      "metadata": {
        "id": "YIe_vOejLWe8"
      },
      "execution_count": null,
      "outputs": []
    },
    {
      "cell_type": "code",
      "source": [
        "df.reset_index(inplace = True, drop = True)"
      ],
      "metadata": {
        "id": "4XJsXNqsK2J8"
      },
      "execution_count": null,
      "outputs": []
    },
    {
      "cell_type": "code",
      "source": [
        "# 'total_time'\n",
        "df['total_time'] = df['class_length'] * (df['mon'] + df['tues'] + df['wed'] + df['thurs'] + df['fri'] + df['sat'] + df['sun'])"
      ],
      "metadata": {
        "id": "AlWm85u7LNel"
      },
      "execution_count": null,
      "outputs": []
    },
    {
      "cell_type": "code",
      "source": [
        "# check\n",
        "df[['total_time', 'class_length']]"
      ],
      "metadata": {
        "colab": {
          "base_uri": "https://localhost:8080/",
          "height": 423
        },
        "id": "rFH8Ld1AMJ3F",
        "outputId": "c6090d5a-3088-4ba2-cdbd-8748b9d97dfc"
      },
      "execution_count": null,
      "outputs": [
        {
          "output_type": "execute_result",
          "data": {
            "text/plain": [
              "       total_time  class_length\n",
              "0             0.0           0.0\n",
              "1             0.0           0.0\n",
              "2             0.0           0.0\n",
              "3             0.0           0.0\n",
              "4             0.0           0.0\n",
              "...           ...           ...\n",
              "64181        50.0          50.0\n",
              "64182        50.0          50.0\n",
              "64183        50.0          50.0\n",
              "64184        50.0          50.0\n",
              "64185        65.0          65.0\n",
              "\n",
              "[64186 rows x 2 columns]"
            ],
            "text/html": [
              "\n",
              "  <div id=\"df-dccce7b1-a9a3-4b3e-9e6b-23f4745482d6\">\n",
              "    <div class=\"colab-df-container\">\n",
              "      <div>\n",
              "<style scoped>\n",
              "    .dataframe tbody tr th:only-of-type {\n",
              "        vertical-align: middle;\n",
              "    }\n",
              "\n",
              "    .dataframe tbody tr th {\n",
              "        vertical-align: top;\n",
              "    }\n",
              "\n",
              "    .dataframe thead th {\n",
              "        text-align: right;\n",
              "    }\n",
              "</style>\n",
              "<table border=\"1\" class=\"dataframe\">\n",
              "  <thead>\n",
              "    <tr style=\"text-align: right;\">\n",
              "      <th></th>\n",
              "      <th>total_time</th>\n",
              "      <th>class_length</th>\n",
              "    </tr>\n",
              "  </thead>\n",
              "  <tbody>\n",
              "    <tr>\n",
              "      <th>0</th>\n",
              "      <td>0.0</td>\n",
              "      <td>0.0</td>\n",
              "    </tr>\n",
              "    <tr>\n",
              "      <th>1</th>\n",
              "      <td>0.0</td>\n",
              "      <td>0.0</td>\n",
              "    </tr>\n",
              "    <tr>\n",
              "      <th>2</th>\n",
              "      <td>0.0</td>\n",
              "      <td>0.0</td>\n",
              "    </tr>\n",
              "    <tr>\n",
              "      <th>3</th>\n",
              "      <td>0.0</td>\n",
              "      <td>0.0</td>\n",
              "    </tr>\n",
              "    <tr>\n",
              "      <th>4</th>\n",
              "      <td>0.0</td>\n",
              "      <td>0.0</td>\n",
              "    </tr>\n",
              "    <tr>\n",
              "      <th>...</th>\n",
              "      <td>...</td>\n",
              "      <td>...</td>\n",
              "    </tr>\n",
              "    <tr>\n",
              "      <th>64181</th>\n",
              "      <td>50.0</td>\n",
              "      <td>50.0</td>\n",
              "    </tr>\n",
              "    <tr>\n",
              "      <th>64182</th>\n",
              "      <td>50.0</td>\n",
              "      <td>50.0</td>\n",
              "    </tr>\n",
              "    <tr>\n",
              "      <th>64183</th>\n",
              "      <td>50.0</td>\n",
              "      <td>50.0</td>\n",
              "    </tr>\n",
              "    <tr>\n",
              "      <th>64184</th>\n",
              "      <td>50.0</td>\n",
              "      <td>50.0</td>\n",
              "    </tr>\n",
              "    <tr>\n",
              "      <th>64185</th>\n",
              "      <td>65.0</td>\n",
              "      <td>65.0</td>\n",
              "    </tr>\n",
              "  </tbody>\n",
              "</table>\n",
              "<p>64186 rows × 2 columns</p>\n",
              "</div>\n",
              "      <button class=\"colab-df-convert\" onclick=\"convertToInteractive('df-dccce7b1-a9a3-4b3e-9e6b-23f4745482d6')\"\n",
              "              title=\"Convert this dataframe to an interactive table.\"\n",
              "              style=\"display:none;\">\n",
              "        \n",
              "  <svg xmlns=\"http://www.w3.org/2000/svg\" height=\"24px\"viewBox=\"0 0 24 24\"\n",
              "       width=\"24px\">\n",
              "    <path d=\"M0 0h24v24H0V0z\" fill=\"none\"/>\n",
              "    <path d=\"M18.56 5.44l.94 2.06.94-2.06 2.06-.94-2.06-.94-.94-2.06-.94 2.06-2.06.94zm-11 1L8.5 8.5l.94-2.06 2.06-.94-2.06-.94L8.5 2.5l-.94 2.06-2.06.94zm10 10l.94 2.06.94-2.06 2.06-.94-2.06-.94-.94-2.06-.94 2.06-2.06.94z\"/><path d=\"M17.41 7.96l-1.37-1.37c-.4-.4-.92-.59-1.43-.59-.52 0-1.04.2-1.43.59L10.3 9.45l-7.72 7.72c-.78.78-.78 2.05 0 2.83L4 21.41c.39.39.9.59 1.41.59.51 0 1.02-.2 1.41-.59l7.78-7.78 2.81-2.81c.8-.78.8-2.07 0-2.86zM5.41 20L4 18.59l7.72-7.72 1.47 1.35L5.41 20z\"/>\n",
              "  </svg>\n",
              "      </button>\n",
              "      \n",
              "  <style>\n",
              "    .colab-df-container {\n",
              "      display:flex;\n",
              "      flex-wrap:wrap;\n",
              "      gap: 12px;\n",
              "    }\n",
              "\n",
              "    .colab-df-convert {\n",
              "      background-color: #E8F0FE;\n",
              "      border: none;\n",
              "      border-radius: 50%;\n",
              "      cursor: pointer;\n",
              "      display: none;\n",
              "      fill: #1967D2;\n",
              "      height: 32px;\n",
              "      padding: 0 0 0 0;\n",
              "      width: 32px;\n",
              "    }\n",
              "\n",
              "    .colab-df-convert:hover {\n",
              "      background-color: #E2EBFA;\n",
              "      box-shadow: 0px 1px 2px rgba(60, 64, 67, 0.3), 0px 1px 3px 1px rgba(60, 64, 67, 0.15);\n",
              "      fill: #174EA6;\n",
              "    }\n",
              "\n",
              "    [theme=dark] .colab-df-convert {\n",
              "      background-color: #3B4455;\n",
              "      fill: #D2E3FC;\n",
              "    }\n",
              "\n",
              "    [theme=dark] .colab-df-convert:hover {\n",
              "      background-color: #434B5C;\n",
              "      box-shadow: 0px 1px 3px 1px rgba(0, 0, 0, 0.15);\n",
              "      filter: drop-shadow(0px 1px 2px rgba(0, 0, 0, 0.3));\n",
              "      fill: #FFFFFF;\n",
              "    }\n",
              "  </style>\n",
              "\n",
              "      <script>\n",
              "        const buttonEl =\n",
              "          document.querySelector('#df-dccce7b1-a9a3-4b3e-9e6b-23f4745482d6 button.colab-df-convert');\n",
              "        buttonEl.style.display =\n",
              "          google.colab.kernel.accessAllowed ? 'block' : 'none';\n",
              "\n",
              "        async function convertToInteractive(key) {\n",
              "          const element = document.querySelector('#df-dccce7b1-a9a3-4b3e-9e6b-23f4745482d6');\n",
              "          const dataTable =\n",
              "            await google.colab.kernel.invokeFunction('convertToInteractive',\n",
              "                                                     [key], {});\n",
              "          if (!dataTable) return;\n",
              "\n",
              "          const docLinkHtml = 'Like what you see? Visit the ' +\n",
              "            '<a target=\"_blank\" href=https://colab.research.google.com/notebooks/data_table.ipynb>data table notebook</a>'\n",
              "            + ' to learn more about interactive tables.';\n",
              "          element.innerHTML = '';\n",
              "          dataTable['output_type'] = 'display_data';\n",
              "          await google.colab.output.renderOutput(dataTable, element);\n",
              "          const docLink = document.createElement('div');\n",
              "          docLink.innerHTML = docLinkHtml;\n",
              "          element.appendChild(docLink);\n",
              "        }\n",
              "      </script>\n",
              "    </div>\n",
              "  </div>\n",
              "  "
            ]
          },
          "metadata": {},
          "execution_count": 30
        }
      ]
    },
    {
      "cell_type": "markdown",
      "source": [
        "Check value_counts for days of the week"
      ],
      "metadata": {
        "id": "BojxmGrqMLG8"
      }
    },
    {
      "cell_type": "code",
      "source": [
        "for day in ['mon', 'tues', 'wed', 'thurs', 'fri', 'sat', 'sun']:\n",
        "  print(df[day].value_counts())"
      ],
      "metadata": {
        "colab": {
          "base_uri": "https://localhost:8080/"
        },
        "id": "HJucZIQyMJqM",
        "outputId": "cb70a577-0158-4b85-8344-2b5a5be2773f"
      },
      "execution_count": null,
      "outputs": [
        {
          "output_type": "stream",
          "name": "stdout",
          "text": [
            "False    36546\n",
            "True     27640\n",
            "Name: mon, dtype: int64\n",
            "False    36954\n",
            "True     27232\n",
            "Name: tues, dtype: int64\n",
            "False    37056\n",
            "True     27130\n",
            "Name: wed, dtype: int64\n",
            "False    38275\n",
            "True     25911\n",
            "Name: thurs, dtype: int64\n",
            "False    48729\n",
            "True     15457\n",
            "Name: fri, dtype: int64\n",
            "False    62543\n",
            "True      1643\n",
            "Name: sat, dtype: int64\n",
            "False    64121\n",
            "True        65\n",
            "Name: sun, dtype: int64\n"
          ]
        }
      ]
    },
    {
      "cell_type": "markdown",
      "source": [
        "Combine classes that meet on weekends into one category to increase number of counts."
      ],
      "metadata": {
        "id": "OKk0r6MMPYnd"
      }
    },
    {
      "cell_type": "code",
      "source": [
        "# how to make this section of code fewer lines (with an or statement?)\n",
        "\n",
        "for i in range(len(df)):\n",
        "  if df.at[i, 'sat'] == True:\n",
        "    df.at[i, 'weekend'] = True\n",
        "  elif df.at[i, 'sun'] == True:\n",
        "    df.at[i, 'weekend'] = True\n",
        "  else:\n",
        "    df.at[i, 'weekend'] = False"
      ],
      "metadata": {
        "id": "KF8_DI4JQEL7"
      },
      "execution_count": null,
      "outputs": []
    },
    {
      "cell_type": "code",
      "source": [
        "'''\n",
        "# how to do above without a for loop?\n",
        "\n",
        "if df['sat'] == True:\n",
        "  df['weekend'] = True\n",
        "elif df['sun'] == True:\n",
        "  df['weekend'] = True\n",
        "else:\n",
        "  df['weekend'] = False\n",
        "'''"
      ],
      "metadata": {
        "colab": {
          "base_uri": "https://localhost:8080/",
          "height": 36
        },
        "id": "C2C8N_F0N727",
        "outputId": "fdb7755e-22b0-4610-ecca-07f4022df70b"
      },
      "execution_count": null,
      "outputs": [
        {
          "output_type": "execute_result",
          "data": {
            "text/plain": [
              "\"\\n# how to do above without a for loop?\\n\\nif df['sat'] == True:\\n  df['weekend'] = True\\nelif df['sun'] == True:\\n  df['weekend'] = True\\nelse:\\n  df['weekend'] = False\\n\""
            ],
            "application/vnd.google.colaboratory.intrinsic+json": {
              "type": "string"
            }
          },
          "metadata": {},
          "execution_count": 33
        }
      ]
    },
    {
      "cell_type": "code",
      "source": [
        "# check\n",
        "df['weekend'].value_counts()"
      ],
      "metadata": {
        "colab": {
          "base_uri": "https://localhost:8080/"
        },
        "id": "0Xi66edkNPXE",
        "outputId": "85c86a83-1c02-430d-908c-f530bef435d1"
      },
      "execution_count": null,
      "outputs": [
        {
          "output_type": "execute_result",
          "data": {
            "text/plain": [
              "False    62503\n",
              "True      1683\n",
              "Name: weekend, dtype: int64"
            ]
          },
          "metadata": {},
          "execution_count": 34
        }
      ]
    },
    {
      "cell_type": "code",
      "source": [
        "# delete 'sat' and 'sun' classes (highly correlated with 'weekend'), and\n",
        "# 'end_time' (highly correlated with 'start_time' and 'class_length')\n",
        "df.drop(columns = ['sat', 'sun', 'end_time'], inplace = True)"
      ],
      "metadata": {
        "id": "tINoAnK9OR66"
      },
      "execution_count": null,
      "outputs": []
    },
    {
      "cell_type": "code",
      "source": [
        "# check\n",
        "df.columns"
      ],
      "metadata": {
        "colab": {
          "base_uri": "https://localhost:8080/"
        },
        "id": "__IYpBjWOYxV",
        "outputId": "3f9ff490-038d-4fb2-c490-64b62ebb49ea"
      },
      "execution_count": null,
      "outputs": [
        {
          "output_type": "execute_result",
          "data": {
            "text/plain": [
              "Index(['section_uuid', 'course_offering_uuid', 'section_type',\n",
              "       'section_number', 'schedule_uuid', 'instructor_id', 'facility_code',\n",
              "       'start_time', 'mon', 'tues', 'wed', 'thurs', 'fri', 'subject_code',\n",
              "       'subject_name', 'subject_abbreviation', 'course_uuid',\n",
              "       'course_offering_name', 'course_name', 'course_number',\n",
              "       'course_and_section', 'a_proportion', 'f_proportion', 'avg_grade',\n",
              "       'year', 'term', 'class_length', 'total_time', 'weekend'],\n",
              "      dtype='object')"
            ]
          },
          "metadata": {},
          "execution_count": 36
        }
      ]
    },
    {
      "cell_type": "code",
      "source": [
        "# drop 'schedule_uuid'; it correlates with the other schedule variables\n",
        "df.drop(columns = 'schedule_uuid', inplace = True)"
      ],
      "metadata": {
        "id": "xJlkxxqUZOLA"
      },
      "execution_count": null,
      "outputs": []
    },
    {
      "cell_type": "code",
      "source": [
        "# check\n",
        "df.columns"
      ],
      "metadata": {
        "colab": {
          "base_uri": "https://localhost:8080/"
        },
        "id": "JPu7khLJZYRI",
        "outputId": "3ed2ef10-d341-47d1-99ed-f76f288f5035"
      },
      "execution_count": null,
      "outputs": [
        {
          "output_type": "execute_result",
          "data": {
            "text/plain": [
              "Index(['section_uuid', 'course_offering_uuid', 'section_type',\n",
              "       'section_number', 'instructor_id', 'facility_code', 'start_time', 'mon',\n",
              "       'tues', 'wed', 'thurs', 'fri', 'subject_code', 'subject_name',\n",
              "       'subject_abbreviation', 'course_uuid', 'course_offering_name',\n",
              "       'course_name', 'course_number', 'course_and_section', 'a_proportion',\n",
              "       'f_proportion', 'avg_grade', 'year', 'term', 'class_length',\n",
              "       'total_time', 'weekend'],\n",
              "      dtype='object')"
            ]
          },
          "metadata": {},
          "execution_count": 38
        }
      ]
    },
    {
      "cell_type": "markdown",
      "source": [
        "## Subjects\n",
        "\n",
        "Delete 'subject_abbreviations' and 'subject_codes', as these are repeats of the 'subject_name' column."
      ],
      "metadata": {
        "id": "dg1okW8RPhY7"
      }
    },
    {
      "cell_type": "code",
      "source": [
        "df.drop(columns = ['subject_code', 'subject_abbreviation'], inplace = True)"
      ],
      "metadata": {
        "id": "fM1TWczSPs9J"
      },
      "execution_count": null,
      "outputs": []
    },
    {
      "cell_type": "code",
      "source": [
        "# check\n",
        "df.columns"
      ],
      "metadata": {
        "colab": {
          "base_uri": "https://localhost:8080/"
        },
        "id": "tM0mfWTbP0xy",
        "outputId": "8d51f630-a0bf-4e44-b882-22de38d7dbc6"
      },
      "execution_count": null,
      "outputs": [
        {
          "output_type": "execute_result",
          "data": {
            "text/plain": [
              "Index(['section_uuid', 'course_offering_uuid', 'section_type',\n",
              "       'section_number', 'instructor_id', 'facility_code', 'start_time', 'mon',\n",
              "       'tues', 'wed', 'thurs', 'fri', 'subject_name', 'course_uuid',\n",
              "       'course_offering_name', 'course_name', 'course_number',\n",
              "       'course_and_section', 'a_proportion', 'f_proportion', 'avg_grade',\n",
              "       'year', 'term', 'class_length', 'total_time', 'weekend'],\n",
              "      dtype='object')"
            ]
          },
          "metadata": {},
          "execution_count": 40
        }
      ]
    },
    {
      "cell_type": "markdown",
      "source": [
        "## Course number"
      ],
      "metadata": {
        "id": "ua6qUEOrTAwL"
      }
    },
    {
      "cell_type": "code",
      "source": [
        "df['course_number'].describe()"
      ],
      "metadata": {
        "colab": {
          "base_uri": "https://localhost:8080/"
        },
        "id": "E6OSMSRWTCbz",
        "outputId": "8021a6dc-d9b1-4383-d862-1dc7476e69e8"
      },
      "execution_count": null,
      "outputs": [
        {
          "output_type": "execute_result",
          "data": {
            "text/plain": [
              "count    64186.000000\n",
              "mean       446.496713\n",
              "std        258.355618\n",
              "min          1.000000\n",
              "25%        223.000000\n",
              "50%        400.000000\n",
              "75%        676.000000\n",
              "max        999.000000\n",
              "Name: course_number, dtype: float64"
            ]
          },
          "metadata": {},
          "execution_count": 41
        }
      ]
    },
    {
      "cell_type": "markdown",
      "source": [
        "The 'course_number' column includes numbers in the following ranges:\n",
        "- below 100: below college-level\n",
        "- 100-299: elementary (undergraduate students only)\n",
        "- 300-499: intermediate (grad & undergrad)\n",
        "- 500-699: advanced (grad & undergrad)\n",
        "- 700+: graduate students only\n",
        "\n",
        "Source: https://grad.wisc.edu/documents/course-numbering-system/\n",
        "\n",
        "We will split up the courses into these ranges to reduce the cardinality of the variable.\n",
        "\n",
        "We will drop the below college-level and graduate student only courses and retain just courses that are elementary, intermediate, or advanced, and that undergraduate students may take. (But we will wait until after merging with big_df to do so, so that we delete the other information for these courses as well.)"
      ],
      "metadata": {
        "id": "EbWeUEq9eXix"
      }
    },
    {
      "cell_type": "code",
      "source": [
        "for i in range(len(df)):\n",
        "  if df.at[i, 'course_number'] < 100:\n",
        "    df.at[i, 'course_difficulty'] = 'below level'\n",
        "  elif df.at[i, 'course_number'] < 300:\n",
        "    df.at[i, 'course_difficulty'] = 'elementary'\n",
        "  elif df.at[i, 'course_number'] < 500:\n",
        "    df.at[i, 'course_difficulty'] = 'intermediate'\n",
        "  elif df.at[i, 'course_number'] < 700:\n",
        "    df.at[i, 'course_difficulty'] = 'advanced'\n",
        "  elif df.at[i, 'course_number'] >= 700:\n",
        "    df.at[i, 'course_difficulty'] = 'grad level'"
      ],
      "metadata": {
        "id": "TUCtDaXMiKCH"
      },
      "execution_count": null,
      "outputs": []
    },
    {
      "cell_type": "code",
      "source": [
        "# how to do above action without a for loop?\n",
        "# courses_df['course_difficulty'] = "
      ],
      "metadata": {
        "id": "0Bm_1uaWETlV"
      },
      "execution_count": null,
      "outputs": []
    },
    {
      "cell_type": "code",
      "source": [
        "# check\n",
        "df['course_difficulty'].value_counts()"
      ],
      "metadata": {
        "colab": {
          "base_uri": "https://localhost:8080/"
        },
        "id": "GeaqNocoTrnr",
        "outputId": "a0f690fa-c705-4c9c-f1a5-722f31a8971f"
      },
      "execution_count": null,
      "outputs": [
        {
          "output_type": "execute_result",
          "data": {
            "text/plain": [
              "elementary      19562\n",
              "intermediate    18574\n",
              "grad level      14130\n",
              "advanced        11355\n",
              "below level       565\n",
              "Name: course_difficulty, dtype: int64"
            ]
          },
          "metadata": {},
          "execution_count": 44
        }
      ]
    },
    {
      "cell_type": "code",
      "source": [
        "# we are only interested in 'elementary', 'intermediate', and 'advanced' courses\n",
        "df.drop(df[(df['course_difficulty'] == 'below level') | \n",
        "           (df['course_difficulty'] == 'grad level')].index, \n",
        "        inplace = True)\n"
      ],
      "metadata": {
        "id": "ToG361kXTy66"
      },
      "execution_count": null,
      "outputs": []
    },
    {
      "cell_type": "code",
      "source": [
        "# check\n",
        "df['course_difficulty'].value_counts()"
      ],
      "metadata": {
        "colab": {
          "base_uri": "https://localhost:8080/"
        },
        "id": "7FaHeA-HUhEy",
        "outputId": "6c96a229-d6d9-4be6-9392-3b30ed1091b0"
      },
      "execution_count": null,
      "outputs": [
        {
          "output_type": "execute_result",
          "data": {
            "text/plain": [
              "elementary      19562\n",
              "intermediate    18574\n",
              "advanced        11355\n",
              "Name: course_difficulty, dtype: int64"
            ]
          },
          "metadata": {},
          "execution_count": 46
        }
      ]
    },
    {
      "cell_type": "code",
      "source": [
        "# drop course_number column\n",
        "df.drop(columns = 'course_number', inplace = True)"
      ],
      "metadata": {
        "id": "p4MWm3bfjo_A"
      },
      "execution_count": null,
      "outputs": []
    },
    {
      "cell_type": "code",
      "source": [
        "# check\n",
        "df.columns"
      ],
      "metadata": {
        "colab": {
          "base_uri": "https://localhost:8080/"
        },
        "id": "_0rfUZ-1juan",
        "outputId": "95758b1a-138e-4e75-a86a-934088d574b6"
      },
      "execution_count": null,
      "outputs": [
        {
          "output_type": "execute_result",
          "data": {
            "text/plain": [
              "Index(['section_uuid', 'course_offering_uuid', 'section_type',\n",
              "       'section_number', 'instructor_id', 'facility_code', 'start_time', 'mon',\n",
              "       'tues', 'wed', 'thurs', 'fri', 'subject_name', 'course_uuid',\n",
              "       'course_offering_name', 'course_name', 'course_and_section',\n",
              "       'a_proportion', 'f_proportion', 'avg_grade', 'year', 'term',\n",
              "       'class_length', 'total_time', 'weekend', 'course_difficulty'],\n",
              "      dtype='object')"
            ]
          },
          "metadata": {},
          "execution_count": 48
        }
      ]
    },
    {
      "cell_type": "markdown",
      "source": [
        "## course_uuid"
      ],
      "metadata": {
        "id": "eNiu_VyLUt16"
      }
    },
    {
      "cell_type": "code",
      "source": [
        "# can drop 'course_uuid' column because it should match up with 'course_name' column\n",
        "df.drop(columns = 'course_uuid', inplace = True)"
      ],
      "metadata": {
        "id": "XJjX2vNAUs80"
      },
      "execution_count": null,
      "outputs": []
    },
    {
      "cell_type": "code",
      "source": [
        "# check\n",
        "df.columns"
      ],
      "metadata": {
        "colab": {
          "base_uri": "https://localhost:8080/"
        },
        "id": "IcjZpiyNU5PK",
        "outputId": "8b2b1b71-9f89-4853-e57c-4927ef1f163e"
      },
      "execution_count": null,
      "outputs": [
        {
          "output_type": "execute_result",
          "data": {
            "text/plain": [
              "Index(['section_uuid', 'course_offering_uuid', 'section_type',\n",
              "       'section_number', 'instructor_id', 'facility_code', 'start_time', 'mon',\n",
              "       'tues', 'wed', 'thurs', 'fri', 'subject_name', 'course_offering_name',\n",
              "       'course_name', 'course_and_section', 'a_proportion', 'f_proportion',\n",
              "       'avg_grade', 'year', 'term', 'class_length', 'total_time', 'weekend',\n",
              "       'course_difficulty'],\n",
              "      dtype='object')"
            ]
          },
          "metadata": {},
          "execution_count": 50
        }
      ]
    },
    {
      "cell_type": "markdown",
      "source": [
        "### Reduce cardinality in instructor_id (binning):\n",
        "- Group instructors who have taught less than 20 sections into one group."
      ],
      "metadata": {
        "id": "x6BCdjyWbDLa"
      }
    },
    {
      "cell_type": "code",
      "source": [
        "print(len(df['instructor_id']))\n",
        "print(len(df))"
      ],
      "metadata": {
        "colab": {
          "base_uri": "https://localhost:8080/"
        },
        "id": "TBORcNIYY4FX",
        "outputId": "0cff8ac5-9384-4b4c-9b4b-bb881d8383d3"
      },
      "execution_count": null,
      "outputs": [
        {
          "output_type": "stream",
          "name": "stdout",
          "text": [
            "49491\n",
            "49491\n"
          ]
        }
      ]
    },
    {
      "cell_type": "code",
      "source": [
        "print(df['instructor_id'].value_counts())"
      ],
      "metadata": {
        "colab": {
          "base_uri": "https://localhost:8080/"
        },
        "id": "UEXtaoXGY-kH",
        "outputId": "3b36af1c-d718-432c-d17d-f303d75f945f"
      },
      "execution_count": null,
      "outputs": [
        {
          "output_type": "stream",
          "name": "stdout",
          "text": [
            "566960.0     132\n",
            "496397.0     106\n",
            "2601912.0     89\n",
            "2601706.0     85\n",
            "319547.0      81\n",
            "            ... \n",
            "4716883.0      1\n",
            "4721762.0      1\n",
            "3375280.0      1\n",
            "3457484.0      1\n",
            "900462.0       1\n",
            "Name: instructor_id, Length: 7106, dtype: int64\n"
          ]
        }
      ]
    },
    {
      "cell_type": "code",
      "source": [
        "# create empty list to store instructor_ids\n",
        "instructor_20_list = []\n",
        "\n",
        "# iterate over values and counts in 'instructor_id'\n",
        "for value, count in df['instructor_id'].value_counts().items():\n",
        "  \n",
        "  # if count is more than 20 (i.e. instructor taught more than 20 sections)\n",
        "  if count > 20:\n",
        "    \n",
        "    # append to list\n",
        "    instructor_20_list.append(value)\n",
        "\n",
        "# this is the number of instructor_ids who taught more than 20 sections\n",
        "print(len(instructor_20_list))\n",
        "print(type(instructor_20_list))\n",
        "print(instructor_20_list[:20])"
      ],
      "metadata": {
        "colab": {
          "base_uri": "https://localhost:8080/"
        },
        "id": "ZyoU_o1N_N8S",
        "outputId": "4e8c2604-d880-464c-b344-9eda093d6119"
      },
      "execution_count": null,
      "outputs": [
        {
          "output_type": "stream",
          "name": "stdout",
          "text": [
            "521\n",
            "<class 'list'>\n",
            "[566960.0, 496397.0, 2601912.0, 2601706.0, 319547.0, 157057.0, 663146.0, 783847.0, 2601527.0, 623858.0, 4232086.0, 309711.0, 464468.0, 1005245.0, 980056.0, 3013497.0, 412406.0, 3615604.0, 3216300.0, 2601502.0]\n"
          ]
        }
      ]
    },
    {
      "cell_type": "code",
      "source": [
        "# assign new column where 'instructor_id' is copied if instructor taught more\n",
        "# than 20 sections, and where 'other' if not\n",
        "\n",
        "df.loc[~df['instructor_id'].isin(instructor_20_list), 'instructor_id'] = 'other'"
      ],
      "metadata": {
        "id": "VtgrtQogCFx6"
      },
      "execution_count": null,
      "outputs": []
    },
    {
      "cell_type": "code",
      "source": [
        "# check\n",
        "df['instructor_id'].sample(10)"
      ],
      "metadata": {
        "colab": {
          "base_uri": "https://localhost:8080/"
        },
        "id": "gbZPeB3lDDax",
        "outputId": "d63b1fad-9a61-4aeb-eb28-6b2c6be8d08a"
      },
      "execution_count": null,
      "outputs": [
        {
          "output_type": "execute_result",
          "data": {
            "text/plain": [
              "58869     550736.0\n",
              "5179         other\n",
              "18420    4124270.0\n",
              "3862         other\n",
              "34674        other\n",
              "3929         other\n",
              "30850        other\n",
              "34785        other\n",
              "42743        other\n",
              "39615        other\n",
              "Name: instructor_id, dtype: object"
            ]
          },
          "metadata": {},
          "execution_count": 55
        }
      ]
    },
    {
      "cell_type": "code",
      "source": [
        "# how many unique values now in 'instructor_id_250?\n",
        "df['instructor_id'].nunique()\n",
        "\n",
        "# this can be played with later to see if higher cardinality will help the model"
      ],
      "metadata": {
        "colab": {
          "base_uri": "https://localhost:8080/"
        },
        "id": "xgxgLx2RDQ0g",
        "outputId": "16ef0027-9128-493a-cb8d-6d98887bbde7"
      },
      "execution_count": null,
      "outputs": [
        {
          "output_type": "execute_result",
          "data": {
            "text/plain": [
              "522"
            ]
          },
          "metadata": {},
          "execution_count": 56
        }
      ]
    },
    {
      "cell_type": "markdown",
      "source": [
        "### Reduce cardinality in course_name (binning):"
      ],
      "metadata": {
        "id": "qdrujAbOa4y5"
      }
    },
    {
      "cell_type": "code",
      "source": [
        "# how many unique values are in 'course_name'?\n",
        "df['course_name'].nunique()"
      ],
      "metadata": {
        "id": "1YZPoOOKa9SS",
        "colab": {
          "base_uri": "https://localhost:8080/"
        },
        "outputId": "5ad2d13a-1f46-48e6-b813-942018c94c40"
      },
      "execution_count": null,
      "outputs": [
        {
          "output_type": "execute_result",
          "data": {
            "text/plain": [
              "3771"
            ]
          },
          "metadata": {},
          "execution_count": 57
        }
      ]
    },
    {
      "cell_type": "code",
      "source": [
        "# look at value_counts\n",
        "df['course_name'].value_counts()"
      ],
      "metadata": {
        "colab": {
          "base_uri": "https://localhost:8080/"
        },
        "id": "XKv-O4fgD7Ah",
        "outputId": "55443c7f-8ceb-4c6e-f310-3bf1b0867ca2"
      },
      "execution_count": null,
      "outputs": [
        {
          "output_type": "execute_result",
          "data": {
            "text/plain": [
              "introduction to speech composition                                               997\n",
              "special topics                                                                   705\n",
              "freshman composition                                                             652\n",
              "third semester spanish                                                           463\n",
              "intermediate language practice with emphasis on writing and grammar              459\n",
              "                                                                                ... \n",
              "contemporary skill set literature in french                                        1\n",
              "elementary student teaching seminar - elementary/special education dual major      1\n",
              "seminar in electrical and computer engineering                                     1\n",
              "the history of evolutionary thought                                                1\n",
              "soccer ii                                                                          1\n",
              "Name: course_name, Length: 3771, dtype: int64"
            ]
          },
          "metadata": {},
          "execution_count": 58
        }
      ]
    },
    {
      "cell_type": "code",
      "source": [
        "# create empty list to store course_names\n",
        "course_name_20_list = []\n",
        "\n",
        "# iterate over values and counts in 'course_name'\n",
        "for value, count in df['course_name'].value_counts().items():\n",
        "  \n",
        "  # if count is more than 20 (i.e. course has been taught more than 50 times)\n",
        "  if count > 20:\n",
        "    \n",
        "    # append to list\n",
        "    course_name_20_list.append(value)\n",
        "\n",
        "# this is the number of courses that have been taught more than 20 times\n",
        "print(len(course_name_20_list))"
      ],
      "metadata": {
        "colab": {
          "base_uri": "https://localhost:8080/"
        },
        "id": "xCDd-IRaEgv5",
        "outputId": "0ec3e450-d83a-4073-8fec-903674f30dde"
      },
      "execution_count": null,
      "outputs": [
        {
          "output_type": "stream",
          "name": "stdout",
          "text": [
            "521\n"
          ]
        }
      ]
    },
    {
      "cell_type": "code",
      "source": [
        "# assign new column where 'course_name' is copied if course was taught more\n",
        "# than 20 times, and where 'other' if not\n",
        "df.loc[~df['course_name'].isin(course_name_20_list), 'course_name'] = 'other'"
      ],
      "metadata": {
        "id": "G_G26y-JFMyg"
      },
      "execution_count": null,
      "outputs": []
    },
    {
      "cell_type": "code",
      "source": [
        "# check\n",
        "df['course_name'].sample(10)"
      ],
      "metadata": {
        "colab": {
          "base_uri": "https://localhost:8080/"
        },
        "id": "zmrirECJFrhX",
        "outputId": "dd294708-93b0-4d11-ce33-af6769906fc2"
      },
      "execution_count": null,
      "outputs": [
        {
          "output_type": "execute_result",
          "data": {
            "text/plain": [
              "20504                 introduction to hispanic literatures\n",
              "21084    human resources development: educational effec...\n",
              "48108                                                other\n",
              "38355                                                other\n",
              "43182                          advanced seminar in history\n",
              "41893                                                other\n",
              "14738                  introduction to college composition\n",
              "16784                                                other\n",
              "5101                              advanced ensemble-string\n",
              "17005                                              algebra\n",
              "Name: course_name, dtype: object"
            ]
          },
          "metadata": {},
          "execution_count": 61
        }
      ]
    },
    {
      "cell_type": "code",
      "source": [
        "# how many unique values now in 'course_name'?\n",
        "df['course_name'].nunique()\n",
        "\n",
        "# this can be played with later to see if higher cardinality will help the model"
      ],
      "metadata": {
        "colab": {
          "base_uri": "https://localhost:8080/"
        },
        "id": "2nq9neaXE9fo",
        "outputId": "6ae6e86d-299b-40ce-a901-e0c7c728978e"
      },
      "execution_count": null,
      "outputs": [
        {
          "output_type": "execute_result",
          "data": {
            "text/plain": [
              "522"
            ]
          },
          "metadata": {},
          "execution_count": 62
        }
      ]
    },
    {
      "cell_type": "markdown",
      "source": [
        "### Drop course_offering_name and course_offering_uuid"
      ],
      "metadata": {
        "id": "2qhvDZHCIV1f"
      }
    },
    {
      "cell_type": "code",
      "source": [
        "# course_offering_name may be correlated with course_name, so we will drop it for now\n",
        "# course_offering_uuid will not predict grades, so we will drop it for now\n",
        "df.drop(columns = ['course_offering_name', 'course_offering_uuid'], inplace = True)"
      ],
      "metadata": {
        "id": "Td-HBiaMIUS3"
      },
      "execution_count": null,
      "outputs": []
    },
    {
      "cell_type": "code",
      "source": [
        "# check\n",
        "df.columns"
      ],
      "metadata": {
        "colab": {
          "base_uri": "https://localhost:8080/"
        },
        "id": "Ogtp8txiW4SP",
        "outputId": "5c20b0b8-04ac-47c6-958b-f790b0306ce3"
      },
      "execution_count": null,
      "outputs": [
        {
          "output_type": "execute_result",
          "data": {
            "text/plain": [
              "Index(['section_uuid', 'section_type', 'section_number', 'instructor_id',\n",
              "       'facility_code', 'start_time', 'mon', 'tues', 'wed', 'thurs', 'fri',\n",
              "       'subject_name', 'course_name', 'course_and_section', 'a_proportion',\n",
              "       'f_proportion', 'avg_grade', 'year', 'term', 'class_length',\n",
              "       'total_time', 'weekend', 'course_difficulty'],\n",
              "      dtype='object')"
            ]
          },
          "metadata": {},
          "execution_count": 64
        }
      ]
    },
    {
      "cell_type": "markdown",
      "source": [
        "### section_uuid, section_number"
      ],
      "metadata": {
        "id": "xYXPNlQvWu7l"
      }
    },
    {
      "cell_type": "code",
      "source": [
        "#drop section_uuid, section_number, and grades_section_number because\n",
        "# they will not be predictive of grades\n",
        "df.drop(columns = ['section_uuid', 'section_number'], inplace = True)"
      ],
      "metadata": {
        "id": "feT2tkJ0vQG0"
      },
      "execution_count": null,
      "outputs": []
    },
    {
      "cell_type": "code",
      "source": [
        "# check\n",
        "df.columns"
      ],
      "metadata": {
        "colab": {
          "base_uri": "https://localhost:8080/"
        },
        "id": "RrQ8RSqoXFNn",
        "outputId": "c0783503-b62f-4aa8-db49-1a5290360b73"
      },
      "execution_count": null,
      "outputs": [
        {
          "output_type": "execute_result",
          "data": {
            "text/plain": [
              "Index(['section_type', 'instructor_id', 'facility_code', 'start_time', 'mon',\n",
              "       'tues', 'wed', 'thurs', 'fri', 'subject_name', 'course_name',\n",
              "       'course_and_section', 'a_proportion', 'f_proportion', 'avg_grade',\n",
              "       'year', 'term', 'class_length', 'total_time', 'weekend',\n",
              "       'course_difficulty'],\n",
              "      dtype='object')"
            ]
          },
          "metadata": {},
          "execution_count": 66
        }
      ]
    },
    {
      "cell_type": "markdown",
      "source": [
        "## Final checks"
      ],
      "metadata": {
        "id": "cmh6oLsMZf2g"
      }
    },
    {
      "cell_type": "code",
      "source": [
        "# check unique values and value_counts()\n",
        "for col in df.columns:\n",
        "  print(f\"{col}:\")\n",
        "  print(f\"unique values: {df[col].nunique()}\")\n",
        "  print(f\"value counts: \\n{df[col].value_counts(dropna = False)}\")\n",
        "  print()"
      ],
      "metadata": {
        "colab": {
          "base_uri": "https://localhost:8080/"
        },
        "id": "GuGGsjk2aEDw",
        "outputId": "142e6a69-f615-46ef-8ffd-4436d5ae7b28"
      },
      "execution_count": null,
      "outputs": [
        {
          "output_type": "stream",
          "name": "stdout",
          "text": [
            "section_type:\n",
            "unique values: 6\n",
            "value counts: \n",
            "lec    39207\n",
            "lab     4810\n",
            "sem     2570\n",
            "ind     2113\n",
            "fld      549\n",
            "dis      242\n",
            "Name: section_type, dtype: int64\n",
            "\n",
            "instructor_id:\n",
            "unique values: 522\n",
            "value counts: \n",
            "other        32772\n",
            "566960.0       132\n",
            "496397.0       106\n",
            "2601912.0       89\n",
            "2601706.0       85\n",
            "             ...  \n",
            "537957.0        21\n",
            "475025.0        21\n",
            "367808.0        21\n",
            "172570.0        21\n",
            "4131298.0       21\n",
            "Name: instructor_id, Length: 522, dtype: int64\n",
            "\n",
            "facility_code:\n",
            "unique values: 119\n",
            "value counts: \n",
            "0482     7447\n",
            "0469     4561\n",
            "NaN      3837\n",
            "0140     3446\n",
            "0408     2532\n",
            "         ... \n",
            "0039        1\n",
            "0084b       1\n",
            "0033        1\n",
            "1400g       1\n",
            "1400e       1\n",
            "Name: facility_code, Length: 120, dtype: int64\n",
            "\n",
            "start_time:\n",
            "unique values: 118\n",
            "value counts: \n",
            " 660.0     7599\n",
            " 800.0     4392\n",
            " 595.0     4315\n",
            "-1.0       3976\n",
            " 870.0     3628\n",
            "           ... \n",
            " 925.0        1\n",
            " 665.0        1\n",
            " 1055.0       1\n",
            " 1040.0       1\n",
            " 550.0        1\n",
            "Name: start_time, Length: 118, dtype: int64\n",
            "\n",
            "mon:\n",
            "unique values: 2\n",
            "value counts: \n",
            "False    26994\n",
            "True     22497\n",
            "Name: mon, dtype: int64\n",
            "\n",
            "tues:\n",
            "unique values: 2\n",
            "value counts: \n",
            "False    27588\n",
            "True     21903\n",
            "Name: tues, dtype: int64\n",
            "\n",
            "wed:\n",
            "unique values: 2\n",
            "value counts: \n",
            "False    27614\n",
            "True     21877\n",
            "Name: wed, dtype: int64\n",
            "\n",
            "thurs:\n",
            "unique values: 2\n",
            "value counts: \n",
            "False    28450\n",
            "True     21041\n",
            "Name: thurs, dtype: int64\n",
            "\n",
            "fri:\n",
            "unique values: 2\n",
            "value counts: \n",
            "False    36937\n",
            "True     12554\n",
            "Name: fri, dtype: int64\n",
            "\n",
            "subject_name:\n",
            "unique values: 180\n",
            "value counts: \n",
            "spanish (spanish and portuguese)                 2965\n",
            "english                                          2796\n",
            "communication arts                               1907\n",
            "art department                                   1795\n",
            "mathematics                                      1746\n",
            "                                                 ... \n",
            "medical sciences - medical school                   2\n",
            "pharmacy                                            2\n",
            "animal health and biomedical sciences               2\n",
            "molecular and environmental toxicology center       1\n",
            "agroecology                                         1\n",
            "Name: subject_name, Length: 180, dtype: int64\n",
            "\n",
            "course_name:\n",
            "unique values: 522\n",
            "value counts: \n",
            "other                                 20226\n",
            "introduction to speech composition      997\n",
            "special topics                          705\n",
            "freshman composition                    652\n",
            "third semester spanish                  463\n",
            "                                      ...  \n",
            "signals and systems                      21\n",
            "electronic circuits i                    21\n",
            "principles of risk management            21\n",
            "electrodynamics i                        21\n",
            "biomedical engineering design            21\n",
            "Name: course_name, Length: 522, dtype: int64\n",
            "\n",
            "course_and_section:\n",
            "unique values: 49491\n",
            "value counts: \n",
            "cf726c33-a4b3-3bd6-8cb9-ec403ccb72cd_37.0    1\n",
            "0b31b30e-13b0-3890-8688-31721aa50dcc_5.0     1\n",
            "9efb3559-53cc-3176-adbc-d77092839e8b_1.0     1\n",
            "ddd3ca2b-7250-35b6-8c3e-e2f7f4c4ba96_3.0     1\n",
            "ddd3ca2b-7250-35b6-8c3e-e2f7f4c4ba96_4.0     1\n",
            "                                            ..\n",
            "e9ba2c66-91ac-37b0-ab85-3b53a152f16b_1.0     1\n",
            "38454dd0-9e95-3210-97cc-f367829f8420_43.0    1\n",
            "38454dd0-9e95-3210-97cc-f367829f8420_42.0    1\n",
            "38454dd0-9e95-3210-97cc-f367829f8420_5.0     1\n",
            "eac3aacc-ec57-314e-b6dd-bfa0767c72a2_1.0     1\n",
            "Name: course_and_section, Length: 49491, dtype: int64\n",
            "\n",
            "a_proportion:\n",
            "unique values: 4137\n",
            "value counts: \n",
            "1.000000    6040\n",
            "0.500000    1573\n",
            "0.333333    1100\n",
            "0.666667     883\n",
            "0.250000     737\n",
            "            ... \n",
            "0.429688       1\n",
            "0.487500       1\n",
            "0.362903       1\n",
            "0.269608       1\n",
            "0.061728       1\n",
            "Name: a_proportion, Length: 4137, dtype: int64\n",
            "\n",
            "f_proportion:\n",
            "unique values: 1308\n",
            "value counts: \n",
            "0.000000    40149\n",
            "0.050000      228\n",
            "0.045455      218\n",
            "0.052632      208\n",
            "0.055556      205\n",
            "            ...  \n",
            "0.023913        1\n",
            "0.018789        1\n",
            "0.011583        1\n",
            "0.013263        1\n",
            "0.035897        1\n",
            "Name: f_proportion, Length: 1308, dtype: int64\n",
            "\n",
            "avg_grade:\n",
            "unique values: 6955\n",
            "value counts: \n",
            "4.000000    6040\n",
            "3.500000    1278\n",
            "3.750000     789\n",
            "3.833333     553\n",
            "3.666667     545\n",
            "            ... \n",
            "3.638075       1\n",
            "3.480565       1\n",
            "2.840206       1\n",
            "3.819767       1\n",
            "3.210227       1\n",
            "Name: avg_grade, Length: 6955, dtype: int64\n",
            "\n",
            "year:\n",
            "unique values: 12\n",
            "value counts: \n",
            "07    4731\n",
            "08    4563\n",
            "11    4537\n",
            "09    4523\n",
            "10    4514\n",
            "14    4493\n",
            "13    4466\n",
            "15    4441\n",
            "16    4382\n",
            "17    4316\n",
            "12    2297\n",
            "18    2228\n",
            "Name: year, dtype: int64\n",
            "\n",
            "term:\n",
            "unique values: 2\n",
            "value counts: \n",
            "fall      27725\n",
            "spring    21766\n",
            "Name: term, dtype: int64\n",
            "\n",
            "class_length:\n",
            "unique values: 61\n",
            "value counts: \n",
            "50.0     19310\n",
            "75.0     15426\n",
            "0.0       3976\n",
            "150.0     3374\n",
            "120.0     2021\n",
            "         ...  \n",
            "340.0        1\n",
            "325.0        1\n",
            "113.0        1\n",
            "40.0         1\n",
            "520.0        1\n",
            "Name: class_length, Length: 61, dtype: int64\n",
            "\n",
            "total_time:\n",
            "unique values: 61\n",
            "value counts: \n",
            "50.0     19310\n",
            "75.0     15425\n",
            "0.0       3982\n",
            "150.0     3374\n",
            "120.0     2021\n",
            "         ...  \n",
            "340.0        1\n",
            "325.0        1\n",
            "113.0        1\n",
            "40.0         1\n",
            "520.0        1\n",
            "Name: total_time, Length: 61, dtype: int64\n",
            "\n",
            "weekend:\n",
            "unique values: 2\n",
            "value counts: \n",
            "False    49223\n",
            "True       268\n",
            "Name: weekend, dtype: int64\n",
            "\n",
            "course_difficulty:\n",
            "unique values: 3\n",
            "value counts: \n",
            "elementary      19562\n",
            "intermediate    18574\n",
            "advanced        11355\n",
            "Name: course_difficulty, dtype: int64\n",
            "\n"
          ]
        }
      ]
    },
    {
      "cell_type": "code",
      "source": [
        "# course_and_section is uniquely identifying each row, so it can be dropped\n",
        "df.drop(columns = 'course_and_section', inplace = True)"
      ],
      "metadata": {
        "id": "Cx4HSmVYdOTX"
      },
      "execution_count": null,
      "outputs": []
    },
    {
      "cell_type": "code",
      "source": [
        "# check cardinality\n",
        "for col in df.columns:\n",
        "  print(col)\n",
        "  print(df[col].nunique())\n",
        "  print()\n",
        "\n",
        "# except for the target variables, all of the columns have a number of unique values less than 450"
      ],
      "metadata": {
        "colab": {
          "base_uri": "https://localhost:8080/"
        },
        "id": "HF8oxewvvzp9",
        "outputId": "dd5bd021-40fe-4575-e835-13da6ae938c2"
      },
      "execution_count": null,
      "outputs": [
        {
          "output_type": "stream",
          "name": "stdout",
          "text": [
            "section_type\n",
            "6\n",
            "\n",
            "instructor_id\n",
            "522\n",
            "\n",
            "facility_code\n",
            "119\n",
            "\n",
            "start_time\n",
            "118\n",
            "\n",
            "mon\n",
            "2\n",
            "\n",
            "tues\n",
            "2\n",
            "\n",
            "wed\n",
            "2\n",
            "\n",
            "thurs\n",
            "2\n",
            "\n",
            "fri\n",
            "2\n",
            "\n",
            "subject_name\n",
            "180\n",
            "\n",
            "course_name\n",
            "522\n",
            "\n",
            "a_proportion\n",
            "4137\n",
            "\n",
            "f_proportion\n",
            "1308\n",
            "\n",
            "avg_grade\n",
            "6955\n",
            "\n",
            "year\n",
            "12\n",
            "\n",
            "term\n",
            "2\n",
            "\n",
            "class_length\n",
            "61\n",
            "\n",
            "total_time\n",
            "61\n",
            "\n",
            "weekend\n",
            "2\n",
            "\n",
            "course_difficulty\n",
            "3\n",
            "\n"
          ]
        }
      ]
    },
    {
      "cell_type": "code",
      "source": [
        "df.reset_index(drop = True)"
      ],
      "metadata": {
        "colab": {
          "base_uri": "https://localhost:8080/",
          "height": 748
        },
        "id": "YFqgxztbgQfm",
        "outputId": "4d55fca6-0433-4e4d-ed1f-f5b08c1f8f80"
      },
      "execution_count": null,
      "outputs": [
        {
          "output_type": "execute_result",
          "data": {
            "text/plain": [
              "      section_type instructor_id facility_code  start_time    mon   tues  \\\n",
              "0              lec         other           NaN        -1.0  False  False   \n",
              "1              lec         other          0545       660.0  False   True   \n",
              "2              lec         other          0545       660.0  False   True   \n",
              "3              lec         other          0545       595.0   True  False   \n",
              "4              lec         other          0545       595.0   True  False   \n",
              "...            ...           ...           ...         ...    ...    ...   \n",
              "49486          lec         other          0093       800.0   True   True   \n",
              "49487          lec         other          0093       800.0   True   True   \n",
              "49488          lec         other          0093       800.0   True   True   \n",
              "49489          lec         other          0093       800.0   True   True   \n",
              "49490          lab         other          0021       660.0   True  False   \n",
              "\n",
              "         wed  thurs    fri                  subject_name  \\\n",
              "0      False  False  False            communication arts   \n",
              "1      False   True  False            communication arts   \n",
              "2      False   True  False            communication arts   \n",
              "3       True  False   True            communication arts   \n",
              "4       True  False   True            communication arts   \n",
              "...      ...    ...    ...                           ...   \n",
              "49486  False  False   True       comparative biosciences   \n",
              "49487  False  False   True       comparative biosciences   \n",
              "49488  False  False   True       comparative biosciences   \n",
              "49489  False  False   True       comparative biosciences   \n",
              "49490   True  False  False  physical educ activity progm   \n",
              "\n",
              "                              course_name  a_proportion  f_proportion  \\\n",
              "0      introduction to speech composition      0.250000      0.000000   \n",
              "1      introduction to speech composition      0.230769      0.000000   \n",
              "2      introduction to speech composition      0.153846      0.000000   \n",
              "3      introduction to speech composition      0.500000      0.000000   \n",
              "4      introduction to speech composition      0.363636      0.000000   \n",
              "...                                   ...           ...           ...   \n",
              "49486                               other      0.111111      0.012346   \n",
              "49487                               other      0.209877      0.000000   \n",
              "49488                               other      0.261364      0.000000   \n",
              "49489                               other      0.225000      0.012500   \n",
              "49490                               other      0.611111      0.055556   \n",
              "\n",
              "       avg_grade year    term  class_length  total_time weekend  \\\n",
              "0       3.625000   15  spring           0.0         0.0   False   \n",
              "1       3.346154   15  spring          75.0        75.0   False   \n",
              "2       3.500000   15  spring          75.0        75.0   False   \n",
              "3       3.750000   15  spring          50.0        50.0   False   \n",
              "4       3.454545   15  spring          50.0        50.0   False   \n",
              "...          ...  ...     ...           ...         ...     ...   \n",
              "49486   3.000000   09    fall          50.0        50.0   False   \n",
              "49487   3.308642   11    fall          50.0        50.0   False   \n",
              "49488   3.210227   16    fall          50.0        50.0   False   \n",
              "49489   3.087500   10    fall          50.0        50.0   False   \n",
              "49490   3.583333   07  spring          65.0        65.0   False   \n",
              "\n",
              "      course_difficulty  \n",
              "0            elementary  \n",
              "1            elementary  \n",
              "2            elementary  \n",
              "3            elementary  \n",
              "4            elementary  \n",
              "...                 ...  \n",
              "49486          advanced  \n",
              "49487          advanced  \n",
              "49488          advanced  \n",
              "49489          advanced  \n",
              "49490        elementary  \n",
              "\n",
              "[49491 rows x 20 columns]"
            ],
            "text/html": [
              "\n",
              "  <div id=\"df-537905d2-d7e5-4064-b583-3e26e7fddc88\">\n",
              "    <div class=\"colab-df-container\">\n",
              "      <div>\n",
              "<style scoped>\n",
              "    .dataframe tbody tr th:only-of-type {\n",
              "        vertical-align: middle;\n",
              "    }\n",
              "\n",
              "    .dataframe tbody tr th {\n",
              "        vertical-align: top;\n",
              "    }\n",
              "\n",
              "    .dataframe thead th {\n",
              "        text-align: right;\n",
              "    }\n",
              "</style>\n",
              "<table border=\"1\" class=\"dataframe\">\n",
              "  <thead>\n",
              "    <tr style=\"text-align: right;\">\n",
              "      <th></th>\n",
              "      <th>section_type</th>\n",
              "      <th>instructor_id</th>\n",
              "      <th>facility_code</th>\n",
              "      <th>start_time</th>\n",
              "      <th>mon</th>\n",
              "      <th>tues</th>\n",
              "      <th>wed</th>\n",
              "      <th>thurs</th>\n",
              "      <th>fri</th>\n",
              "      <th>subject_name</th>\n",
              "      <th>course_name</th>\n",
              "      <th>a_proportion</th>\n",
              "      <th>f_proportion</th>\n",
              "      <th>avg_grade</th>\n",
              "      <th>year</th>\n",
              "      <th>term</th>\n",
              "      <th>class_length</th>\n",
              "      <th>total_time</th>\n",
              "      <th>weekend</th>\n",
              "      <th>course_difficulty</th>\n",
              "    </tr>\n",
              "  </thead>\n",
              "  <tbody>\n",
              "    <tr>\n",
              "      <th>0</th>\n",
              "      <td>lec</td>\n",
              "      <td>other</td>\n",
              "      <td>NaN</td>\n",
              "      <td>-1.0</td>\n",
              "      <td>False</td>\n",
              "      <td>False</td>\n",
              "      <td>False</td>\n",
              "      <td>False</td>\n",
              "      <td>False</td>\n",
              "      <td>communication arts</td>\n",
              "      <td>introduction to speech composition</td>\n",
              "      <td>0.250000</td>\n",
              "      <td>0.000000</td>\n",
              "      <td>3.625000</td>\n",
              "      <td>15</td>\n",
              "      <td>spring</td>\n",
              "      <td>0.0</td>\n",
              "      <td>0.0</td>\n",
              "      <td>False</td>\n",
              "      <td>elementary</td>\n",
              "    </tr>\n",
              "    <tr>\n",
              "      <th>1</th>\n",
              "      <td>lec</td>\n",
              "      <td>other</td>\n",
              "      <td>0545</td>\n",
              "      <td>660.0</td>\n",
              "      <td>False</td>\n",
              "      <td>True</td>\n",
              "      <td>False</td>\n",
              "      <td>True</td>\n",
              "      <td>False</td>\n",
              "      <td>communication arts</td>\n",
              "      <td>introduction to speech composition</td>\n",
              "      <td>0.230769</td>\n",
              "      <td>0.000000</td>\n",
              "      <td>3.346154</td>\n",
              "      <td>15</td>\n",
              "      <td>spring</td>\n",
              "      <td>75.0</td>\n",
              "      <td>75.0</td>\n",
              "      <td>False</td>\n",
              "      <td>elementary</td>\n",
              "    </tr>\n",
              "    <tr>\n",
              "      <th>2</th>\n",
              "      <td>lec</td>\n",
              "      <td>other</td>\n",
              "      <td>0545</td>\n",
              "      <td>660.0</td>\n",
              "      <td>False</td>\n",
              "      <td>True</td>\n",
              "      <td>False</td>\n",
              "      <td>True</td>\n",
              "      <td>False</td>\n",
              "      <td>communication arts</td>\n",
              "      <td>introduction to speech composition</td>\n",
              "      <td>0.153846</td>\n",
              "      <td>0.000000</td>\n",
              "      <td>3.500000</td>\n",
              "      <td>15</td>\n",
              "      <td>spring</td>\n",
              "      <td>75.0</td>\n",
              "      <td>75.0</td>\n",
              "      <td>False</td>\n",
              "      <td>elementary</td>\n",
              "    </tr>\n",
              "    <tr>\n",
              "      <th>3</th>\n",
              "      <td>lec</td>\n",
              "      <td>other</td>\n",
              "      <td>0545</td>\n",
              "      <td>595.0</td>\n",
              "      <td>True</td>\n",
              "      <td>False</td>\n",
              "      <td>True</td>\n",
              "      <td>False</td>\n",
              "      <td>True</td>\n",
              "      <td>communication arts</td>\n",
              "      <td>introduction to speech composition</td>\n",
              "      <td>0.500000</td>\n",
              "      <td>0.000000</td>\n",
              "      <td>3.750000</td>\n",
              "      <td>15</td>\n",
              "      <td>spring</td>\n",
              "      <td>50.0</td>\n",
              "      <td>50.0</td>\n",
              "      <td>False</td>\n",
              "      <td>elementary</td>\n",
              "    </tr>\n",
              "    <tr>\n",
              "      <th>4</th>\n",
              "      <td>lec</td>\n",
              "      <td>other</td>\n",
              "      <td>0545</td>\n",
              "      <td>595.0</td>\n",
              "      <td>True</td>\n",
              "      <td>False</td>\n",
              "      <td>True</td>\n",
              "      <td>False</td>\n",
              "      <td>True</td>\n",
              "      <td>communication arts</td>\n",
              "      <td>introduction to speech composition</td>\n",
              "      <td>0.363636</td>\n",
              "      <td>0.000000</td>\n",
              "      <td>3.454545</td>\n",
              "      <td>15</td>\n",
              "      <td>spring</td>\n",
              "      <td>50.0</td>\n",
              "      <td>50.0</td>\n",
              "      <td>False</td>\n",
              "      <td>elementary</td>\n",
              "    </tr>\n",
              "    <tr>\n",
              "      <th>...</th>\n",
              "      <td>...</td>\n",
              "      <td>...</td>\n",
              "      <td>...</td>\n",
              "      <td>...</td>\n",
              "      <td>...</td>\n",
              "      <td>...</td>\n",
              "      <td>...</td>\n",
              "      <td>...</td>\n",
              "      <td>...</td>\n",
              "      <td>...</td>\n",
              "      <td>...</td>\n",
              "      <td>...</td>\n",
              "      <td>...</td>\n",
              "      <td>...</td>\n",
              "      <td>...</td>\n",
              "      <td>...</td>\n",
              "      <td>...</td>\n",
              "      <td>...</td>\n",
              "      <td>...</td>\n",
              "      <td>...</td>\n",
              "    </tr>\n",
              "    <tr>\n",
              "      <th>49486</th>\n",
              "      <td>lec</td>\n",
              "      <td>other</td>\n",
              "      <td>0093</td>\n",
              "      <td>800.0</td>\n",
              "      <td>True</td>\n",
              "      <td>True</td>\n",
              "      <td>False</td>\n",
              "      <td>False</td>\n",
              "      <td>True</td>\n",
              "      <td>comparative biosciences</td>\n",
              "      <td>other</td>\n",
              "      <td>0.111111</td>\n",
              "      <td>0.012346</td>\n",
              "      <td>3.000000</td>\n",
              "      <td>09</td>\n",
              "      <td>fall</td>\n",
              "      <td>50.0</td>\n",
              "      <td>50.0</td>\n",
              "      <td>False</td>\n",
              "      <td>advanced</td>\n",
              "    </tr>\n",
              "    <tr>\n",
              "      <th>49487</th>\n",
              "      <td>lec</td>\n",
              "      <td>other</td>\n",
              "      <td>0093</td>\n",
              "      <td>800.0</td>\n",
              "      <td>True</td>\n",
              "      <td>True</td>\n",
              "      <td>False</td>\n",
              "      <td>False</td>\n",
              "      <td>True</td>\n",
              "      <td>comparative biosciences</td>\n",
              "      <td>other</td>\n",
              "      <td>0.209877</td>\n",
              "      <td>0.000000</td>\n",
              "      <td>3.308642</td>\n",
              "      <td>11</td>\n",
              "      <td>fall</td>\n",
              "      <td>50.0</td>\n",
              "      <td>50.0</td>\n",
              "      <td>False</td>\n",
              "      <td>advanced</td>\n",
              "    </tr>\n",
              "    <tr>\n",
              "      <th>49488</th>\n",
              "      <td>lec</td>\n",
              "      <td>other</td>\n",
              "      <td>0093</td>\n",
              "      <td>800.0</td>\n",
              "      <td>True</td>\n",
              "      <td>True</td>\n",
              "      <td>False</td>\n",
              "      <td>False</td>\n",
              "      <td>True</td>\n",
              "      <td>comparative biosciences</td>\n",
              "      <td>other</td>\n",
              "      <td>0.261364</td>\n",
              "      <td>0.000000</td>\n",
              "      <td>3.210227</td>\n",
              "      <td>16</td>\n",
              "      <td>fall</td>\n",
              "      <td>50.0</td>\n",
              "      <td>50.0</td>\n",
              "      <td>False</td>\n",
              "      <td>advanced</td>\n",
              "    </tr>\n",
              "    <tr>\n",
              "      <th>49489</th>\n",
              "      <td>lec</td>\n",
              "      <td>other</td>\n",
              "      <td>0093</td>\n",
              "      <td>800.0</td>\n",
              "      <td>True</td>\n",
              "      <td>True</td>\n",
              "      <td>False</td>\n",
              "      <td>False</td>\n",
              "      <td>True</td>\n",
              "      <td>comparative biosciences</td>\n",
              "      <td>other</td>\n",
              "      <td>0.225000</td>\n",
              "      <td>0.012500</td>\n",
              "      <td>3.087500</td>\n",
              "      <td>10</td>\n",
              "      <td>fall</td>\n",
              "      <td>50.0</td>\n",
              "      <td>50.0</td>\n",
              "      <td>False</td>\n",
              "      <td>advanced</td>\n",
              "    </tr>\n",
              "    <tr>\n",
              "      <th>49490</th>\n",
              "      <td>lab</td>\n",
              "      <td>other</td>\n",
              "      <td>0021</td>\n",
              "      <td>660.0</td>\n",
              "      <td>True</td>\n",
              "      <td>False</td>\n",
              "      <td>True</td>\n",
              "      <td>False</td>\n",
              "      <td>False</td>\n",
              "      <td>physical educ activity progm</td>\n",
              "      <td>other</td>\n",
              "      <td>0.611111</td>\n",
              "      <td>0.055556</td>\n",
              "      <td>3.583333</td>\n",
              "      <td>07</td>\n",
              "      <td>spring</td>\n",
              "      <td>65.0</td>\n",
              "      <td>65.0</td>\n",
              "      <td>False</td>\n",
              "      <td>elementary</td>\n",
              "    </tr>\n",
              "  </tbody>\n",
              "</table>\n",
              "<p>49491 rows × 20 columns</p>\n",
              "</div>\n",
              "      <button class=\"colab-df-convert\" onclick=\"convertToInteractive('df-537905d2-d7e5-4064-b583-3e26e7fddc88')\"\n",
              "              title=\"Convert this dataframe to an interactive table.\"\n",
              "              style=\"display:none;\">\n",
              "        \n",
              "  <svg xmlns=\"http://www.w3.org/2000/svg\" height=\"24px\"viewBox=\"0 0 24 24\"\n",
              "       width=\"24px\">\n",
              "    <path d=\"M0 0h24v24H0V0z\" fill=\"none\"/>\n",
              "    <path d=\"M18.56 5.44l.94 2.06.94-2.06 2.06-.94-2.06-.94-.94-2.06-.94 2.06-2.06.94zm-11 1L8.5 8.5l.94-2.06 2.06-.94-2.06-.94L8.5 2.5l-.94 2.06-2.06.94zm10 10l.94 2.06.94-2.06 2.06-.94-2.06-.94-.94-2.06-.94 2.06-2.06.94z\"/><path d=\"M17.41 7.96l-1.37-1.37c-.4-.4-.92-.59-1.43-.59-.52 0-1.04.2-1.43.59L10.3 9.45l-7.72 7.72c-.78.78-.78 2.05 0 2.83L4 21.41c.39.39.9.59 1.41.59.51 0 1.02-.2 1.41-.59l7.78-7.78 2.81-2.81c.8-.78.8-2.07 0-2.86zM5.41 20L4 18.59l7.72-7.72 1.47 1.35L5.41 20z\"/>\n",
              "  </svg>\n",
              "      </button>\n",
              "      \n",
              "  <style>\n",
              "    .colab-df-container {\n",
              "      display:flex;\n",
              "      flex-wrap:wrap;\n",
              "      gap: 12px;\n",
              "    }\n",
              "\n",
              "    .colab-df-convert {\n",
              "      background-color: #E8F0FE;\n",
              "      border: none;\n",
              "      border-radius: 50%;\n",
              "      cursor: pointer;\n",
              "      display: none;\n",
              "      fill: #1967D2;\n",
              "      height: 32px;\n",
              "      padding: 0 0 0 0;\n",
              "      width: 32px;\n",
              "    }\n",
              "\n",
              "    .colab-df-convert:hover {\n",
              "      background-color: #E2EBFA;\n",
              "      box-shadow: 0px 1px 2px rgba(60, 64, 67, 0.3), 0px 1px 3px 1px rgba(60, 64, 67, 0.15);\n",
              "      fill: #174EA6;\n",
              "    }\n",
              "\n",
              "    [theme=dark] .colab-df-convert {\n",
              "      background-color: #3B4455;\n",
              "      fill: #D2E3FC;\n",
              "    }\n",
              "\n",
              "    [theme=dark] .colab-df-convert:hover {\n",
              "      background-color: #434B5C;\n",
              "      box-shadow: 0px 1px 3px 1px rgba(0, 0, 0, 0.15);\n",
              "      filter: drop-shadow(0px 1px 2px rgba(0, 0, 0, 0.3));\n",
              "      fill: #FFFFFF;\n",
              "    }\n",
              "  </style>\n",
              "\n",
              "      <script>\n",
              "        const buttonEl =\n",
              "          document.querySelector('#df-537905d2-d7e5-4064-b583-3e26e7fddc88 button.colab-df-convert');\n",
              "        buttonEl.style.display =\n",
              "          google.colab.kernel.accessAllowed ? 'block' : 'none';\n",
              "\n",
              "        async function convertToInteractive(key) {\n",
              "          const element = document.querySelector('#df-537905d2-d7e5-4064-b583-3e26e7fddc88');\n",
              "          const dataTable =\n",
              "            await google.colab.kernel.invokeFunction('convertToInteractive',\n",
              "                                                     [key], {});\n",
              "          if (!dataTable) return;\n",
              "\n",
              "          const docLinkHtml = 'Like what you see? Visit the ' +\n",
              "            '<a target=\"_blank\" href=https://colab.research.google.com/notebooks/data_table.ipynb>data table notebook</a>'\n",
              "            + ' to learn more about interactive tables.';\n",
              "          element.innerHTML = '';\n",
              "          dataTable['output_type'] = 'display_data';\n",
              "          await google.colab.output.renderOutput(dataTable, element);\n",
              "          const docLink = document.createElement('div');\n",
              "          docLink.innerHTML = docLinkHtml;\n",
              "          element.appendChild(docLink);\n",
              "        }\n",
              "      </script>\n",
              "    </div>\n",
              "  </div>\n",
              "  "
            ]
          },
          "metadata": {},
          "execution_count": 70
        }
      ]
    },
    {
      "cell_type": "code",
      "source": [
        "df.info()"
      ],
      "metadata": {
        "colab": {
          "base_uri": "https://localhost:8080/"
        },
        "id": "vXon1nH-YTTO",
        "outputId": "23ad2f5e-4634-4bec-87f1-a9ff7d613070"
      },
      "execution_count": null,
      "outputs": [
        {
          "output_type": "stream",
          "name": "stdout",
          "text": [
            "<class 'pandas.core.frame.DataFrame'>\n",
            "Int64Index: 49491 entries, 12 to 64185\n",
            "Data columns (total 20 columns):\n",
            " #   Column             Non-Null Count  Dtype  \n",
            "---  ------             --------------  -----  \n",
            " 0   section_type       49491 non-null  object \n",
            " 1   instructor_id      49491 non-null  object \n",
            " 2   facility_code      45654 non-null  object \n",
            " 3   start_time         49491 non-null  float64\n",
            " 4   mon                49491 non-null  bool   \n",
            " 5   tues               49491 non-null  bool   \n",
            " 6   wed                49491 non-null  bool   \n",
            " 7   thurs              49491 non-null  bool   \n",
            " 8   fri                49491 non-null  bool   \n",
            " 9   subject_name       49491 non-null  object \n",
            " 10  course_name        49491 non-null  object \n",
            " 11  a_proportion       49491 non-null  float64\n",
            " 12  f_proportion       49491 non-null  float64\n",
            " 13  avg_grade          49491 non-null  float64\n",
            " 14  year               49491 non-null  object \n",
            " 15  term               49491 non-null  object \n",
            " 16  class_length       49491 non-null  float64\n",
            " 17  total_time         49491 non-null  float64\n",
            " 18  weekend            49491 non-null  object \n",
            " 19  course_difficulty  49491 non-null  object \n",
            "dtypes: bool(5), float64(6), object(9)\n",
            "memory usage: 6.3+ MB\n"
          ]
        }
      ]
    },
    {
      "cell_type": "code",
      "source": [
        "df.head(10)"
      ],
      "metadata": {
        "colab": {
          "base_uri": "https://localhost:8080/",
          "height": 774
        },
        "id": "HKFFdgyuYUx7",
        "outputId": "9552dc77-c550-438e-98be-474cebb8cd41"
      },
      "execution_count": null,
      "outputs": [
        {
          "output_type": "execute_result",
          "data": {
            "text/plain": [
              "   section_type instructor_id facility_code  start_time    mon   tues    wed  \\\n",
              "12          lec         other           NaN        -1.0  False  False  False   \n",
              "13          lec         other          0545       660.0  False   True  False   \n",
              "14          lec         other          0545       660.0  False   True  False   \n",
              "15          lec         other          0545       595.0   True  False   True   \n",
              "16          lec         other          0545       595.0   True  False   True   \n",
              "17          lec         other          0545       595.0   True  False   True   \n",
              "18          lec         other          0545       595.0   True  False   True   \n",
              "19          lec         other          0545       660.0   True  False   True   \n",
              "20          lec         other          0545       660.0   True  False   True   \n",
              "21          lec         other          0545       660.0   True  False   True   \n",
              "\n",
              "    thurs    fri        subject_name                         course_name  \\\n",
              "12  False  False  communication arts  introduction to speech composition   \n",
              "13   True  False  communication arts  introduction to speech composition   \n",
              "14   True  False  communication arts  introduction to speech composition   \n",
              "15  False   True  communication arts  introduction to speech composition   \n",
              "16  False   True  communication arts  introduction to speech composition   \n",
              "17  False   True  communication arts  introduction to speech composition   \n",
              "18  False   True  communication arts  introduction to speech composition   \n",
              "19  False   True  communication arts  introduction to speech composition   \n",
              "20  False   True  communication arts  introduction to speech composition   \n",
              "21  False   True  communication arts  introduction to speech composition   \n",
              "\n",
              "    a_proportion  f_proportion  avg_grade year    term  class_length  \\\n",
              "12      0.250000           0.0   3.625000   15  spring           0.0   \n",
              "13      0.230769           0.0   3.346154   15  spring          75.0   \n",
              "14      0.153846           0.0   3.500000   15  spring          75.0   \n",
              "15      0.500000           0.0   3.750000   15  spring          50.0   \n",
              "16      0.363636           0.0   3.454545   15  spring          50.0   \n",
              "17      0.333333           0.0   3.416667   15  spring          50.0   \n",
              "18      0.400000           0.0   3.550000   15  spring          50.0   \n",
              "19      0.384615           0.0   3.653846   15  spring          50.0   \n",
              "20      0.083333           0.0   3.291667   15  spring          50.0   \n",
              "21      0.333333           0.0   3.333333   15  spring          50.0   \n",
              "\n",
              "    total_time weekend course_difficulty  \n",
              "12         0.0   False        elementary  \n",
              "13        75.0   False        elementary  \n",
              "14        75.0   False        elementary  \n",
              "15        50.0   False        elementary  \n",
              "16        50.0   False        elementary  \n",
              "17        50.0   False        elementary  \n",
              "18        50.0   False        elementary  \n",
              "19        50.0   False        elementary  \n",
              "20        50.0   False        elementary  \n",
              "21        50.0   False        elementary  "
            ],
            "text/html": [
              "\n",
              "  <div id=\"df-005bc370-379c-4097-a713-3e735785a2c6\">\n",
              "    <div class=\"colab-df-container\">\n",
              "      <div>\n",
              "<style scoped>\n",
              "    .dataframe tbody tr th:only-of-type {\n",
              "        vertical-align: middle;\n",
              "    }\n",
              "\n",
              "    .dataframe tbody tr th {\n",
              "        vertical-align: top;\n",
              "    }\n",
              "\n",
              "    .dataframe thead th {\n",
              "        text-align: right;\n",
              "    }\n",
              "</style>\n",
              "<table border=\"1\" class=\"dataframe\">\n",
              "  <thead>\n",
              "    <tr style=\"text-align: right;\">\n",
              "      <th></th>\n",
              "      <th>section_type</th>\n",
              "      <th>instructor_id</th>\n",
              "      <th>facility_code</th>\n",
              "      <th>start_time</th>\n",
              "      <th>mon</th>\n",
              "      <th>tues</th>\n",
              "      <th>wed</th>\n",
              "      <th>thurs</th>\n",
              "      <th>fri</th>\n",
              "      <th>subject_name</th>\n",
              "      <th>course_name</th>\n",
              "      <th>a_proportion</th>\n",
              "      <th>f_proportion</th>\n",
              "      <th>avg_grade</th>\n",
              "      <th>year</th>\n",
              "      <th>term</th>\n",
              "      <th>class_length</th>\n",
              "      <th>total_time</th>\n",
              "      <th>weekend</th>\n",
              "      <th>course_difficulty</th>\n",
              "    </tr>\n",
              "  </thead>\n",
              "  <tbody>\n",
              "    <tr>\n",
              "      <th>12</th>\n",
              "      <td>lec</td>\n",
              "      <td>other</td>\n",
              "      <td>NaN</td>\n",
              "      <td>-1.0</td>\n",
              "      <td>False</td>\n",
              "      <td>False</td>\n",
              "      <td>False</td>\n",
              "      <td>False</td>\n",
              "      <td>False</td>\n",
              "      <td>communication arts</td>\n",
              "      <td>introduction to speech composition</td>\n",
              "      <td>0.250000</td>\n",
              "      <td>0.0</td>\n",
              "      <td>3.625000</td>\n",
              "      <td>15</td>\n",
              "      <td>spring</td>\n",
              "      <td>0.0</td>\n",
              "      <td>0.0</td>\n",
              "      <td>False</td>\n",
              "      <td>elementary</td>\n",
              "    </tr>\n",
              "    <tr>\n",
              "      <th>13</th>\n",
              "      <td>lec</td>\n",
              "      <td>other</td>\n",
              "      <td>0545</td>\n",
              "      <td>660.0</td>\n",
              "      <td>False</td>\n",
              "      <td>True</td>\n",
              "      <td>False</td>\n",
              "      <td>True</td>\n",
              "      <td>False</td>\n",
              "      <td>communication arts</td>\n",
              "      <td>introduction to speech composition</td>\n",
              "      <td>0.230769</td>\n",
              "      <td>0.0</td>\n",
              "      <td>3.346154</td>\n",
              "      <td>15</td>\n",
              "      <td>spring</td>\n",
              "      <td>75.0</td>\n",
              "      <td>75.0</td>\n",
              "      <td>False</td>\n",
              "      <td>elementary</td>\n",
              "    </tr>\n",
              "    <tr>\n",
              "      <th>14</th>\n",
              "      <td>lec</td>\n",
              "      <td>other</td>\n",
              "      <td>0545</td>\n",
              "      <td>660.0</td>\n",
              "      <td>False</td>\n",
              "      <td>True</td>\n",
              "      <td>False</td>\n",
              "      <td>True</td>\n",
              "      <td>False</td>\n",
              "      <td>communication arts</td>\n",
              "      <td>introduction to speech composition</td>\n",
              "      <td>0.153846</td>\n",
              "      <td>0.0</td>\n",
              "      <td>3.500000</td>\n",
              "      <td>15</td>\n",
              "      <td>spring</td>\n",
              "      <td>75.0</td>\n",
              "      <td>75.0</td>\n",
              "      <td>False</td>\n",
              "      <td>elementary</td>\n",
              "    </tr>\n",
              "    <tr>\n",
              "      <th>15</th>\n",
              "      <td>lec</td>\n",
              "      <td>other</td>\n",
              "      <td>0545</td>\n",
              "      <td>595.0</td>\n",
              "      <td>True</td>\n",
              "      <td>False</td>\n",
              "      <td>True</td>\n",
              "      <td>False</td>\n",
              "      <td>True</td>\n",
              "      <td>communication arts</td>\n",
              "      <td>introduction to speech composition</td>\n",
              "      <td>0.500000</td>\n",
              "      <td>0.0</td>\n",
              "      <td>3.750000</td>\n",
              "      <td>15</td>\n",
              "      <td>spring</td>\n",
              "      <td>50.0</td>\n",
              "      <td>50.0</td>\n",
              "      <td>False</td>\n",
              "      <td>elementary</td>\n",
              "    </tr>\n",
              "    <tr>\n",
              "      <th>16</th>\n",
              "      <td>lec</td>\n",
              "      <td>other</td>\n",
              "      <td>0545</td>\n",
              "      <td>595.0</td>\n",
              "      <td>True</td>\n",
              "      <td>False</td>\n",
              "      <td>True</td>\n",
              "      <td>False</td>\n",
              "      <td>True</td>\n",
              "      <td>communication arts</td>\n",
              "      <td>introduction to speech composition</td>\n",
              "      <td>0.363636</td>\n",
              "      <td>0.0</td>\n",
              "      <td>3.454545</td>\n",
              "      <td>15</td>\n",
              "      <td>spring</td>\n",
              "      <td>50.0</td>\n",
              "      <td>50.0</td>\n",
              "      <td>False</td>\n",
              "      <td>elementary</td>\n",
              "    </tr>\n",
              "    <tr>\n",
              "      <th>17</th>\n",
              "      <td>lec</td>\n",
              "      <td>other</td>\n",
              "      <td>0545</td>\n",
              "      <td>595.0</td>\n",
              "      <td>True</td>\n",
              "      <td>False</td>\n",
              "      <td>True</td>\n",
              "      <td>False</td>\n",
              "      <td>True</td>\n",
              "      <td>communication arts</td>\n",
              "      <td>introduction to speech composition</td>\n",
              "      <td>0.333333</td>\n",
              "      <td>0.0</td>\n",
              "      <td>3.416667</td>\n",
              "      <td>15</td>\n",
              "      <td>spring</td>\n",
              "      <td>50.0</td>\n",
              "      <td>50.0</td>\n",
              "      <td>False</td>\n",
              "      <td>elementary</td>\n",
              "    </tr>\n",
              "    <tr>\n",
              "      <th>18</th>\n",
              "      <td>lec</td>\n",
              "      <td>other</td>\n",
              "      <td>0545</td>\n",
              "      <td>595.0</td>\n",
              "      <td>True</td>\n",
              "      <td>False</td>\n",
              "      <td>True</td>\n",
              "      <td>False</td>\n",
              "      <td>True</td>\n",
              "      <td>communication arts</td>\n",
              "      <td>introduction to speech composition</td>\n",
              "      <td>0.400000</td>\n",
              "      <td>0.0</td>\n",
              "      <td>3.550000</td>\n",
              "      <td>15</td>\n",
              "      <td>spring</td>\n",
              "      <td>50.0</td>\n",
              "      <td>50.0</td>\n",
              "      <td>False</td>\n",
              "      <td>elementary</td>\n",
              "    </tr>\n",
              "    <tr>\n",
              "      <th>19</th>\n",
              "      <td>lec</td>\n",
              "      <td>other</td>\n",
              "      <td>0545</td>\n",
              "      <td>660.0</td>\n",
              "      <td>True</td>\n",
              "      <td>False</td>\n",
              "      <td>True</td>\n",
              "      <td>False</td>\n",
              "      <td>True</td>\n",
              "      <td>communication arts</td>\n",
              "      <td>introduction to speech composition</td>\n",
              "      <td>0.384615</td>\n",
              "      <td>0.0</td>\n",
              "      <td>3.653846</td>\n",
              "      <td>15</td>\n",
              "      <td>spring</td>\n",
              "      <td>50.0</td>\n",
              "      <td>50.0</td>\n",
              "      <td>False</td>\n",
              "      <td>elementary</td>\n",
              "    </tr>\n",
              "    <tr>\n",
              "      <th>20</th>\n",
              "      <td>lec</td>\n",
              "      <td>other</td>\n",
              "      <td>0545</td>\n",
              "      <td>660.0</td>\n",
              "      <td>True</td>\n",
              "      <td>False</td>\n",
              "      <td>True</td>\n",
              "      <td>False</td>\n",
              "      <td>True</td>\n",
              "      <td>communication arts</td>\n",
              "      <td>introduction to speech composition</td>\n",
              "      <td>0.083333</td>\n",
              "      <td>0.0</td>\n",
              "      <td>3.291667</td>\n",
              "      <td>15</td>\n",
              "      <td>spring</td>\n",
              "      <td>50.0</td>\n",
              "      <td>50.0</td>\n",
              "      <td>False</td>\n",
              "      <td>elementary</td>\n",
              "    </tr>\n",
              "    <tr>\n",
              "      <th>21</th>\n",
              "      <td>lec</td>\n",
              "      <td>other</td>\n",
              "      <td>0545</td>\n",
              "      <td>660.0</td>\n",
              "      <td>True</td>\n",
              "      <td>False</td>\n",
              "      <td>True</td>\n",
              "      <td>False</td>\n",
              "      <td>True</td>\n",
              "      <td>communication arts</td>\n",
              "      <td>introduction to speech composition</td>\n",
              "      <td>0.333333</td>\n",
              "      <td>0.0</td>\n",
              "      <td>3.333333</td>\n",
              "      <td>15</td>\n",
              "      <td>spring</td>\n",
              "      <td>50.0</td>\n",
              "      <td>50.0</td>\n",
              "      <td>False</td>\n",
              "      <td>elementary</td>\n",
              "    </tr>\n",
              "  </tbody>\n",
              "</table>\n",
              "</div>\n",
              "      <button class=\"colab-df-convert\" onclick=\"convertToInteractive('df-005bc370-379c-4097-a713-3e735785a2c6')\"\n",
              "              title=\"Convert this dataframe to an interactive table.\"\n",
              "              style=\"display:none;\">\n",
              "        \n",
              "  <svg xmlns=\"http://www.w3.org/2000/svg\" height=\"24px\"viewBox=\"0 0 24 24\"\n",
              "       width=\"24px\">\n",
              "    <path d=\"M0 0h24v24H0V0z\" fill=\"none\"/>\n",
              "    <path d=\"M18.56 5.44l.94 2.06.94-2.06 2.06-.94-2.06-.94-.94-2.06-.94 2.06-2.06.94zm-11 1L8.5 8.5l.94-2.06 2.06-.94-2.06-.94L8.5 2.5l-.94 2.06-2.06.94zm10 10l.94 2.06.94-2.06 2.06-.94-2.06-.94-.94-2.06-.94 2.06-2.06.94z\"/><path d=\"M17.41 7.96l-1.37-1.37c-.4-.4-.92-.59-1.43-.59-.52 0-1.04.2-1.43.59L10.3 9.45l-7.72 7.72c-.78.78-.78 2.05 0 2.83L4 21.41c.39.39.9.59 1.41.59.51 0 1.02-.2 1.41-.59l7.78-7.78 2.81-2.81c.8-.78.8-2.07 0-2.86zM5.41 20L4 18.59l7.72-7.72 1.47 1.35L5.41 20z\"/>\n",
              "  </svg>\n",
              "      </button>\n",
              "      \n",
              "  <style>\n",
              "    .colab-df-container {\n",
              "      display:flex;\n",
              "      flex-wrap:wrap;\n",
              "      gap: 12px;\n",
              "    }\n",
              "\n",
              "    .colab-df-convert {\n",
              "      background-color: #E8F0FE;\n",
              "      border: none;\n",
              "      border-radius: 50%;\n",
              "      cursor: pointer;\n",
              "      display: none;\n",
              "      fill: #1967D2;\n",
              "      height: 32px;\n",
              "      padding: 0 0 0 0;\n",
              "      width: 32px;\n",
              "    }\n",
              "\n",
              "    .colab-df-convert:hover {\n",
              "      background-color: #E2EBFA;\n",
              "      box-shadow: 0px 1px 2px rgba(60, 64, 67, 0.3), 0px 1px 3px 1px rgba(60, 64, 67, 0.15);\n",
              "      fill: #174EA6;\n",
              "    }\n",
              "\n",
              "    [theme=dark] .colab-df-convert {\n",
              "      background-color: #3B4455;\n",
              "      fill: #D2E3FC;\n",
              "    }\n",
              "\n",
              "    [theme=dark] .colab-df-convert:hover {\n",
              "      background-color: #434B5C;\n",
              "      box-shadow: 0px 1px 3px 1px rgba(0, 0, 0, 0.15);\n",
              "      filter: drop-shadow(0px 1px 2px rgba(0, 0, 0, 0.3));\n",
              "      fill: #FFFFFF;\n",
              "    }\n",
              "  </style>\n",
              "\n",
              "      <script>\n",
              "        const buttonEl =\n",
              "          document.querySelector('#df-005bc370-379c-4097-a713-3e735785a2c6 button.colab-df-convert');\n",
              "        buttonEl.style.display =\n",
              "          google.colab.kernel.accessAllowed ? 'block' : 'none';\n",
              "\n",
              "        async function convertToInteractive(key) {\n",
              "          const element = document.querySelector('#df-005bc370-379c-4097-a713-3e735785a2c6');\n",
              "          const dataTable =\n",
              "            await google.colab.kernel.invokeFunction('convertToInteractive',\n",
              "                                                     [key], {});\n",
              "          if (!dataTable) return;\n",
              "\n",
              "          const docLinkHtml = 'Like what you see? Visit the ' +\n",
              "            '<a target=\"_blank\" href=https://colab.research.google.com/notebooks/data_table.ipynb>data table notebook</a>'\n",
              "            + ' to learn more about interactive tables.';\n",
              "          element.innerHTML = '';\n",
              "          dataTable['output_type'] = 'display_data';\n",
              "          await google.colab.output.renderOutput(dataTable, element);\n",
              "          const docLink = document.createElement('div');\n",
              "          docLink.innerHTML = docLinkHtml;\n",
              "          element.appendChild(docLink);\n",
              "        }\n",
              "      </script>\n",
              "    </div>\n",
              "  </div>\n",
              "  "
            ]
          },
          "metadata": {},
          "execution_count": 72
        }
      ]
    },
    {
      "cell_type": "code",
      "source": [],
      "metadata": {
        "id": "byUSOtdpgOeh"
      },
      "execution_count": null,
      "outputs": []
    },
    {
      "cell_type": "markdown",
      "source": [
        "## Export to csv"
      ],
      "metadata": {
        "id": "0n9fvtQffTMu"
      }
    },
    {
      "cell_type": "code",
      "source": [
        "df.to_csv('/content/drive/MyDrive/Coding Dojo/Project 2/all_grades_data_cleaned.csv')"
      ],
      "metadata": {
        "id": "RHOQA9X0fSBg"
      },
      "execution_count": null,
      "outputs": []
    },
    {
      "cell_type": "markdown",
      "source": [
        "## Further refinement:"
      ],
      "metadata": {
        "id": "GXelJ7KPT-as"
      }
    },
    {
      "cell_type": "markdown",
      "source": [
        "There are catergories here that can potentially be grouped up into larger categories; keep this in mind to come back to and test the algorithm on (e.g. asian languages and cultures and asian languages and cultures: languages). "
      ],
      "metadata": {
        "id": "DuNJvSVqVqcW"
      }
    },
    {
      "cell_type": "markdown",
      "source": [
        "Consider some way to reduce co-linearity among days of the week columns (there is probably a pattern that many classes meet mwf or tr, and we want to minimize the effect of this pattern). "
      ],
      "metadata": {
        "id": "GUpy9n60Phn2"
      }
    },
    {
      "cell_type": "markdown",
      "source": [
        "# Final data dictionary\n",
        "\n",
        "Feature columns:\n",
        "- section_type: such as lecture, discussion, field, etc.\n",
        "- instructor_id: instructor\n",
        "- facility_code: building\n",
        "- start_time: start time of class in minutes (-1: no start time assigned)\n",
        "- mon, tues, wed, thurs, fri, weekend: if class meets on that day\n",
        "- subject_name: subject\n",
        "- year: academic year (calendar year of spring term)\n",
        "- term: fall or spring\n",
        "- course_name: same for same course across terms\n",
        "- course_difficulty: based on course numbering system\n",
        "- class_length: number of minutes between start and end time\n",
        "- total_time: number of contact minutes per week\n",
        "\n",
        "Target columns:\n",
        "- a_proportion, f_proportion: proportion (0-1) of A/F letter grades awarded (out of all letter grades awarded)\n",
        "- avg_grade: average grade on 4.0 scale counting all letter grades awarded"
      ],
      "metadata": {
        "id": "J06jHN4fguCk"
      }
    }
  ]
}
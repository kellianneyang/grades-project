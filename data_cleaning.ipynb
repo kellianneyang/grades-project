{
  "nbformat": 4,
  "nbformat_minor": 0,
  "metadata": {
    "colab": {
      "provenance": [],
      "toc_visible": true,
      "authorship_tag": "ABX9TyPmQRLHgKAnSDXSaez+dDHg",
      "include_colab_link": true
    },
    "kernelspec": {
      "name": "python3",
      "display_name": "Python 3"
    },
    "language_info": {
      "name": "python"
    }
  },
  "cells": [
    {
      "cell_type": "markdown",
      "metadata": {
        "id": "view-in-github",
        "colab_type": "text"
      },
      "source": [
        "<a href=\"https://colab.research.google.com/github/kellianneyang/project-exploration/blob/main/data_cleaning.ipynb\" target=\"_parent\"><img src=\"https://colab.research.google.com/assets/colab-badge.svg\" alt=\"Open In Colab\"/></a>"
      ]
    },
    {
      "cell_type": "markdown",
      "source": [
        "# Grades Project: Data Cleaning"
      ],
      "metadata": {
        "id": "AxnyDHsR_Kc4"
      }
    },
    {
      "cell_type": "markdown",
      "source": [
        "This notebook continues the work begun in the previous notebook for this project, where all .csv files associated with this dataset were merged."
      ],
      "metadata": {
        "id": "Iz1csAhi9Y7-"
      }
    },
    {
      "cell_type": "markdown",
      "source": [
        "The goal of this notebook is to prepare data for machine learning preprocessing. We would like to understand the data and understand what we want from the data.\n",
        "\n",
        "This notebook will:\n",
        "- Create new columns as necessary (to create new feature variables)\n",
        "- Delete columns as necessary (to leave out data with high collinearity or high cardinality)\n",
        "- Separate the data into three dataframes, each with its own target variable (there are multiple possible target variables that we are interested in, and will be applying our machine learning algorithms to them separately)\n",
        "- Delete any rows from the dataframes that do not have values for the target variable\n",
        "- Delete any duplicated rows\n",
        "- Inspect missing values (missing values will NOT be imputed; this will be left for machine learning preprocessing)\n",
        "- Produce univariate visuals for the target and all feature variables\n",
        "- Identify outliers"
      ],
      "metadata": {
        "id": "UJEcQSEi_P5P"
      }
    },
    {
      "cell_type": "markdown",
      "source": [
        "## Overview"
      ],
      "metadata": {
        "id": "gPClsFQd06oB"
      }
    },
    {
      "cell_type": "markdown",
      "source": [
        "\n",
        "To use the data provided in this dataset (https://www.kaggle.com/datasets/Madgrades/uw-madison-courses), which is provided in multiple .csv files, for a machine learning model, we will need to merge the files to create one .csv file."
      ],
      "metadata": {
        "id": "D3EFneqM1Fas"
      }
    },
    {
      "cell_type": "markdown",
      "source": [
        "## .csv files and columns\n",
        "\n",
        "Included in dataset as separate .csv files:\n",
        "- schedules.csv: each row is a unique potential schedule\n",
        "    - (schedule) uuid: unique identifier of schedules\n",
        "    - start_time: start of class, in minutes\n",
        "    - end_time: end of class, in minutes (drop -- high co-linearity with start_time)\n",
        "    - mon: boolean, if class meets on monday\n",
        "    - tues: \"\n",
        "    - wed: \"\n",
        "    - thurs: \"\n",
        "    - fri: \"\n",
        "    - sat: \"\n",
        "    - sun: \"\n",
        "      - sat and sun have very few values; combine to get more observations\n",
        "- subjects.csv: each row is a unique subject\n",
        "    - (subject) code: 3-digit unique identifier of subjects\n",
        "    - (subject) name: name of subject\n",
        "    - (subject) abbreviation: abbreviation (e.g. ENGL for English)\n",
        "- teachings.csv: each row is a unique instructor\n",
        "    - instructor_id: numeric unique identifier of instructor\n",
        "    - section_uuid: section taught by instructor\n",
        "- subject_memberships.csv: each row is a course offering (course offered in certain term; does not encompass all sections in that term)\n",
        "    - subject_code: subject code associated with course offering\n",
        "    - course_offering_uuid: unique identifier of course offerings\n",
        "- sections.csv: each row is a section (specific instance of course at certain time in certain place in certain term)\n",
        "    - (section) uuid: unique identifier of section (alphanumeric)\n",
        "      - could have multiple section uuids for cross-listed sections\n",
        "    - course_offering_uuid: unique identifier of course offering (course offered in certain term but encompasses all sections in that term) \n",
        "    - section_type: 3-letter identifier (e.g., LEC for lecture)\n",
        "    - (section) number: 1-3-number of section (e.g., 301 for section 301)\n",
        "    - room_uuid: unique identifier of room and building where section is held (including online and off-campus designations)\n",
        "    - schedule_uuid: unique identifier of schedule for section\n",
        "- rooms.csv: each row is a specific place\n",
        "    - (room) uuid: unique identifier of building and room (inclduing off-campus and online)\n",
        "    - facility_code: unique identifier of building\n",
        "    - room_code: number of room within a building\n",
        "- instructors.csv (will not use -- is essentially a duplicate of teachings; can use to look up instructors' names): each row is an instructor\n",
        "    - (instructor) id: unique identifier of instructor\n",
        "    - (instructor) name: instructor's name\n",
        "- grade_distributions.csv: each row is a section's grades\n",
        "    - course_offering_uuid: identifies the course offering (certain course in certain term, but not broken down into sections)\n",
        "    - section_number: number of section for grades\n",
        "    - a_count: number of As\n",
        "    - ab_count: number of ABs (can be combined with As as needed)\n",
        "    - b_count: number of Bs\n",
        "    - bc_count: number of BCs (can be combined with Bs as needed)\n",
        "    - c_count: number of Cs\n",
        "    - d_count: number of Ds\n",
        "    - f_count: number of Fs\n",
        "    - s_count: satisfactory\n",
        "    - u_count: unstatisfactory\n",
        "    - cr_count: credit\n",
        "    - n_count: no credit\n",
        "    - p_count\n",
        "    - i_count: incomplete\n",
        "    - nw_count: no work\n",
        "    - nr_count\n",
        "- course_offerings.csv: each row is a course offering (course offered in certain term)\n",
        "    - (course offering) uuid: unique identifier of course offering\n",
        "    - course_uuid: course that the course offering belongs to\n",
        "    - term_code: academic term when course offering was held\n",
        "    - (course offering) name: name associate with course offering (can be different than course name)\n",
        "- courses.csv: each row is a course (abstract; not associated with specific course offering)\n",
        "    - (course) uuid: uniquely identifies the course\n",
        "    - (course) name: name of course\n",
        "    - (course) number: number in course catalog (e.g. 101 for ENGL 101)"
      ],
      "metadata": {
        "id": "r3cR9Ac41K2P"
      }
    },
    {
      "cell_type": "markdown",
      "source": [
        "## Feature variables"
      ],
      "metadata": {
        "id": "-2CuJfwz1I7F"
      }
    },
    {
      "cell_type": "markdown",
      "source": [
        "This dataset is large and has many variables we can choose from as our feature variables.\n",
        "\n",
        "Many of the variables have a large number of unique values (high-cardinality), so we may have to drop those for our machine learning algorithm to be able to predict some variance.\n",
        "\n",
        "We will also be combining some columns and dropping some columns for various reasons. "
      ],
      "metadata": {
        "id": "ASGxFRKh1PxQ"
      }
    },
    {
      "cell_type": "markdown",
      "source": [
        "## Target variables"
      ],
      "metadata": {
        "id": "s3GzxI4h01sb"
      }
    },
    {
      "cell_type": "markdown",
      "source": [
        "We are interested in whether the feature variables can predict variation in grades. There are many grade types given (see source: https://guide.wisc.edu/undergraduate/#enrollmentandrecordstext), but to keep the problem manageable, we will narrow down the target grades.\n",
        "\n",
        "We will instantiate three target variables and see if machine learning algorithms can predict the variation in any of them.\n",
        "\n",
        "1. Proportion of A grades given (of all letter grades given)\n",
        "2. Proportion of F grades given (of all letter grades given)\n",
        "3. Average letter grade given (letter grades: A, AB, B, BC, C, D, and F)"
      ],
      "metadata": {
        "id": "mcb_HO1R1Q2y"
      }
    },
    {
      "cell_type": "markdown",
      "source": [
        "# Deleting unnecessary columns and creating new (necessary) ones"
      ],
      "metadata": {
        "id": "CZspEffFAilV"
      }
    },
    {
      "cell_type": "code",
      "source": [
        "# import libraries\n",
        "import pandas as pd\n",
        "import seaborn as sns"
      ],
      "metadata": {
        "id": "2TPLlv4NAkCF"
      },
      "execution_count": 1,
      "outputs": []
    },
    {
      "cell_type": "code",
      "source": [
        "# mount drive\n",
        "from google.colab import drive\n",
        "drive.mount('/content/drive/')"
      ],
      "metadata": {
        "colab": {
          "base_uri": "https://localhost:8080/"
        },
        "id": "Gqy7LiHkAmu8",
        "outputId": "0eeafcc1-3812-4e50-e350-b7d2787ede9a"
      },
      "execution_count": 2,
      "outputs": [
        {
          "output_type": "stream",
          "name": "stdout",
          "text": [
            "Mounted at /content/drive/\n"
          ]
        }
      ]
    },
    {
      "cell_type": "code",
      "source": [
        "# load data\n",
        "path = '/content/drive/MyDrive/Coding Dojo/Project 2/all_grades_data.csv'\n",
        "df = pd.read_csv(path, low_memory = False)"
      ],
      "metadata": {
        "id": "vqDvChrxAsTm"
      },
      "execution_count": 3,
      "outputs": []
    },
    {
      "cell_type": "code",
      "source": [
        "# inspect\n",
        "df.info()"
      ],
      "metadata": {
        "colab": {
          "base_uri": "https://localhost:8080/"
        },
        "id": "Mr2O5VzkA3m3",
        "outputId": "280ae6be-4c42-46ee-92a5-06433bc7fb12"
      },
      "execution_count": 4,
      "outputs": [
        {
          "output_type": "stream",
          "name": "stdout",
          "text": [
            "<class 'pandas.core.frame.DataFrame'>\n",
            "RangeIndex: 162710 entries, 0 to 162709\n",
            "Data columns (total 44 columns):\n",
            " #   Column                Non-Null Count   Dtype  \n",
            "---  ------                --------------   -----  \n",
            " 0   Unnamed: 0            162710 non-null  int64  \n",
            " 1   section_uuid          162710 non-null  object \n",
            " 2   course_offering_uuid  162710 non-null  object \n",
            " 3   section_type          162710 non-null  object \n",
            " 4   section_number        162710 non-null  float64\n",
            " 5   room_uuid             66778 non-null   object \n",
            " 6   schedule_uuid         162710 non-null  object \n",
            " 7   instructor_id         162682 non-null  float64\n",
            " 8   facility_code         66778 non-null   object \n",
            " 9   room_code             64871 non-null   object \n",
            " 10  start_time            162710 non-null  float64\n",
            " 11  end_time              162710 non-null  float64\n",
            " 12  mon                   162710 non-null  bool   \n",
            " 13  tues                  162710 non-null  bool   \n",
            " 14  wed                   162710 non-null  bool   \n",
            " 15  thurs                 162710 non-null  bool   \n",
            " 16  fri                   162710 non-null  bool   \n",
            " 17  sat                   162710 non-null  bool   \n",
            " 18  sun                   162710 non-null  bool   \n",
            " 19  subject_code          162710 non-null  int64  \n",
            " 20  subject_name          162710 non-null  object \n",
            " 21  subject_abbreviation  162710 non-null  object \n",
            " 22  course_uuid           162710 non-null  object \n",
            " 23  term_code             162710 non-null  float64\n",
            " 24  course_offering_name  162710 non-null  object \n",
            " 25  course_name           162710 non-null  object \n",
            " 26  course_number         162710 non-null  float64\n",
            " 27  course_and_section    162710 non-null  object \n",
            " 28  a_count               162710 non-null  int64  \n",
            " 29  ab_count              162710 non-null  int64  \n",
            " 30  b_count               162710 non-null  int64  \n",
            " 31  bc_count              162710 non-null  int64  \n",
            " 32  c_count               162710 non-null  int64  \n",
            " 33  d_count               162710 non-null  int64  \n",
            " 34  f_count               162710 non-null  int64  \n",
            " 35  s_count               162710 non-null  int64  \n",
            " 36  u_count               162710 non-null  int64  \n",
            " 37  cr_count              162710 non-null  int64  \n",
            " 38  n_count               162710 non-null  int64  \n",
            " 39  p_count               162710 non-null  int64  \n",
            " 40  i_count               162710 non-null  int64  \n",
            " 41  nw_count              162710 non-null  int64  \n",
            " 42  nr_count              162710 non-null  int64  \n",
            " 43  other_count           162710 non-null  int64  \n",
            "dtypes: bool(7), float64(6), int64(18), object(13)\n",
            "memory usage: 47.0+ MB\n"
          ]
        }
      ]
    },
    {
      "cell_type": "code",
      "source": [
        "# inspect\n",
        "df.head(10)"
      ],
      "metadata": {
        "colab": {
          "base_uri": "https://localhost:8080/",
          "height": 959
        },
        "id": "17aGVSoJBEJ-",
        "outputId": "3654aa1b-3717-40e1-eeed-fa741dd3bc77"
      },
      "execution_count": 5,
      "outputs": [
        {
          "output_type": "execute_result",
          "data": {
            "text/plain": [
              "   Unnamed: 0                          section_uuid  \\\n",
              "0           0  214c946a-f56b-365b-a144-1d16049399ed   \n",
              "1           1  5dffed06-3e1b-309a-92c9-4b755e20a7e8   \n",
              "2           2  e3718659-dd65-30d3-987c-6b4092e85d72   \n",
              "3           3  24085c2b-1756-320d-971a-a8cf64a78db0   \n",
              "4           4  2187b6fd-09fb-3bce-92cf-e86978c295e1   \n",
              "5           5  812ccf3d-adf8-369c-954a-5beae39db404   \n",
              "6           6  cf401f5b-dc6b-3336-96d9-5ba4bbe049a7   \n",
              "7           7  f98aa8e6-51b7-35f0-b529-0048d4581bf3   \n",
              "8           8  bbe3a638-eebb-380f-9d17-585f6ff37040   \n",
              "9           9  96049783-b9b5-3650-b215-21d4ee5a39d4   \n",
              "\n",
              "                   course_offering_uuid section_type  section_number  \\\n",
              "0  aa84af10-b176-3fdc-806b-ad7e4d45c93f          fld             1.0   \n",
              "1  a153948c-6fec-3de3-9a6d-3a7210340815          fld            10.0   \n",
              "2  a153948c-6fec-3de3-9a6d-3a7210340815          fld            13.0   \n",
              "3  a153948c-6fec-3de3-9a6d-3a7210340815          fld            14.0   \n",
              "4  684d5dd7-5964-33ef-81e5-d4070e7b7013          fld            18.0   \n",
              "5  684d5dd7-5964-33ef-81e5-d4070e7b7013          fld            13.0   \n",
              "6  36ab1e06-94ef-363f-841c-0e923bfbdac7          fld            10.0   \n",
              "7  36ab1e06-94ef-363f-841c-0e923bfbdac7          fld            14.0   \n",
              "8  aeef8e65-6b2c-3c7a-aeba-3f594b9255df          fld            35.0   \n",
              "9  aeef8e65-6b2c-3c7a-aeba-3f594b9255df          fld            14.0   \n",
              "\n",
              "  room_uuid                         schedule_uuid  instructor_id  \\\n",
              "0       NaN  f2d66a4d-0c08-3b48-abf6-649fffd7ae90      1600463.0   \n",
              "1       NaN  f2d66a4d-0c08-3b48-abf6-649fffd7ae90       693634.0   \n",
              "2       NaN  f2d66a4d-0c08-3b48-abf6-649fffd7ae90       590599.0   \n",
              "3       NaN  f2d66a4d-0c08-3b48-abf6-649fffd7ae90       664097.0   \n",
              "4       NaN  f2d66a4d-0c08-3b48-abf6-649fffd7ae90      2600979.0   \n",
              "5       NaN  f2d66a4d-0c08-3b48-abf6-649fffd7ae90       590599.0   \n",
              "6       NaN  f2d66a4d-0c08-3b48-abf6-649fffd7ae90       693634.0   \n",
              "7       NaN  f2d66a4d-0c08-3b48-abf6-649fffd7ae90       664097.0   \n",
              "8       NaN  f2d66a4d-0c08-3b48-abf6-649fffd7ae90      4847746.0   \n",
              "9       NaN  f2d66a4d-0c08-3b48-abf6-649fffd7ae90       664097.0   \n",
              "\n",
              "  facility_code room_code  ...  f_count  s_count  u_count  cr_count  n_count  \\\n",
              "0           NaN       NaN  ...        0        0        0         0        0   \n",
              "1           NaN       NaN  ...        0        0        0         0        0   \n",
              "2           NaN       NaN  ...        0        0        0         0        0   \n",
              "3           NaN       NaN  ...        0        0        0         0        0   \n",
              "4           NaN       NaN  ...        0        0        0         0        0   \n",
              "5           NaN       NaN  ...        0        0        0         0        0   \n",
              "6           NaN       NaN  ...        0        0        0         0        0   \n",
              "7           NaN       NaN  ...        0        0        0         0        0   \n",
              "8           NaN       NaN  ...        0        0        0         0        0   \n",
              "9           NaN       NaN  ...        0        0        0         0        0   \n",
              "\n",
              "   p_count  i_count  nw_count  nr_count  other_count  \n",
              "0        0        0         0         0            0  \n",
              "1        0        0         0         0            0  \n",
              "2        0        0         0         0            0  \n",
              "3        0        0         0         0            0  \n",
              "4        0        0         0         0            0  \n",
              "5        0        0         0         0            0  \n",
              "6        0        0         0         0            0  \n",
              "7        0        0         0         0            0  \n",
              "8        0        0         0         0            0  \n",
              "9        0        0         0         0            0  \n",
              "\n",
              "[10 rows x 44 columns]"
            ],
            "text/html": [
              "\n",
              "  <div id=\"df-9f11647c-097a-42fb-923d-d0c5ef02229d\">\n",
              "    <div class=\"colab-df-container\">\n",
              "      <div>\n",
              "<style scoped>\n",
              "    .dataframe tbody tr th:only-of-type {\n",
              "        vertical-align: middle;\n",
              "    }\n",
              "\n",
              "    .dataframe tbody tr th {\n",
              "        vertical-align: top;\n",
              "    }\n",
              "\n",
              "    .dataframe thead th {\n",
              "        text-align: right;\n",
              "    }\n",
              "</style>\n",
              "<table border=\"1\" class=\"dataframe\">\n",
              "  <thead>\n",
              "    <tr style=\"text-align: right;\">\n",
              "      <th></th>\n",
              "      <th>Unnamed: 0</th>\n",
              "      <th>section_uuid</th>\n",
              "      <th>course_offering_uuid</th>\n",
              "      <th>section_type</th>\n",
              "      <th>section_number</th>\n",
              "      <th>room_uuid</th>\n",
              "      <th>schedule_uuid</th>\n",
              "      <th>instructor_id</th>\n",
              "      <th>facility_code</th>\n",
              "      <th>room_code</th>\n",
              "      <th>...</th>\n",
              "      <th>f_count</th>\n",
              "      <th>s_count</th>\n",
              "      <th>u_count</th>\n",
              "      <th>cr_count</th>\n",
              "      <th>n_count</th>\n",
              "      <th>p_count</th>\n",
              "      <th>i_count</th>\n",
              "      <th>nw_count</th>\n",
              "      <th>nr_count</th>\n",
              "      <th>other_count</th>\n",
              "    </tr>\n",
              "  </thead>\n",
              "  <tbody>\n",
              "    <tr>\n",
              "      <th>0</th>\n",
              "      <td>0</td>\n",
              "      <td>214c946a-f56b-365b-a144-1d16049399ed</td>\n",
              "      <td>aa84af10-b176-3fdc-806b-ad7e4d45c93f</td>\n",
              "      <td>fld</td>\n",
              "      <td>1.0</td>\n",
              "      <td>NaN</td>\n",
              "      <td>f2d66a4d-0c08-3b48-abf6-649fffd7ae90</td>\n",
              "      <td>1600463.0</td>\n",
              "      <td>NaN</td>\n",
              "      <td>NaN</td>\n",
              "      <td>...</td>\n",
              "      <td>0</td>\n",
              "      <td>0</td>\n",
              "      <td>0</td>\n",
              "      <td>0</td>\n",
              "      <td>0</td>\n",
              "      <td>0</td>\n",
              "      <td>0</td>\n",
              "      <td>0</td>\n",
              "      <td>0</td>\n",
              "      <td>0</td>\n",
              "    </tr>\n",
              "    <tr>\n",
              "      <th>1</th>\n",
              "      <td>1</td>\n",
              "      <td>5dffed06-3e1b-309a-92c9-4b755e20a7e8</td>\n",
              "      <td>a153948c-6fec-3de3-9a6d-3a7210340815</td>\n",
              "      <td>fld</td>\n",
              "      <td>10.0</td>\n",
              "      <td>NaN</td>\n",
              "      <td>f2d66a4d-0c08-3b48-abf6-649fffd7ae90</td>\n",
              "      <td>693634.0</td>\n",
              "      <td>NaN</td>\n",
              "      <td>NaN</td>\n",
              "      <td>...</td>\n",
              "      <td>0</td>\n",
              "      <td>0</td>\n",
              "      <td>0</td>\n",
              "      <td>0</td>\n",
              "      <td>0</td>\n",
              "      <td>0</td>\n",
              "      <td>0</td>\n",
              "      <td>0</td>\n",
              "      <td>0</td>\n",
              "      <td>0</td>\n",
              "    </tr>\n",
              "    <tr>\n",
              "      <th>2</th>\n",
              "      <td>2</td>\n",
              "      <td>e3718659-dd65-30d3-987c-6b4092e85d72</td>\n",
              "      <td>a153948c-6fec-3de3-9a6d-3a7210340815</td>\n",
              "      <td>fld</td>\n",
              "      <td>13.0</td>\n",
              "      <td>NaN</td>\n",
              "      <td>f2d66a4d-0c08-3b48-abf6-649fffd7ae90</td>\n",
              "      <td>590599.0</td>\n",
              "      <td>NaN</td>\n",
              "      <td>NaN</td>\n",
              "      <td>...</td>\n",
              "      <td>0</td>\n",
              "      <td>0</td>\n",
              "      <td>0</td>\n",
              "      <td>0</td>\n",
              "      <td>0</td>\n",
              "      <td>0</td>\n",
              "      <td>0</td>\n",
              "      <td>0</td>\n",
              "      <td>0</td>\n",
              "      <td>0</td>\n",
              "    </tr>\n",
              "    <tr>\n",
              "      <th>3</th>\n",
              "      <td>3</td>\n",
              "      <td>24085c2b-1756-320d-971a-a8cf64a78db0</td>\n",
              "      <td>a153948c-6fec-3de3-9a6d-3a7210340815</td>\n",
              "      <td>fld</td>\n",
              "      <td>14.0</td>\n",
              "      <td>NaN</td>\n",
              "      <td>f2d66a4d-0c08-3b48-abf6-649fffd7ae90</td>\n",
              "      <td>664097.0</td>\n",
              "      <td>NaN</td>\n",
              "      <td>NaN</td>\n",
              "      <td>...</td>\n",
              "      <td>0</td>\n",
              "      <td>0</td>\n",
              "      <td>0</td>\n",
              "      <td>0</td>\n",
              "      <td>0</td>\n",
              "      <td>0</td>\n",
              "      <td>0</td>\n",
              "      <td>0</td>\n",
              "      <td>0</td>\n",
              "      <td>0</td>\n",
              "    </tr>\n",
              "    <tr>\n",
              "      <th>4</th>\n",
              "      <td>4</td>\n",
              "      <td>2187b6fd-09fb-3bce-92cf-e86978c295e1</td>\n",
              "      <td>684d5dd7-5964-33ef-81e5-d4070e7b7013</td>\n",
              "      <td>fld</td>\n",
              "      <td>18.0</td>\n",
              "      <td>NaN</td>\n",
              "      <td>f2d66a4d-0c08-3b48-abf6-649fffd7ae90</td>\n",
              "      <td>2600979.0</td>\n",
              "      <td>NaN</td>\n",
              "      <td>NaN</td>\n",
              "      <td>...</td>\n",
              "      <td>0</td>\n",
              "      <td>0</td>\n",
              "      <td>0</td>\n",
              "      <td>0</td>\n",
              "      <td>0</td>\n",
              "      <td>0</td>\n",
              "      <td>0</td>\n",
              "      <td>0</td>\n",
              "      <td>0</td>\n",
              "      <td>0</td>\n",
              "    </tr>\n",
              "    <tr>\n",
              "      <th>5</th>\n",
              "      <td>5</td>\n",
              "      <td>812ccf3d-adf8-369c-954a-5beae39db404</td>\n",
              "      <td>684d5dd7-5964-33ef-81e5-d4070e7b7013</td>\n",
              "      <td>fld</td>\n",
              "      <td>13.0</td>\n",
              "      <td>NaN</td>\n",
              "      <td>f2d66a4d-0c08-3b48-abf6-649fffd7ae90</td>\n",
              "      <td>590599.0</td>\n",
              "      <td>NaN</td>\n",
              "      <td>NaN</td>\n",
              "      <td>...</td>\n",
              "      <td>0</td>\n",
              "      <td>0</td>\n",
              "      <td>0</td>\n",
              "      <td>0</td>\n",
              "      <td>0</td>\n",
              "      <td>0</td>\n",
              "      <td>0</td>\n",
              "      <td>0</td>\n",
              "      <td>0</td>\n",
              "      <td>0</td>\n",
              "    </tr>\n",
              "    <tr>\n",
              "      <th>6</th>\n",
              "      <td>6</td>\n",
              "      <td>cf401f5b-dc6b-3336-96d9-5ba4bbe049a7</td>\n",
              "      <td>36ab1e06-94ef-363f-841c-0e923bfbdac7</td>\n",
              "      <td>fld</td>\n",
              "      <td>10.0</td>\n",
              "      <td>NaN</td>\n",
              "      <td>f2d66a4d-0c08-3b48-abf6-649fffd7ae90</td>\n",
              "      <td>693634.0</td>\n",
              "      <td>NaN</td>\n",
              "      <td>NaN</td>\n",
              "      <td>...</td>\n",
              "      <td>0</td>\n",
              "      <td>0</td>\n",
              "      <td>0</td>\n",
              "      <td>0</td>\n",
              "      <td>0</td>\n",
              "      <td>0</td>\n",
              "      <td>0</td>\n",
              "      <td>0</td>\n",
              "      <td>0</td>\n",
              "      <td>0</td>\n",
              "    </tr>\n",
              "    <tr>\n",
              "      <th>7</th>\n",
              "      <td>7</td>\n",
              "      <td>f98aa8e6-51b7-35f0-b529-0048d4581bf3</td>\n",
              "      <td>36ab1e06-94ef-363f-841c-0e923bfbdac7</td>\n",
              "      <td>fld</td>\n",
              "      <td>14.0</td>\n",
              "      <td>NaN</td>\n",
              "      <td>f2d66a4d-0c08-3b48-abf6-649fffd7ae90</td>\n",
              "      <td>664097.0</td>\n",
              "      <td>NaN</td>\n",
              "      <td>NaN</td>\n",
              "      <td>...</td>\n",
              "      <td>0</td>\n",
              "      <td>0</td>\n",
              "      <td>0</td>\n",
              "      <td>0</td>\n",
              "      <td>0</td>\n",
              "      <td>0</td>\n",
              "      <td>0</td>\n",
              "      <td>0</td>\n",
              "      <td>0</td>\n",
              "      <td>0</td>\n",
              "    </tr>\n",
              "    <tr>\n",
              "      <th>8</th>\n",
              "      <td>8</td>\n",
              "      <td>bbe3a638-eebb-380f-9d17-585f6ff37040</td>\n",
              "      <td>aeef8e65-6b2c-3c7a-aeba-3f594b9255df</td>\n",
              "      <td>fld</td>\n",
              "      <td>35.0</td>\n",
              "      <td>NaN</td>\n",
              "      <td>f2d66a4d-0c08-3b48-abf6-649fffd7ae90</td>\n",
              "      <td>4847746.0</td>\n",
              "      <td>NaN</td>\n",
              "      <td>NaN</td>\n",
              "      <td>...</td>\n",
              "      <td>0</td>\n",
              "      <td>0</td>\n",
              "      <td>0</td>\n",
              "      <td>0</td>\n",
              "      <td>0</td>\n",
              "      <td>0</td>\n",
              "      <td>0</td>\n",
              "      <td>0</td>\n",
              "      <td>0</td>\n",
              "      <td>0</td>\n",
              "    </tr>\n",
              "    <tr>\n",
              "      <th>9</th>\n",
              "      <td>9</td>\n",
              "      <td>96049783-b9b5-3650-b215-21d4ee5a39d4</td>\n",
              "      <td>aeef8e65-6b2c-3c7a-aeba-3f594b9255df</td>\n",
              "      <td>fld</td>\n",
              "      <td>14.0</td>\n",
              "      <td>NaN</td>\n",
              "      <td>f2d66a4d-0c08-3b48-abf6-649fffd7ae90</td>\n",
              "      <td>664097.0</td>\n",
              "      <td>NaN</td>\n",
              "      <td>NaN</td>\n",
              "      <td>...</td>\n",
              "      <td>0</td>\n",
              "      <td>0</td>\n",
              "      <td>0</td>\n",
              "      <td>0</td>\n",
              "      <td>0</td>\n",
              "      <td>0</td>\n",
              "      <td>0</td>\n",
              "      <td>0</td>\n",
              "      <td>0</td>\n",
              "      <td>0</td>\n",
              "    </tr>\n",
              "  </tbody>\n",
              "</table>\n",
              "<p>10 rows × 44 columns</p>\n",
              "</div>\n",
              "      <button class=\"colab-df-convert\" onclick=\"convertToInteractive('df-9f11647c-097a-42fb-923d-d0c5ef02229d')\"\n",
              "              title=\"Convert this dataframe to an interactive table.\"\n",
              "              style=\"display:none;\">\n",
              "        \n",
              "  <svg xmlns=\"http://www.w3.org/2000/svg\" height=\"24px\"viewBox=\"0 0 24 24\"\n",
              "       width=\"24px\">\n",
              "    <path d=\"M0 0h24v24H0V0z\" fill=\"none\"/>\n",
              "    <path d=\"M18.56 5.44l.94 2.06.94-2.06 2.06-.94-2.06-.94-.94-2.06-.94 2.06-2.06.94zm-11 1L8.5 8.5l.94-2.06 2.06-.94-2.06-.94L8.5 2.5l-.94 2.06-2.06.94zm10 10l.94 2.06.94-2.06 2.06-.94-2.06-.94-.94-2.06-.94 2.06-2.06.94z\"/><path d=\"M17.41 7.96l-1.37-1.37c-.4-.4-.92-.59-1.43-.59-.52 0-1.04.2-1.43.59L10.3 9.45l-7.72 7.72c-.78.78-.78 2.05 0 2.83L4 21.41c.39.39.9.59 1.41.59.51 0 1.02-.2 1.41-.59l7.78-7.78 2.81-2.81c.8-.78.8-2.07 0-2.86zM5.41 20L4 18.59l7.72-7.72 1.47 1.35L5.41 20z\"/>\n",
              "  </svg>\n",
              "      </button>\n",
              "      \n",
              "  <style>\n",
              "    .colab-df-container {\n",
              "      display:flex;\n",
              "      flex-wrap:wrap;\n",
              "      gap: 12px;\n",
              "    }\n",
              "\n",
              "    .colab-df-convert {\n",
              "      background-color: #E8F0FE;\n",
              "      border: none;\n",
              "      border-radius: 50%;\n",
              "      cursor: pointer;\n",
              "      display: none;\n",
              "      fill: #1967D2;\n",
              "      height: 32px;\n",
              "      padding: 0 0 0 0;\n",
              "      width: 32px;\n",
              "    }\n",
              "\n",
              "    .colab-df-convert:hover {\n",
              "      background-color: #E2EBFA;\n",
              "      box-shadow: 0px 1px 2px rgba(60, 64, 67, 0.3), 0px 1px 3px 1px rgba(60, 64, 67, 0.15);\n",
              "      fill: #174EA6;\n",
              "    }\n",
              "\n",
              "    [theme=dark] .colab-df-convert {\n",
              "      background-color: #3B4455;\n",
              "      fill: #D2E3FC;\n",
              "    }\n",
              "\n",
              "    [theme=dark] .colab-df-convert:hover {\n",
              "      background-color: #434B5C;\n",
              "      box-shadow: 0px 1px 3px 1px rgba(0, 0, 0, 0.15);\n",
              "      filter: drop-shadow(0px 1px 2px rgba(0, 0, 0, 0.3));\n",
              "      fill: #FFFFFF;\n",
              "    }\n",
              "  </style>\n",
              "\n",
              "      <script>\n",
              "        const buttonEl =\n",
              "          document.querySelector('#df-9f11647c-097a-42fb-923d-d0c5ef02229d button.colab-df-convert');\n",
              "        buttonEl.style.display =\n",
              "          google.colab.kernel.accessAllowed ? 'block' : 'none';\n",
              "\n",
              "        async function convertToInteractive(key) {\n",
              "          const element = document.querySelector('#df-9f11647c-097a-42fb-923d-d0c5ef02229d');\n",
              "          const dataTable =\n",
              "            await google.colab.kernel.invokeFunction('convertToInteractive',\n",
              "                                                     [key], {});\n",
              "          if (!dataTable) return;\n",
              "\n",
              "          const docLinkHtml = 'Like what you see? Visit the ' +\n",
              "            '<a target=\"_blank\" href=https://colab.research.google.com/notebooks/data_table.ipynb>data table notebook</a>'\n",
              "            + ' to learn more about interactive tables.';\n",
              "          element.innerHTML = '';\n",
              "          dataTable['output_type'] = 'display_data';\n",
              "          await google.colab.output.renderOutput(dataTable, element);\n",
              "          const docLink = document.createElement('div');\n",
              "          docLink.innerHTML = docLinkHtml;\n",
              "          element.appendChild(docLink);\n",
              "        }\n",
              "      </script>\n",
              "    </div>\n",
              "  </div>\n",
              "  "
            ]
          },
          "metadata": {},
          "execution_count": 5
        }
      ]
    },
    {
      "cell_type": "code",
      "source": [
        "# see list of all columns\n",
        "df.columns"
      ],
      "metadata": {
        "colab": {
          "base_uri": "https://localhost:8080/"
        },
        "id": "ncDClpY2BWfe",
        "outputId": "60024f13-36aa-4b74-dd5e-8d9e25caaed2"
      },
      "execution_count": 6,
      "outputs": [
        {
          "output_type": "execute_result",
          "data": {
            "text/plain": [
              "Index(['Unnamed: 0', 'section_uuid', 'course_offering_uuid', 'section_type',\n",
              "       'section_number', 'room_uuid', 'schedule_uuid', 'instructor_id',\n",
              "       'facility_code', 'room_code', 'start_time', 'end_time', 'mon', 'tues',\n",
              "       'wed', 'thurs', 'fri', 'sat', 'sun', 'subject_code', 'subject_name',\n",
              "       'subject_abbreviation', 'course_uuid', 'term_code',\n",
              "       'course_offering_name', 'course_name', 'course_number',\n",
              "       'course_and_section', 'a_count', 'ab_count', 'b_count', 'bc_count',\n",
              "       'c_count', 'd_count', 'f_count', 's_count', 'u_count', 'cr_count',\n",
              "       'n_count', 'p_count', 'i_count', 'nw_count', 'nr_count', 'other_count'],\n",
              "      dtype='object')"
            ]
          },
          "metadata": {},
          "execution_count": 6
        }
      ]
    },
    {
      "cell_type": "code",
      "source": [
        "# drop 'Unnamed: 0' (repeat of the index)\n",
        "df.drop(columns = 'Unnamed: 0',\n",
        "        inplace = True)"
      ],
      "metadata": {
        "id": "FsN_d3LtBP--"
      },
      "execution_count": 7,
      "outputs": []
    },
    {
      "cell_type": "code",
      "source": [
        "# check\n",
        "df.columns"
      ],
      "metadata": {
        "colab": {
          "base_uri": "https://localhost:8080/"
        },
        "id": "umQRzCt0CMnn",
        "outputId": "0cb15c06-881f-4df6-f5d9-eede92e08a0e"
      },
      "execution_count": 8,
      "outputs": [
        {
          "output_type": "execute_result",
          "data": {
            "text/plain": [
              "Index(['section_uuid', 'course_offering_uuid', 'section_type',\n",
              "       'section_number', 'room_uuid', 'schedule_uuid', 'instructor_id',\n",
              "       'facility_code', 'room_code', 'start_time', 'end_time', 'mon', 'tues',\n",
              "       'wed', 'thurs', 'fri', 'sat', 'sun', 'subject_code', 'subject_name',\n",
              "       'subject_abbreviation', 'course_uuid', 'term_code',\n",
              "       'course_offering_name', 'course_name', 'course_number',\n",
              "       'course_and_section', 'a_count', 'ab_count', 'b_count', 'bc_count',\n",
              "       'c_count', 'd_count', 'f_count', 's_count', 'u_count', 'cr_count',\n",
              "       'n_count', 'p_count', 'i_count', 'nw_count', 'nr_count', 'other_count'],\n",
              "      dtype='object')"
            ]
          },
          "metadata": {},
          "execution_count": 8
        }
      ]
    },
    {
      "cell_type": "markdown",
      "source": [
        "## Grades\n",
        "\n",
        "Our target variables will be 'a_proportion', 'f_proportion', and 'avg_grade'. We will calculate and create these with our existing data and then drop the other grade counts columns."
      ],
      "metadata": {
        "id": "kKvQWw6TCWhe"
      }
    },
    {
      "cell_type": "markdown",
      "source": [
        "Information from the University of Wisconsin's website about grades can be found here: https://guide.wisc.edu/undergraduate/#enrollmentandrecordstext\n",
        "\n",
        "Grades:\n",
        "- a, ab, b, bc, c, d, f - letter grades\n",
        "  - ab - intermediate grade between a and b\n",
        "  - bc - intermediate grade between b and c\n",
        "- s - satisfactory, used in pass/fail courses\n",
        "- u - unsatisfactory, used in pass/fail courses\n",
        "- cr - credit, used in credit/no credit courses\n",
        "- n - no credit, used in credit/no credit courses\n",
        "- p - progress: temporary grade used for courses extending beyond one term\n",
        "- i - incomplete: temporary grade used when work is not completed during a term\n",
        "- nw - no work: for students who enroll in a course and then never attend\n",
        "- nr - no report: a grade was not submitted by the instructor\n",
        "- other - any one of several other grading codes"
      ],
      "metadata": {
        "id": "QFiqZUj75j8C"
      }
    },
    {
      "cell_type": "markdown",
      "source": [
        "For a preliminary machine learning attempt with this data, we are interested in predicting any one of the following:\n",
        "1. the number of As as a proportion of total letter grades\n",
        "2. the number of Fs as a proportion of total letter grades\n",
        "3. the average letter grade \n",
        "\n",
        "To keep the problem simple, we will only count letter grades given in each course. Although the dataset provides counts for some other grade types (S, U, N, CR, etc.), we are interested in the letter grades given (A, AB, B, BC, C, D, and F). So, we will drop the columns representing other grade types. \n",
        "\n",
        "To calculate this number, we will change our dataframe (grades_df) to end up with the following columns:\n",
        "- course_offering_uuid (unchanged)\n",
        "- section_number (unchanged)\n",
        "- a_proportion (number of a grades / number of total grades given per row)\n",
        "- f_proportion (number of f grades / number of total grades given per row)\n",
        "- average_grade ((sum of letters * points) / number of total grades given per row); points as follows:\n",
        "  - a: 4.0\n",
        "  - ab: 3.5\n",
        "  - b: 3.0\n",
        "  - bc: 2.5\n",
        "  - c: 2.0\n",
        "  - d: 1.0\n",
        "  - f: 0.0"
      ],
      "metadata": {
        "id": "V6FWkJz-7OGQ"
      }
    },
    {
      "cell_type": "code",
      "source": [
        "# drop following grade counts columns (we are only interested in letter grades at this point):\n",
        "df.drop(columns = ['s_count', 'u_count', 'cr_count', 'n_count', 'p_count', 'i_count', 'nw_count', 'nr_count', 'other_count'], inplace = True)"
      ],
      "metadata": {
        "id": "1Vyl5XzTPIFT"
      },
      "execution_count": 9,
      "outputs": []
    },
    {
      "cell_type": "code",
      "source": [
        "# for every row in grades_df:\n",
        "for i in range(len(df)):\n",
        "\n",
        "  # assign variable num_a to the 'a_count' value\n",
        "  num_a = df.at[i, 'a_count']\n",
        "\n",
        "  # assign variable num_f to the 'f_count' value\n",
        "  num_f = df.at[i, 'f_count']\n",
        "\n",
        "  # assign variable num_all_grades to the sum of all letter grade counts\n",
        "  num_a = df.at[i, 'a_count']\n",
        "  num_ab = df.at[i, 'ab_count']\n",
        "  num_b = df.at[i, 'b_count']\n",
        "  num_bc = df.at[i, 'bc_count']\n",
        "  num_c = df.at[i, 'c_count']\n",
        "  num_d = df.at[i, 'd_count']\n",
        "  num_f = df.at[i, 'f_count']\n",
        "\n",
        "  num_all_grades = num_a + num_ab + num_b + num_bc + num_c + num_d + num_f\n",
        "\n",
        "  # create column for num_all_grades to easily be able to delete courses where no grades were recorded\n",
        "  df.at[i, 'num_all_grades'] = num_all_grades\n",
        "\n",
        "  # if num_all_grades is not 0 (we want to exclude rows where there are no recorded grades)\n",
        "  if num_all_grades != 0:\n",
        "\n",
        "    # calculate the a_proportion & assign to grades_df\n",
        "    a_proportion = (num_a) / (num_all_grades)\n",
        "    df.at[i, 'a_proportion'] = a_proportion\n",
        "\n",
        "    # calculate the f_proportion & assign to grades_df\n",
        "    f_proportion = (num_f) / (num_all_grades)\n",
        "    df.at[i, 'f_proportion'] = f_proportion\n",
        "\n",
        "    # calculate the average grade & assign to grades_df\n",
        "    avg_grade = ((num_a * 4.0) + (num_ab * 3.5) + (num_b * 3.0) + (num_bc * 2.5) + (num_c * 2.0) + (num_d * 1.0)) / num_all_grades\n",
        "    df.at[i, 'avg_grade'] = avg_grade\n"
      ],
      "metadata": {
        "id": "K1cZkBIJNeOk"
      },
      "execution_count": 10,
      "outputs": []
    },
    {
      "cell_type": "code",
      "source": [
        "# how to do above action without a for loop?\n",
        "\n",
        "# this way doesn't prevent divide-by-zero error if there are no grades recorded\n",
        "# put in if statement?\n",
        "'''\n",
        "grades_df['a_proportion] = grades_df['a_count'] / \\\n",
        "                            (grades_df['a_count'] +\n",
        "                             grades_df['ab_count'] +\n",
        "                             grades_df['b_count'] +\n",
        "                             grades_df['bc_count'] +\n",
        "                             grades_df['c_count'] +\n",
        "                             grades_df['d_count'] +\n",
        "                             grades_df['f_count']) if (grades_df['a_count'] +\n",
        "                                                        grades_df['ab_count'] +\n",
        "                                                        grades_df['b_count'] +\n",
        "                                                        grades_df['bc_count'] +\n",
        "                                                        grades_df['c_count'] +\n",
        "                                                        grades_df['d_count'] +\n",
        "                                                        grades_df['f_count']) != 0\n",
        "'''\n",
        "'''\n",
        "grades_df['a_proportion'] = grades_df['a_count'] / \\\n",
        "                            (grades_df['a_count'] +\n",
        "                             grades_df['ab_count'] +\n",
        "                             grades_df['b_count'] +\n",
        "                             grades_df['bc_count'] +\n",
        "                             grades_df['c_count'] +\n",
        "                             grades_df['d_count'] +\n",
        "                             grades_df['f_count'])\n",
        "\n",
        "grades_df['f_proportion'] = grades_df['f_count'] / \\\n",
        "                            (grades_df['a_count'] +\n",
        "                             grades_df['ab_count'] +\n",
        "                             grades_df['b_count'] +\n",
        "                             grades_df['bc_count'] +\n",
        "                             grades_df['c_count'] +\n",
        "                             grades_df['d_count'] +\n",
        "                             grades_df['f_count'])\n",
        "\n",
        "grades_df['avg_grade'] = ( (grades_df['a_count'] * 4.0) +\n",
        "                           (grades_df['ab_count'] * 3.5) +\n",
        "                           (grades_df['b_count'] * 3.0) +\n",
        "                           (grades_df['bc_count'] * 2.5) +\n",
        "                           (grades_df['c_count'] * 2.0) +\n",
        "                           (grades_df['d_count'] * 1.0) +\n",
        "                           (grades_df['f_count'] * 0.0) ) / \\\n",
        "                         (  grades_df['a_count'] +\n",
        "                            grades_df['ab_count'] +\n",
        "                            grades_df['b_count'] +\n",
        "                            grades_df['bc_count'] +\n",
        "                            grades_df['c_count'] +\n",
        "                            grades_df['d_count'] +\n",
        "                            grades_df['f_count'] )\n",
        "'''"
      ],
      "metadata": {
        "colab": {
          "base_uri": "https://localhost:8080/",
          "height": 140
        },
        "id": "qD1zB4wpFgjz",
        "outputId": "8aca685b-611a-487a-b952-116824154832"
      },
      "execution_count": 11,
      "outputs": [
        {
          "output_type": "execute_result",
          "data": {
            "text/plain": [
              "\"\\ngrades_df['a_proportion'] = grades_df['a_count'] /                             (grades_df['a_count'] +\\n                             grades_df['ab_count'] +\\n                             grades_df['b_count'] +\\n                             grades_df['bc_count'] +\\n                             grades_df['c_count'] +\\n                             grades_df['d_count'] +\\n                             grades_df['f_count'])\\n\\ngrades_df['f_proportion'] = grades_df['f_count'] /                             (grades_df['a_count'] +\\n                             grades_df['ab_count'] +\\n                             grades_df['b_count'] +\\n                             grades_df['bc_count'] +\\n                             grades_df['c_count'] +\\n                             grades_df['d_count'] +\\n                             grades_df['f_count'])\\n\\ngrades_df['avg_grade'] = ( (grades_df['a_count'] * 4.0) +\\n                           (grades_df['ab_count'] * 3.5) +\\n                           (grades_df['b_count'] * 3.0) +\\n                           (grades_df['bc_count'] * 2.5) +\\n                           (grades_df['c_count'] * 2.0) +\\n                           (grades_df['d_count'] * 1.0) +\\n                           (grades_df['f_count'] * 0.0) ) /                          (  grades_df['a_count'] +\\n                            grades_df['ab_count'] +\\n                            grades_df['b_count'] +\\n                            grades_df['bc_count'] +\\n                            grades_df['c_count'] +\\n                            grades_df['d_count'] +\\n                            grades_df['f_count'] )\\n\""
            ],
            "application/vnd.google.colaboratory.intrinsic+json": {
              "type": "string"
            }
          },
          "metadata": {},
          "execution_count": 11
        }
      ]
    },
    {
      "cell_type": "code",
      "source": [
        "# check\n",
        "df.columns"
      ],
      "metadata": {
        "colab": {
          "base_uri": "https://localhost:8080/"
        },
        "id": "yI1FJ32AnSmP",
        "outputId": "f10f43a8-1f9b-4f70-8942-8d2badb90557"
      },
      "execution_count": 12,
      "outputs": [
        {
          "output_type": "execute_result",
          "data": {
            "text/plain": [
              "Index(['section_uuid', 'course_offering_uuid', 'section_type',\n",
              "       'section_number', 'room_uuid', 'schedule_uuid', 'instructor_id',\n",
              "       'facility_code', 'room_code', 'start_time', 'end_time', 'mon', 'tues',\n",
              "       'wed', 'thurs', 'fri', 'sat', 'sun', 'subject_code', 'subject_name',\n",
              "       'subject_abbreviation', 'course_uuid', 'term_code',\n",
              "       'course_offering_name', 'course_name', 'course_number',\n",
              "       'course_and_section', 'a_count', 'ab_count', 'b_count', 'bc_count',\n",
              "       'c_count', 'd_count', 'f_count', 'num_all_grades', 'a_proportion',\n",
              "       'f_proportion', 'avg_grade'],\n",
              "      dtype='object')"
            ]
          },
          "metadata": {},
          "execution_count": 12
        }
      ]
    },
    {
      "cell_type": "code",
      "source": [
        "# check\n",
        "df[['a_proportion', 'f_proportion', 'avg_grade']].sample(10)"
      ],
      "metadata": {
        "colab": {
          "base_uri": "https://localhost:8080/",
          "height": 363
        },
        "id": "4TeboAyInYyU",
        "outputId": "141860c2-ec28-49d9-d1b4-1f748c0e05c0"
      },
      "execution_count": 13,
      "outputs": [
        {
          "output_type": "execute_result",
          "data": {
            "text/plain": [
              "        a_proportion  f_proportion  avg_grade\n",
              "151926      0.500000      0.000000   3.333333\n",
              "96017            NaN           NaN        NaN\n",
              "105814      0.583333      0.000000   3.791667\n",
              "41672            NaN           NaN        NaN\n",
              "51252            NaN           NaN        NaN\n",
              "26890            NaN           NaN        NaN\n",
              "62644            NaN           NaN        NaN\n",
              "37094       0.352941      0.000000   3.441176\n",
              "139442      0.333333      0.047619   3.285714\n",
              "24731            NaN           NaN        NaN"
            ],
            "text/html": [
              "\n",
              "  <div id=\"df-f1fbee23-0510-456e-a138-4f36c0305c16\">\n",
              "    <div class=\"colab-df-container\">\n",
              "      <div>\n",
              "<style scoped>\n",
              "    .dataframe tbody tr th:only-of-type {\n",
              "        vertical-align: middle;\n",
              "    }\n",
              "\n",
              "    .dataframe tbody tr th {\n",
              "        vertical-align: top;\n",
              "    }\n",
              "\n",
              "    .dataframe thead th {\n",
              "        text-align: right;\n",
              "    }\n",
              "</style>\n",
              "<table border=\"1\" class=\"dataframe\">\n",
              "  <thead>\n",
              "    <tr style=\"text-align: right;\">\n",
              "      <th></th>\n",
              "      <th>a_proportion</th>\n",
              "      <th>f_proportion</th>\n",
              "      <th>avg_grade</th>\n",
              "    </tr>\n",
              "  </thead>\n",
              "  <tbody>\n",
              "    <tr>\n",
              "      <th>151926</th>\n",
              "      <td>0.500000</td>\n",
              "      <td>0.000000</td>\n",
              "      <td>3.333333</td>\n",
              "    </tr>\n",
              "    <tr>\n",
              "      <th>96017</th>\n",
              "      <td>NaN</td>\n",
              "      <td>NaN</td>\n",
              "      <td>NaN</td>\n",
              "    </tr>\n",
              "    <tr>\n",
              "      <th>105814</th>\n",
              "      <td>0.583333</td>\n",
              "      <td>0.000000</td>\n",
              "      <td>3.791667</td>\n",
              "    </tr>\n",
              "    <tr>\n",
              "      <th>41672</th>\n",
              "      <td>NaN</td>\n",
              "      <td>NaN</td>\n",
              "      <td>NaN</td>\n",
              "    </tr>\n",
              "    <tr>\n",
              "      <th>51252</th>\n",
              "      <td>NaN</td>\n",
              "      <td>NaN</td>\n",
              "      <td>NaN</td>\n",
              "    </tr>\n",
              "    <tr>\n",
              "      <th>26890</th>\n",
              "      <td>NaN</td>\n",
              "      <td>NaN</td>\n",
              "      <td>NaN</td>\n",
              "    </tr>\n",
              "    <tr>\n",
              "      <th>62644</th>\n",
              "      <td>NaN</td>\n",
              "      <td>NaN</td>\n",
              "      <td>NaN</td>\n",
              "    </tr>\n",
              "    <tr>\n",
              "      <th>37094</th>\n",
              "      <td>0.352941</td>\n",
              "      <td>0.000000</td>\n",
              "      <td>3.441176</td>\n",
              "    </tr>\n",
              "    <tr>\n",
              "      <th>139442</th>\n",
              "      <td>0.333333</td>\n",
              "      <td>0.047619</td>\n",
              "      <td>3.285714</td>\n",
              "    </tr>\n",
              "    <tr>\n",
              "      <th>24731</th>\n",
              "      <td>NaN</td>\n",
              "      <td>NaN</td>\n",
              "      <td>NaN</td>\n",
              "    </tr>\n",
              "  </tbody>\n",
              "</table>\n",
              "</div>\n",
              "      <button class=\"colab-df-convert\" onclick=\"convertToInteractive('df-f1fbee23-0510-456e-a138-4f36c0305c16')\"\n",
              "              title=\"Convert this dataframe to an interactive table.\"\n",
              "              style=\"display:none;\">\n",
              "        \n",
              "  <svg xmlns=\"http://www.w3.org/2000/svg\" height=\"24px\"viewBox=\"0 0 24 24\"\n",
              "       width=\"24px\">\n",
              "    <path d=\"M0 0h24v24H0V0z\" fill=\"none\"/>\n",
              "    <path d=\"M18.56 5.44l.94 2.06.94-2.06 2.06-.94-2.06-.94-.94-2.06-.94 2.06-2.06.94zm-11 1L8.5 8.5l.94-2.06 2.06-.94-2.06-.94L8.5 2.5l-.94 2.06-2.06.94zm10 10l.94 2.06.94-2.06 2.06-.94-2.06-.94-.94-2.06-.94 2.06-2.06.94z\"/><path d=\"M17.41 7.96l-1.37-1.37c-.4-.4-.92-.59-1.43-.59-.52 0-1.04.2-1.43.59L10.3 9.45l-7.72 7.72c-.78.78-.78 2.05 0 2.83L4 21.41c.39.39.9.59 1.41.59.51 0 1.02-.2 1.41-.59l7.78-7.78 2.81-2.81c.8-.78.8-2.07 0-2.86zM5.41 20L4 18.59l7.72-7.72 1.47 1.35L5.41 20z\"/>\n",
              "  </svg>\n",
              "      </button>\n",
              "      \n",
              "  <style>\n",
              "    .colab-df-container {\n",
              "      display:flex;\n",
              "      flex-wrap:wrap;\n",
              "      gap: 12px;\n",
              "    }\n",
              "\n",
              "    .colab-df-convert {\n",
              "      background-color: #E8F0FE;\n",
              "      border: none;\n",
              "      border-radius: 50%;\n",
              "      cursor: pointer;\n",
              "      display: none;\n",
              "      fill: #1967D2;\n",
              "      height: 32px;\n",
              "      padding: 0 0 0 0;\n",
              "      width: 32px;\n",
              "    }\n",
              "\n",
              "    .colab-df-convert:hover {\n",
              "      background-color: #E2EBFA;\n",
              "      box-shadow: 0px 1px 2px rgba(60, 64, 67, 0.3), 0px 1px 3px 1px rgba(60, 64, 67, 0.15);\n",
              "      fill: #174EA6;\n",
              "    }\n",
              "\n",
              "    [theme=dark] .colab-df-convert {\n",
              "      background-color: #3B4455;\n",
              "      fill: #D2E3FC;\n",
              "    }\n",
              "\n",
              "    [theme=dark] .colab-df-convert:hover {\n",
              "      background-color: #434B5C;\n",
              "      box-shadow: 0px 1px 3px 1px rgba(0, 0, 0, 0.15);\n",
              "      filter: drop-shadow(0px 1px 2px rgba(0, 0, 0, 0.3));\n",
              "      fill: #FFFFFF;\n",
              "    }\n",
              "  </style>\n",
              "\n",
              "      <script>\n",
              "        const buttonEl =\n",
              "          document.querySelector('#df-f1fbee23-0510-456e-a138-4f36c0305c16 button.colab-df-convert');\n",
              "        buttonEl.style.display =\n",
              "          google.colab.kernel.accessAllowed ? 'block' : 'none';\n",
              "\n",
              "        async function convertToInteractive(key) {\n",
              "          const element = document.querySelector('#df-f1fbee23-0510-456e-a138-4f36c0305c16');\n",
              "          const dataTable =\n",
              "            await google.colab.kernel.invokeFunction('convertToInteractive',\n",
              "                                                     [key], {});\n",
              "          if (!dataTable) return;\n",
              "\n",
              "          const docLinkHtml = 'Like what you see? Visit the ' +\n",
              "            '<a target=\"_blank\" href=https://colab.research.google.com/notebooks/data_table.ipynb>data table notebook</a>'\n",
              "            + ' to learn more about interactive tables.';\n",
              "          element.innerHTML = '';\n",
              "          dataTable['output_type'] = 'display_data';\n",
              "          await google.colab.output.renderOutput(dataTable, element);\n",
              "          const docLink = document.createElement('div');\n",
              "          docLink.innerHTML = docLinkHtml;\n",
              "          element.appendChild(docLink);\n",
              "        }\n",
              "      </script>\n",
              "    </div>\n",
              "  </div>\n",
              "  "
            ]
          },
          "metadata": {},
          "execution_count": 13
        }
      ]
    },
    {
      "cell_type": "code",
      "source": [
        "# drop rest of grades columns\n",
        "df.drop(columns = ['a_count', 'ab_count', 'b_count', 'bc_count', 'c_count', \n",
        "                   'd_count', 'f_count', 'num_all_grades'],\n",
        "        inplace = True)"
      ],
      "metadata": {
        "id": "byfzTEiyEm0E"
      },
      "execution_count": 14,
      "outputs": []
    },
    {
      "cell_type": "code",
      "source": [
        "# check\n",
        "df.columns"
      ],
      "metadata": {
        "colab": {
          "base_uri": "https://localhost:8080/"
        },
        "id": "7X_rTtrLE2K9",
        "outputId": "c0c79ccf-ca33-430f-ae0d-9d9aaae25c73"
      },
      "execution_count": 15,
      "outputs": [
        {
          "output_type": "execute_result",
          "data": {
            "text/plain": [
              "Index(['section_uuid', 'course_offering_uuid', 'section_type',\n",
              "       'section_number', 'room_uuid', 'schedule_uuid', 'instructor_id',\n",
              "       'facility_code', 'room_code', 'start_time', 'end_time', 'mon', 'tues',\n",
              "       'wed', 'thurs', 'fri', 'sat', 'sun', 'subject_code', 'subject_name',\n",
              "       'subject_abbreviation', 'course_uuid', 'term_code',\n",
              "       'course_offering_name', 'course_name', 'course_number',\n",
              "       'course_and_section', 'a_proportion', 'f_proportion', 'avg_grade'],\n",
              "      dtype='object')"
            ]
          },
          "metadata": {},
          "execution_count": 15
        }
      ]
    },
    {
      "cell_type": "code",
      "source": [
        "# delete rows that don't have any values for any of the three target\n",
        "# variable columns\n",
        "df.dropna(subset = ['a_proportion', 'f_proportion', 'avg_grade'], \n",
        "          how = 'all', \n",
        "          inplace = True)"
      ],
      "metadata": {
        "id": "0FQ26uNJI_Xl"
      },
      "execution_count": 16,
      "outputs": []
    },
    {
      "cell_type": "code",
      "source": [
        "# check\n",
        "df.shape"
      ],
      "metadata": {
        "colab": {
          "base_uri": "https://localhost:8080/"
        },
        "id": "s8j7adSiJpel",
        "outputId": "0769bdc4-83ad-4807-ceb3-0397ccbea704"
      },
      "execution_count": 17,
      "outputs": [
        {
          "output_type": "execute_result",
          "data": {
            "text/plain": [
              "(64186, 30)"
            ]
          },
          "metadata": {},
          "execution_count": 17
        }
      ]
    },
    {
      "cell_type": "markdown",
      "source": [
        "## 'term_code'\n",
        "\n",
        "The current 'term_code' column gives a 4-digit code indicating the term the course was offered in. "
      ],
      "metadata": {
        "id": "xJiRr-zOE_VD"
      }
    },
    {
      "cell_type": "markdown",
      "source": [
        "'term_code':\n",
        "- first digit always 1 (21st century)\n",
        "- second two digits academic year (from 07 to 18; year that the academic year ends in summer)\n",
        "- fourth digit term (2 = fall, 4 = spring, 6 = summer)\n",
        "\n",
        "Source: https://kb.wisc.edu/registrar/117776"
      ],
      "metadata": {
        "id": "cXf36wdtbnPu"
      }
    },
    {
      "cell_type": "code",
      "source": [
        "df.reset_index(inplace = True, drop = True)"
      ],
      "metadata": {
        "id": "S1Xaqk86RBLr"
      },
      "execution_count": 18,
      "outputs": []
    },
    {
      "cell_type": "code",
      "source": [
        "# inspect\n",
        "df['term_code'].value_counts(dropna = False)\n",
        "# data includes years '07' to '18' and only fall (2) and spring (4) terms"
      ],
      "metadata": {
        "colab": {
          "base_uri": "https://localhost:8080/"
        },
        "outputId": "56199087-90ed-421e-937d-db70793d40e7",
        "id": "tcYDwQpcbkFz"
      },
      "execution_count": 19,
      "outputs": [
        {
          "output_type": "execute_result",
          "data": {
            "text/plain": [
              "1072.0    3141\n",
              "1082.0    3055\n",
              "1092.0    3047\n",
              "1102.0    3042\n",
              "1074.0    3006\n",
              "1152.0    3001\n",
              "1122.0    2966\n",
              "1132.0    2946\n",
              "1112.0    2939\n",
              "1142.0    2925\n",
              "1084.0    2921\n",
              "1162.0    2901\n",
              "1172.0    2891\n",
              "1104.0    2869\n",
              "1094.0    2864\n",
              "1134.0    2845\n",
              "1182.0    2832\n",
              "1114.0    2828\n",
              "1144.0    2816\n",
              "1154.0    2810\n",
              "1164.0    2776\n",
              "1174.0    2765\n",
              "Name: term_code, dtype: int64"
            ]
          },
          "metadata": {},
          "execution_count": 19
        }
      ]
    },
    {
      "cell_type": "markdown",
      "source": [
        "We will split 'term_code' into one column for year (numeric, 7-18) and one for term (nominal, fall or spring)"
      ],
      "metadata": {
        "id": "325ms5tqcBW4"
      }
    },
    {
      "cell_type": "code",
      "source": [
        "# iterate through all rows in df\n",
        "for i in range(len(df)):\n",
        "\n",
        "  # create string of 'term_code' for indexing\n",
        "  string = df.at[i, 'term_code'].astype(str)\n",
        "\n",
        "  # make sure string is 4 or more characters long\n",
        "  if len(string) >= 4:\n",
        "\n",
        "    # assign 'year' as the middle two characters in the string\n",
        "    df.at[i, 'year'] = string[1:3]\n",
        "\n",
        "    # if string ends in 2\n",
        "    if string[3] == '2':\n",
        "\n",
        "      # assign 'term' as 'fall'\n",
        "      df.at[i, 'term'] = 'fall'\n",
        "  \n",
        "    # else\n",
        "    else:\n",
        "\n",
        "      # assign 'term' as 'spring'\n",
        "      df.at[i, 'term'] = 'spring'"
      ],
      "metadata": {
        "id": "ga6hIGPsbkF0"
      },
      "execution_count": 20,
      "outputs": []
    },
    {
      "cell_type": "code",
      "source": [
        "# how to do above actions without a for loop?\n",
        "# this doesn't work\n",
        "\n",
        "# df['year'] = df['term_code'].astype(str)[1:3]\n",
        "# df['term'] = df['term_code'].astype(str)[3]"
      ],
      "metadata": {
        "id": "zY7NzNmJDY0T"
      },
      "execution_count": 21,
      "outputs": []
    },
    {
      "cell_type": "code",
      "source": [
        "# check\n",
        "print(df['year'].value_counts(dropna = False))\n",
        "print(df['term'].value_counts(dropna = False))"
      ],
      "metadata": {
        "colab": {
          "base_uri": "https://localhost:8080/"
        },
        "id": "DtGXBLbPcuT0",
        "outputId": "05fbb6c8-53d7-4af7-f8ce-2639bf151e1f"
      },
      "execution_count": 22,
      "outputs": [
        {
          "output_type": "stream",
          "name": "stdout",
          "text": [
            "07    6147\n",
            "08    5976\n",
            "10    5911\n",
            "09    5911\n",
            "15    5811\n",
            "13    5791\n",
            "11    5767\n",
            "14    5741\n",
            "16    5677\n",
            "17    5656\n",
            "12    2966\n",
            "18    2832\n",
            "Name: year, dtype: int64\n",
            "fall      35686\n",
            "spring    28500\n",
            "Name: term, dtype: int64\n"
          ]
        }
      ]
    },
    {
      "cell_type": "code",
      "source": [
        "# drop 'term_code' as it is now redundant\n",
        "df.drop(columns = 'term_code', inplace = True)"
      ],
      "metadata": {
        "id": "GlRoyVSlc3NC"
      },
      "execution_count": 23,
      "outputs": []
    },
    {
      "cell_type": "code",
      "source": [
        "# check\n",
        "df.columns"
      ],
      "metadata": {
        "colab": {
          "base_uri": "https://localhost:8080/"
        },
        "id": "s8eJXhTdc8qf",
        "outputId": "cf45ee66-b890-49c1-da39-7d56a7f7776c"
      },
      "execution_count": 24,
      "outputs": [
        {
          "output_type": "execute_result",
          "data": {
            "text/plain": [
              "Index(['section_uuid', 'course_offering_uuid', 'section_type',\n",
              "       'section_number', 'room_uuid', 'schedule_uuid', 'instructor_id',\n",
              "       'facility_code', 'room_code', 'start_time', 'end_time', 'mon', 'tues',\n",
              "       'wed', 'thurs', 'fri', 'sat', 'sun', 'subject_code', 'subject_name',\n",
              "       'subject_abbreviation', 'course_uuid', 'course_offering_name',\n",
              "       'course_name', 'course_number', 'course_and_section', 'a_proportion',\n",
              "       'f_proportion', 'avg_grade', 'year', 'term'],\n",
              "      dtype='object')"
            ]
          },
          "metadata": {},
          "execution_count": 24
        }
      ]
    },
    {
      "cell_type": "markdown",
      "source": [
        "## Rooms and buildings"
      ],
      "metadata": {
        "id": "0GyBQl_06JVg"
      }
    },
    {
      "cell_type": "markdown",
      "source": [
        "Every room_uuid has a facility_code which indicates a building, and a room_code which indicates a room in the building. We will drop the room_code column because it is likely a high-cardinality variable, since there are many, many rooms on campus. We will keep the building (facility_code). "
      ],
      "metadata": {
        "id": "SJzntSeltRZU"
      }
    },
    {
      "cell_type": "code",
      "source": [
        "# pd.set_option('display.max_rows', None)"
      ],
      "metadata": {
        "id": "BXesQzn_B9No"
      },
      "execution_count": 25,
      "outputs": []
    },
    {
      "cell_type": "code",
      "source": [
        "df.drop(columns = ['room_uuid', 'room_code'], inplace = True)"
      ],
      "metadata": {
        "id": "AXQumXnCKNgN"
      },
      "execution_count": 26,
      "outputs": []
    },
    {
      "cell_type": "code",
      "source": [
        "# check\n",
        "df.columns"
      ],
      "metadata": {
        "colab": {
          "base_uri": "https://localhost:8080/"
        },
        "id": "7-bd8zOoKRdM",
        "outputId": "fdcca711-9dd4-4a4c-a7fc-c035a24ab507"
      },
      "execution_count": 27,
      "outputs": [
        {
          "output_type": "execute_result",
          "data": {
            "text/plain": [
              "Index(['section_uuid', 'course_offering_uuid', 'section_type',\n",
              "       'section_number', 'schedule_uuid', 'instructor_id', 'facility_code',\n",
              "       'start_time', 'end_time', 'mon', 'tues', 'wed', 'thurs', 'fri', 'sat',\n",
              "       'sun', 'subject_code', 'subject_name', 'subject_abbreviation',\n",
              "       'course_uuid', 'course_offering_name', 'course_name', 'course_number',\n",
              "       'course_and_section', 'a_proportion', 'f_proportion', 'avg_grade',\n",
              "       'year', 'term'],\n",
              "      dtype='object')"
            ]
          },
          "metadata": {},
          "execution_count": 27
        }
      ]
    },
    {
      "cell_type": "markdown",
      "source": [
        "## Schedules"
      ],
      "metadata": {
        "id": "ZxvlousfKkMU"
      }
    },
    {
      "cell_type": "markdown",
      "source": [
        "'start_time' and 'end_time' will probably have a high degree of co-linearity due to many classes being on a fixed schedule. So, we can drop 'end_time'. \n",
        "\n",
        "But, we are interested in if the length of a class may explain some variance in the grades earned, so first we will calculate 'class_length'. 'class_length' will represent the length of the class in minutes on any day of the week that the class meets (if class meets from 9:00am to 9:50am on MWF, 'class_length' will be 50 minutes)). \n",
        "\n",
        "We are also interested in if the total contact time (per week) may explain some variance. So we will calculate 'total_time', which will be the 'class_length' multiplied by the number of classes per week (so if class meets from 9:00am to 9:50am on MWF, 'total_time' will be 150 minutes). "
      ],
      "metadata": {
        "id": "yKohPFg6LoHH"
      }
    },
    {
      "cell_type": "code",
      "source": [
        "# 'class_length'\n",
        "df['class_length'] = df['end_time'] - df['start_time']"
      ],
      "metadata": {
        "id": "YIe_vOejLWe8"
      },
      "execution_count": 28,
      "outputs": []
    },
    {
      "cell_type": "code",
      "source": [
        "df.reset_index(inplace = True, drop = True)"
      ],
      "metadata": {
        "id": "4XJsXNqsK2J8"
      },
      "execution_count": 29,
      "outputs": []
    },
    {
      "cell_type": "code",
      "source": [
        "df.dtypes"
      ],
      "metadata": {
        "colab": {
          "base_uri": "https://localhost:8080/"
        },
        "id": "QW32mJboLadH",
        "outputId": "b8b3ff44-836b-4168-c748-9841a63d6699"
      },
      "execution_count": 30,
      "outputs": [
        {
          "output_type": "execute_result",
          "data": {
            "text/plain": [
              "section_uuid             object\n",
              "course_offering_uuid     object\n",
              "section_type             object\n",
              "section_number          float64\n",
              "schedule_uuid            object\n",
              "instructor_id           float64\n",
              "facility_code            object\n",
              "start_time              float64\n",
              "end_time                float64\n",
              "mon                        bool\n",
              "tues                       bool\n",
              "wed                        bool\n",
              "thurs                      bool\n",
              "fri                        bool\n",
              "sat                        bool\n",
              "sun                        bool\n",
              "subject_code              int64\n",
              "subject_name             object\n",
              "subject_abbreviation     object\n",
              "course_uuid              object\n",
              "course_offering_name     object\n",
              "course_name              object\n",
              "course_number           float64\n",
              "course_and_section       object\n",
              "a_proportion            float64\n",
              "f_proportion            float64\n",
              "avg_grade               float64\n",
              "year                     object\n",
              "term                     object\n",
              "class_length            float64\n",
              "dtype: object"
            ]
          },
          "metadata": {},
          "execution_count": 30
        }
      ]
    },
    {
      "cell_type": "code",
      "source": [
        "# in order to calculate total_time, we will need to convert the boolean columns \n",
        "# into object columns\n",
        "for day in ['mon', 'tues', 'wed', 'thurs', 'fri', 'sat', 'sun']:\n",
        "  df[day] = df[day].astype(object)"
      ],
      "metadata": {
        "id": "A6GpHzY8KnT1"
      },
      "execution_count": 31,
      "outputs": []
    },
    {
      "cell_type": "code",
      "source": [
        "# check\n",
        "df.dtypes"
      ],
      "metadata": {
        "colab": {
          "base_uri": "https://localhost:8080/"
        },
        "id": "XL8WtrkYLsgs",
        "outputId": "78c9d36b-9960-4200-ab8c-f6a09fb9886d"
      },
      "execution_count": 32,
      "outputs": [
        {
          "output_type": "execute_result",
          "data": {
            "text/plain": [
              "section_uuid             object\n",
              "course_offering_uuid     object\n",
              "section_type             object\n",
              "section_number          float64\n",
              "schedule_uuid            object\n",
              "instructor_id           float64\n",
              "facility_code            object\n",
              "start_time              float64\n",
              "end_time                float64\n",
              "mon                      object\n",
              "tues                     object\n",
              "wed                      object\n",
              "thurs                    object\n",
              "fri                      object\n",
              "sat                      object\n",
              "sun                      object\n",
              "subject_code              int64\n",
              "subject_name             object\n",
              "subject_abbreviation     object\n",
              "course_uuid              object\n",
              "course_offering_name     object\n",
              "course_name              object\n",
              "course_number           float64\n",
              "course_and_section       object\n",
              "a_proportion            float64\n",
              "f_proportion            float64\n",
              "avg_grade               float64\n",
              "year                     object\n",
              "term                     object\n",
              "class_length            float64\n",
              "dtype: object"
            ]
          },
          "metadata": {},
          "execution_count": 32
        }
      ]
    },
    {
      "cell_type": "code",
      "source": [
        "# 'total_time'\n",
        "df['total_time'] = df['class_length'] * (df['mon'] + df['tues'] + df['wed'] + df['thurs'] + df['fri'] + df['sat'] + df['sun'])"
      ],
      "metadata": {
        "id": "AlWm85u7LNel"
      },
      "execution_count": 33,
      "outputs": []
    },
    {
      "cell_type": "code",
      "source": [
        "# check\n",
        "df[['total_time', 'class_length']]"
      ],
      "metadata": {
        "colab": {
          "base_uri": "https://localhost:8080/",
          "height": 423
        },
        "id": "rFH8Ld1AMJ3F",
        "outputId": "1f070801-937d-4cbe-dded-48ff7bc59c3a"
      },
      "execution_count": 34,
      "outputs": [
        {
          "output_type": "execute_result",
          "data": {
            "text/plain": [
              "      total_time  class_length\n",
              "0            0.0           0.0\n",
              "1            0.0           0.0\n",
              "2            0.0           0.0\n",
              "3            0.0           0.0\n",
              "4            0.0           0.0\n",
              "...          ...           ...\n",
              "64181      150.0          50.0\n",
              "64182      150.0          50.0\n",
              "64183      150.0          50.0\n",
              "64184      150.0          50.0\n",
              "64185      130.0          65.0\n",
              "\n",
              "[64186 rows x 2 columns]"
            ],
            "text/html": [
              "\n",
              "  <div id=\"df-0ed64cdd-1897-4b59-9d4f-31113e8d3680\">\n",
              "    <div class=\"colab-df-container\">\n",
              "      <div>\n",
              "<style scoped>\n",
              "    .dataframe tbody tr th:only-of-type {\n",
              "        vertical-align: middle;\n",
              "    }\n",
              "\n",
              "    .dataframe tbody tr th {\n",
              "        vertical-align: top;\n",
              "    }\n",
              "\n",
              "    .dataframe thead th {\n",
              "        text-align: right;\n",
              "    }\n",
              "</style>\n",
              "<table border=\"1\" class=\"dataframe\">\n",
              "  <thead>\n",
              "    <tr style=\"text-align: right;\">\n",
              "      <th></th>\n",
              "      <th>total_time</th>\n",
              "      <th>class_length</th>\n",
              "    </tr>\n",
              "  </thead>\n",
              "  <tbody>\n",
              "    <tr>\n",
              "      <th>0</th>\n",
              "      <td>0.0</td>\n",
              "      <td>0.0</td>\n",
              "    </tr>\n",
              "    <tr>\n",
              "      <th>1</th>\n",
              "      <td>0.0</td>\n",
              "      <td>0.0</td>\n",
              "    </tr>\n",
              "    <tr>\n",
              "      <th>2</th>\n",
              "      <td>0.0</td>\n",
              "      <td>0.0</td>\n",
              "    </tr>\n",
              "    <tr>\n",
              "      <th>3</th>\n",
              "      <td>0.0</td>\n",
              "      <td>0.0</td>\n",
              "    </tr>\n",
              "    <tr>\n",
              "      <th>4</th>\n",
              "      <td>0.0</td>\n",
              "      <td>0.0</td>\n",
              "    </tr>\n",
              "    <tr>\n",
              "      <th>...</th>\n",
              "      <td>...</td>\n",
              "      <td>...</td>\n",
              "    </tr>\n",
              "    <tr>\n",
              "      <th>64181</th>\n",
              "      <td>150.0</td>\n",
              "      <td>50.0</td>\n",
              "    </tr>\n",
              "    <tr>\n",
              "      <th>64182</th>\n",
              "      <td>150.0</td>\n",
              "      <td>50.0</td>\n",
              "    </tr>\n",
              "    <tr>\n",
              "      <th>64183</th>\n",
              "      <td>150.0</td>\n",
              "      <td>50.0</td>\n",
              "    </tr>\n",
              "    <tr>\n",
              "      <th>64184</th>\n",
              "      <td>150.0</td>\n",
              "      <td>50.0</td>\n",
              "    </tr>\n",
              "    <tr>\n",
              "      <th>64185</th>\n",
              "      <td>130.0</td>\n",
              "      <td>65.0</td>\n",
              "    </tr>\n",
              "  </tbody>\n",
              "</table>\n",
              "<p>64186 rows × 2 columns</p>\n",
              "</div>\n",
              "      <button class=\"colab-df-convert\" onclick=\"convertToInteractive('df-0ed64cdd-1897-4b59-9d4f-31113e8d3680')\"\n",
              "              title=\"Convert this dataframe to an interactive table.\"\n",
              "              style=\"display:none;\">\n",
              "        \n",
              "  <svg xmlns=\"http://www.w3.org/2000/svg\" height=\"24px\"viewBox=\"0 0 24 24\"\n",
              "       width=\"24px\">\n",
              "    <path d=\"M0 0h24v24H0V0z\" fill=\"none\"/>\n",
              "    <path d=\"M18.56 5.44l.94 2.06.94-2.06 2.06-.94-2.06-.94-.94-2.06-.94 2.06-2.06.94zm-11 1L8.5 8.5l.94-2.06 2.06-.94-2.06-.94L8.5 2.5l-.94 2.06-2.06.94zm10 10l.94 2.06.94-2.06 2.06-.94-2.06-.94-.94-2.06-.94 2.06-2.06.94z\"/><path d=\"M17.41 7.96l-1.37-1.37c-.4-.4-.92-.59-1.43-.59-.52 0-1.04.2-1.43.59L10.3 9.45l-7.72 7.72c-.78.78-.78 2.05 0 2.83L4 21.41c.39.39.9.59 1.41.59.51 0 1.02-.2 1.41-.59l7.78-7.78 2.81-2.81c.8-.78.8-2.07 0-2.86zM5.41 20L4 18.59l7.72-7.72 1.47 1.35L5.41 20z\"/>\n",
              "  </svg>\n",
              "      </button>\n",
              "      \n",
              "  <style>\n",
              "    .colab-df-container {\n",
              "      display:flex;\n",
              "      flex-wrap:wrap;\n",
              "      gap: 12px;\n",
              "    }\n",
              "\n",
              "    .colab-df-convert {\n",
              "      background-color: #E8F0FE;\n",
              "      border: none;\n",
              "      border-radius: 50%;\n",
              "      cursor: pointer;\n",
              "      display: none;\n",
              "      fill: #1967D2;\n",
              "      height: 32px;\n",
              "      padding: 0 0 0 0;\n",
              "      width: 32px;\n",
              "    }\n",
              "\n",
              "    .colab-df-convert:hover {\n",
              "      background-color: #E2EBFA;\n",
              "      box-shadow: 0px 1px 2px rgba(60, 64, 67, 0.3), 0px 1px 3px 1px rgba(60, 64, 67, 0.15);\n",
              "      fill: #174EA6;\n",
              "    }\n",
              "\n",
              "    [theme=dark] .colab-df-convert {\n",
              "      background-color: #3B4455;\n",
              "      fill: #D2E3FC;\n",
              "    }\n",
              "\n",
              "    [theme=dark] .colab-df-convert:hover {\n",
              "      background-color: #434B5C;\n",
              "      box-shadow: 0px 1px 3px 1px rgba(0, 0, 0, 0.15);\n",
              "      filter: drop-shadow(0px 1px 2px rgba(0, 0, 0, 0.3));\n",
              "      fill: #FFFFFF;\n",
              "    }\n",
              "  </style>\n",
              "\n",
              "      <script>\n",
              "        const buttonEl =\n",
              "          document.querySelector('#df-0ed64cdd-1897-4b59-9d4f-31113e8d3680 button.colab-df-convert');\n",
              "        buttonEl.style.display =\n",
              "          google.colab.kernel.accessAllowed ? 'block' : 'none';\n",
              "\n",
              "        async function convertToInteractive(key) {\n",
              "          const element = document.querySelector('#df-0ed64cdd-1897-4b59-9d4f-31113e8d3680');\n",
              "          const dataTable =\n",
              "            await google.colab.kernel.invokeFunction('convertToInteractive',\n",
              "                                                     [key], {});\n",
              "          if (!dataTable) return;\n",
              "\n",
              "          const docLinkHtml = 'Like what you see? Visit the ' +\n",
              "            '<a target=\"_blank\" href=https://colab.research.google.com/notebooks/data_table.ipynb>data table notebook</a>'\n",
              "            + ' to learn more about interactive tables.';\n",
              "          element.innerHTML = '';\n",
              "          dataTable['output_type'] = 'display_data';\n",
              "          await google.colab.output.renderOutput(dataTable, element);\n",
              "          const docLink = document.createElement('div');\n",
              "          docLink.innerHTML = docLinkHtml;\n",
              "          element.appendChild(docLink);\n",
              "        }\n",
              "      </script>\n",
              "    </div>\n",
              "  </div>\n",
              "  "
            ]
          },
          "metadata": {},
          "execution_count": 34
        }
      ]
    },
    {
      "cell_type": "code",
      "source": [
        "# check\n",
        "df['total_time'] = df['total_time'].astype(int)"
      ],
      "metadata": {
        "id": "UQLrG8zjL_kC"
      },
      "execution_count": 35,
      "outputs": []
    },
    {
      "cell_type": "markdown",
      "source": [
        "Check value_counts for days of the week"
      ],
      "metadata": {
        "id": "BojxmGrqMLG8"
      }
    },
    {
      "cell_type": "code",
      "source": [
        "for day in ['mon', 'tues', 'wed', 'thurs', 'fri', 'sat', 'sun']:\n",
        "  print(df[day].value_counts())"
      ],
      "metadata": {
        "colab": {
          "base_uri": "https://localhost:8080/"
        },
        "id": "HJucZIQyMJqM",
        "outputId": "66c748cf-39ac-48e3-b012-cb2db000ec9a"
      },
      "execution_count": 36,
      "outputs": [
        {
          "output_type": "stream",
          "name": "stdout",
          "text": [
            "False    36546\n",
            "True     27640\n",
            "Name: mon, dtype: int64\n",
            "False    36954\n",
            "True     27232\n",
            "Name: tues, dtype: int64\n",
            "False    37056\n",
            "True     27130\n",
            "Name: wed, dtype: int64\n",
            "False    38275\n",
            "True     25911\n",
            "Name: thurs, dtype: int64\n",
            "False    48729\n",
            "True     15457\n",
            "Name: fri, dtype: int64\n",
            "False    62543\n",
            "True      1643\n",
            "Name: sat, dtype: int64\n",
            "False    64121\n",
            "True        65\n",
            "Name: sun, dtype: int64\n"
          ]
        }
      ]
    },
    {
      "cell_type": "markdown",
      "source": [
        "Combine classes that meet on weekends into one category to increase number of counts."
      ],
      "metadata": {
        "id": "OKk0r6MMPYnd"
      }
    },
    {
      "cell_type": "code",
      "source": [
        "df['mon'].dtype"
      ],
      "metadata": {
        "colab": {
          "base_uri": "https://localhost:8080/"
        },
        "id": "9iA-sXY0Mggi",
        "outputId": "f7660315-8d9f-45af-fb26-477a204dd02c"
      },
      "execution_count": 37,
      "outputs": [
        {
          "output_type": "execute_result",
          "data": {
            "text/plain": [
              "dtype('O')"
            ]
          },
          "metadata": {},
          "execution_count": 37
        }
      ]
    },
    {
      "cell_type": "code",
      "source": [
        "# how to make this section of code fewer lines (with an or statement?)\n",
        "\n",
        "for i in range(len(df)):\n",
        "  if df.at[i, 'sat'] == True:\n",
        "    df.at[i, 'weekend'] = 'True'\n",
        "  elif df.at[i, 'sun'] == True:\n",
        "    df.at[i, 'weekend'] = 'True'\n",
        "  else:\n",
        "    df.at[i, 'weekend'] = 'False'"
      ],
      "metadata": {
        "id": "KF8_DI4JQEL7"
      },
      "execution_count": 38,
      "outputs": []
    },
    {
      "cell_type": "code",
      "source": [
        "'''\n",
        "# how to do above without a for loop?\n",
        "\n",
        "if df['sat'] == True:\n",
        "  df['weekend'] = True\n",
        "elif df['sun'] == True:\n",
        "  df['weekend'] = True\n",
        "else:\n",
        "  df['weekend'] = False\n",
        "'''"
      ],
      "metadata": {
        "colab": {
          "base_uri": "https://localhost:8080/",
          "height": 53
        },
        "id": "C2C8N_F0N727",
        "outputId": "1c205fa1-a03d-4ad2-aee8-e2d69e90beb4"
      },
      "execution_count": 39,
      "outputs": [
        {
          "output_type": "execute_result",
          "data": {
            "text/plain": [
              "\"\\n# how to do above without a for loop?\\n\\nif df['sat'] == True:\\n  df['weekend'] = True\\nelif df['sun'] == True:\\n  df['weekend'] = True\\nelse:\\n  df['weekend'] = False\\n\""
            ],
            "application/vnd.google.colaboratory.intrinsic+json": {
              "type": "string"
            }
          },
          "metadata": {},
          "execution_count": 39
        }
      ]
    },
    {
      "cell_type": "code",
      "source": [
        "# check\n",
        "df['weekend'].value_counts()"
      ],
      "metadata": {
        "colab": {
          "base_uri": "https://localhost:8080/"
        },
        "id": "0Xi66edkNPXE",
        "outputId": "364aea13-022c-46f4-f2f4-1c96294aa021"
      },
      "execution_count": 40,
      "outputs": [
        {
          "output_type": "execute_result",
          "data": {
            "text/plain": [
              "False    62503\n",
              "True      1683\n",
              "Name: weekend, dtype: int64"
            ]
          },
          "metadata": {},
          "execution_count": 40
        }
      ]
    },
    {
      "cell_type": "code",
      "source": [
        "# delete 'sat' and 'sun' classes (highly correlated with 'weekend'), and\n",
        "# 'end_time' (highly correlated with 'start_time' and 'class_length')\n",
        "df.drop(columns = ['sat', 'sun', 'end_time'], inplace = True)"
      ],
      "metadata": {
        "id": "tINoAnK9OR66"
      },
      "execution_count": 41,
      "outputs": []
    },
    {
      "cell_type": "code",
      "source": [
        "# check\n",
        "df.columns"
      ],
      "metadata": {
        "colab": {
          "base_uri": "https://localhost:8080/"
        },
        "id": "__IYpBjWOYxV",
        "outputId": "e624a5e4-5a83-434d-860a-5d9054aa61fe"
      },
      "execution_count": 42,
      "outputs": [
        {
          "output_type": "execute_result",
          "data": {
            "text/plain": [
              "Index(['section_uuid', 'course_offering_uuid', 'section_type',\n",
              "       'section_number', 'schedule_uuid', 'instructor_id', 'facility_code',\n",
              "       'start_time', 'mon', 'tues', 'wed', 'thurs', 'fri', 'subject_code',\n",
              "       'subject_name', 'subject_abbreviation', 'course_uuid',\n",
              "       'course_offering_name', 'course_name', 'course_number',\n",
              "       'course_and_section', 'a_proportion', 'f_proportion', 'avg_grade',\n",
              "       'year', 'term', 'class_length', 'total_time', 'weekend'],\n",
              "      dtype='object')"
            ]
          },
          "metadata": {},
          "execution_count": 42
        }
      ]
    },
    {
      "cell_type": "code",
      "source": [
        "# drop 'schedule_uuid'; it correlates with the other schedule variables\n",
        "df.drop(columns = 'schedule_uuid', inplace = True)"
      ],
      "metadata": {
        "id": "xJlkxxqUZOLA"
      },
      "execution_count": 43,
      "outputs": []
    },
    {
      "cell_type": "code",
      "source": [
        "# check\n",
        "df.columns"
      ],
      "metadata": {
        "colab": {
          "base_uri": "https://localhost:8080/"
        },
        "id": "JPu7khLJZYRI",
        "outputId": "add38dd6-29b6-4275-a505-f83f5d9e7530"
      },
      "execution_count": 44,
      "outputs": [
        {
          "output_type": "execute_result",
          "data": {
            "text/plain": [
              "Index(['section_uuid', 'course_offering_uuid', 'section_type',\n",
              "       'section_number', 'instructor_id', 'facility_code', 'start_time', 'mon',\n",
              "       'tues', 'wed', 'thurs', 'fri', 'subject_code', 'subject_name',\n",
              "       'subject_abbreviation', 'course_uuid', 'course_offering_name',\n",
              "       'course_name', 'course_number', 'course_and_section', 'a_proportion',\n",
              "       'f_proportion', 'avg_grade', 'year', 'term', 'class_length',\n",
              "       'total_time', 'weekend'],\n",
              "      dtype='object')"
            ]
          },
          "metadata": {},
          "execution_count": 44
        }
      ]
    },
    {
      "cell_type": "markdown",
      "source": [
        "## Subjects\n",
        "\n",
        "Delete 'subject_abbreviations' and 'subject_codes', as these are repeats of the 'subject_name' column."
      ],
      "metadata": {
        "id": "dg1okW8RPhY7"
      }
    },
    {
      "cell_type": "code",
      "source": [
        "df.drop(columns = ['subject_code', 'subject_abbreviation'], inplace = True)"
      ],
      "metadata": {
        "id": "fM1TWczSPs9J"
      },
      "execution_count": 45,
      "outputs": []
    },
    {
      "cell_type": "code",
      "source": [
        "# check\n",
        "df.columns"
      ],
      "metadata": {
        "colab": {
          "base_uri": "https://localhost:8080/"
        },
        "id": "tM0mfWTbP0xy",
        "outputId": "da4d039d-0ddd-4535-e2ba-8d7e23b9dac5"
      },
      "execution_count": 46,
      "outputs": [
        {
          "output_type": "execute_result",
          "data": {
            "text/plain": [
              "Index(['section_uuid', 'course_offering_uuid', 'section_type',\n",
              "       'section_number', 'instructor_id', 'facility_code', 'start_time', 'mon',\n",
              "       'tues', 'wed', 'thurs', 'fri', 'subject_name', 'course_uuid',\n",
              "       'course_offering_name', 'course_name', 'course_number',\n",
              "       'course_and_section', 'a_proportion', 'f_proportion', 'avg_grade',\n",
              "       'year', 'term', 'class_length', 'total_time', 'weekend'],\n",
              "      dtype='object')"
            ]
          },
          "metadata": {},
          "execution_count": 46
        }
      ]
    },
    {
      "cell_type": "markdown",
      "source": [
        "## Course number"
      ],
      "metadata": {
        "id": "ua6qUEOrTAwL"
      }
    },
    {
      "cell_type": "code",
      "source": [
        "df['course_number'].describe()"
      ],
      "metadata": {
        "colab": {
          "base_uri": "https://localhost:8080/"
        },
        "id": "E6OSMSRWTCbz",
        "outputId": "6f6e315a-caf2-4b05-d974-bb5daba48432"
      },
      "execution_count": 47,
      "outputs": [
        {
          "output_type": "execute_result",
          "data": {
            "text/plain": [
              "count    64186.000000\n",
              "mean       446.496713\n",
              "std        258.355618\n",
              "min          1.000000\n",
              "25%        223.000000\n",
              "50%        400.000000\n",
              "75%        676.000000\n",
              "max        999.000000\n",
              "Name: course_number, dtype: float64"
            ]
          },
          "metadata": {},
          "execution_count": 47
        }
      ]
    },
    {
      "cell_type": "markdown",
      "source": [
        "The 'course_number' column includes numbers in the following ranges:\n",
        "- below 100: below college-level\n",
        "- 100-299: elementary (undergraduate students only)\n",
        "- 300-499: intermediate (grad & undergrad)\n",
        "- 500-699: advanced (grad & undergrad)\n",
        "- 700+: graduate students only\n",
        "\n",
        "Source: https://grad.wisc.edu/documents/course-numbering-system/\n",
        "\n",
        "We will split up the courses into these ranges to reduce the cardinality of the variable.\n",
        "\n",
        "We will drop the below college-level and graduate student only courses and retain just courses that are elementary, intermediate, or advanced, and that undergraduate students may take. (But we will wait until after merging with big_df to do so, so that we delete the other information for these courses as well.)"
      ],
      "metadata": {
        "id": "EbWeUEq9eXix"
      }
    },
    {
      "cell_type": "code",
      "source": [
        "for i in range(len(df)):\n",
        "  if df.at[i, 'course_number'] < 100:\n",
        "    df.at[i, 'course_difficulty'] = 'below level'\n",
        "  elif df.at[i, 'course_number'] < 300:\n",
        "    df.at[i, 'course_difficulty'] = 'elementary'\n",
        "  elif df.at[i, 'course_number'] < 500:\n",
        "    df.at[i, 'course_difficulty'] = 'intermediate'\n",
        "  elif df.at[i, 'course_number'] < 700:\n",
        "    df.at[i, 'course_difficulty'] = 'advanced'\n",
        "  elif df.at[i, 'course_number'] >= 700:\n",
        "    df.at[i, 'course_difficulty'] = 'grad level'"
      ],
      "metadata": {
        "id": "TUCtDaXMiKCH"
      },
      "execution_count": 48,
      "outputs": []
    },
    {
      "cell_type": "code",
      "source": [
        "# how to do above action without a for loop?\n",
        "# courses_df['course_difficulty'] = 'below level' if courses_df['course_difficulty] < 100 else pass\n",
        "# courses_df['course_difficulty'] = 'elementary' if courses_df['course_difficulty] < 300 else pass\n",
        "# courses_df['course_difficulty'] = 'intermediate' if courses_df['course_difficulty] < 500 else pass\n",
        "# courses_df['course_difficulty'] = 'advanced' if courses_df['course_difficulty] < 700 else pass\n",
        "# courses_df['course_difficulty'] = 'grad level' if courses_df['course_difficulty] >= 700 else pass"
      ],
      "metadata": {
        "id": "0Bm_1uaWETlV"
      },
      "execution_count": 49,
      "outputs": []
    },
    {
      "cell_type": "code",
      "source": [
        "# check\n",
        "df['course_difficulty'].value_counts()"
      ],
      "metadata": {
        "colab": {
          "base_uri": "https://localhost:8080/"
        },
        "id": "GeaqNocoTrnr",
        "outputId": "8897ebdc-74d5-4203-fd73-68672c009200"
      },
      "execution_count": 50,
      "outputs": [
        {
          "output_type": "execute_result",
          "data": {
            "text/plain": [
              "elementary      19562\n",
              "intermediate    18574\n",
              "grad level      14130\n",
              "advanced        11355\n",
              "below level       565\n",
              "Name: course_difficulty, dtype: int64"
            ]
          },
          "metadata": {},
          "execution_count": 50
        }
      ]
    },
    {
      "cell_type": "code",
      "source": [
        "# we are only interested in 'elementary', 'intermediate', and 'advanced' courses\n",
        "df.drop(df[(df['course_difficulty'] == 'below level') | \n",
        "           (df['course_difficulty'] == 'grad level')].index, \n",
        "        inplace = True)\n"
      ],
      "metadata": {
        "id": "ToG361kXTy66"
      },
      "execution_count": 51,
      "outputs": []
    },
    {
      "cell_type": "code",
      "source": [
        "# check\n",
        "df['course_difficulty'].value_counts()"
      ],
      "metadata": {
        "colab": {
          "base_uri": "https://localhost:8080/"
        },
        "id": "7FaHeA-HUhEy",
        "outputId": "e9339f96-3984-4061-8070-514e369cd690"
      },
      "execution_count": 52,
      "outputs": [
        {
          "output_type": "execute_result",
          "data": {
            "text/plain": [
              "elementary      19562\n",
              "intermediate    18574\n",
              "advanced        11355\n",
              "Name: course_difficulty, dtype: int64"
            ]
          },
          "metadata": {},
          "execution_count": 52
        }
      ]
    },
    {
      "cell_type": "code",
      "source": [
        "# drop course_number column\n",
        "df.drop(columns = 'course_number', inplace = True)"
      ],
      "metadata": {
        "id": "p4MWm3bfjo_A"
      },
      "execution_count": 53,
      "outputs": []
    },
    {
      "cell_type": "code",
      "source": [
        "# check\n",
        "df.columns"
      ],
      "metadata": {
        "colab": {
          "base_uri": "https://localhost:8080/"
        },
        "id": "_0rfUZ-1juan",
        "outputId": "0f3a95b3-3a79-440a-c2ae-7b8c1e0e48c5"
      },
      "execution_count": 54,
      "outputs": [
        {
          "output_type": "execute_result",
          "data": {
            "text/plain": [
              "Index(['section_uuid', 'course_offering_uuid', 'section_type',\n",
              "       'section_number', 'instructor_id', 'facility_code', 'start_time', 'mon',\n",
              "       'tues', 'wed', 'thurs', 'fri', 'subject_name', 'course_uuid',\n",
              "       'course_offering_name', 'course_name', 'course_and_section',\n",
              "       'a_proportion', 'f_proportion', 'avg_grade', 'year', 'term',\n",
              "       'class_length', 'total_time', 'weekend', 'course_difficulty'],\n",
              "      dtype='object')"
            ]
          },
          "metadata": {},
          "execution_count": 54
        }
      ]
    },
    {
      "cell_type": "markdown",
      "source": [
        "## course_uuid"
      ],
      "metadata": {
        "id": "eNiu_VyLUt16"
      }
    },
    {
      "cell_type": "code",
      "source": [
        "# can drop 'course_uuid' column because it should match up with 'course_name' column\n",
        "df.drop(columns = 'course_uuid', inplace = True)"
      ],
      "metadata": {
        "id": "XJjX2vNAUs80"
      },
      "execution_count": 55,
      "outputs": []
    },
    {
      "cell_type": "code",
      "source": [
        "# check\n",
        "df.columns"
      ],
      "metadata": {
        "colab": {
          "base_uri": "https://localhost:8080/"
        },
        "id": "IcjZpiyNU5PK",
        "outputId": "1b2e43d9-30b7-4d10-bc86-c86ce8a715f6"
      },
      "execution_count": 56,
      "outputs": [
        {
          "output_type": "execute_result",
          "data": {
            "text/plain": [
              "Index(['section_uuid', 'course_offering_uuid', 'section_type',\n",
              "       'section_number', 'instructor_id', 'facility_code', 'start_time', 'mon',\n",
              "       'tues', 'wed', 'thurs', 'fri', 'subject_name', 'course_offering_name',\n",
              "       'course_name', 'course_and_section', 'a_proportion', 'f_proportion',\n",
              "       'avg_grade', 'year', 'term', 'class_length', 'total_time', 'weekend',\n",
              "       'course_difficulty'],\n",
              "      dtype='object')"
            ]
          },
          "metadata": {},
          "execution_count": 56
        }
      ]
    },
    {
      "cell_type": "markdown",
      "source": [
        "### Reduce cardinality in instructor_id (binning):\n",
        "- Group instructors who have taught less than 20 sections into one group."
      ],
      "metadata": {
        "id": "x6BCdjyWbDLa"
      }
    },
    {
      "cell_type": "code",
      "source": [
        "print(len(df['instructor_id']))\n",
        "print(len(df))"
      ],
      "metadata": {
        "colab": {
          "base_uri": "https://localhost:8080/"
        },
        "id": "TBORcNIYY4FX",
        "outputId": "dfc2da47-6aeb-4458-faff-b4bf2fc08a53"
      },
      "execution_count": 57,
      "outputs": [
        {
          "output_type": "stream",
          "name": "stdout",
          "text": [
            "49491\n",
            "49491\n"
          ]
        }
      ]
    },
    {
      "cell_type": "code",
      "source": [
        "print(df['instructor_id'].value_counts())"
      ],
      "metadata": {
        "colab": {
          "base_uri": "https://localhost:8080/"
        },
        "id": "UEXtaoXGY-kH",
        "outputId": "71821eb8-3d54-4ca4-fa33-23256f601406"
      },
      "execution_count": 58,
      "outputs": [
        {
          "output_type": "stream",
          "name": "stdout",
          "text": [
            "566960.0     132\n",
            "496397.0     106\n",
            "2601912.0     89\n",
            "2601706.0     85\n",
            "319547.0      81\n",
            "            ... \n",
            "4716883.0      1\n",
            "4721762.0      1\n",
            "3375280.0      1\n",
            "3457484.0      1\n",
            "900462.0       1\n",
            "Name: instructor_id, Length: 7106, dtype: int64\n"
          ]
        }
      ]
    },
    {
      "cell_type": "code",
      "source": [
        "# create empty list to store instructor_ids\n",
        "instructor_20_list = []\n",
        "\n",
        "# iterate over values and counts in 'instructor_id'\n",
        "for value, count in df['instructor_id'].value_counts().items():\n",
        "  \n",
        "  # if count is more than 20 (i.e. instructor taught more than 20 sections)\n",
        "  if count > 20:\n",
        "    \n",
        "    # append to list\n",
        "    instructor_20_list.append(value)\n",
        "\n",
        "# this is the number of instructor_ids who taught more than 20 sections\n",
        "print(len(instructor_20_list))\n",
        "print(type(instructor_20_list))\n",
        "print(instructor_20_list[:20])"
      ],
      "metadata": {
        "colab": {
          "base_uri": "https://localhost:8080/"
        },
        "id": "ZyoU_o1N_N8S",
        "outputId": "5794b081-dcaa-4fc1-c6c9-f6e6c48e2b74"
      },
      "execution_count": 59,
      "outputs": [
        {
          "output_type": "stream",
          "name": "stdout",
          "text": [
            "521\n",
            "<class 'list'>\n",
            "[566960.0, 496397.0, 2601912.0, 2601706.0, 319547.0, 157057.0, 663146.0, 783847.0, 2601527.0, 623858.0, 4232086.0, 309711.0, 464468.0, 1005245.0, 980056.0, 3013497.0, 412406.0, 3615604.0, 3216300.0, 2601502.0]\n"
          ]
        }
      ]
    },
    {
      "cell_type": "code",
      "source": [
        "# assign new column where 'instructor_id' is copied if instructor taught more\n",
        "# than 20 sections, and where 'other' if not\n",
        "\n",
        "df.loc[~df['instructor_id'].isin(instructor_20_list), 'instructor_id'] = 'other'"
      ],
      "metadata": {
        "id": "VtgrtQogCFx6"
      },
      "execution_count": 60,
      "outputs": []
    },
    {
      "cell_type": "code",
      "source": [
        "# check\n",
        "df['instructor_id'].sample(10)"
      ],
      "metadata": {
        "colab": {
          "base_uri": "https://localhost:8080/"
        },
        "id": "gbZPeB3lDDax",
        "outputId": "bbdcdd7f-cef3-4ddf-d3f5-d5394669c02b"
      },
      "execution_count": 61,
      "outputs": [
        {
          "output_type": "execute_result",
          "data": {
            "text/plain": [
              "40799        other\n",
              "7176     3574850.0\n",
              "56102        other\n",
              "38478     912304.0\n",
              "14285    3368498.0\n",
              "14903        other\n",
              "33122    2601762.0\n",
              "17955     818841.0\n",
              "24565        other\n",
              "1075         other\n",
              "Name: instructor_id, dtype: object"
            ]
          },
          "metadata": {},
          "execution_count": 61
        }
      ]
    },
    {
      "cell_type": "code",
      "source": [
        "# how many unique values now in 'instructor_id_250?\n",
        "df['instructor_id'].nunique()\n",
        "\n",
        "# this can be played with later to see if higher cardinality will help the model"
      ],
      "metadata": {
        "colab": {
          "base_uri": "https://localhost:8080/"
        },
        "id": "xgxgLx2RDQ0g",
        "outputId": "88845f3d-a97b-41b7-8bd9-626184597ebf"
      },
      "execution_count": 62,
      "outputs": [
        {
          "output_type": "execute_result",
          "data": {
            "text/plain": [
              "522"
            ]
          },
          "metadata": {},
          "execution_count": 62
        }
      ]
    },
    {
      "cell_type": "markdown",
      "source": [
        "### Reduce cardinality in course_name (binning):"
      ],
      "metadata": {
        "id": "qdrujAbOa4y5"
      }
    },
    {
      "cell_type": "code",
      "source": [
        "# how many unique values are in 'course_name'?\n",
        "df['course_name'].nunique()"
      ],
      "metadata": {
        "id": "1YZPoOOKa9SS",
        "colab": {
          "base_uri": "https://localhost:8080/"
        },
        "outputId": "17ab17d4-4a45-4401-b4f4-b9156eddcc4e"
      },
      "execution_count": 63,
      "outputs": [
        {
          "output_type": "execute_result",
          "data": {
            "text/plain": [
              "3771"
            ]
          },
          "metadata": {},
          "execution_count": 63
        }
      ]
    },
    {
      "cell_type": "code",
      "source": [
        "# look at value_counts\n",
        "df['course_name'].value_counts()"
      ],
      "metadata": {
        "colab": {
          "base_uri": "https://localhost:8080/"
        },
        "id": "XKv-O4fgD7Ah",
        "outputId": "abd8847d-bf04-4805-e46b-8663852aa69e"
      },
      "execution_count": 64,
      "outputs": [
        {
          "output_type": "execute_result",
          "data": {
            "text/plain": [
              "introduction to speech composition                                               997\n",
              "special topics                                                                   705\n",
              "freshman composition                                                             652\n",
              "third semester spanish                                                           463\n",
              "intermediate language practice with emphasis on writing and grammar              459\n",
              "                                                                                ... \n",
              "contemporary skill set literature in french                                        1\n",
              "elementary student teaching seminar - elementary/special education dual major      1\n",
              "seminar in electrical and computer engineering                                     1\n",
              "the history of evolutionary thought                                                1\n",
              "soccer ii                                                                          1\n",
              "Name: course_name, Length: 3771, dtype: int64"
            ]
          },
          "metadata": {},
          "execution_count": 64
        }
      ]
    },
    {
      "cell_type": "code",
      "source": [
        "# create empty list to store course_names\n",
        "course_name_20_list = []\n",
        "\n",
        "# iterate over values and counts in 'course_name'\n",
        "for value, count in df['course_name'].value_counts().items():\n",
        "  \n",
        "  # if count is more than 20 (i.e. course has been taught more than 50 times)\n",
        "  if count > 20:\n",
        "    \n",
        "    # append to list\n",
        "    course_name_20_list.append(value)\n",
        "\n",
        "# this is the number of courses that have been taught more than 20 times\n",
        "print(len(course_name_20_list))"
      ],
      "metadata": {
        "colab": {
          "base_uri": "https://localhost:8080/"
        },
        "id": "xCDd-IRaEgv5",
        "outputId": "5aa971fa-ea0c-42bf-de7e-2b2862c412af"
      },
      "execution_count": 65,
      "outputs": [
        {
          "output_type": "stream",
          "name": "stdout",
          "text": [
            "521\n"
          ]
        }
      ]
    },
    {
      "cell_type": "code",
      "source": [
        "# assign new column where 'course_name' is copied if course was taught more\n",
        "# than 20 times, and where 'other' if not\n",
        "df.loc[~df['course_name'].isin(course_name_20_list), 'course_name'] = 'other'"
      ],
      "metadata": {
        "id": "G_G26y-JFMyg"
      },
      "execution_count": 66,
      "outputs": []
    },
    {
      "cell_type": "code",
      "source": [
        "# check\n",
        "df['course_name'].sample(10)"
      ],
      "metadata": {
        "colab": {
          "base_uri": "https://localhost:8080/"
        },
        "id": "zmrirECJFrhX",
        "outputId": "51fcbb57-2d5e-4de8-8e81-0c9287b802c2"
      },
      "execution_count": 67,
      "outputs": [
        {
          "output_type": "execute_result",
          "data": {
            "text/plain": [
              "54534                             introduction to painting\n",
              "54160                                            drawing i\n",
              "1882                                        ensemble-brass\n",
              "27186                                                other\n",
              "19182                           topics in hispanic culture\n",
              "44195       advanced laboratory techniques in microbiology\n",
              "25075              introduction to international relations\n",
              "25435                            topics-finite mathematics\n",
              "15166                             strategic media planning\n",
              "20992    human resources development: educational effec...\n",
              "Name: course_name, dtype: object"
            ]
          },
          "metadata": {},
          "execution_count": 67
        }
      ]
    },
    {
      "cell_type": "code",
      "source": [
        "# how many unique values now in 'course_name'?\n",
        "df['course_name'].nunique()\n",
        "\n",
        "# this can be played with later to see if higher cardinality will help the model"
      ],
      "metadata": {
        "colab": {
          "base_uri": "https://localhost:8080/"
        },
        "id": "2nq9neaXE9fo",
        "outputId": "7b81152f-3e30-4e02-dff3-07dca71b6cdc"
      },
      "execution_count": 68,
      "outputs": [
        {
          "output_type": "execute_result",
          "data": {
            "text/plain": [
              "522"
            ]
          },
          "metadata": {},
          "execution_count": 68
        }
      ]
    },
    {
      "cell_type": "markdown",
      "source": [
        "### Drop course_offering_name and course_offering_uuid"
      ],
      "metadata": {
        "id": "2qhvDZHCIV1f"
      }
    },
    {
      "cell_type": "code",
      "source": [
        "# course_offering_name may be correlated with course_name, so we will drop it for now\n",
        "# course_offering_uuid will not predict grades, so we will drop it for now\n",
        "df.drop(columns = ['course_offering_name', 'course_offering_uuid'], inplace = True)"
      ],
      "metadata": {
        "id": "Td-HBiaMIUS3"
      },
      "execution_count": 69,
      "outputs": []
    },
    {
      "cell_type": "code",
      "source": [
        "# check\n",
        "df.columns"
      ],
      "metadata": {
        "colab": {
          "base_uri": "https://localhost:8080/"
        },
        "id": "Ogtp8txiW4SP",
        "outputId": "09debb5b-825d-4ebf-b77e-5b816ab909ca"
      },
      "execution_count": 70,
      "outputs": [
        {
          "output_type": "execute_result",
          "data": {
            "text/plain": [
              "Index(['section_uuid', 'section_type', 'section_number', 'instructor_id',\n",
              "       'facility_code', 'start_time', 'mon', 'tues', 'wed', 'thurs', 'fri',\n",
              "       'subject_name', 'course_name', 'course_and_section', 'a_proportion',\n",
              "       'f_proportion', 'avg_grade', 'year', 'term', 'class_length',\n",
              "       'total_time', 'weekend', 'course_difficulty'],\n",
              "      dtype='object')"
            ]
          },
          "metadata": {},
          "execution_count": 70
        }
      ]
    },
    {
      "cell_type": "markdown",
      "source": [
        "### section_uuid, section_number"
      ],
      "metadata": {
        "id": "xYXPNlQvWu7l"
      }
    },
    {
      "cell_type": "code",
      "source": [
        "#drop section_uuid, section_number, and grades_section_number because\n",
        "# they will not be predictive of grades\n",
        "df.drop(columns = ['section_uuid', 'section_number'], inplace = True)"
      ],
      "metadata": {
        "id": "feT2tkJ0vQG0"
      },
      "execution_count": 71,
      "outputs": []
    },
    {
      "cell_type": "code",
      "source": [
        "# check\n",
        "df.columns"
      ],
      "metadata": {
        "colab": {
          "base_uri": "https://localhost:8080/"
        },
        "id": "RrQ8RSqoXFNn",
        "outputId": "d87ebb27-8aa7-415b-a087-dcf8a536d2ae"
      },
      "execution_count": 72,
      "outputs": [
        {
          "output_type": "execute_result",
          "data": {
            "text/plain": [
              "Index(['section_type', 'instructor_id', 'facility_code', 'start_time', 'mon',\n",
              "       'tues', 'wed', 'thurs', 'fri', 'subject_name', 'course_name',\n",
              "       'course_and_section', 'a_proportion', 'f_proportion', 'avg_grade',\n",
              "       'year', 'term', 'class_length', 'total_time', 'weekend',\n",
              "       'course_difficulty'],\n",
              "      dtype='object')"
            ]
          },
          "metadata": {},
          "execution_count": 72
        }
      ]
    },
    {
      "cell_type": "markdown",
      "source": [
        "## Final checks"
      ],
      "metadata": {
        "id": "cmh6oLsMZf2g"
      }
    },
    {
      "cell_type": "code",
      "source": [
        "# check unique values and value_counts()\n",
        "for col in df.columns:\n",
        "  print(f\"{col}:\")\n",
        "  print(f\"unique values: {df[col].nunique()}\")\n",
        "  print(f\"value counts: \\n{df[col].value_counts(dropna = False)}\")\n",
        "  print()"
      ],
      "metadata": {
        "colab": {
          "base_uri": "https://localhost:8080/"
        },
        "id": "GuGGsjk2aEDw",
        "outputId": "1b69f5d7-f96b-4e9d-cb0c-6181bad654d0"
      },
      "execution_count": 73,
      "outputs": [
        {
          "output_type": "stream",
          "name": "stdout",
          "text": [
            "section_type:\n",
            "unique values: 6\n",
            "value counts: \n",
            "lec    39207\n",
            "lab     4810\n",
            "sem     2570\n",
            "ind     2113\n",
            "fld      549\n",
            "dis      242\n",
            "Name: section_type, dtype: int64\n",
            "\n",
            "instructor_id:\n",
            "unique values: 522\n",
            "value counts: \n",
            "other        32772\n",
            "566960.0       132\n",
            "496397.0       106\n",
            "2601912.0       89\n",
            "2601706.0       85\n",
            "             ...  \n",
            "537957.0        21\n",
            "475025.0        21\n",
            "367808.0        21\n",
            "172570.0        21\n",
            "4131298.0       21\n",
            "Name: instructor_id, Length: 522, dtype: int64\n",
            "\n",
            "facility_code:\n",
            "unique values: 119\n",
            "value counts: \n",
            "0482     7447\n",
            "0469     4561\n",
            "NaN      3837\n",
            "0140     3446\n",
            "0408     2532\n",
            "         ... \n",
            "0039        1\n",
            "0084b       1\n",
            "0033        1\n",
            "1400g       1\n",
            "1400e       1\n",
            "Name: facility_code, Length: 120, dtype: int64\n",
            "\n",
            "start_time:\n",
            "unique values: 118\n",
            "value counts: \n",
            " 660.0     7599\n",
            " 800.0     4392\n",
            " 595.0     4315\n",
            "-1.0       3976\n",
            " 870.0     3628\n",
            "           ... \n",
            " 925.0        1\n",
            " 665.0        1\n",
            " 1055.0       1\n",
            " 1040.0       1\n",
            " 550.0        1\n",
            "Name: start_time, Length: 118, dtype: int64\n",
            "\n",
            "mon:\n",
            "unique values: 2\n",
            "value counts: \n",
            "False    26994\n",
            "True     22497\n",
            "Name: mon, dtype: int64\n",
            "\n",
            "tues:\n",
            "unique values: 2\n",
            "value counts: \n",
            "False    27588\n",
            "True     21903\n",
            "Name: tues, dtype: int64\n",
            "\n",
            "wed:\n",
            "unique values: 2\n",
            "value counts: \n",
            "False    27614\n",
            "True     21877\n",
            "Name: wed, dtype: int64\n",
            "\n",
            "thurs:\n",
            "unique values: 2\n",
            "value counts: \n",
            "False    28450\n",
            "True     21041\n",
            "Name: thurs, dtype: int64\n",
            "\n",
            "fri:\n",
            "unique values: 2\n",
            "value counts: \n",
            "False    36937\n",
            "True     12554\n",
            "Name: fri, dtype: int64\n",
            "\n",
            "subject_name:\n",
            "unique values: 180\n",
            "value counts: \n",
            "spanish (spanish and portuguese)                 2965\n",
            "english                                          2796\n",
            "communication arts                               1907\n",
            "art department                                   1795\n",
            "mathematics                                      1746\n",
            "                                                 ... \n",
            "medical sciences - medical school                   2\n",
            "pharmacy                                            2\n",
            "animal health and biomedical sciences               2\n",
            "molecular and environmental toxicology center       1\n",
            "agroecology                                         1\n",
            "Name: subject_name, Length: 180, dtype: int64\n",
            "\n",
            "course_name:\n",
            "unique values: 522\n",
            "value counts: \n",
            "other                                 20226\n",
            "introduction to speech composition      997\n",
            "special topics                          705\n",
            "freshman composition                    652\n",
            "third semester spanish                  463\n",
            "                                      ...  \n",
            "signals and systems                      21\n",
            "electronic circuits i                    21\n",
            "principles of risk management            21\n",
            "electrodynamics i                        21\n",
            "biomedical engineering design            21\n",
            "Name: course_name, Length: 522, dtype: int64\n",
            "\n",
            "course_and_section:\n",
            "unique values: 49491\n",
            "value counts: \n",
            "cf726c33-a4b3-3bd6-8cb9-ec403ccb72cd_37.0    1\n",
            "0b31b30e-13b0-3890-8688-31721aa50dcc_5.0     1\n",
            "9efb3559-53cc-3176-adbc-d77092839e8b_1.0     1\n",
            "ddd3ca2b-7250-35b6-8c3e-e2f7f4c4ba96_3.0     1\n",
            "ddd3ca2b-7250-35b6-8c3e-e2f7f4c4ba96_4.0     1\n",
            "                                            ..\n",
            "e9ba2c66-91ac-37b0-ab85-3b53a152f16b_1.0     1\n",
            "38454dd0-9e95-3210-97cc-f367829f8420_43.0    1\n",
            "38454dd0-9e95-3210-97cc-f367829f8420_42.0    1\n",
            "38454dd0-9e95-3210-97cc-f367829f8420_5.0     1\n",
            "eac3aacc-ec57-314e-b6dd-bfa0767c72a2_1.0     1\n",
            "Name: course_and_section, Length: 49491, dtype: int64\n",
            "\n",
            "a_proportion:\n",
            "unique values: 4137\n",
            "value counts: \n",
            "1.000000    6040\n",
            "0.500000    1573\n",
            "0.333333    1100\n",
            "0.666667     883\n",
            "0.250000     737\n",
            "            ... \n",
            "0.429688       1\n",
            "0.487500       1\n",
            "0.362903       1\n",
            "0.269608       1\n",
            "0.061728       1\n",
            "Name: a_proportion, Length: 4137, dtype: int64\n",
            "\n",
            "f_proportion:\n",
            "unique values: 1308\n",
            "value counts: \n",
            "0.000000    40149\n",
            "0.050000      228\n",
            "0.045455      218\n",
            "0.052632      208\n",
            "0.055556      205\n",
            "            ...  \n",
            "0.023913        1\n",
            "0.018789        1\n",
            "0.011583        1\n",
            "0.013263        1\n",
            "0.035897        1\n",
            "Name: f_proportion, Length: 1308, dtype: int64\n",
            "\n",
            "avg_grade:\n",
            "unique values: 6955\n",
            "value counts: \n",
            "4.000000    6040\n",
            "3.500000    1278\n",
            "3.750000     789\n",
            "3.833333     553\n",
            "3.666667     545\n",
            "            ... \n",
            "3.638075       1\n",
            "3.480565       1\n",
            "2.840206       1\n",
            "3.819767       1\n",
            "3.210227       1\n",
            "Name: avg_grade, Length: 6955, dtype: int64\n",
            "\n",
            "year:\n",
            "unique values: 12\n",
            "value counts: \n",
            "07    4731\n",
            "08    4563\n",
            "11    4537\n",
            "09    4523\n",
            "10    4514\n",
            "14    4493\n",
            "13    4466\n",
            "15    4441\n",
            "16    4382\n",
            "17    4316\n",
            "12    2297\n",
            "18    2228\n",
            "Name: year, dtype: int64\n",
            "\n",
            "term:\n",
            "unique values: 2\n",
            "value counts: \n",
            "fall      27725\n",
            "spring    21766\n",
            "Name: term, dtype: int64\n",
            "\n",
            "class_length:\n",
            "unique values: 61\n",
            "value counts: \n",
            "50.0     19310\n",
            "75.0     15426\n",
            "0.0       3976\n",
            "150.0     3374\n",
            "120.0     2021\n",
            "         ...  \n",
            "340.0        1\n",
            "325.0        1\n",
            "113.0        1\n",
            "40.0         1\n",
            "520.0        1\n",
            "Name: class_length, Length: 61, dtype: int64\n",
            "\n",
            "total_time:\n",
            "unique values: 90\n",
            "value counts: \n",
            "150    25221\n",
            "100     5315\n",
            "0       3982\n",
            "200     3134\n",
            "300     1764\n",
            "       ...  \n",
            "113        1\n",
            "380        1\n",
            "650        1\n",
            "340        1\n",
            "290        1\n",
            "Name: total_time, Length: 90, dtype: int64\n",
            "\n",
            "weekend:\n",
            "unique values: 2\n",
            "value counts: \n",
            "False    49223\n",
            "True       268\n",
            "Name: weekend, dtype: int64\n",
            "\n",
            "course_difficulty:\n",
            "unique values: 3\n",
            "value counts: \n",
            "elementary      19562\n",
            "intermediate    18574\n",
            "advanced        11355\n",
            "Name: course_difficulty, dtype: int64\n",
            "\n"
          ]
        }
      ]
    },
    {
      "cell_type": "code",
      "source": [
        "# course_and_section is uniquely identifying each row, so it can be dropped\n",
        "df.drop(columns = 'course_and_section', inplace = True)"
      ],
      "metadata": {
        "id": "Cx4HSmVYdOTX"
      },
      "execution_count": 74,
      "outputs": []
    },
    {
      "cell_type": "code",
      "source": [
        "# check cardinality\n",
        "for col in df.columns:\n",
        "  print(col)\n",
        "  print(df[col].nunique())\n",
        "  print()\n",
        "\n",
        "# except for the target variables, all of the columns have a number of unique values less than 450"
      ],
      "metadata": {
        "colab": {
          "base_uri": "https://localhost:8080/"
        },
        "id": "HF8oxewvvzp9",
        "outputId": "00407531-71f7-404b-ceb8-962ae69fe30f"
      },
      "execution_count": 75,
      "outputs": [
        {
          "output_type": "stream",
          "name": "stdout",
          "text": [
            "section_type\n",
            "6\n",
            "\n",
            "instructor_id\n",
            "522\n",
            "\n",
            "facility_code\n",
            "119\n",
            "\n",
            "start_time\n",
            "118\n",
            "\n",
            "mon\n",
            "2\n",
            "\n",
            "tues\n",
            "2\n",
            "\n",
            "wed\n",
            "2\n",
            "\n",
            "thurs\n",
            "2\n",
            "\n",
            "fri\n",
            "2\n",
            "\n",
            "subject_name\n",
            "180\n",
            "\n",
            "course_name\n",
            "522\n",
            "\n",
            "a_proportion\n",
            "4137\n",
            "\n",
            "f_proportion\n",
            "1308\n",
            "\n",
            "avg_grade\n",
            "6955\n",
            "\n",
            "year\n",
            "12\n",
            "\n",
            "term\n",
            "2\n",
            "\n",
            "class_length\n",
            "61\n",
            "\n",
            "total_time\n",
            "90\n",
            "\n",
            "weekend\n",
            "2\n",
            "\n",
            "course_difficulty\n",
            "3\n",
            "\n"
          ]
        }
      ]
    },
    {
      "cell_type": "code",
      "source": [
        "df.reset_index(drop = True)"
      ],
      "metadata": {
        "colab": {
          "base_uri": "https://localhost:8080/",
          "height": 748
        },
        "id": "YFqgxztbgQfm",
        "outputId": "6b9719d1-4384-4e8e-ee98-ee131cd55588"
      },
      "execution_count": 76,
      "outputs": [
        {
          "output_type": "execute_result",
          "data": {
            "text/plain": [
              "      section_type instructor_id facility_code  start_time    mon   tues  \\\n",
              "0              lec         other           NaN        -1.0  False  False   \n",
              "1              lec         other          0545       660.0  False   True   \n",
              "2              lec         other          0545       660.0  False   True   \n",
              "3              lec         other          0545       595.0   True  False   \n",
              "4              lec         other          0545       595.0   True  False   \n",
              "...            ...           ...           ...         ...    ...    ...   \n",
              "49486          lec         other          0093       800.0   True   True   \n",
              "49487          lec         other          0093       800.0   True   True   \n",
              "49488          lec         other          0093       800.0   True   True   \n",
              "49489          lec         other          0093       800.0   True   True   \n",
              "49490          lab         other          0021       660.0   True  False   \n",
              "\n",
              "         wed  thurs    fri                  subject_name  \\\n",
              "0      False  False  False            communication arts   \n",
              "1      False   True  False            communication arts   \n",
              "2      False   True  False            communication arts   \n",
              "3       True  False   True            communication arts   \n",
              "4       True  False   True            communication arts   \n",
              "...      ...    ...    ...                           ...   \n",
              "49486  False  False   True       comparative biosciences   \n",
              "49487  False  False   True       comparative biosciences   \n",
              "49488  False  False   True       comparative biosciences   \n",
              "49489  False  False   True       comparative biosciences   \n",
              "49490   True  False  False  physical educ activity progm   \n",
              "\n",
              "                              course_name  a_proportion  f_proportion  \\\n",
              "0      introduction to speech composition      0.250000      0.000000   \n",
              "1      introduction to speech composition      0.230769      0.000000   \n",
              "2      introduction to speech composition      0.153846      0.000000   \n",
              "3      introduction to speech composition      0.500000      0.000000   \n",
              "4      introduction to speech composition      0.363636      0.000000   \n",
              "...                                   ...           ...           ...   \n",
              "49486                               other      0.111111      0.012346   \n",
              "49487                               other      0.209877      0.000000   \n",
              "49488                               other      0.261364      0.000000   \n",
              "49489                               other      0.225000      0.012500   \n",
              "49490                               other      0.611111      0.055556   \n",
              "\n",
              "       avg_grade year    term  class_length  total_time weekend  \\\n",
              "0       3.625000   15  spring           0.0           0   False   \n",
              "1       3.346154   15  spring          75.0         150   False   \n",
              "2       3.500000   15  spring          75.0         150   False   \n",
              "3       3.750000   15  spring          50.0         150   False   \n",
              "4       3.454545   15  spring          50.0         150   False   \n",
              "...          ...  ...     ...           ...         ...     ...   \n",
              "49486   3.000000   09    fall          50.0         150   False   \n",
              "49487   3.308642   11    fall          50.0         150   False   \n",
              "49488   3.210227   16    fall          50.0         150   False   \n",
              "49489   3.087500   10    fall          50.0         150   False   \n",
              "49490   3.583333   07  spring          65.0         130   False   \n",
              "\n",
              "      course_difficulty  \n",
              "0            elementary  \n",
              "1            elementary  \n",
              "2            elementary  \n",
              "3            elementary  \n",
              "4            elementary  \n",
              "...                 ...  \n",
              "49486          advanced  \n",
              "49487          advanced  \n",
              "49488          advanced  \n",
              "49489          advanced  \n",
              "49490        elementary  \n",
              "\n",
              "[49491 rows x 20 columns]"
            ],
            "text/html": [
              "\n",
              "  <div id=\"df-50755ffa-d9a2-4f1f-82de-2dc8386eb010\">\n",
              "    <div class=\"colab-df-container\">\n",
              "      <div>\n",
              "<style scoped>\n",
              "    .dataframe tbody tr th:only-of-type {\n",
              "        vertical-align: middle;\n",
              "    }\n",
              "\n",
              "    .dataframe tbody tr th {\n",
              "        vertical-align: top;\n",
              "    }\n",
              "\n",
              "    .dataframe thead th {\n",
              "        text-align: right;\n",
              "    }\n",
              "</style>\n",
              "<table border=\"1\" class=\"dataframe\">\n",
              "  <thead>\n",
              "    <tr style=\"text-align: right;\">\n",
              "      <th></th>\n",
              "      <th>section_type</th>\n",
              "      <th>instructor_id</th>\n",
              "      <th>facility_code</th>\n",
              "      <th>start_time</th>\n",
              "      <th>mon</th>\n",
              "      <th>tues</th>\n",
              "      <th>wed</th>\n",
              "      <th>thurs</th>\n",
              "      <th>fri</th>\n",
              "      <th>subject_name</th>\n",
              "      <th>course_name</th>\n",
              "      <th>a_proportion</th>\n",
              "      <th>f_proportion</th>\n",
              "      <th>avg_grade</th>\n",
              "      <th>year</th>\n",
              "      <th>term</th>\n",
              "      <th>class_length</th>\n",
              "      <th>total_time</th>\n",
              "      <th>weekend</th>\n",
              "      <th>course_difficulty</th>\n",
              "    </tr>\n",
              "  </thead>\n",
              "  <tbody>\n",
              "    <tr>\n",
              "      <th>0</th>\n",
              "      <td>lec</td>\n",
              "      <td>other</td>\n",
              "      <td>NaN</td>\n",
              "      <td>-1.0</td>\n",
              "      <td>False</td>\n",
              "      <td>False</td>\n",
              "      <td>False</td>\n",
              "      <td>False</td>\n",
              "      <td>False</td>\n",
              "      <td>communication arts</td>\n",
              "      <td>introduction to speech composition</td>\n",
              "      <td>0.250000</td>\n",
              "      <td>0.000000</td>\n",
              "      <td>3.625000</td>\n",
              "      <td>15</td>\n",
              "      <td>spring</td>\n",
              "      <td>0.0</td>\n",
              "      <td>0</td>\n",
              "      <td>False</td>\n",
              "      <td>elementary</td>\n",
              "    </tr>\n",
              "    <tr>\n",
              "      <th>1</th>\n",
              "      <td>lec</td>\n",
              "      <td>other</td>\n",
              "      <td>0545</td>\n",
              "      <td>660.0</td>\n",
              "      <td>False</td>\n",
              "      <td>True</td>\n",
              "      <td>False</td>\n",
              "      <td>True</td>\n",
              "      <td>False</td>\n",
              "      <td>communication arts</td>\n",
              "      <td>introduction to speech composition</td>\n",
              "      <td>0.230769</td>\n",
              "      <td>0.000000</td>\n",
              "      <td>3.346154</td>\n",
              "      <td>15</td>\n",
              "      <td>spring</td>\n",
              "      <td>75.0</td>\n",
              "      <td>150</td>\n",
              "      <td>False</td>\n",
              "      <td>elementary</td>\n",
              "    </tr>\n",
              "    <tr>\n",
              "      <th>2</th>\n",
              "      <td>lec</td>\n",
              "      <td>other</td>\n",
              "      <td>0545</td>\n",
              "      <td>660.0</td>\n",
              "      <td>False</td>\n",
              "      <td>True</td>\n",
              "      <td>False</td>\n",
              "      <td>True</td>\n",
              "      <td>False</td>\n",
              "      <td>communication arts</td>\n",
              "      <td>introduction to speech composition</td>\n",
              "      <td>0.153846</td>\n",
              "      <td>0.000000</td>\n",
              "      <td>3.500000</td>\n",
              "      <td>15</td>\n",
              "      <td>spring</td>\n",
              "      <td>75.0</td>\n",
              "      <td>150</td>\n",
              "      <td>False</td>\n",
              "      <td>elementary</td>\n",
              "    </tr>\n",
              "    <tr>\n",
              "      <th>3</th>\n",
              "      <td>lec</td>\n",
              "      <td>other</td>\n",
              "      <td>0545</td>\n",
              "      <td>595.0</td>\n",
              "      <td>True</td>\n",
              "      <td>False</td>\n",
              "      <td>True</td>\n",
              "      <td>False</td>\n",
              "      <td>True</td>\n",
              "      <td>communication arts</td>\n",
              "      <td>introduction to speech composition</td>\n",
              "      <td>0.500000</td>\n",
              "      <td>0.000000</td>\n",
              "      <td>3.750000</td>\n",
              "      <td>15</td>\n",
              "      <td>spring</td>\n",
              "      <td>50.0</td>\n",
              "      <td>150</td>\n",
              "      <td>False</td>\n",
              "      <td>elementary</td>\n",
              "    </tr>\n",
              "    <tr>\n",
              "      <th>4</th>\n",
              "      <td>lec</td>\n",
              "      <td>other</td>\n",
              "      <td>0545</td>\n",
              "      <td>595.0</td>\n",
              "      <td>True</td>\n",
              "      <td>False</td>\n",
              "      <td>True</td>\n",
              "      <td>False</td>\n",
              "      <td>True</td>\n",
              "      <td>communication arts</td>\n",
              "      <td>introduction to speech composition</td>\n",
              "      <td>0.363636</td>\n",
              "      <td>0.000000</td>\n",
              "      <td>3.454545</td>\n",
              "      <td>15</td>\n",
              "      <td>spring</td>\n",
              "      <td>50.0</td>\n",
              "      <td>150</td>\n",
              "      <td>False</td>\n",
              "      <td>elementary</td>\n",
              "    </tr>\n",
              "    <tr>\n",
              "      <th>...</th>\n",
              "      <td>...</td>\n",
              "      <td>...</td>\n",
              "      <td>...</td>\n",
              "      <td>...</td>\n",
              "      <td>...</td>\n",
              "      <td>...</td>\n",
              "      <td>...</td>\n",
              "      <td>...</td>\n",
              "      <td>...</td>\n",
              "      <td>...</td>\n",
              "      <td>...</td>\n",
              "      <td>...</td>\n",
              "      <td>...</td>\n",
              "      <td>...</td>\n",
              "      <td>...</td>\n",
              "      <td>...</td>\n",
              "      <td>...</td>\n",
              "      <td>...</td>\n",
              "      <td>...</td>\n",
              "      <td>...</td>\n",
              "    </tr>\n",
              "    <tr>\n",
              "      <th>49486</th>\n",
              "      <td>lec</td>\n",
              "      <td>other</td>\n",
              "      <td>0093</td>\n",
              "      <td>800.0</td>\n",
              "      <td>True</td>\n",
              "      <td>True</td>\n",
              "      <td>False</td>\n",
              "      <td>False</td>\n",
              "      <td>True</td>\n",
              "      <td>comparative biosciences</td>\n",
              "      <td>other</td>\n",
              "      <td>0.111111</td>\n",
              "      <td>0.012346</td>\n",
              "      <td>3.000000</td>\n",
              "      <td>09</td>\n",
              "      <td>fall</td>\n",
              "      <td>50.0</td>\n",
              "      <td>150</td>\n",
              "      <td>False</td>\n",
              "      <td>advanced</td>\n",
              "    </tr>\n",
              "    <tr>\n",
              "      <th>49487</th>\n",
              "      <td>lec</td>\n",
              "      <td>other</td>\n",
              "      <td>0093</td>\n",
              "      <td>800.0</td>\n",
              "      <td>True</td>\n",
              "      <td>True</td>\n",
              "      <td>False</td>\n",
              "      <td>False</td>\n",
              "      <td>True</td>\n",
              "      <td>comparative biosciences</td>\n",
              "      <td>other</td>\n",
              "      <td>0.209877</td>\n",
              "      <td>0.000000</td>\n",
              "      <td>3.308642</td>\n",
              "      <td>11</td>\n",
              "      <td>fall</td>\n",
              "      <td>50.0</td>\n",
              "      <td>150</td>\n",
              "      <td>False</td>\n",
              "      <td>advanced</td>\n",
              "    </tr>\n",
              "    <tr>\n",
              "      <th>49488</th>\n",
              "      <td>lec</td>\n",
              "      <td>other</td>\n",
              "      <td>0093</td>\n",
              "      <td>800.0</td>\n",
              "      <td>True</td>\n",
              "      <td>True</td>\n",
              "      <td>False</td>\n",
              "      <td>False</td>\n",
              "      <td>True</td>\n",
              "      <td>comparative biosciences</td>\n",
              "      <td>other</td>\n",
              "      <td>0.261364</td>\n",
              "      <td>0.000000</td>\n",
              "      <td>3.210227</td>\n",
              "      <td>16</td>\n",
              "      <td>fall</td>\n",
              "      <td>50.0</td>\n",
              "      <td>150</td>\n",
              "      <td>False</td>\n",
              "      <td>advanced</td>\n",
              "    </tr>\n",
              "    <tr>\n",
              "      <th>49489</th>\n",
              "      <td>lec</td>\n",
              "      <td>other</td>\n",
              "      <td>0093</td>\n",
              "      <td>800.0</td>\n",
              "      <td>True</td>\n",
              "      <td>True</td>\n",
              "      <td>False</td>\n",
              "      <td>False</td>\n",
              "      <td>True</td>\n",
              "      <td>comparative biosciences</td>\n",
              "      <td>other</td>\n",
              "      <td>0.225000</td>\n",
              "      <td>0.012500</td>\n",
              "      <td>3.087500</td>\n",
              "      <td>10</td>\n",
              "      <td>fall</td>\n",
              "      <td>50.0</td>\n",
              "      <td>150</td>\n",
              "      <td>False</td>\n",
              "      <td>advanced</td>\n",
              "    </tr>\n",
              "    <tr>\n",
              "      <th>49490</th>\n",
              "      <td>lab</td>\n",
              "      <td>other</td>\n",
              "      <td>0021</td>\n",
              "      <td>660.0</td>\n",
              "      <td>True</td>\n",
              "      <td>False</td>\n",
              "      <td>True</td>\n",
              "      <td>False</td>\n",
              "      <td>False</td>\n",
              "      <td>physical educ activity progm</td>\n",
              "      <td>other</td>\n",
              "      <td>0.611111</td>\n",
              "      <td>0.055556</td>\n",
              "      <td>3.583333</td>\n",
              "      <td>07</td>\n",
              "      <td>spring</td>\n",
              "      <td>65.0</td>\n",
              "      <td>130</td>\n",
              "      <td>False</td>\n",
              "      <td>elementary</td>\n",
              "    </tr>\n",
              "  </tbody>\n",
              "</table>\n",
              "<p>49491 rows × 20 columns</p>\n",
              "</div>\n",
              "      <button class=\"colab-df-convert\" onclick=\"convertToInteractive('df-50755ffa-d9a2-4f1f-82de-2dc8386eb010')\"\n",
              "              title=\"Convert this dataframe to an interactive table.\"\n",
              "              style=\"display:none;\">\n",
              "        \n",
              "  <svg xmlns=\"http://www.w3.org/2000/svg\" height=\"24px\"viewBox=\"0 0 24 24\"\n",
              "       width=\"24px\">\n",
              "    <path d=\"M0 0h24v24H0V0z\" fill=\"none\"/>\n",
              "    <path d=\"M18.56 5.44l.94 2.06.94-2.06 2.06-.94-2.06-.94-.94-2.06-.94 2.06-2.06.94zm-11 1L8.5 8.5l.94-2.06 2.06-.94-2.06-.94L8.5 2.5l-.94 2.06-2.06.94zm10 10l.94 2.06.94-2.06 2.06-.94-2.06-.94-.94-2.06-.94 2.06-2.06.94z\"/><path d=\"M17.41 7.96l-1.37-1.37c-.4-.4-.92-.59-1.43-.59-.52 0-1.04.2-1.43.59L10.3 9.45l-7.72 7.72c-.78.78-.78 2.05 0 2.83L4 21.41c.39.39.9.59 1.41.59.51 0 1.02-.2 1.41-.59l7.78-7.78 2.81-2.81c.8-.78.8-2.07 0-2.86zM5.41 20L4 18.59l7.72-7.72 1.47 1.35L5.41 20z\"/>\n",
              "  </svg>\n",
              "      </button>\n",
              "      \n",
              "  <style>\n",
              "    .colab-df-container {\n",
              "      display:flex;\n",
              "      flex-wrap:wrap;\n",
              "      gap: 12px;\n",
              "    }\n",
              "\n",
              "    .colab-df-convert {\n",
              "      background-color: #E8F0FE;\n",
              "      border: none;\n",
              "      border-radius: 50%;\n",
              "      cursor: pointer;\n",
              "      display: none;\n",
              "      fill: #1967D2;\n",
              "      height: 32px;\n",
              "      padding: 0 0 0 0;\n",
              "      width: 32px;\n",
              "    }\n",
              "\n",
              "    .colab-df-convert:hover {\n",
              "      background-color: #E2EBFA;\n",
              "      box-shadow: 0px 1px 2px rgba(60, 64, 67, 0.3), 0px 1px 3px 1px rgba(60, 64, 67, 0.15);\n",
              "      fill: #174EA6;\n",
              "    }\n",
              "\n",
              "    [theme=dark] .colab-df-convert {\n",
              "      background-color: #3B4455;\n",
              "      fill: #D2E3FC;\n",
              "    }\n",
              "\n",
              "    [theme=dark] .colab-df-convert:hover {\n",
              "      background-color: #434B5C;\n",
              "      box-shadow: 0px 1px 3px 1px rgba(0, 0, 0, 0.15);\n",
              "      filter: drop-shadow(0px 1px 2px rgba(0, 0, 0, 0.3));\n",
              "      fill: #FFFFFF;\n",
              "    }\n",
              "  </style>\n",
              "\n",
              "      <script>\n",
              "        const buttonEl =\n",
              "          document.querySelector('#df-50755ffa-d9a2-4f1f-82de-2dc8386eb010 button.colab-df-convert');\n",
              "        buttonEl.style.display =\n",
              "          google.colab.kernel.accessAllowed ? 'block' : 'none';\n",
              "\n",
              "        async function convertToInteractive(key) {\n",
              "          const element = document.querySelector('#df-50755ffa-d9a2-4f1f-82de-2dc8386eb010');\n",
              "          const dataTable =\n",
              "            await google.colab.kernel.invokeFunction('convertToInteractive',\n",
              "                                                     [key], {});\n",
              "          if (!dataTable) return;\n",
              "\n",
              "          const docLinkHtml = 'Like what you see? Visit the ' +\n",
              "            '<a target=\"_blank\" href=https://colab.research.google.com/notebooks/data_table.ipynb>data table notebook</a>'\n",
              "            + ' to learn more about interactive tables.';\n",
              "          element.innerHTML = '';\n",
              "          dataTable['output_type'] = 'display_data';\n",
              "          await google.colab.output.renderOutput(dataTable, element);\n",
              "          const docLink = document.createElement('div');\n",
              "          docLink.innerHTML = docLinkHtml;\n",
              "          element.appendChild(docLink);\n",
              "        }\n",
              "      </script>\n",
              "    </div>\n",
              "  </div>\n",
              "  "
            ]
          },
          "metadata": {},
          "execution_count": 76
        }
      ]
    },
    {
      "cell_type": "code",
      "source": [
        "df.info()"
      ],
      "metadata": {
        "colab": {
          "base_uri": "https://localhost:8080/"
        },
        "id": "vXon1nH-YTTO",
        "outputId": "18f5c0d9-4543-4124-9431-2c7aa28315cf"
      },
      "execution_count": 77,
      "outputs": [
        {
          "output_type": "stream",
          "name": "stdout",
          "text": [
            "<class 'pandas.core.frame.DataFrame'>\n",
            "Int64Index: 49491 entries, 12 to 64185\n",
            "Data columns (total 20 columns):\n",
            " #   Column             Non-Null Count  Dtype  \n",
            "---  ------             --------------  -----  \n",
            " 0   section_type       49491 non-null  object \n",
            " 1   instructor_id      49491 non-null  object \n",
            " 2   facility_code      45654 non-null  object \n",
            " 3   start_time         49491 non-null  float64\n",
            " 4   mon                49491 non-null  object \n",
            " 5   tues               49491 non-null  object \n",
            " 6   wed                49491 non-null  object \n",
            " 7   thurs              49491 non-null  object \n",
            " 8   fri                49491 non-null  object \n",
            " 9   subject_name       49491 non-null  object \n",
            " 10  course_name        49491 non-null  object \n",
            " 11  a_proportion       49491 non-null  float64\n",
            " 12  f_proportion       49491 non-null  float64\n",
            " 13  avg_grade          49491 non-null  float64\n",
            " 14  year               49491 non-null  object \n",
            " 15  term               49491 non-null  object \n",
            " 16  class_length       49491 non-null  float64\n",
            " 17  total_time         49491 non-null  int64  \n",
            " 18  weekend            49491 non-null  object \n",
            " 19  course_difficulty  49491 non-null  object \n",
            "dtypes: float64(5), int64(1), object(14)\n",
            "memory usage: 7.9+ MB\n"
          ]
        }
      ]
    },
    {
      "cell_type": "code",
      "source": [
        "df.head(10)"
      ],
      "metadata": {
        "colab": {
          "base_uri": "https://localhost:8080/",
          "height": 774
        },
        "id": "HKFFdgyuYUx7",
        "outputId": "de447d8f-752f-4b64-ca26-52c98f4ef963"
      },
      "execution_count": 78,
      "outputs": [
        {
          "output_type": "execute_result",
          "data": {
            "text/plain": [
              "   section_type instructor_id facility_code  start_time    mon   tues    wed  \\\n",
              "12          lec         other           NaN        -1.0  False  False  False   \n",
              "13          lec         other          0545       660.0  False   True  False   \n",
              "14          lec         other          0545       660.0  False   True  False   \n",
              "15          lec         other          0545       595.0   True  False   True   \n",
              "16          lec         other          0545       595.0   True  False   True   \n",
              "17          lec         other          0545       595.0   True  False   True   \n",
              "18          lec         other          0545       595.0   True  False   True   \n",
              "19          lec         other          0545       660.0   True  False   True   \n",
              "20          lec         other          0545       660.0   True  False   True   \n",
              "21          lec         other          0545       660.0   True  False   True   \n",
              "\n",
              "    thurs    fri        subject_name                         course_name  \\\n",
              "12  False  False  communication arts  introduction to speech composition   \n",
              "13   True  False  communication arts  introduction to speech composition   \n",
              "14   True  False  communication arts  introduction to speech composition   \n",
              "15  False   True  communication arts  introduction to speech composition   \n",
              "16  False   True  communication arts  introduction to speech composition   \n",
              "17  False   True  communication arts  introduction to speech composition   \n",
              "18  False   True  communication arts  introduction to speech composition   \n",
              "19  False   True  communication arts  introduction to speech composition   \n",
              "20  False   True  communication arts  introduction to speech composition   \n",
              "21  False   True  communication arts  introduction to speech composition   \n",
              "\n",
              "    a_proportion  f_proportion  avg_grade year    term  class_length  \\\n",
              "12      0.250000           0.0   3.625000   15  spring           0.0   \n",
              "13      0.230769           0.0   3.346154   15  spring          75.0   \n",
              "14      0.153846           0.0   3.500000   15  spring          75.0   \n",
              "15      0.500000           0.0   3.750000   15  spring          50.0   \n",
              "16      0.363636           0.0   3.454545   15  spring          50.0   \n",
              "17      0.333333           0.0   3.416667   15  spring          50.0   \n",
              "18      0.400000           0.0   3.550000   15  spring          50.0   \n",
              "19      0.384615           0.0   3.653846   15  spring          50.0   \n",
              "20      0.083333           0.0   3.291667   15  spring          50.0   \n",
              "21      0.333333           0.0   3.333333   15  spring          50.0   \n",
              "\n",
              "    total_time weekend course_difficulty  \n",
              "12           0   False        elementary  \n",
              "13         150   False        elementary  \n",
              "14         150   False        elementary  \n",
              "15         150   False        elementary  \n",
              "16         150   False        elementary  \n",
              "17         150   False        elementary  \n",
              "18         150   False        elementary  \n",
              "19         150   False        elementary  \n",
              "20         150   False        elementary  \n",
              "21         150   False        elementary  "
            ],
            "text/html": [
              "\n",
              "  <div id=\"df-8151975a-b1f4-4d58-ad74-18df0d098b9a\">\n",
              "    <div class=\"colab-df-container\">\n",
              "      <div>\n",
              "<style scoped>\n",
              "    .dataframe tbody tr th:only-of-type {\n",
              "        vertical-align: middle;\n",
              "    }\n",
              "\n",
              "    .dataframe tbody tr th {\n",
              "        vertical-align: top;\n",
              "    }\n",
              "\n",
              "    .dataframe thead th {\n",
              "        text-align: right;\n",
              "    }\n",
              "</style>\n",
              "<table border=\"1\" class=\"dataframe\">\n",
              "  <thead>\n",
              "    <tr style=\"text-align: right;\">\n",
              "      <th></th>\n",
              "      <th>section_type</th>\n",
              "      <th>instructor_id</th>\n",
              "      <th>facility_code</th>\n",
              "      <th>start_time</th>\n",
              "      <th>mon</th>\n",
              "      <th>tues</th>\n",
              "      <th>wed</th>\n",
              "      <th>thurs</th>\n",
              "      <th>fri</th>\n",
              "      <th>subject_name</th>\n",
              "      <th>course_name</th>\n",
              "      <th>a_proportion</th>\n",
              "      <th>f_proportion</th>\n",
              "      <th>avg_grade</th>\n",
              "      <th>year</th>\n",
              "      <th>term</th>\n",
              "      <th>class_length</th>\n",
              "      <th>total_time</th>\n",
              "      <th>weekend</th>\n",
              "      <th>course_difficulty</th>\n",
              "    </tr>\n",
              "  </thead>\n",
              "  <tbody>\n",
              "    <tr>\n",
              "      <th>12</th>\n",
              "      <td>lec</td>\n",
              "      <td>other</td>\n",
              "      <td>NaN</td>\n",
              "      <td>-1.0</td>\n",
              "      <td>False</td>\n",
              "      <td>False</td>\n",
              "      <td>False</td>\n",
              "      <td>False</td>\n",
              "      <td>False</td>\n",
              "      <td>communication arts</td>\n",
              "      <td>introduction to speech composition</td>\n",
              "      <td>0.250000</td>\n",
              "      <td>0.0</td>\n",
              "      <td>3.625000</td>\n",
              "      <td>15</td>\n",
              "      <td>spring</td>\n",
              "      <td>0.0</td>\n",
              "      <td>0</td>\n",
              "      <td>False</td>\n",
              "      <td>elementary</td>\n",
              "    </tr>\n",
              "    <tr>\n",
              "      <th>13</th>\n",
              "      <td>lec</td>\n",
              "      <td>other</td>\n",
              "      <td>0545</td>\n",
              "      <td>660.0</td>\n",
              "      <td>False</td>\n",
              "      <td>True</td>\n",
              "      <td>False</td>\n",
              "      <td>True</td>\n",
              "      <td>False</td>\n",
              "      <td>communication arts</td>\n",
              "      <td>introduction to speech composition</td>\n",
              "      <td>0.230769</td>\n",
              "      <td>0.0</td>\n",
              "      <td>3.346154</td>\n",
              "      <td>15</td>\n",
              "      <td>spring</td>\n",
              "      <td>75.0</td>\n",
              "      <td>150</td>\n",
              "      <td>False</td>\n",
              "      <td>elementary</td>\n",
              "    </tr>\n",
              "    <tr>\n",
              "      <th>14</th>\n",
              "      <td>lec</td>\n",
              "      <td>other</td>\n",
              "      <td>0545</td>\n",
              "      <td>660.0</td>\n",
              "      <td>False</td>\n",
              "      <td>True</td>\n",
              "      <td>False</td>\n",
              "      <td>True</td>\n",
              "      <td>False</td>\n",
              "      <td>communication arts</td>\n",
              "      <td>introduction to speech composition</td>\n",
              "      <td>0.153846</td>\n",
              "      <td>0.0</td>\n",
              "      <td>3.500000</td>\n",
              "      <td>15</td>\n",
              "      <td>spring</td>\n",
              "      <td>75.0</td>\n",
              "      <td>150</td>\n",
              "      <td>False</td>\n",
              "      <td>elementary</td>\n",
              "    </tr>\n",
              "    <tr>\n",
              "      <th>15</th>\n",
              "      <td>lec</td>\n",
              "      <td>other</td>\n",
              "      <td>0545</td>\n",
              "      <td>595.0</td>\n",
              "      <td>True</td>\n",
              "      <td>False</td>\n",
              "      <td>True</td>\n",
              "      <td>False</td>\n",
              "      <td>True</td>\n",
              "      <td>communication arts</td>\n",
              "      <td>introduction to speech composition</td>\n",
              "      <td>0.500000</td>\n",
              "      <td>0.0</td>\n",
              "      <td>3.750000</td>\n",
              "      <td>15</td>\n",
              "      <td>spring</td>\n",
              "      <td>50.0</td>\n",
              "      <td>150</td>\n",
              "      <td>False</td>\n",
              "      <td>elementary</td>\n",
              "    </tr>\n",
              "    <tr>\n",
              "      <th>16</th>\n",
              "      <td>lec</td>\n",
              "      <td>other</td>\n",
              "      <td>0545</td>\n",
              "      <td>595.0</td>\n",
              "      <td>True</td>\n",
              "      <td>False</td>\n",
              "      <td>True</td>\n",
              "      <td>False</td>\n",
              "      <td>True</td>\n",
              "      <td>communication arts</td>\n",
              "      <td>introduction to speech composition</td>\n",
              "      <td>0.363636</td>\n",
              "      <td>0.0</td>\n",
              "      <td>3.454545</td>\n",
              "      <td>15</td>\n",
              "      <td>spring</td>\n",
              "      <td>50.0</td>\n",
              "      <td>150</td>\n",
              "      <td>False</td>\n",
              "      <td>elementary</td>\n",
              "    </tr>\n",
              "    <tr>\n",
              "      <th>17</th>\n",
              "      <td>lec</td>\n",
              "      <td>other</td>\n",
              "      <td>0545</td>\n",
              "      <td>595.0</td>\n",
              "      <td>True</td>\n",
              "      <td>False</td>\n",
              "      <td>True</td>\n",
              "      <td>False</td>\n",
              "      <td>True</td>\n",
              "      <td>communication arts</td>\n",
              "      <td>introduction to speech composition</td>\n",
              "      <td>0.333333</td>\n",
              "      <td>0.0</td>\n",
              "      <td>3.416667</td>\n",
              "      <td>15</td>\n",
              "      <td>spring</td>\n",
              "      <td>50.0</td>\n",
              "      <td>150</td>\n",
              "      <td>False</td>\n",
              "      <td>elementary</td>\n",
              "    </tr>\n",
              "    <tr>\n",
              "      <th>18</th>\n",
              "      <td>lec</td>\n",
              "      <td>other</td>\n",
              "      <td>0545</td>\n",
              "      <td>595.0</td>\n",
              "      <td>True</td>\n",
              "      <td>False</td>\n",
              "      <td>True</td>\n",
              "      <td>False</td>\n",
              "      <td>True</td>\n",
              "      <td>communication arts</td>\n",
              "      <td>introduction to speech composition</td>\n",
              "      <td>0.400000</td>\n",
              "      <td>0.0</td>\n",
              "      <td>3.550000</td>\n",
              "      <td>15</td>\n",
              "      <td>spring</td>\n",
              "      <td>50.0</td>\n",
              "      <td>150</td>\n",
              "      <td>False</td>\n",
              "      <td>elementary</td>\n",
              "    </tr>\n",
              "    <tr>\n",
              "      <th>19</th>\n",
              "      <td>lec</td>\n",
              "      <td>other</td>\n",
              "      <td>0545</td>\n",
              "      <td>660.0</td>\n",
              "      <td>True</td>\n",
              "      <td>False</td>\n",
              "      <td>True</td>\n",
              "      <td>False</td>\n",
              "      <td>True</td>\n",
              "      <td>communication arts</td>\n",
              "      <td>introduction to speech composition</td>\n",
              "      <td>0.384615</td>\n",
              "      <td>0.0</td>\n",
              "      <td>3.653846</td>\n",
              "      <td>15</td>\n",
              "      <td>spring</td>\n",
              "      <td>50.0</td>\n",
              "      <td>150</td>\n",
              "      <td>False</td>\n",
              "      <td>elementary</td>\n",
              "    </tr>\n",
              "    <tr>\n",
              "      <th>20</th>\n",
              "      <td>lec</td>\n",
              "      <td>other</td>\n",
              "      <td>0545</td>\n",
              "      <td>660.0</td>\n",
              "      <td>True</td>\n",
              "      <td>False</td>\n",
              "      <td>True</td>\n",
              "      <td>False</td>\n",
              "      <td>True</td>\n",
              "      <td>communication arts</td>\n",
              "      <td>introduction to speech composition</td>\n",
              "      <td>0.083333</td>\n",
              "      <td>0.0</td>\n",
              "      <td>3.291667</td>\n",
              "      <td>15</td>\n",
              "      <td>spring</td>\n",
              "      <td>50.0</td>\n",
              "      <td>150</td>\n",
              "      <td>False</td>\n",
              "      <td>elementary</td>\n",
              "    </tr>\n",
              "    <tr>\n",
              "      <th>21</th>\n",
              "      <td>lec</td>\n",
              "      <td>other</td>\n",
              "      <td>0545</td>\n",
              "      <td>660.0</td>\n",
              "      <td>True</td>\n",
              "      <td>False</td>\n",
              "      <td>True</td>\n",
              "      <td>False</td>\n",
              "      <td>True</td>\n",
              "      <td>communication arts</td>\n",
              "      <td>introduction to speech composition</td>\n",
              "      <td>0.333333</td>\n",
              "      <td>0.0</td>\n",
              "      <td>3.333333</td>\n",
              "      <td>15</td>\n",
              "      <td>spring</td>\n",
              "      <td>50.0</td>\n",
              "      <td>150</td>\n",
              "      <td>False</td>\n",
              "      <td>elementary</td>\n",
              "    </tr>\n",
              "  </tbody>\n",
              "</table>\n",
              "</div>\n",
              "      <button class=\"colab-df-convert\" onclick=\"convertToInteractive('df-8151975a-b1f4-4d58-ad74-18df0d098b9a')\"\n",
              "              title=\"Convert this dataframe to an interactive table.\"\n",
              "              style=\"display:none;\">\n",
              "        \n",
              "  <svg xmlns=\"http://www.w3.org/2000/svg\" height=\"24px\"viewBox=\"0 0 24 24\"\n",
              "       width=\"24px\">\n",
              "    <path d=\"M0 0h24v24H0V0z\" fill=\"none\"/>\n",
              "    <path d=\"M18.56 5.44l.94 2.06.94-2.06 2.06-.94-2.06-.94-.94-2.06-.94 2.06-2.06.94zm-11 1L8.5 8.5l.94-2.06 2.06-.94-2.06-.94L8.5 2.5l-.94 2.06-2.06.94zm10 10l.94 2.06.94-2.06 2.06-.94-2.06-.94-.94-2.06-.94 2.06-2.06.94z\"/><path d=\"M17.41 7.96l-1.37-1.37c-.4-.4-.92-.59-1.43-.59-.52 0-1.04.2-1.43.59L10.3 9.45l-7.72 7.72c-.78.78-.78 2.05 0 2.83L4 21.41c.39.39.9.59 1.41.59.51 0 1.02-.2 1.41-.59l7.78-7.78 2.81-2.81c.8-.78.8-2.07 0-2.86zM5.41 20L4 18.59l7.72-7.72 1.47 1.35L5.41 20z\"/>\n",
              "  </svg>\n",
              "      </button>\n",
              "      \n",
              "  <style>\n",
              "    .colab-df-container {\n",
              "      display:flex;\n",
              "      flex-wrap:wrap;\n",
              "      gap: 12px;\n",
              "    }\n",
              "\n",
              "    .colab-df-convert {\n",
              "      background-color: #E8F0FE;\n",
              "      border: none;\n",
              "      border-radius: 50%;\n",
              "      cursor: pointer;\n",
              "      display: none;\n",
              "      fill: #1967D2;\n",
              "      height: 32px;\n",
              "      padding: 0 0 0 0;\n",
              "      width: 32px;\n",
              "    }\n",
              "\n",
              "    .colab-df-convert:hover {\n",
              "      background-color: #E2EBFA;\n",
              "      box-shadow: 0px 1px 2px rgba(60, 64, 67, 0.3), 0px 1px 3px 1px rgba(60, 64, 67, 0.15);\n",
              "      fill: #174EA6;\n",
              "    }\n",
              "\n",
              "    [theme=dark] .colab-df-convert {\n",
              "      background-color: #3B4455;\n",
              "      fill: #D2E3FC;\n",
              "    }\n",
              "\n",
              "    [theme=dark] .colab-df-convert:hover {\n",
              "      background-color: #434B5C;\n",
              "      box-shadow: 0px 1px 3px 1px rgba(0, 0, 0, 0.15);\n",
              "      filter: drop-shadow(0px 1px 2px rgba(0, 0, 0, 0.3));\n",
              "      fill: #FFFFFF;\n",
              "    }\n",
              "  </style>\n",
              "\n",
              "      <script>\n",
              "        const buttonEl =\n",
              "          document.querySelector('#df-8151975a-b1f4-4d58-ad74-18df0d098b9a button.colab-df-convert');\n",
              "        buttonEl.style.display =\n",
              "          google.colab.kernel.accessAllowed ? 'block' : 'none';\n",
              "\n",
              "        async function convertToInteractive(key) {\n",
              "          const element = document.querySelector('#df-8151975a-b1f4-4d58-ad74-18df0d098b9a');\n",
              "          const dataTable =\n",
              "            await google.colab.kernel.invokeFunction('convertToInteractive',\n",
              "                                                     [key], {});\n",
              "          if (!dataTable) return;\n",
              "\n",
              "          const docLinkHtml = 'Like what you see? Visit the ' +\n",
              "            '<a target=\"_blank\" href=https://colab.research.google.com/notebooks/data_table.ipynb>data table notebook</a>'\n",
              "            + ' to learn more about interactive tables.';\n",
              "          element.innerHTML = '';\n",
              "          dataTable['output_type'] = 'display_data';\n",
              "          await google.colab.output.renderOutput(dataTable, element);\n",
              "          const docLink = document.createElement('div');\n",
              "          docLink.innerHTML = docLinkHtml;\n",
              "          element.appendChild(docLink);\n",
              "        }\n",
              "      </script>\n",
              "    </div>\n",
              "  </div>\n",
              "  "
            ]
          },
          "metadata": {},
          "execution_count": 78
        }
      ]
    },
    {
      "cell_type": "markdown",
      "source": [
        "## Further refinement ideas"
      ],
      "metadata": {
        "id": "GXelJ7KPT-as"
      }
    },
    {
      "cell_type": "markdown",
      "source": [
        "There are catergories here that can potentially be grouped up into larger categories; keep this in mind to come back to and test the algorithm on (e.g. asian languages and cultures and asian languages and cultures: languages). "
      ],
      "metadata": {
        "id": "DuNJvSVqVqcW"
      }
    },
    {
      "cell_type": "markdown",
      "source": [
        "Consider some way to reduce co-linearity among days of the week columns (there is probably a pattern that many classes meet mwf or tr, and we want to minimize the effect of this pattern). "
      ],
      "metadata": {
        "id": "GUpy9n60Phn2"
      }
    },
    {
      "cell_type": "markdown",
      "source": [
        "# Final data dictionary\n",
        "\n",
        "Feature columns:\n",
        "- section_type: such as lecture, discussion, field, etc.\n",
        "- instructor_id: instructor\n",
        "- facility_code: building\n",
        "- start_time: start time of class in minutes (-1: no start time assigned)\n",
        "- mon, tues, wed, thurs, fri, weekend: if class meets on that day\n",
        "- subject_name: subject\n",
        "- year: academic year (calendar year of spring term)\n",
        "- term: fall or spring\n",
        "- course_name: same for same course across terms\n",
        "- course_difficulty: based on course numbering system\n",
        "- class_length: number of minutes between start and end time\n",
        "- total_time: number of contact minutes per week\n",
        "\n",
        "Target columns:\n",
        "- a_proportion, f_proportion: proportion (0-1) of A/F letter grades awarded (out of all letter grades awarded)\n",
        "- avg_grade: average grade on 4.0 scale counting all letter grades awarded"
      ],
      "metadata": {
        "id": "J06jHN4fguCk"
      }
    },
    {
      "cell_type": "markdown",
      "source": [
        "# Check for (and delete) unnecessary columns"
      ],
      "metadata": {
        "id": "rcgR-jus_BnW"
      }
    },
    {
      "cell_type": "code",
      "source": [
        "df.info()"
      ],
      "metadata": {
        "colab": {
          "base_uri": "https://localhost:8080/"
        },
        "id": "PC4-EJc5-_-5",
        "outputId": "b7c8c2a5-1893-49ea-90f5-d8d25b240bf5"
      },
      "execution_count": 79,
      "outputs": [
        {
          "output_type": "stream",
          "name": "stdout",
          "text": [
            "<class 'pandas.core.frame.DataFrame'>\n",
            "Int64Index: 49491 entries, 12 to 64185\n",
            "Data columns (total 20 columns):\n",
            " #   Column             Non-Null Count  Dtype  \n",
            "---  ------             --------------  -----  \n",
            " 0   section_type       49491 non-null  object \n",
            " 1   instructor_id      49491 non-null  object \n",
            " 2   facility_code      45654 non-null  object \n",
            " 3   start_time         49491 non-null  float64\n",
            " 4   mon                49491 non-null  object \n",
            " 5   tues               49491 non-null  object \n",
            " 6   wed                49491 non-null  object \n",
            " 7   thurs              49491 non-null  object \n",
            " 8   fri                49491 non-null  object \n",
            " 9   subject_name       49491 non-null  object \n",
            " 10  course_name        49491 non-null  object \n",
            " 11  a_proportion       49491 non-null  float64\n",
            " 12  f_proportion       49491 non-null  float64\n",
            " 13  avg_grade          49491 non-null  float64\n",
            " 14  year               49491 non-null  object \n",
            " 15  term               49491 non-null  object \n",
            " 16  class_length       49491 non-null  float64\n",
            " 17  total_time         49491 non-null  int64  \n",
            " 18  weekend            49491 non-null  object \n",
            " 19  course_difficulty  49491 non-null  object \n",
            "dtypes: float64(5), int64(1), object(14)\n",
            "memory usage: 7.9+ MB\n"
          ]
        }
      ]
    },
    {
      "cell_type": "markdown",
      "source": [
        "These are all potentially predictive feature columns or target columns."
      ],
      "metadata": {
        "id": "Hj7FvTXt_Wfo"
      }
    },
    {
      "cell_type": "markdown",
      "source": [
        "# Check for (and delete) duplicates"
      ],
      "metadata": {
        "id": "GdDZ5Ao7-Vqi"
      }
    },
    {
      "cell_type": "code",
      "source": [
        "# check for duplicates\n",
        "df.duplicated().sum()"
      ],
      "metadata": {
        "colab": {
          "base_uri": "https://localhost:8080/"
        },
        "id": "YbBv4tf0-jdE",
        "outputId": "47cf9154-7593-49f4-b03e-62aa86d9424f"
      },
      "execution_count": 80,
      "outputs": [
        {
          "output_type": "execute_result",
          "data": {
            "text/plain": [
              "479"
            ]
          },
          "metadata": {},
          "execution_count": 80
        }
      ]
    },
    {
      "cell_type": "code",
      "source": [
        "# drop\n",
        "df.drop_duplicates(inplace = True)"
      ],
      "metadata": {
        "id": "cHd-COc7_hvR"
      },
      "execution_count": 81,
      "outputs": []
    },
    {
      "cell_type": "code",
      "source": [
        "# check again\n",
        "df.duplicated().sum()"
      ],
      "metadata": {
        "colab": {
          "base_uri": "https://localhost:8080/"
        },
        "id": "cZje1TVQ_yUo",
        "outputId": "94f8e2f7-92d2-4075-e22e-221a274bf17a"
      },
      "execution_count": 82,
      "outputs": [
        {
          "output_type": "execute_result",
          "data": {
            "text/plain": [
              "0"
            ]
          },
          "metadata": {},
          "execution_count": 82
        }
      ]
    },
    {
      "cell_type": "markdown",
      "source": [
        "# Identify and address missing values"
      ],
      "metadata": {
        "id": "Q0kBWPsA_1DC"
      }
    },
    {
      "cell_type": "code",
      "source": [
        "df.isna().sum()"
      ],
      "metadata": {
        "colab": {
          "base_uri": "https://localhost:8080/"
        },
        "id": "X6f4IWUk_3ba",
        "outputId": "cc20926e-e4e7-4cee-98c4-4ebb7783c4c3"
      },
      "execution_count": 83,
      "outputs": [
        {
          "output_type": "execute_result",
          "data": {
            "text/plain": [
              "section_type            0\n",
              "instructor_id           0\n",
              "facility_code        3491\n",
              "start_time              0\n",
              "mon                     0\n",
              "tues                    0\n",
              "wed                     0\n",
              "thurs                   0\n",
              "fri                     0\n",
              "subject_name            0\n",
              "course_name             0\n",
              "a_proportion            0\n",
              "f_proportion            0\n",
              "avg_grade               0\n",
              "year                    0\n",
              "term                    0\n",
              "class_length            0\n",
              "total_time              0\n",
              "weekend                 0\n",
              "course_difficulty       0\n",
              "dtype: int64"
            ]
          },
          "metadata": {},
          "execution_count": 83
        }
      ]
    },
    {
      "cell_type": "markdown",
      "source": [
        "The only column missing values is 'facility_code'. This is the column that gives the building where the section was held. Missing values here could mean that the section was never assigned a classroom (i.e., that it was up to the instructor and students to arrange their own meeting place). \n",
        "\n",
        "In machine learning preprocessing, I plan to impute these missing values with the constant 'missing'. "
      ],
      "metadata": {
        "id": "OaKURmy5_5qK"
      }
    },
    {
      "cell_type": "markdown",
      "source": [
        "# Identify and correct inconsistencies in categorical values"
      ],
      "metadata": {
        "id": "3N5dHduQEMDe"
      }
    },
    {
      "cell_type": "code",
      "source": [
        "df.dtypes"
      ],
      "metadata": {
        "colab": {
          "base_uri": "https://localhost:8080/"
        },
        "id": "gHDJ55yfGJ1K",
        "outputId": "086c5927-1cbc-4112-d037-f734d8df25c2"
      },
      "execution_count": 84,
      "outputs": [
        {
          "output_type": "execute_result",
          "data": {
            "text/plain": [
              "section_type          object\n",
              "instructor_id         object\n",
              "facility_code         object\n",
              "start_time           float64\n",
              "mon                   object\n",
              "tues                  object\n",
              "wed                   object\n",
              "thurs                 object\n",
              "fri                   object\n",
              "subject_name          object\n",
              "course_name           object\n",
              "a_proportion         float64\n",
              "f_proportion         float64\n",
              "avg_grade            float64\n",
              "year                  object\n",
              "term                  object\n",
              "class_length         float64\n",
              "total_time             int64\n",
              "weekend               object\n",
              "course_difficulty     object\n",
              "dtype: object"
            ]
          },
          "metadata": {},
          "execution_count": 84
        }
      ]
    },
    {
      "cell_type": "code",
      "source": [
        "# check values in 'object' columns\n",
        "dtypes = df.dtypes\n",
        "object_dtypes = dtypes[dtypes == 'object']\n",
        "\n",
        "for column in object_dtypes.index:\n",
        "  print(column)\n",
        "  print(df[column].unique())\n",
        "  print()"
      ],
      "metadata": {
        "colab": {
          "base_uri": "https://localhost:8080/"
        },
        "id": "_Qj2GDtPER69",
        "outputId": "1cd5a5c8-7c18-4797-d377-4ce1d74ae59d"
      },
      "execution_count": 85,
      "outputs": [
        {
          "output_type": "stream",
          "name": "stdout",
          "text": [
            "section_type\n",
            "['lec' 'ind' 'lab' 'fld' 'sem' 'dis']\n",
            "\n",
            "instructor_id\n",
            "['other' 3900615.0 4275432.0 912304.0 2601642.0 2601812.0 309711.0\n",
            " 811223.0 3659559.0 3215013.0 562475.0 2600783.0 3218880.0 4387544.0\n",
            " 685141.0 267927.0 2600075.0 2602168.0 958256.0 2601082.0 3189997.0\n",
            " 2602066.0 2600729.0 2600679.0 335843.0 1112569.0 566960.0 2601820.0\n",
            " 3922122.0 3949560.0 2602076.0 3089128.0 3234517.0 3088636.0 2601022.0\n",
            " 160531.0 1265677.0 3226099.0 3555006.0 377240.0 631912.0 1581151.0\n",
            " 886751.0 3013497.0 663146.0 464468.0 714123.0 4587177.0 4162682.0\n",
            " 623858.0 135311.0 965150.0 2601878.0 2601467.0 680398.0 3560127.0\n",
            " 5099437.0 659531.0 2600239.0 342827.0 5614845.0 4942976.0 4131298.0\n",
            " 2601307.0 2601912.0 984470.0 964473.0 464620.0 4616025.0 809212.0\n",
            " 3357394.0 4197612.0 777651.0 960897.0 190420.0 2600267.0 2601068.0\n",
            " 4530799.0 4187113.0 2601161.0 2601064.0 3128595.0 2602070.0 344599.0\n",
            " 682267.0 260106.0 815179.0 747510.0 2600361.0 520440.0 810900.0 1076688.0\n",
            " 2601749.0 103165.0 3031297.0 427946.0 3555902.0 465586.0 712293.0\n",
            " 2601788.0 124092.0 2600533.0 2601244.0 3356405.0 4232086.0 2602071.0\n",
            " 2601573.0 165539.0 2600954.0 3039908.0 3357721.0 3128549.0 4678634.0\n",
            " 216391.0 505190.0 2601973.0 296378.0 2601565.0 2600407.0 3011916.0\n",
            " 4616868.0 2600197.0 795078.0 2601570.0 437312.0 3469441.0 2600456.0\n",
            " 155005.0 3574850.0 900201.0 3067688.0 4195561.0 1005245.0 2600859.0\n",
            " 860729.0 126549.0 412406.0 3218849.0 198528.0 3919940.0 249049.0\n",
            " 4391727.0 3374761.0 2600570.0 4198858.0 4232087.0 922322.0 840786.0\n",
            " 768391.0 3382514.0 201172.0 110350.0 740536.0 710039.0 783847.0 4435787.0\n",
            " 4197306.0 5104316.0 2601043.0 2600759.0 2600758.0 2601502.0 441546.0\n",
            " 2600039.0 496397.0 690601.0 3088630.0 3368498.0 235413.0 3793122.0\n",
            " 724351.0 2601181.0 2601947.0 280437.0 3673656.0 4699168.0 623712.0\n",
            " 481740.0 899785.0 318683.0 2601948.0 2602053.0 470563.0 2600559.0\n",
            " 200343.0 602374.0 2601148.0 2602137.0 422687.0 5315426.0 2600052.0\n",
            " 2600534.0 2602091.0 3615604.0 585086.0 2600403.0 423731.0 3950847.0\n",
            " 2601030.0 596560.0 550736.0 2601747.0 718608.0 239252.0 819732.0 157057.0\n",
            " 2601527.0 650044.0 321657.0 3234399.0 130429.0 3467855.0 5117944.0\n",
            " 2600861.0 1005574.0 1051439.0 446645.0 573481.0 133526.0 692771.0\n",
            " 718942.0 3398418.0 172570.0 2601715.0 433941.0 2601066.0 3088639.0\n",
            " 509760.0 556159.0 4384631.0 367808.0 4753016.0 1131238.0 4397528.0\n",
            " 2601562.0 2601616.0 2601937.0 2601758.0 475025.0 537957.0 4440791.0\n",
            " 2602124.0 3374762.0 3374868.0 4083702.0 3674862.0 2601970.0 2600822.0\n",
            " 2600921.0 264667.0 2600945.0 934395.0 2601851.0 3012375.0 4193311.0\n",
            " 2600112.0 2600232.0 2600080.0 3076440.0 5476239.0 685944.0 4841799.0\n",
            " 2601801.0 106122.0 671145.0 2600223.0 693634.0 345391.0 3949360.0\n",
            " 3179723.0 1600563.0 3029337.0 980056.0 2600282.0 3012348.0 712619.0\n",
            " 671929.0 253246.0 3474621.0 298410.0 2600624.0 2600382.0 3013586.0\n",
            " 2602190.0 2602170.0 832223.0 177229.0 2601554.0 257427.0 264222.0\n",
            " 3213517.0 4679255.0 636841.0 596820.0 315329.0 3484297.0 3784718.0\n",
            " 215332.0 3012883.0 3105692.0 3351882.0 2602103.0 2600807.0 2602077.0\n",
            " 1040405.0 2600422.0 2600258.0 2601381.0 807290.0 2600182.0 2601997.0\n",
            " 2601041.0 4189445.0 131924.0 2601882.0 2601686.0 508990.0 3148654.0\n",
            " 4458802.0 4259746.0 3471110.0 2601745.0 3233892.0 4446077.0 3756822.0\n",
            " 1633008.0 760431.0 421414.0 818841.0 225350.0 806537.0 4124270.0\n",
            " 1600979.0 3233889.0 428512.0 4931234.0 4938702.0 3088626.0 3437415.0\n",
            " 4004545.0 3039903.0 573312.0 4916562.0 2601630.0 1067939.0 2601808.0\n",
            " 393380.0 143932.0 2600056.0 3040651.0 1017545.0 3041045.0 3233885.0\n",
            " 4004540.0 4004543.0 117305.0 4396446.0 3214633.0 2601246.0 2601318.0\n",
            " 3213526.0 4616029.0 4931232.0 4004539.0 105416.0 2600937.0 4384099.0\n",
            " 2600287.0 2601900.0 710873.0 3662401.0 2601382.0 2601762.0 527820.0\n",
            " 940337.0 3437385.0 2601091.0 608997.0 1056851.0 2600133.0 4930362.0\n",
            " 3352933.0 2601810.0 202218.0 2600453.0 597345.0 838903.0 3919938.0\n",
            " 2601124.0 447664.0 880292.0 2602001.0 2602081.0 950705.0 4183452.0\n",
            " 2600598.0 3232267.0 1578027.0 3348540.0 2600628.0 304898.0 4111872.0\n",
            " 3214961.0 332957.0 2600728.0 3124415.0 498201.0 5108957.0 4539921.0\n",
            " 470031.0 325208.0 3383097.0 225453.0 2601487.0 2600607.0 4083699.0\n",
            " 3128543.0 3675595.0 4174092.0 1127599.0 140460.0 4109651.0 593987.0\n",
            " 2601129.0 246667.0 977376.0 1423372.0 654739.0 673502.0 2601863.0\n",
            " 1088502.0 2600213.0 2601053.0 368932.0 2601894.0 714165.0 3089125.0\n",
            " 565790.0 2600409.0 3116363.0 2602098.0 777854.0 4611259.0 3044764.0\n",
            " 3125250.0 2600473.0 204353.0 2600144.0 3127390.0 2601319.0 3484595.0\n",
            " 4930360.0 2601150.0 3039898.0 776613.0 728205.0 2600699.0 3216300.0\n",
            " 2601320.0 2601672.0 839802.0 3669416.0 2601605.0 271216.0 4198861.0\n",
            " 1111933.0 2601522.0 2600560.0 1591621.0 408564.0 2602196.0 3370746.0\n",
            " 302280.0 159304.0 156269.0 2601242.0 2601706.0 3011973.0 319547.0\n",
            " 4449171.0 4697060.0 999979.0 921047.0 716313.0 697108.0 526677.0 618034.0\n",
            " 590681.0 2601193.0 2600071.0 998511.0 5124092.0 3922123.0 774931.0\n",
            " 462973.0 201810.0 807999.0 4538767.0 3013999.0 904512.0 599888.0\n",
            " 2604580.0 717098.0 2600012.0 146785.0 2600644.0 366212.0 3979887.0\n",
            " 1663711.0 562884.0 2600831.0 2600609.0 2601850.0 684778.0 4841162.0\n",
            " 2600795.0 426165.0 1062990.0 350836.0 3333089.0 530937.0 2600918.0]\n",
            "\n",
            "facility_code\n",
            "[nan '0545' '1245' '1246' '0567' '0154' '0469' '0400' '0574c' '1245c'\n",
            " '1246c' '1243' '0140' '0560' '0056' '0054' '0050' '0470' '0408' '0046'\n",
            " '0048' '0084' '0047' '0055' '0057' '0482' '0070' 'online' 'off campus'\n",
            " '0074b' '0087c' '0053' '0080' '0129' '0544' '1079' '0407' '0449' '0114'\n",
            " '0485' '0085' '0118' '0031' '1480' '0155' '0044' '1400' '0402' '0404'\n",
            " '0481' '0557' '0153' '0032' '0106' '0060' '0450' '0087a' '0137' '0453'\n",
            " '0078' '0082' '0102' '0018' '0083' '0076' '0115' '0110' '0052' '0430'\n",
            " '0576' '0452' '0220' '0084b' '0034' '1400e' '1405e' '0035' '1405g' '0520'\n",
            " '0486' '1485' '0762' '0093' '1400g' '0039' '0451c' '0451b' '0468' '0011'\n",
            " '0451a' '0521' '1406k' '0205' '0204' '0508' '0479' '0033' '0156' '0506'\n",
            " '1247c' '0000' '0021' '0099' '0464' '0015' '0025' '1404k' '0403' '0503'\n",
            " '1095' '0505' '0103' '0028' '0038' '0782' '0092d' '0123' '1400k' '0116'\n",
            " '0476']\n",
            "\n",
            "mon\n",
            "[False True]\n",
            "\n",
            "tues\n",
            "[False True]\n",
            "\n",
            "wed\n",
            "[False True]\n",
            "\n",
            "thurs\n",
            "[False True]\n",
            "\n",
            "fri\n",
            "[False True]\n",
            "\n",
            "subject_name\n",
            "['communication arts' 'atmospheric and oceanic sciences' 'history'\n",
            " 'international studies' 'physics' 'sociology' 'nutritional sciences'\n",
            " 'music-performance' 'music' 'engineering professional development'\n",
            " 'interdisciplinary courses (cals)' 'theatre and drama'\n",
            " 'journalism and mass communication' 'english' 'geography' 'naval science'\n",
            " 'integrated liberal studies' 'art history'\n",
            " 'electrical and computer engineering' 'mathematics' 'dance'\n",
            " 'landscape architecture' 'interdisciplinary courses (l&s)' 'horticulture'\n",
            " 'biological systems engineering' 'scandinavian studies'\n",
            " 'consumer science' 'literature in translation' 'biochemistry'\n",
            " 'mechanical engineering' 'microbiology' 'food science' 'dairy science'\n",
            " 'east asian languages and literature' 'agronomy'\n",
            " 'forest and wildlife ecology' 'zoology' 'entomology'\n",
            " 'interdisciplinary courses (sohe)' 'genetics' 'chemistry'\n",
            " 'community and environmental sociology' 'plant pathology'\n",
            " 'italian (french and italian)'\n",
            " 'rehabilitation psychology and special education'\n",
            " 'accounting and information systems' 'languages and cultures of asia'\n",
            " 'management and human resources' 'kinesiology' 'nursing'\n",
            " 'general business' 'interdisciplinary courses (engineering)'\n",
            " 'east asian area studies' 'pharmacy practice'\n",
            " 'collaborative nursing program'\n",
            " 'languages and cultures of asia - languages' 'computer sciences'\n",
            " 'psychology' 'biomedical engineering' 'botany' 'geoscience'\n",
            " 'political science' 'human development and family studies'\n",
            " 'finance, investment and banking' 'information systems'\n",
            " 'real estate and urban land economics' 'african languages and literature'\n",
            " 'curriculum and instruction' 'biology'\n",
            " 'agricultural and applied economics' 'life sciences communication'\n",
            " 'animal sciences' 'german' 'marketing' 'religious studies'\n",
            " 'geological engineering'\n",
            " 'environmental studies - gaylord nelson institute'\n",
            " 'industrial and systems engineering'\n",
            " 'civil and environmental engineering' 'art department'\n",
            " 'library and information studies' 'engineering physics'\n",
            " 'educational leadership and policy analysis' 'population health sciences'\n",
            " 'educational psychology' 'pharmaceutical sciences'\n",
            " 'chemical and biological engineering' 'social work'\n",
            " 'engineering mechanics and astronautics' 'educational policy studies'\n",
            " 'nuclear engineering' 'counseling psychology'\n",
            " 'physician assistant program' 'design studies' 'physical therapy'\n",
            " 'surgical sciences' 'medical physics' 'physiology' 'oncology'\n",
            " 'medical sciences - veterinary medicine' 'patho-biological sciences'\n",
            " 'medical microbiology and immunology' 'anthropology' 'soil science'\n",
            " 'medicine' 'spanish (spanish and portuguese)' 'biomolecular chemistry'\n",
            " 'human oncology' 'slavic (slavic languages)' 'family medicine'\n",
            " 'communication sciences and disorders' 'legal studies'\n",
            " 'comparative biosciences' 'psychiatry' 'surgery' 'comparative literature'\n",
            " 'american indian studies' 'anatomy' 'ophthalmology and visual sciences'\n",
            " 'pathology and laboratory medicine' 'pediatrics' 'neurology'\n",
            " 'obstetrics and gynecology' 'neurological surgery' 'neuroscience'\n",
            " 'neuroscience training program' 'gender and women’s studies'\n",
            " 'biology core curriculum' 'biostatistics and medical informatics'\n",
            " 'history of science' 'social and administrative pharmacy'\n",
            " 'cell and regenerative biology' 'medical genetics' 'astronomy'\n",
            " 'medical sciences - medical school' 'afro-american studies'\n",
            " 'chicana/o and latina/o studies' 'linguistics'\n",
            " 'molecular and environmental toxicology center'\n",
            " 'operations and technology management'\n",
            " 'latin american, caribbean, and iberian studies' 'international business'\n",
            " 'jewish studies' 'agroecology' 'civil society and community studies'\n",
            " 'folklore program' 'wildlife ecology' 'materials science and engineering'\n",
            " 'integrated science' 'classics' 'french (french and italian)'\n",
            " 'philosophy' 'economics' 'statistics' 'asian american studies'\n",
            " 'greek (classics)' 'hebrew' 'portuguese (spanish and portuguese)'\n",
            " 'science and technology studies' 'risk management and insurance'\n",
            " 'actuarial science' 'latin (classics)' 'medical history and bioethics'\n",
            " 'physical educ activity progm' 'urban and regional planning'\n",
            " 'english as a second language' 'farm & industry short course'\n",
            " 'clinical laboratory science' 'air force aerospace studies'\n",
            " 'medieval studies' 'occupational therapy (department of kinesiology)'\n",
            " 'military science' 'therapeutic science (department of kinesiology)'\n",
            " 'professional orientation' 'molecular biology' 'hebrew-modern' 'law'\n",
            " 'art education (department of art)' 'pharmacy'\n",
            " 'animal health and biomedical sciences']\n",
            "\n",
            "course_name\n",
            "['introduction to speech composition' 'other' 'general physics'\n",
            " 'american society: how it really works' 'nutrition today'\n",
            " 'basic concepts of music theory' 'theatre production laboratory'\n",
            " 'directed study'\n",
            " 'history of western art ii: from renaissance to contemporary'\n",
            " 'elementary/intermediate voice'\n",
            " 'introductory experience in electrical engineering'\n",
            " 'calculus and analytic geometry 1' 'calculus and analytic geometry 2'\n",
            " 'elementary/intermediate violin' 'ensemble-brass' 'ensemble-string'\n",
            " 'consumer finance' 'in translation: the tales of hans christian andersen'\n",
            " 'independent study' 'directed studies in zoology'\n",
            " 'individuals with disabilities' 'accounting principles'\n",
            " 'topics in languages and cultures of asia' 'managing organizations'\n",
            " 'practicum in kinesiology' 'business law'\n",
            " 'social studies topics in east asian studies' 'business statistics'\n",
            " 'intermediate business statistics'\n",
            " 'transitions: practice, professional and personal'\n",
            " 'problem solving using computers' 'issues in psychology'\n",
            " 'techniques in ordinary differential equations'\n",
            " 'elementary matrix and linear algebra' 'introduction to dynamic systems'\n",
            " 'survey of japanese literature' 'contemporary topics' 'special topics'\n",
            " 'proseminar' 'coordinative internship/cooperative education'\n",
            " 'topics in political science' 'topics in religious studies - humanities'\n",
            " 'selected topics in political science'\n",
            " 'special topics: social perspectives in environmental studies'\n",
            " 'advanced voice' 'current topics in psychology'\n",
            " 'engineering design with polymers' 'electric power systems'\n",
            " 'advanced violin' 'information agencies and their environment'\n",
            " 'clinical field experience in athletic training'\n",
            " 'online searching for information professionals'\n",
            " 'special topics in nursing' 'selected topics in pharmacy practice'\n",
            " 'mechanical engineering projects i' 'topics in sociology'\n",
            " 'special topics in music'\n",
            " 'rehabilitation-counseling psychology: applications'\n",
            " 'workshop in educational leadership and policy analysis'\n",
            " 'contemporary issues in educational psychology'\n",
            " 'organization of information' 'current topics in dance: workshop'\n",
            " 'special topics in chemical engineering' 'advanced ensemble-string'\n",
            " 'contemporary practices in nursing' 'special problems'\n",
            " 'problems in educational policy'\n",
            " 'special topics in electrical and computer engineering'\n",
            " 'special topics in mechanical engineering'\n",
            " 'special topics in biomedical engineering' 'research topics'\n",
            " 'special topics in theatre and drama'\n",
            " 'special topics in counseling and guidance'\n",
            " 'capstone mentored research and seminar' 'mentored research and seminar'\n",
            " 'internship in rehabilitation or special education'\n",
            " 'reference and information service'\n",
            " 'pedagogical theory and practice for information professionals'\n",
            " 'digital tools, trends and debates' 'information services management'\n",
            " 'collection management' 'general seminar' 'selected topics in physiology'\n",
            " 'advanced or special topics in cancer research'\n",
            " 'special topics in mass communication' 'independent field work'\n",
            " 'special topics in engineering professional development'\n",
            " 'special topics in industrial engineering' 'directed creative writing'\n",
            " 'problems in clinical psychology' 'problems in human behavior'\n",
            " 'special topics in construction engineering and management'\n",
            " 'independent reading' 'independent work' 'advanced independent study'\n",
            " 'independent reading undergrad' 'directed study in research'\n",
            " 'survey of chinese literature' 'advanced assessment'\n",
            " 'topics in library and information studies' 'community health nursing'\n",
            " 'problems in developmental psychology' 'undergraduate seminar'\n",
            " 'personal and professional foundations in business'\n",
            " 'technical communication'\n",
            " 'clinical iii: community health nursing practicum'\n",
            " 'nursing care of persons and families with complex health care needs'\n",
            " 'topics in contemporary social welfare' 'introduction to art'\n",
            " 'historical studies' \"the historian's craft\"\n",
            " 'explorations in european history (h)' 'communication and human behavior'\n",
            " 'child abuse and neglect'\n",
            " 'generalist practice with communities and organizations'\n",
            " 'theme in 19th c amer lit' 'introduction to programming'\n",
            " 'topics in anatomy' 'television industries'\n",
            " 'introduction to college composition' 'intermediate algebra'\n",
            " 'intermediate composition' 'introduction to cartography'\n",
            " 'strategic media planning' 'issues in american indian studies'\n",
            " 'environmental studies major capstone' 'freshman composition'\n",
            " 'introduction to philosophy' 'introductory ethics'\n",
            " 'contemporary moral issues' 'college geometry i' 'modern algebra'\n",
            " 'analysis ii' 'algebra' 'analysis i'\n",
            " 'intermediate language practice with emphasis on writing and grammar'\n",
            " 'advanced language practice' 'topics in political philosophy'\n",
            " 'intermediate german-writing' 'advanced conversation'\n",
            " 'statistics: measurement in economics' 'classical sociological theory'\n",
            " 'game theory and economic analysis'\n",
            " 'introduction to theory and methods of mathematical statistics i'\n",
            " 'applied mathematical analysis' 'topics in spanish language practice'\n",
            " 'spanish civilization'\n",
            " 'special topics in gender, women and the humanities'\n",
            " \"capstone seminar in gender and women's studies\"\n",
            " 'topics in asian american studies' 'reason in communication'\n",
            " 'introduction to theory and methods of mathematical statistics ii'\n",
            " 'linear algebra and differential equations'\n",
            " 'introduction to spanish linguistics' 'spanish phonetics'\n",
            " 'introduction to literature of modernity' 'topics in hispanic culture'\n",
            " 'special topics in rhetoric and public address' 'special topics in film'\n",
            " 'intermediate microeconomic theory'\n",
            " 'introductory applied statistics for the life sciences'\n",
            " 'problems of american racial and ethnic minorities'\n",
            " 'introduction to literary analysis' 'survey of modern spanish literature'\n",
            " 'composition and conversation i' 'survey of spanish american literature'\n",
            " 'introduction to medieval, renaissance, and early modern literature'\n",
            " 'survey of early hispanic literature' 'intermediate german-reading'\n",
            " 'shakespeare' 'history of modern philosophy'\n",
            " 'intermediate macroeconomic theory'\n",
            " 'introduction to hispanic literatures' 'literatura hispanoamericana'\n",
            " 'first-year seminar in the social sciences'\n",
            " 'the theory of single variable calculus' 'elementary topology'\n",
            " 'introduction to hispanic cultures' 'seminar in the major'\n",
            " 'advanced composition & conversation'\n",
            " 'human resources development: educational effectiveness'\n",
            " 'topics in legal studies and the social sciences'\n",
            " 'introductory econometrics' 'consumer behavior'\n",
            " 'survey of japanese literature in translation' 'bascom course'\n",
            " 'topics in biology' 'special topics in philosophy for freshmen'\n",
            " 'first-year seminar in the humanities'\n",
            " 'introductory financial accounting' 'introductory managerial accounting'\n",
            " 'financial reporting i' 'financial reporting ii'\n",
            " 'cost management systems.' 'marketing research' 'real estate law'\n",
            " 'accounting systems' 'marketing strategy' 'fundamentals of taxation'\n",
            " 'professional communication' 'strategic management'\n",
            " 'financial statement analysis' 'science and technology newswriting'\n",
            " 'introduction to scientific communication' 'modernity studies'\n",
            " 'topics in legal studies and the humanities' 'marriage and family'\n",
            " 'stress and resilience in families across the lifespan'\n",
            " 'honors course-introduction to psychology'\n",
            " 'undergraduate topics in computing' 'structure of english' 'trigonometry'\n",
            " 'school and society' 'fourth year composition and conversation'\n",
            " 'introduction to italian literature' 'topics in german culture'\n",
            " 'introduction to data structures' 'creative campaign messages'\n",
            " 'special topics in advanced concepts and skills'\n",
            " 'introduction to agricultural and applied economics'\n",
            " 'business organizations and negotiable instruments' 'corporation finance'\n",
            " 'derivative securities' 'advanced financial reporting'\n",
            " 'strategic retailing' 'real estate finance' 'entrepreneurial management'\n",
            " 'marketing channels' 'loss models i'\n",
            " 'information technology, risk, and assurance services'\n",
            " 'corporate and advanced taxation' 'elementary logic'\n",
            " 'special topics in women and health'\n",
            " 'exploring french: intermediate-level course for entering students'\n",
            " 'international trade and finance'\n",
            " 'introduction to international relations'\n",
            " 'introduction to american politics and government'\n",
            " 'introduction to statistical methods'\n",
            " 'quantitative reasoning and problem solving' 'calculus'\n",
            " 'calculus--functions of several variables' 'topics-finite mathematics'\n",
            " 'introduction to operating systems' 'topics in archaeology'\n",
            " 'the making of modern europe 1500-1815'\n",
            " 'racial ethnic families in the u.s.' 'introduction to political theory'\n",
            " 'introductory statistics for engineers'\n",
            " 'introductory applied statistics for engineers'\n",
            " 'intermediate language and culture'\n",
            " 'introduction to medieval, renaissance, and early modern civilization'\n",
            " 'advanced composition and conversation'\n",
            " 'mathematics for teaching: geometry and measurement' 'process synthesis'\n",
            " 'introduction to programming languages and compilers'\n",
            " 'introduction to algorithms' 'general chemistry i' 'general chemistry ii'\n",
            " 'basic statistics for psychology' 'research methods'\n",
            " 'thermodynamics of mixtures' 'intermediate organic chemistry'\n",
            " 'electrodynamics i' 'principles of risk management'\n",
            " 'introduction to numerical methods' 'practicum in finite elements'\n",
            " 'special topics in transportation and city planning'\n",
            " 'electronic circuits i' 'production planning and control'\n",
            " 'signals and systems' 'special topics in statistics'\n",
            " 'introduction to acting'\n",
            " 'contemporary topics in urban and regional planning'\n",
            " 'history of ancient philosophy'\n",
            " 'mathematics for teaching: numbers and operations' 'criminology'\n",
            " 'survey of 19th and 20th century russian literature in translation i'\n",
            " 'energy' 'esl: academic writing ii' 'academic writing ii'\n",
            " 'intermediate german - speaking and listening' 'algebra and trigonometry'\n",
            " 'linear algebra' 'science and storytelling' 'design of machine elements'\n",
            " 'fluid dynamics' 'elementary latin' 'first semester norwegian'\n",
            " 'explorations in american history (h)' 'introductory organic chemistry'\n",
            " 'mechanics of materials'\n",
            " 'calculus and introduction to differential equations'\n",
            " 'introduction to artificial intelligence' 'elementary chinese'\n",
            " 'women and their bodies in health and disease'\n",
            " 'chemical process thermodynamics' 'thermal physics' 'physical chemistry'\n",
            " 'mass transfer operations' 'atomic and quantum physics'\n",
            " 'chemical kinetics and reactor design' 'wes calculus supplement'\n",
            " 'survey of the history of western music' 'mechanics'\n",
            " 'calculus with algebra and trigonometry i' 'evolution and extinction'\n",
            " 'momentum and heat transfer operations' 'elementary heat transfer'\n",
            " 'process dynamics and control' 'introduction to modern physics'\n",
            " 'dynamics' 'conducting' 'elementary japanese'\n",
            " 'problem solving in algebra, probability and statistics' 'statics'\n",
            " 'general microbiology'\n",
            " 'the biology and appreciation of companion animals'\n",
            " 'electromagnetic fields' 'thermodynamics' 'advanced general chemistry'\n",
            " 'cultural anthropology: theory and ethnography'\n",
            " 'introduction to cross-cultural literary forms' 'money and banking'\n",
            " 'introduction to chinese linguistics'\n",
            " 'behavior analysis: applications to persons with disabilities'\n",
            " 'financial markets, institutions and economic activity' 'bank management'\n",
            " 'marketing communications' 'black music and american cultural history'\n",
            " 'intro to modern american lit' 'introduction to human geography'\n",
            " 'special topics in geography' 'problems in anthropology'\n",
            " 'special topics in integrated liberal studies'\n",
            " 'special topics in production' 'capstone integration seminar'\n",
            " 'the evolving universe: stars, galaxies, and cosmology'\n",
            " 'relaxation tech & exercise' 'human language' 'basic communication'\n",
            " 'public speaking' 'technical presentations' 'international business'\n",
            " 'theory and practice of group discussion'\n",
            " 'intro to modern lit since 1900'\n",
            " 'theory and practice of argumentation and debate' 'golf i'\n",
            " 'intro to yoga practice' 'bowling i' 'musica practica 1'\n",
            " 'musica practica 3' 'introduction to afro-american history'\n",
            " 'operations management' 'cultural anthropology and human diversity'\n",
            " 'introduction to interpersonal communication'\n",
            " 'cross traing-basic fitness' 'individual leadership studies'\n",
            " 'leadership and teamwork' 'adapted fitness&pers traing'\n",
            " 'workshop in physical activity' 'theory and practice of persuasion'\n",
            " 'engineering design projects' 'introduction to martial arts'\n",
            " 'rhythmic/step aerobics' 'weight training' 'ice skating i' 'volleyball i'\n",
            " 'tennis i' 'racquetball i' 'principles of biological anthropology'\n",
            " 'human resources develop: awareness processes-cnsl&guid perspective'\n",
            " 'human resources development: career strategies'\n",
            " 'crc first-year seminar: foundations of a liberal arts education'\n",
            " 'a wisconsin experience seminar' 'simulation modeling laboratory'\n",
            " 'principles of archaeology'\n",
            " 'intermediate laboratory-mechanics and modern physics'\n",
            " 'non-western music performance-study groups' 'venture creation'\n",
            " 'residential property development' 'audit and assurance services'\n",
            " 'actuarial mathematics i' 'media and human behavior'\n",
            " 'capstone research project in microbiology'\n",
            " 'social work with ethnic and racial groups' 'foundations of officership'\n",
            " 'basic leadership' 'wes-cs group meeting'\n",
            " 'introduction to communicative disorders'\n",
            " 'generalist practice with individuals, families and groups'\n",
            " 'intermediate fiction wrkshp' 'actuarial science methods i'\n",
            " 'advanced seminar in history' 'honors seminar in psychology'\n",
            " 'topics in psychology for honors students'\n",
            " 'field practice and integrative seminar i'\n",
            " 'field practice and integrative seminar ii' 'jazz ensemble'\n",
            " 'advanced laboratory techniques in microbiology'\n",
            " 'introduction to creative writing: fiction and poetry workshop'\n",
            " 'prosem: topics in poli sci' 'legislative internship'\n",
            " 'creative writing: fiction and poetry workshop'\n",
            " 'actuarial science methods ii' 'religion in critical perspective'\n",
            " 'honors thesis colloquium' 'biology of microorganisms laboratory'\n",
            " 'geometric modeling for engineering applications'\n",
            " 'civil engineering graphics' 'first aid and basic life support'\n",
            " 'survey of contemporary media'\n",
            " 'physical therapy educcation and lifespan learning issues'\n",
            " 'genetics laboratory' 'seminar-transportation engineering'\n",
            " 'music in performance' 'transport phenomena lab'\n",
            " 'undergraduate neurobiology seminar'\n",
            " 'survey of chinese literature in translation' 'introduction to film'\n",
            " 'marketing management' 'proseminar: topics in political science'\n",
            " 'advanced laboratory' 'human resource management'\n",
            " 'fundamentals of analytical science' 'fourth semester spanish'\n",
            " 'musica practica: aural skills 4' 'ensemble: wisconsin singers'\n",
            " 'nuclear reactor laboratory' 'teaching science'\n",
            " 'creative writing: workshop' 'introductory microprocessor laboratory'\n",
            " 'food service operations lab' 'practical french conversation'\n",
            " 'first semester russian' 'first semester german' 'second semester german'\n",
            " 'second semester spanish' 'first semester spanish'\n",
            " 'second semester italian' 'second semester russian'\n",
            " 'first semester italian' 'third semester russian'\n",
            " 'second semester french' 'first semester french'\n",
            " 'theory and practice in interviewing' 'negotiations'\n",
            " 'the management of teams' 'manufacturing processes'\n",
            " 'teaching mathematics' 'optoelectronics lab' 'fluid mechanics'\n",
            " 'creative writing: fiction workshop' 'creatv wrtng:fic&poetwkshp'\n",
            " 'creatv writng:beg fict&poet' 'pilates mat i' 'african dance'\n",
            " 'topics in fencing' 'interdisciplinary experiential design projects i'\n",
            " 'colloquium in art' 'design: fundamentals i' 'hands on the universe'\n",
            " 'acting realism' 'third semester french' 'first semester portuguese'\n",
            " 'fourth semester french' 'third semester german' 'intermediate latin'\n",
            " 'italian for speakers of other romance languages'\n",
            " 'fourth semester italian' 'motor learning and performance'\n",
            " 'running (aerobic fitness)' 'tennis ii'\n",
            " 'principles and practices of reporting' 'two-dimensional design'\n",
            " 'three-dimensional design' 'color' 'intermediate drawing i' 'photography'\n",
            " 'sculpture i' 'introduction to digital forms' 'drawing i'\n",
            " 'drawing methods & concepts' 'life drawing i' 'introduction to painting'\n",
            " 'ceramics i' 'art metal i' 'relief printmaking' 'intermediate painting i'\n",
            " 'serigraphy' 'basic graphic design' 'teaching social studies'\n",
            " 'intermediate poetry workshp' 'contemporary dance technique and theory i'\n",
            " 'contemporary dance technique and theory iii'\n",
            " 'contemporary dance technique and theory iv' 'first semester hebrew'\n",
            " 'fourth semester german' 'third semester italian'\n",
            " 'second semester hebrew' 'third semester portuguese'\n",
            " 'second semester portuguese' 'first semester greek'\n",
            " 'introduction to media production'\n",
            " 'practice i: foundations of generalist practice'\n",
            " 'advanced undergraduate painting workshop'\n",
            " 'introductory organic chemistry laboratory' 'beginning class piano'\n",
            " 'voice training' 'editing and post-production for video and film'\n",
            " 'general microbiology laboratory' 'third semester spanish'\n",
            " 'legal sources' 'the field of social work' 'hydroscience'\n",
            " 'fundamentals of acting' 'social policy'\n",
            " 'introduction to contemporary afro-american society'\n",
            " 'biomechanics of human movement' 'musica practica: aural skills 1'\n",
            " 'musica practica: aural skills 2' 'musica practica: aural skills 3'\n",
            " 'biomedical engineering design']\n",
            "\n",
            "year\n",
            "['15' '13' '18' '14' '11' '10' '16' '17' '07' '08' '09' '12']\n",
            "\n",
            "term\n",
            "['spring' 'fall']\n",
            "\n",
            "weekend\n",
            "['False' 'True']\n",
            "\n",
            "course_difficulty\n",
            "['elementary' 'intermediate' 'advanced']\n",
            "\n"
          ]
        }
      ]
    },
    {
      "cell_type": "code",
      "source": [
        "# check values in numeric columns\n",
        "df.describe(include = 'number')"
      ],
      "metadata": {
        "colab": {
          "base_uri": "https://localhost:8080/",
          "height": 300
        },
        "id": "riQRf87mIb2X",
        "outputId": "80f7f570-f723-4c25-f2f2-6a8713151c02"
      },
      "execution_count": 86,
      "outputs": [
        {
          "output_type": "execute_result",
          "data": {
            "text/plain": [
              "         start_time  a_proportion  f_proportion     avg_grade  class_length  \\\n",
              "count  49012.000000  49012.000000  49012.000000  49012.000000  49012.000000   \n",
              "mean     676.647494      0.514208      0.008356      3.514628     74.034012   \n",
              "std      241.312605      0.293018      0.023905      0.374382     48.227477   \n",
              "min       -1.000000      0.000000      0.000000      0.000000      0.000000   \n",
              "25%      570.000000      0.264706      0.000000      3.264706     50.000000   \n",
              "50%      660.000000      0.461804      0.000000      3.559322     75.000000   \n",
              "75%      865.000000      0.764706      0.000000      3.833333     75.000000   \n",
              "max     1260.000000      1.000000      1.000000      4.000000    600.000000   \n",
              "\n",
              "         total_time  \n",
              "count  49012.000000  \n",
              "mean     147.119073  \n",
              "std      124.701743  \n",
              "min        0.000000  \n",
              "25%      115.000000  \n",
              "50%      150.000000  \n",
              "75%      150.000000  \n",
              "max     3000.000000  "
            ],
            "text/html": [
              "\n",
              "  <div id=\"df-bd286b47-139f-408d-929e-09150c5f0d89\">\n",
              "    <div class=\"colab-df-container\">\n",
              "      <div>\n",
              "<style scoped>\n",
              "    .dataframe tbody tr th:only-of-type {\n",
              "        vertical-align: middle;\n",
              "    }\n",
              "\n",
              "    .dataframe tbody tr th {\n",
              "        vertical-align: top;\n",
              "    }\n",
              "\n",
              "    .dataframe thead th {\n",
              "        text-align: right;\n",
              "    }\n",
              "</style>\n",
              "<table border=\"1\" class=\"dataframe\">\n",
              "  <thead>\n",
              "    <tr style=\"text-align: right;\">\n",
              "      <th></th>\n",
              "      <th>start_time</th>\n",
              "      <th>a_proportion</th>\n",
              "      <th>f_proportion</th>\n",
              "      <th>avg_grade</th>\n",
              "      <th>class_length</th>\n",
              "      <th>total_time</th>\n",
              "    </tr>\n",
              "  </thead>\n",
              "  <tbody>\n",
              "    <tr>\n",
              "      <th>count</th>\n",
              "      <td>49012.000000</td>\n",
              "      <td>49012.000000</td>\n",
              "      <td>49012.000000</td>\n",
              "      <td>49012.000000</td>\n",
              "      <td>49012.000000</td>\n",
              "      <td>49012.000000</td>\n",
              "    </tr>\n",
              "    <tr>\n",
              "      <th>mean</th>\n",
              "      <td>676.647494</td>\n",
              "      <td>0.514208</td>\n",
              "      <td>0.008356</td>\n",
              "      <td>3.514628</td>\n",
              "      <td>74.034012</td>\n",
              "      <td>147.119073</td>\n",
              "    </tr>\n",
              "    <tr>\n",
              "      <th>std</th>\n",
              "      <td>241.312605</td>\n",
              "      <td>0.293018</td>\n",
              "      <td>0.023905</td>\n",
              "      <td>0.374382</td>\n",
              "      <td>48.227477</td>\n",
              "      <td>124.701743</td>\n",
              "    </tr>\n",
              "    <tr>\n",
              "      <th>min</th>\n",
              "      <td>-1.000000</td>\n",
              "      <td>0.000000</td>\n",
              "      <td>0.000000</td>\n",
              "      <td>0.000000</td>\n",
              "      <td>0.000000</td>\n",
              "      <td>0.000000</td>\n",
              "    </tr>\n",
              "    <tr>\n",
              "      <th>25%</th>\n",
              "      <td>570.000000</td>\n",
              "      <td>0.264706</td>\n",
              "      <td>0.000000</td>\n",
              "      <td>3.264706</td>\n",
              "      <td>50.000000</td>\n",
              "      <td>115.000000</td>\n",
              "    </tr>\n",
              "    <tr>\n",
              "      <th>50%</th>\n",
              "      <td>660.000000</td>\n",
              "      <td>0.461804</td>\n",
              "      <td>0.000000</td>\n",
              "      <td>3.559322</td>\n",
              "      <td>75.000000</td>\n",
              "      <td>150.000000</td>\n",
              "    </tr>\n",
              "    <tr>\n",
              "      <th>75%</th>\n",
              "      <td>865.000000</td>\n",
              "      <td>0.764706</td>\n",
              "      <td>0.000000</td>\n",
              "      <td>3.833333</td>\n",
              "      <td>75.000000</td>\n",
              "      <td>150.000000</td>\n",
              "    </tr>\n",
              "    <tr>\n",
              "      <th>max</th>\n",
              "      <td>1260.000000</td>\n",
              "      <td>1.000000</td>\n",
              "      <td>1.000000</td>\n",
              "      <td>4.000000</td>\n",
              "      <td>600.000000</td>\n",
              "      <td>3000.000000</td>\n",
              "    </tr>\n",
              "  </tbody>\n",
              "</table>\n",
              "</div>\n",
              "      <button class=\"colab-df-convert\" onclick=\"convertToInteractive('df-bd286b47-139f-408d-929e-09150c5f0d89')\"\n",
              "              title=\"Convert this dataframe to an interactive table.\"\n",
              "              style=\"display:none;\">\n",
              "        \n",
              "  <svg xmlns=\"http://www.w3.org/2000/svg\" height=\"24px\"viewBox=\"0 0 24 24\"\n",
              "       width=\"24px\">\n",
              "    <path d=\"M0 0h24v24H0V0z\" fill=\"none\"/>\n",
              "    <path d=\"M18.56 5.44l.94 2.06.94-2.06 2.06-.94-2.06-.94-.94-2.06-.94 2.06-2.06.94zm-11 1L8.5 8.5l.94-2.06 2.06-.94-2.06-.94L8.5 2.5l-.94 2.06-2.06.94zm10 10l.94 2.06.94-2.06 2.06-.94-2.06-.94-.94-2.06-.94 2.06-2.06.94z\"/><path d=\"M17.41 7.96l-1.37-1.37c-.4-.4-.92-.59-1.43-.59-.52 0-1.04.2-1.43.59L10.3 9.45l-7.72 7.72c-.78.78-.78 2.05 0 2.83L4 21.41c.39.39.9.59 1.41.59.51 0 1.02-.2 1.41-.59l7.78-7.78 2.81-2.81c.8-.78.8-2.07 0-2.86zM5.41 20L4 18.59l7.72-7.72 1.47 1.35L5.41 20z\"/>\n",
              "  </svg>\n",
              "      </button>\n",
              "      \n",
              "  <style>\n",
              "    .colab-df-container {\n",
              "      display:flex;\n",
              "      flex-wrap:wrap;\n",
              "      gap: 12px;\n",
              "    }\n",
              "\n",
              "    .colab-df-convert {\n",
              "      background-color: #E8F0FE;\n",
              "      border: none;\n",
              "      border-radius: 50%;\n",
              "      cursor: pointer;\n",
              "      display: none;\n",
              "      fill: #1967D2;\n",
              "      height: 32px;\n",
              "      padding: 0 0 0 0;\n",
              "      width: 32px;\n",
              "    }\n",
              "\n",
              "    .colab-df-convert:hover {\n",
              "      background-color: #E2EBFA;\n",
              "      box-shadow: 0px 1px 2px rgba(60, 64, 67, 0.3), 0px 1px 3px 1px rgba(60, 64, 67, 0.15);\n",
              "      fill: #174EA6;\n",
              "    }\n",
              "\n",
              "    [theme=dark] .colab-df-convert {\n",
              "      background-color: #3B4455;\n",
              "      fill: #D2E3FC;\n",
              "    }\n",
              "\n",
              "    [theme=dark] .colab-df-convert:hover {\n",
              "      background-color: #434B5C;\n",
              "      box-shadow: 0px 1px 3px 1px rgba(0, 0, 0, 0.15);\n",
              "      filter: drop-shadow(0px 1px 2px rgba(0, 0, 0, 0.3));\n",
              "      fill: #FFFFFF;\n",
              "    }\n",
              "  </style>\n",
              "\n",
              "      <script>\n",
              "        const buttonEl =\n",
              "          document.querySelector('#df-bd286b47-139f-408d-929e-09150c5f0d89 button.colab-df-convert');\n",
              "        buttonEl.style.display =\n",
              "          google.colab.kernel.accessAllowed ? 'block' : 'none';\n",
              "\n",
              "        async function convertToInteractive(key) {\n",
              "          const element = document.querySelector('#df-bd286b47-139f-408d-929e-09150c5f0d89');\n",
              "          const dataTable =\n",
              "            await google.colab.kernel.invokeFunction('convertToInteractive',\n",
              "                                                     [key], {});\n",
              "          if (!dataTable) return;\n",
              "\n",
              "          const docLinkHtml = 'Like what you see? Visit the ' +\n",
              "            '<a target=\"_blank\" href=https://colab.research.google.com/notebooks/data_table.ipynb>data table notebook</a>'\n",
              "            + ' to learn more about interactive tables.';\n",
              "          element.innerHTML = '';\n",
              "          dataTable['output_type'] = 'display_data';\n",
              "          await google.colab.output.renderOutput(dataTable, element);\n",
              "          const docLink = document.createElement('div');\n",
              "          docLink.innerHTML = docLinkHtml;\n",
              "          element.appendChild(docLink);\n",
              "        }\n",
              "      </script>\n",
              "    </div>\n",
              "  </div>\n",
              "  "
            ]
          },
          "metadata": {},
          "execution_count": 86
        }
      ]
    },
    {
      "cell_type": "markdown",
      "source": [
        "- 'start_time':\n",
        "  - Values of -1 mean that there is no assigned start time for the course.\n",
        "  - The max start time is 1260 minutes, which is 9pm.\n",
        "\n",
        "- 'a_proportion' and 'f_proportion' are between 0 and 1.\n",
        "\n",
        "- 'avg_grade' is between 0 and 4.\n",
        "\n",
        "- 'class_length' and 'total_time':\n",
        "  - The min values are 0, which represent courses that were not assigned a meeting time/schedule.\n",
        "  - The max values are interesting. A 'class_length' value of 600 minutes (10 hours) is unusual, and a 'total_time' value of 3000 minutes (50) is also unusual. In my experience, college courses rarely (if ever) meet for 10 hours per week, much less 10 hours at a time. "
      ],
      "metadata": {
        "id": "VSalCvxVIm8v"
      }
    },
    {
      "cell_type": "code",
      "source": [
        "df[df['class_length'] == 600]"
      ],
      "metadata": {
        "colab": {
          "base_uri": "https://localhost:8080/",
          "height": 791
        },
        "id": "Sq5cHalUJtAk",
        "outputId": "fc9b3335-478e-4105-e6fd-e8a0eb02437e"
      },
      "execution_count": 87,
      "outputs": [
        {
          "output_type": "execute_result",
          "data": {
            "text/plain": [
              "      section_type instructor_id facility_code  start_time    mon   tues  \\\n",
              "11462          sem         other           NaN       480.0  False  False   \n",
              "12557          fld      685944.0    off campus       420.0   True   True   \n",
              "12558          fld      685944.0    off campus       420.0   True   True   \n",
              "12559          fld      685944.0    off campus       420.0   True   True   \n",
              "55821          fld         other    off campus       480.0   True   True   \n",
              "55822          fld         other    off campus       480.0   True   True   \n",
              "59114          fld      685944.0    off campus       420.0   True   True   \n",
              "59115          fld      685944.0    off campus       420.0   True   True   \n",
              "59124          fld      685944.0    off campus       420.0   True   True   \n",
              "59125          fld      685944.0    off campus       420.0   True   True   \n",
              "\n",
              "        wed  thurs    fri                            subject_name course_name  \\\n",
              "11462  True  False  False                   international studies       other   \n",
              "12557  True   True   True             physician assistant program       other   \n",
              "12558  True   True   True             physician assistant program       other   \n",
              "12559  True   True   True             physician assistant program       other   \n",
              "55821  True   True   True  medical sciences - veterinary medicine       other   \n",
              "55822  True   True   True  medical sciences - veterinary medicine       other   \n",
              "59114  True   True   True             physician assistant program       other   \n",
              "59115  True   True   True             physician assistant program       other   \n",
              "59124  True   True   True             physician assistant program       other   \n",
              "59125  True   True   True             physician assistant program       other   \n",
              "\n",
              "       a_proportion  f_proportion  avg_grade year    term  class_length  \\\n",
              "11462      1.000000           0.0   4.000000   11  spring         600.0   \n",
              "12557      0.875000           0.0   3.937500   10    fall         600.0   \n",
              "12558      0.857143           0.0   3.892857   11    fall         600.0   \n",
              "12559      0.545455           0.0   3.772727   11    fall         600.0   \n",
              "55821      1.000000           0.0   4.000000   17  spring         600.0   \n",
              "55822      1.000000           0.0   4.000000   16  spring         600.0   \n",
              "59114      0.928571           0.0   3.964286   10    fall         600.0   \n",
              "59115      0.833333           0.0   3.875000   11    fall         600.0   \n",
              "59124      0.833333           0.0   3.916667   10    fall         600.0   \n",
              "59125      0.916667           0.0   3.958333   11    fall         600.0   \n",
              "\n",
              "       total_time weekend course_difficulty  \n",
              "11462         600   False          advanced  \n",
              "12557        3000   False          advanced  \n",
              "12558        3000   False          advanced  \n",
              "12559        3000   False          advanced  \n",
              "55821        3000   False          advanced  \n",
              "55822        3000   False          advanced  \n",
              "59114        3000   False          advanced  \n",
              "59115        3000   False          advanced  \n",
              "59124        3000   False          advanced  \n",
              "59125        3000   False          advanced  "
            ],
            "text/html": [
              "\n",
              "  <div id=\"df-de404ea7-0e7d-48a1-a39b-97d5e86904d6\">\n",
              "    <div class=\"colab-df-container\">\n",
              "      <div>\n",
              "<style scoped>\n",
              "    .dataframe tbody tr th:only-of-type {\n",
              "        vertical-align: middle;\n",
              "    }\n",
              "\n",
              "    .dataframe tbody tr th {\n",
              "        vertical-align: top;\n",
              "    }\n",
              "\n",
              "    .dataframe thead th {\n",
              "        text-align: right;\n",
              "    }\n",
              "</style>\n",
              "<table border=\"1\" class=\"dataframe\">\n",
              "  <thead>\n",
              "    <tr style=\"text-align: right;\">\n",
              "      <th></th>\n",
              "      <th>section_type</th>\n",
              "      <th>instructor_id</th>\n",
              "      <th>facility_code</th>\n",
              "      <th>start_time</th>\n",
              "      <th>mon</th>\n",
              "      <th>tues</th>\n",
              "      <th>wed</th>\n",
              "      <th>thurs</th>\n",
              "      <th>fri</th>\n",
              "      <th>subject_name</th>\n",
              "      <th>course_name</th>\n",
              "      <th>a_proportion</th>\n",
              "      <th>f_proportion</th>\n",
              "      <th>avg_grade</th>\n",
              "      <th>year</th>\n",
              "      <th>term</th>\n",
              "      <th>class_length</th>\n",
              "      <th>total_time</th>\n",
              "      <th>weekend</th>\n",
              "      <th>course_difficulty</th>\n",
              "    </tr>\n",
              "  </thead>\n",
              "  <tbody>\n",
              "    <tr>\n",
              "      <th>11462</th>\n",
              "      <td>sem</td>\n",
              "      <td>other</td>\n",
              "      <td>NaN</td>\n",
              "      <td>480.0</td>\n",
              "      <td>False</td>\n",
              "      <td>False</td>\n",
              "      <td>True</td>\n",
              "      <td>False</td>\n",
              "      <td>False</td>\n",
              "      <td>international studies</td>\n",
              "      <td>other</td>\n",
              "      <td>1.000000</td>\n",
              "      <td>0.0</td>\n",
              "      <td>4.000000</td>\n",
              "      <td>11</td>\n",
              "      <td>spring</td>\n",
              "      <td>600.0</td>\n",
              "      <td>600</td>\n",
              "      <td>False</td>\n",
              "      <td>advanced</td>\n",
              "    </tr>\n",
              "    <tr>\n",
              "      <th>12557</th>\n",
              "      <td>fld</td>\n",
              "      <td>685944.0</td>\n",
              "      <td>off campus</td>\n",
              "      <td>420.0</td>\n",
              "      <td>True</td>\n",
              "      <td>True</td>\n",
              "      <td>True</td>\n",
              "      <td>True</td>\n",
              "      <td>True</td>\n",
              "      <td>physician assistant program</td>\n",
              "      <td>other</td>\n",
              "      <td>0.875000</td>\n",
              "      <td>0.0</td>\n",
              "      <td>3.937500</td>\n",
              "      <td>10</td>\n",
              "      <td>fall</td>\n",
              "      <td>600.0</td>\n",
              "      <td>3000</td>\n",
              "      <td>False</td>\n",
              "      <td>advanced</td>\n",
              "    </tr>\n",
              "    <tr>\n",
              "      <th>12558</th>\n",
              "      <td>fld</td>\n",
              "      <td>685944.0</td>\n",
              "      <td>off campus</td>\n",
              "      <td>420.0</td>\n",
              "      <td>True</td>\n",
              "      <td>True</td>\n",
              "      <td>True</td>\n",
              "      <td>True</td>\n",
              "      <td>True</td>\n",
              "      <td>physician assistant program</td>\n",
              "      <td>other</td>\n",
              "      <td>0.857143</td>\n",
              "      <td>0.0</td>\n",
              "      <td>3.892857</td>\n",
              "      <td>11</td>\n",
              "      <td>fall</td>\n",
              "      <td>600.0</td>\n",
              "      <td>3000</td>\n",
              "      <td>False</td>\n",
              "      <td>advanced</td>\n",
              "    </tr>\n",
              "    <tr>\n",
              "      <th>12559</th>\n",
              "      <td>fld</td>\n",
              "      <td>685944.0</td>\n",
              "      <td>off campus</td>\n",
              "      <td>420.0</td>\n",
              "      <td>True</td>\n",
              "      <td>True</td>\n",
              "      <td>True</td>\n",
              "      <td>True</td>\n",
              "      <td>True</td>\n",
              "      <td>physician assistant program</td>\n",
              "      <td>other</td>\n",
              "      <td>0.545455</td>\n",
              "      <td>0.0</td>\n",
              "      <td>3.772727</td>\n",
              "      <td>11</td>\n",
              "      <td>fall</td>\n",
              "      <td>600.0</td>\n",
              "      <td>3000</td>\n",
              "      <td>False</td>\n",
              "      <td>advanced</td>\n",
              "    </tr>\n",
              "    <tr>\n",
              "      <th>55821</th>\n",
              "      <td>fld</td>\n",
              "      <td>other</td>\n",
              "      <td>off campus</td>\n",
              "      <td>480.0</td>\n",
              "      <td>True</td>\n",
              "      <td>True</td>\n",
              "      <td>True</td>\n",
              "      <td>True</td>\n",
              "      <td>True</td>\n",
              "      <td>medical sciences - veterinary medicine</td>\n",
              "      <td>other</td>\n",
              "      <td>1.000000</td>\n",
              "      <td>0.0</td>\n",
              "      <td>4.000000</td>\n",
              "      <td>17</td>\n",
              "      <td>spring</td>\n",
              "      <td>600.0</td>\n",
              "      <td>3000</td>\n",
              "      <td>False</td>\n",
              "      <td>advanced</td>\n",
              "    </tr>\n",
              "    <tr>\n",
              "      <th>55822</th>\n",
              "      <td>fld</td>\n",
              "      <td>other</td>\n",
              "      <td>off campus</td>\n",
              "      <td>480.0</td>\n",
              "      <td>True</td>\n",
              "      <td>True</td>\n",
              "      <td>True</td>\n",
              "      <td>True</td>\n",
              "      <td>True</td>\n",
              "      <td>medical sciences - veterinary medicine</td>\n",
              "      <td>other</td>\n",
              "      <td>1.000000</td>\n",
              "      <td>0.0</td>\n",
              "      <td>4.000000</td>\n",
              "      <td>16</td>\n",
              "      <td>spring</td>\n",
              "      <td>600.0</td>\n",
              "      <td>3000</td>\n",
              "      <td>False</td>\n",
              "      <td>advanced</td>\n",
              "    </tr>\n",
              "    <tr>\n",
              "      <th>59114</th>\n",
              "      <td>fld</td>\n",
              "      <td>685944.0</td>\n",
              "      <td>off campus</td>\n",
              "      <td>420.0</td>\n",
              "      <td>True</td>\n",
              "      <td>True</td>\n",
              "      <td>True</td>\n",
              "      <td>True</td>\n",
              "      <td>True</td>\n",
              "      <td>physician assistant program</td>\n",
              "      <td>other</td>\n",
              "      <td>0.928571</td>\n",
              "      <td>0.0</td>\n",
              "      <td>3.964286</td>\n",
              "      <td>10</td>\n",
              "      <td>fall</td>\n",
              "      <td>600.0</td>\n",
              "      <td>3000</td>\n",
              "      <td>False</td>\n",
              "      <td>advanced</td>\n",
              "    </tr>\n",
              "    <tr>\n",
              "      <th>59115</th>\n",
              "      <td>fld</td>\n",
              "      <td>685944.0</td>\n",
              "      <td>off campus</td>\n",
              "      <td>420.0</td>\n",
              "      <td>True</td>\n",
              "      <td>True</td>\n",
              "      <td>True</td>\n",
              "      <td>True</td>\n",
              "      <td>True</td>\n",
              "      <td>physician assistant program</td>\n",
              "      <td>other</td>\n",
              "      <td>0.833333</td>\n",
              "      <td>0.0</td>\n",
              "      <td>3.875000</td>\n",
              "      <td>11</td>\n",
              "      <td>fall</td>\n",
              "      <td>600.0</td>\n",
              "      <td>3000</td>\n",
              "      <td>False</td>\n",
              "      <td>advanced</td>\n",
              "    </tr>\n",
              "    <tr>\n",
              "      <th>59124</th>\n",
              "      <td>fld</td>\n",
              "      <td>685944.0</td>\n",
              "      <td>off campus</td>\n",
              "      <td>420.0</td>\n",
              "      <td>True</td>\n",
              "      <td>True</td>\n",
              "      <td>True</td>\n",
              "      <td>True</td>\n",
              "      <td>True</td>\n",
              "      <td>physician assistant program</td>\n",
              "      <td>other</td>\n",
              "      <td>0.833333</td>\n",
              "      <td>0.0</td>\n",
              "      <td>3.916667</td>\n",
              "      <td>10</td>\n",
              "      <td>fall</td>\n",
              "      <td>600.0</td>\n",
              "      <td>3000</td>\n",
              "      <td>False</td>\n",
              "      <td>advanced</td>\n",
              "    </tr>\n",
              "    <tr>\n",
              "      <th>59125</th>\n",
              "      <td>fld</td>\n",
              "      <td>685944.0</td>\n",
              "      <td>off campus</td>\n",
              "      <td>420.0</td>\n",
              "      <td>True</td>\n",
              "      <td>True</td>\n",
              "      <td>True</td>\n",
              "      <td>True</td>\n",
              "      <td>True</td>\n",
              "      <td>physician assistant program</td>\n",
              "      <td>other</td>\n",
              "      <td>0.916667</td>\n",
              "      <td>0.0</td>\n",
              "      <td>3.958333</td>\n",
              "      <td>11</td>\n",
              "      <td>fall</td>\n",
              "      <td>600.0</td>\n",
              "      <td>3000</td>\n",
              "      <td>False</td>\n",
              "      <td>advanced</td>\n",
              "    </tr>\n",
              "  </tbody>\n",
              "</table>\n",
              "</div>\n",
              "      <button class=\"colab-df-convert\" onclick=\"convertToInteractive('df-de404ea7-0e7d-48a1-a39b-97d5e86904d6')\"\n",
              "              title=\"Convert this dataframe to an interactive table.\"\n",
              "              style=\"display:none;\">\n",
              "        \n",
              "  <svg xmlns=\"http://www.w3.org/2000/svg\" height=\"24px\"viewBox=\"0 0 24 24\"\n",
              "       width=\"24px\">\n",
              "    <path d=\"M0 0h24v24H0V0z\" fill=\"none\"/>\n",
              "    <path d=\"M18.56 5.44l.94 2.06.94-2.06 2.06-.94-2.06-.94-.94-2.06-.94 2.06-2.06.94zm-11 1L8.5 8.5l.94-2.06 2.06-.94-2.06-.94L8.5 2.5l-.94 2.06-2.06.94zm10 10l.94 2.06.94-2.06 2.06-.94-2.06-.94-.94-2.06-.94 2.06-2.06.94z\"/><path d=\"M17.41 7.96l-1.37-1.37c-.4-.4-.92-.59-1.43-.59-.52 0-1.04.2-1.43.59L10.3 9.45l-7.72 7.72c-.78.78-.78 2.05 0 2.83L4 21.41c.39.39.9.59 1.41.59.51 0 1.02-.2 1.41-.59l7.78-7.78 2.81-2.81c.8-.78.8-2.07 0-2.86zM5.41 20L4 18.59l7.72-7.72 1.47 1.35L5.41 20z\"/>\n",
              "  </svg>\n",
              "      </button>\n",
              "      \n",
              "  <style>\n",
              "    .colab-df-container {\n",
              "      display:flex;\n",
              "      flex-wrap:wrap;\n",
              "      gap: 12px;\n",
              "    }\n",
              "\n",
              "    .colab-df-convert {\n",
              "      background-color: #E8F0FE;\n",
              "      border: none;\n",
              "      border-radius: 50%;\n",
              "      cursor: pointer;\n",
              "      display: none;\n",
              "      fill: #1967D2;\n",
              "      height: 32px;\n",
              "      padding: 0 0 0 0;\n",
              "      width: 32px;\n",
              "    }\n",
              "\n",
              "    .colab-df-convert:hover {\n",
              "      background-color: #E2EBFA;\n",
              "      box-shadow: 0px 1px 2px rgba(60, 64, 67, 0.3), 0px 1px 3px 1px rgba(60, 64, 67, 0.15);\n",
              "      fill: #174EA6;\n",
              "    }\n",
              "\n",
              "    [theme=dark] .colab-df-convert {\n",
              "      background-color: #3B4455;\n",
              "      fill: #D2E3FC;\n",
              "    }\n",
              "\n",
              "    [theme=dark] .colab-df-convert:hover {\n",
              "      background-color: #434B5C;\n",
              "      box-shadow: 0px 1px 3px 1px rgba(0, 0, 0, 0.15);\n",
              "      filter: drop-shadow(0px 1px 2px rgba(0, 0, 0, 0.3));\n",
              "      fill: #FFFFFF;\n",
              "    }\n",
              "  </style>\n",
              "\n",
              "      <script>\n",
              "        const buttonEl =\n",
              "          document.querySelector('#df-de404ea7-0e7d-48a1-a39b-97d5e86904d6 button.colab-df-convert');\n",
              "        buttonEl.style.display =\n",
              "          google.colab.kernel.accessAllowed ? 'block' : 'none';\n",
              "\n",
              "        async function convertToInteractive(key) {\n",
              "          const element = document.querySelector('#df-de404ea7-0e7d-48a1-a39b-97d5e86904d6');\n",
              "          const dataTable =\n",
              "            await google.colab.kernel.invokeFunction('convertToInteractive',\n",
              "                                                     [key], {});\n",
              "          if (!dataTable) return;\n",
              "\n",
              "          const docLinkHtml = 'Like what you see? Visit the ' +\n",
              "            '<a target=\"_blank\" href=https://colab.research.google.com/notebooks/data_table.ipynb>data table notebook</a>'\n",
              "            + ' to learn more about interactive tables.';\n",
              "          element.innerHTML = '';\n",
              "          dataTable['output_type'] = 'display_data';\n",
              "          await google.colab.output.renderOutput(dataTable, element);\n",
              "          const docLink = document.createElement('div');\n",
              "          docLink.innerHTML = docLinkHtml;\n",
              "          element.appendChild(docLink);\n",
              "        }\n",
              "      </script>\n",
              "    </div>\n",
              "  </div>\n",
              "  "
            ]
          },
          "metadata": {},
          "execution_count": 87
        }
      ]
    },
    {
      "cell_type": "code",
      "source": [
        "df[df['total_time'] == 3000]"
      ],
      "metadata": {
        "colab": {
          "base_uri": "https://localhost:8080/",
          "height": 742
        },
        "id": "4xRVUmmOJ9fW",
        "outputId": "5464108b-9b2f-431f-c64a-f7b8862ef0a2"
      },
      "execution_count": 88,
      "outputs": [
        {
          "output_type": "execute_result",
          "data": {
            "text/plain": [
              "      section_type instructor_id facility_code  start_time   mon  tues   wed  \\\n",
              "12557          fld      685944.0    off campus       420.0  True  True  True   \n",
              "12558          fld      685944.0    off campus       420.0  True  True  True   \n",
              "12559          fld      685944.0    off campus       420.0  True  True  True   \n",
              "55821          fld         other    off campus       480.0  True  True  True   \n",
              "55822          fld         other    off campus       480.0  True  True  True   \n",
              "59114          fld      685944.0    off campus       420.0  True  True  True   \n",
              "59115          fld      685944.0    off campus       420.0  True  True  True   \n",
              "59124          fld      685944.0    off campus       420.0  True  True  True   \n",
              "59125          fld      685944.0    off campus       420.0  True  True  True   \n",
              "\n",
              "      thurs   fri                            subject_name course_name  \\\n",
              "12557  True  True             physician assistant program       other   \n",
              "12558  True  True             physician assistant program       other   \n",
              "12559  True  True             physician assistant program       other   \n",
              "55821  True  True  medical sciences - veterinary medicine       other   \n",
              "55822  True  True  medical sciences - veterinary medicine       other   \n",
              "59114  True  True             physician assistant program       other   \n",
              "59115  True  True             physician assistant program       other   \n",
              "59124  True  True             physician assistant program       other   \n",
              "59125  True  True             physician assistant program       other   \n",
              "\n",
              "       a_proportion  f_proportion  avg_grade year    term  class_length  \\\n",
              "12557      0.875000           0.0   3.937500   10    fall         600.0   \n",
              "12558      0.857143           0.0   3.892857   11    fall         600.0   \n",
              "12559      0.545455           0.0   3.772727   11    fall         600.0   \n",
              "55821      1.000000           0.0   4.000000   17  spring         600.0   \n",
              "55822      1.000000           0.0   4.000000   16  spring         600.0   \n",
              "59114      0.928571           0.0   3.964286   10    fall         600.0   \n",
              "59115      0.833333           0.0   3.875000   11    fall         600.0   \n",
              "59124      0.833333           0.0   3.916667   10    fall         600.0   \n",
              "59125      0.916667           0.0   3.958333   11    fall         600.0   \n",
              "\n",
              "       total_time weekend course_difficulty  \n",
              "12557        3000   False          advanced  \n",
              "12558        3000   False          advanced  \n",
              "12559        3000   False          advanced  \n",
              "55821        3000   False          advanced  \n",
              "55822        3000   False          advanced  \n",
              "59114        3000   False          advanced  \n",
              "59115        3000   False          advanced  \n",
              "59124        3000   False          advanced  \n",
              "59125        3000   False          advanced  "
            ],
            "text/html": [
              "\n",
              "  <div id=\"df-538dcb4e-9a4a-4ed0-94e4-6e73ba6cfbeb\">\n",
              "    <div class=\"colab-df-container\">\n",
              "      <div>\n",
              "<style scoped>\n",
              "    .dataframe tbody tr th:only-of-type {\n",
              "        vertical-align: middle;\n",
              "    }\n",
              "\n",
              "    .dataframe tbody tr th {\n",
              "        vertical-align: top;\n",
              "    }\n",
              "\n",
              "    .dataframe thead th {\n",
              "        text-align: right;\n",
              "    }\n",
              "</style>\n",
              "<table border=\"1\" class=\"dataframe\">\n",
              "  <thead>\n",
              "    <tr style=\"text-align: right;\">\n",
              "      <th></th>\n",
              "      <th>section_type</th>\n",
              "      <th>instructor_id</th>\n",
              "      <th>facility_code</th>\n",
              "      <th>start_time</th>\n",
              "      <th>mon</th>\n",
              "      <th>tues</th>\n",
              "      <th>wed</th>\n",
              "      <th>thurs</th>\n",
              "      <th>fri</th>\n",
              "      <th>subject_name</th>\n",
              "      <th>course_name</th>\n",
              "      <th>a_proportion</th>\n",
              "      <th>f_proportion</th>\n",
              "      <th>avg_grade</th>\n",
              "      <th>year</th>\n",
              "      <th>term</th>\n",
              "      <th>class_length</th>\n",
              "      <th>total_time</th>\n",
              "      <th>weekend</th>\n",
              "      <th>course_difficulty</th>\n",
              "    </tr>\n",
              "  </thead>\n",
              "  <tbody>\n",
              "    <tr>\n",
              "      <th>12557</th>\n",
              "      <td>fld</td>\n",
              "      <td>685944.0</td>\n",
              "      <td>off campus</td>\n",
              "      <td>420.0</td>\n",
              "      <td>True</td>\n",
              "      <td>True</td>\n",
              "      <td>True</td>\n",
              "      <td>True</td>\n",
              "      <td>True</td>\n",
              "      <td>physician assistant program</td>\n",
              "      <td>other</td>\n",
              "      <td>0.875000</td>\n",
              "      <td>0.0</td>\n",
              "      <td>3.937500</td>\n",
              "      <td>10</td>\n",
              "      <td>fall</td>\n",
              "      <td>600.0</td>\n",
              "      <td>3000</td>\n",
              "      <td>False</td>\n",
              "      <td>advanced</td>\n",
              "    </tr>\n",
              "    <tr>\n",
              "      <th>12558</th>\n",
              "      <td>fld</td>\n",
              "      <td>685944.0</td>\n",
              "      <td>off campus</td>\n",
              "      <td>420.0</td>\n",
              "      <td>True</td>\n",
              "      <td>True</td>\n",
              "      <td>True</td>\n",
              "      <td>True</td>\n",
              "      <td>True</td>\n",
              "      <td>physician assistant program</td>\n",
              "      <td>other</td>\n",
              "      <td>0.857143</td>\n",
              "      <td>0.0</td>\n",
              "      <td>3.892857</td>\n",
              "      <td>11</td>\n",
              "      <td>fall</td>\n",
              "      <td>600.0</td>\n",
              "      <td>3000</td>\n",
              "      <td>False</td>\n",
              "      <td>advanced</td>\n",
              "    </tr>\n",
              "    <tr>\n",
              "      <th>12559</th>\n",
              "      <td>fld</td>\n",
              "      <td>685944.0</td>\n",
              "      <td>off campus</td>\n",
              "      <td>420.0</td>\n",
              "      <td>True</td>\n",
              "      <td>True</td>\n",
              "      <td>True</td>\n",
              "      <td>True</td>\n",
              "      <td>True</td>\n",
              "      <td>physician assistant program</td>\n",
              "      <td>other</td>\n",
              "      <td>0.545455</td>\n",
              "      <td>0.0</td>\n",
              "      <td>3.772727</td>\n",
              "      <td>11</td>\n",
              "      <td>fall</td>\n",
              "      <td>600.0</td>\n",
              "      <td>3000</td>\n",
              "      <td>False</td>\n",
              "      <td>advanced</td>\n",
              "    </tr>\n",
              "    <tr>\n",
              "      <th>55821</th>\n",
              "      <td>fld</td>\n",
              "      <td>other</td>\n",
              "      <td>off campus</td>\n",
              "      <td>480.0</td>\n",
              "      <td>True</td>\n",
              "      <td>True</td>\n",
              "      <td>True</td>\n",
              "      <td>True</td>\n",
              "      <td>True</td>\n",
              "      <td>medical sciences - veterinary medicine</td>\n",
              "      <td>other</td>\n",
              "      <td>1.000000</td>\n",
              "      <td>0.0</td>\n",
              "      <td>4.000000</td>\n",
              "      <td>17</td>\n",
              "      <td>spring</td>\n",
              "      <td>600.0</td>\n",
              "      <td>3000</td>\n",
              "      <td>False</td>\n",
              "      <td>advanced</td>\n",
              "    </tr>\n",
              "    <tr>\n",
              "      <th>55822</th>\n",
              "      <td>fld</td>\n",
              "      <td>other</td>\n",
              "      <td>off campus</td>\n",
              "      <td>480.0</td>\n",
              "      <td>True</td>\n",
              "      <td>True</td>\n",
              "      <td>True</td>\n",
              "      <td>True</td>\n",
              "      <td>True</td>\n",
              "      <td>medical sciences - veterinary medicine</td>\n",
              "      <td>other</td>\n",
              "      <td>1.000000</td>\n",
              "      <td>0.0</td>\n",
              "      <td>4.000000</td>\n",
              "      <td>16</td>\n",
              "      <td>spring</td>\n",
              "      <td>600.0</td>\n",
              "      <td>3000</td>\n",
              "      <td>False</td>\n",
              "      <td>advanced</td>\n",
              "    </tr>\n",
              "    <tr>\n",
              "      <th>59114</th>\n",
              "      <td>fld</td>\n",
              "      <td>685944.0</td>\n",
              "      <td>off campus</td>\n",
              "      <td>420.0</td>\n",
              "      <td>True</td>\n",
              "      <td>True</td>\n",
              "      <td>True</td>\n",
              "      <td>True</td>\n",
              "      <td>True</td>\n",
              "      <td>physician assistant program</td>\n",
              "      <td>other</td>\n",
              "      <td>0.928571</td>\n",
              "      <td>0.0</td>\n",
              "      <td>3.964286</td>\n",
              "      <td>10</td>\n",
              "      <td>fall</td>\n",
              "      <td>600.0</td>\n",
              "      <td>3000</td>\n",
              "      <td>False</td>\n",
              "      <td>advanced</td>\n",
              "    </tr>\n",
              "    <tr>\n",
              "      <th>59115</th>\n",
              "      <td>fld</td>\n",
              "      <td>685944.0</td>\n",
              "      <td>off campus</td>\n",
              "      <td>420.0</td>\n",
              "      <td>True</td>\n",
              "      <td>True</td>\n",
              "      <td>True</td>\n",
              "      <td>True</td>\n",
              "      <td>True</td>\n",
              "      <td>physician assistant program</td>\n",
              "      <td>other</td>\n",
              "      <td>0.833333</td>\n",
              "      <td>0.0</td>\n",
              "      <td>3.875000</td>\n",
              "      <td>11</td>\n",
              "      <td>fall</td>\n",
              "      <td>600.0</td>\n",
              "      <td>3000</td>\n",
              "      <td>False</td>\n",
              "      <td>advanced</td>\n",
              "    </tr>\n",
              "    <tr>\n",
              "      <th>59124</th>\n",
              "      <td>fld</td>\n",
              "      <td>685944.0</td>\n",
              "      <td>off campus</td>\n",
              "      <td>420.0</td>\n",
              "      <td>True</td>\n",
              "      <td>True</td>\n",
              "      <td>True</td>\n",
              "      <td>True</td>\n",
              "      <td>True</td>\n",
              "      <td>physician assistant program</td>\n",
              "      <td>other</td>\n",
              "      <td>0.833333</td>\n",
              "      <td>0.0</td>\n",
              "      <td>3.916667</td>\n",
              "      <td>10</td>\n",
              "      <td>fall</td>\n",
              "      <td>600.0</td>\n",
              "      <td>3000</td>\n",
              "      <td>False</td>\n",
              "      <td>advanced</td>\n",
              "    </tr>\n",
              "    <tr>\n",
              "      <th>59125</th>\n",
              "      <td>fld</td>\n",
              "      <td>685944.0</td>\n",
              "      <td>off campus</td>\n",
              "      <td>420.0</td>\n",
              "      <td>True</td>\n",
              "      <td>True</td>\n",
              "      <td>True</td>\n",
              "      <td>True</td>\n",
              "      <td>True</td>\n",
              "      <td>physician assistant program</td>\n",
              "      <td>other</td>\n",
              "      <td>0.916667</td>\n",
              "      <td>0.0</td>\n",
              "      <td>3.958333</td>\n",
              "      <td>11</td>\n",
              "      <td>fall</td>\n",
              "      <td>600.0</td>\n",
              "      <td>3000</td>\n",
              "      <td>False</td>\n",
              "      <td>advanced</td>\n",
              "    </tr>\n",
              "  </tbody>\n",
              "</table>\n",
              "</div>\n",
              "      <button class=\"colab-df-convert\" onclick=\"convertToInteractive('df-538dcb4e-9a4a-4ed0-94e4-6e73ba6cfbeb')\"\n",
              "              title=\"Convert this dataframe to an interactive table.\"\n",
              "              style=\"display:none;\">\n",
              "        \n",
              "  <svg xmlns=\"http://www.w3.org/2000/svg\" height=\"24px\"viewBox=\"0 0 24 24\"\n",
              "       width=\"24px\">\n",
              "    <path d=\"M0 0h24v24H0V0z\" fill=\"none\"/>\n",
              "    <path d=\"M18.56 5.44l.94 2.06.94-2.06 2.06-.94-2.06-.94-.94-2.06-.94 2.06-2.06.94zm-11 1L8.5 8.5l.94-2.06 2.06-.94-2.06-.94L8.5 2.5l-.94 2.06-2.06.94zm10 10l.94 2.06.94-2.06 2.06-.94-2.06-.94-.94-2.06-.94 2.06-2.06.94z\"/><path d=\"M17.41 7.96l-1.37-1.37c-.4-.4-.92-.59-1.43-.59-.52 0-1.04.2-1.43.59L10.3 9.45l-7.72 7.72c-.78.78-.78 2.05 0 2.83L4 21.41c.39.39.9.59 1.41.59.51 0 1.02-.2 1.41-.59l7.78-7.78 2.81-2.81c.8-.78.8-2.07 0-2.86zM5.41 20L4 18.59l7.72-7.72 1.47 1.35L5.41 20z\"/>\n",
              "  </svg>\n",
              "      </button>\n",
              "      \n",
              "  <style>\n",
              "    .colab-df-container {\n",
              "      display:flex;\n",
              "      flex-wrap:wrap;\n",
              "      gap: 12px;\n",
              "    }\n",
              "\n",
              "    .colab-df-convert {\n",
              "      background-color: #E8F0FE;\n",
              "      border: none;\n",
              "      border-radius: 50%;\n",
              "      cursor: pointer;\n",
              "      display: none;\n",
              "      fill: #1967D2;\n",
              "      height: 32px;\n",
              "      padding: 0 0 0 0;\n",
              "      width: 32px;\n",
              "    }\n",
              "\n",
              "    .colab-df-convert:hover {\n",
              "      background-color: #E2EBFA;\n",
              "      box-shadow: 0px 1px 2px rgba(60, 64, 67, 0.3), 0px 1px 3px 1px rgba(60, 64, 67, 0.15);\n",
              "      fill: #174EA6;\n",
              "    }\n",
              "\n",
              "    [theme=dark] .colab-df-convert {\n",
              "      background-color: #3B4455;\n",
              "      fill: #D2E3FC;\n",
              "    }\n",
              "\n",
              "    [theme=dark] .colab-df-convert:hover {\n",
              "      background-color: #434B5C;\n",
              "      box-shadow: 0px 1px 3px 1px rgba(0, 0, 0, 0.15);\n",
              "      filter: drop-shadow(0px 1px 2px rgba(0, 0, 0, 0.3));\n",
              "      fill: #FFFFFF;\n",
              "    }\n",
              "  </style>\n",
              "\n",
              "      <script>\n",
              "        const buttonEl =\n",
              "          document.querySelector('#df-538dcb4e-9a4a-4ed0-94e4-6e73ba6cfbeb button.colab-df-convert');\n",
              "        buttonEl.style.display =\n",
              "          google.colab.kernel.accessAllowed ? 'block' : 'none';\n",
              "\n",
              "        async function convertToInteractive(key) {\n",
              "          const element = document.querySelector('#df-538dcb4e-9a4a-4ed0-94e4-6e73ba6cfbeb');\n",
              "          const dataTable =\n",
              "            await google.colab.kernel.invokeFunction('convertToInteractive',\n",
              "                                                     [key], {});\n",
              "          if (!dataTable) return;\n",
              "\n",
              "          const docLinkHtml = 'Like what you see? Visit the ' +\n",
              "            '<a target=\"_blank\" href=https://colab.research.google.com/notebooks/data_table.ipynb>data table notebook</a>'\n",
              "            + ' to learn more about interactive tables.';\n",
              "          element.innerHTML = '';\n",
              "          dataTable['output_type'] = 'display_data';\n",
              "          await google.colab.output.renderOutput(dataTable, element);\n",
              "          const docLink = document.createElement('div');\n",
              "          docLink.innerHTML = docLinkHtml;\n",
              "          element.appendChild(docLink);\n",
              "        }\n",
              "      </script>\n",
              "    </div>\n",
              "  </div>\n",
              "  "
            ]
          },
          "metadata": {},
          "execution_count": 88
        }
      ]
    },
    {
      "cell_type": "markdown",
      "source": [
        "It looks like all of the courses with 600 minutes as their 'class_length' and 3000 minutes (600 * 5) as their 'total_time' are the same courses. They are all at the advanced level and are either 'field' classes. Based on their course names, I expect these are internship-like courses, where the student is expected to block off the entire workweek for the course and intern in an off-campus location for credit. This seems plausible, so I will keep these values.\n",
        "\n",
        "The course that isn't a 'field' course is the seminar in international studies that meets for 600 minutes on one day of the week. This seems very unusual, but without any more information about it, I will keep it. "
      ],
      "metadata": {
        "id": "2Jblq_4WJ8rg"
      }
    },
    {
      "cell_type": "markdown",
      "source": [
        "# Univariate Visualizations and Outliers"
      ],
      "metadata": {
        "id": "DIpk6_I_pKVU"
      }
    },
    {
      "cell_type": "markdown",
      "source": [
        "## Target"
      ],
      "metadata": {
        "id": "885yxGoGpV_u"
      }
    },
    {
      "cell_type": "code",
      "source": [
        "import matplotlib.pyplot as plt"
      ],
      "metadata": {
        "id": "Bx_dCvjOKKdh"
      },
      "execution_count": 89,
      "outputs": []
    },
    {
      "cell_type": "code",
      "source": [
        "# three target variables\n",
        "# make histograms and boxplots\n",
        "\n",
        "targets = ['a_proportion', 'f_proportion', 'avg_grade']\n",
        "\n",
        "for col in targets:\n",
        "  col_name = col\n",
        "  plot = sns.histplot(data = df, y = col)\n",
        "  plot.set_title(col_name)\n",
        "  plt.show()\n",
        "  print('\\n\\n')"
      ],
      "metadata": {
        "colab": {
          "base_uri": "https://localhost:8080/",
          "height": 1000
        },
        "id": "sn6bqrSxHqxD",
        "outputId": "c00d7580-59a5-4f4f-eb75-47ea19324134"
      },
      "execution_count": 90,
      "outputs": [
        {
          "output_type": "display_data",
          "data": {
            "text/plain": [
              "<Figure size 640x480 with 1 Axes>"
            ],
            "image/png": "[encoded data removed]"
          },
          "metadata": {}
        },
        {
          "output_type": "stream",
          "name": "stdout",
          "text": [
            "\n",
            "\n",
            "\n"
          ]
        },
        {
          "output_type": "display_data",
          "data": {
            "text/plain": [
              "<Figure size 640x480 with 1 Axes>"
            ],
            "image/png": "[encoded data removed]"
          },
          "metadata": {}
        },
        {
          "output_type": "stream",
          "name": "stdout",
          "text": [
            "\n",
            "\n",
            "\n"
          ]
        },
        {
          "output_type": "display_data",
          "data": {
            "text/plain": [
              "<Figure size 640x480 with 1 Axes>"
            ],
            "image/png": "[encoded data removed]"
          },
          "metadata": {}
        },
        {
          "output_type": "stream",
          "name": "stdout",
          "text": [
            "\n",
            "\n",
            "\n"
          ]
        }
      ]
    },
    {
      "cell_type": "markdown",
      "source": [
        "There is a very interesting distribution of As and Fs. The number of courses that have an a_proportion of 1, meaning that all students who received a letter grtade in that section received an A, is extremely high. This tells me that it may be difficult to predict it, since there may not be enough variation in the distribution to predict. It would be interesting to see if taking out the As would result in predicting more of the grade variation between B and F. \n",
        "\n",
        "The f_distribution shows what we would expect with the a_proportion, that since there are a lot of sections with an a_proportion of 1, there are equally as many sections with an f_proportion of 0. Again, taking Fs out to see if we can predict the remaining grade variation better would be interesting. \n",
        "\n",
        "The avg_grade, which is on a 4.0 grade-point scale, is skewed toward 4.0 with the number of sections with all As. It tapers down more or less until about a 2.25, after which there are not enough courses in those bins to see on the plot. A 2.0 is a C, which in my experience is the grade requirement to receive credit for a course (for a variety of reasons, such as it being a course in a major/minor). Although a D grade usually gives credit, there are many grade requirements that require a C. Given this information, it is interesting to see that a vast majority of courses have an average grade of above a 2.0, and definitely above a 1.0, meaning that the majority of students usually pass a course. "
      ],
      "metadata": {
        "id": "mWQU9YmoXsUK"
      }
    },
    {
      "cell_type": "code",
      "source": [
        "# boxplots for target variables to see outliers\n",
        "\n",
        "targets = ['a_proportion', 'f_proportion', 'avg_grade']\n",
        "\n",
        "for col in targets:\n",
        "  col_name = col\n",
        "  plot = sns.boxplot(data = df, y = col)\n",
        "  plot.set_title(col_name)\n",
        "  plt.show()\n",
        "  print('\\n\\n')"
      ],
      "metadata": {
        "colab": {
          "base_uri": "https://localhost:8080/",
          "height": 1000
        },
        "id": "wFu6dIITfhXm",
        "outputId": "b034a8bd-88d6-48b5-d483-14ce5fea6d08"
      },
      "execution_count": 91,
      "outputs": [
        {
          "output_type": "display_data",
          "data": {
            "text/plain": [
              "<Figure size 640x480 with 1 Axes>"
            ],
            "image/png": "[encoded data removed]"
          },
          "metadata": {}
        },
        {
          "output_type": "stream",
          "name": "stdout",
          "text": [
            "\n",
            "\n",
            "\n"
          ]
        },
        {
          "output_type": "display_data",
          "data": {
            "text/plain": [
              "<Figure size 640x480 with 1 Axes>"
            ],
            "image/png": "[encoded data removed]"
          },
          "metadata": {}
        },
        {
          "output_type": "stream",
          "name": "stdout",
          "text": [
            "\n",
            "\n",
            "\n"
          ]
        },
        {
          "output_type": "display_data",
          "data": {
            "text/plain": [
              "<Figure size 640x480 with 1 Axes>"
            ],
            "image/png": "[encoded data removed]"
          },
          "metadata": {}
        },
        {
          "output_type": "stream",
          "name": "stdout",
          "text": [
            "\n",
            "\n",
            "\n"
          ]
        }
      ]
    },
    {
      "cell_type": "markdown",
      "source": [
        "The a_proportion boxplot shows us that most of the sections are centered around a median close to 0.5, meaning that out of all letter grades awarded, about have were As. \n",
        "\n",
        "The f_proportion boxplot shows us that by far most courses did not have any meaningful percentage of Fs, and the outlier course with the highest proportion of Fs had about 10% of the section awarded an F grade. \n",
        "\n",
        "The average grade boxplot shows us that most sections had a very high average grade, and only 20% of courses had an average grade of below about 2.5. There are several outlier sections with lower average grades, and one outlier section with an average grade of 0.0, which is an F."
      ],
      "metadata": {
        "id": "vB3g_fGugmlm"
      }
    },
    {
      "cell_type": "code",
      "source": [
        "df[df['avg_grade'] == 0]"
      ],
      "metadata": {
        "colab": {
          "base_uri": "https://localhost:8080/",
          "height": 179
        },
        "id": "pZNu39iKhe-u",
        "outputId": "5ece11f2-ebe5-407f-e266-2b98131929c9"
      },
      "execution_count": 92,
      "outputs": [
        {
          "output_type": "execute_result",
          "data": {
            "text/plain": [
              "      section_type instructor_id facility_code  start_time    mon   tues  \\\n",
              "39484          lab     2601912.0          0028       560.0  False  False   \n",
              "\n",
              "         wed  thurs   fri                  subject_name  \\\n",
              "39484  False  False  True  physical educ activity progm   \n",
              "\n",
              "                       course_name  a_proportion  f_proportion  avg_grade  \\\n",
              "39484  adapted fitness&pers traing           0.0           1.0        0.0   \n",
              "\n",
              "      year  term  class_length  total_time weekend course_difficulty  \n",
              "39484   08  fall         100.0         100   False        elementary  "
            ],
            "text/html": [
              "\n",
              "  <div id=\"df-2e592458-4f96-46fc-8421-c807c8221722\">\n",
              "    <div class=\"colab-df-container\">\n",
              "      <div>\n",
              "<style scoped>\n",
              "    .dataframe tbody tr th:only-of-type {\n",
              "        vertical-align: middle;\n",
              "    }\n",
              "\n",
              "    .dataframe tbody tr th {\n",
              "        vertical-align: top;\n",
              "    }\n",
              "\n",
              "    .dataframe thead th {\n",
              "        text-align: right;\n",
              "    }\n",
              "</style>\n",
              "<table border=\"1\" class=\"dataframe\">\n",
              "  <thead>\n",
              "    <tr style=\"text-align: right;\">\n",
              "      <th></th>\n",
              "      <th>section_type</th>\n",
              "      <th>instructor_id</th>\n",
              "      <th>facility_code</th>\n",
              "      <th>start_time</th>\n",
              "      <th>mon</th>\n",
              "      <th>tues</th>\n",
              "      <th>wed</th>\n",
              "      <th>thurs</th>\n",
              "      <th>fri</th>\n",
              "      <th>subject_name</th>\n",
              "      <th>course_name</th>\n",
              "      <th>a_proportion</th>\n",
              "      <th>f_proportion</th>\n",
              "      <th>avg_grade</th>\n",
              "      <th>year</th>\n",
              "      <th>term</th>\n",
              "      <th>class_length</th>\n",
              "      <th>total_time</th>\n",
              "      <th>weekend</th>\n",
              "      <th>course_difficulty</th>\n",
              "    </tr>\n",
              "  </thead>\n",
              "  <tbody>\n",
              "    <tr>\n",
              "      <th>39484</th>\n",
              "      <td>lab</td>\n",
              "      <td>2601912.0</td>\n",
              "      <td>0028</td>\n",
              "      <td>560.0</td>\n",
              "      <td>False</td>\n",
              "      <td>False</td>\n",
              "      <td>False</td>\n",
              "      <td>False</td>\n",
              "      <td>True</td>\n",
              "      <td>physical educ activity progm</td>\n",
              "      <td>adapted fitness&amp;pers traing</td>\n",
              "      <td>0.0</td>\n",
              "      <td>1.0</td>\n",
              "      <td>0.0</td>\n",
              "      <td>08</td>\n",
              "      <td>fall</td>\n",
              "      <td>100.0</td>\n",
              "      <td>100</td>\n",
              "      <td>False</td>\n",
              "      <td>elementary</td>\n",
              "    </tr>\n",
              "  </tbody>\n",
              "</table>\n",
              "</div>\n",
              "      <button class=\"colab-df-convert\" onclick=\"convertToInteractive('df-2e592458-4f96-46fc-8421-c807c8221722')\"\n",
              "              title=\"Convert this dataframe to an interactive table.\"\n",
              "              style=\"display:none;\">\n",
              "        \n",
              "  <svg xmlns=\"http://www.w3.org/2000/svg\" height=\"24px\"viewBox=\"0 0 24 24\"\n",
              "       width=\"24px\">\n",
              "    <path d=\"M0 0h24v24H0V0z\" fill=\"none\"/>\n",
              "    <path d=\"M18.56 5.44l.94 2.06.94-2.06 2.06-.94-2.06-.94-.94-2.06-.94 2.06-2.06.94zm-11 1L8.5 8.5l.94-2.06 2.06-.94-2.06-.94L8.5 2.5l-.94 2.06-2.06.94zm10 10l.94 2.06.94-2.06 2.06-.94-2.06-.94-.94-2.06-.94 2.06-2.06.94z\"/><path d=\"M17.41 7.96l-1.37-1.37c-.4-.4-.92-.59-1.43-.59-.52 0-1.04.2-1.43.59L10.3 9.45l-7.72 7.72c-.78.78-.78 2.05 0 2.83L4 21.41c.39.39.9.59 1.41.59.51 0 1.02-.2 1.41-.59l7.78-7.78 2.81-2.81c.8-.78.8-2.07 0-2.86zM5.41 20L4 18.59l7.72-7.72 1.47 1.35L5.41 20z\"/>\n",
              "  </svg>\n",
              "      </button>\n",
              "      \n",
              "  <style>\n",
              "    .colab-df-container {\n",
              "      display:flex;\n",
              "      flex-wrap:wrap;\n",
              "      gap: 12px;\n",
              "    }\n",
              "\n",
              "    .colab-df-convert {\n",
              "      background-color: #E8F0FE;\n",
              "      border: none;\n",
              "      border-radius: 50%;\n",
              "      cursor: pointer;\n",
              "      display: none;\n",
              "      fill: #1967D2;\n",
              "      height: 32px;\n",
              "      padding: 0 0 0 0;\n",
              "      width: 32px;\n",
              "    }\n",
              "\n",
              "    .colab-df-convert:hover {\n",
              "      background-color: #E2EBFA;\n",
              "      box-shadow: 0px 1px 2px rgba(60, 64, 67, 0.3), 0px 1px 3px 1px rgba(60, 64, 67, 0.15);\n",
              "      fill: #174EA6;\n",
              "    }\n",
              "\n",
              "    [theme=dark] .colab-df-convert {\n",
              "      background-color: #3B4455;\n",
              "      fill: #D2E3FC;\n",
              "    }\n",
              "\n",
              "    [theme=dark] .colab-df-convert:hover {\n",
              "      background-color: #434B5C;\n",
              "      box-shadow: 0px 1px 3px 1px rgba(0, 0, 0, 0.15);\n",
              "      filter: drop-shadow(0px 1px 2px rgba(0, 0, 0, 0.3));\n",
              "      fill: #FFFFFF;\n",
              "    }\n",
              "  </style>\n",
              "\n",
              "      <script>\n",
              "        const buttonEl =\n",
              "          document.querySelector('#df-2e592458-4f96-46fc-8421-c807c8221722 button.colab-df-convert');\n",
              "        buttonEl.style.display =\n",
              "          google.colab.kernel.accessAllowed ? 'block' : 'none';\n",
              "\n",
              "        async function convertToInteractive(key) {\n",
              "          const element = document.querySelector('#df-2e592458-4f96-46fc-8421-c807c8221722');\n",
              "          const dataTable =\n",
              "            await google.colab.kernel.invokeFunction('convertToInteractive',\n",
              "                                                     [key], {});\n",
              "          if (!dataTable) return;\n",
              "\n",
              "          const docLinkHtml = 'Like what you see? Visit the ' +\n",
              "            '<a target=\"_blank\" href=https://colab.research.google.com/notebooks/data_table.ipynb>data table notebook</a>'\n",
              "            + ' to learn more about interactive tables.';\n",
              "          element.innerHTML = '';\n",
              "          dataTable['output_type'] = 'display_data';\n",
              "          await google.colab.output.renderOutput(dataTable, element);\n",
              "          const docLink = document.createElement('div');\n",
              "          docLink.innerHTML = docLinkHtml;\n",
              "          element.appendChild(docLink);\n",
              "        }\n",
              "      </script>\n",
              "    </div>\n",
              "  </div>\n",
              "  "
            ]
          },
          "metadata": {},
          "execution_count": 92
        }
      ]
    },
    {
      "cell_type": "markdown",
      "source": [
        "This is a very interesting case, but without more information suggesting it is not valid, I will keep it in the dataset for now. "
      ],
      "metadata": {
        "id": "DoNAWJfFhpRg"
      }
    },
    {
      "cell_type": "markdown",
      "source": [
        "## Features"
      ],
      "metadata": {
        "id": "JvvcwriupX3v"
      }
    },
    {
      "cell_type": "code",
      "source": [
        "df.dtypes"
      ],
      "metadata": {
        "colab": {
          "base_uri": "https://localhost:8080/"
        },
        "id": "t9kE5HvWgKkX",
        "outputId": "38c3315d-65c6-413f-bbcf-d8c3caa53e93"
      },
      "execution_count": 93,
      "outputs": [
        {
          "output_type": "execute_result",
          "data": {
            "text/plain": [
              "section_type          object\n",
              "instructor_id         object\n",
              "facility_code         object\n",
              "start_time           float64\n",
              "mon                   object\n",
              "tues                  object\n",
              "wed                   object\n",
              "thurs                 object\n",
              "fri                   object\n",
              "subject_name          object\n",
              "course_name           object\n",
              "a_proportion         float64\n",
              "f_proportion         float64\n",
              "avg_grade            float64\n",
              "year                  object\n",
              "term                  object\n",
              "class_length         float64\n",
              "total_time             int64\n",
              "weekend               object\n",
              "course_difficulty     object\n",
              "dtype: object"
            ]
          },
          "metadata": {},
          "execution_count": 93
        }
      ]
    },
    {
      "cell_type": "code",
      "source": [
        "all_features = ['section_type', 'instructor_id', 'facility_code', 'start_time',\n",
        "            'mon', 'tues', 'wed', 'thurs', 'fri', 'weekend', 'subject_name',\n",
        "            'course_name', 'year', 'term', 'class_length', 'total_time', \n",
        "            'course_difficulty']"
      ],
      "metadata": {
        "id": "hlY73DNRkSpI"
      },
      "execution_count": 96,
      "outputs": []
    },
    {
      "cell_type": "code",
      "source": [
        "categorical_features = ['section_type', 'instructor_id', 'facility_code', \n",
        "                        'mon', 'tues', 'wed', 'thurs', 'fri', 'weekend', \n",
        "                        'subject_name', 'course_name', 'year', 'term',\n",
        "                        'course_difficulty']"
      ],
      "metadata": {
        "id": "PnM2lEM-xW-t"
      },
      "execution_count": null,
      "outputs": []
    },
    {
      "cell_type": "code",
      "source": [
        "# barplots to explore categorical features except 'instructor_id', 'subject_\n",
        "# name', 'course_name', and 'facility_code', which have too many distinct\n",
        "# values to visualize cleanly\n",
        "\n",
        "for col in ['section_type', 'year', 'term', 'course_difficulty']:\n",
        "  col_name = col\n",
        "  plot = sns.countplot(data = df, y = col)\n",
        "  plot.set_title(col_name)\n",
        "  plt.show()\n",
        "  print('\\n\\n')"
      ],
      "metadata": {
        "colab": {
          "base_uri": "https://localhost:8080/",
          "height": 1000
        },
        "id": "4bUOqKXKlN7n",
        "outputId": "d15b6069-2a65-4509-802c-c80d1a52ede0"
      },
      "execution_count": 103,
      "outputs": [
        {
          "output_type": "display_data",
          "data": {
            "text/plain": [
              "<Figure size 640x480 with 1 Axes>"
            ],
            "image/png": "[encoded data removed]"
          },
          "metadata": {}
        },
        {
          "output_type": "stream",
          "name": "stdout",
          "text": [
            "\n",
            "\n",
            "\n"
          ]
        },
        {
          "output_type": "display_data",
          "data": {
            "text/plain": [
              "<Figure size 640x480 with 1 Axes>"
            ],
            "image/png": "[encoded data removed]"
          },
          "metadata": {}
        },
        {
          "output_type": "stream",
          "name": "stdout",
          "text": [
            "\n",
            "\n",
            "\n"
          ]
        },
        {
          "output_type": "display_data",
          "data": {
            "text/plain": [
              "<Figure size 640x480 with 1 Axes>"
            ],
            "image/png": "[encoded data removed]"
          },
          "metadata": {}
        },
        {
          "output_type": "stream",
          "name": "stdout",
          "text": [
            "\n",
            "\n",
            "\n"
          ]
        },
        {
          "output_type": "display_data",
          "data": {
            "text/plain": [
              "<Figure size 640x480 with 1 Axes>"
            ],
            "image/png": "[encoded data removed]"
          },
          "metadata": {}
        },
        {
          "output_type": "stream",
          "name": "stdout",
          "text": [
            "\n",
            "\n",
            "\n"
          ]
        }
      ]
    },
    {
      "cell_type": "markdown",
      "source": [
        "By far the most common section type is lecture. This is plausible; other section types are more specific and are reserved for non-typical classes. \n",
        "\n",
        "I'm not sure why the years 2012 and 2018 seem to have significantly fewer (almost by half) courses in the dataset compared to other years. This would be something to further investigate with the data originator. \n",
        "\n",
        "More courses are offered in Fall than Spring terms in general, so the breakdown by term looks normal. It is interesting that no Summer term courses are included in the dataset, and would be a very interesting addition. Students often wonder if they should take Summer courses, which are usually shorter in absolute duration, than semester-long classes. \n",
        "\n",
        "The distribution of course difficulty looks normal as well. Most courses are at the elementary/introductory level, then fewer students continue on to the intermediate then advanced courses, so there are fewer of those offered. "
      ],
      "metadata": {
        "id": "4NGwbFhMxar1"
      }
    },
    {
      "cell_type": "code",
      "source": [
        "# visualize when courses meet\n",
        "# count plot with mon-weekend as bars (true values)"
      ],
      "metadata": {
        "id": "hz8LSXw8y4ui"
      },
      "execution_count": null,
      "outputs": []
    },
    {
      "cell_type": "code",
      "source": [
        "# good way to visualize 'instructor_id', 'course_name', 'subject_name', 'facility_code'?\n",
        "# 'facility_code' = map of campus with key for facility_code numbers?\n",
        "# subject_name = would probably have to group into departments, then could visualize with circle sizes; same with course_name"
      ],
      "metadata": {
        "id": "BQfgLEiGzPRl"
      },
      "execution_count": null,
      "outputs": []
    },
    {
      "cell_type": "code",
      "source": [
        "numeric_features = ['start_time', 'class_length', 'total_time']\n",
        "\n",
        "# histograms, boxplots for start_time, class_length, total_time"
      ],
      "metadata": {
        "id": "t82L7GeQgGFF"
      },
      "execution_count": 104,
      "outputs": []
    },
    {
      "cell_type": "code",
      "source": [
        "df.describe(include = 'number')"
      ],
      "metadata": {
        "colab": {
          "base_uri": "https://localhost:8080/",
          "height": 300
        },
        "id": "YtZQWkGrJ8Pj",
        "outputId": "cd205153-4b6d-4416-8897-0cfdcd37c907"
      },
      "execution_count": 111,
      "outputs": [
        {
          "output_type": "execute_result",
          "data": {
            "text/plain": [
              "         start_time  a_proportion  f_proportion     avg_grade  class_length  \\\n",
              "count  49012.000000  49012.000000  49012.000000  49012.000000  49012.000000   \n",
              "mean     676.647494      0.514208      0.008356      3.514628     74.034012   \n",
              "std      241.312605      0.293018      0.023905      0.374382     48.227477   \n",
              "min       -1.000000      0.000000      0.000000      0.000000      0.000000   \n",
              "25%      570.000000      0.264706      0.000000      3.264706     50.000000   \n",
              "50%      660.000000      0.461804      0.000000      3.559322     75.000000   \n",
              "75%      865.000000      0.764706      0.000000      3.833333     75.000000   \n",
              "max     1260.000000      1.000000      1.000000      4.000000    600.000000   \n",
              "\n",
              "         total_time  \n",
              "count  49012.000000  \n",
              "mean     147.119073  \n",
              "std      124.701743  \n",
              "min        0.000000  \n",
              "25%      115.000000  \n",
              "50%      150.000000  \n",
              "75%      150.000000  \n",
              "max     3000.000000  "
            ],
            "text/html": [
              "\n",
              "  <div id=\"df-0aee499f-b2fc-4825-ad1e-41a278299ba3\">\n",
              "    <div class=\"colab-df-container\">\n",
              "      <div>\n",
              "<style scoped>\n",
              "    .dataframe tbody tr th:only-of-type {\n",
              "        vertical-align: middle;\n",
              "    }\n",
              "\n",
              "    .dataframe tbody tr th {\n",
              "        vertical-align: top;\n",
              "    }\n",
              "\n",
              "    .dataframe thead th {\n",
              "        text-align: right;\n",
              "    }\n",
              "</style>\n",
              "<table border=\"1\" class=\"dataframe\">\n",
              "  <thead>\n",
              "    <tr style=\"text-align: right;\">\n",
              "      <th></th>\n",
              "      <th>start_time</th>\n",
              "      <th>a_proportion</th>\n",
              "      <th>f_proportion</th>\n",
              "      <th>avg_grade</th>\n",
              "      <th>class_length</th>\n",
              "      <th>total_time</th>\n",
              "    </tr>\n",
              "  </thead>\n",
              "  <tbody>\n",
              "    <tr>\n",
              "      <th>count</th>\n",
              "      <td>49012.000000</td>\n",
              "      <td>49012.000000</td>\n",
              "      <td>49012.000000</td>\n",
              "      <td>49012.000000</td>\n",
              "      <td>49012.000000</td>\n",
              "      <td>49012.000000</td>\n",
              "    </tr>\n",
              "    <tr>\n",
              "      <th>mean</th>\n",
              "      <td>676.647494</td>\n",
              "      <td>0.514208</td>\n",
              "      <td>0.008356</td>\n",
              "      <td>3.514628</td>\n",
              "      <td>74.034012</td>\n",
              "      <td>147.119073</td>\n",
              "    </tr>\n",
              "    <tr>\n",
              "      <th>std</th>\n",
              "      <td>241.312605</td>\n",
              "      <td>0.293018</td>\n",
              "      <td>0.023905</td>\n",
              "      <td>0.374382</td>\n",
              "      <td>48.227477</td>\n",
              "      <td>124.701743</td>\n",
              "    </tr>\n",
              "    <tr>\n",
              "      <th>min</th>\n",
              "      <td>-1.000000</td>\n",
              "      <td>0.000000</td>\n",
              "      <td>0.000000</td>\n",
              "      <td>0.000000</td>\n",
              "      <td>0.000000</td>\n",
              "      <td>0.000000</td>\n",
              "    </tr>\n",
              "    <tr>\n",
              "      <th>25%</th>\n",
              "      <td>570.000000</td>\n",
              "      <td>0.264706</td>\n",
              "      <td>0.000000</td>\n",
              "      <td>3.264706</td>\n",
              "      <td>50.000000</td>\n",
              "      <td>115.000000</td>\n",
              "    </tr>\n",
              "    <tr>\n",
              "      <th>50%</th>\n",
              "      <td>660.000000</td>\n",
              "      <td>0.461804</td>\n",
              "      <td>0.000000</td>\n",
              "      <td>3.559322</td>\n",
              "      <td>75.000000</td>\n",
              "      <td>150.000000</td>\n",
              "    </tr>\n",
              "    <tr>\n",
              "      <th>75%</th>\n",
              "      <td>865.000000</td>\n",
              "      <td>0.764706</td>\n",
              "      <td>0.000000</td>\n",
              "      <td>3.833333</td>\n",
              "      <td>75.000000</td>\n",
              "      <td>150.000000</td>\n",
              "    </tr>\n",
              "    <tr>\n",
              "      <th>max</th>\n",
              "      <td>1260.000000</td>\n",
              "      <td>1.000000</td>\n",
              "      <td>1.000000</td>\n",
              "      <td>4.000000</td>\n",
              "      <td>600.000000</td>\n",
              "      <td>3000.000000</td>\n",
              "    </tr>\n",
              "  </tbody>\n",
              "</table>\n",
              "</div>\n",
              "      <button class=\"colab-df-convert\" onclick=\"convertToInteractive('df-0aee499f-b2fc-4825-ad1e-41a278299ba3')\"\n",
              "              title=\"Convert this dataframe to an interactive table.\"\n",
              "              style=\"display:none;\">\n",
              "        \n",
              "  <svg xmlns=\"http://www.w3.org/2000/svg\" height=\"24px\"viewBox=\"0 0 24 24\"\n",
              "       width=\"24px\">\n",
              "    <path d=\"M0 0h24v24H0V0z\" fill=\"none\"/>\n",
              "    <path d=\"M18.56 5.44l.94 2.06.94-2.06 2.06-.94-2.06-.94-.94-2.06-.94 2.06-2.06.94zm-11 1L8.5 8.5l.94-2.06 2.06-.94-2.06-.94L8.5 2.5l-.94 2.06-2.06.94zm10 10l.94 2.06.94-2.06 2.06-.94-2.06-.94-.94-2.06-.94 2.06-2.06.94z\"/><path d=\"M17.41 7.96l-1.37-1.37c-.4-.4-.92-.59-1.43-.59-.52 0-1.04.2-1.43.59L10.3 9.45l-7.72 7.72c-.78.78-.78 2.05 0 2.83L4 21.41c.39.39.9.59 1.41.59.51 0 1.02-.2 1.41-.59l7.78-7.78 2.81-2.81c.8-.78.8-2.07 0-2.86zM5.41 20L4 18.59l7.72-7.72 1.47 1.35L5.41 20z\"/>\n",
              "  </svg>\n",
              "      </button>\n",
              "      \n",
              "  <style>\n",
              "    .colab-df-container {\n",
              "      display:flex;\n",
              "      flex-wrap:wrap;\n",
              "      gap: 12px;\n",
              "    }\n",
              "\n",
              "    .colab-df-convert {\n",
              "      background-color: #E8F0FE;\n",
              "      border: none;\n",
              "      border-radius: 50%;\n",
              "      cursor: pointer;\n",
              "      display: none;\n",
              "      fill: #1967D2;\n",
              "      height: 32px;\n",
              "      padding: 0 0 0 0;\n",
              "      width: 32px;\n",
              "    }\n",
              "\n",
              "    .colab-df-convert:hover {\n",
              "      background-color: #E2EBFA;\n",
              "      box-shadow: 0px 1px 2px rgba(60, 64, 67, 0.3), 0px 1px 3px 1px rgba(60, 64, 67, 0.15);\n",
              "      fill: #174EA6;\n",
              "    }\n",
              "\n",
              "    [theme=dark] .colab-df-convert {\n",
              "      background-color: #3B4455;\n",
              "      fill: #D2E3FC;\n",
              "    }\n",
              "\n",
              "    [theme=dark] .colab-df-convert:hover {\n",
              "      background-color: #434B5C;\n",
              "      box-shadow: 0px 1px 3px 1px rgba(0, 0, 0, 0.15);\n",
              "      filter: drop-shadow(0px 1px 2px rgba(0, 0, 0, 0.3));\n",
              "      fill: #FFFFFF;\n",
              "    }\n",
              "  </style>\n",
              "\n",
              "      <script>\n",
              "        const buttonEl =\n",
              "          document.querySelector('#df-0aee499f-b2fc-4825-ad1e-41a278299ba3 button.colab-df-convert');\n",
              "        buttonEl.style.display =\n",
              "          google.colab.kernel.accessAllowed ? 'block' : 'none';\n",
              "\n",
              "        async function convertToInteractive(key) {\n",
              "          const element = document.querySelector('#df-0aee499f-b2fc-4825-ad1e-41a278299ba3');\n",
              "          const dataTable =\n",
              "            await google.colab.kernel.invokeFunction('convertToInteractive',\n",
              "                                                     [key], {});\n",
              "          if (!dataTable) return;\n",
              "\n",
              "          const docLinkHtml = 'Like what you see? Visit the ' +\n",
              "            '<a target=\"_blank\" href=https://colab.research.google.com/notebooks/data_table.ipynb>data table notebook</a>'\n",
              "            + ' to learn more about interactive tables.';\n",
              "          element.innerHTML = '';\n",
              "          dataTable['output_type'] = 'display_data';\n",
              "          await google.colab.output.renderOutput(dataTable, element);\n",
              "          const docLink = document.createElement('div');\n",
              "          docLink.innerHTML = docLinkHtml;\n",
              "          element.appendChild(docLink);\n",
              "        }\n",
              "      </script>\n",
              "    </div>\n",
              "  </div>\n",
              "  "
            ]
          },
          "metadata": {},
          "execution_count": 111
        }
      ]
    },
    {
      "cell_type": "code",
      "source": [
        "# boxplots for numeric variables to see outliers\n",
        "\n",
        "for col in numeric_features:\n",
        "  col_name = col\n",
        "  plot = sns.boxplot(data = df, y = col)\n",
        "  plot.set_title(col_name)\n",
        "  plt.show()\n",
        "  print('\\n\\n')"
      ],
      "metadata": {
        "colab": {
          "base_uri": "https://localhost:8080/",
          "height": 1000
        },
        "id": "sgl00bC4IHjP",
        "outputId": "87019c15-d2ae-4c52-9f25-04aa56c1fed6"
      },
      "execution_count": 106,
      "outputs": [
        {
          "output_type": "display_data",
          "data": {
            "text/plain": [
              "<Figure size 640x480 with 1 Axes>"
            ],
            "image/png": "[encoded data removed]"
          },
          "metadata": {}
        },
        {
          "output_type": "stream",
          "name": "stdout",
          "text": [
            "\n",
            "\n",
            "\n"
          ]
        },
        {
          "output_type": "display_data",
          "data": {
            "text/plain": [
              "<Figure size 640x480 with 1 Axes>"
            ],
            "image/png": "[encoded data removed]"
          },
          "metadata": {}
        },
        {
          "output_type": "stream",
          "name": "stdout",
          "text": [
            "\n",
            "\n",
            "\n"
          ]
        },
        {
          "output_type": "display_data",
          "data": {
            "text/plain": [
              "<Figure size 640x480 with 1 Axes>"
            ],
            "image/png": "[encoded data removed]"
          },
          "metadata": {}
        },
        {
          "output_type": "stream",
          "name": "stdout",
          "text": [
            "\n",
            "\n",
            "\n"
          ]
        }
      ]
    },
    {
      "cell_type": "markdown",
      "source": [
        "The outliers for 'start_time' that seem to be around 0 are the ones that don't have a start time assigned; they are coded in the original .csv files on Kaggle with the value -1.\n",
        "\n",
        "Leaving out outliers for 'class_length' and 'total_time', the middle 50% of sections are between 50-75 minutes long and meet for a total of between 115-150 minutes per week. \n",
        "\n"
      ],
      "metadata": {
        "id": "vQZhuiMcISbo"
      }
    },
    {
      "cell_type": "code",
      "source": [
        "# histogram for start_time without outliers at -1\n",
        "start_time_no_outliers_df = df[df['start_time'] != -1]\n",
        "\n",
        "plot = sns.histplot(data = start_time_no_outliers_df, \n",
        "                    y = 'start_time',\n",
        "                    bins = 10)\n",
        "plot.set_title('start_time')\n",
        "plt.show()"
      ],
      "metadata": {
        "colab": {
          "base_uri": "https://localhost:8080/",
          "height": 472
        },
        "id": "Qf0_-UbrHzCt",
        "outputId": "3ff980fb-4f42-41e1-e8c7-138c70291938"
      },
      "execution_count": 110,
      "outputs": [
        {
          "output_type": "display_data",
          "data": {
            "text/plain": [
              "<Figure size 640x480 with 1 Axes>"
            ],
            "image/png": "[encoded data removed]"
          },
          "metadata": {}
        }
      ]
    },
    {
      "cell_type": "markdown",
      "source": [
        "This histogram without outliers for start_time shows a relatively normal distribution centered around around 700 minutes (11 2/3 hours, so around noon). It makes sense that about half of classes start before noon and about half after. "
      ],
      "metadata": {
        "id": "jPTEYdxeJR9z"
      }
    },
    {
      "cell_type": "markdown",
      "source": [
        "# Export to csv"
      ],
      "metadata": {
        "id": "0n9fvtQffTMu"
      }
    },
    {
      "cell_type": "code",
      "source": [
        "df.info()"
      ],
      "metadata": {
        "colab": {
          "base_uri": "https://localhost:8080/"
        },
        "id": "ohM_4iH0LChC",
        "outputId": "21adc839-3be3-49cc-da38-ca88f75fea89"
      },
      "execution_count": 112,
      "outputs": [
        {
          "output_type": "stream",
          "name": "stdout",
          "text": [
            "<class 'pandas.core.frame.DataFrame'>\n",
            "Int64Index: 49012 entries, 12 to 64185\n",
            "Data columns (total 20 columns):\n",
            " #   Column             Non-Null Count  Dtype  \n",
            "---  ------             --------------  -----  \n",
            " 0   section_type       49012 non-null  object \n",
            " 1   instructor_id      49012 non-null  object \n",
            " 2   facility_code      45521 non-null  object \n",
            " 3   start_time         49012 non-null  float64\n",
            " 4   mon                49012 non-null  object \n",
            " 5   tues               49012 non-null  object \n",
            " 6   wed                49012 non-null  object \n",
            " 7   thurs              49012 non-null  object \n",
            " 8   fri                49012 non-null  object \n",
            " 9   subject_name       49012 non-null  object \n",
            " 10  course_name        49012 non-null  object \n",
            " 11  a_proportion       49012 non-null  float64\n",
            " 12  f_proportion       49012 non-null  float64\n",
            " 13  avg_grade          49012 non-null  float64\n",
            " 14  year               49012 non-null  object \n",
            " 15  term               49012 non-null  object \n",
            " 16  class_length       49012 non-null  float64\n",
            " 17  total_time         49012 non-null  int64  \n",
            " 18  weekend            49012 non-null  object \n",
            " 19  course_difficulty  49012 non-null  object \n",
            "dtypes: float64(5), int64(1), object(14)\n",
            "memory usage: 7.9+ MB\n"
          ]
        }
      ]
    },
    {
      "cell_type": "code",
      "source": [
        "df.to_csv('/content/drive/MyDrive/Coding Dojo/Project 2/all_grades_data_cleaned.csv')"
      ],
      "metadata": {
        "id": "RHOQA9X0fSBg"
      },
      "execution_count": 113,
      "outputs": []
    },
    {
      "cell_type": "code",
      "source": [],
      "metadata": {
        "id": "64uIKZweLIuz"
      },
      "execution_count": null,
      "outputs": []
    }
  ]
}
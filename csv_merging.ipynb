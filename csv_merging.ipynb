{
  "nbformat": 4,
  "nbformat_minor": 0,
  "metadata": {
    "colab": {
      "provenance": [],
      "authorship_tag": "ABX9TyO8MRhbg7875YAQTVQh5NGW",
      "include_colab_link": true
    },
    "kernelspec": {
      "name": "python3",
      "display_name": "Python 3"
    },
    "language_info": {
      "name": "python"
    }
  },
  "cells": [
    {
      "cell_type": "markdown",
      "metadata": {
        "id": "view-in-github",
        "colab_type": "text"
      },
      "source": [
        "<a href=\"https://colab.research.google.com/github/kellianneyang/project-exploration/blob/main/csv_merging.ipynb\" target=\"_parent\"><img src=\"https://colab.research.google.com/assets/colab-badge.svg\" alt=\"Open In Colab\"/></a>"
      ]
    },
    {
      "cell_type": "markdown",
      "source": [
        "# Grades Project: Merge .csv files into one dataframe"
      ],
      "metadata": {
        "id": "sOFDYrvKMsu5"
      }
    },
    {
      "cell_type": "markdown",
      "source": [
        "# Goal"
      ],
      "metadata": {
        "id": "ZuZlUSE04mkK"
      }
    },
    {
      "cell_type": "markdown",
      "source": [
        "In this notebook, the goal is to merge all .csv files from the Kaggle dataset into one .csv file to use for the project.\n",
        "\n",
        "The main steps will be:\n",
        "- importing each .csv file\n",
        "- renaming columns as necessary (some columns have the same names in separate .csv files and need to be renamed so they are distinct)\n",
        "- making all data lowercase (to eliminate non-matching data if caps are different)\n",
        "- merging all data together\n",
        "  - this may include casting columns to a different datatype to merge on that column; if this needs to happen, some rows may be dropped after checking that there is no data in the other .csvs that is associated with the dropped rows first\n",
        "\n",
        "This notebook will NOT:\n",
        "- delete any columns\n",
        "- create any new columns\n",
        "- fill any missing values\n",
        "- check for any duplicates"
      ],
      "metadata": {
        "id": "6VAVo0Ps4psY"
      }
    },
    {
      "cell_type": "markdown",
      "source": [
        "## Overview"
      ],
      "metadata": {
        "id": "gPClsFQd06oB"
      }
    },
    {
      "cell_type": "markdown",
      "source": [
        "\n",
        "To use the data provided in this dataset (https://www.kaggle.com/datasets/Madgrades/uw-madison-courses), which is provided in multiple .csv files, for a machine learning model, we will need to merge the files to create one .csv file."
      ],
      "metadata": {
        "id": "D3EFneqM1Fas"
      }
    },
    {
      "cell_type": "markdown",
      "source": [
        "## .csv files and columns\n",
        "\n",
        "Included in dataset as separate .csv files:\n",
        "- schedules.csv: each row is a unique potential schedule\n",
        "    - (schedule) uuid: unique identifier of schedules\n",
        "    - start_time: start of class, in minutes\n",
        "    - end_time: end of class, in minutes (drop -- high co-linearity with start_time)\n",
        "    - mon: boolean, if class meets on monday\n",
        "    - tues: \"\n",
        "    - wed: \"\n",
        "    - thurs: \"\n",
        "    - fri: \"\n",
        "    - sat: \"\n",
        "    - sun: \"\n",
        "      - sat and sun have very few values; combine to get more observations\n",
        "- subjects.csv: each row is a unique subject\n",
        "    - (subject) code: 3-digit unique identifier of subjects\n",
        "    - (subject) name: name of subject\n",
        "    - (subject) abbreviation: abbreviation (e.g. ENGL for English)\n",
        "- teachings.csv: each row is a unique instructor\n",
        "    - instructor_id: numeric unique identifier of instructor\n",
        "    - section_uuid: section taught by instructor\n",
        "- subject_memberships.csv: each row is a course offering (course offered in certain term; does not encompass all sections in that term)\n",
        "    - subject_code: subject code associated with course offering\n",
        "    - course_offering_uuid: unique identifier of course offerings\n",
        "- sections.csv: each row is a section (specific instance of course at certain time in certain place in certain term)\n",
        "    - (section) uuid: unique identifier of section (alphanumeric)\n",
        "      - could have multiple section uuids for cross-listed sections\n",
        "    - course_offering_uuid: unique identifier of course offering (course offered in certain term but encompasses all sections in that term) \n",
        "    - section_type: 3-letter identifier (e.g., LEC for lecture)\n",
        "    - (section) number: 1-3-number of section (e.g., 301 for section 301)\n",
        "    - room_uuid: unique identifier of room and building where section is held (including online and off-campus designations)\n",
        "    - schedule_uuid: unique identifier of schedule for section\n",
        "- rooms.csv: each row is a specific place\n",
        "    - (room) uuid: unique identifier of building and room (inclduing off-campus and online)\n",
        "    - facility_code: unique identifier of building\n",
        "    - room_code: number of room within a building\n",
        "- instructors.csv (will not use -- is essentially a duplicate of teachings; can use to look up instructors' names): each row is an instructor\n",
        "    - (instructor) id: unique identifier of instructor\n",
        "    - (instructor) name: instructor's name\n",
        "- grade_distributions.csv: each row is a section's grades\n",
        "    - course_offering_uuid: identifies the course offering (certain course in certain term, but not broken down into sections)\n",
        "    - section_number: number of section for grades\n",
        "    - a_count: number of As\n",
        "    - ab_count: number of ABs (can be combined with As as needed)\n",
        "    - b_count: number of Bs\n",
        "    - bc_count: number of BCs (can be combined with Bs as needed)\n",
        "    - c_count: number of Cs\n",
        "    - d_count: number of Ds\n",
        "    - f_count: number of Fs\n",
        "    - s_count: satisfactory\n",
        "    - u_count: unstatisfactory\n",
        "    - cr_count: credit\n",
        "    - n_count: no credit\n",
        "    - p_count\n",
        "    - i_count: incomplete\n",
        "    - nw_count: no work\n",
        "    - nr_count\n",
        "- course_offerings.csv: each row is a course offering (course offered in certain term)\n",
        "    - (course offering) uuid: unique identifier of course offering\n",
        "    - course_uuid: course that the course offering belongs to\n",
        "    - term_code: academic term when course offering was held\n",
        "    - (course offering) name: name associate with course offering (can be different than course name)\n",
        "- courses.csv: each row is a course (abstract; not associated with specific course offering)\n",
        "    - (course) uuid: uniquely identifies the course\n",
        "    - (course) name: name of course\n",
        "    - (course) number: number in course catalog (e.g. 101 for ENGL 101)"
      ],
      "metadata": {
        "id": "r3cR9Ac41K2P"
      }
    },
    {
      "cell_type": "markdown",
      "source": [
        "# Preliminary steps"
      ],
      "metadata": {
        "id": "iOg4-t8GOYHT"
      }
    },
    {
      "cell_type": "code",
      "source": [
        "# import libraries\n",
        "import pandas as pd"
      ],
      "metadata": {
        "id": "zy4mLaMYOZby"
      },
      "execution_count": null,
      "outputs": []
    },
    {
      "cell_type": "code",
      "source": [
        "# mount drive\n",
        "from google.colab import drive\n",
        "drive.mount('/content/drive/')"
      ],
      "metadata": {
        "colab": {
          "base_uri": "https://localhost:8080/"
        },
        "id": "YEVnw-1KOckR",
        "outputId": "57d59bdc-427f-41be-cf47-1347eea22106"
      },
      "execution_count": null,
      "outputs": [
        {
          "output_type": "stream",
          "name": "stdout",
          "text": [
            "Drive already mounted at /content/drive/; to attempt to forcibly remount, call drive.mount(\"/content/drive/\", force_remount=True).\n"
          ]
        }
      ]
    },
    {
      "cell_type": "markdown",
      "source": [
        "# sections.csv\n",
        "\n",
        "Sections.csv contains the column 'section_uuid' that has a correlate column in teachings.csv. In teachings.csv, the only other column is 'teacher_id'. \n",
        "\n",
        "In this section, we merge 'teacher_id' into the sections.csv data. We will keep 'section_uuid' in the data for now, but it may prove to be a high-cardinality feature, with almost as many values as observations. So, we will keep it in mind for later, when we can experiment to see if dropping it will help our machine learning algorithm make better predictions."
      ],
      "metadata": {
        "id": "VUmwkwWmNWlc"
      }
    },
    {
      "cell_type": "markdown",
      "source": [
        "## Import"
      ],
      "metadata": {
        "id": "nCNDTa3n0YJc"
      }
    },
    {
      "cell_type": "code",
      "execution_count": null,
      "metadata": {
        "id": "jbqrcpn0MndS"
      },
      "outputs": [],
      "source": [
        "# create df from .csv\n",
        "path = '/content/drive/MyDrive/Coding Dojo/Project 2/UW Madison Courses and Grades 2006-2017/sections.csv'\n",
        "sections_df = pd.read_csv(path)"
      ]
    },
    {
      "cell_type": "markdown",
      "source": [
        "## Inspect"
      ],
      "metadata": {
        "id": "A4veVjJr0bZH"
      }
    },
    {
      "cell_type": "code",
      "source": [
        "# inspect df\n",
        "sections_df.info()"
      ],
      "metadata": {
        "colab": {
          "base_uri": "https://localhost:8080/"
        },
        "id": "cBok9SR4O9yr",
        "outputId": "cea2de9a-5802-45fc-9e24-5e057ce9b3e7"
      },
      "execution_count": null,
      "outputs": [
        {
          "output_type": "stream",
          "name": "stdout",
          "text": [
            "<class 'pandas.core.frame.DataFrame'>\n",
            "RangeIndex: 315602 entries, 0 to 315601\n",
            "Data columns (total 6 columns):\n",
            " #   Column                Non-Null Count   Dtype \n",
            "---  ------                --------------   ----- \n",
            " 0   uuid                  315602 non-null  object\n",
            " 1   course_offering_uuid  315602 non-null  object\n",
            " 2   section_type          315602 non-null  object\n",
            " 3   number                315602 non-null  int64 \n",
            " 4   room_uuid             209644 non-null  object\n",
            " 5   schedule_uuid         315602 non-null  object\n",
            "dtypes: int64(1), object(5)\n",
            "memory usage: 14.4+ MB\n"
          ]
        }
      ]
    },
    {
      "cell_type": "markdown",
      "source": [
        "## Rename columns & make lowercase"
      ],
      "metadata": {
        "id": "Kd-xCy5y0dkc"
      }
    },
    {
      "cell_type": "code",
      "source": [
        "# rename 'number' to 'section_number' to avoid confusion with future 'number' \n",
        "# columns in other .csv files\n",
        "sections_df.rename(columns = {'number': 'section_number'}, inplace = True)"
      ],
      "metadata": {
        "id": "AH6ni7H3M9XS"
      },
      "execution_count": null,
      "outputs": []
    },
    {
      "cell_type": "code",
      "source": [
        "# rename 'uuid' to 'section_uuid' to avoid confusion with future 'uuid'\n",
        "# columns in other .csv files\n",
        "sections_df.rename(columns = {'uuid': 'section_uuid'}, inplace = True)"
      ],
      "metadata": {
        "id": "PkKNrtXQ531c"
      },
      "execution_count": null,
      "outputs": []
    },
    {
      "cell_type": "code",
      "source": [
        "# check\n",
        "sections_df.columns"
      ],
      "metadata": {
        "colab": {
          "base_uri": "https://localhost:8080/"
        },
        "id": "DvhEy6I56CHB",
        "outputId": "9a35ce78-b842-4fe4-a1f0-05af1151153a"
      },
      "execution_count": null,
      "outputs": [
        {
          "output_type": "execute_result",
          "data": {
            "text/plain": [
              "Index(['section_uuid', 'course_offering_uuid', 'section_type',\n",
              "       'section_number', 'room_uuid', 'schedule_uuid'],\n",
              "      dtype='object')"
            ]
          },
          "metadata": {},
          "execution_count": 7
        }
      ]
    },
    {
      "cell_type": "code",
      "source": [
        "# make all values lowercase to standardize\n",
        "sections_df = sections_df.applymap(lambda x: x.lower() if type(x) == str else x)"
      ],
      "metadata": {
        "id": "WdQ7cxvCFMIm"
      },
      "execution_count": null,
      "outputs": []
    },
    {
      "cell_type": "markdown",
      "source": [
        "# teachings.csv"
      ],
      "metadata": {
        "id": "8PCAs98WPSvq"
      }
    },
    {
      "cell_type": "markdown",
      "source": [
        "## Import"
      ],
      "metadata": {
        "id": "evmpWd2q5fhW"
      }
    },
    {
      "cell_type": "code",
      "source": [
        "# create df from teachings.csv\n",
        "path = '/content/drive/MyDrive/Coding Dojo/Project 2/UW Madison Courses and Grades 2006-2017/teachings.csv'\n",
        "teachings_df = pd.read_csv(path)"
      ],
      "metadata": {
        "id": "WruhcU5iPCXS"
      },
      "execution_count": null,
      "outputs": []
    },
    {
      "cell_type": "markdown",
      "source": [
        "## Inspect"
      ],
      "metadata": {
        "id": "qsGynWzU5iCn"
      }
    },
    {
      "cell_type": "code",
      "source": [
        "# inspect new data\n",
        "teachings_df.info()"
      ],
      "metadata": {
        "colab": {
          "base_uri": "https://localhost:8080/"
        },
        "id": "Kf3nItF-PbbS",
        "outputId": "efe087df-1d8e-4b6f-dabe-eebe78d39d7e"
      },
      "execution_count": null,
      "outputs": [
        {
          "output_type": "stream",
          "name": "stdout",
          "text": [
            "<class 'pandas.core.frame.DataFrame'>\n",
            "RangeIndex: 315211 entries, 0 to 315210\n",
            "Data columns (total 2 columns):\n",
            " #   Column         Non-Null Count   Dtype \n",
            "---  ------         --------------   ----- \n",
            " 0   instructor_id  315211 non-null  int64 \n",
            " 1   section_uuid   315211 non-null  object\n",
            "dtypes: int64(1), object(1)\n",
            "memory usage: 4.8+ MB\n"
          ]
        }
      ]
    },
    {
      "cell_type": "markdown",
      "source": [
        "## Rename columns & make lowercase"
      ],
      "metadata": {
        "id": "YutNLrYR5vJq"
      }
    },
    {
      "cell_type": "code",
      "source": [
        "# make all values lowercase to standardize\n",
        "teachings_df = teachings_df.applymap(lambda x: x.lower() if type(x) == str else x)"
      ],
      "metadata": {
        "id": "sBfgfcHMFofN"
      },
      "execution_count": null,
      "outputs": []
    },
    {
      "cell_type": "markdown",
      "source": [
        "## Merge and fix"
      ],
      "metadata": {
        "id": "7mNHkAvD6vlz"
      }
    },
    {
      "cell_type": "markdown",
      "source": [
        "### Merge"
      ],
      "metadata": {
        "id": "CPBRNCqN7NOU"
      }
    },
    {
      "cell_type": "code",
      "source": [
        "# merge sections_df and teachings_df on 'section_uuid'\n",
        "# into new df 'big_df'\n",
        "big_df = pd.merge(sections_df, teachings_df, how = 'outer', on = 'section_uuid')"
      ],
      "metadata": {
        "id": "CYnd0SOOUu0y"
      },
      "execution_count": null,
      "outputs": []
    },
    {
      "cell_type": "code",
      "source": [
        "# inspect\n",
        "big_df.info()"
      ],
      "metadata": {
        "colab": {
          "base_uri": "https://localhost:8080/"
        },
        "id": "f4kkHQwFU34h",
        "outputId": "b3e4e740-9a86-4f9c-a681-c502390a67cf"
      },
      "execution_count": null,
      "outputs": [
        {
          "output_type": "stream",
          "name": "stdout",
          "text": [
            "<class 'pandas.core.frame.DataFrame'>\n",
            "Int64Index: 315602 entries, 0 to 315601\n",
            "Data columns (total 7 columns):\n",
            " #   Column                Non-Null Count   Dtype  \n",
            "---  ------                --------------   -----  \n",
            " 0   section_uuid          315602 non-null  object \n",
            " 1   course_offering_uuid  315602 non-null  object \n",
            " 2   section_type          315602 non-null  object \n",
            " 3   section_number        315602 non-null  int64  \n",
            " 4   room_uuid             209644 non-null  object \n",
            " 5   schedule_uuid         315602 non-null  object \n",
            " 6   instructor_id         315211 non-null  float64\n",
            "dtypes: float64(1), int64(1), object(5)\n",
            "memory usage: 19.3+ MB\n"
          ]
        }
      ]
    },
    {
      "cell_type": "markdown",
      "source": [
        "# rooms.csv"
      ],
      "metadata": {
        "id": "8OOn6iTcsrsr"
      }
    },
    {
      "cell_type": "markdown",
      "source": [
        "## Import"
      ],
      "metadata": {
        "id": "ypmGPPAL75JJ"
      }
    },
    {
      "cell_type": "code",
      "source": [
        "path = '/content/drive/MyDrive/Coding Dojo/Project 2/UW Madison Courses and Grades 2006-2017/rooms.csv'\n",
        "rooms_df = pd.read_csv(path)"
      ],
      "metadata": {
        "id": "QsAdybljVFZS"
      },
      "execution_count": null,
      "outputs": []
    },
    {
      "cell_type": "markdown",
      "source": [
        "## Inspect"
      ],
      "metadata": {
        "id": "d8wRvmGE76jE"
      }
    },
    {
      "cell_type": "code",
      "source": [
        "# inspect\n",
        "rooms_df.info()"
      ],
      "metadata": {
        "colab": {
          "base_uri": "https://localhost:8080/"
        },
        "id": "U9y7NWFAsylb",
        "outputId": "fa27e6ff-1f5f-441c-cafe-36dd97a02810"
      },
      "execution_count": null,
      "outputs": [
        {
          "output_type": "stream",
          "name": "stdout",
          "text": [
            "<class 'pandas.core.frame.DataFrame'>\n",
            "RangeIndex: 1350 entries, 0 to 1349\n",
            "Data columns (total 3 columns):\n",
            " #   Column         Non-Null Count  Dtype \n",
            "---  ------         --------------  ----- \n",
            " 0   uuid           1350 non-null   object\n",
            " 1   facility_code  1350 non-null   object\n",
            " 2   room_code      1348 non-null   object\n",
            "dtypes: object(3)\n",
            "memory usage: 31.8+ KB\n"
          ]
        }
      ]
    },
    {
      "cell_type": "markdown",
      "source": [
        "## Rename columns & make lowercase"
      ],
      "metadata": {
        "id": "cJMzHftt8E9Q"
      }
    },
    {
      "cell_type": "code",
      "source": [
        "# rename uuid to room_uuid\n",
        "rooms_df.rename(columns = {'uuid': 'room_uuid'}, inplace = True)"
      ],
      "metadata": {
        "id": "Q-ep0YOMufyx"
      },
      "execution_count": null,
      "outputs": []
    },
    {
      "cell_type": "code",
      "source": [
        "# make all values lowercase to standardize\n",
        "rooms_df = rooms_df.applymap(lambda x: x.lower() if type(x) == str else x)"
      ],
      "metadata": {
        "id": "CnAJuwYnGEIr"
      },
      "execution_count": null,
      "outputs": []
    },
    {
      "cell_type": "markdown",
      "source": [
        "## Merge and fix"
      ],
      "metadata": {
        "id": "zQM5-v9_JPTY"
      }
    },
    {
      "cell_type": "markdown",
      "source": [
        "### Merge"
      ],
      "metadata": {
        "id": "fPl0qq0GJQt1"
      }
    },
    {
      "cell_type": "code",
      "source": [
        "# merge with big_df on 'room_uuid'\n",
        "big_df = pd.merge(big_df, rooms_df, how = 'outer', on = 'room_uuid')"
      ],
      "metadata": {
        "id": "8A679jLouswS"
      },
      "execution_count": null,
      "outputs": []
    },
    {
      "cell_type": "code",
      "source": [
        "# check\n",
        "big_df.info()"
      ],
      "metadata": {
        "colab": {
          "base_uri": "https://localhost:8080/"
        },
        "id": "Iw28pxREvMzB",
        "outputId": "d90417b8-1bd5-4ea6-83b2-ab26bbee9552"
      },
      "execution_count": null,
      "outputs": [
        {
          "output_type": "stream",
          "name": "stdout",
          "text": [
            "<class 'pandas.core.frame.DataFrame'>\n",
            "Int64Index: 315602 entries, 0 to 315601\n",
            "Data columns (total 9 columns):\n",
            " #   Column                Non-Null Count   Dtype  \n",
            "---  ------                --------------   -----  \n",
            " 0   section_uuid          315602 non-null  object \n",
            " 1   course_offering_uuid  315602 non-null  object \n",
            " 2   section_type          315602 non-null  object \n",
            " 3   section_number        315602 non-null  int64  \n",
            " 4   room_uuid             209644 non-null  object \n",
            " 5   schedule_uuid         315602 non-null  object \n",
            " 6   instructor_id         315211 non-null  float64\n",
            " 7   facility_code         209644 non-null  object \n",
            " 8   room_code             204052 non-null  object \n",
            "dtypes: float64(1), int64(1), object(7)\n",
            "memory usage: 24.1+ MB\n"
          ]
        }
      ]
    },
    {
      "cell_type": "markdown",
      "source": [
        "# schedules.csv"
      ],
      "metadata": {
        "id": "OqepT_jzy9Yk"
      }
    },
    {
      "cell_type": "markdown",
      "source": [
        "## Import"
      ],
      "metadata": {
        "id": "ySXSXxYgKsKp"
      }
    },
    {
      "cell_type": "code",
      "source": [
        "path = '/content/drive/MyDrive/Coding Dojo/Project 2/UW Madison Courses and Grades 2006-2017/schedules.csv'\n",
        "schedules_df = pd.read_csv(path)"
      ],
      "metadata": {
        "id": "n4FfbbtBy77K"
      },
      "execution_count": null,
      "outputs": []
    },
    {
      "cell_type": "markdown",
      "source": [
        "## Inspect"
      ],
      "metadata": {
        "id": "jqwDYPD-Kts3"
      }
    },
    {
      "cell_type": "code",
      "source": [
        "# inspect\n",
        "schedules_df.info()"
      ],
      "metadata": {
        "colab": {
          "base_uri": "https://localhost:8080/"
        },
        "id": "_CxV8nNF3J4b",
        "outputId": "7a0d6575-2545-4dc5-8ac6-282cacd7ccab"
      },
      "execution_count": null,
      "outputs": [
        {
          "output_type": "stream",
          "name": "stdout",
          "text": [
            "<class 'pandas.core.frame.DataFrame'>\n",
            "RangeIndex: 4467 entries, 0 to 4466\n",
            "Data columns (total 10 columns):\n",
            " #   Column      Non-Null Count  Dtype \n",
            "---  ------      --------------  ----- \n",
            " 0   uuid        4467 non-null   object\n",
            " 1   start_time  4467 non-null   int64 \n",
            " 2   end_time    4467 non-null   int64 \n",
            " 3   mon         4467 non-null   bool  \n",
            " 4   tues        4467 non-null   bool  \n",
            " 5   wed         4467 non-null   bool  \n",
            " 6   thurs       4467 non-null   bool  \n",
            " 7   fri         4467 non-null   bool  \n",
            " 8   sat         4467 non-null   bool  \n",
            " 9   sun         4467 non-null   bool  \n",
            "dtypes: bool(7), int64(2), object(1)\n",
            "memory usage: 135.4+ KB\n"
          ]
        }
      ]
    },
    {
      "cell_type": "markdown",
      "source": [
        "## Rename columns & make lowercase"
      ],
      "metadata": {
        "id": "_7K3VQt4Kw4F"
      }
    },
    {
      "cell_type": "code",
      "source": [
        "# replace 'uuid' with 'schedule_uuid' to be able to merge\n",
        "schedules_df.rename(columns = {'uuid': 'schedule_uuid'}, inplace = True)"
      ],
      "metadata": {
        "id": "Wl0M7E0g3Ltb"
      },
      "execution_count": null,
      "outputs": []
    },
    {
      "cell_type": "code",
      "source": [
        "# make all values lowercase to standardize\n",
        "schedules_df = schedules_df.applymap(lambda x: x.lower() if type(x) == str else x)"
      ],
      "metadata": {
        "id": "rgkX2BM8K-md"
      },
      "execution_count": null,
      "outputs": []
    },
    {
      "cell_type": "markdown",
      "source": [
        "## Merge and fix"
      ],
      "metadata": {
        "id": "KiAlfFDPRCxn"
      }
    },
    {
      "cell_type": "markdown",
      "source": [
        "### Merge"
      ],
      "metadata": {
        "id": "D_ze6yRjREFM"
      }
    },
    {
      "cell_type": "code",
      "source": [
        "# merge schedules_df with big_df on 'schedule_uuid'\n",
        "big_df = pd.merge(big_df, schedules_df, how = 'outer', on = 'schedule_uuid')"
      ],
      "metadata": {
        "id": "OEnFJIPW7M6r"
      },
      "execution_count": null,
      "outputs": []
    },
    {
      "cell_type": "code",
      "source": [
        "# check\n",
        "big_df.info()"
      ],
      "metadata": {
        "colab": {
          "base_uri": "https://localhost:8080/"
        },
        "id": "RqxOcnWX7mGL",
        "outputId": "7332df1a-3778-41b1-e287-c9209c615a8c"
      },
      "execution_count": null,
      "outputs": [
        {
          "output_type": "stream",
          "name": "stdout",
          "text": [
            "<class 'pandas.core.frame.DataFrame'>\n",
            "Int64Index: 315602 entries, 0 to 315601\n",
            "Data columns (total 18 columns):\n",
            " #   Column                Non-Null Count   Dtype  \n",
            "---  ------                --------------   -----  \n",
            " 0   section_uuid          315602 non-null  object \n",
            " 1   course_offering_uuid  315602 non-null  object \n",
            " 2   section_type          315602 non-null  object \n",
            " 3   section_number        315602 non-null  int64  \n",
            " 4   room_uuid             209644 non-null  object \n",
            " 5   schedule_uuid         315602 non-null  object \n",
            " 6   instructor_id         315211 non-null  float64\n",
            " 7   facility_code         209644 non-null  object \n",
            " 8   room_code             204052 non-null  object \n",
            " 9   start_time            315602 non-null  int64  \n",
            " 10  end_time              315602 non-null  int64  \n",
            " 11  mon                   315602 non-null  bool   \n",
            " 12  tues                  315602 non-null  bool   \n",
            " 13  wed                   315602 non-null  bool   \n",
            " 14  thurs                 315602 non-null  bool   \n",
            " 15  fri                   315602 non-null  bool   \n",
            " 16  sat                   315602 non-null  bool   \n",
            " 17  sun                   315602 non-null  bool   \n",
            "dtypes: bool(7), float64(1), int64(3), object(7)\n",
            "memory usage: 31.0+ MB\n"
          ]
        }
      ]
    },
    {
      "cell_type": "markdown",
      "source": [
        "# subject_memberships.csv and subjects.csv "
      ],
      "metadata": {
        "id": "vMGvNFa67_dt"
      }
    },
    {
      "cell_type": "markdown",
      "source": [
        "## subject_memberships.csv"
      ],
      "metadata": {
        "id": "VCNPIsQgSHUf"
      }
    },
    {
      "cell_type": "markdown",
      "source": [
        "### Import"
      ],
      "metadata": {
        "id": "UO1gCcUnR-6o"
      }
    },
    {
      "cell_type": "code",
      "source": [
        "path = '/content/drive/MyDrive/Coding Dojo/Project 2/UW Madison Courses and Grades 2006-2017/subject_memberships.csv'\n",
        "subject_memberships_df = pd.read_csv(path)"
      ],
      "metadata": {
        "id": "LtRBLsXW7qh7"
      },
      "execution_count": null,
      "outputs": []
    },
    {
      "cell_type": "markdown",
      "source": [
        "### Inspect"
      ],
      "metadata": {
        "id": "NT_s9Q_xSOEJ"
      }
    },
    {
      "cell_type": "code",
      "source": [
        "# inspect\n",
        "subject_memberships_df.info()"
      ],
      "metadata": {
        "colab": {
          "base_uri": "https://localhost:8080/"
        },
        "id": "eAmGfx4k9Jms",
        "outputId": "dddad61a-ee68-47a0-d659-909478da0126"
      },
      "execution_count": null,
      "outputs": [
        {
          "output_type": "stream",
          "name": "stdout",
          "text": [
            "<class 'pandas.core.frame.DataFrame'>\n",
            "RangeIndex: 95314 entries, 0 to 95313\n",
            "Data columns (total 2 columns):\n",
            " #   Column                Non-Null Count  Dtype \n",
            "---  ------                --------------  ----- \n",
            " 0   subject_code          95314 non-null  int64 \n",
            " 1   course_offering_uuid  95314 non-null  object\n",
            "dtypes: int64(1), object(1)\n",
            "memory usage: 1.5+ MB\n"
          ]
        }
      ]
    },
    {
      "cell_type": "markdown",
      "source": [
        "### Rename columns & make lowercase"
      ],
      "metadata": {
        "id": "u-b4k9KRSSDt"
      }
    },
    {
      "cell_type": "code",
      "source": [
        "# make all values lowercase to standardize\n",
        "subject_memberships_df = subject_memberships_df.applymap(lambda x: x.lower() if\\\n",
        "                                                         type(x) == str else x)"
      ],
      "metadata": {
        "id": "fzJWKvUMSWko"
      },
      "execution_count": null,
      "outputs": []
    },
    {
      "cell_type": "markdown",
      "source": [
        "## subjects.csv"
      ],
      "metadata": {
        "id": "Lz7f0eCYSxa1"
      }
    },
    {
      "cell_type": "markdown",
      "source": [
        "### Import"
      ],
      "metadata": {
        "id": "pTqCiWseTQ-f"
      }
    },
    {
      "cell_type": "code",
      "source": [
        "# load subjects.csv\n",
        "path = '/content/drive/MyDrive/Coding Dojo/Project 2/UW Madison Courses and Grades 2006-2017/subjects.csv'\n",
        "subjects_df = pd.read_csv(path)"
      ],
      "metadata": {
        "id": "qkYk5d779y7k"
      },
      "execution_count": null,
      "outputs": []
    },
    {
      "cell_type": "markdown",
      "source": [
        "### Inspect"
      ],
      "metadata": {
        "id": "9sdoTJ-fTTHd"
      }
    },
    {
      "cell_type": "code",
      "source": [
        "# check out subjects_df\n",
        "subjects_df.info()"
      ],
      "metadata": {
        "colab": {
          "base_uri": "https://localhost:8080/"
        },
        "id": "YAk-BboJ-HDb",
        "outputId": "f125b036-5dda-4e9e-def4-cc1db232d7a5"
      },
      "execution_count": null,
      "outputs": [
        {
          "output_type": "stream",
          "name": "stdout",
          "text": [
            "<class 'pandas.core.frame.DataFrame'>\n",
            "RangeIndex: 200 entries, 0 to 199\n",
            "Data columns (total 3 columns):\n",
            " #   Column        Non-Null Count  Dtype \n",
            "---  ------        --------------  ----- \n",
            " 0   code          200 non-null    object\n",
            " 1   name          200 non-null    object\n",
            " 2   abbreviation  200 non-null    object\n",
            "dtypes: object(3)\n",
            "memory usage: 4.8+ KB\n"
          ]
        }
      ]
    },
    {
      "cell_type": "markdown",
      "source": [
        "### Rename columns & make lowercase"
      ],
      "metadata": {
        "id": "ZgUUJ0KbTXgK"
      }
    },
    {
      "cell_type": "code",
      "source": [
        "subjects_df.rename(columns = {'code': 'subject_code', \n",
        "                              'name': 'subject_name',\n",
        "                              'abbreviation': 'subject_abbreviation'},\n",
        "                   inplace = True)"
      ],
      "metadata": {
        "id": "DlQmRUKKTcAf"
      },
      "execution_count": null,
      "outputs": []
    },
    {
      "cell_type": "code",
      "source": [
        "# make all values lowercase to standardize\n",
        "subjects_df = subjects_df.applymap(lambda x: x.lower() if type(x) == str else x)"
      ],
      "metadata": {
        "id": "WgtbAgGlTrGm"
      },
      "execution_count": null,
      "outputs": []
    },
    {
      "cell_type": "markdown",
      "source": [
        "## Merge subjects.csv and subject_memberships.csv"
      ],
      "metadata": {
        "id": "bOjQ9Zl1XZeD"
      }
    },
    {
      "cell_type": "markdown",
      "source": [
        "### Merge"
      ],
      "metadata": {
        "id": "CzKhyx5MXtd8"
      }
    },
    {
      "cell_type": "code",
      "source": [
        "# cast 'subject_code' as int so can merge with df\n",
        "# subjects_df['subject_code'] = subjects_df['subject_code'].astype(int) \n",
        "# throws error for value 'zzz'"
      ],
      "metadata": {
        "id": "Rlo0KXb8DTkg"
      },
      "execution_count": null,
      "outputs": []
    },
    {
      "cell_type": "code",
      "source": [
        "# look up 'ZZZ' in subject_code\n",
        "subjects_df.loc[subjects_df['subject_code'] == 'zzz', ['subject_code']] \n",
        "# index 127"
      ],
      "metadata": {
        "colab": {
          "base_uri": "https://localhost:8080/",
          "height": 81
        },
        "id": "7rTgkeaADeEf",
        "outputId": "99383153-be1b-4745-8838-cc93b6db34fa"
      },
      "execution_count": null,
      "outputs": [
        {
          "output_type": "execute_result",
          "data": {
            "text/plain": [
              "    subject_code\n",
              "127          zzz"
            ],
            "text/html": [
              "\n",
              "  <div id=\"df-91a90c2b-efbc-4e0a-ac0c-3564874f5074\">\n",
              "    <div class=\"colab-df-container\">\n",
              "      <div>\n",
              "<style scoped>\n",
              "    .dataframe tbody tr th:only-of-type {\n",
              "        vertical-align: middle;\n",
              "    }\n",
              "\n",
              "    .dataframe tbody tr th {\n",
              "        vertical-align: top;\n",
              "    }\n",
              "\n",
              "    .dataframe thead th {\n",
              "        text-align: right;\n",
              "    }\n",
              "</style>\n",
              "<table border=\"1\" class=\"dataframe\">\n",
              "  <thead>\n",
              "    <tr style=\"text-align: right;\">\n",
              "      <th></th>\n",
              "      <th>subject_code</th>\n",
              "    </tr>\n",
              "  </thead>\n",
              "  <tbody>\n",
              "    <tr>\n",
              "      <th>127</th>\n",
              "      <td>zzz</td>\n",
              "    </tr>\n",
              "  </tbody>\n",
              "</table>\n",
              "</div>\n",
              "      <button class=\"colab-df-convert\" onclick=\"convertToInteractive('df-91a90c2b-efbc-4e0a-ac0c-3564874f5074')\"\n",
              "              title=\"Convert this dataframe to an interactive table.\"\n",
              "              style=\"display:none;\">\n",
              "        \n",
              "  <svg xmlns=\"http://www.w3.org/2000/svg\" height=\"24px\"viewBox=\"0 0 24 24\"\n",
              "       width=\"24px\">\n",
              "    <path d=\"M0 0h24v24H0V0z\" fill=\"none\"/>\n",
              "    <path d=\"M18.56 5.44l.94 2.06.94-2.06 2.06-.94-2.06-.94-.94-2.06-.94 2.06-2.06.94zm-11 1L8.5 8.5l.94-2.06 2.06-.94-2.06-.94L8.5 2.5l-.94 2.06-2.06.94zm10 10l.94 2.06.94-2.06 2.06-.94-2.06-.94-.94-2.06-.94 2.06-2.06.94z\"/><path d=\"M17.41 7.96l-1.37-1.37c-.4-.4-.92-.59-1.43-.59-.52 0-1.04.2-1.43.59L10.3 9.45l-7.72 7.72c-.78.78-.78 2.05 0 2.83L4 21.41c.39.39.9.59 1.41.59.51 0 1.02-.2 1.41-.59l7.78-7.78 2.81-2.81c.8-.78.8-2.07 0-2.86zM5.41 20L4 18.59l7.72-7.72 1.47 1.35L5.41 20z\"/>\n",
              "  </svg>\n",
              "      </button>\n",
              "      \n",
              "  <style>\n",
              "    .colab-df-container {\n",
              "      display:flex;\n",
              "      flex-wrap:wrap;\n",
              "      gap: 12px;\n",
              "    }\n",
              "\n",
              "    .colab-df-convert {\n",
              "      background-color: #E8F0FE;\n",
              "      border: none;\n",
              "      border-radius: 50%;\n",
              "      cursor: pointer;\n",
              "      display: none;\n",
              "      fill: #1967D2;\n",
              "      height: 32px;\n",
              "      padding: 0 0 0 0;\n",
              "      width: 32px;\n",
              "    }\n",
              "\n",
              "    .colab-df-convert:hover {\n",
              "      background-color: #E2EBFA;\n",
              "      box-shadow: 0px 1px 2px rgba(60, 64, 67, 0.3), 0px 1px 3px 1px rgba(60, 64, 67, 0.15);\n",
              "      fill: #174EA6;\n",
              "    }\n",
              "\n",
              "    [theme=dark] .colab-df-convert {\n",
              "      background-color: #3B4455;\n",
              "      fill: #D2E3FC;\n",
              "    }\n",
              "\n",
              "    [theme=dark] .colab-df-convert:hover {\n",
              "      background-color: #434B5C;\n",
              "      box-shadow: 0px 1px 3px 1px rgba(0, 0, 0, 0.15);\n",
              "      filter: drop-shadow(0px 1px 2px rgba(0, 0, 0, 0.3));\n",
              "      fill: #FFFFFF;\n",
              "    }\n",
              "  </style>\n",
              "\n",
              "      <script>\n",
              "        const buttonEl =\n",
              "          document.querySelector('#df-91a90c2b-efbc-4e0a-ac0c-3564874f5074 button.colab-df-convert');\n",
              "        buttonEl.style.display =\n",
              "          google.colab.kernel.accessAllowed ? 'block' : 'none';\n",
              "\n",
              "        async function convertToInteractive(key) {\n",
              "          const element = document.querySelector('#df-91a90c2b-efbc-4e0a-ac0c-3564874f5074');\n",
              "          const dataTable =\n",
              "            await google.colab.kernel.invokeFunction('convertToInteractive',\n",
              "                                                     [key], {});\n",
              "          if (!dataTable) return;\n",
              "\n",
              "          const docLinkHtml = 'Like what you see? Visit the ' +\n",
              "            '<a target=\"_blank\" href=https://colab.research.google.com/notebooks/data_table.ipynb>data table notebook</a>'\n",
              "            + ' to learn more about interactive tables.';\n",
              "          element.innerHTML = '';\n",
              "          dataTable['output_type'] = 'display_data';\n",
              "          await google.colab.output.renderOutput(dataTable, element);\n",
              "          const docLink = document.createElement('div');\n",
              "          docLink.innerHTML = docLinkHtml;\n",
              "          element.appendChild(docLink);\n",
              "        }\n",
              "      </script>\n",
              "    </div>\n",
              "  </div>\n",
              "  "
            ]
          },
          "metadata": {},
          "execution_count": 34
        }
      ]
    },
    {
      "cell_type": "code",
      "source": [
        "subjects_df.loc[127, :] \n",
        "# 'zzz' should be assigned to the subject_code for registrar-administrative use"
      ],
      "metadata": {
        "colab": {
          "base_uri": "https://localhost:8080/"
        },
        "id": "LKjiFQZkDku-",
        "outputId": "4227defa-30ee-40cb-a8f5-8c4a004128bb"
      },
      "execution_count": null,
      "outputs": [
        {
          "output_type": "execute_result",
          "data": {
            "text/plain": [
              "subject_code                                     zzz\n",
              "subject_name            registrar-administrative use\n",
              "subject_abbreviation                        adminuse\n",
              "Name: 127, dtype: object"
            ]
          },
          "metadata": {},
          "execution_count": 35
        }
      ]
    },
    {
      "cell_type": "code",
      "source": [
        "subject_memberships_df.loc[subject_memberships_df['subject_code'] == 'zzz', :]\n",
        "# there are no courses in the dataset with this subject_code, so we can delete"
      ],
      "metadata": {
        "colab": {
          "base_uri": "https://localhost:8080/",
          "height": 49
        },
        "id": "YsV1MOlHDuaO",
        "outputId": "b460b52d-1edb-43f7-b75f-82745d13fe82"
      },
      "execution_count": null,
      "outputs": [
        {
          "output_type": "execute_result",
          "data": {
            "text/plain": [
              "Empty DataFrame\n",
              "Columns: [subject_code, course_offering_uuid]\n",
              "Index: []"
            ],
            "text/html": [
              "\n",
              "  <div id=\"df-213dbe40-5cc8-4d3e-9168-2fced970670c\">\n",
              "    <div class=\"colab-df-container\">\n",
              "      <div>\n",
              "<style scoped>\n",
              "    .dataframe tbody tr th:only-of-type {\n",
              "        vertical-align: middle;\n",
              "    }\n",
              "\n",
              "    .dataframe tbody tr th {\n",
              "        vertical-align: top;\n",
              "    }\n",
              "\n",
              "    .dataframe thead th {\n",
              "        text-align: right;\n",
              "    }\n",
              "</style>\n",
              "<table border=\"1\" class=\"dataframe\">\n",
              "  <thead>\n",
              "    <tr style=\"text-align: right;\">\n",
              "      <th></th>\n",
              "      <th>subject_code</th>\n",
              "      <th>course_offering_uuid</th>\n",
              "    </tr>\n",
              "  </thead>\n",
              "  <tbody>\n",
              "  </tbody>\n",
              "</table>\n",
              "</div>\n",
              "      <button class=\"colab-df-convert\" onclick=\"convertToInteractive('df-213dbe40-5cc8-4d3e-9168-2fced970670c')\"\n",
              "              title=\"Convert this dataframe to an interactive table.\"\n",
              "              style=\"display:none;\">\n",
              "        \n",
              "  <svg xmlns=\"http://www.w3.org/2000/svg\" height=\"24px\"viewBox=\"0 0 24 24\"\n",
              "       width=\"24px\">\n",
              "    <path d=\"M0 0h24v24H0V0z\" fill=\"none\"/>\n",
              "    <path d=\"M18.56 5.44l.94 2.06.94-2.06 2.06-.94-2.06-.94-.94-2.06-.94 2.06-2.06.94zm-11 1L8.5 8.5l.94-2.06 2.06-.94-2.06-.94L8.5 2.5l-.94 2.06-2.06.94zm10 10l.94 2.06.94-2.06 2.06-.94-2.06-.94-.94-2.06-.94 2.06-2.06.94z\"/><path d=\"M17.41 7.96l-1.37-1.37c-.4-.4-.92-.59-1.43-.59-.52 0-1.04.2-1.43.59L10.3 9.45l-7.72 7.72c-.78.78-.78 2.05 0 2.83L4 21.41c.39.39.9.59 1.41.59.51 0 1.02-.2 1.41-.59l7.78-7.78 2.81-2.81c.8-.78.8-2.07 0-2.86zM5.41 20L4 18.59l7.72-7.72 1.47 1.35L5.41 20z\"/>\n",
              "  </svg>\n",
              "      </button>\n",
              "      \n",
              "  <style>\n",
              "    .colab-df-container {\n",
              "      display:flex;\n",
              "      flex-wrap:wrap;\n",
              "      gap: 12px;\n",
              "    }\n",
              "\n",
              "    .colab-df-convert {\n",
              "      background-color: #E8F0FE;\n",
              "      border: none;\n",
              "      border-radius: 50%;\n",
              "      cursor: pointer;\n",
              "      display: none;\n",
              "      fill: #1967D2;\n",
              "      height: 32px;\n",
              "      padding: 0 0 0 0;\n",
              "      width: 32px;\n",
              "    }\n",
              "\n",
              "    .colab-df-convert:hover {\n",
              "      background-color: #E2EBFA;\n",
              "      box-shadow: 0px 1px 2px rgba(60, 64, 67, 0.3), 0px 1px 3px 1px rgba(60, 64, 67, 0.15);\n",
              "      fill: #174EA6;\n",
              "    }\n",
              "\n",
              "    [theme=dark] .colab-df-convert {\n",
              "      background-color: #3B4455;\n",
              "      fill: #D2E3FC;\n",
              "    }\n",
              "\n",
              "    [theme=dark] .colab-df-convert:hover {\n",
              "      background-color: #434B5C;\n",
              "      box-shadow: 0px 1px 3px 1px rgba(0, 0, 0, 0.15);\n",
              "      filter: drop-shadow(0px 1px 2px rgba(0, 0, 0, 0.3));\n",
              "      fill: #FFFFFF;\n",
              "    }\n",
              "  </style>\n",
              "\n",
              "      <script>\n",
              "        const buttonEl =\n",
              "          document.querySelector('#df-213dbe40-5cc8-4d3e-9168-2fced970670c button.colab-df-convert');\n",
              "        buttonEl.style.display =\n",
              "          google.colab.kernel.accessAllowed ? 'block' : 'none';\n",
              "\n",
              "        async function convertToInteractive(key) {\n",
              "          const element = document.querySelector('#df-213dbe40-5cc8-4d3e-9168-2fced970670c');\n",
              "          const dataTable =\n",
              "            await google.colab.kernel.invokeFunction('convertToInteractive',\n",
              "                                                     [key], {});\n",
              "          if (!dataTable) return;\n",
              "\n",
              "          const docLinkHtml = 'Like what you see? Visit the ' +\n",
              "            '<a target=\"_blank\" href=https://colab.research.google.com/notebooks/data_table.ipynb>data table notebook</a>'\n",
              "            + ' to learn more about interactive tables.';\n",
              "          element.innerHTML = '';\n",
              "          dataTable['output_type'] = 'display_data';\n",
              "          await google.colab.output.renderOutput(dataTable, element);\n",
              "          const docLink = document.createElement('div');\n",
              "          docLink.innerHTML = docLinkHtml;\n",
              "          element.appendChild(docLink);\n",
              "        }\n",
              "      </script>\n",
              "    </div>\n",
              "  </div>\n",
              "  "
            ]
          },
          "metadata": {},
          "execution_count": 36
        }
      ]
    },
    {
      "cell_type": "code",
      "source": [
        "subjects_df.drop(127, axis = 0, inplace = True)"
      ],
      "metadata": {
        "id": "WW4i03szDyFw"
      },
      "execution_count": null,
      "outputs": []
    },
    {
      "cell_type": "code",
      "source": [
        "# check\n",
        "subjects_df.loc[subjects_df['subject_name'] == 'registrar-administrative use', :]"
      ],
      "metadata": {
        "colab": {
          "base_uri": "https://localhost:8080/",
          "height": 49
        },
        "id": "dMI6IgtrXO3P",
        "outputId": "12dd912f-f686-48a4-fef9-b95bcf881d5d"
      },
      "execution_count": null,
      "outputs": [
        {
          "output_type": "execute_result",
          "data": {
            "text/plain": [
              "Empty DataFrame\n",
              "Columns: [subject_code, subject_name, subject_abbreviation]\n",
              "Index: []"
            ],
            "text/html": [
              "\n",
              "  <div id=\"df-a2bc9ab4-3f5a-4320-b639-0d95f3b04046\">\n",
              "    <div class=\"colab-df-container\">\n",
              "      <div>\n",
              "<style scoped>\n",
              "    .dataframe tbody tr th:only-of-type {\n",
              "        vertical-align: middle;\n",
              "    }\n",
              "\n",
              "    .dataframe tbody tr th {\n",
              "        vertical-align: top;\n",
              "    }\n",
              "\n",
              "    .dataframe thead th {\n",
              "        text-align: right;\n",
              "    }\n",
              "</style>\n",
              "<table border=\"1\" class=\"dataframe\">\n",
              "  <thead>\n",
              "    <tr style=\"text-align: right;\">\n",
              "      <th></th>\n",
              "      <th>subject_code</th>\n",
              "      <th>subject_name</th>\n",
              "      <th>subject_abbreviation</th>\n",
              "    </tr>\n",
              "  </thead>\n",
              "  <tbody>\n",
              "  </tbody>\n",
              "</table>\n",
              "</div>\n",
              "      <button class=\"colab-df-convert\" onclick=\"convertToInteractive('df-a2bc9ab4-3f5a-4320-b639-0d95f3b04046')\"\n",
              "              title=\"Convert this dataframe to an interactive table.\"\n",
              "              style=\"display:none;\">\n",
              "        \n",
              "  <svg xmlns=\"http://www.w3.org/2000/svg\" height=\"24px\"viewBox=\"0 0 24 24\"\n",
              "       width=\"24px\">\n",
              "    <path d=\"M0 0h24v24H0V0z\" fill=\"none\"/>\n",
              "    <path d=\"M18.56 5.44l.94 2.06.94-2.06 2.06-.94-2.06-.94-.94-2.06-.94 2.06-2.06.94zm-11 1L8.5 8.5l.94-2.06 2.06-.94-2.06-.94L8.5 2.5l-.94 2.06-2.06.94zm10 10l.94 2.06.94-2.06 2.06-.94-2.06-.94-.94-2.06-.94 2.06-2.06.94z\"/><path d=\"M17.41 7.96l-1.37-1.37c-.4-.4-.92-.59-1.43-.59-.52 0-1.04.2-1.43.59L10.3 9.45l-7.72 7.72c-.78.78-.78 2.05 0 2.83L4 21.41c.39.39.9.59 1.41.59.51 0 1.02-.2 1.41-.59l7.78-7.78 2.81-2.81c.8-.78.8-2.07 0-2.86zM5.41 20L4 18.59l7.72-7.72 1.47 1.35L5.41 20z\"/>\n",
              "  </svg>\n",
              "      </button>\n",
              "      \n",
              "  <style>\n",
              "    .colab-df-container {\n",
              "      display:flex;\n",
              "      flex-wrap:wrap;\n",
              "      gap: 12px;\n",
              "    }\n",
              "\n",
              "    .colab-df-convert {\n",
              "      background-color: #E8F0FE;\n",
              "      border: none;\n",
              "      border-radius: 50%;\n",
              "      cursor: pointer;\n",
              "      display: none;\n",
              "      fill: #1967D2;\n",
              "      height: 32px;\n",
              "      padding: 0 0 0 0;\n",
              "      width: 32px;\n",
              "    }\n",
              "\n",
              "    .colab-df-convert:hover {\n",
              "      background-color: #E2EBFA;\n",
              "      box-shadow: 0px 1px 2px rgba(60, 64, 67, 0.3), 0px 1px 3px 1px rgba(60, 64, 67, 0.15);\n",
              "      fill: #174EA6;\n",
              "    }\n",
              "\n",
              "    [theme=dark] .colab-df-convert {\n",
              "      background-color: #3B4455;\n",
              "      fill: #D2E3FC;\n",
              "    }\n",
              "\n",
              "    [theme=dark] .colab-df-convert:hover {\n",
              "      background-color: #434B5C;\n",
              "      box-shadow: 0px 1px 3px 1px rgba(0, 0, 0, 0.15);\n",
              "      filter: drop-shadow(0px 1px 2px rgba(0, 0, 0, 0.3));\n",
              "      fill: #FFFFFF;\n",
              "    }\n",
              "  </style>\n",
              "\n",
              "      <script>\n",
              "        const buttonEl =\n",
              "          document.querySelector('#df-a2bc9ab4-3f5a-4320-b639-0d95f3b04046 button.colab-df-convert');\n",
              "        buttonEl.style.display =\n",
              "          google.colab.kernel.accessAllowed ? 'block' : 'none';\n",
              "\n",
              "        async function convertToInteractive(key) {\n",
              "          const element = document.querySelector('#df-a2bc9ab4-3f5a-4320-b639-0d95f3b04046');\n",
              "          const dataTable =\n",
              "            await google.colab.kernel.invokeFunction('convertToInteractive',\n",
              "                                                     [key], {});\n",
              "          if (!dataTable) return;\n",
              "\n",
              "          const docLinkHtml = 'Like what you see? Visit the ' +\n",
              "            '<a target=\"_blank\" href=https://colab.research.google.com/notebooks/data_table.ipynb>data table notebook</a>'\n",
              "            + ' to learn more about interactive tables.';\n",
              "          element.innerHTML = '';\n",
              "          dataTable['output_type'] = 'display_data';\n",
              "          await google.colab.output.renderOutput(dataTable, element);\n",
              "          const docLink = document.createElement('div');\n",
              "          docLink.innerHTML = docLinkHtml;\n",
              "          element.appendChild(docLink);\n",
              "        }\n",
              "      </script>\n",
              "    </div>\n",
              "  </div>\n",
              "  "
            ]
          },
          "metadata": {},
          "execution_count": 38
        }
      ]
    },
    {
      "cell_type": "code",
      "source": [
        "# cast 'subject_code' as int so can merge with df\n",
        "# subjects_df['subject_code'] = subjects_df['subject_code'].astype(int) \n",
        "# throws error for value 'sab'"
      ],
      "metadata": {
        "id": "wviG_Myu_YOQ"
      },
      "execution_count": null,
      "outputs": []
    },
    {
      "cell_type": "code",
      "source": [
        "# look up 'sab' in subject_code\n",
        "subjects_df.loc[subjects_df['subject_code'] == 'sab', ['subject_code']] \n",
        "# index 173"
      ],
      "metadata": {
        "colab": {
          "base_uri": "https://localhost:8080/",
          "height": 81
        },
        "id": "ujNGvY4g_uTu",
        "outputId": "3089d2c6-04a4-480d-bd02-c44f22c0fb41"
      },
      "execution_count": null,
      "outputs": [
        {
          "output_type": "execute_result",
          "data": {
            "text/plain": [
              "    subject_code\n",
              "173          sab"
            ],
            "text/html": [
              "\n",
              "  <div id=\"df-f8ce06c1-bafe-497a-b2c6-d924b295715e\">\n",
              "    <div class=\"colab-df-container\">\n",
              "      <div>\n",
              "<style scoped>\n",
              "    .dataframe tbody tr th:only-of-type {\n",
              "        vertical-align: middle;\n",
              "    }\n",
              "\n",
              "    .dataframe tbody tr th {\n",
              "        vertical-align: top;\n",
              "    }\n",
              "\n",
              "    .dataframe thead th {\n",
              "        text-align: right;\n",
              "    }\n",
              "</style>\n",
              "<table border=\"1\" class=\"dataframe\">\n",
              "  <thead>\n",
              "    <tr style=\"text-align: right;\">\n",
              "      <th></th>\n",
              "      <th>subject_code</th>\n",
              "    </tr>\n",
              "  </thead>\n",
              "  <tbody>\n",
              "    <tr>\n",
              "      <th>173</th>\n",
              "      <td>sab</td>\n",
              "    </tr>\n",
              "  </tbody>\n",
              "</table>\n",
              "</div>\n",
              "      <button class=\"colab-df-convert\" onclick=\"convertToInteractive('df-f8ce06c1-bafe-497a-b2c6-d924b295715e')\"\n",
              "              title=\"Convert this dataframe to an interactive table.\"\n",
              "              style=\"display:none;\">\n",
              "        \n",
              "  <svg xmlns=\"http://www.w3.org/2000/svg\" height=\"24px\"viewBox=\"0 0 24 24\"\n",
              "       width=\"24px\">\n",
              "    <path d=\"M0 0h24v24H0V0z\" fill=\"none\"/>\n",
              "    <path d=\"M18.56 5.44l.94 2.06.94-2.06 2.06-.94-2.06-.94-.94-2.06-.94 2.06-2.06.94zm-11 1L8.5 8.5l.94-2.06 2.06-.94-2.06-.94L8.5 2.5l-.94 2.06-2.06.94zm10 10l.94 2.06.94-2.06 2.06-.94-2.06-.94-.94-2.06-.94 2.06-2.06.94z\"/><path d=\"M17.41 7.96l-1.37-1.37c-.4-.4-.92-.59-1.43-.59-.52 0-1.04.2-1.43.59L10.3 9.45l-7.72 7.72c-.78.78-.78 2.05 0 2.83L4 21.41c.39.39.9.59 1.41.59.51 0 1.02-.2 1.41-.59l7.78-7.78 2.81-2.81c.8-.78.8-2.07 0-2.86zM5.41 20L4 18.59l7.72-7.72 1.47 1.35L5.41 20z\"/>\n",
              "  </svg>\n",
              "      </button>\n",
              "      \n",
              "  <style>\n",
              "    .colab-df-container {\n",
              "      display:flex;\n",
              "      flex-wrap:wrap;\n",
              "      gap: 12px;\n",
              "    }\n",
              "\n",
              "    .colab-df-convert {\n",
              "      background-color: #E8F0FE;\n",
              "      border: none;\n",
              "      border-radius: 50%;\n",
              "      cursor: pointer;\n",
              "      display: none;\n",
              "      fill: #1967D2;\n",
              "      height: 32px;\n",
              "      padding: 0 0 0 0;\n",
              "      width: 32px;\n",
              "    }\n",
              "\n",
              "    .colab-df-convert:hover {\n",
              "      background-color: #E2EBFA;\n",
              "      box-shadow: 0px 1px 2px rgba(60, 64, 67, 0.3), 0px 1px 3px 1px rgba(60, 64, 67, 0.15);\n",
              "      fill: #174EA6;\n",
              "    }\n",
              "\n",
              "    [theme=dark] .colab-df-convert {\n",
              "      background-color: #3B4455;\n",
              "      fill: #D2E3FC;\n",
              "    }\n",
              "\n",
              "    [theme=dark] .colab-df-convert:hover {\n",
              "      background-color: #434B5C;\n",
              "      box-shadow: 0px 1px 3px 1px rgba(0, 0, 0, 0.15);\n",
              "      filter: drop-shadow(0px 1px 2px rgba(0, 0, 0, 0.3));\n",
              "      fill: #FFFFFF;\n",
              "    }\n",
              "  </style>\n",
              "\n",
              "      <script>\n",
              "        const buttonEl =\n",
              "          document.querySelector('#df-f8ce06c1-bafe-497a-b2c6-d924b295715e button.colab-df-convert');\n",
              "        buttonEl.style.display =\n",
              "          google.colab.kernel.accessAllowed ? 'block' : 'none';\n",
              "\n",
              "        async function convertToInteractive(key) {\n",
              "          const element = document.querySelector('#df-f8ce06c1-bafe-497a-b2c6-d924b295715e');\n",
              "          const dataTable =\n",
              "            await google.colab.kernel.invokeFunction('convertToInteractive',\n",
              "                                                     [key], {});\n",
              "          if (!dataTable) return;\n",
              "\n",
              "          const docLinkHtml = 'Like what you see? Visit the ' +\n",
              "            '<a target=\"_blank\" href=https://colab.research.google.com/notebooks/data_table.ipynb>data table notebook</a>'\n",
              "            + ' to learn more about interactive tables.';\n",
              "          element.innerHTML = '';\n",
              "          dataTable['output_type'] = 'display_data';\n",
              "          await google.colab.output.renderOutput(dataTable, element);\n",
              "          const docLink = document.createElement('div');\n",
              "          docLink.innerHTML = docLinkHtml;\n",
              "          element.appendChild(docLink);\n",
              "        }\n",
              "      </script>\n",
              "    </div>\n",
              "  </div>\n",
              "  "
            ]
          },
          "metadata": {},
          "execution_count": 40
        }
      ]
    },
    {
      "cell_type": "code",
      "source": [
        "subjects_df.loc[173, :] \n",
        "# 'sab' should be assigned to the subject_code for 'international academic programs - study abroad'"
      ],
      "metadata": {
        "colab": {
          "base_uri": "https://localhost:8080/"
        },
        "id": "eJZnYZ31AnqH",
        "outputId": "71bcea73-eb64-413c-b7b3-af40e5147c43"
      },
      "execution_count": null,
      "outputs": [
        {
          "output_type": "execute_result",
          "data": {
            "text/plain": [
              "subject_code                                                       sab\n",
              "subject_name            international academic programs - study abroad\n",
              "subject_abbreviation                                          stdyabrd\n",
              "Name: 173, dtype: object"
            ]
          },
          "metadata": {},
          "execution_count": 41
        }
      ]
    },
    {
      "cell_type": "code",
      "source": [
        "subject_memberships_df.loc[subject_memberships_df['subject_code'] == 'sab', :]\n",
        "# there are no courses in the dataset with this subject_code, so we can delete"
      ],
      "metadata": {
        "colab": {
          "base_uri": "https://localhost:8080/",
          "height": 49
        },
        "id": "JWVuanorBti3",
        "outputId": "10f45260-9e41-4bdf-bc2d-c7e15aaa9129"
      },
      "execution_count": null,
      "outputs": [
        {
          "output_type": "execute_result",
          "data": {
            "text/plain": [
              "Empty DataFrame\n",
              "Columns: [subject_code, course_offering_uuid]\n",
              "Index: []"
            ],
            "text/html": [
              "\n",
              "  <div id=\"df-ef6a8fc1-66bc-4edc-89c0-a9c7958bc339\">\n",
              "    <div class=\"colab-df-container\">\n",
              "      <div>\n",
              "<style scoped>\n",
              "    .dataframe tbody tr th:only-of-type {\n",
              "        vertical-align: middle;\n",
              "    }\n",
              "\n",
              "    .dataframe tbody tr th {\n",
              "        vertical-align: top;\n",
              "    }\n",
              "\n",
              "    .dataframe thead th {\n",
              "        text-align: right;\n",
              "    }\n",
              "</style>\n",
              "<table border=\"1\" class=\"dataframe\">\n",
              "  <thead>\n",
              "    <tr style=\"text-align: right;\">\n",
              "      <th></th>\n",
              "      <th>subject_code</th>\n",
              "      <th>course_offering_uuid</th>\n",
              "    </tr>\n",
              "  </thead>\n",
              "  <tbody>\n",
              "  </tbody>\n",
              "</table>\n",
              "</div>\n",
              "      <button class=\"colab-df-convert\" onclick=\"convertToInteractive('df-ef6a8fc1-66bc-4edc-89c0-a9c7958bc339')\"\n",
              "              title=\"Convert this dataframe to an interactive table.\"\n",
              "              style=\"display:none;\">\n",
              "        \n",
              "  <svg xmlns=\"http://www.w3.org/2000/svg\" height=\"24px\"viewBox=\"0 0 24 24\"\n",
              "       width=\"24px\">\n",
              "    <path d=\"M0 0h24v24H0V0z\" fill=\"none\"/>\n",
              "    <path d=\"M18.56 5.44l.94 2.06.94-2.06 2.06-.94-2.06-.94-.94-2.06-.94 2.06-2.06.94zm-11 1L8.5 8.5l.94-2.06 2.06-.94-2.06-.94L8.5 2.5l-.94 2.06-2.06.94zm10 10l.94 2.06.94-2.06 2.06-.94-2.06-.94-.94-2.06-.94 2.06-2.06.94z\"/><path d=\"M17.41 7.96l-1.37-1.37c-.4-.4-.92-.59-1.43-.59-.52 0-1.04.2-1.43.59L10.3 9.45l-7.72 7.72c-.78.78-.78 2.05 0 2.83L4 21.41c.39.39.9.59 1.41.59.51 0 1.02-.2 1.41-.59l7.78-7.78 2.81-2.81c.8-.78.8-2.07 0-2.86zM5.41 20L4 18.59l7.72-7.72 1.47 1.35L5.41 20z\"/>\n",
              "  </svg>\n",
              "      </button>\n",
              "      \n",
              "  <style>\n",
              "    .colab-df-container {\n",
              "      display:flex;\n",
              "      flex-wrap:wrap;\n",
              "      gap: 12px;\n",
              "    }\n",
              "\n",
              "    .colab-df-convert {\n",
              "      background-color: #E8F0FE;\n",
              "      border: none;\n",
              "      border-radius: 50%;\n",
              "      cursor: pointer;\n",
              "      display: none;\n",
              "      fill: #1967D2;\n",
              "      height: 32px;\n",
              "      padding: 0 0 0 0;\n",
              "      width: 32px;\n",
              "    }\n",
              "\n",
              "    .colab-df-convert:hover {\n",
              "      background-color: #E2EBFA;\n",
              "      box-shadow: 0px 1px 2px rgba(60, 64, 67, 0.3), 0px 1px 3px 1px rgba(60, 64, 67, 0.15);\n",
              "      fill: #174EA6;\n",
              "    }\n",
              "\n",
              "    [theme=dark] .colab-df-convert {\n",
              "      background-color: #3B4455;\n",
              "      fill: #D2E3FC;\n",
              "    }\n",
              "\n",
              "    [theme=dark] .colab-df-convert:hover {\n",
              "      background-color: #434B5C;\n",
              "      box-shadow: 0px 1px 3px 1px rgba(0, 0, 0, 0.15);\n",
              "      filter: drop-shadow(0px 1px 2px rgba(0, 0, 0, 0.3));\n",
              "      fill: #FFFFFF;\n",
              "    }\n",
              "  </style>\n",
              "\n",
              "      <script>\n",
              "        const buttonEl =\n",
              "          document.querySelector('#df-ef6a8fc1-66bc-4edc-89c0-a9c7958bc339 button.colab-df-convert');\n",
              "        buttonEl.style.display =\n",
              "          google.colab.kernel.accessAllowed ? 'block' : 'none';\n",
              "\n",
              "        async function convertToInteractive(key) {\n",
              "          const element = document.querySelector('#df-ef6a8fc1-66bc-4edc-89c0-a9c7958bc339');\n",
              "          const dataTable =\n",
              "            await google.colab.kernel.invokeFunction('convertToInteractive',\n",
              "                                                     [key], {});\n",
              "          if (!dataTable) return;\n",
              "\n",
              "          const docLinkHtml = 'Like what you see? Visit the ' +\n",
              "            '<a target=\"_blank\" href=https://colab.research.google.com/notebooks/data_table.ipynb>data table notebook</a>'\n",
              "            + ' to learn more about interactive tables.';\n",
              "          element.innerHTML = '';\n",
              "          dataTable['output_type'] = 'display_data';\n",
              "          await google.colab.output.renderOutput(dataTable, element);\n",
              "          const docLink = document.createElement('div');\n",
              "          docLink.innerHTML = docLinkHtml;\n",
              "          element.appendChild(docLink);\n",
              "        }\n",
              "      </script>\n",
              "    </div>\n",
              "  </div>\n",
              "  "
            ]
          },
          "metadata": {},
          "execution_count": 42
        }
      ]
    },
    {
      "cell_type": "code",
      "source": [
        "subjects_df.drop(173, axis = 0, inplace = True)"
      ],
      "metadata": {
        "id": "vrlWk3vlCtR3"
      },
      "execution_count": null,
      "outputs": []
    },
    {
      "cell_type": "code",
      "source": [
        "# check\n",
        "subjects_df.loc[subjects_df['subject_name'] == 'international academic programs - study abroad', :]"
      ],
      "metadata": {
        "colab": {
          "base_uri": "https://localhost:8080/",
          "height": 49
        },
        "id": "VhvA2UW5DHf_",
        "outputId": "47be0912-6647-4e8b-c890-3b17ab1c286e"
      },
      "execution_count": null,
      "outputs": [
        {
          "output_type": "execute_result",
          "data": {
            "text/plain": [
              "Empty DataFrame\n",
              "Columns: [subject_code, subject_name, subject_abbreviation]\n",
              "Index: []"
            ],
            "text/html": [
              "\n",
              "  <div id=\"df-fe0c5493-9560-42a2-ba42-6dc99be693c0\">\n",
              "    <div class=\"colab-df-container\">\n",
              "      <div>\n",
              "<style scoped>\n",
              "    .dataframe tbody tr th:only-of-type {\n",
              "        vertical-align: middle;\n",
              "    }\n",
              "\n",
              "    .dataframe tbody tr th {\n",
              "        vertical-align: top;\n",
              "    }\n",
              "\n",
              "    .dataframe thead th {\n",
              "        text-align: right;\n",
              "    }\n",
              "</style>\n",
              "<table border=\"1\" class=\"dataframe\">\n",
              "  <thead>\n",
              "    <tr style=\"text-align: right;\">\n",
              "      <th></th>\n",
              "      <th>subject_code</th>\n",
              "      <th>subject_name</th>\n",
              "      <th>subject_abbreviation</th>\n",
              "    </tr>\n",
              "  </thead>\n",
              "  <tbody>\n",
              "  </tbody>\n",
              "</table>\n",
              "</div>\n",
              "      <button class=\"colab-df-convert\" onclick=\"convertToInteractive('df-fe0c5493-9560-42a2-ba42-6dc99be693c0')\"\n",
              "              title=\"Convert this dataframe to an interactive table.\"\n",
              "              style=\"display:none;\">\n",
              "        \n",
              "  <svg xmlns=\"http://www.w3.org/2000/svg\" height=\"24px\"viewBox=\"0 0 24 24\"\n",
              "       width=\"24px\">\n",
              "    <path d=\"M0 0h24v24H0V0z\" fill=\"none\"/>\n",
              "    <path d=\"M18.56 5.44l.94 2.06.94-2.06 2.06-.94-2.06-.94-.94-2.06-.94 2.06-2.06.94zm-11 1L8.5 8.5l.94-2.06 2.06-.94-2.06-.94L8.5 2.5l-.94 2.06-2.06.94zm10 10l.94 2.06.94-2.06 2.06-.94-2.06-.94-.94-2.06-.94 2.06-2.06.94z\"/><path d=\"M17.41 7.96l-1.37-1.37c-.4-.4-.92-.59-1.43-.59-.52 0-1.04.2-1.43.59L10.3 9.45l-7.72 7.72c-.78.78-.78 2.05 0 2.83L4 21.41c.39.39.9.59 1.41.59.51 0 1.02-.2 1.41-.59l7.78-7.78 2.81-2.81c.8-.78.8-2.07 0-2.86zM5.41 20L4 18.59l7.72-7.72 1.47 1.35L5.41 20z\"/>\n",
              "  </svg>\n",
              "      </button>\n",
              "      \n",
              "  <style>\n",
              "    .colab-df-container {\n",
              "      display:flex;\n",
              "      flex-wrap:wrap;\n",
              "      gap: 12px;\n",
              "    }\n",
              "\n",
              "    .colab-df-convert {\n",
              "      background-color: #E8F0FE;\n",
              "      border: none;\n",
              "      border-radius: 50%;\n",
              "      cursor: pointer;\n",
              "      display: none;\n",
              "      fill: #1967D2;\n",
              "      height: 32px;\n",
              "      padding: 0 0 0 0;\n",
              "      width: 32px;\n",
              "    }\n",
              "\n",
              "    .colab-df-convert:hover {\n",
              "      background-color: #E2EBFA;\n",
              "      box-shadow: 0px 1px 2px rgba(60, 64, 67, 0.3), 0px 1px 3px 1px rgba(60, 64, 67, 0.15);\n",
              "      fill: #174EA6;\n",
              "    }\n",
              "\n",
              "    [theme=dark] .colab-df-convert {\n",
              "      background-color: #3B4455;\n",
              "      fill: #D2E3FC;\n",
              "    }\n",
              "\n",
              "    [theme=dark] .colab-df-convert:hover {\n",
              "      background-color: #434B5C;\n",
              "      box-shadow: 0px 1px 3px 1px rgba(0, 0, 0, 0.15);\n",
              "      filter: drop-shadow(0px 1px 2px rgba(0, 0, 0, 0.3));\n",
              "      fill: #FFFFFF;\n",
              "    }\n",
              "  </style>\n",
              "\n",
              "      <script>\n",
              "        const buttonEl =\n",
              "          document.querySelector('#df-fe0c5493-9560-42a2-ba42-6dc99be693c0 button.colab-df-convert');\n",
              "        buttonEl.style.display =\n",
              "          google.colab.kernel.accessAllowed ? 'block' : 'none';\n",
              "\n",
              "        async function convertToInteractive(key) {\n",
              "          const element = document.querySelector('#df-fe0c5493-9560-42a2-ba42-6dc99be693c0');\n",
              "          const dataTable =\n",
              "            await google.colab.kernel.invokeFunction('convertToInteractive',\n",
              "                                                     [key], {});\n",
              "          if (!dataTable) return;\n",
              "\n",
              "          const docLinkHtml = 'Like what you see? Visit the ' +\n",
              "            '<a target=\"_blank\" href=https://colab.research.google.com/notebooks/data_table.ipynb>data table notebook</a>'\n",
              "            + ' to learn more about interactive tables.';\n",
              "          element.innerHTML = '';\n",
              "          dataTable['output_type'] = 'display_data';\n",
              "          await google.colab.output.renderOutput(dataTable, element);\n",
              "          const docLink = document.createElement('div');\n",
              "          docLink.innerHTML = docLinkHtml;\n",
              "          element.appendChild(docLink);\n",
              "        }\n",
              "      </script>\n",
              "    </div>\n",
              "  </div>\n",
              "  "
            ]
          },
          "metadata": {},
          "execution_count": 44
        }
      ]
    },
    {
      "cell_type": "code",
      "source": [
        "# cast 'subject_code' as int so can merge with df\n",
        "subjects_df['subject_code'] = subjects_df['subject_code'].astype(int)"
      ],
      "metadata": {
        "id": "YidQ9PNHD1WA"
      },
      "execution_count": null,
      "outputs": []
    },
    {
      "cell_type": "code",
      "source": [
        "# merge on 'subject_code\n",
        "complete_subjects_df = pd.merge(subject_memberships_df, \n",
        "                              subjects_df, \n",
        "                              how = 'outer', \n",
        "                              on = 'subject_code')"
      ],
      "metadata": {
        "id": "0vbTKeb9-pKF"
      },
      "execution_count": null,
      "outputs": []
    },
    {
      "cell_type": "code",
      "source": [
        "# inspect\n",
        "complete_subjects_df.info()"
      ],
      "metadata": {
        "colab": {
          "base_uri": "https://localhost:8080/"
        },
        "id": "IbhIV-_8_RSN",
        "outputId": "46b1bff1-4ca9-4d92-b890-47ea98877ee9"
      },
      "execution_count": null,
      "outputs": [
        {
          "output_type": "stream",
          "name": "stdout",
          "text": [
            "<class 'pandas.core.frame.DataFrame'>\n",
            "Int64Index: 95319 entries, 0 to 95318\n",
            "Data columns (total 4 columns):\n",
            " #   Column                Non-Null Count  Dtype \n",
            "---  ------                --------------  ----- \n",
            " 0   subject_code          95319 non-null  int64 \n",
            " 1   course_offering_uuid  95314 non-null  object\n",
            " 2   subject_name          95319 non-null  object\n",
            " 3   subject_abbreviation  95319 non-null  object\n",
            "dtypes: int64(1), object(3)\n",
            "memory usage: 3.6+ MB\n"
          ]
        }
      ]
    },
    {
      "cell_type": "markdown",
      "source": [
        "## Merge with big_df"
      ],
      "metadata": {
        "id": "B6xeXOltZdIf"
      }
    },
    {
      "cell_type": "markdown",
      "source": [
        "### Merge"
      ],
      "metadata": {
        "id": "3cI9TQjTZtTu"
      }
    },
    {
      "cell_type": "code",
      "source": [
        "# merge complete_subjects_df with big_df on 'course_offering_uuid'\n",
        "big_df = pd.merge(big_df, \n",
        "                  complete_subjects_df, \n",
        "                  how = 'outer', \n",
        "                  on = 'course_offering_uuid')"
      ],
      "metadata": {
        "id": "ep18Vjhf9buD"
      },
      "execution_count": null,
      "outputs": []
    },
    {
      "cell_type": "code",
      "source": [
        "# check\n",
        "big_df.info()"
      ],
      "metadata": {
        "colab": {
          "base_uri": "https://localhost:8080/"
        },
        "id": "w4clsw4v9t8r",
        "outputId": "5d61f3af-0e16-4ad4-f96f-e28417aa883a"
      },
      "execution_count": null,
      "outputs": [
        {
          "output_type": "stream",
          "name": "stdout",
          "text": [
            "<class 'pandas.core.frame.DataFrame'>\n",
            "Int64Index: 365133 entries, 0 to 365132\n",
            "Data columns (total 21 columns):\n",
            " #   Column                Non-Null Count   Dtype  \n",
            "---  ------                --------------   -----  \n",
            " 0   section_uuid          365128 non-null  object \n",
            " 1   course_offering_uuid  365128 non-null  object \n",
            " 2   section_type          365128 non-null  object \n",
            " 3   section_number        365128 non-null  float64\n",
            " 4   room_uuid             255639 non-null  object \n",
            " 5   schedule_uuid         365128 non-null  object \n",
            " 6   instructor_id         364408 non-null  float64\n",
            " 7   facility_code         255639 non-null  object \n",
            " 8   room_code             249390 non-null  object \n",
            " 9   start_time            365128 non-null  float64\n",
            " 10  end_time              365128 non-null  float64\n",
            " 11  mon                   365128 non-null  object \n",
            " 12  tues                  365128 non-null  object \n",
            " 13  wed                   365128 non-null  object \n",
            " 14  thurs                 365128 non-null  object \n",
            " 15  fri                   365128 non-null  object \n",
            " 16  sat                   365128 non-null  object \n",
            " 17  sun                   365128 non-null  object \n",
            " 18  subject_code          365133 non-null  int64  \n",
            " 19  subject_name          365133 non-null  object \n",
            " 20  subject_abbreviation  365133 non-null  object \n",
            "dtypes: float64(4), int64(1), object(16)\n",
            "memory usage: 61.3+ MB\n"
          ]
        }
      ]
    },
    {
      "cell_type": "markdown",
      "source": [
        "# course_offerings.csv"
      ],
      "metadata": {
        "id": "QYvUP6JdGsyA"
      }
    },
    {
      "cell_type": "markdown",
      "source": [
        "## Import"
      ],
      "metadata": {
        "id": "WSHWnSQaaI5r"
      }
    },
    {
      "cell_type": "code",
      "source": [
        "path = '/content/drive/MyDrive/Coding Dojo/Project 2/UW Madison Courses and Grades 2006-2017/course_offerings.csv'\n",
        "course_offerings_df = pd.read_csv(path)"
      ],
      "metadata": {
        "id": "U0SJG5SWFlZm"
      },
      "execution_count": null,
      "outputs": []
    },
    {
      "cell_type": "markdown",
      "source": [
        "## Inspect"
      ],
      "metadata": {
        "id": "OhwdRXd6aKvK"
      }
    },
    {
      "cell_type": "code",
      "source": [
        "# inspect\n",
        "course_offerings_df.info()"
      ],
      "metadata": {
        "colab": {
          "base_uri": "https://localhost:8080/"
        },
        "id": "NIocxI8vIKIu",
        "outputId": "87febc2e-f7b2-4f5e-9cdb-e2db958ea073"
      },
      "execution_count": null,
      "outputs": [
        {
          "output_type": "stream",
          "name": "stdout",
          "text": [
            "<class 'pandas.core.frame.DataFrame'>\n",
            "RangeIndex: 81452 entries, 0 to 81451\n",
            "Data columns (total 4 columns):\n",
            " #   Column       Non-Null Count  Dtype \n",
            "---  ------       --------------  ----- \n",
            " 0   uuid         81452 non-null  object\n",
            " 1   course_uuid  81452 non-null  object\n",
            " 2   term_code    81452 non-null  int64 \n",
            " 3   name         78916 non-null  object\n",
            "dtypes: int64(1), object(3)\n",
            "memory usage: 2.5+ MB\n"
          ]
        }
      ]
    },
    {
      "cell_type": "markdown",
      "source": [
        "## Rename columns & make lowercase"
      ],
      "metadata": {
        "id": "GQTORqOVaPv9"
      }
    },
    {
      "cell_type": "code",
      "source": [
        "# rename 'name' to 'course_offering_name' to avoid confusion with 'course_name' \n",
        "# (official course name and particular-term course name can differ)\n",
        "\n",
        "# rename 'uuid' to 'course_offering_uuid' to avoid confusion with 'course_uuid'\n",
        "course_offerings_df.rename(columns = {'name': 'course_offering_name', \n",
        "                                      'uuid': 'course_offering_uuid'}, \n",
        "                           inplace = True)"
      ],
      "metadata": {
        "id": "tHds3PGrIgCv"
      },
      "execution_count": null,
      "outputs": []
    },
    {
      "cell_type": "code",
      "source": [
        "# inspect\n",
        "course_offerings_df.info()"
      ],
      "metadata": {
        "colab": {
          "base_uri": "https://localhost:8080/"
        },
        "id": "M8epw6nUIyAW",
        "outputId": "54915f25-fd40-4e84-ed4d-118bb4dce98a"
      },
      "execution_count": null,
      "outputs": [
        {
          "output_type": "stream",
          "name": "stdout",
          "text": [
            "<class 'pandas.core.frame.DataFrame'>\n",
            "RangeIndex: 81452 entries, 0 to 81451\n",
            "Data columns (total 4 columns):\n",
            " #   Column                Non-Null Count  Dtype \n",
            "---  ------                --------------  ----- \n",
            " 0   course_offering_uuid  81452 non-null  object\n",
            " 1   course_uuid           81452 non-null  object\n",
            " 2   term_code             81452 non-null  int64 \n",
            " 3   course_offering_name  78916 non-null  object\n",
            "dtypes: int64(1), object(3)\n",
            "memory usage: 2.5+ MB\n"
          ]
        }
      ]
    },
    {
      "cell_type": "code",
      "source": [
        "# make all values lowercase to standardize\n",
        "course_offerings_df = course_offerings_df.applymap(lambda x: x.lower() if \\\n",
        "                                                   type(x) == str else x)"
      ],
      "metadata": {
        "id": "EB4e80DcaWAJ"
      },
      "execution_count": null,
      "outputs": []
    },
    {
      "cell_type": "markdown",
      "source": [
        "## Merge"
      ],
      "metadata": {
        "id": "EWUZX5CwdDIR"
      }
    },
    {
      "cell_type": "markdown",
      "source": [
        "### Merge"
      ],
      "metadata": {
        "id": "SK32iukxdELN"
      }
    },
    {
      "cell_type": "code",
      "source": [
        "# merge with big_df on course_offering_uuid\n",
        "big_df = pd.merge(big_df, \n",
        "                  course_offerings_df, \n",
        "                  how = 'outer', \n",
        "                  on = 'course_offering_uuid')"
      ],
      "metadata": {
        "id": "0x9Z_59FKDV2"
      },
      "execution_count": null,
      "outputs": []
    },
    {
      "cell_type": "code",
      "source": [
        "# check\n",
        "big_df.info()"
      ],
      "metadata": {
        "colab": {
          "base_uri": "https://localhost:8080/"
        },
        "id": "H1lyFSkpKS3V",
        "outputId": "d15071f6-c936-4d8f-d12c-cb394ce1eae7"
      },
      "execution_count": null,
      "outputs": [
        {
          "output_type": "stream",
          "name": "stdout",
          "text": [
            "<class 'pandas.core.frame.DataFrame'>\n",
            "Int64Index: 365133 entries, 0 to 365132\n",
            "Data columns (total 24 columns):\n",
            " #   Column                Non-Null Count   Dtype  \n",
            "---  ------                --------------   -----  \n",
            " 0   section_uuid          365128 non-null  object \n",
            " 1   course_offering_uuid  365128 non-null  object \n",
            " 2   section_type          365128 non-null  object \n",
            " 3   section_number        365128 non-null  float64\n",
            " 4   room_uuid             255639 non-null  object \n",
            " 5   schedule_uuid         365128 non-null  object \n",
            " 6   instructor_id         364408 non-null  float64\n",
            " 7   facility_code         255639 non-null  object \n",
            " 8   room_code             249390 non-null  object \n",
            " 9   start_time            365128 non-null  float64\n",
            " 10  end_time              365128 non-null  float64\n",
            " 11  mon                   365128 non-null  object \n",
            " 12  tues                  365128 non-null  object \n",
            " 13  wed                   365128 non-null  object \n",
            " 14  thurs                 365128 non-null  object \n",
            " 15  fri                   365128 non-null  object \n",
            " 16  sat                   365128 non-null  object \n",
            " 17  sun                   365128 non-null  object \n",
            " 18  subject_code          365133 non-null  int64  \n",
            " 19  subject_name          365133 non-null  object \n",
            " 20  subject_abbreviation  365133 non-null  object \n",
            " 21  course_uuid           365128 non-null  object \n",
            " 22  term_code             365128 non-null  float64\n",
            " 23  course_offering_name  355518 non-null  object \n",
            "dtypes: float64(5), int64(1), object(18)\n",
            "memory usage: 69.6+ MB\n"
          ]
        }
      ]
    },
    {
      "cell_type": "markdown",
      "source": [
        "# courses.csv"
      ],
      "metadata": {
        "id": "4bPKv8nWKc2Y"
      }
    },
    {
      "cell_type": "markdown",
      "source": [
        "## Import"
      ],
      "metadata": {
        "id": "QSX0hLaDdeH2"
      }
    },
    {
      "cell_type": "code",
      "source": [
        "path = '/content/drive/MyDrive/Coding Dojo/Project 2/UW Madison Courses and Grades 2006-2017/courses.csv'\n",
        "courses_df = pd.read_csv(path)"
      ],
      "metadata": {
        "id": "qb8JZy33KU2l"
      },
      "execution_count": null,
      "outputs": []
    },
    {
      "cell_type": "markdown",
      "source": [
        "## Inspect"
      ],
      "metadata": {
        "id": "h9bTxTsMdgUR"
      }
    },
    {
      "cell_type": "code",
      "source": [
        "# inspect\n",
        "courses_df.info()"
      ],
      "metadata": {
        "colab": {
          "base_uri": "https://localhost:8080/"
        },
        "id": "FBnkyWoXKt3W",
        "outputId": "147d97ff-54a1-4383-a805-50bd1554e30f"
      },
      "execution_count": null,
      "outputs": [
        {
          "output_type": "stream",
          "name": "stdout",
          "text": [
            "<class 'pandas.core.frame.DataFrame'>\n",
            "RangeIndex: 9306 entries, 0 to 9305\n",
            "Data columns (total 3 columns):\n",
            " #   Column  Non-Null Count  Dtype \n",
            "---  ------  --------------  ----- \n",
            " 0   uuid    9306 non-null   object\n",
            " 1   name    9264 non-null   object\n",
            " 2   number  9306 non-null   int64 \n",
            "dtypes: int64(1), object(2)\n",
            "memory usage: 218.2+ KB\n"
          ]
        }
      ]
    },
    {
      "cell_type": "markdown",
      "source": [
        "## Rename columns & make lowercase"
      ],
      "metadata": {
        "id": "_rExA7PTdis0"
      }
    },
    {
      "cell_type": "code",
      "source": [
        "# rename 'uuid' to 'course_uuid', 'name' to 'course_name', \n",
        "# 'number' to 'course_number' to avoid confusion\n",
        "courses_df.rename(columns = {'uuid': 'course_uuid', \n",
        "                             'name': 'course_name', \n",
        "                             'number': 'course_number'}, \n",
        "                  inplace = True)"
      ],
      "metadata": {
        "id": "ec9xB3ipK9Mp"
      },
      "execution_count": null,
      "outputs": []
    },
    {
      "cell_type": "code",
      "source": [
        "# check\n",
        "courses_df.info()"
      ],
      "metadata": {
        "colab": {
          "base_uri": "https://localhost:8080/"
        },
        "id": "QTRBWZz2LNiI",
        "outputId": "46a13b8b-e048-46c4-9f9d-ad8b35cf5cfb"
      },
      "execution_count": null,
      "outputs": [
        {
          "output_type": "stream",
          "name": "stdout",
          "text": [
            "<class 'pandas.core.frame.DataFrame'>\n",
            "RangeIndex: 9306 entries, 0 to 9305\n",
            "Data columns (total 3 columns):\n",
            " #   Column         Non-Null Count  Dtype \n",
            "---  ------         --------------  ----- \n",
            " 0   course_uuid    9306 non-null   object\n",
            " 1   course_name    9264 non-null   object\n",
            " 2   course_number  9306 non-null   int64 \n",
            "dtypes: int64(1), object(2)\n",
            "memory usage: 218.2+ KB\n"
          ]
        }
      ]
    },
    {
      "cell_type": "code",
      "source": [
        "# make all values lowercase to standardize\n",
        "courses_df = courses_df.applymap(lambda x: x.lower() if type(x) == str else x)"
      ],
      "metadata": {
        "id": "gFsy6D2Bdwra"
      },
      "execution_count": null,
      "outputs": []
    },
    {
      "cell_type": "markdown",
      "source": [
        "## Merge"
      ],
      "metadata": {
        "id": "8PxztbUAjQ7w"
      }
    },
    {
      "cell_type": "markdown",
      "source": [
        "### Merge"
      ],
      "metadata": {
        "id": "ilGPhcEbjSSN"
      }
    },
    {
      "cell_type": "code",
      "source": [
        "# merge with big_df on course_uuid\n",
        "big_df = pd.merge(big_df, \n",
        "                  courses_df, \n",
        "                  how = 'outer', \n",
        "                  on = 'course_uuid')"
      ],
      "metadata": {
        "id": "i4ejaYg4Lw72"
      },
      "execution_count": null,
      "outputs": []
    },
    {
      "cell_type": "code",
      "source": [
        "# inspect\n",
        "big_df.info()"
      ],
      "metadata": {
        "colab": {
          "base_uri": "https://localhost:8080/"
        },
        "id": "3HplWdUwMDTm",
        "outputId": "3ce33613-710c-4ab6-ab89-e6df81b6277e"
      },
      "execution_count": null,
      "outputs": [
        {
          "output_type": "stream",
          "name": "stdout",
          "text": [
            "<class 'pandas.core.frame.DataFrame'>\n",
            "Int64Index: 365133 entries, 0 to 365132\n",
            "Data columns (total 26 columns):\n",
            " #   Column                Non-Null Count   Dtype  \n",
            "---  ------                --------------   -----  \n",
            " 0   section_uuid          365128 non-null  object \n",
            " 1   course_offering_uuid  365128 non-null  object \n",
            " 2   section_type          365128 non-null  object \n",
            " 3   section_number        365128 non-null  float64\n",
            " 4   room_uuid             255639 non-null  object \n",
            " 5   schedule_uuid         365128 non-null  object \n",
            " 6   instructor_id         364408 non-null  float64\n",
            " 7   facility_code         255639 non-null  object \n",
            " 8   room_code             249390 non-null  object \n",
            " 9   start_time            365128 non-null  float64\n",
            " 10  end_time              365128 non-null  float64\n",
            " 11  mon                   365128 non-null  object \n",
            " 12  tues                  365128 non-null  object \n",
            " 13  wed                   365128 non-null  object \n",
            " 14  thurs                 365128 non-null  object \n",
            " 15  fri                   365128 non-null  object \n",
            " 16  sat                   365128 non-null  object \n",
            " 17  sun                   365128 non-null  object \n",
            " 18  subject_code          365133 non-null  int64  \n",
            " 19  subject_name          365133 non-null  object \n",
            " 20  subject_abbreviation  365133 non-null  object \n",
            " 21  course_uuid           365128 non-null  object \n",
            " 22  term_code             365128 non-null  float64\n",
            " 23  course_offering_name  355518 non-null  object \n",
            " 24  course_name           364915 non-null  object \n",
            " 25  course_number         365128 non-null  float64\n",
            "dtypes: float64(6), int64(1), object(19)\n",
            "memory usage: 75.2+ MB\n"
          ]
        }
      ]
    },
    {
      "cell_type": "markdown",
      "source": [
        "# grade_distributions.csv"
      ],
      "metadata": {
        "id": "ZuZ0YADANkIJ"
      }
    },
    {
      "cell_type": "markdown",
      "source": [
        "## Import"
      ],
      "metadata": {
        "id": "C1L-8ObOlO2C"
      }
    },
    {
      "cell_type": "code",
      "source": [
        "path = '/content/drive/MyDrive/Coding Dojo/Project 2/UW Madison Courses and Grades 2006-2017/grade_distributions.csv'\n",
        "grades_df = pd.read_csv(path)"
      ],
      "metadata": {
        "id": "cKYy-M53Mq-m"
      },
      "execution_count": null,
      "outputs": []
    },
    {
      "cell_type": "markdown",
      "source": [
        "## Inspect"
      ],
      "metadata": {
        "id": "guzJ_i5hlRRx"
      }
    },
    {
      "cell_type": "code",
      "source": [
        "grades_df.info()"
      ],
      "metadata": {
        "colab": {
          "base_uri": "https://localhost:8080/"
        },
        "id": "YIrJQ9_WlS7M",
        "outputId": "2f7f8584-8b82-45ad-e89d-751f94e36048"
      },
      "execution_count": null,
      "outputs": [
        {
          "output_type": "stream",
          "name": "stdout",
          "text": [
            "<class 'pandas.core.frame.DataFrame'>\n",
            "RangeIndex: 193262 entries, 0 to 193261\n",
            "Data columns (total 18 columns):\n",
            " #   Column                Non-Null Count   Dtype \n",
            "---  ------                --------------   ----- \n",
            " 0   course_offering_uuid  193262 non-null  object\n",
            " 1   section_number        193262 non-null  int64 \n",
            " 2   a_count               193262 non-null  int64 \n",
            " 3   ab_count              193262 non-null  int64 \n",
            " 4   b_count               193262 non-null  int64 \n",
            " 5   bc_count              193262 non-null  int64 \n",
            " 6   c_count               193262 non-null  int64 \n",
            " 7   d_count               193262 non-null  int64 \n",
            " 8   f_count               193262 non-null  int64 \n",
            " 9   s_count               193262 non-null  int64 \n",
            " 10  u_count               193262 non-null  int64 \n",
            " 11  cr_count              193262 non-null  int64 \n",
            " 12  n_count               193262 non-null  int64 \n",
            " 13  p_count               193262 non-null  int64 \n",
            " 14  i_count               193262 non-null  int64 \n",
            " 15  nw_count              193262 non-null  int64 \n",
            " 16  nr_count              193262 non-null  int64 \n",
            " 17  other_count           193262 non-null  int64 \n",
            "dtypes: int64(17), object(1)\n",
            "memory usage: 26.5+ MB\n"
          ]
        }
      ]
    },
    {
      "cell_type": "markdown",
      "source": [
        "## Rename columns & make lowercase"
      ],
      "metadata": {
        "id": "4dD4NOdMlYQv"
      }
    },
    {
      "cell_type": "code",
      "source": [
        "# make all values lowercase to standardize\n",
        "grades_df = grades_df.applymap(lambda x: x.lower() if type(x) == str else x)"
      ],
      "metadata": {
        "id": "I5Im7y71ldol"
      },
      "execution_count": null,
      "outputs": []
    },
    {
      "cell_type": "code",
      "source": [
        "# rename 'section_number' to 'grades_section_number' (there is already a \n",
        "# 'section_number' column in sections_df)\n",
        "grades_df.rename(columns = {'section_number': 'grades_section_number'},\n",
        "                  inplace = True)"
      ],
      "metadata": {
        "id": "62RH12S59D3I"
      },
      "execution_count": null,
      "outputs": []
    },
    {
      "cell_type": "markdown",
      "source": [
        "## Merge: Option 1 (on single column 'course_offering_uuid')"
      ],
      "metadata": {
        "id": "QeUUyX9Mo3OY"
      }
    },
    {
      "cell_type": "code",
      "source": [
        "# merge with big_df on course_offering_uuid\n",
        "big_df1 = pd.merge(big_df, \n",
        "                  grades_df, \n",
        "                  how = 'outer', \n",
        "                  on = 'course_offering_uuid')"
      ],
      "metadata": {
        "id": "bVChO7QA8l2o"
      },
      "execution_count": null,
      "outputs": []
    },
    {
      "cell_type": "code",
      "source": [
        "# inspect\n",
        "big_df1.info()"
      ],
      "metadata": {
        "colab": {
          "base_uri": "https://localhost:8080/"
        },
        "id": "g5_Eg6PV84Wm",
        "outputId": "d95086f5-9545-4597-c30b-70605c0f05a3"
      },
      "execution_count": null,
      "outputs": [
        {
          "output_type": "stream",
          "name": "stdout",
          "text": [
            "<class 'pandas.core.frame.DataFrame'>\n",
            "Int64Index: 2211665 entries, 0 to 2211664\n",
            "Data columns (total 43 columns):\n",
            " #   Column                 Dtype  \n",
            "---  ------                 -----  \n",
            " 0   section_uuid           object \n",
            " 1   course_offering_uuid   object \n",
            " 2   section_type           object \n",
            " 3   section_number         float64\n",
            " 4   room_uuid              object \n",
            " 5   schedule_uuid          object \n",
            " 6   instructor_id          float64\n",
            " 7   facility_code          object \n",
            " 8   room_code              object \n",
            " 9   start_time             float64\n",
            " 10  end_time               float64\n",
            " 11  mon                    object \n",
            " 12  tues                   object \n",
            " 13  wed                    object \n",
            " 14  thurs                  object \n",
            " 15  fri                    object \n",
            " 16  sat                    object \n",
            " 17  sun                    object \n",
            " 18  subject_code           int64  \n",
            " 19  subject_name           object \n",
            " 20  subject_abbreviation   object \n",
            " 21  course_uuid            object \n",
            " 22  term_code              float64\n",
            " 23  course_offering_name   object \n",
            " 24  course_name            object \n",
            " 25  course_number          float64\n",
            " 26  grades_section_number  float64\n",
            " 27  a_count                float64\n",
            " 28  ab_count               float64\n",
            " 29  b_count                float64\n",
            " 30  bc_count               float64\n",
            " 31  c_count                float64\n",
            " 32  d_count                float64\n",
            " 33  f_count                float64\n",
            " 34  s_count                float64\n",
            " 35  u_count                float64\n",
            " 36  cr_count               float64\n",
            " 37  n_count                float64\n",
            " 38  p_count                float64\n",
            " 39  i_count                float64\n",
            " 40  nw_count               float64\n",
            " 41  nr_count               float64\n",
            " 42  other_count            float64\n",
            "dtypes: float64(23), int64(1), object(19)\n",
            "memory usage: 742.4+ MB\n"
          ]
        }
      ]
    },
    {
      "cell_type": "markdown",
      "source": [
        "## Merge: Option 2 (on two columns: 'course_offering_uuid' and 'section_number')"
      ],
      "metadata": {
        "id": "NdoPbL6uKeLt"
      }
    },
    {
      "cell_type": "code",
      "source": [
        "grades_df2 = grades_df.copy()"
      ],
      "metadata": {
        "id": "gXdSVjKzKy2Z"
      },
      "execution_count": null,
      "outputs": []
    },
    {
      "cell_type": "code",
      "source": [
        "# in grades_df2 the grades_section_number column is int, but in big_df2 the section_number column is a float,\n",
        "# so when they are converted to strings they will be different\n",
        "# solution: cast grades_df2['grades_section_number'].astype(float)\n",
        "\n",
        "grades_df2['grades_section_number'] = grades_df2['grades_section_number'].astype(float)"
      ],
      "metadata": {
        "id": "tjRTUxpJL05q"
      },
      "execution_count": null,
      "outputs": []
    },
    {
      "cell_type": "code",
      "source": [
        "# make a column in grades_df2 that combines 'course_offering_uuid' and 'grades_section_number'\n",
        "# to use as the merge column\n",
        "grades_df2['course_and_section'] = grades_df2['course_offering_uuid'].astype(str) + \"_\" + grades_df2['grades_section_number'].astype(str)"
      ],
      "metadata": {
        "id": "z8VmCl0sKsEz"
      },
      "execution_count": null,
      "outputs": []
    },
    {
      "cell_type": "code",
      "source": [
        "# check\n",
        "grades_df2['course_and_section'].sample(10)"
      ],
      "metadata": {
        "colab": {
          "base_uri": "https://localhost:8080/"
        },
        "id": "n0hlqnzOLJqN",
        "outputId": "8c04e58f-9b68-4566-cba2-761848c024a6"
      },
      "execution_count": null,
      "outputs": [
        {
          "output_type": "execute_result",
          "data": {
            "text/plain": [
              "46749      9e9044fc-e680-35c1-9841-8054ac2b5231_2.0\n",
              "92688     df0b85ba-1abd-354c-a909-3a6760606931_66.0\n",
              "174583     936320ac-40e8-3aa1-8395-ecfcb5249152_1.0\n",
              "64216     4d0899be-73fa-38ca-83ff-13386bb3c4fa_11.0\n",
              "33307      93bdc34c-8da1-3ed3-83ba-bb33e6819bb2_1.0\n",
              "100542    9e9105e8-5333-3c0b-be2d-13bd7a8ddd78_50.0\n",
              "173353     2962cb6b-311f-32bb-b04d-bed65715775c_1.0\n",
              "114906    205cc645-d7be-34a2-a498-613317cb9532_43.0\n",
              "33517      9f5be4ff-4896-3a14-b8e9-1d0ab16ac05f_1.0\n",
              "175311     98a05e01-8049-361d-807f-a8e73c719c36_1.0\n",
              "Name: course_and_section, dtype: object"
            ]
          },
          "metadata": {},
          "execution_count": 73
        }
      ]
    },
    {
      "cell_type": "code",
      "source": [
        "# drop columns 'course_offering_uuid' and 'grades_section_number'\n",
        "grades_df2.drop(columns = ['course_offering_uuid', 'grades_section_number'], inplace = True)"
      ],
      "metadata": {
        "id": "dVaBOj79MmQs"
      },
      "execution_count": null,
      "outputs": []
    },
    {
      "cell_type": "code",
      "source": [
        "# see if new column 'course_and_section' uniquely identifies all rows in grades_df2\n",
        "print(f\"There are {grades_df2['course_and_section'].nunique()} unique values in \\\n",
        "the 'course_and_section' column in grades_df2 and there are {len(grades_df2)} \\\n",
        "rows in grades_df2.\")\n",
        "\n",
        "# yes, this column uniquely identifies all rows in grades_df2"
      ],
      "metadata": {
        "colab": {
          "base_uri": "https://localhost:8080/"
        },
        "id": "jFkU9A4LO7XV",
        "outputId": "92d2a7b2-06ed-4237-d422-2d3c1d21955d"
      },
      "execution_count": null,
      "outputs": [
        {
          "output_type": "stream",
          "name": "stdout",
          "text": [
            "There are 193262 unique values in the 'course_and_section' column in grades_df2 and there are 193262 rows in grades_df2.\n"
          ]
        }
      ]
    },
    {
      "cell_type": "code",
      "source": [
        "big_df2 = big_df.copy()"
      ],
      "metadata": {
        "id": "PEq5i9z6LXuU"
      },
      "execution_count": null,
      "outputs": []
    },
    {
      "cell_type": "code",
      "source": [
        "# make a column in big_df2 same as above for grades_df2\n",
        "big_df2['course_and_section'] = big_df2['course_offering_uuid'].astype(str) + \"_\" + big_df2['section_number'].astype(str)"
      ],
      "metadata": {
        "id": "wvFOPex4LRhj"
      },
      "execution_count": null,
      "outputs": []
    },
    {
      "cell_type": "code",
      "source": [
        "# check\n",
        "big_df2['course_and_section'].sample(10)"
      ],
      "metadata": {
        "colab": {
          "base_uri": "https://localhost:8080/"
        },
        "id": "qI0ktOHqLqa6",
        "outputId": "91789f04-0136-4314-bc51-263d77e5c46a"
      },
      "execution_count": null,
      "outputs": [
        {
          "output_type": "execute_result",
          "data": {
            "text/plain": [
              "224611    516f299c-0156-340a-8e00-a992ec795346_304.0\n",
              "37034      ed61de03-eba8-3787-b4f8-77ac41e26f57_21.0\n",
              "80081      c02d642b-1352-3ccb-aa52-f92ae7b8803d_42.0\n",
              "147723    0b67af02-a4d8-3d4f-8c90-1f638959017a_330.0\n",
              "169030      2a54c6d3-fb2d-3fe8-b3f9-e86856d59e98_1.0\n",
              "308019      87e5ab0a-6c95-3951-8536-83530c86d3aa_1.0\n",
              "195477    46c8a4ab-ca5a-3e17-8cfb-87995d8bafb0_615.0\n",
              "196317    e64fcae8-f738-3bd8-9d03-c96cd7d285f3_610.0\n",
              "70318       dbb9cbac-0f63-31a1-8fc9-57eea6611f1f_1.0\n",
              "219032    d5d0eaa5-92af-3ac9-99a1-b6b16c3c5a3f_305.0\n",
              "Name: course_and_section, dtype: object"
            ]
          },
          "metadata": {},
          "execution_count": 78
        }
      ]
    },
    {
      "cell_type": "code",
      "source": [
        "# see if new column 'course_and_section' uniquely identifies all rows in big_df2\n",
        "print(f\"There are {big_df2['course_and_section'].nunique()} unique values in \\\n",
        "the 'course_and_section' column in big_df2 and there are {len(big_df2)} \\\n",
        "rows in big_df2.\")\n",
        "\n",
        "# no, this column does not uniquely identify rows in big_df2\n",
        "# so, before we merge on this column, we need to figure out how the rows differ\n",
        "# in big_df2, so that we don't merge the same grade distribution to more than\n",
        "# one row in big_df2"
      ],
      "metadata": {
        "colab": {
          "base_uri": "https://localhost:8080/"
        },
        "id": "idxg4e0vPYsL",
        "outputId": "55f7a160-2b60-4a62-f89f-a340962c61cb"
      },
      "execution_count": null,
      "outputs": [
        {
          "output_type": "stream",
          "name": "stdout",
          "text": [
            "There are 277895 unique values in the 'course_and_section' column in big_df2 and there are 365133 rows in big_df2.\n"
          ]
        }
      ]
    },
    {
      "cell_type": "code",
      "source": [
        "# see which rows share the same value in the 'course_and_section' column in big_df2, and how many rows share the same value\n",
        "big_df2['course_and_section'].value_counts()\n",
        "\n",
        "# one 'course_and_section' includes 50 rows, and there are more 'course_and_section' values that share multiple rows"
      ],
      "metadata": {
        "colab": {
          "base_uri": "https://localhost:8080/"
        },
        "id": "xnMr4lCrP_qN",
        "outputId": "e539a23f-9d6d-40c2-fc45-57dfe4e6f234"
      },
      "execution_count": null,
      "outputs": [
        {
          "output_type": "execute_result",
          "data": {
            "text/plain": [
              "e6fe4acb-9375-3b46-9d16-6d6ae716d80a_1.0     50\n",
              "76b9c458-d3c2-38c4-951f-69b6900bd7fe_1.0     45\n",
              "febd8499-f935-3941-891f-79e2e34fa74e_1.0     42\n",
              "7b8aa2b9-560f-34a6-aa4b-153d1abfb542_1.0     40\n",
              "ea3b717c-d66b-30dc-8b37-964d9688295f_1.0     40\n",
              "                                             ..\n",
              "24abdcdb-d322-32f8-872b-e877e9d8d68e_1.0      1\n",
              "24abdcdb-d322-32f8-872b-e877e9d8d68e_10.0     1\n",
              "24abdcdb-d322-32f8-872b-e877e9d8d68e_18.0     1\n",
              "24abdcdb-d322-32f8-872b-e877e9d8d68e_13.0     1\n",
              "ad38492a-f913-3c3b-84bf-84b7f93cc925_1.0      1\n",
              "Name: course_and_section, Length: 277895, dtype: int64"
            ]
          },
          "metadata": {},
          "execution_count": 80
        }
      ]
    },
    {
      "cell_type": "code",
      "source": [
        "# investigate differences among rows that share the same value in the 'course_and_section' column in big_df2\n",
        "\n",
        "\n",
        "# look at the 'course_and_section' value that is copied in 50 rows, and see what differs among those 50 rows\n",
        "section1_df = big_df2[big_df2['course_and_section'] == 'e6fe4acb-9375-3b46-9d16-6d6ae716d80a_1.0']\n",
        "\n",
        "for col in section1_df.columns:\n",
        "  print(f\"column: {col}\")\n",
        "  print(section1_df[col].value_counts(dropna = False))\n",
        "  print()\n",
        "\n",
        "# they differ on 'section_uuid', 'instructor_id', 'subject_name', 'facility_code'"
      ],
      "metadata": {
        "colab": {
          "base_uri": "https://localhost:8080/"
        },
        "id": "Ev18mU0MP4UO",
        "outputId": "e6483cd2-cf75-4204-d309-9600df5d2698"
      },
      "execution_count": null,
      "outputs": [
        {
          "output_type": "stream",
          "name": "stdout",
          "text": [
            "column: section_uuid\n",
            "6fedc217-81a8-3bc4-9d57-5e10481282dc    10\n",
            "b0e86f13-692f-3f7d-8572-c94a8e7d1f07    10\n",
            "9465796d-7f08-3569-ac22-92b20cd245a1    10\n",
            "86a1c582-983c-3dbf-bc37-0cbd28407651    10\n",
            "d7ba74dc-2da5-39ba-845d-0422fb1909ec    10\n",
            "Name: section_uuid, dtype: int64\n",
            "\n",
            "column: course_offering_uuid\n",
            "e6fe4acb-9375-3b46-9d16-6d6ae716d80a    50\n",
            "Name: course_offering_uuid, dtype: int64\n",
            "\n",
            "column: section_type\n",
            "fld    50\n",
            "Name: section_type, dtype: int64\n",
            "\n",
            "column: section_number\n",
            "1.0    50\n",
            "Name: section_number, dtype: int64\n",
            "\n",
            "column: room_uuid\n",
            "04368a56-c959-3e4b-8b3d-f4cc3538fea5    30\n",
            "NaN                                     20\n",
            "Name: room_uuid, dtype: int64\n",
            "\n",
            "column: schedule_uuid\n",
            "f2d66a4d-0c08-3b48-abf6-649fffd7ae90    50\n",
            "Name: schedule_uuid, dtype: int64\n",
            "\n",
            "column: instructor_id\n",
            "761703.0     20\n",
            "788586.0     20\n",
            "3677061.0    10\n",
            "Name: instructor_id, dtype: int64\n",
            "\n",
            "column: facility_code\n",
            "off campus    30\n",
            "NaN           20\n",
            "Name: facility_code, dtype: int64\n",
            "\n",
            "column: room_code\n",
            "NaN    50\n",
            "Name: room_code, dtype: int64\n",
            "\n",
            "column: start_time\n",
            "-1.0    50\n",
            "Name: start_time, dtype: int64\n",
            "\n",
            "column: end_time\n",
            "-1.0    50\n",
            "Name: end_time, dtype: int64\n",
            "\n",
            "column: mon\n",
            "False    50\n",
            "Name: mon, dtype: int64\n",
            "\n",
            "column: tues\n",
            "False    50\n",
            "Name: tues, dtype: int64\n",
            "\n",
            "column: wed\n",
            "False    50\n",
            "Name: wed, dtype: int64\n",
            "\n",
            "column: thurs\n",
            "False    50\n",
            "Name: thurs, dtype: int64\n",
            "\n",
            "column: fri\n",
            "False    50\n",
            "Name: fri, dtype: int64\n",
            "\n",
            "column: sat\n",
            "False    50\n",
            "Name: sat, dtype: int64\n",
            "\n",
            "column: sun\n",
            "False    50\n",
            "Name: sun, dtype: int64\n",
            "\n",
            "column: subject_code\n",
            "220    5\n",
            "320    5\n",
            "346    5\n",
            "612    5\n",
            "636    5\n",
            "207    5\n",
            "490    5\n",
            "240    5\n",
            "418    5\n",
            "684    5\n",
            "Name: subject_code, dtype: int64\n",
            "\n",
            "column: subject_name\n",
            "chemical and biological engineering       5\n",
            "electrical and computer engineering       5\n",
            "engineering mechanics and astronautics    5\n",
            "mechanical engineering                    5\n",
            "materials science and engineering         5\n",
            "biomedical engineering                    5\n",
            "industrial and systems engineering        5\n",
            "civil and environmental engineering       5\n",
            "geological engineering                    5\n",
            "nuclear engineering                       5\n",
            "Name: subject_name, dtype: int64\n",
            "\n",
            "column: subject_abbreviation\n",
            "cbe         5\n",
            "e c e       5\n",
            "e m a       5\n",
            "m e         5\n",
            "m s & e     5\n",
            "b m e       5\n",
            "i sy e      5\n",
            "civ engr    5\n",
            "g l e       5\n",
            "n e         5\n",
            "Name: subject_abbreviation, dtype: int64\n",
            "\n",
            "column: course_uuid\n",
            "a3e3e1c3-543d-3bb5-ae65-5f2aec4ad1de    50\n",
            "Name: course_uuid, dtype: int64\n",
            "\n",
            "column: term_code\n",
            "1152.0    50\n",
            "Name: term_code, dtype: int64\n",
            "\n",
            "column: course_offering_name\n",
            "cooperative education prog    50\n",
            "Name: course_offering_name, dtype: int64\n",
            "\n",
            "column: course_name\n",
            "cooperative education program    50\n",
            "Name: course_name, dtype: int64\n",
            "\n",
            "column: course_number\n",
            "1.0    50\n",
            "Name: course_number, dtype: int64\n",
            "\n",
            "column: course_and_section\n",
            "e6fe4acb-9375-3b46-9d16-6d6ae716d80a_1.0    50\n",
            "Name: course_and_section, dtype: int64\n",
            "\n"
          ]
        }
      ]
    },
    {
      "cell_type": "code",
      "source": [
        "# to compress these 50 rows into one, we could:\n",
        "# assign 'multiple' for 'facility_code', 'instructor_id', and 'section_uuid' ('section_uuid' will eventually be dropped anyway)\n",
        "# assign 'engineering' for 'subject_name'\n",
        "# manually go through all other values for 'course_and_section' with multiple rows and re-assign other column values\n",
        "\n",
        "# the above would be a good strategy to make sure all data is preserved, but would be difficult/time-consuming to implement\n",
        "# so for the sake of simplicity (and meeting the due date deadline),\n",
        "# for now, we will drop every row that shares a 'course_and_section' column value with any other row\n",
        "# but before we do that, let's see how much of our data that strategy would delete!\n",
        "\n",
        "# get the value_counts again for the 'course_and_section' column, save in an array\n",
        "course_and_section_value_counts_array = big_df2['course_and_section'].value_counts()"
      ],
      "metadata": {
        "id": "he7aVTfnSdHM"
      },
      "execution_count": null,
      "outputs": []
    },
    {
      "cell_type": "code",
      "source": [
        "# get a list of the 'course_and_section' values that have multiple rows\n",
        "\n",
        "# create empty list\n",
        "duplicated_course_and_section_list = []\n",
        "\n",
        "# creat empty counter to count number of rows that are duplicated on 'course_and_section'\n",
        "num_duplicated_rows = 0\n",
        "\n",
        "# loop through each 'course_and_section' value and its 'value_count' in the array\n",
        "for course_and_section, value_count in course_and_section_value_counts_array.items():\n",
        "\n",
        "  # if the 'course_and_section' string represents is duplicated (appears in more than one row)\n",
        "  if value_count > 1:\n",
        "\n",
        "    # add the 'course_and_section' string to the duplicated_course_and_section_list\n",
        "    duplicated_course_and_section_list.append(course_and_section)\n",
        "\n",
        "    # add the value_count to the num_duplicated_rows\n",
        "    num_duplicated_rows += value_count\n",
        "\n",
        "print(len(duplicated_course_and_section_list)) # how many rows are duplicated on 'course_and_section'\n",
        "print(num_duplicated_rows) # in big_df2"
      ],
      "metadata": {
        "colab": {
          "base_uri": "https://localhost:8080/"
        },
        "id": "Sp0akyJWWpxN",
        "outputId": "7ea0e7ac-9fb2-4121-87a1-d7d130aa1e73"
      },
      "execution_count": null,
      "outputs": [
        {
          "output_type": "stream",
          "name": "stdout",
          "text": [
            "48793\n",
            "136031\n"
          ]
        }
      ]
    },
    {
      "cell_type": "code",
      "source": [
        "# what percent of our data does this represent?\n",
        "# number of duplicated rows in big_df2 over number of rows in big_df2\n",
        "print((num_duplicated_rows / len(big_df2)) * 100)\n",
        "\n",
        "# we are losing all the \"duplicated\" rows (any rows that share their 'course_and_section' value \n",
        "# with another row) in big_df2 but we are also losing 48,793 grade distributions (assuming there\n",
        "# is one grade distribution (in grades_df2) per 'course_and_section' value in big_df2)\n",
        "((len(duplicated_course_and_section_list) / len(grades_df2)) * 100)\n",
        "\n",
        "# i think this dataset is big enough that this loss of data is okay for now,\n",
        "# but if i had more time i would go back and implement the more difficult strategy\n",
        "# of compressing the duplicated rows into one so we wouldn't lose the grade data\n",
        "# for that row"
      ],
      "metadata": {
        "colab": {
          "base_uri": "https://localhost:8080/"
        },
        "id": "IR6vdLRDXnb0",
        "outputId": "fdae7a2f-2e29-4c93-ff90-acc89d2aab90"
      },
      "execution_count": null,
      "outputs": [
        {
          "output_type": "stream",
          "name": "stdout",
          "text": [
            "37.25519194375748\n"
          ]
        },
        {
          "output_type": "execute_result",
          "data": {
            "text/plain": [
              "25.247073920377517"
            ]
          },
          "metadata": {},
          "execution_count": 84
        }
      ]
    },
    {
      "cell_type": "code",
      "source": [
        "# check duplicated course and section list\n",
        "for item in duplicated_course_and_section_list[:20]:\n",
        "  print(item)"
      ],
      "metadata": {
        "colab": {
          "base_uri": "https://localhost:8080/"
        },
        "id": "0zvVWhgdOUNo",
        "outputId": "6a1bbc3a-8a09-42eb-b10a-02c03b52a6bf"
      },
      "execution_count": null,
      "outputs": [
        {
          "output_type": "stream",
          "name": "stdout",
          "text": [
            "e6fe4acb-9375-3b46-9d16-6d6ae716d80a_1.0\n",
            "76b9c458-d3c2-38c4-951f-69b6900bd7fe_1.0\n",
            "febd8499-f935-3941-891f-79e2e34fa74e_1.0\n",
            "7b8aa2b9-560f-34a6-aa4b-153d1abfb542_1.0\n",
            "ea3b717c-d66b-30dc-8b37-964d9688295f_1.0\n",
            "d8aa6383-0da4-3c39-adba-c324bb24a494_2.0\n",
            "8ec4c4f6-8040-3142-ae99-227063559eb8_1.0\n",
            "08c52cb4-31b6-3c51-a886-f75e527fe049_1.0\n",
            "a4f39010-e771-3375-abce-4fa0bdb01139_1.0\n",
            "73eb2c88-a7c0-36db-872f-b2fc0c1c956d_1.0\n",
            "c94b0026-46e5-3183-9e02-f0d8616b020e_1.0\n",
            "e2b91cd9-7941-319c-a3da-5f682c9d06eb_1.0\n",
            "be62d53d-6531-38ca-a396-da52bb4b1c15_3.0\n",
            "af720f25-ad8e-3226-9ab8-10186b84218a_301.0\n",
            "f759d1d8-0a9b-328e-9fa9-ffa5214221ae_8.0\n",
            "e100d196-5e82-32e4-80e9-ac45c07a498c_1.0\n",
            "cf5cbdbd-1496-33e7-b024-21ffcc72c354_1.0\n",
            "c9c4584c-0a47-3132-9a36-3494f713fadc_1.0\n",
            "16779668-a3e3-34ef-b17f-46a64c6338e8_1.0\n",
            "73eba694-db49-372f-8d0a-860018561e36_1.0\n"
          ]
        }
      ]
    },
    {
      "cell_type": "code",
      "source": [
        "# delete any row in big_df2 whose 'course_and_section' value matches an item\n",
        "# on the duplicated_course_and_section_list\n",
        "# save to new df\n",
        "\n",
        "big_df3 = big_df2[~big_df2['course_and_section'].isin(duplicated_course_and_section_list)]\n",
        "\n",
        "# check that big_df3 has number of rows equal to len(big_df2) minus num_duplicated_rows\n",
        "print(f\"length of big_df2: {len(big_df2)}\")\n",
        "print(f\"number of duplicated rows in big_df2: {num_duplicated_rows}\")\n",
        "print(f\"big_df3 should have {len(big_df2) - num_duplicated_rows} rows\")\n",
        "print(f\"length of big_df3: {len(big_df3)}\")"
      ],
      "metadata": {
        "colab": {
          "base_uri": "https://localhost:8080/"
        },
        "id": "bp3fspJ8qmcN",
        "outputId": "638de6d7-97bf-4b5d-95a3-191bbe96b66b"
      },
      "execution_count": null,
      "outputs": [
        {
          "output_type": "stream",
          "name": "stdout",
          "text": [
            "length of big_df2: 365133\n",
            "number of duplicated rows in big_df2: 136031\n",
            "big_df3 should have 229102 rows\n",
            "length of big_df3: 229102\n"
          ]
        }
      ]
    },
    {
      "cell_type": "code",
      "source": [
        "# do the same to grades_df2: drop all rows that are in duplicated_course_and_section_list\n",
        "\n",
        "grades_df3 = grades_df2[~grades_df2['course_and_section'].isin(duplicated_course_and_section_list)]\n",
        "\n",
        "# check old and new lengths of grades_dfs\n",
        "print(f\"length of grades_df2: {len(grades_df2)}\")\n",
        "print(f\"length of grades_df2 - length of duplicated_course_and_section_list: {len(grades_df2) - len(duplicated_course_and_section_list)}\")\n",
        "print(f\"length of grades_df3: {len(grades_df3)}\")\n",
        "\n",
        "# it's okay that the length of grades_df3 is not exactly equal to the length of grades_df2\n",
        "# minus the length of the duplicated course and section list because although we assume\n",
        "# that each course in the duplicated course and section list has one correlate row in\n",
        "# grades_df2, that may not be the case"
      ],
      "metadata": {
        "colab": {
          "base_uri": "https://localhost:8080/"
        },
        "id": "T4UUZh60P3MI",
        "outputId": "57307139-ea30-42f9-faf3-293309de5a9d"
      },
      "execution_count": null,
      "outputs": [
        {
          "output_type": "stream",
          "name": "stdout",
          "text": [
            "length of grades_df2: 193262\n",
            "length of grades_df2 - length of duplicated_course_and_section_list: 144469\n",
            "length of grades_df3: 165432\n"
          ]
        }
      ]
    },
    {
      "cell_type": "code",
      "source": [
        "# check now that the 'course_and_section' column uniquely identifies both big_df3 and grades_df3\n",
        "print(f\"rows in big_df3: {len(big_df3)}\")\n",
        "print(f\"unique row values in 'course_and_section' column in big_df3: {big_df3['course_and_section'].nunique()}\")\n",
        "print()\n",
        "print(f\"rows in grades_df3: {len(grades_df3)}\")\n",
        "print(f\"unique row values in 'course_and_section' column in grades_df3: {grades_df3['course_and_section'].nunique()}\")\n"
      ],
      "metadata": {
        "colab": {
          "base_uri": "https://localhost:8080/"
        },
        "id": "JbQw2T2BRLEQ",
        "outputId": "5fff97cd-3047-404b-9cec-ae8a76be9bf0"
      },
      "execution_count": null,
      "outputs": [
        {
          "output_type": "stream",
          "name": "stdout",
          "text": [
            "rows in big_df3: 229102\n",
            "unique row values in 'course_and_section' column in big_df3: 229102\n",
            "\n",
            "rows in grades_df3: 165432\n",
            "unique row values in 'course_and_section' column in grades_df3: 165432\n"
          ]
        }
      ]
    },
    {
      "cell_type": "code",
      "source": [
        "# now can merge big_df3 and grades_df3 on 'course_and_section' column\n",
        "# we want to do an inner join because we only want to keep rows that have a match in the 'course_and_section' column\n",
        "# if big_df3 has info in a row about a section that doesn't have a row with its grades in grades_df3,\n",
        "# we don't want that row (and vice versa)\n",
        "\n",
        "# make new df\n",
        "\n",
        "big_df4 = pd.merge(big_df3, \n",
        "                   grades_df3, \n",
        "                   how = 'inner',\n",
        "                   on = 'course_and_section')"
      ],
      "metadata": {
        "id": "vMH-jn_OM6Tr"
      },
      "execution_count": null,
      "outputs": []
    },
    {
      "cell_type": "code",
      "source": [
        "# check\n",
        "big_df4.info()"
      ],
      "metadata": {
        "colab": {
          "base_uri": "https://localhost:8080/"
        },
        "id": "RsePstP9OwfE",
        "outputId": "63c6a8da-b68a-4792-e556-b3a49a1f854e"
      },
      "execution_count": null,
      "outputs": [
        {
          "output_type": "stream",
          "name": "stdout",
          "text": [
            "<class 'pandas.core.frame.DataFrame'>\n",
            "Int64Index: 162710 entries, 0 to 162709\n",
            "Data columns (total 43 columns):\n",
            " #   Column                Non-Null Count   Dtype  \n",
            "---  ------                --------------   -----  \n",
            " 0   section_uuid          162710 non-null  object \n",
            " 1   course_offering_uuid  162710 non-null  object \n",
            " 2   section_type          162710 non-null  object \n",
            " 3   section_number        162710 non-null  float64\n",
            " 4   room_uuid             66778 non-null   object \n",
            " 5   schedule_uuid         162710 non-null  object \n",
            " 6   instructor_id         162682 non-null  float64\n",
            " 7   facility_code         66778 non-null   object \n",
            " 8   room_code             64871 non-null   object \n",
            " 9   start_time            162710 non-null  float64\n",
            " 10  end_time              162710 non-null  float64\n",
            " 11  mon                   162710 non-null  object \n",
            " 12  tues                  162710 non-null  object \n",
            " 13  wed                   162710 non-null  object \n",
            " 14  thurs                 162710 non-null  object \n",
            " 15  fri                   162710 non-null  object \n",
            " 16  sat                   162710 non-null  object \n",
            " 17  sun                   162710 non-null  object \n",
            " 18  subject_code          162710 non-null  int64  \n",
            " 19  subject_name          162710 non-null  object \n",
            " 20  subject_abbreviation  162710 non-null  object \n",
            " 21  course_uuid           162710 non-null  object \n",
            " 22  term_code             162710 non-null  float64\n",
            " 23  course_offering_name  162710 non-null  object \n",
            " 24  course_name           162710 non-null  object \n",
            " 25  course_number         162710 non-null  float64\n",
            " 26  course_and_section    162710 non-null  object \n",
            " 27  a_count               162710 non-null  int64  \n",
            " 28  ab_count              162710 non-null  int64  \n",
            " 29  b_count               162710 non-null  int64  \n",
            " 30  bc_count              162710 non-null  int64  \n",
            " 31  c_count               162710 non-null  int64  \n",
            " 32  d_count               162710 non-null  int64  \n",
            " 33  f_count               162710 non-null  int64  \n",
            " 34  s_count               162710 non-null  int64  \n",
            " 35  u_count               162710 non-null  int64  \n",
            " 36  cr_count              162710 non-null  int64  \n",
            " 37  n_count               162710 non-null  int64  \n",
            " 38  p_count               162710 non-null  int64  \n",
            " 39  i_count               162710 non-null  int64  \n",
            " 40  nw_count              162710 non-null  int64  \n",
            " 41  nr_count              162710 non-null  int64  \n",
            " 42  other_count           162710 non-null  int64  \n",
            "dtypes: float64(6), int64(17), object(20)\n",
            "memory usage: 54.6+ MB\n"
          ]
        }
      ]
    },
    {
      "cell_type": "code",
      "source": [
        "big_df4.sample(10)"
      ],
      "metadata": {
        "colab": {
          "base_uri": "https://localhost:8080/",
          "height": 959
        },
        "id": "cWcR0GGeSxr5",
        "outputId": "25e64994-6b63-47b6-d2e7-24b9e9578ff1"
      },
      "execution_count": null,
      "outputs": [
        {
          "output_type": "execute_result",
          "data": {
            "text/plain": [
              "                                section_uuid  \\\n",
              "36950   619d3f5a-9965-3d54-b9da-886f4c32eaa7   \n",
              "70909   e497314d-2a30-3917-9a3f-3542aaa33162   \n",
              "136486  c3e1c71e-679d-3420-9cde-00398fb42977   \n",
              "20697   54d20dfc-5b41-3f64-ad8d-bfdb8e112a16   \n",
              "17564   846b6707-5f11-3785-b9f5-115c08b9d579   \n",
              "108930  d4b83e43-fd93-380c-b614-f34b99b72bce   \n",
              "155362  07c4a9e0-f5ec-3ab4-953a-9197200010f4   \n",
              "117363  9adc7744-5647-367b-8fa2-af86f857d103   \n",
              "55273   1f3d6ef8-d5cc-36e7-ac10-24fd06133a5d   \n",
              "94939   0028ce75-049b-31f7-a4d3-554f56ed60c6   \n",
              "\n",
              "                        course_offering_uuid section_type  section_number  \\\n",
              "36950   2958d93a-2167-346a-8cea-dde6bd5b6909          fld             3.0   \n",
              "70909   14902e49-3e34-3e08-9301-c132ee1d91f4          ind            25.0   \n",
              "136486  e25021bc-79a8-3606-a41e-e3e381cfa7f9          lec             2.0   \n",
              "20697   e482560e-1552-3827-b94d-4a9a1222fb6b          ind             8.0   \n",
              "17564   6ed95cb7-15ef-3dbf-98aa-46c75825623d          ind            40.0   \n",
              "108930  37dc1ffb-f94d-3db3-bbac-0b3ee4f44fd6          lec             1.0   \n",
              "155362  38a98d18-5d38-3385-8b2b-20e97fa370b2          fld            43.0   \n",
              "117363  d4d989f8-0fa9-3e9a-9580-1457e28deb3a          lec             1.0   \n",
              "55273   c94e7737-3563-36fa-9f66-cfc9ed7a1163          ind            19.0   \n",
              "94939   96bc2ba0-d66b-385d-8f6e-79a3d86fed68          fld             1.0   \n",
              "\n",
              "                                   room_uuid  \\\n",
              "36950                                    NaN   \n",
              "70909                                    NaN   \n",
              "136486  7d4dd9b8-4a5a-3d7b-b66b-525583c0cb4f   \n",
              "20697                                    NaN   \n",
              "17564                                    NaN   \n",
              "108930  2f5347d3-1465-390a-9600-3a6bfe2497e5   \n",
              "155362                                   NaN   \n",
              "117363  ce4a2d03-9575-3700-9fce-eb7b64af6c82   \n",
              "55273                                    NaN   \n",
              "94939                                    NaN   \n",
              "\n",
              "                               schedule_uuid  instructor_id facility_code  \\\n",
              "36950   f2d66a4d-0c08-3b48-abf6-649fffd7ae90       473859.0           NaN   \n",
              "70909   f2d66a4d-0c08-3b48-abf6-649fffd7ae90       988245.0           NaN   \n",
              "136486  acfa659f-afaa-355c-a3a9-16d23ad183b9      2600269.0          0140   \n",
              "20697   f2d66a4d-0c08-3b48-abf6-649fffd7ae90      4991968.0           NaN   \n",
              "17564   f2d66a4d-0c08-3b48-abf6-649fffd7ae90      2600403.0           NaN   \n",
              "108930  3f78e049-8448-355b-b5a0-725b0f85f1d1       986112.0          0085   \n",
              "155362  739ab54a-17e8-3428-b64a-5b60640a35ff      2601476.0           NaN   \n",
              "117363  b19d06a0-0c85-3e15-91e5-bd30a21074ea      4195808.0          0408   \n",
              "55273   f2d66a4d-0c08-3b48-abf6-649fffd7ae90      2600316.0           NaN   \n",
              "94939   f2d66a4d-0c08-3b48-abf6-649fffd7ae90       940942.0           NaN   \n",
              "\n",
              "       room_code  start_time  ...  f_count s_count u_count cr_count n_count  \\\n",
              "36950        NaN        -1.0  ...        0       0       0        0       0   \n",
              "70909        NaN        -1.0  ...        0       7       0        0       0   \n",
              "136486      3335       780.0  ...        0       0       0        0       0   \n",
              "20697        NaN        -1.0  ...        0       0       0        0       0   \n",
              "17564        NaN        -1.0  ...        0       0       0        0       0   \n",
              "108930      2235       480.0  ...        0       0       0        0       0   \n",
              "155362       NaN       360.0  ...        0       0       0        0       0   \n",
              "117363      2535       780.0  ...        0       0       0        0       0   \n",
              "55273        NaN        -1.0  ...        0       0       0        0       0   \n",
              "94939        NaN        -1.0  ...        0       0       0        0       0   \n",
              "\n",
              "       p_count i_count nw_count  nr_count other_count  \n",
              "36950        0       0        0         0           0  \n",
              "70909        8       0        0         0           0  \n",
              "136486       0       0        0         0           0  \n",
              "20697        0       0        0         0           0  \n",
              "17564        0       0        0         0           0  \n",
              "108930       0       0        0         0           0  \n",
              "155362       0       0        0         0           0  \n",
              "117363       0       0        0         0           0  \n",
              "55273        0       0        0         0           0  \n",
              "94939        0       0        0         0           0  \n",
              "\n",
              "[10 rows x 43 columns]"
            ],
            "text/html": [
              "\n",
              "  <div id=\"df-5ea37bd2-beb1-4ff8-b438-c814d0b086b3\">\n",
              "    <div class=\"colab-df-container\">\n",
              "      <div>\n",
              "<style scoped>\n",
              "    .dataframe tbody tr th:only-of-type {\n",
              "        vertical-align: middle;\n",
              "    }\n",
              "\n",
              "    .dataframe tbody tr th {\n",
              "        vertical-align: top;\n",
              "    }\n",
              "\n",
              "    .dataframe thead th {\n",
              "        text-align: right;\n",
              "    }\n",
              "</style>\n",
              "<table border=\"1\" class=\"dataframe\">\n",
              "  <thead>\n",
              "    <tr style=\"text-align: right;\">\n",
              "      <th></th>\n",
              "      <th>section_uuid</th>\n",
              "      <th>course_offering_uuid</th>\n",
              "      <th>section_type</th>\n",
              "      <th>section_number</th>\n",
              "      <th>room_uuid</th>\n",
              "      <th>schedule_uuid</th>\n",
              "      <th>instructor_id</th>\n",
              "      <th>facility_code</th>\n",
              "      <th>room_code</th>\n",
              "      <th>start_time</th>\n",
              "      <th>...</th>\n",
              "      <th>f_count</th>\n",
              "      <th>s_count</th>\n",
              "      <th>u_count</th>\n",
              "      <th>cr_count</th>\n",
              "      <th>n_count</th>\n",
              "      <th>p_count</th>\n",
              "      <th>i_count</th>\n",
              "      <th>nw_count</th>\n",
              "      <th>nr_count</th>\n",
              "      <th>other_count</th>\n",
              "    </tr>\n",
              "  </thead>\n",
              "  <tbody>\n",
              "    <tr>\n",
              "      <th>36950</th>\n",
              "      <td>619d3f5a-9965-3d54-b9da-886f4c32eaa7</td>\n",
              "      <td>2958d93a-2167-346a-8cea-dde6bd5b6909</td>\n",
              "      <td>fld</td>\n",
              "      <td>3.0</td>\n",
              "      <td>NaN</td>\n",
              "      <td>f2d66a4d-0c08-3b48-abf6-649fffd7ae90</td>\n",
              "      <td>473859.0</td>\n",
              "      <td>NaN</td>\n",
              "      <td>NaN</td>\n",
              "      <td>-1.0</td>\n",
              "      <td>...</td>\n",
              "      <td>0</td>\n",
              "      <td>0</td>\n",
              "      <td>0</td>\n",
              "      <td>0</td>\n",
              "      <td>0</td>\n",
              "      <td>0</td>\n",
              "      <td>0</td>\n",
              "      <td>0</td>\n",
              "      <td>0</td>\n",
              "      <td>0</td>\n",
              "    </tr>\n",
              "    <tr>\n",
              "      <th>70909</th>\n",
              "      <td>e497314d-2a30-3917-9a3f-3542aaa33162</td>\n",
              "      <td>14902e49-3e34-3e08-9301-c132ee1d91f4</td>\n",
              "      <td>ind</td>\n",
              "      <td>25.0</td>\n",
              "      <td>NaN</td>\n",
              "      <td>f2d66a4d-0c08-3b48-abf6-649fffd7ae90</td>\n",
              "      <td>988245.0</td>\n",
              "      <td>NaN</td>\n",
              "      <td>NaN</td>\n",
              "      <td>-1.0</td>\n",
              "      <td>...</td>\n",
              "      <td>0</td>\n",
              "      <td>7</td>\n",
              "      <td>0</td>\n",
              "      <td>0</td>\n",
              "      <td>0</td>\n",
              "      <td>8</td>\n",
              "      <td>0</td>\n",
              "      <td>0</td>\n",
              "      <td>0</td>\n",
              "      <td>0</td>\n",
              "    </tr>\n",
              "    <tr>\n",
              "      <th>136486</th>\n",
              "      <td>c3e1c71e-679d-3420-9cde-00398fb42977</td>\n",
              "      <td>e25021bc-79a8-3606-a41e-e3e381cfa7f9</td>\n",
              "      <td>lec</td>\n",
              "      <td>2.0</td>\n",
              "      <td>7d4dd9b8-4a5a-3d7b-b66b-525583c0cb4f</td>\n",
              "      <td>acfa659f-afaa-355c-a3a9-16d23ad183b9</td>\n",
              "      <td>2600269.0</td>\n",
              "      <td>0140</td>\n",
              "      <td>3335</td>\n",
              "      <td>780.0</td>\n",
              "      <td>...</td>\n",
              "      <td>0</td>\n",
              "      <td>0</td>\n",
              "      <td>0</td>\n",
              "      <td>0</td>\n",
              "      <td>0</td>\n",
              "      <td>0</td>\n",
              "      <td>0</td>\n",
              "      <td>0</td>\n",
              "      <td>0</td>\n",
              "      <td>0</td>\n",
              "    </tr>\n",
              "    <tr>\n",
              "      <th>20697</th>\n",
              "      <td>54d20dfc-5b41-3f64-ad8d-bfdb8e112a16</td>\n",
              "      <td>e482560e-1552-3827-b94d-4a9a1222fb6b</td>\n",
              "      <td>ind</td>\n",
              "      <td>8.0</td>\n",
              "      <td>NaN</td>\n",
              "      <td>f2d66a4d-0c08-3b48-abf6-649fffd7ae90</td>\n",
              "      <td>4991968.0</td>\n",
              "      <td>NaN</td>\n",
              "      <td>NaN</td>\n",
              "      <td>-1.0</td>\n",
              "      <td>...</td>\n",
              "      <td>0</td>\n",
              "      <td>0</td>\n",
              "      <td>0</td>\n",
              "      <td>0</td>\n",
              "      <td>0</td>\n",
              "      <td>0</td>\n",
              "      <td>0</td>\n",
              "      <td>0</td>\n",
              "      <td>0</td>\n",
              "      <td>0</td>\n",
              "    </tr>\n",
              "    <tr>\n",
              "      <th>17564</th>\n",
              "      <td>846b6707-5f11-3785-b9f5-115c08b9d579</td>\n",
              "      <td>6ed95cb7-15ef-3dbf-98aa-46c75825623d</td>\n",
              "      <td>ind</td>\n",
              "      <td>40.0</td>\n",
              "      <td>NaN</td>\n",
              "      <td>f2d66a4d-0c08-3b48-abf6-649fffd7ae90</td>\n",
              "      <td>2600403.0</td>\n",
              "      <td>NaN</td>\n",
              "      <td>NaN</td>\n",
              "      <td>-1.0</td>\n",
              "      <td>...</td>\n",
              "      <td>0</td>\n",
              "      <td>0</td>\n",
              "      <td>0</td>\n",
              "      <td>0</td>\n",
              "      <td>0</td>\n",
              "      <td>0</td>\n",
              "      <td>0</td>\n",
              "      <td>0</td>\n",
              "      <td>0</td>\n",
              "      <td>0</td>\n",
              "    </tr>\n",
              "    <tr>\n",
              "      <th>108930</th>\n",
              "      <td>d4b83e43-fd93-380c-b614-f34b99b72bce</td>\n",
              "      <td>37dc1ffb-f94d-3db3-bbac-0b3ee4f44fd6</td>\n",
              "      <td>lec</td>\n",
              "      <td>1.0</td>\n",
              "      <td>2f5347d3-1465-390a-9600-3a6bfe2497e5</td>\n",
              "      <td>3f78e049-8448-355b-b5a0-725b0f85f1d1</td>\n",
              "      <td>986112.0</td>\n",
              "      <td>0085</td>\n",
              "      <td>2235</td>\n",
              "      <td>480.0</td>\n",
              "      <td>...</td>\n",
              "      <td>0</td>\n",
              "      <td>0</td>\n",
              "      <td>0</td>\n",
              "      <td>0</td>\n",
              "      <td>0</td>\n",
              "      <td>0</td>\n",
              "      <td>0</td>\n",
              "      <td>0</td>\n",
              "      <td>0</td>\n",
              "      <td>0</td>\n",
              "    </tr>\n",
              "    <tr>\n",
              "      <th>155362</th>\n",
              "      <td>07c4a9e0-f5ec-3ab4-953a-9197200010f4</td>\n",
              "      <td>38a98d18-5d38-3385-8b2b-20e97fa370b2</td>\n",
              "      <td>fld</td>\n",
              "      <td>43.0</td>\n",
              "      <td>NaN</td>\n",
              "      <td>739ab54a-17e8-3428-b64a-5b60640a35ff</td>\n",
              "      <td>2601476.0</td>\n",
              "      <td>NaN</td>\n",
              "      <td>NaN</td>\n",
              "      <td>360.0</td>\n",
              "      <td>...</td>\n",
              "      <td>0</td>\n",
              "      <td>0</td>\n",
              "      <td>0</td>\n",
              "      <td>0</td>\n",
              "      <td>0</td>\n",
              "      <td>0</td>\n",
              "      <td>0</td>\n",
              "      <td>0</td>\n",
              "      <td>0</td>\n",
              "      <td>0</td>\n",
              "    </tr>\n",
              "    <tr>\n",
              "      <th>117363</th>\n",
              "      <td>9adc7744-5647-367b-8fa2-af86f857d103</td>\n",
              "      <td>d4d989f8-0fa9-3e9a-9580-1457e28deb3a</td>\n",
              "      <td>lec</td>\n",
              "      <td>1.0</td>\n",
              "      <td>ce4a2d03-9575-3700-9fce-eb7b64af6c82</td>\n",
              "      <td>b19d06a0-0c85-3e15-91e5-bd30a21074ea</td>\n",
              "      <td>4195808.0</td>\n",
              "      <td>0408</td>\n",
              "      <td>2535</td>\n",
              "      <td>780.0</td>\n",
              "      <td>...</td>\n",
              "      <td>0</td>\n",
              "      <td>0</td>\n",
              "      <td>0</td>\n",
              "      <td>0</td>\n",
              "      <td>0</td>\n",
              "      <td>0</td>\n",
              "      <td>0</td>\n",
              "      <td>0</td>\n",
              "      <td>0</td>\n",
              "      <td>0</td>\n",
              "    </tr>\n",
              "    <tr>\n",
              "      <th>55273</th>\n",
              "      <td>1f3d6ef8-d5cc-36e7-ac10-24fd06133a5d</td>\n",
              "      <td>c94e7737-3563-36fa-9f66-cfc9ed7a1163</td>\n",
              "      <td>ind</td>\n",
              "      <td>19.0</td>\n",
              "      <td>NaN</td>\n",
              "      <td>f2d66a4d-0c08-3b48-abf6-649fffd7ae90</td>\n",
              "      <td>2600316.0</td>\n",
              "      <td>NaN</td>\n",
              "      <td>NaN</td>\n",
              "      <td>-1.0</td>\n",
              "      <td>...</td>\n",
              "      <td>0</td>\n",
              "      <td>0</td>\n",
              "      <td>0</td>\n",
              "      <td>0</td>\n",
              "      <td>0</td>\n",
              "      <td>0</td>\n",
              "      <td>0</td>\n",
              "      <td>0</td>\n",
              "      <td>0</td>\n",
              "      <td>0</td>\n",
              "    </tr>\n",
              "    <tr>\n",
              "      <th>94939</th>\n",
              "      <td>0028ce75-049b-31f7-a4d3-554f56ed60c6</td>\n",
              "      <td>96bc2ba0-d66b-385d-8f6e-79a3d86fed68</td>\n",
              "      <td>fld</td>\n",
              "      <td>1.0</td>\n",
              "      <td>NaN</td>\n",
              "      <td>f2d66a4d-0c08-3b48-abf6-649fffd7ae90</td>\n",
              "      <td>940942.0</td>\n",
              "      <td>NaN</td>\n",
              "      <td>NaN</td>\n",
              "      <td>-1.0</td>\n",
              "      <td>...</td>\n",
              "      <td>0</td>\n",
              "      <td>0</td>\n",
              "      <td>0</td>\n",
              "      <td>0</td>\n",
              "      <td>0</td>\n",
              "      <td>0</td>\n",
              "      <td>0</td>\n",
              "      <td>0</td>\n",
              "      <td>0</td>\n",
              "      <td>0</td>\n",
              "    </tr>\n",
              "  </tbody>\n",
              "</table>\n",
              "<p>10 rows × 43 columns</p>\n",
              "</div>\n",
              "      <button class=\"colab-df-convert\" onclick=\"convertToInteractive('df-5ea37bd2-beb1-4ff8-b438-c814d0b086b3')\"\n",
              "              title=\"Convert this dataframe to an interactive table.\"\n",
              "              style=\"display:none;\">\n",
              "        \n",
              "  <svg xmlns=\"http://www.w3.org/2000/svg\" height=\"24px\"viewBox=\"0 0 24 24\"\n",
              "       width=\"24px\">\n",
              "    <path d=\"M0 0h24v24H0V0z\" fill=\"none\"/>\n",
              "    <path d=\"M18.56 5.44l.94 2.06.94-2.06 2.06-.94-2.06-.94-.94-2.06-.94 2.06-2.06.94zm-11 1L8.5 8.5l.94-2.06 2.06-.94-2.06-.94L8.5 2.5l-.94 2.06-2.06.94zm10 10l.94 2.06.94-2.06 2.06-.94-2.06-.94-.94-2.06-.94 2.06-2.06.94z\"/><path d=\"M17.41 7.96l-1.37-1.37c-.4-.4-.92-.59-1.43-.59-.52 0-1.04.2-1.43.59L10.3 9.45l-7.72 7.72c-.78.78-.78 2.05 0 2.83L4 21.41c.39.39.9.59 1.41.59.51 0 1.02-.2 1.41-.59l7.78-7.78 2.81-2.81c.8-.78.8-2.07 0-2.86zM5.41 20L4 18.59l7.72-7.72 1.47 1.35L5.41 20z\"/>\n",
              "  </svg>\n",
              "      </button>\n",
              "      \n",
              "  <style>\n",
              "    .colab-df-container {\n",
              "      display:flex;\n",
              "      flex-wrap:wrap;\n",
              "      gap: 12px;\n",
              "    }\n",
              "\n",
              "    .colab-df-convert {\n",
              "      background-color: #E8F0FE;\n",
              "      border: none;\n",
              "      border-radius: 50%;\n",
              "      cursor: pointer;\n",
              "      display: none;\n",
              "      fill: #1967D2;\n",
              "      height: 32px;\n",
              "      padding: 0 0 0 0;\n",
              "      width: 32px;\n",
              "    }\n",
              "\n",
              "    .colab-df-convert:hover {\n",
              "      background-color: #E2EBFA;\n",
              "      box-shadow: 0px 1px 2px rgba(60, 64, 67, 0.3), 0px 1px 3px 1px rgba(60, 64, 67, 0.15);\n",
              "      fill: #174EA6;\n",
              "    }\n",
              "\n",
              "    [theme=dark] .colab-df-convert {\n",
              "      background-color: #3B4455;\n",
              "      fill: #D2E3FC;\n",
              "    }\n",
              "\n",
              "    [theme=dark] .colab-df-convert:hover {\n",
              "      background-color: #434B5C;\n",
              "      box-shadow: 0px 1px 3px 1px rgba(0, 0, 0, 0.15);\n",
              "      filter: drop-shadow(0px 1px 2px rgba(0, 0, 0, 0.3));\n",
              "      fill: #FFFFFF;\n",
              "    }\n",
              "  </style>\n",
              "\n",
              "      <script>\n",
              "        const buttonEl =\n",
              "          document.querySelector('#df-5ea37bd2-beb1-4ff8-b438-c814d0b086b3 button.colab-df-convert');\n",
              "        buttonEl.style.display =\n",
              "          google.colab.kernel.accessAllowed ? 'block' : 'none';\n",
              "\n",
              "        async function convertToInteractive(key) {\n",
              "          const element = document.querySelector('#df-5ea37bd2-beb1-4ff8-b438-c814d0b086b3');\n",
              "          const dataTable =\n",
              "            await google.colab.kernel.invokeFunction('convertToInteractive',\n",
              "                                                     [key], {});\n",
              "          if (!dataTable) return;\n",
              "\n",
              "          const docLinkHtml = 'Like what you see? Visit the ' +\n",
              "            '<a target=\"_blank\" href=https://colab.research.google.com/notebooks/data_table.ipynb>data table notebook</a>'\n",
              "            + ' to learn more about interactive tables.';\n",
              "          element.innerHTML = '';\n",
              "          dataTable['output_type'] = 'display_data';\n",
              "          await google.colab.output.renderOutput(dataTable, element);\n",
              "          const docLink = document.createElement('div');\n",
              "          docLink.innerHTML = docLinkHtml;\n",
              "          element.appendChild(docLink);\n",
              "        }\n",
              "      </script>\n",
              "    </div>\n",
              "  </div>\n",
              "  "
            ]
          },
          "metadata": {},
          "execution_count": 91
        }
      ]
    },
    {
      "cell_type": "markdown",
      "source": [
        "Now the big csv including all the data in all csv files given in this dataset in Kaggle is ready to be further cleaned and used for machine learning."
      ],
      "metadata": {
        "id": "elqS88VWSecP"
      }
    },
    {
      "cell_type": "markdown",
      "source": [
        "# Export to csv"
      ],
      "metadata": {
        "id": "Pubx1Uwh9mGX"
      }
    },
    {
      "cell_type": "code",
      "source": [
        "big_df4.to_csv('/content/drive/MyDrive/Coding Dojo/Project 2/all_grades_data.csv')"
      ],
      "metadata": {
        "id": "6HlVxWkH9lyJ"
      },
      "execution_count": null,
      "outputs": []
    }
  ]
}
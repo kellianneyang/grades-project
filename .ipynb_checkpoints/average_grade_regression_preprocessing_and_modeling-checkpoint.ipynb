{
 "cells": [
  {
   "cell_type": "code",
   "execution_count": 1,
   "metadata": {},
   "outputs": [
    {
     "data": {
      "text/html": [
       "\n",
       "                <audio  controls=\"controls\" autoplay=\"autoplay\">\n",
       "                    <source src=\"data:audio/mpeg;base64,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\" type=\"audio/mpeg\" />\n",
       "                    Your browser does not support the audio element.\n",
       "                </audio>\n",
       "              "
      ],
      "text/plain": [
       "<IPython.lib.display.Audio object>"
      ]
     },
     "metadata": {},
     "output_type": "display_data"
    }
   ],
   "source": [
    "# display a sound when cell is done running\n",
    "# source: https://forums.fast.ai/t/sound-alerts-in-jupyter-for-code-completion-and-exceptions/4614\n",
    "\n",
    "## Import up sound alert dependencies\n",
    "from IPython.display import Audio, display\n",
    "\n",
    "def allDone():\n",
    "    display(Audio('f1-radio-notification-By-tuna.voicemod.net.mp3', autoplay=True))\n",
    "\n",
    "allDone()"
   ]
  },
  {
   "cell_type": "markdown",
   "metadata": {
    "colab_type": "text",
    "id": "view-in-github"
   },
   "source": [
    "<a href=\"https://colab.research.google.com/github/kellianneyang/grades-project/blob/main/preprocessing_and_modeling.ipynb\" target=\"_parent\"><img src=\"https://colab.research.google.com/assets/colab-badge.svg\" alt=\"Open In Colab\"/></a>"
   ]
  },
  {
   "cell_type": "markdown",
   "metadata": {
    "id": "4ooD9-6FNPnN"
   },
   "source": [
    "# **Grades Project: Regression  Preprocessing and Modeling**"
   ]
  },
  {
   "cell_type": "markdown",
   "metadata": {
    "id": "rqvwfHWjNXoN"
   },
   "source": [
    "# Preliminary Steps"
   ]
  },
  {
   "cell_type": "code",
   "execution_count": 2,
   "metadata": {
    "id": "HtwimHjlNJJ0"
   },
   "outputs": [],
   "source": [
    "# import libraries\n",
    "\n",
    "import warnings\n",
    "warnings.filterwarnings('ignore')\n",
    "\n",
    "# general\n",
    "import numpy as np\n",
    "import pandas as pd\n",
    "\n",
    "# preprocessing\n",
    "from sklearn.preprocessing import OneHotEncoder, StandardScaler\n",
    "from sklearn.impute import SimpleImputer\n",
    "from sklearn.pipeline import make_pipeline\n",
    "from sklearn.compose import make_column_transformer\n",
    "from sklearn.model_selection import train_test_split\n",
    "\n",
    "# modeling\n",
    "from sklearn.dummy import DummyRegressor\n",
    "from sklearn.linear_model import LinearRegression\n",
    "from sklearn.tree import DecisionTreeRegressor\n",
    "from sklearn.ensemble import BaggingRegressor, RandomForestRegressor, \\\n",
    "GradientBoostingRegressor\n",
    "from sklearn.neighbors import KNeighborsRegressor\n",
    "from lightgbm import LGBMRegressor\n",
    "from xgboost import XGBRegressor\n",
    "\n",
    "# evaluation\n",
    "from sklearn.metrics import r2_score, mean_absolute_error, \\\n",
    "mean_squared_error, mean_absolute_percentage_error\n",
    "\n",
    "# tuning\n",
    "from sklearn.model_selection import GridSearchCV\n",
    "\n",
    "# feature engineering\n",
    "from sklearn.decomposition import PCA\n",
    "import matplotlib.pyplot as plt\n",
    "from sklearn import set_config\n",
    "set_config(display=\"diagram\")\n",
    "from kneed import KneeLocator"
   ]
  },
  {
   "cell_type": "code",
   "execution_count": 3,
   "metadata": {
    "id": "TLiQuDcyNgAb"
   },
   "outputs": [],
   "source": [
    "# load data\n",
    "path = 'Data/all_grades_data_cleaned.csv'\n",
    "df = pd.read_csv(path, index_col = 0)"
   ]
  },
  {
   "cell_type": "code",
   "execution_count": 4,
   "metadata": {
    "colab": {
     "base_uri": "https://localhost:8080/"
    },
    "id": "8DC6_JAWN0K1",
    "outputId": "d5d3e316-e0b9-4c0b-af55-e0452b51ec7a"
   },
   "outputs": [
    {
     "name": "stdout",
     "output_type": "stream",
     "text": [
      "<class 'pandas.core.frame.DataFrame'>\n",
      "Int64Index: 49975 entries, 0 to 50205\n",
      "Data columns (total 51 columns):\n",
      " #   Column             Non-Null Count  Dtype  \n",
      "---  ------             --------------  -----  \n",
      " 0   section_type       49975 non-null  object \n",
      " 1   instructor_id      49975 non-null  object \n",
      " 2   facility_code      46160 non-null  object \n",
      " 3   start_time         49975 non-null  float64\n",
      " 4   mon                49975 non-null  bool   \n",
      " 5   tues               49975 non-null  bool   \n",
      " 6   wed                49975 non-null  bool   \n",
      " 7   thurs              49975 non-null  bool   \n",
      " 8   fri                49975 non-null  bool   \n",
      " 9   sat                49975 non-null  bool   \n",
      " 10  sun                49975 non-null  bool   \n",
      " 11  subject_name       49975 non-null  object \n",
      " 12  course_name        49975 non-null  object \n",
      " 13  a_count            49975 non-null  int64  \n",
      " 14  ab_count           49975 non-null  int64  \n",
      " 15  b_count            49975 non-null  int64  \n",
      " 16  bc_count           49975 non-null  int64  \n",
      " 17  c_count            49975 non-null  int64  \n",
      " 18  d_count            49975 non-null  int64  \n",
      " 19  f_count            49975 non-null  int64  \n",
      " 20  s_count            49975 non-null  int64  \n",
      " 21  u_count            49975 non-null  int64  \n",
      " 22  cr_count           49975 non-null  int64  \n",
      " 23  n_count            49975 non-null  int64  \n",
      " 24  p_count            49975 non-null  int64  \n",
      " 25  i_count            49975 non-null  int64  \n",
      " 26  nw_count           49975 non-null  int64  \n",
      " 27  nr_count           49975 non-null  int64  \n",
      " 28  other_count        49975 non-null  int64  \n",
      " 29  num_all_grades     49975 non-null  float64\n",
      " 30  a_proportion       49975 non-null  float64\n",
      " 31  ab_proportion      49975 non-null  float64\n",
      " 32  b_proportion       49975 non-null  float64\n",
      " 33  bc_proportion      49975 non-null  float64\n",
      " 34  c_proportion       49975 non-null  float64\n",
      " 35  d_proportion       49975 non-null  float64\n",
      " 36  f_proportion       49975 non-null  float64\n",
      " 37  s_proportion       49975 non-null  float64\n",
      " 38  u_proportion       49975 non-null  float64\n",
      " 39  cr_proportion      49975 non-null  float64\n",
      " 40  n_proportion       49975 non-null  float64\n",
      " 41  p_proportion       49975 non-null  float64\n",
      " 42  i_proportion       49975 non-null  float64\n",
      " 43  nw_proportion      49975 non-null  float64\n",
      " 44  nr_proportion      49975 non-null  float64\n",
      " 45  other_proportion   49975 non-null  float64\n",
      " 46  avg_letter_grade   49286 non-null  float64\n",
      " 47  year               49975 non-null  int64  \n",
      " 48  term               49975 non-null  object \n",
      " 49  class_length       49975 non-null  float64\n",
      " 50  course_difficulty  49975 non-null  object \n",
      "dtypes: bool(7), float64(20), int64(17), object(7)\n",
      "memory usage: 17.5+ MB\n"
     ]
    }
   ],
   "source": [
    "# inspect\n",
    "df.info()"
   ]
  },
  {
   "cell_type": "code",
   "execution_count": 5,
   "metadata": {
    "colab": {
     "base_uri": "https://localhost:8080/"
    },
    "id": "M4-ilWKkN2Tc",
    "outputId": "6eff9f9c-9df0-4838-a778-58fbd8a0fe41"
   },
   "outputs": [
    {
     "data": {
      "text/plain": [
       "0"
      ]
     },
     "execution_count": 5,
     "metadata": {},
     "output_type": "execute_result"
    }
   ],
   "source": [
    "# check for duplicates\n",
    "df.duplicated().sum()"
   ]
  },
  {
   "cell_type": "code",
   "execution_count": 6,
   "metadata": {
    "colab": {
     "base_uri": "https://localhost:8080/"
    },
    "id": "78pjJHZfN5O6",
    "outputId": "0781c005-ba51-4f7c-d53a-6184d19af214"
   },
   "outputs": [
    {
     "data": {
      "text/plain": [
       "section_type            0\n",
       "instructor_id           0\n",
       "facility_code        3815\n",
       "start_time              0\n",
       "mon                     0\n",
       "tues                    0\n",
       "wed                     0\n",
       "thurs                   0\n",
       "fri                     0\n",
       "sat                     0\n",
       "sun                     0\n",
       "subject_name            0\n",
       "course_name             0\n",
       "a_count                 0\n",
       "ab_count                0\n",
       "b_count                 0\n",
       "bc_count                0\n",
       "c_count                 0\n",
       "d_count                 0\n",
       "f_count                 0\n",
       "s_count                 0\n",
       "u_count                 0\n",
       "cr_count                0\n",
       "n_count                 0\n",
       "p_count                 0\n",
       "i_count                 0\n",
       "nw_count                0\n",
       "nr_count                0\n",
       "other_count             0\n",
       "num_all_grades          0\n",
       "a_proportion            0\n",
       "ab_proportion           0\n",
       "b_proportion            0\n",
       "bc_proportion           0\n",
       "c_proportion            0\n",
       "d_proportion            0\n",
       "f_proportion            0\n",
       "s_proportion            0\n",
       "u_proportion            0\n",
       "cr_proportion           0\n",
       "n_proportion            0\n",
       "p_proportion            0\n",
       "i_proportion            0\n",
       "nw_proportion           0\n",
       "nr_proportion           0\n",
       "other_proportion        0\n",
       "avg_letter_grade      689\n",
       "year                    0\n",
       "term                    0\n",
       "class_length            0\n",
       "course_difficulty       0\n",
       "dtype: int64"
      ]
     },
     "execution_count": 6,
     "metadata": {},
     "output_type": "execute_result"
    }
   ],
   "source": [
    "# check for missing values\n",
    "df.isna().sum()\n",
    "\n",
    "# 'facility_code' is the only feature column with missing values; will need \n",
    "# to impute\n",
    "# 'avg_grade' missing values; will drop rows when using that as target"
   ]
  },
  {
   "cell_type": "code",
   "execution_count": 7,
   "metadata": {},
   "outputs": [
    {
     "name": "stdout",
     "output_type": "stream",
     "text": [
      "0    27145\n",
      "1    22830\n",
      "Name: mon, dtype: int64\n",
      "0    27893\n",
      "1    22082\n",
      "Name: tues, dtype: int64\n",
      "0    27745\n",
      "1    22230\n",
      "Name: wed, dtype: int64\n",
      "0    28802\n",
      "1    21173\n",
      "Name: thurs, dtype: int64\n",
      "0    37114\n",
      "1    12861\n",
      "Name: fri, dtype: int64\n",
      "0    49736\n",
      "1      239\n",
      "Name: sat, dtype: int64\n",
      "0    49934\n",
      "1       41\n",
      "Name: sun, dtype: int64\n"
     ]
    }
   ],
   "source": [
    "# binary-encode days of week columns\n",
    "\n",
    "binary_cols = ['mon', 'tues', 'wed', 'thurs', 'fri', 'sat', 'sun']\n",
    "\n",
    "for col in binary_cols:\n",
    "    df[col].replace({True: 1, False: 0}, inplace = True)\n",
    "\n",
    "# check\n",
    "for col in binary_cols:\n",
    "    print(df[col].value_counts())"
   ]
  },
  {
   "cell_type": "markdown",
   "metadata": {
    "id": "_8ge-a3eOUNn"
   },
   "source": [
    "# Preprocessing"
   ]
  },
  {
   "cell_type": "code",
   "execution_count": 8,
   "metadata": {},
   "outputs": [],
   "source": [
    "# make a copy of the df to work with\n",
    "df1 = df.copy()"
   ]
  },
  {
   "cell_type": "markdown",
   "metadata": {},
   "source": [
    "## Target: avg_letter_grade\n",
    "\n",
    "In this notebook, we will work with 'avg_letter_grade' as the target variable."
   ]
  },
  {
   "cell_type": "code",
   "execution_count": 9,
   "metadata": {},
   "outputs": [
    {
     "name": "stdout",
     "output_type": "stream",
     "text": [
      "col a_count in df1.columns: False\n",
      "col ab_count in df1.columns: False\n",
      "col b_count in df1.columns: False\n",
      "col bc_count in df1.columns: False\n",
      "col c_count in df1.columns: False\n",
      "col d_count in df1.columns: False\n",
      "col f_count in df1.columns: False\n",
      "col s_count in df1.columns: False\n",
      "col u_count in df1.columns: False\n",
      "col cr_count in df1.columns: False\n",
      "col n_count in df1.columns: False\n",
      "col p_count in df1.columns: False\n",
      "col i_count in df1.columns: False\n",
      "col nw_count in df1.columns: False\n",
      "col nr_count in df1.columns: False\n",
      "col other_count in df1.columns: False\n",
      "col a_proportion in df1.columns: False\n",
      "col ab_proportion in df1.columns: False\n",
      "col b_proportion in df1.columns: False\n",
      "col bc_proportion in df1.columns: False\n",
      "col c_proportion in df1.columns: False\n",
      "col d_proportion in df1.columns: False\n",
      "col f_proportion in df1.columns: False\n",
      "col s_proportion in df1.columns: False\n",
      "col u_proportion in df1.columns: False\n",
      "col cr_proportion in df1.columns: False\n",
      "col n_proportion in df1.columns: False\n",
      "col p_proportion in df1.columns: False\n",
      "col i_proportion in df1.columns: False\n",
      "col nw_proportion in df1.columns: False\n",
      "col nr_proportion in df1.columns: False\n",
      "col other_proportion in df1.columns: False\n"
     ]
    }
   ],
   "source": [
    "# drop columns not being used as target columns in this notebook\n",
    "other_targets = ['a_count', 'ab_count', 'b_count', 'bc_count', 'c_count', \n",
    "                'd_count', 'f_count', 's_count', 'u_count', 'cr_count', \n",
    "                'n_count', 'p_count', 'i_count', 'nw_count', 'nr_count', \n",
    "                'other_count', 'a_proportion', 'ab_proportion', \n",
    "                'b_proportion', 'bc_proportion', 'c_proportion', \n",
    "                'd_proportion', 'f_proportion', 's_proportion', \n",
    "                'u_proportion', 'cr_proportion', 'n_proportion', \n",
    "                'p_proportion', 'i_proportion', 'nw_proportion', \n",
    "                'nr_proportion', 'other_proportion']\n",
    "df1.drop(columns = other_targets, inplace = True)\n",
    "\n",
    "# check\n",
    "for col in other_targets:\n",
    "    print(f\"col {col} in df1.columns: {col in df1.columns}\")"
   ]
  },
  {
   "cell_type": "code",
   "execution_count": 10,
   "metadata": {},
   "outputs": [
    {
     "data": {
      "text/plain": [
       "section_type            0\n",
       "instructor_id           0\n",
       "facility_code        3678\n",
       "start_time              0\n",
       "mon                     0\n",
       "tues                    0\n",
       "wed                     0\n",
       "thurs                   0\n",
       "fri                     0\n",
       "sat                     0\n",
       "sun                     0\n",
       "subject_name            0\n",
       "course_name             0\n",
       "num_all_grades          0\n",
       "avg_letter_grade        0\n",
       "year                    0\n",
       "term                    0\n",
       "class_length            0\n",
       "course_difficulty       0\n",
       "dtype: int64"
      ]
     },
     "execution_count": 10,
     "metadata": {},
     "output_type": "execute_result"
    }
   ],
   "source": [
    "# delete rows without target variable\n",
    "df1 = df1[~df1['avg_letter_grade'].isna()]\n",
    "\n",
    "# check\n",
    "df1.isna().sum()"
   ]
  },
  {
   "cell_type": "code",
   "execution_count": 11,
   "metadata": {
    "colab": {
     "base_uri": "https://localhost:8080/"
    },
    "id": "Xjnn-ZVzR8c1",
    "outputId": "73b5a300-1f03-4dcd-9c03-45cab4a3c341"
   },
   "outputs": [
    {
     "name": "stdout",
     "output_type": "stream",
     "text": [
      "y1: \n",
      "0        3.625000\n",
      "1        3.346154\n",
      "2        3.500000\n",
      "3        3.750000\n",
      "4        3.454545\n",
      "           ...   \n",
      "50201    3.000000\n",
      "50202    3.308642\n",
      "50203    3.210227\n",
      "50204    3.087500\n",
      "50205    3.583333\n",
      "Name: avg_letter_grade, Length: 49286, dtype: float64\n",
      "X1: \n",
      "      section_type instructor_id facility_code  start_time  mon  tues  wed  \\\n",
      "0              lec         other           NaN        -1.0    0     0    0   \n",
      "1              lec         other          0545       660.0    0     1    0   \n",
      "2              lec         other          0545       660.0    0     1    0   \n",
      "3              lec         other          0545       595.0    1     0    1   \n",
      "4              lec         other          0545       595.0    1     0    1   \n",
      "...            ...           ...           ...         ...  ...   ...  ...   \n",
      "50201          lec         other          0093       800.0    1     1    0   \n",
      "50202          lec         other          0093       800.0    1     1    0   \n",
      "50203          lec         other          0093       800.0    1     1    0   \n",
      "50204          lec         other          0093       800.0    1     1    0   \n",
      "50205          lab         other          0021       660.0    1     0    1   \n",
      "\n",
      "       thurs  fri  sat  sun                  subject_name  \\\n",
      "0          0    0    0    0            communication arts   \n",
      "1          1    0    0    0            communication arts   \n",
      "2          1    0    0    0            communication arts   \n",
      "3          0    1    0    0            communication arts   \n",
      "4          0    1    0    0            communication arts   \n",
      "...      ...  ...  ...  ...                           ...   \n",
      "50201      0    1    0    0       comparative biosciences   \n",
      "50202      0    1    0    0       comparative biosciences   \n",
      "50203      0    1    0    0       comparative biosciences   \n",
      "50204      0    1    0    0       comparative biosciences   \n",
      "50205      0    0    0    0  physical educ activity progm   \n",
      "\n",
      "                              course_name  num_all_grades  year    term  \\\n",
      "0      introduction to speech composition             8.0    15  spring   \n",
      "1      introduction to speech composition            13.0    15  spring   \n",
      "2      introduction to speech composition            13.0    15  spring   \n",
      "3      introduction to speech composition            12.0    15  spring   \n",
      "4      introduction to speech composition            11.0    15  spring   \n",
      "...                                   ...             ...   ...     ...   \n",
      "50201                               other            81.0     9    fall   \n",
      "50202                               other            81.0    11    fall   \n",
      "50203                               other            88.0    16    fall   \n",
      "50204                               other            80.0    10    fall   \n",
      "50205                               other            21.0     7  spring   \n",
      "\n",
      "       class_length course_difficulty  \n",
      "0               0.0        elementary  \n",
      "1              75.0        elementary  \n",
      "2              75.0        elementary  \n",
      "3              50.0        elementary  \n",
      "4              50.0        elementary  \n",
      "...             ...               ...  \n",
      "50201          50.0          advanced  \n",
      "50202          50.0          advanced  \n",
      "50203          50.0          advanced  \n",
      "50204          50.0          advanced  \n",
      "50205          65.0        elementary  \n",
      "\n",
      "[49286 rows x 18 columns]\n"
     ]
    }
   ],
   "source": [
    "# assign X and y\n",
    "target = 'avg_letter_grade'\n",
    "y1 = df1[target]\n",
    "X1 = df1.drop(columns = target)\n",
    "\n",
    "# check\n",
    "print(f\"y1: \\n{y1}\")\n",
    "print(f\"X1: \\n{X1}\")"
   ]
  },
  {
   "cell_type": "code",
   "execution_count": 12,
   "metadata": {
    "colab": {
     "base_uri": "https://localhost:8080/"
    },
    "id": "WZFZ9kk8TXge",
    "outputId": "939fad47-4180-416e-ff1c-ade02a6a6a0e"
   },
   "outputs": [
    {
     "name": "stdout",
     "output_type": "stream",
     "text": [
      "X1_train shape: (36964, 18)\n",
      "X1_test shape: (12322, 18)\n",
      "y1_train shape: (36964,)\n",
      "y1_test shape: (12322,)\n"
     ]
    }
   ],
   "source": [
    "# validate model with train/test split\n",
    "X1_train, X1_test, y1_train, y1_test = train_test_split(X1, y1, random_state = 42)\n",
    "\n",
    "# check\n",
    "print(f\"X1_train shape: {X1_train.shape}\")\n",
    "print(f\"X1_test shape: {X1_test.shape}\")\n",
    "print(f\"y1_train shape: {y1_train.shape}\")\n",
    "print(f\"y1_test shape: {y1_test.shape}\")"
   ]
  },
  {
   "cell_type": "code",
   "execution_count": 13,
   "metadata": {
    "colab": {
     "base_uri": "https://localhost:8080/"
    },
    "id": "Z7qcGE8zN92H",
    "outputId": "d8920b81-7fb2-4312-d4b4-4c240dd656fd"
   },
   "outputs": [],
   "source": [
    "# one-hot encode:\n",
    "# 'section_type', 'instructor_id', 'subject_name', 'course_name', 'term',\n",
    "# 'course_difficulty', 'year'\n",
    "\n",
    "ohe_cols = ['section_type', 'instructor_id', 'subject_name', 'course_name',\n",
    "            'term', 'course_difficulty', 'year']\n",
    "\n",
    "ohe = OneHotEncoder(handle_unknown = 'ignore',\n",
    "                   sparse = False)\n",
    "\n",
    "ohe_tuple = (ohe, ohe_cols)"
   ]
  },
  {
   "cell_type": "code",
   "execution_count": 14,
   "metadata": {
    "colab": {
     "base_uri": "https://localhost:8080/"
    },
    "id": "JN4NGxLDP5oB",
    "outputId": "d7d2545b-9047-473f-966c-12276d1b93da"
   },
   "outputs": [],
   "source": [
    "# one-hot encode and impute constant 'missing':\n",
    "# 'facility_code'\n",
    "\n",
    "imp_ohe_cols = ['facility_code']\n",
    "\n",
    "missing_imputer = SimpleImputer(strategy = 'constant', \n",
    "                                fill_value = 'missing')\n",
    "\n",
    "ohe = OneHotEncoder(handle_unknown = 'ignore',\n",
    "                   sparse = False)\n",
    "\n",
    "imp_ohe_pipe = make_pipeline(missing_imputer, ohe)\n",
    "\n",
    "imp_ohe_tuple = (imp_ohe_pipe, imp_ohe_cols)"
   ]
  },
  {
   "cell_type": "code",
   "execution_count": 15,
   "metadata": {
    "colab": {
     "base_uri": "https://localhost:8080/"
    },
    "id": "GCIh2TCOQJ6j",
    "outputId": "8586906d-d05f-4bf0-e975-245c482fe899"
   },
   "outputs": [],
   "source": [
    "# scale:\n",
    "# 'start_time', 'class_length', 'num_all_grades'\n",
    "\n",
    "scaler = StandardScaler()\n",
    "\n",
    "scale_cols = ['start_time', 'class_length', 'num_all_grades']\n",
    "\n",
    "scale_tuple = (scaler, scale_cols)"
   ]
  },
  {
   "cell_type": "code",
   "execution_count": 16,
   "metadata": {
    "id": "ozHiCjDgR6Nj"
   },
   "outputs": [],
   "source": [
    "# binary encoded ('passthrough' in preprocessor):\n",
    "# 'mon', 'tues', 'wed', 'thurs', 'fri', 'sat', 'sun'\n",
    "\n",
    "# create preprocessor\n",
    "preprocessor = make_column_transformer(ohe_tuple, \n",
    "                                       imp_ohe_tuple, \n",
    "                                       scale_tuple,\n",
    "                                       remainder = 'passthrough')"
   ]
  },
  {
   "cell_type": "markdown",
   "metadata": {
    "id": "5HHTDJYhXC4O"
   },
   "source": [
    "# Modeling Functions"
   ]
  },
  {
   "cell_type": "code",
   "execution_count": 17,
   "metadata": {
    "colab": {
     "base_uri": "https://localhost:8080/"
    },
    "id": "hZNiI9TVw6SR",
    "outputId": "633da3a8-000a-4104-c527-9341bea5dc03"
   },
   "outputs": [
    {
     "data": {
      "text/plain": [
       "(0, 0)"
      ]
     },
     "execution_count": 17,
     "metadata": {},
     "output_type": "execute_result"
    }
   ],
   "source": [
    "# create dataframe to save metrics\n",
    "metrics_df = pd.DataFrame()\n",
    "\n",
    "# check\n",
    "metrics_df.shape"
   ]
  },
  {
   "cell_type": "code",
   "execution_count": 18,
   "metadata": {
    "id": "mc4XXzX6w7Zm"
   },
   "outputs": [],
   "source": [
    "# define function that will print regression metrics and store metrics in a \n",
    "# dataframe for easy viewing\n",
    "\n",
    "def get_metrics(model_pipe, X_train, X_test, y_train, y_test, name):\n",
    "  \n",
    "    # calculate predictions\n",
    "    train_pred = model_pipe.predict(X_train)\n",
    "    test_pred = model_pipe.predict(X_test)\n",
    "\n",
    "    # store scores\n",
    "    metrics_df.at[name, 'Train R2'] = \\\n",
    "        r2_score(y_train, train_pred) \n",
    "    \n",
    "    metrics_df.at[name, 'Test R2'] = \\\n",
    "        r2_score(y_test, test_pred)\n",
    "        \n",
    "    metrics_df.at[name, 'Train MAE'] = \\\n",
    "        mean_absolute_error(y_train, train_pred)\n",
    "    \n",
    "    metrics_df.at[name, 'Test MAE'] = \\\n",
    "        mean_absolute_error(y_test, test_pred)\n",
    "    \n",
    "    metrics_df.at[name, 'Train MAPE'] = \\\n",
    "        mean_absolute_percentage_error(y_train, train_pred)\n",
    "    \n",
    "    metrics_df.at[name, 'Test MAPE'] = \\\n",
    "        mean_absolute_percentage_error(y_test, test_pred)\n",
    "    \n",
    "    metrics_df.at[name, 'Train RMSE'] = \\\n",
    "        np.sqrt(mean_squared_error(y_train, train_pred))\n",
    "    \n",
    "    metrics_df.at[name, 'Test RMSE'] = \\\n",
    "        np.sqrt(mean_squared_error(y_test, test_pred))\n",
    "  \n",
    "    # show scores for this model only (can call metrics_df to see all scores)\n",
    "    print(metrics_df.loc[name, :])"
   ]
  },
  {
   "cell_type": "markdown",
   "metadata": {},
   "source": [
    "# Preliminary Models"
   ]
  },
  {
   "cell_type": "markdown",
   "metadata": {
    "id": "WnJ0FgGEW7cD"
   },
   "source": [
    "## Dummy Model"
   ]
  },
  {
   "cell_type": "code",
   "execution_count": 19,
   "metadata": {
    "colab": {
     "base_uri": "https://localhost:8080/"
    },
    "id": "qh4G9t3nW-sG",
    "outputId": "1ce640f7-8332-40a9-eea0-75adf5d5c00a"
   },
   "outputs": [
    {
     "name": "stdout",
     "output_type": "stream",
     "text": [
      "Train R2      0.000000e+00\n",
      "Test R2      -1.160561e-06\n",
      "Train MAE     3.094009e-01\n",
      "Test MAE      3.096759e-01\n",
      "Train MAPE    9.228735e-02\n",
      "Test MAPE     1.285574e+12\n",
      "Train RMSE    3.746891e-01\n",
      "Test RMSE     3.763282e-01\n",
      "Name: Dummy, dtype: float64\n",
      "CPU times: total: 391 ms\n",
      "Wall time: 392 ms\n"
     ]
    }
   ],
   "source": [
    "%%time\n",
    "# wall time: 303 milliseconds\n",
    "\n",
    "# instantiate\n",
    "dummy_regressor = DummyRegressor(strategy = 'mean')\n",
    "\n",
    "# combine with preprocessor\n",
    "dummy_pipe = make_pipeline(preprocessor, dummy_regressor)\n",
    "\n",
    "# fit on training data\n",
    "dummy_pipe.fit(X1_train, y1_train)\n",
    "\n",
    "# calculate, show, and store metrics\n",
    "get_metrics(dummy_pipe, \n",
    "            X1_train, \n",
    "            X1_test, \n",
    "            y1_train, \n",
    "            y1_test, \n",
    "            \"Dummy\")"
   ]
  },
  {
   "cell_type": "code",
   "execution_count": 20,
   "metadata": {
    "colab": {
     "base_uri": "https://localhost:8080/"
    },
    "id": "5eElfN1I-OU-",
    "outputId": "16833d22-807d-4ce8-9a82-dd495b6e1636"
   },
   "outputs": [
    {
     "data": {
      "text/html": [
       "<div>\n",
       "<style scoped>\n",
       "    .dataframe tbody tr th:only-of-type {\n",
       "        vertical-align: middle;\n",
       "    }\n",
       "\n",
       "    .dataframe tbody tr th {\n",
       "        vertical-align: top;\n",
       "    }\n",
       "\n",
       "    .dataframe thead th {\n",
       "        text-align: right;\n",
       "    }\n",
       "</style>\n",
       "<table border=\"1\" class=\"dataframe\">\n",
       "  <thead>\n",
       "    <tr style=\"text-align: right;\">\n",
       "      <th></th>\n",
       "      <th>Train R2</th>\n",
       "      <th>Test R2</th>\n",
       "      <th>Train MAE</th>\n",
       "      <th>Test MAE</th>\n",
       "      <th>Train MAPE</th>\n",
       "      <th>Test MAPE</th>\n",
       "      <th>Train RMSE</th>\n",
       "      <th>Test RMSE</th>\n",
       "    </tr>\n",
       "  </thead>\n",
       "  <tbody>\n",
       "    <tr>\n",
       "      <th>Dummy</th>\n",
       "      <td>0.0</td>\n",
       "      <td>-0.000001</td>\n",
       "      <td>0.309401</td>\n",
       "      <td>0.309676</td>\n",
       "      <td>0.092287</td>\n",
       "      <td>1.285574e+12</td>\n",
       "      <td>0.374689</td>\n",
       "      <td>0.376328</td>\n",
       "    </tr>\n",
       "  </tbody>\n",
       "</table>\n",
       "</div>"
      ],
      "text/plain": [
       "       Train R2   Test R2  Train MAE  Test MAE  Train MAPE     Test MAPE  \\\n",
       "Dummy       0.0 -0.000001   0.309401  0.309676    0.092287  1.285574e+12   \n",
       "\n",
       "       Train RMSE  Test RMSE  \n",
       "Dummy    0.374689   0.376328  "
      ]
     },
     "execution_count": 20,
     "metadata": {},
     "output_type": "execute_result"
    }
   ],
   "source": [
    "# check metrics_df\n",
    "metrics_df"
   ]
  },
  {
   "cell_type": "markdown",
   "metadata": {
    "id": "RKJWc83fWSnH"
   },
   "source": [
    "## Model 1: Linear Regression"
   ]
  },
  {
   "cell_type": "code",
   "execution_count": 21,
   "metadata": {
    "colab": {
     "base_uri": "https://localhost:8080/"
    },
    "id": "3JpawYHlHbJ-",
    "outputId": "33f69631-a262-46af-a1f7-885a7e6c205e"
   },
   "outputs": [
    {
     "name": "stdout",
     "output_type": "stream",
     "text": [
      "Train R2      5.560803e-01\n",
      "Test R2      -6.775095e+18\n",
      "Train MAE     1.911430e-01\n",
      "Test MAE      1.356573e+07\n",
      "Train MAPE    5.678754e-02\n",
      "Test MAPE     1.458048e+12\n",
      "Train RMSE    2.496452e-01\n",
      "Test RMSE     9.795445e+08\n",
      "Name: Linear, dtype: float64\n",
      "CPU times: total: 5.25 s\n",
      "Wall time: 1.34 s\n"
     ]
    }
   ],
   "source": [
    "%%time\n",
    "# wall time: 1.15 seconds\n",
    "\n",
    "# instantiate\n",
    "lr = LinearRegression()\n",
    "\n",
    "# pipeline\n",
    "lr_pipe = make_pipeline(preprocessor, lr)\n",
    "\n",
    "# fit\n",
    "lr_pipe.fit(X1_train, y1_train)\n",
    "\n",
    "# evaluate\n",
    "get_metrics(lr_pipe, \n",
    "            X1_train, \n",
    "            X1_test, \n",
    "            y1_train, \n",
    "            y1_test, \n",
    "            \"Linear\")"
   ]
  },
  {
   "cell_type": "markdown",
   "metadata": {
    "id": "1N-YE1IuJ9nk"
   },
   "source": [
    "## Model 2: Decision Tree Regressor"
   ]
  },
  {
   "cell_type": "markdown",
   "metadata": {
    "id": "t5H4YRvQKAOV"
   },
   "source": [
    "### Default"
   ]
  },
  {
   "cell_type": "code",
   "execution_count": 22,
   "metadata": {
    "id": "K30Wj14dM23U"
   },
   "outputs": [
    {
     "name": "stdout",
     "output_type": "stream",
     "text": [
      "Train R2      9.927039e-01\n",
      "Test R2       3.446065e-01\n",
      "Train MAE     4.586759e-03\n",
      "Test MAE      2.184527e-01\n",
      "Train MAPE    1.354891e-03\n",
      "Test MAPE     1.461970e+12\n",
      "Train RMSE    3.200495e-02\n",
      "Test RMSE     3.046615e-01\n",
      "Name: Def DT, dtype: float64\n",
      "CPU times: total: 4.44 s\n",
      "Wall time: 3.67 s\n"
     ]
    }
   ],
   "source": [
    "%%time\n",
    "# wall time: 3.03 seconds\n",
    "\n",
    "# instantiate\n",
    "dt_def = DecisionTreeRegressor(random_state = 42)\n",
    "\n",
    "# pipeline\n",
    "dt_def_pipe = make_pipeline(preprocessor, dt_def)\n",
    "\n",
    "# fit\n",
    "dt_def_pipe.fit(X1_train, y1_train)\n",
    "\n",
    "# evaluate\n",
    "get_metrics(dt_def_pipe, \n",
    "            X1_train, \n",
    "            X1_test, \n",
    "            y1_train, \n",
    "            y1_test, \n",
    "            \"Def DT\")"
   ]
  },
  {
   "cell_type": "markdown",
   "metadata": {
    "id": "-PAzhFcGMvPj"
   },
   "source": [
    "### Tuned on 'max_depth'"
   ]
  },
  {
   "cell_type": "code",
   "execution_count": 23,
   "metadata": {
    "id": "Oy94HBX2NsPU"
   },
   "outputs": [
    {
     "data": {
      "text/plain": [
       "119"
      ]
     },
     "execution_count": 23,
     "metadata": {},
     "output_type": "execute_result"
    }
   ],
   "source": [
    "# get depth from default tree where max_depth = None\n",
    "def_depth = dt_def_pipe['decisiontreeregressor'].get_depth()\n",
    "def_depth\n",
    "\n",
    "# 119\n",
    "\n",
    "# this is a very deep tree, which is overfitting by a lot; for the\n",
    "# tuned model, I will only try up to half this depth"
   ]
  },
  {
   "cell_type": "code",
   "execution_count": 24,
   "metadata": {
    "id": "okJINLrNL8i-"
   },
   "outputs": [],
   "source": [
    "# %%time\n",
    "# # wall time: 8 minutes 23 seconds\n",
    "\n",
    "# # instantiate\n",
    "# dt_tun = DecisionTreeRegressor(random_state = 42)\n",
    "\n",
    "# # pipeline\n",
    "# dt_tun_pipe = make_pipeline(preprocessor, dt_tun)\n",
    "\n",
    "# # params\n",
    "# dt_params = {'decisiontreeregressor__max_depth': range(1, 60)}\n",
    "\n",
    "# # gridsearch\n",
    "# dt_gs = GridSearchCV(dt_tun_pipe, dt_params, scoring = 'r2')\n",
    "\n",
    "# # fit\n",
    "# dt_gs.fit(X1_train, y1_train)\n",
    "\n",
    "# # see best parameters\n",
    "# print(dt_gs.best_params_) # max_depth: 14\n",
    "\n",
    "# # see best score\n",
    "# print(dt_gs.best_score_) # 0.4759055078360543"
   ]
  },
  {
   "cell_type": "code",
   "execution_count": 25,
   "metadata": {
    "id": "uh2PJumRx6my"
   },
   "outputs": [],
   "source": [
    "# # instantiate tuned model\n",
    "# dt_tun_pipe = dt_gs.best_estimator_\n",
    "\n",
    "# # print and store metrics\n",
    "# get_metrics(dt_tun_pipe, \n",
    "#             X1_train, \n",
    "#             X1_test, \n",
    "#             y1_train, \n",
    "#             y1_test, \n",
    "#             \"Tun DT\")"
   ]
  },
  {
   "cell_type": "code",
   "execution_count": 26,
   "metadata": {
    "id": "0yD48Gq1z5gS"
   },
   "outputs": [],
   "source": [
    "# hard coding results into metrics_df so I don't have to re-run the notebook \n",
    "# cells that take a long time to run every time I re-run the notebook\n",
    "\n",
    "'''\n",
    "Train R2      5.971072e-01\n",
    "Test R2       4.969084e-01\n",
    "Train MAE     1.762565e-01\n",
    "Test MAE      2.004229e-01\n",
    "Train MAPE    5.192103e-02\n",
    "Test MAPE     1.339670e+12\n",
    "Train RMSE    2.378295e-01\n",
    "Test RMSE     2.669254e-01\n",
    "Name: Tun DT, dtype: float64\n",
    "'''\n",
    "\n",
    "metrics_df.at['Tun DT', 'Train R2'] = .5971072\n",
    "metrics_df.at['Tun DT', 'Test R2'] = .4969084\n",
    "metrics_df.at['Tun DT', 'Train MAE'] = .1762565\n",
    "metrics_df.at['Tun DT', 'Test MAE'] = .2004229\n",
    "metrics_df.at['Tun DT', 'Train MAPE'] = .5192103\n",
    "metrics_df.at['Tun DT', 'Test MAPE'] = .1339670\n",
    "metrics_df.at['Tun DT', 'Train RMSE'] = .2378295\n",
    "metrics_df.at['Tun DT', 'Test RMSE'] = .2669254"
   ]
  },
  {
   "cell_type": "markdown",
   "metadata": {
    "id": "5c46Bws2pCZh"
   },
   "source": [
    "## Model 3: Bagged Tree Regressor"
   ]
  },
  {
   "cell_type": "markdown",
   "metadata": {
    "id": "2n_VtFB-qWHs"
   },
   "source": [
    "### Default"
   ]
  },
  {
   "cell_type": "code",
   "execution_count": 27,
   "metadata": {
    "id": "khy9DNfHqYn1",
    "scrolled": true
   },
   "outputs": [
    {
     "name": "stdout",
     "output_type": "stream",
     "text": [
      "Train R2      9.245259e-01\n",
      "Test R2       5.958595e-01\n",
      "Train MAE     7.040229e-02\n",
      "Test MAE      1.750572e-01\n",
      "Train MAPE    2.093136e-02\n",
      "Test MAPE     1.461970e+12\n",
      "Train RMSE    1.029367e-01\n",
      "Test RMSE     2.392394e-01\n",
      "Name: Def BR, dtype: float64\n",
      "CPU times: total: 19.7 s\n",
      "Wall time: 19.7 s\n"
     ]
    },
    {
     "data": {
      "text/plain": [
       "'\\nTrain R2      9.245259e-01\\nTest R2       5.958595e-01\\nTrain MAE     7.040229e-02\\nTest MAE      1.750572e-01\\nTrain MAPE    2.093136e-02\\nTest MAPE     1.461970e+12\\nTrain RMSE    1.029367e-01\\nTest RMSE     2.392394e-01\\n'"
      ]
     },
     "execution_count": 27,
     "metadata": {},
     "output_type": "execute_result"
    }
   ],
   "source": [
    "%%time\n",
    "# wall time: 20 seconds\n",
    "\n",
    "# instantiate\n",
    "br_def = BaggingRegressor(random_state = 42)\n",
    "\n",
    "# pipeline\n",
    "br_def_pipe = make_pipeline(preprocessor, br_def)\n",
    "\n",
    "# fit\n",
    "br_def_pipe.fit(X1_train, y1_train)\n",
    "\n",
    "# evaluate\n",
    "get_metrics(br_def_pipe, \n",
    "            X1_train, \n",
    "            X1_test, \n",
    "            y1_train, \n",
    "            y1_test, \n",
    "            \"Def BR\")\n",
    "\n",
    "'''\n",
    "Train R2      9.245259e-01\n",
    "Test R2       5.958595e-01\n",
    "Train MAE     7.040229e-02\n",
    "Test MAE      1.750572e-01\n",
    "Train MAPE    2.093136e-02\n",
    "Test MAPE     1.461970e+12\n",
    "Train RMSE    1.029367e-01\n",
    "Test RMSE     2.392394e-01\n",
    "'''"
   ]
  },
  {
   "cell_type": "markdown",
   "metadata": {
    "id": "QWd42KMArfgl"
   },
   "source": [
    "### Tuned on 'n_estimators'"
   ]
  },
  {
   "cell_type": "code",
   "execution_count": 28,
   "metadata": {
    "id": "oMuom3f0fYQR"
   },
   "outputs": [],
   "source": [
    "# %%time\n",
    "# # time: 18 minutes\n",
    "\n",
    "# # instantiate\n",
    "# br_tun = BaggingRegressor(random_state = 42)\n",
    "\n",
    "# # pipeline\n",
    "# br_tun_pipe = make_pipeline(preprocessor, br_tun)\n",
    "\n",
    "# # params\n",
    "# br_params = {'baggingregressor__n_estimators': [10, 20, 30, 40, 50]}\n",
    "\n",
    "# # grid search\n",
    "# br_gs = GridSearchCV(br_tun_pipe, br_params, scoring = 'r2')\n",
    "\n",
    "# # fit\n",
    "# br_gs.fit(X1_train, y1_train)\n",
    "\n",
    "# # see best parameters\n",
    "# print(br_gs.best_params_) # n_estimators: 50\n",
    "\n",
    "# # see best score\n",
    "# print(br_gs.best_score_) # 0.6132658185649498\n",
    "\n",
    "# allDone()"
   ]
  },
  {
   "cell_type": "code",
   "execution_count": 29,
   "metadata": {
    "id": "7oPnxHMQfYQX"
   },
   "outputs": [],
   "source": [
    "# # instantiate tuned model\n",
    "# br_tun_pipe = br_gs.best_estimator_\n",
    "\n",
    "# # print and store metrics\n",
    "# get_metrics(br_tun_pipe, \n",
    "#             X1_train, \n",
    "#             X1_test, \n",
    "#             y1_train, \n",
    "#             y1_test, \n",
    "#             \"Tun BR\")"
   ]
  },
  {
   "cell_type": "code",
   "execution_count": 30,
   "metadata": {
    "id": "zcqnsIYK1L_w"
   },
   "outputs": [],
   "source": [
    "# hard coding results into hard_metrics_df so I don't have to re-run the \n",
    "# notebook cells that take a long time to run every time I open it up\n",
    "\n",
    "metrics_df.at['Tun BR', 'Train R2'] = 0.9408948\n",
    "metrics_df.at['Tun BR', 'Test R2'] = 0.6217327\n",
    "metrics_df.at['Tun BR', 'Train MAE'] = 0.6544406\n",
    "metrics_df.at['Tun BR', 'Test MAE'] = 0.1697671\n",
    "metrics_df.at['Tun BR', 'Train MAPE'] = 0.1946666\n",
    "metrics_df.at['Tun BR', 'Test MAPE'] = 0.1461970\n",
    "metrics_df.at['Tun BR', 'Train RMSE'] = 0.9109278\n",
    "metrics_df.at['Tun BR', 'Test RMSE'] = 0.2314546"
   ]
  },
  {
   "cell_type": "markdown",
   "metadata": {
    "id": "0Fo7m7edpJhu"
   },
   "source": [
    "## Model 4: Random Forest Regressor"
   ]
  },
  {
   "cell_type": "markdown",
   "metadata": {
    "id": "XgStCSivudlV"
   },
   "source": [
    "### Default"
   ]
  },
  {
   "cell_type": "code",
   "execution_count": 31,
   "metadata": {
    "id": "em1sPo9fuc4B"
   },
   "outputs": [],
   "source": [
    "# %%time\n",
    "\n",
    "# # time: 5 minutes\n",
    "\n",
    "# # instantiate\n",
    "# rf_def = RandomForestRegressor(random_state = 42)\n",
    "\n",
    "# # pipeline\n",
    "# rf_def_pipe = make_pipeline(preprocessor, rf_def)\n",
    "\n",
    "# # fit\n",
    "# rf_def_pipe.fit(X1_train, y1_train)\n",
    "\n",
    "# # evaluate\n",
    "# get_metrics(rf_def_pipe, \n",
    "#             X1_train, \n",
    "#             X1_test, \n",
    "#             y1_train, \n",
    "#             y1_test, \n",
    "#             \"Def RF\")\n",
    "\n",
    "# allDone()"
   ]
  },
  {
   "cell_type": "code",
   "execution_count": 32,
   "metadata": {
    "id": "mQodSZxy1n0c"
   },
   "outputs": [],
   "source": [
    "# hard coding results into hard_metrics_df so I don't have to re-run the \n",
    "# notebook cells that take a long time to run every time I open it up\n",
    "\n",
    "metrics_df.at['Def RF', 'Train R2'] = 0.9429108\n",
    "metrics_df.at['Def RF', 'Test R2'] = 0.6249257\n",
    "metrics_df.at['Def RF', 'Train MAE'] = 0.6476298\n",
    "metrics_df.at['Def RF', 'Test MAE'] = 0.1689894\n",
    "metrics_df.at['Def RF', 'Train MAPE'] = 0.1926236\n",
    "metrics_df.at['Def RF', 'Test MAPE'] = 0.1461970\n",
    "metrics_df.at['Def RF', 'Train RMSE'] = 0.8952576\n",
    "metrics_df.at['Def RF', 'Test RMSE'] = 0.2304757"
   ]
  },
  {
   "cell_type": "markdown",
   "metadata": {
    "id": "y1dyFVKEutWq"
   },
   "source": [
    "### Tuned on 'max_depth' and 'max_features'"
   ]
  },
  {
   "cell_type": "code",
   "execution_count": 33,
   "metadata": {
    "id": "BEQ4p5MrvIcF"
   },
   "outputs": [],
   "source": [
    "# # get depth from max of estimator depths in the default random forest model\n",
    "# est_depths = [estimator.get_depth() for estimator \n",
    "#               in rf_def_pipe['randomforestregressor'].estimators_]\n",
    "# max_depth_rf = max(est_depths)\n",
    "# max_depth_rf # 129"
   ]
  },
  {
   "cell_type": "code",
   "execution_count": 34,
   "metadata": {
    "id": "tTN-NVPQu2Lj"
   },
   "outputs": [],
   "source": [
    "# %%time\n",
    "# # time: 5 hours, 20 minutes\n",
    "\n",
    "# # instantiate\n",
    "# rf_tun = RandomForestRegressor(random_state = 42, n_jobs = -1)\n",
    "\n",
    "# # pipeline\n",
    "# rf_tun_pipe = make_pipeline(preprocessor, rf_tun)\n",
    "\n",
    "# # params\n",
    "# rf_params = {}\n",
    "\n",
    "# # max_depth (range up to almost half of depth of default model)\n",
    "# rf_params['randomforestregressor__max_depth'] = range(10, 61, 10)\n",
    "\n",
    "# # max_features (default 1; range over middle several columns without \n",
    "# # dummies); 18 feature columns\n",
    "# rf_params['randomforestregressor__max_features'] = range(7, 12)\n",
    "\n",
    "# # gridsearchcv\n",
    "# rf_gs = GridSearchCV(rf_tun_pipe, \n",
    "#                      rf_params,\n",
    "#                      scoring = 'r2')\n",
    "\n",
    "# rf_gs.fit(X1_train, y1_train)\n",
    "\n",
    "# allDone()"
   ]
  },
  {
   "cell_type": "code",
   "execution_count": 35,
   "metadata": {
    "id": "OFnuyoUUu2Lk"
   },
   "outputs": [],
   "source": [
    "# # see best score from randomizedsearchcv\n",
    "# rf_gs.best_score_"
   ]
  },
  {
   "cell_type": "code",
   "execution_count": 36,
   "metadata": {
    "id": "s6tXpvdIu2Lk"
   },
   "outputs": [],
   "source": [
    "# # see the best parameters from the tuned model\n",
    "# rf_gs.best_params_\n",
    "\n",
    "# # max_depth: 60\n",
    "# # max_features: 11"
   ]
  },
  {
   "cell_type": "code",
   "execution_count": 37,
   "metadata": {
    "id": "e4mVndq5u2Lk"
   },
   "outputs": [],
   "source": [
    "# # instantiate tuned model\n",
    "# rf_tun_pipe = rf_gs.best_estimator_\n",
    "\n",
    "# # print and store metrics\n",
    "# get_metrics(rf_tun_pipe, \n",
    "#             X1_train, \n",
    "#             X1_test, \n",
    "#             y1_train, \n",
    "#             y1_test, \n",
    "#             \"Tun RF\")"
   ]
  },
  {
   "cell_type": "code",
   "execution_count": 38,
   "metadata": {
    "id": "-XJrO_yG2Jxw"
   },
   "outputs": [],
   "source": [
    "# hard coding results into hard_metrics_df so I don't have to re-run the \n",
    "# notebook cells that take a long time to run every time I open it up\n",
    "\n",
    "metrics_df.at['Tun RF', 'Train R2'] = 0.8783117\n",
    "metrics_df.at['Tun RF', 'Test R2'] = 0.6185071\n",
    "metrics_df.at['Tun RF', 'Train MAE'] = 0.9791210\n",
    "metrics_df.at['Tun RF', 'Test MAE'] = 0.1756538\n",
    "metrics_df.at['Tun RF', 'Train MAPE'] = 0.2910196\n",
    "metrics_df.at['Tun RF', 'Test MAPE'] = 0.1442124\n",
    "metrics_df.at['Tun RF', 'Train RMSE'] = 0.1307060\n",
    "metrics_df.at['Tun RF', 'Test RMSE'] = 0.2324394"
   ]
  },
  {
   "cell_type": "markdown",
   "metadata": {
    "id": "i42dcB1ZpOYy"
   },
   "source": [
    "## Model 5: K-Nearest Neighbors Regressor"
   ]
  },
  {
   "cell_type": "markdown",
   "metadata": {
    "id": "QpqG0nrivoil"
   },
   "source": [
    "### Default"
   ]
  },
  {
   "cell_type": "code",
   "execution_count": 39,
   "metadata": {
    "id": "jRNLhVVZvrRJ"
   },
   "outputs": [],
   "source": [
    "# %%time\n",
    "# # time: 12 seconds\n",
    "\n",
    "# # instantiate\n",
    "# kn_def = KNeighborsRegressor()\n",
    "\n",
    "# # pipeline\n",
    "# kn_def_pipe = make_pipeline(preprocessor, kn_def)\n",
    "\n",
    "# # fit\n",
    "# kn_def_pipe.fit(X1_train, y1_train)\n",
    "\n",
    "# # evaluate\n",
    "# get_metrics(kn_def_pipe, \n",
    "#             X1_train, \n",
    "#             X1_test, \n",
    "#             y1_train, \n",
    "#             y1_test, \n",
    "#             \"Def KNN\")\n",
    "\n",
    "# allDone()"
   ]
  },
  {
   "cell_type": "code",
   "execution_count": 40,
   "metadata": {
    "id": "JWl-6XSv2WPS"
   },
   "outputs": [],
   "source": [
    "# hard coding results into hard_metrics_df so I don't have to\n",
    "# re-run the notebook cells that take a long time to run\n",
    "# every time I open it up\n",
    "\n",
    "metrics_df.at['Def KNN', 'Train R2'] = 0.7314605\n",
    "metrics_df.at['Def KNN', 'Test R2'] = 0.5949229\n",
    "metrics_df.at['Def KNN', 'Train MAE'] = 0.1434579\n",
    "metrics_df.at['Def KNN', 'Test MAE'] = 0.1753353\n",
    "metrics_df.at['Def KNN', 'Train MAPE'] = 0.4258531\n",
    "metrics_df.at['Def KNN', 'Test MAPE'] = 0.1461970\n",
    "metrics_df.at['Def KNN', 'Train RMSE'] = 0.1941669\n",
    "metrics_df.at['Def KNN', 'Test RMSE'] = 0.2395164"
   ]
  },
  {
   "cell_type": "markdown",
   "metadata": {
    "id": "nBF67swavpq6"
   },
   "source": [
    "### Tuned on 'n_neighbors'"
   ]
  },
  {
   "cell_type": "code",
   "execution_count": 41,
   "metadata": {
    "id": "RZFOgC8fv7tW"
   },
   "outputs": [],
   "source": [
    "# %%time\n",
    "\n",
    "# # time: 1 minute 8 seconds\n",
    "\n",
    "# # instantiate\n",
    "# kn_tun = KNeighborsRegressor()\n",
    "\n",
    "# # pipeline\n",
    "# kn_tun_pipe = make_pipeline(preprocessor, kn_tun)\n",
    "\n",
    "# # params\n",
    "# kn_params = {}\n",
    "\n",
    "# # tune n_neighbors\n",
    "# kn_params['kneighborsregressor__n_neighbors'] = range(10, 311, 50)\n",
    "\n",
    "# # randomizedsearchcv\n",
    "# kn_gs = GridSearchCV(kn_tun_pipe, \n",
    "#                      kn_params,\n",
    "#                      scoring = 'r2')\n",
    "\n",
    "# kn_gs.fit(X1_train, y1_train)\n",
    "\n",
    "# allDone()"
   ]
  },
  {
   "cell_type": "code",
   "execution_count": 42,
   "metadata": {
    "id": "pdLLq6ZJv7tW"
   },
   "outputs": [],
   "source": [
    "# # see best score from randomizedsearchcv\n",
    "# kn_gs.best_score_\n",
    "\n",
    "# 0.5874572079058891"
   ]
  },
  {
   "cell_type": "code",
   "execution_count": 43,
   "metadata": {
    "id": "SoQtOJMZv7tW"
   },
   "outputs": [],
   "source": [
    "# # see the best parameters from the tuned model\n",
    "# kn_gs.best_params_\n",
    "\n",
    "# # n_neighbors: 10"
   ]
  },
  {
   "cell_type": "code",
   "execution_count": 44,
   "metadata": {
    "id": "I0yTUf0Lv7tW"
   },
   "outputs": [],
   "source": [
    "# # instantiate tuned model\n",
    "# kn_tun_pipe = kn_gs.best_estimator_\n",
    "\n",
    "# # print and store metrics\n",
    "# get_metrics(kn_tun_pipe, \n",
    "#             X1_train, \n",
    "#             X1_test, \n",
    "#             y1_train, \n",
    "#             y1_test, \n",
    "#             \"Tun KNN\")"
   ]
  },
  {
   "cell_type": "code",
   "execution_count": 45,
   "metadata": {
    "id": "T0e9RfMf2qdl"
   },
   "outputs": [],
   "source": [
    "# hard coding results into hard_metrics_df so I don't have to re-run the \n",
    "# notebook cells that take a long time to run every time I open it up\n",
    "\n",
    "metrics_df.at['Tun KNN', 'Train R2'] = 0.6765076\n",
    "metrics_df.at['Tun KNN', 'Test R2'] = 0.6069203\n",
    "metrics_df.at['Tun KNN', 'Train MAE'] = 0.1598232\n",
    "metrics_df.at['Tun KNN', 'Test MAE'] = 0.1754335\n",
    "metrics_df.at['Tun KNN', 'Train MAPE'] = 0.4741026\n",
    "metrics_df.at['Tun KNN', 'Test MAPE'] = 0.1461970\n",
    "metrics_df.at['Tun KNN', 'Train RMSE'] = 0.2131096\n",
    "metrics_df.at['Tun KNN', 'Test RMSE'] = 0.2359428"
   ]
  },
  {
   "cell_type": "markdown",
   "metadata": {
    "id": "I1k2abN1paSI"
   },
   "source": [
    "## Model 6: Extreme Gradient Boosting Regressor"
   ]
  },
  {
   "cell_type": "markdown",
   "metadata": {},
   "source": [
    "### Default"
   ]
  },
  {
   "cell_type": "code",
   "execution_count": 46,
   "metadata": {
    "id": "m23qbTR_OKTY"
   },
   "outputs": [
    {
     "name": "stdout",
     "output_type": "stream",
     "text": [
      "Train R2      6.627576e-01\n",
      "Test R2       6.082175e-01\n",
      "Train MAE     1.661186e-01\n",
      "Test MAE      1.788502e-01\n",
      "Train MAPE    4.933301e-02\n",
      "Test MAPE     1.411779e+12\n",
      "Train RMSE    2.175916e-01\n",
      "Test RMSE     2.355532e-01\n",
      "Name: Def XGB, dtype: float64\n"
     ]
    },
    {
     "data": {
      "text/html": [
       "\n",
       "                <audio  controls=\"controls\" autoplay=\"autoplay\">\n",
       "                    <source src=\"data:audio/mpeg;base64,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\" type=\"audio/mpeg\" />\n",
       "                    Your browser does not support the audio element.\n",
       "                </audio>\n",
       "              "
      ],
      "text/plain": [
       "<IPython.lib.display.Audio object>"
      ]
     },
     "metadata": {},
     "output_type": "display_data"
    },
    {
     "name": "stdout",
     "output_type": "stream",
     "text": [
      "CPU times: total: 1min 28s\n",
      "Wall time: 7.77 s\n"
     ]
    }
   ],
   "source": [
    "%%time\n",
    "# time: 8 seconds\n",
    "\n",
    "# instantiate\n",
    "xgb_def = XGBRegressor()\n",
    "\n",
    "# pipeline\n",
    "xgb_def_pipe = make_pipeline(preprocessor, xgb_def)\n",
    "\n",
    "# fit\n",
    "xgb_def_pipe.fit(X1_train, y1_train)\n",
    "\n",
    "# evaluate\n",
    "get_metrics(xgb_def_pipe, \n",
    "            X1_train, \n",
    "            X1_test, \n",
    "            y1_train, \n",
    "            y1_test, \n",
    "            \"Def XGB\")\n",
    "\n",
    "allDone()"
   ]
  },
  {
   "cell_type": "markdown",
   "metadata": {},
   "source": [
    "### Tuned on 'max_depth' and 'n_estimators'"
   ]
  },
  {
   "cell_type": "code",
   "execution_count": 47,
   "metadata": {
    "id": "RZFOgC8fv7tW"
   },
   "outputs": [],
   "source": [
    "# %%time\n",
    "# # time: 17 minutes\n",
    "\n",
    "# # instantiate\n",
    "# xgb_tun = XGBRegressor()\n",
    "\n",
    "# # pipeline\n",
    "# xgb_tun_pipe = make_pipeline(preprocessor, xgb_tun)\n",
    "\n",
    "# # params\n",
    "# xgb_params = {}\n",
    "\n",
    "# # tune max_depth and n_estimators\n",
    "# xgb_params['xgbregressor__max_depth'] = [20, 40, 60]\n",
    "# xgb_params['xgbregressor__n_estimators'] = [20, 40, 60]\n",
    "\n",
    "# # gridsearchcv\n",
    "# xgb_gs = GridSearchCV(xgb_tun_pipe, \n",
    "#                      xgb_params,\n",
    "#                      scoring = 'r2')\n",
    "\n",
    "# xgb_gs.fit(X1_train, y1_train)\n",
    "\n",
    "# allDone()"
   ]
  },
  {
   "cell_type": "code",
   "execution_count": 48,
   "metadata": {
    "id": "pdLLq6ZJv7tW"
   },
   "outputs": [],
   "source": [
    "# # see best score from gridsearchcv\n",
    "# xgb_gs.best_score_ # 0.6074436855706237"
   ]
  },
  {
   "cell_type": "code",
   "execution_count": 49,
   "metadata": {
    "id": "SoQtOJMZv7tW"
   },
   "outputs": [],
   "source": [
    "# # see the best parameters from the tuned model\n",
    "# xgb_gs.best_params_ \n",
    "\n",
    "# # max_depth: 20\n",
    "# # n_estimators: 40"
   ]
  },
  {
   "cell_type": "code",
   "execution_count": 50,
   "metadata": {
    "id": "I0yTUf0Lv7tW"
   },
   "outputs": [],
   "source": [
    "# # instantiate tuned model\n",
    "# xgb_tun_pipe = xgb_gs.best_estimator_\n",
    "\n",
    "# # print and store metrics\n",
    "# get_metrics(xgb_tun_pipe, \n",
    "#             X1_train, \n",
    "#             X1_test, \n",
    "#             y1_train, \n",
    "#             y1_test, \n",
    "#             \"Tun XGB\")"
   ]
  },
  {
   "cell_type": "code",
   "execution_count": 51,
   "metadata": {
    "id": "T0e9RfMf2qdl"
   },
   "outputs": [],
   "source": [
    "# hard coding results into hard_metrics_df so I don't have to re-run the \n",
    "# notebook cells that take a long time to run every time I open it up\n",
    "\n",
    "metrics_df.at['Tun XGB', 'Train R2'] = 0.8496872\n",
    "metrics_df.at['Tun XGB', 'Test R2'] = 0.6199189\n",
    "metrics_df.at['Tun XGB', 'Train MAE'] = 0.1058602\n",
    "metrics_df.at['Tun XGB', 'Test MAE'] = 0.1709640\n",
    "metrics_df.at['Tun XGB', 'Train MAPE'] = 0.3126675\n",
    "metrics_df.at['Tun XGB', 'Test MAPE'] = 0.1438637\n",
    "metrics_df.at['Tun XGB', 'Train RMSE'] = 0.1452677\n",
    "metrics_df.at['Tun XGB', 'Test RMSE'] = 0.2320089"
   ]
  },
  {
   "cell_type": "markdown",
   "metadata": {
    "id": "zWO-nfJ1peuA"
   },
   "source": [
    "## Model 7: Light Gradient Boosting Machine Regressor"
   ]
  },
  {
   "cell_type": "markdown",
   "metadata": {},
   "source": [
    "### Default"
   ]
  },
  {
   "cell_type": "code",
   "execution_count": 52,
   "metadata": {
    "colab": {
     "base_uri": "https://localhost:8080/"
    },
    "id": "KKVsFG8v6qz0",
    "outputId": "97fc37f1-2feb-452e-c693-7d46c5285c06"
   },
   "outputs": [
    {
     "name": "stdout",
     "output_type": "stream",
     "text": [
      "Train R2      6.141563e-01\n",
      "Test R2       5.922337e-01\n",
      "Train MAE     1.785914e-01\n",
      "Test MAE      1.835697e-01\n",
      "Train MAPE    5.311389e-02\n",
      "Test MAPE     1.411605e+12\n",
      "Train RMSE    2.327431e-01\n",
      "Test RMSE     2.403102e-01\n",
      "Name: Def LGBM, dtype: float64\n"
     ]
    },
    {
     "data": {
      "text/html": [
       "\n",
       "                <audio  controls=\"controls\" autoplay=\"autoplay\">\n",
       "                    <source src=\"data:audio/mpeg;base64,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\" type=\"audio/mpeg\" />\n",
       "                    Your browser does not support the audio element.\n",
       "                </audio>\n",
       "              "
      ],
      "text/plain": [
       "<IPython.lib.display.Audio object>"
      ]
     },
     "metadata": {},
     "output_type": "display_data"
    },
    {
     "name": "stdout",
     "output_type": "stream",
     "text": [
      "CPU times: total: 6.38 s\n",
      "Wall time: 827 ms\n"
     ]
    }
   ],
   "source": [
    "%%time\n",
    "# time: 734 milliseconds\n",
    "\n",
    "# instantiate\n",
    "lgbm_def = LGBMRegressor()\n",
    "\n",
    "# pipeline\n",
    "lgbm_def_pipe = make_pipeline(preprocessor, lgbm_def)\n",
    "\n",
    "# fit\n",
    "lgbm_def_pipe.fit(X1_train, y1_train)\n",
    "\n",
    "# evaluate\n",
    "get_metrics(lgbm_def_pipe, \n",
    "            X1_train, \n",
    "            X1_test, \n",
    "            y1_train, \n",
    "            y1_test, \n",
    "            \"Def LGBM\")\n",
    "\n",
    "allDone()"
   ]
  },
  {
   "cell_type": "markdown",
   "metadata": {},
   "source": [
    "### Tuned on 'max_depth' and 'n_estimators'"
   ]
  },
  {
   "cell_type": "code",
   "execution_count": 53,
   "metadata": {
    "id": "RZFOgC8fv7tW"
   },
   "outputs": [],
   "source": [
    "# %%time\n",
    "# # time: 35 seconds\n",
    "\n",
    "# # instantiate\n",
    "# lgbm_tun = LGBMRegressor()\n",
    "\n",
    "# # pipeline\n",
    "# lgbm_tun_pipe = make_pipeline(preprocessor, lgbm_tun)\n",
    "\n",
    "# # params\n",
    "# lgbm_params = {}\n",
    "\n",
    "# # tune n_neighbors\n",
    "# lgbm_params['lgbmregressor__max_depth'] = [5, 10, 15, 20]\n",
    "# lgbm_params['lgbmregressor__n_estimators'] = [10, 20, 30, 40, 50]\n",
    "\n",
    "# # gridsearchcv\n",
    "# lgbm_gs = GridSearchCV(lgbm_tun_pipe, \n",
    "#                        lgbm_params,\n",
    "#                        scoring = 'r2')\n",
    "\n",
    "# lgbm_gs.fit(X1_train, y1_train)\n",
    "\n",
    "# allDone()"
   ]
  },
  {
   "cell_type": "code",
   "execution_count": 54,
   "metadata": {
    "id": "pdLLq6ZJv7tW"
   },
   "outputs": [],
   "source": [
    "# # see best score from gridsearchcv\n",
    "# lgbm_gs.best_score_ # 0.557453771379358"
   ]
  },
  {
   "cell_type": "code",
   "execution_count": 55,
   "metadata": {
    "id": "SoQtOJMZv7tW"
   },
   "outputs": [],
   "source": [
    "# # see the best parameters from the tuned model\n",
    "# lgbm_gs.best_params_\n",
    "\n",
    "# # max_depth: 20\n",
    "# # n_estimators: 50"
   ]
  },
  {
   "cell_type": "code",
   "execution_count": 56,
   "metadata": {
    "id": "I0yTUf0Lv7tW"
   },
   "outputs": [],
   "source": [
    "# # instantiate tuned model\n",
    "# lgbm_tun_pipe = lgbm_gs.best_estimator_\n",
    "\n",
    "# # print and store metrics\n",
    "# get_metrics(lgbm_tun_pipe, \n",
    "#             X1_train, \n",
    "#             X1_test, \n",
    "#             y1_train, \n",
    "#             y1_test, \n",
    "#             \"Tun LGBM\")"
   ]
  },
  {
   "cell_type": "code",
   "execution_count": 57,
   "metadata": {
    "id": "T0e9RfMf2qdl"
   },
   "outputs": [],
   "source": [
    "# hard coding results into hard_metrics_df so I don't have to\n",
    "# re-run the notebook cells that take a long time to run\n",
    "# every time I open it up\n",
    "\n",
    "metrics_df.at['Tun LGBM', 'Train R2'] = 0.5731224\n",
    "metrics_df.at['Tun LGBM', 'Test R2'] = 0.5610517\n",
    "metrics_df.at['Tun LGBM', 'Train MAE'] = 0.1902449\n",
    "metrics_df.at['Tun LGBM', 'Test MAE'] = 0.1927721\n",
    "metrics_df.at['Tun LGBM', 'Train MAPE'] = 0.5657365\n",
    "metrics_df.at['Tun LGBM', 'Test MAPE'] = 0.1372656\n",
    "metrics_df.at['Tun LGBM', 'Train RMSE'] = 0.2448064\n",
    "metrics_df.at['Tun LGBM', 'Test RMSE'] = 0.2493292"
   ]
  },
  {
   "cell_type": "markdown",
   "metadata": {
    "id": "qSWyaHSDp7nI"
   },
   "source": [
    "## Model 8: Gradient Boosting Regressor"
   ]
  },
  {
   "cell_type": "markdown",
   "metadata": {},
   "source": [
    "### Default"
   ]
  },
  {
   "cell_type": "code",
   "execution_count": 58,
   "metadata": {
    "id": "19voquBJ6_1I"
   },
   "outputs": [
    {
     "name": "stdout",
     "output_type": "stream",
     "text": [
      "Train R2      4.887404e-01\n",
      "Test R2       4.883588e-01\n",
      "Train MAE     2.118149e-01\n",
      "Test MAE      2.117275e-01\n",
      "Train MAPE    6.295529e-02\n",
      "Test MAPE     1.380416e+12\n",
      "Train RMSE    2.679118e-01\n",
      "Test RMSE     2.691840e-01\n",
      "Name: Def GBR, dtype: float64\n"
     ]
    },
    {
     "data": {
      "text/html": [
       "\n",
       "                <audio  controls=\"controls\" autoplay=\"autoplay\">\n",
       "                    <source src=\"data:audio/mpeg;base64,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\" type=\"audio/mpeg\" />\n",
       "                    Your browser does not support the audio element.\n",
       "                </audio>\n",
       "              "
      ],
      "text/plain": [
       "<IPython.lib.display.Audio object>"
      ]
     },
     "metadata": {},
     "output_type": "display_data"
    },
    {
     "name": "stdout",
     "output_type": "stream",
     "text": [
      "CPU times: total: 1min 36s\n",
      "Wall time: 1min 36s\n"
     ]
    }
   ],
   "source": [
    "%%time\n",
    "# time: 5 seconds\n",
    "\n",
    "# instantiate\n",
    "gbr_def = GradientBoostingRegressor()\n",
    "\n",
    "# pipeline\n",
    "gbr_def_pipe = make_pipeline(preprocessor, gbr_def)\n",
    "\n",
    "# fit\n",
    "gbr_def_pipe.fit(X1_train, y1_train)\n",
    "\n",
    "# evaluate\n",
    "get_metrics(gbr_def_pipe, \n",
    "            X1_train, \n",
    "            X1_test, \n",
    "            y1_train, \n",
    "            y1_test, \n",
    "            \"Def GBR\")\n",
    "\n",
    "allDone()"
   ]
  },
  {
   "cell_type": "markdown",
   "metadata": {},
   "source": [
    "### Tuned on 'max_depth' and 'n_estimators'"
   ]
  },
  {
   "cell_type": "code",
   "execution_count": 59,
   "metadata": {
    "id": "RZFOgC8fv7tW"
   },
   "outputs": [
    {
     "data": {
      "text/html": [
       "\n",
       "                <audio  controls=\"controls\" autoplay=\"autoplay\">\n",
       "                    <source src=\"data:audio/mpeg;base64,//uUBAAP8AAAaQAAAAgAAA0gAAABAAABpAAAACAAADSAAAAETEFNRQMACQgABAAAAAAAAAAAAAAAAAAAAAAAAAAAAAAAAAAAAAAAAAAAAAAAAAAAAAAAAAAAAAAAAAAAAAAAAAAAAAAAAAAAAAAAAAAAAAAAAAAAAAAAAAAAAAAAAAAAAAAAAAAAAAAAAAAAAAAAAAAAAAAAAAAAAAAAAAAAAAAAAAAAAAAAAAAAAAAAAAAAAAAAAAAAAAAAAAAAAAAAAAAAAAAAAAAAAAAAAAAAAAAAAAAAAAAAAAAAAAAAAAAAAAAAAAAAAAAAAAAAAAAAAAAAAAAAAAAAAAAAAAAAAAAAAAAAAAAAAAAAAAAAAAAAAAAAAAAAAAAAAAAAAAAAAAAAAAAAAAAAAAAAAAAAAAAAAAAAAAAAAAAAAAAAAAAAAAAAAAAAAAAAAAAAAAAAAAAAAAAAAAAAAAAAAAAAAAAAAAAAAAAAAAAAAAAAAAAAAAAAAAAAAAAAAAAA//uUBAAJ0nVgL4gBGQBRwzcyBCMASiyE9sGEw8k+mF8EMAyJYBo3l7FYYZ0vymZH8rEMOhkZGiWcrEZpflYidLLFMyMvMj//z+/Kyji0eWViJ0/lMyMv/8vimSPP/My/lYiND8j//zI3l+KZI6WVlHHEOuAAKN8QtE658Q9E657vxE66bucRMIAJQ4GWA+CMz474Dgzo/hmBkd8N4B0/M/AyI4P8RwRmfmfAcP6P4IwMjvgeAdH5n4GR3B/BGAjM/B8BweFqRHKx+QESHGnJb+IjmSvCee2xo/gEGaget6T7EEIc9PTJGJOWAHdlMpkk8A/OXbjCLvLMEMP4R+R9TvSVI0fZNXIvad5lLe0cnx2N/nQr/J+CK57hzREm6ZpXp7nIHMQuWTmwAFf0U5HF03fL+mX2xELds4U3uWESbxBCvEcz8y4BARwIEeQdvp8cH/OSJ9W9v6O59nkUnkWnMOn37z+ACYgpqKBgASEAAIAAAAAAAAAAAAAAAAAAAAAA//uUBAAAAkcnQVBhHhBPxjgGGCMOS5ltDySEYIlOoSIkcIwgAABaMpIAARXP55fmhWV08vQ+wQNEYRWYlk4Ac3G8bdvbE9jMzCEIBED5x4QB8dem5i9r9JdFTjZIzHDeRL3rocXNolz9tYf60gCVgABjz24JbPj8RL2uzIDNHYF166v2K5B9CXWGD0Uz4v13tNKYOu2eZHPI6H7u5uwgI9yT3O7X/h8cfn9aTnn8V/v4fniM79QoBPnf4ufYEJxStKAMWb2nKoWHHZxs4Tm4sDMxFrkRWWvIsCKa9x3dL+PK7yIQdnQp+Bm5iIWiPTlqm8PPtPG07Q7giO5ZlPKZBFOktCCE+9c0V/ovn5Oh5XIOeESmW54RGHqgDcksoIAUmOY41QNE4pOHc66mHeQ3OUQn+ZYwdnqjhR3hPNLh3+ZGdOYc0JnCL/uZX//ff9EQW9PQRCfhPM56SggG8WBAN2YsYP0QiQq20qGgfQpMQU1FAwAJCAAEAAAAAAAAAAAA//uUBAAAArVXyEkhGIJR6cjpGEMgCp13JYQE2YFYrmRkgRsxrZb3pmRFrV0N8GUKugdhAuRiEPDdzgOHBJYjuYU0urnlDy37E703KkmT6FEYjxFP+EdOmZv/gFqIWlT0Pim/yc90Rz2fJ84UIz3tb55Xik/08D4ebEmAbLoEIAAbzqMh9rynxnPsyMIb0+59LTSwMVM13d8WgsjRYXX+lKnwo7xDLF/R9871+uQs8UXO7Q/hcLz5NDKphw3Aeb8sy+PqPYJBcQ3KV1C5xwplEiUygQQIhzDVp1ke1JaQztwmQftXKWtduN+mTyQohBWaIDJZbAkOABHGZcJojRdhqlb3gEBSKIicmP2zHBHxOWcsR0aoMlH9ePtCNzfaFKeD1PY2q1IAEFEQ65WGmze1pYHO8Il242N5S+vdLlyV9SorDKc/0bTYsd4c4QjOCe2ourJ3aymZNGo85CE7sz0c/o5TnQrvQ7/pm6jWL963G1/eWVkilTh5BMQU1FAwAJCA//uUBAAAAp1YSmChHXJRy2lMGCN+SvVzK4QEXEFpLmVwYo9gVKCQZUSoCGOJGuxllML9DsMIyEZ22mCeXwMyCJoYUyMAzMvhmImO8JJ0GcYRKMnQyTNko3RDtsTrCTA4jkmadQ9ELzr9mZO1dFvx1OXHgwMrrxOCsKThS5BAg2nVVZebV7jq7SsiNzqQEbyJZlWQueQzD//OVgZJTaXRiLeHk8I6cPYsnWqRmWXrDQ9rxDpPUPQi8q/ZmTtXRb8dQ9rB0m1ijAM+CQcbcq6pQh0TWrElKNCBJQc1ks1yJ5it1cviG0mjES6qUSUVbiDNpm8bPSoDQzaOiSfJ2C5m1MWr2tOLRf++1u20jSJ1ELRmzPFaFRClBKSokXsRzsVBRFCIelF8sBKaY7+K108BP/N59wxJse5s/s2/Lx6nLwqaY+2dI9zKV6+uVWUYSExZ3EVQTNS86XM2pz1K7WiRUL/32t2xCZbUvr3pkWx4r4siqCEt0dPCocrwARMQU1FA//uUBAABIrBcScjDFGBPy4lMDEPaSnFzLYMEWkE/LiUgYZY5CbDJBUCx+8VDGpGCWY1+cni0gnghCmouwYon9CeRGnBuNUF84ZTrvNYpUxx8EDGG/g/B/qA8bgYz8EAwfghI0A/+AY/xsHjRwWMAAwOADggDHHjAUcYCCwpAoAARXqElEilCQ4cGVZZVghSmQuwYpIdjnWf7Fc2Z19tVpdLEoJepWMe3q+5WmdkdSHqc8Y38/oXJ666HPSk3ftkoNLNDP65tQRwBVhcYBTEKDZeGxUF629siDc2rbdjO+agtJjfnxfe8tHdpWYDNskgMxnzpw2zzIs7KjxR1//VW1X6fbzbd+zMmjTEqe7WVaUGjDAgQIEBjAh4wLARxxn5wBPeIjIbcGtlZhzp62URZSMQOKirDQbqcHxgQfZH4zwiLp//uc8gahIDsCho5cX03yfCg3bf7dvMy0ZTPvTRXR2bR2sulCqyIifsrY9dMQU1FAwAJCAAEAAAAAAAAAAAA//uUBAAAAq1cTEhmGoJTa5mcDCLCCu1dLQGYZwljLWXkMwvBy75WulCJKWO7huTbFli1zmW46JfiT7490IK7o4UyXTrtW7mhOk2OtOEhvmV58Sv+W+RFx4f0y9H8+mSzIsF6ISm/HLY+qUmh8OqWCJYTQsRo0IjmBtM+Xspr1ZCJFKgjopWCmjeuuTk4swhVTZEYz3GOP0Fu2KILn7kZmSDfurkYIQ1a6mU/ae7NQMdmRWf/V2KllgshJXL/rXs9HUrQTGsZGnnKjMRYVwsUkwBWpkARTIi65bOBJFHYamqlAN7UReMpiD+hGw1rVdOMZaBP1vGdzqu+lOq5+b5H/2Jnpf550tk7cirf5nohOuDHOe37kEBGr+bkQU+IpvuOFfk+kmP9OOgICp04jCoiFDDI1EA6bZDVIBvQYQEJ+EIEn8VOR6GGLLMctEz/9aZPYCJd5s6M+W/zfVCM8qvpuV5S1SzKb3eYjFLBXFZuR2uU+52Zn0K55GOXmCdgpiCA//uUBAABAqVdTEBhHoBTS6mJDCPSCoF1LQMVPQFgLqZwMQ/YpD2j4RLUoD7MxZItIQ0NgQp5Oijk9Gf9ZxZYJCo0t9TSloDQ4S75guQs2uxJr+RHPQiVqdcn/r5ThM5f9zLnKbypjepGWhoSYJTg6XyHUzTzckPBnVZyjgACJak74hQWRcOsRVJmULFHJ+zkGWi1s34CGspOdT+WbwSB8Brk9rk2v5EU8IjqtOqb/65ThM5f9zLnIbyJn6EZaGhJglODpfI0zPzQlPBmHKCAIy7ljKMuK9xdEXvYdebHdpmaOu50VGVnjKbYpDYdmzPN0jrWhxI6yndrDGXsunZlX51fcjXxqdrTP/zhfyBDrbG4//dk0Z1aqkg++oXGqcyoTD1SRLUANCdyUE4JoRCF7D+ZqKGMOGVVYM7qbsHUMhmjmBoFVGqEWrtDvNENLspHuDdGeVWp2ZVpyKZ7ma+idrTP/zr85ul8Hj/7RTAAmqr5CGrCRAAJDJiCmooGABIQ//uUBAAAAppaTEjDFHJTi4mLDGWeSxlzNSGEeAlcLmawMw/B1BAAIUAiTQ8H269mnmd171hLNAu1SBEm3yNxwupKGczpzpRyzqUqkczry0vhKJXO7WLo/mMjFjXVWehsfz6tvlV7u6HGflq19LrqJg9N6nWOTqpYBjCAAAoqjpXauJbhDU3OC2ZgulSBEm39zs/f6eDOdKOWdSlFpmVSq4vwrI6Z5NYvw/9mFkg/hRMNql/n1bfKj2Z1Jbmq19LrqKxsxKEZ62VUClasgFQQQguIFMYgJvlsnmZBzcQyoDYiFdCiO8BHiMs3TE5PoFIocp8l+m0YXexFYs+Oa+sZPLh5PfqkWW6/5F0um/8kf4XuedtCJbp1yIQzUA4roKYidFow9KNIFICAgQXQU9GbdGr5aEs6UWPkTdVO4NeB7/9upuQvZSKHKfJ/SSQMdn16jG3tez6yTIuHTWnxzLPdz/Iul03/ki/D9zyloRLdOuRSvPjOqIRs7igFRMQU1FAA//uUBAAAAqdTUWjBHTpUpwmlPGJmSb1dWaOgXHldKyn0hQrleAQEUrSURJcdafPJ7H5YDX+9/zdTkQu9lzMfdstGzej7yVtyIodlhA4RO5H1zT1yzR4Xzk83rvz8v+ta01Sn3iOZHl85RRbK7xzcxEUbKYSIgAUgQAJAGn3vCLJfH1rm+Jul9VDN5T0RAYs6dVF9rMu0SOQYWxlZnRkv39bQRXYIVmq7ky2uR0JpRnjlDzre7+lY1gSfvANZ7ucqcEh8NOkZESmGx0AXigsQACjgLURBZO59hI8qUMYwwxz1szGGOe/8ICH22Y23/istdmZKC6yJ4Usf0nLpahO/XcT/Tsragx////aZW/8iIj7NSjJdqtFlgPNZJL8gADZYm9ElT+3ugAn+IYYIMhN3qqrRLe/0W4SCT/TMbzLajMku0gYiYcaXIi1zKKaxoUZPa6L+i6uY1EDv01s/qd3W7iFMrf+RER9mpRku0E2JcPwWSSpiCmooGABIQAAgAAAA//uUBAAAAk5F12lJVwxKi0rtKGp1zB1dZ+ONWDmIKSw0pJ+HkAAAcoMVSQbHLlBr5oAws/NNU0lNU1UKmfxFm/RXSeyf+MSzDxE7s0RudQao3/wZHf/qa1NX4MmVpqu07Lf1Lf/uaxUyUJJB5LJQAAG6C1EkGxy5Qa+aAMLP1VVVatwafxFm/7JP/+MSxjkTTUI2ZB6Lye/8GR3/6kD01fgyY6VaqbTnlvyhYt///+1aabvPViic5qFMQQAZmSszbcHBtOjYJ32CoC/nnuejyrVX1wEk/rTdgjR+m+EgaoSiLJyEqpMLA5FsbD3/gyH//XVf9wZCxKPztjWQ5TjkPz3GAhWLlpDZ6stdjkPLK6CLn3roUtNpJ0d4wGBrUY8kkyAfTjRWE99hJAP+SnuYllZFXquIEv86xx5ozOO67NCgJaJQBk6E6uF1mpBoHRU36QVD/+uq/7gqGKvztjWQ5TjkPzx8UAVZnmWerLXY5DyyugP899+m02knRyYgpqKA//uUBAAAAqVS1umpPw5SqLp6SSfgyslJWaaw/BFgKSu01iuGjACAsgDNIJamUuVji6zgEwS9IkLrZNFNBX9QmiX69C//yIbwiSqGx+1woZZFQPi3/E4N///+Jw7e3926mu5jCgbzmWWbur0RqoYaapI4rvn20+g2JICHwCFKSamUtQ1w+Jes4BxRPN2Utl0EXUr+oUIl/ZFVnf/lg/WIUnn7XDQ+yI1j//E4f/71/6BUEN7f3bqa7mMPH5s+723UOqASYUV3z7afQbEkICAkoMfTqhuiki5qGRtRdALc19011o6Z5Jf8hnv1GtJFaSXrayBSG4WtJDHj47LZvHNjSv/h/+35+z0icGVRGNbY5VZEOmnUUkX////LQwQYqHVsHpkQCAswLdJYbouikXRENqLoJGj6k3ZGjTpL/Ybyx/3bVZla2sgSwiiy0kMePjs/VxzYJ6/+H/+35+z0i8EqoUY1ssTKVLFCh0lH1Co2Hf///y0wSYq1TBqUxBTUUAAA//uUBAAAIqZSVFJsVwZRC2qqRSfgyuVLW6ak/DlOKWpxJJ+DkAC8BDIttHUsbgtKrsfBcJWb1o1WSTu36xnU/1Jt//lmLV0agSDgd4HqoZrZbU7tiQHbr///xzptZ7nstKaIMRDKY61tVd7pYo7nERGjXSAXPiXS8oBD8BHJNxGtSyUHyrYrg+mzdfS0k1O36x0p/rV+tv5HpDrWsChQT1KKZmUf+KAb///+HdNrPc9lpTRBuLldlraq73SyO5xx7O7n0OpqYqEmqcQCAtoDVAISrLY3Fd86eAMI960nPkxN0lIqR/UMR/1XXRTSoUepMTUoCgIqoDBQ6vA3ZcgW/4mL/7fb93QO05jnnTGmbsimxSQb//vvc1SWd+dbfZs1dJkBARyu1WWxuF1z+WS0AGRLefSWpJ1mDukj+odD/r9//kaeFARVQGCh1eBlMsG5Xp8FA0fX7fb93QO05jnnTGmbsimxSNG//773NUlnfnW32bNXSYgpqKBgASEAAIAA//uUBAAAApxF2ekKHWxUiLtNIOatitlJWaeE7RlgqS00g4rv1BDAuwclahhDwvIp/BoAH/z18YF3TpW/MALCY/95tF6LrC4JRFGozlBe5G1yRTH+0ERP/zWNz6NO1GAm4X7NAa7MGRzSjRUG/9Czh8gBDd0SOEb9QQwNcHZU4YQ8LyKfwOAF/9CW4ua6Nb8wAIWP+qmzB45mqusHhESjUZySuY5Vh0j/xA//NY3PoxY/UQAjbP/VMXPqjovYcO0wr/0LOHyAEN3RI4RvcIIASTDVUcm6XgUiIGJreGcB2gaGOPmyJZ2ExuFV+9N06/oICYvMcdcuNMtOYn/oIFT+j0PTHDFMPc8DCJuZpVP27rHBJ3qi6Jrto2YNe5n1rDXJK2ga5loKWQx1NOWjkIYJkq4D8BaN3t76eEivntZe4VX71zFXP/QQExeY465cjERxOKmN/0BRU/o9D0zTChh7kAMIj2f1T9u6wgDtRV1TXbRsgD3M+tYa5JW0DJiCmooA//uUBAAAArFTVmnjFHpUqmr9JGKPSpyxa6G8ZjFfLa78gwm+sAACkrlurZ0lvPvLxtZ2NioLa6ZYcC0XeCuwdfKTUmgEcNecL5TI12MtmWATVYbFvTzRfO2AQEBU7fe+ifSswYztrfeqLf+Yz///9EdxdKZ3KBwoqxn6gAJZ1dvpH0pdrbgq2jWwALkK6kmdl+wdWVOfyARw14cH5GNUXQy2ZYBNVhobpcyVvO2AQEBU7fe+ifB1mDGdtL71Rb/zGf///ojuLgp38pGAhFjOIgByba3StKB3y4dVoQQWXZG3H1AXYzQE1DCccOiEs6bs7egOC3RUelmEIkytKapM2JXoMw7i6VESrBRwTQ89d9TXG4QYp3bKuAQ1wjICpIJKBkSrSzIICjK8f73WTC7rVkXKgEP2mISe1+ZPrdh6c5HrPjMEIqfmXVfmu9oylFlq+x/rnW4VhYlbHOoK9EeVKI0oKw03H//RbXfIiaN/XytYzK1D2RFbqRVg1SmIKaig//uUBAAAAqlaXvijK/xWRXr9DgIlyuFRcaWgSflOKi78sZYvZ2ABRWh9/9tbh1CObOAZqI6vCD8qSNqRL6lTY0VyaB80c2mpoUhbET5K7m84T796ORVlZoiQqcyEVwl3Hf/M1mZ96C47kE5WQRd87sQy2ZSHfTdfiTjAASkbcbRLEpjUVYZcD8cSNJXQj7IiGlZhOVronXfu9JXIyI0MzHsFYwQiAhbvguFA5StxTgQl8CJIMXY///8nKK+8i7xuDSr81gK6kQr8wjqIIExCn9AYt32utjltxQeUf6ApCqftNhhEMpKOLpVzkjMg1zIVjrus1VlcWjnUfZtzBXV5V1yNVdnVyTImfHK+isdnT/0notb0kV7fvWxUayMQ98JEmScB1opjcQ4AgM7x/tdJNbig8kn7B6JLPz00DxxlJB2c1XFJMRa7xWTMpq90GvDtP/lfaZMZh9qrhjq5P+9tcRev/pPRa3pIr2/etio1kYh73EMtJ+h6oIY2mIKaigAA//uUBAAAApZZXvkBHl5TyavfICLnyz1BXeNMZWlkKCo1pAldd1ADBoef/9rbk09PsITP+9g2GpiFcSKjPNDao6WRaqRxlDTnEidWCK/EXDgti8nFNY2fCM+mjpLkqTsjERid5vn+WSXDJYhPYpaFFK/x8XXR9C3dgAwiHj/+625NOU+whMv9SDxHCvMPIppDzQ2qOdEJqpeZtu0rky1vq7T/z4tpAHuSjmsbPhGfTR0lyVJ2RiIxO6T37WIsMSoQXguEQWf4eTdH0LiZAACFZt//9b0EALIH5AQR6KyPSN2JVHsevcjCZ0Wm6FCZofmh59U5/7le2Ox6wyUkqvqef8n5UNkjFnDSTBUj7/+cgOcYnPQj//9+61vCRviDssxNYT4MdLagAI63ZHGlLFi5jzPXqYhMZ1rzea2Ba7nSSWtnCXUWIjlHRmJbY73md0/r9dLMBMFQh5XjdE7KGsQw90cgNIMtq/uiA0oZjtIz/56yqbCI3xB20we8X4u0qYgg//uUBAAAAoNWXvhhF0xS5OvfGEgni01pSYNgZmlsLiu8gI7Fd3ACBniP/9rJmuOp/Bl/9cKOQMlUNspMLAmBGuxJEEvQjlCVmRWmjssOgtjEVwMBlYjEiisaj0VWb5qU8y/meHZvcociekjPi8iamCgB5/JPEABA7RH/+1k1O4+CegxfZZW8fSqE2y0x4swy1zKOhHOglagpXZFNjR2WJ6W7do7yRwSFg6JRgASHi8YhJOtzGqbxedSG7muUQmBrZ6og7W9i5GYgAuNT9AVUDp3B5Bm46maxNTKMAHmnqugkwYuAZ5dLxQbR7HjArqqI08R5NudyTM4f86dnFKzL8+Ws8n+naXfcrOZ6VeaH8nNaSV/T09jSpSQxGKBThYAQGZxDACLEu/v+9t8M9umh4GlXztEkN6S6robY0+Be6k8wu6yiqkE4RURp6eTVTfJGMMJMF8B06K4pWZfnygmeA/9u0u+5Wcz0q80P5Oa0kr+np7GlSkhTvOF6RguaYgpo//uUBAAAArNYVvjDE+pVJQq/JGWLCslRU6wMT+lSlSkkPQzgaIEAACRt/743scnpBH7IC2ylEykHQq/OaEfBy+buzdpO5nM2QyDqi3P7ZNtRJUMzla6kMV3lVC3qqOjMXZa/vU+dKtyfYZnTepZ9SXR3KZTM/g+6HyywyCAABmm00rTrl19hn1UNPTSMCtZiaBhd5OaEboKK83aITfCI77IY4CoVbn4x8++FDzxNOvCYhQsVHGzqDrdKz5dhKU0Gh14lLxIkiBQqHH1LQHyJFCQAAIySSImfz+5ds2LlW71sBhqDHPvKb1UkZ9LT4yh1ACUilIKUpoj8sJ2DoBuZUifuSKc9RDHBEvVpVR/dbLJ1vom2n/17v7k/vdTP5+aIuaw/o/hECAALv5tSxTKNKj629rQNKnORSS3lLi1Yr4QMLJKDPjK6oSkPaSPaROZpYTsHQDcypE/ckU54JiDUUlbgmRx6GnLXqYiz7ZvAnSkTPl5Yo0+56yahqYgpqKAA//uUBAAAAqhYWWhPKoxSyYvvIGLlyw1leaQEfrlfkyfEPY0okkYCckjjaSa7sx0cH2MEHgCC9lRENsIgl0MhGb3dlRkQ2WdwiZHtnY5ikX91uzq1JjLPsqM5zep1oNy/TTSsrJ3dksgsm5yEZqEo7zGKlNh/GmjlE3Z3UAVXj/fa26Y7S3jX+QqBB0r216QOQIPcNCVX/d1E2r97b2EjRfXuTsqX/86DMjpDTZLv5WEbt/17wF6/TTSsrJ3dkuipschQroHF8gmh/v+v7fAXb/f7W3JPfaJM/4aClwjpEV01AgrB7aCGn9S0PcJjDYGI8T1ExVpLu0RSjatOAHRTBETqZapbMfkkPZ6iBgaN0IJbJf/N9s7046ro/ehWKFTfgxtsIWQhLnIg1krjEDgBCPKJ2uQ3SWMuTWrv8y49mLCTQOixFYQ6HEOVIjirlKII0ru0g6wcwqgkUYIixJC2IQ5InyADj7gYhka8BBKDDcDlktJiMFSh9qG7E5VMQU1F//uUBAAAAqJbXOkBF45RA0n1D0hQCfFrc+QMVzFori00sYrn12oEl+11sjq6eyRNfiQKiI9cxF+x4TBVtqdjXpaPpjY6m7hJ9LS4fsi5RWQpEPVLhCc2ENRzb+rHkUd9FYft7zN8FRSlb/qa/+mf4oyNzqYag79DSEACFoT1R1RRDSxF+D4oDrOO0x/NniQTN39jnpaNpj17isoUOFAIOPgR7C8+uBY9SfrAZQk9RJ11JZ2wVBVwspjxUVnijAaLvaXCboUOLSoHGaHUAVXfTa1t3iHkxuU/DEgMFb4d2uRjA8I6KQ1bZ8L2XdzHZ1i+R6C4Tkfj6hD2WuSRrPjopOk/9v3z1ey/0a7vbTdi0yL6KmdZX//weEtv6BRrXY40o1RJO0HvfH4qMhsNZ/POuTBxAH81JDlt39vk27lq60T5Hs8JyPz1I9XoYkgHZ8cUpOk0yXeOybxLy0ey/0a7vbTdtMyeipnWV3PZbkRJTqZLCxiYgpqKBgASEAAIAAAA//uUBAAAAqtXWeljFV5Sy0t9JGKpyv1lY6MoaLlaHCx0gw5PljoDkjkrjSiTIuX7Yj8KgkRzsvZv12+oXOz8vBbBHMBXQ1RqTFAWnQktK+qqh1p8K5K1DzKmUT6SOY5db/o70yaJu6rTvv+9Kez2NElINDA76TBIApddwNbbZZG3VoVubrCJ//GpgaDKlZ6+zznDUs3yT8BFvs3St/AR5dOpLSvqqgZ0Redc1W3+n0kcQcut/0d6ZNE3dVp33/elPZ7GnKZ50XZw4SAKTWUCSxuRtEw9SXJirekOJQKgayRXiWitCxR3Lxo7Qmhl1KROMVKpzE63hbVkPIjh+izKWENV/3K8/U/V0s+zP+7fbxyQ4f/vrysfz9M704fud90BoSFJJHraBLJI22iXNCNDse1J+EwMgyh0x8XEYUO0+UPg2QFWVV+F53dzic11vC2rKeRHS9FmUBQjq/7lefqfqIK25d/3O7eGgad/3MoG/bzG+tPzb8MiEhSSRMQU1FAA//uUBAAAAqxYz4sDE/JWJZrvDSNTCtFrdeQUWHlWlCq9kwmsGGrn3mdD12LriL7a8wRIoF6itbMqHwg6uMszD1EpAnCtsSAg9+o6sKSJxVkIyrBNuJIr1ar6//Im9HuqUIYqvKa+6pJd56N8vp3v2lNzmTZEZBXLraZzQwB1WN59pZgbmnTAKAOzCwNCy0yt5uBiDZjD1EpV0bY7nPmzIixOKshGVZduCpAw2CHtE5gjRZWUalTx7RICpFB96RYol58k2W2XvuBaXHPGpEmaQ7uoACK0/X3WTEGnDhqHP8hIJvmaXgfkspwjsRYSldCOkoWqwfR9W7OFjDUNSl07U1BgOj1FJoh7l2YvXZbzdNevdLSrRLlZdf91LeszOitEmbD74Z9VoZCAABnWsstbusO4b5fzpc3jMbAo8fOXS+G9t5eykPozRJ3yYeKqWirYIfs4JDUNSl07U1BBJFYUih8CzB21DXnrF10scE1MAo23pEqVljIo8V7rxrUxBTUU//uUBAAAArMm2mjMGl5VhnuNGOg3itFFc+WYr3FMKK000w3e3cAD19t1rblMSQ7Cr/4yGHz/bvLJkqPLr0Nl5AlRnYGkZaHFPN0bs1YEtJCft3GWeqg+kIINUDK+I/hpmCVl19tZa1Xk96d4L13v//F6LzbAWP7N5H+f2AAbfba6SWErIOIOfiMCD+9LWAw4QnJh6GKjOXpKHyxjzqSXzGpcLNJT8zlUseQscKdLI8HI9V6V/C5OUAo17Uji6EC5Z7wO8FVuu4fQFySQRGeL1uyoAErvO299trmxO5jfyDBl274ozqASiwtwn5V5tfrqa2HvMbanbKLol2vdZWSvWPIUWYTIGxhGQ03vc1exW0Ret3eizKTdVUk8r0bakshrMuLW7a2dVrQAd3ttlkgdFS6kF6wcYcL1ca6SgEGdMDR+HXnS/dUJaZHSRzx6EkxizzupTvg5hHVDRRuoUbb/PNu4LDuY3JP7mZ8u1Tztqb6nwvLmujZFfFWpiCmooAAA//uUBAAAAqUpWOjNMdxU5Qq9GyhDiuCnNS4kbQFRnGi0bQy01yAK09t1rbY150DTnKlgLIwaqswNlZFiERug2kcem8zc1xXtHe8id3NKThqmuz5rsb9dtKDvbKEANC7noDpa0coUERbEukekJyrntzXNEVDhKd8rZKwAA3Y3GyiFaEpPeZRUFkm7W7m49LroC5GGiWxaw5qUilVXTTKe+SKsdVnKkGK3E1cwT2MG3NDDSIgBoXc9AdLWjFiERCfEmkekJyr3tzXNEVDhKdAAAJBpApquFuw2FPV6I/EQgBmhmicfA6NFGCArCDLS7Dw4fROIc7LU2enhjVDKOD2cIGsdqC1hk0/UsstGPGlCGGz56DaRj8GVePfUq96wGV5tum4J2KLAAAVZjbiJFPFwLdGYr4sTNplDd7qU9Jny937OntkTEFGyPLoGhkxlHBbOFD2O9B1YZNP19GSlODg6FNTfb9nzKH/7KNP8Hx76lXvWAyvNt03BOxSYgpqKAAAA//uUBAAAAq0sUWh6QapVZQoNbSNnSrErW6aYbPFbKOt01InXcIAAi7l1sSCkbGDBtyIt2ILQHDVay/KzsD2IYhdjs2vti4lVk65q5UfejIJVi5lBpG0pd3qTKxdWpSTbDAiay3RM1BMtDjumx//1bjmO2+33Y7u7mtqAAAE5uRtlDHmWWUzQy6ldFJ4AVxx4Y7NMhzxyX4i5cth52JLPDFNHpPKVVRzCj4alOpU2o2zbr7GGanv6Say3RE1ANVRGfJh//q3HMdt9vux3d3NbkqAMt9utsjFS8wSXqDaGCT6z3lawtQykmRIVk3iCTXcKygjQL+M0pP/INZkGcXXPRjg3MzWN+bFmeqmeGi2MDM4QYECmPqppyVRlWhbllSWY2Zjm4GGpACm9tsscGdUswSXqAlQ8k7881WIXcYkwYZYVYMsrGlGMdUNUI7RnBqxult1saRlmGQakZyqTuZrvKV3lBhFQyO6SL//tyziSGB7Ke9nICCnYxkFgUZMQU1FA//uUBAAIQnk/yhMoGyBTaKlGaSNkCaSvJMwYbIFLFqRJko2YBqoNfYt7rP1ZnotCDjiGwGr0Qsg9xkThnPhpX+xA2dXlYOMxjHSm6k6klrHXIFmI7H4trByb7DNjUqTyagyIjP+wu0udXGiJagfer/2f9yABKpDX2Lfx5r0Ow07wIDmhAB5hAm+Qmdt1OuIXDnmlf7MrTVw+FTkFeh4wcmckrsdcuwUZ1eLKzG32GbGpUrLrkEIz4Crnyl/Vy+TuzsKt/6v+gkNUhzdbLdB3DtNBpkWJVjVVte2TvAbhD5MFHD5hSqlZY/8fNSVnHoklilE8pCCM3XRqZBhwmBQBrHixhohA4JA0at3yr2dznL//uGRsAyhzeWV25d5TRJTs3PQOq7VUBnbdgQSgI9EwUcOER8N7c4P1fo5BpY5fKWW/YodWD1HVTDGdEhQMH7Y8qcJEQSeJHrEQ1ILhCMDKHJZ/V7qqhKmIKaigYAEhAACAAAAAAAAAAAAAAAAAAAAA//uUBAAIgkoqxyjJG5BHRaj2DSNIC1E9ECMIfJl4H6HAkZahAIeBEs2WNdpoGB/Xii6RInmRaLQ0YyPBhFUe6HQKNGNTQyIMGvSVVLkIvMzPicg+4ZOnsi08y9KwWYMQj1/1KMMxrXvIh0sfhUAwrSAJqqfewVHwMu3bkrLUAtFc4YRj/oJQo6cEotwxs5gxMILJmSkpczJZGGfGTUYbMjoxUtlAMoJgIwaCQsz9Cf/T269GtQCNMuAFssceUWYFehSk0ecklJqUBSPliwmqSEqeQWecvKdiQU8OdoCvvoVnqjzGeoz1UEO3m/oZjM+6P/1bLq6r5MpWWw5xu0stvImg5fG+aoGr40FPG2Jf/SVpQ1eTYaWLgZgi2SqG9FMUMZCFltAJhNJXAewM+QoB1hwCWDAOJaGVUwEswxy1ZQ1VFMIgUv5vYxkdZUVFeVjILVMrOW4qp2RoKdKVxKfC9WTIK/jsTnvZRogqXpJMQU1FAwAJCAAEAAAAAAAAAAAA//uUBAAP8l1WO4jDFaJI44eqGCkqAAABpAAAACAAADSAAAAEgAGPjc/mmvKfKIiij0NzUSRpZh5BNSRp0cv87cylJgoNHJlln0sZV+xgoMjlMt//0VnZFt/qjsZUX///orOUMCOQ7OxlVFQ7GKGQcAAATkQAAAMegtGjLRGmp0KNTcKhCMlEZIfJSYhOFD5KWRniYKgsME5lEmwTBUskuCZnWKmQWEZkJI///6AqJDQqkJsMhIWI8UTEFNRQMACQgABAAAAAAAAAAAAAAAAAAAAAAAAAAAAAAAAAAAAAAAAAAAAAAAAAAAAAAAAAAAAAAAAAAAAAAAAAAAAAAAAAAAAAAAAAAAAAAAAAAAAAAAAAAAAAAAAAAAAAAAAAAAAAAAAAAAAAAAAAAAAAAAAAAAAAAAAAAAAAAAAAAAAAAAAAAAAAAAAAAAAAAAAAAAAAAAAAAAAAAAAAAAAAAAAAAAAAAAAAAAAAAAAAAAAAAAAAAAAAAAAAAAAAAAAAAAAA\" type=\"audio/mpeg\" />\n",
       "                    Your browser does not support the audio element.\n",
       "                </audio>\n",
       "              "
      ],
      "text/plain": [
       "<IPython.lib.display.Audio object>"
      ]
     },
     "metadata": {},
     "output_type": "display_data"
    }
   ],
   "source": [
    "# %%time\n",
    "\n",
    "# # 22 minutes\n",
    "\n",
    "# # instantiate\n",
    "# gbr_tun = GradientBoostingRegressor()\n",
    "\n",
    "# # pipeline\n",
    "# gbr_tun_pipe = make_pipeline(preprocessor, gbr_tun)\n",
    "\n",
    "# # params\n",
    "# gbr_params = {}\n",
    "\n",
    "# # tune n_neighbors\n",
    "# gbr_params['gradientboostingregressor__max_depth'] = [5, 10, 15, 20]\n",
    "# gbr_params['gradientboostingregressor__n_estimators'] = [10, 20, 30, 40, 50]\n",
    "\n",
    "# # gridsearchcv\n",
    "# gbr_gs = GridSearchCV(gbr_tun_pipe, \n",
    "#                      gbr_params,\n",
    "#                      scoring = 'r2')\n",
    "\n",
    "# gbr_gs.fit(X1_train, y1_train)\n",
    "\n",
    "allDone()"
   ]
  },
  {
   "cell_type": "code",
   "execution_count": 60,
   "metadata": {
    "id": "pdLLq6ZJv7tW"
   },
   "outputs": [],
   "source": [
    "# # see best score from gridsearchcv\n",
    "# gbr_gs.best_score_"
   ]
  },
  {
   "cell_type": "code",
   "execution_count": 61,
   "metadata": {
    "id": "SoQtOJMZv7tW"
   },
   "outputs": [],
   "source": [
    "# # see the best parameters from the tuned model\n",
    "# gbr_gs.best_params_\n",
    "\n",
    "# # max_depth: 20\n",
    "# # n_estimators: 50"
   ]
  },
  {
   "cell_type": "code",
   "execution_count": 62,
   "metadata": {
    "id": "I0yTUf0Lv7tW"
   },
   "outputs": [],
   "source": [
    "# # instantiate tuned model\n",
    "# gbr_tun_pipe = gbr_gs.best_estimator_\n",
    "\n",
    "# # print and store metrics\n",
    "# get_metrics(gbr_tun_pipe, \n",
    "#             X1_train, \n",
    "#             X1_test, \n",
    "#             y1_train, \n",
    "#             y1_test, \n",
    "#             \"Tun GBR\")"
   ]
  },
  {
   "cell_type": "code",
   "execution_count": 63,
   "metadata": {
    "id": "T0e9RfMf2qdl"
   },
   "outputs": [],
   "source": [
    "# hard coding results into hard_metrics_df so I don't have to\n",
    "# re-run the notebook cells that take a long time to run\n",
    "# every time I open it up\n",
    "\n",
    "metrics_df.at['Tun GBR', 'Train R2'] = 0.8786262\n",
    "metrics_df.at['Tun GBR', 'Test R2'] = 0.6341327\n",
    "metrics_df.at['Tun GBR', 'Train MAE'] = 0.9380641\n",
    "metrics_df.at['Tun GBR', 'Test MAE'] = 0.1679331\n",
    "metrics_df.at['Tun GBR', 'Train MAPE'] = 0.1161788\n",
    "metrics_df.at['Tun GBR', 'Test MAPE'] = 0.4995710\n",
    "metrics_df.at['Tun GBR', 'Train RMSE'] = 0.1303873\n",
    "metrics_df.at['Tun GBR', 'Test RMSE'] = 0.2266545"
   ]
  },
  {
   "cell_type": "markdown",
   "metadata": {},
   "source": [
    "# Feature Engineering"
   ]
  },
  {
   "cell_type": "markdown",
   "metadata": {},
   "source": [
    "## Feature Selection"
   ]
  },
  {
   "cell_type": "code",
   "execution_count": 95,
   "metadata": {},
   "outputs": [
    {
     "name": "stdout",
     "output_type": "stream",
     "text": [
      "<class 'pandas.core.frame.DataFrame'>\n",
      "Int64Index: 49975 entries, 0 to 50205\n",
      "Data columns (total 51 columns):\n",
      " #   Column             Non-Null Count  Dtype  \n",
      "---  ------             --------------  -----  \n",
      " 0   section_type       49975 non-null  object \n",
      " 1   instructor_id      49975 non-null  object \n",
      " 2   facility_code      46160 non-null  object \n",
      " 3   start_time         49975 non-null  float64\n",
      " 4   mon                49975 non-null  int64  \n",
      " 5   tues               49975 non-null  int64  \n",
      " 6   wed                49975 non-null  int64  \n",
      " 7   thurs              49975 non-null  int64  \n",
      " 8   fri                49975 non-null  int64  \n",
      " 9   sat                49975 non-null  int64  \n",
      " 10  sun                49975 non-null  int64  \n",
      " 11  subject_name       49975 non-null  object \n",
      " 12  course_name        49975 non-null  object \n",
      " 13  a_count            49975 non-null  int64  \n",
      " 14  ab_count           49975 non-null  int64  \n",
      " 15  b_count            49975 non-null  int64  \n",
      " 16  bc_count           49975 non-null  int64  \n",
      " 17  c_count            49975 non-null  int64  \n",
      " 18  d_count            49975 non-null  int64  \n",
      " 19  f_count            49975 non-null  int64  \n",
      " 20  s_count            49975 non-null  int64  \n",
      " 21  u_count            49975 non-null  int64  \n",
      " 22  cr_count           49975 non-null  int64  \n",
      " 23  n_count            49975 non-null  int64  \n",
      " 24  p_count            49975 non-null  int64  \n",
      " 25  i_count            49975 non-null  int64  \n",
      " 26  nw_count           49975 non-null  int64  \n",
      " 27  nr_count           49975 non-null  int64  \n",
      " 28  other_count        49975 non-null  int64  \n",
      " 29  num_all_grades     49975 non-null  float64\n",
      " 30  a_proportion       49975 non-null  float64\n",
      " 31  ab_proportion      49975 non-null  float64\n",
      " 32  b_proportion       49975 non-null  float64\n",
      " 33  bc_proportion      49975 non-null  float64\n",
      " 34  c_proportion       49975 non-null  float64\n",
      " 35  d_proportion       49975 non-null  float64\n",
      " 36  f_proportion       49975 non-null  float64\n",
      " 37  s_proportion       49975 non-null  float64\n",
      " 38  u_proportion       49975 non-null  float64\n",
      " 39  cr_proportion      49975 non-null  float64\n",
      " 40  n_proportion       49975 non-null  float64\n",
      " 41  p_proportion       49975 non-null  float64\n",
      " 42  i_proportion       49975 non-null  float64\n",
      " 43  nw_proportion      49975 non-null  float64\n",
      " 44  nr_proportion      49975 non-null  float64\n",
      " 45  other_proportion   49975 non-null  float64\n",
      " 46  avg_letter_grade   49286 non-null  float64\n",
      " 47  year               49975 non-null  int64  \n",
      " 48  term               49975 non-null  object \n",
      " 49  class_length       49975 non-null  float64\n",
      " 50  course_difficulty  49975 non-null  object \n",
      "dtypes: float64(20), int64(24), object(7)\n",
      "memory usage: 19.8+ MB\n"
     ]
    }
   ],
   "source": [
    "df.info()"
   ]
  },
  {
   "cell_type": "code",
   "execution_count": 96,
   "metadata": {},
   "outputs": [],
   "source": [
    "# make copy of df for feature selection\n",
    "df_fe = df.copy()"
   ]
  },
  {
   "cell_type": "code",
   "execution_count": 97,
   "metadata": {},
   "outputs": [
    {
     "data": {
      "text/plain": [
       "0"
      ]
     },
     "execution_count": 97,
     "metadata": {},
     "output_type": "execute_result"
    }
   ],
   "source": [
    "# drop duplicates\n",
    "df_fe.drop_duplicates(inplace = True)\n",
    "\n",
    "# check\n",
    "df_fe.duplicated().sum()"
   ]
  },
  {
   "cell_type": "code",
   "execution_count": 98,
   "metadata": {},
   "outputs": [
    {
     "data": {
      "text/plain": [
       "section_type            0\n",
       "instructor_id           0\n",
       "facility_code        3815\n",
       "start_time              0\n",
       "mon                     0\n",
       "tues                    0\n",
       "wed                     0\n",
       "thurs                   0\n",
       "fri                     0\n",
       "sat                     0\n",
       "sun                     0\n",
       "subject_name            0\n",
       "course_name             0\n",
       "a_count                 0\n",
       "ab_count                0\n",
       "b_count                 0\n",
       "bc_count                0\n",
       "c_count                 0\n",
       "d_count                 0\n",
       "f_count                 0\n",
       "s_count                 0\n",
       "u_count                 0\n",
       "cr_count                0\n",
       "n_count                 0\n",
       "p_count                 0\n",
       "i_count                 0\n",
       "nw_count                0\n",
       "nr_count                0\n",
       "other_count             0\n",
       "num_all_grades          0\n",
       "a_proportion            0\n",
       "ab_proportion           0\n",
       "b_proportion            0\n",
       "bc_proportion           0\n",
       "c_proportion            0\n",
       "d_proportion            0\n",
       "f_proportion            0\n",
       "s_proportion            0\n",
       "u_proportion            0\n",
       "cr_proportion           0\n",
       "n_proportion            0\n",
       "p_proportion            0\n",
       "i_proportion            0\n",
       "nw_proportion           0\n",
       "nr_proportion           0\n",
       "other_proportion        0\n",
       "avg_letter_grade      689\n",
       "year                    0\n",
       "term                    0\n",
       "class_length            0\n",
       "course_difficulty       0\n",
       "dtype: int64"
      ]
     },
     "execution_count": 98,
     "metadata": {},
     "output_type": "execute_result"
    }
   ],
   "source": [
    "# check for missing values\n",
    "df_fe.isna().sum()"
   ]
  },
  {
   "cell_type": "code",
   "execution_count": 99,
   "metadata": {},
   "outputs": [
    {
     "data": {
      "text/plain": [
       "section_type            0\n",
       "instructor_id           0\n",
       "facility_code        3678\n",
       "start_time              0\n",
       "mon                     0\n",
       "tues                    0\n",
       "wed                     0\n",
       "thurs                   0\n",
       "fri                     0\n",
       "sat                     0\n",
       "sun                     0\n",
       "subject_name            0\n",
       "course_name             0\n",
       "a_count                 0\n",
       "ab_count                0\n",
       "b_count                 0\n",
       "bc_count                0\n",
       "c_count                 0\n",
       "d_count                 0\n",
       "f_count                 0\n",
       "s_count                 0\n",
       "u_count                 0\n",
       "cr_count                0\n",
       "n_count                 0\n",
       "p_count                 0\n",
       "i_count                 0\n",
       "nw_count                0\n",
       "nr_count                0\n",
       "other_count             0\n",
       "num_all_grades          0\n",
       "a_proportion            0\n",
       "ab_proportion           0\n",
       "b_proportion            0\n",
       "bc_proportion           0\n",
       "c_proportion            0\n",
       "d_proportion            0\n",
       "f_proportion            0\n",
       "s_proportion            0\n",
       "u_proportion            0\n",
       "cr_proportion           0\n",
       "n_proportion            0\n",
       "p_proportion            0\n",
       "i_proportion            0\n",
       "nw_proportion           0\n",
       "nr_proportion           0\n",
       "other_proportion        0\n",
       "avg_letter_grade        0\n",
       "year                    0\n",
       "term                    0\n",
       "class_length            0\n",
       "course_difficulty       0\n",
       "dtype: int64"
      ]
     },
     "execution_count": 99,
     "metadata": {},
     "output_type": "execute_result"
    }
   ],
   "source": [
    "# drop rows with missing values in target column 'avg_letter_grade'\n",
    "df_fe = df_fe[~df_fe['avg_letter_grade'].isna()]\n",
    "\n",
    "# check\n",
    "df_fe.isna().sum()"
   ]
  },
  {
   "cell_type": "code",
   "execution_count": 100,
   "metadata": {},
   "outputs": [
    {
     "data": {
      "text/plain": [
       "Index(['section_type', 'instructor_id', 'facility_code', 'start_time', 'mon',\n",
       "       'tues', 'wed', 'thurs', 'fri', 'sat', 'sun', 'subject_name',\n",
       "       'course_name', 'a_count', 'ab_count', 'b_count', 'bc_count', 'c_count',\n",
       "       'd_count', 'f_count', 's_count', 'u_count', 'cr_count', 'n_count',\n",
       "       'p_count', 'i_count', 'nw_count', 'nr_count', 'other_count',\n",
       "       'num_all_grades', 'a_proportion', 'ab_proportion', 'b_proportion',\n",
       "       'bc_proportion', 'c_proportion', 'd_proportion', 'f_proportion',\n",
       "       's_proportion', 'u_proportion', 'cr_proportion', 'n_proportion',\n",
       "       'p_proportion', 'i_proportion', 'nw_proportion', 'nr_proportion',\n",
       "       'other_proportion', 'avg_letter_grade', 'year', 'term', 'class_length',\n",
       "       'course_difficulty'],\n",
       "      dtype='object')"
      ]
     },
     "execution_count": 100,
     "metadata": {},
     "output_type": "execute_result"
    }
   ],
   "source": [
    "# drop grade columns (except target column 'avg_letter_grade')\n",
    "\n",
    "other_targets = ['a_count', 'ab_count', 'b_count', 'bc_count', 'c_count', \n",
    "                'd_count', 'f_count', 's_count', 'u_count', 'cr_count', \n",
    "                'n_count', 'p_count', 'i_count', 'nw_count', 'nr_count', \n",
    "                'other_count', 'a_proportion', 'ab_proportion', \n",
    "                'b_proportion', 'bc_proportion', 'c_proportion', \n",
    "                'd_proportion', 'f_proportion', 's_proportion', \n",
    "                'u_proportion', 'cr_proportion', 'n_proportion', \n",
    "                'p_proportion', 'i_proportion', 'nw_proportion', \n",
    "                'nr_proportion', 'other_proportion']\n",
    "\n",
    "df_fe.drop(columns = other_targets, inplace = True)\n",
    "\n",
    "# check\n",
    "df.columns"
   ]
  },
  {
   "cell_type": "markdown",
   "metadata": {},
   "source": [
    "### Schedule"
   ]
  },
  {
   "cell_type": "markdown",
   "metadata": {},
   "source": [
    "The schedule variables take up 7 columns for days of the week. However this doesn't capture the schedules of classes; there is a high probability of a class that is held on Monday also being held on Wednesday, for example. \n",
    "\n",
    "So, to reduce this collinearity, we will make new schedule-related columns related to the actual schedules of the courses."
   ]
  },
  {
   "cell_type": "code",
   "execution_count": 101,
   "metadata": {},
   "outputs": [
    {
     "data": {
      "text/html": [
       "<div>\n",
       "<style scoped>\n",
       "    .dataframe tbody tr th:only-of-type {\n",
       "        vertical-align: middle;\n",
       "    }\n",
       "\n",
       "    .dataframe tbody tr th {\n",
       "        vertical-align: top;\n",
       "    }\n",
       "\n",
       "    .dataframe thead th {\n",
       "        text-align: right;\n",
       "    }\n",
       "</style>\n",
       "<table border=\"1\" class=\"dataframe\">\n",
       "  <thead>\n",
       "    <tr style=\"text-align: right;\">\n",
       "      <th></th>\n",
       "      <th>mon</th>\n",
       "      <th>tues</th>\n",
       "      <th>wed</th>\n",
       "      <th>thurs</th>\n",
       "      <th>fri</th>\n",
       "      <th>sat</th>\n",
       "      <th>sun</th>\n",
       "      <th>days_per_week</th>\n",
       "    </tr>\n",
       "  </thead>\n",
       "  <tbody>\n",
       "    <tr>\n",
       "      <th>0</th>\n",
       "      <td>0</td>\n",
       "      <td>0</td>\n",
       "      <td>0</td>\n",
       "      <td>0</td>\n",
       "      <td>0</td>\n",
       "      <td>0</td>\n",
       "      <td>0</td>\n",
       "      <td>0</td>\n",
       "    </tr>\n",
       "    <tr>\n",
       "      <th>1</th>\n",
       "      <td>0</td>\n",
       "      <td>1</td>\n",
       "      <td>0</td>\n",
       "      <td>1</td>\n",
       "      <td>0</td>\n",
       "      <td>0</td>\n",
       "      <td>0</td>\n",
       "      <td>2</td>\n",
       "    </tr>\n",
       "    <tr>\n",
       "      <th>2</th>\n",
       "      <td>0</td>\n",
       "      <td>1</td>\n",
       "      <td>0</td>\n",
       "      <td>1</td>\n",
       "      <td>0</td>\n",
       "      <td>0</td>\n",
       "      <td>0</td>\n",
       "      <td>2</td>\n",
       "    </tr>\n",
       "    <tr>\n",
       "      <th>3</th>\n",
       "      <td>1</td>\n",
       "      <td>0</td>\n",
       "      <td>1</td>\n",
       "      <td>0</td>\n",
       "      <td>1</td>\n",
       "      <td>0</td>\n",
       "      <td>0</td>\n",
       "      <td>3</td>\n",
       "    </tr>\n",
       "    <tr>\n",
       "      <th>4</th>\n",
       "      <td>1</td>\n",
       "      <td>0</td>\n",
       "      <td>1</td>\n",
       "      <td>0</td>\n",
       "      <td>1</td>\n",
       "      <td>0</td>\n",
       "      <td>0</td>\n",
       "      <td>3</td>\n",
       "    </tr>\n",
       "    <tr>\n",
       "      <th>...</th>\n",
       "      <td>...</td>\n",
       "      <td>...</td>\n",
       "      <td>...</td>\n",
       "      <td>...</td>\n",
       "      <td>...</td>\n",
       "      <td>...</td>\n",
       "      <td>...</td>\n",
       "      <td>...</td>\n",
       "    </tr>\n",
       "    <tr>\n",
       "      <th>50201</th>\n",
       "      <td>1</td>\n",
       "      <td>1</td>\n",
       "      <td>0</td>\n",
       "      <td>0</td>\n",
       "      <td>1</td>\n",
       "      <td>0</td>\n",
       "      <td>0</td>\n",
       "      <td>3</td>\n",
       "    </tr>\n",
       "    <tr>\n",
       "      <th>50202</th>\n",
       "      <td>1</td>\n",
       "      <td>1</td>\n",
       "      <td>0</td>\n",
       "      <td>0</td>\n",
       "      <td>1</td>\n",
       "      <td>0</td>\n",
       "      <td>0</td>\n",
       "      <td>3</td>\n",
       "    </tr>\n",
       "    <tr>\n",
       "      <th>50203</th>\n",
       "      <td>1</td>\n",
       "      <td>1</td>\n",
       "      <td>0</td>\n",
       "      <td>0</td>\n",
       "      <td>1</td>\n",
       "      <td>0</td>\n",
       "      <td>0</td>\n",
       "      <td>3</td>\n",
       "    </tr>\n",
       "    <tr>\n",
       "      <th>50204</th>\n",
       "      <td>1</td>\n",
       "      <td>1</td>\n",
       "      <td>0</td>\n",
       "      <td>0</td>\n",
       "      <td>1</td>\n",
       "      <td>0</td>\n",
       "      <td>0</td>\n",
       "      <td>3</td>\n",
       "    </tr>\n",
       "    <tr>\n",
       "      <th>50205</th>\n",
       "      <td>1</td>\n",
       "      <td>0</td>\n",
       "      <td>1</td>\n",
       "      <td>0</td>\n",
       "      <td>0</td>\n",
       "      <td>0</td>\n",
       "      <td>0</td>\n",
       "      <td>2</td>\n",
       "    </tr>\n",
       "  </tbody>\n",
       "</table>\n",
       "<p>49286 rows × 8 columns</p>\n",
       "</div>"
      ],
      "text/plain": [
       "       mon  tues  wed  thurs  fri  sat  sun  days_per_week\n",
       "0        0     0    0      0    0    0    0              0\n",
       "1        0     1    0      1    0    0    0              2\n",
       "2        0     1    0      1    0    0    0              2\n",
       "3        1     0    1      0    1    0    0              3\n",
       "4        1     0    1      0    1    0    0              3\n",
       "...    ...   ...  ...    ...  ...  ...  ...            ...\n",
       "50201    1     1    0      0    1    0    0              3\n",
       "50202    1     1    0      0    1    0    0              3\n",
       "50203    1     1    0      0    1    0    0              3\n",
       "50204    1     1    0      0    1    0    0              3\n",
       "50205    1     0    1      0    0    0    0              2\n",
       "\n",
       "[49286 rows x 8 columns]"
      ]
     },
     "execution_count": 101,
     "metadata": {},
     "output_type": "execute_result"
    }
   ],
   "source": [
    "# new column: how many days per week the course is held (numeric, to be \n",
    "# one-hot encoded); weekend counts as one day (can go back to original\n",
    "# data and change if needed)\n",
    "\n",
    "df_fe['days_per_week'] = df_fe['mon'] + df_fe['tues'] + df_fe['wed'] + \\\n",
    "                         df_fe['thurs'] + df_fe['fri'] + df_fe['sat'] + \\\n",
    "                         df_fe['sun']\n",
    "\n",
    "# check\n",
    "df_fe[['mon', 'tues', 'wed', 'thurs', 'fri', 'sat', 'sun', 'days_per_week']]"
   ]
  },
  {
   "cell_type": "code",
   "execution_count": 102,
   "metadata": {},
   "outputs": [
    {
     "data": {
      "text/html": [
       "<div>\n",
       "<style scoped>\n",
       "    .dataframe tbody tr th:only-of-type {\n",
       "        vertical-align: middle;\n",
       "    }\n",
       "\n",
       "    .dataframe tbody tr th {\n",
       "        vertical-align: top;\n",
       "    }\n",
       "\n",
       "    .dataframe thead th {\n",
       "        text-align: right;\n",
       "    }\n",
       "</style>\n",
       "<table border=\"1\" class=\"dataframe\">\n",
       "  <thead>\n",
       "    <tr style=\"text-align: right;\">\n",
       "      <th></th>\n",
       "      <th>mon</th>\n",
       "      <th>tues</th>\n",
       "      <th>wed</th>\n",
       "      <th>thurs</th>\n",
       "      <th>fri</th>\n",
       "      <th>sat</th>\n",
       "      <th>sun</th>\n",
       "      <th>days_per_week</th>\n",
       "    </tr>\n",
       "  </thead>\n",
       "  <tbody>\n",
       "    <tr>\n",
       "      <th>0</th>\n",
       "      <td></td>\n",
       "      <td></td>\n",
       "      <td></td>\n",
       "      <td></td>\n",
       "      <td></td>\n",
       "      <td></td>\n",
       "      <td></td>\n",
       "      <td>0</td>\n",
       "    </tr>\n",
       "    <tr>\n",
       "      <th>1</th>\n",
       "      <td></td>\n",
       "      <td>T</td>\n",
       "      <td></td>\n",
       "      <td>R</td>\n",
       "      <td></td>\n",
       "      <td></td>\n",
       "      <td></td>\n",
       "      <td>2</td>\n",
       "    </tr>\n",
       "    <tr>\n",
       "      <th>2</th>\n",
       "      <td></td>\n",
       "      <td>T</td>\n",
       "      <td></td>\n",
       "      <td>R</td>\n",
       "      <td></td>\n",
       "      <td></td>\n",
       "      <td></td>\n",
       "      <td>2</td>\n",
       "    </tr>\n",
       "    <tr>\n",
       "      <th>3</th>\n",
       "      <td>M</td>\n",
       "      <td></td>\n",
       "      <td>W</td>\n",
       "      <td></td>\n",
       "      <td>F</td>\n",
       "      <td></td>\n",
       "      <td></td>\n",
       "      <td>3</td>\n",
       "    </tr>\n",
       "    <tr>\n",
       "      <th>4</th>\n",
       "      <td>M</td>\n",
       "      <td></td>\n",
       "      <td>W</td>\n",
       "      <td></td>\n",
       "      <td>F</td>\n",
       "      <td></td>\n",
       "      <td></td>\n",
       "      <td>3</td>\n",
       "    </tr>\n",
       "    <tr>\n",
       "      <th>...</th>\n",
       "      <td>...</td>\n",
       "      <td>...</td>\n",
       "      <td>...</td>\n",
       "      <td>...</td>\n",
       "      <td>...</td>\n",
       "      <td>...</td>\n",
       "      <td>...</td>\n",
       "      <td>...</td>\n",
       "    </tr>\n",
       "    <tr>\n",
       "      <th>50201</th>\n",
       "      <td>M</td>\n",
       "      <td>T</td>\n",
       "      <td></td>\n",
       "      <td></td>\n",
       "      <td>F</td>\n",
       "      <td></td>\n",
       "      <td></td>\n",
       "      <td>3</td>\n",
       "    </tr>\n",
       "    <tr>\n",
       "      <th>50202</th>\n",
       "      <td>M</td>\n",
       "      <td>T</td>\n",
       "      <td></td>\n",
       "      <td></td>\n",
       "      <td>F</td>\n",
       "      <td></td>\n",
       "      <td></td>\n",
       "      <td>3</td>\n",
       "    </tr>\n",
       "    <tr>\n",
       "      <th>50203</th>\n",
       "      <td>M</td>\n",
       "      <td>T</td>\n",
       "      <td></td>\n",
       "      <td></td>\n",
       "      <td>F</td>\n",
       "      <td></td>\n",
       "      <td></td>\n",
       "      <td>3</td>\n",
       "    </tr>\n",
       "    <tr>\n",
       "      <th>50204</th>\n",
       "      <td>M</td>\n",
       "      <td>T</td>\n",
       "      <td></td>\n",
       "      <td></td>\n",
       "      <td>F</td>\n",
       "      <td></td>\n",
       "      <td></td>\n",
       "      <td>3</td>\n",
       "    </tr>\n",
       "    <tr>\n",
       "      <th>50205</th>\n",
       "      <td>M</td>\n",
       "      <td></td>\n",
       "      <td>W</td>\n",
       "      <td></td>\n",
       "      <td></td>\n",
       "      <td></td>\n",
       "      <td></td>\n",
       "      <td>2</td>\n",
       "    </tr>\n",
       "  </tbody>\n",
       "</table>\n",
       "<p>49286 rows × 8 columns</p>\n",
       "</div>"
      ],
      "text/plain": [
       "      mon tues wed thurs fri sat sun  days_per_week\n",
       "0                                                 0\n",
       "1            T         R                          2\n",
       "2            T         R                          2\n",
       "3       M        W         F                      3\n",
       "4       M        W         F                      3\n",
       "...    ..  ...  ..   ...  ..  ..  ..            ...\n",
       "50201   M    T             F                      3\n",
       "50202   M    T             F                      3\n",
       "50203   M    T             F                      3\n",
       "50204   M    T             F                      3\n",
       "50205   M        W                                2\n",
       "\n",
       "[49286 rows x 8 columns]"
      ]
     },
     "execution_count": 102,
     "metadata": {},
     "output_type": "execute_result"
    }
   ],
   "source": [
    "# change 1s and 0s in days of week columns to abbreviations \n",
    "# (M, T, W, R, F, A, U)\n",
    "\n",
    "df_fe['mon'].replace({1: 'M', 0: ''}, inplace = True)\n",
    "df_fe['tues'].replace({1: 'T', 0: ''}, inplace = True)\n",
    "df_fe['wed'].replace({1: 'W', 0: ''}, inplace = True)\n",
    "df_fe['thurs'].replace({1: 'R', 0: ''}, inplace = True)\n",
    "df_fe['fri'].replace({1: 'F', 0: ''}, inplace = True)\n",
    "df_fe['sat'].replace({1: 'A', 0: ''}, inplace = True)\n",
    "df_fe['sun'].replace({1: 'U', 0: ''}, inplace = True)\n",
    "\n",
    "# check\n",
    "df_fe[['mon', 'tues', 'wed', 'thurs', 'fri', 'sat', 'sun', 'days_per_week']]"
   ]
  },
  {
   "cell_type": "code",
   "execution_count": 103,
   "metadata": {},
   "outputs": [
    {
     "data": {
      "text/plain": [
       "TR         15425\n",
       "MWF         9099\n",
       "MW          7140\n",
       "            3785\n",
       "T           2421\n",
       "W           2273\n",
       "M           1951\n",
       "MTWR        1816\n",
       "R           1518\n",
       "MTWRF       1164\n",
       "MTRF         870\n",
       "F            869\n",
       "A            208\n",
       "MF           206\n",
       "WF           162\n",
       "MWR           88\n",
       "MTWF          69\n",
       "U             40\n",
       "MTR           31\n",
       "TRF           31\n",
       "TWRF          26\n",
       "MR            21\n",
       "FA            18\n",
       "WR            10\n",
       "MWRF           9\n",
       "MTF            7\n",
       "MT             5\n",
       "MRF            5\n",
       "TF             4\n",
       "RF             4\n",
       "MTW            3\n",
       "TWR            3\n",
       "TW             2\n",
       "MA             1\n",
       "MTWRFAU        1\n",
       "WRF            1\n",
       "Name: schedule_days, dtype: int64"
      ]
     },
     "execution_count": 103,
     "metadata": {},
     "output_type": "execute_result"
    }
   ],
   "source": [
    "# concatenate days of week columns into one\n",
    "df_fe['schedule_days'] = (df_fe['mon'] + df_fe['tues'] + df_fe['wed'] + \n",
    "                          df_fe['thurs'] + df_fe['fri'] + df_fe['sat'] + \n",
    "                          df_fe['sun'])\n",
    "\n",
    "# check\n",
    "df_fe['schedule_days'].value_counts()"
   ]
  },
  {
   "cell_type": "code",
   "execution_count": 104,
   "metadata": {},
   "outputs": [
    {
     "data": {
      "text/plain": [
       "TR         15425\n",
       "MWF         9099\n",
       "MW          7140\n",
       "none        3785\n",
       "T           2421\n",
       "W           2273\n",
       "M           1951\n",
       "MTWR        1816\n",
       "R           1518\n",
       "MTWRF       1164\n",
       "MTRF         870\n",
       "F            869\n",
       "A            208\n",
       "MF           206\n",
       "WF           162\n",
       "MWR           88\n",
       "MTWF          69\n",
       "U             40\n",
       "MTR           31\n",
       "TRF           31\n",
       "TWRF          26\n",
       "MR            21\n",
       "FA            18\n",
       "WR            10\n",
       "MWRF           9\n",
       "MTF            7\n",
       "MT             5\n",
       "MRF            5\n",
       "TF             4\n",
       "RF             4\n",
       "MTW            3\n",
       "TWR            3\n",
       "TW             2\n",
       "MA             1\n",
       "MTWRFAU        1\n",
       "WRF            1\n",
       "Name: schedule_days, dtype: int64"
      ]
     },
     "execution_count": 104,
     "metadata": {},
     "output_type": "execute_result"
    }
   ],
   "source": [
    "# replace '' with 'none'\n",
    "df_fe['schedule_days'] = df_fe['schedule_days'].apply(lambda x: 'none' \n",
    "                                                      if x == '' \n",
    "                                                      else x)\n",
    "\n",
    "# check\n",
    "df_fe['schedule_days'].value_counts()"
   ]
  },
  {
   "cell_type": "code",
   "execution_count": 105,
   "metadata": {},
   "outputs": [
    {
     "data": {
      "text/plain": [
       "TR       15425\n",
       "MWF       9099\n",
       "MW        7140\n",
       "none      3785\n",
       "T         2421\n",
       "W         2273\n",
       "M         1951\n",
       "MTWR      1816\n",
       "R         1518\n",
       "MTWRF     1164\n",
       "MTRF       870\n",
       "F          869\n",
       "other      587\n",
       "MF         206\n",
       "WF         162\n",
       "Name: schedule_days, dtype: int64"
      ]
     },
     "execution_count": 105,
     "metadata": {},
     "output_type": "execute_result"
    }
   ],
   "source": [
    "# bin all schedules with fewer than 100 values into 'other'\n",
    "\n",
    "keep_schedules = ['TR', 'MWF', 'MW', 'none', 'T', 'W', 'M', 'MTWR', \n",
    "                 'R', 'MTWRF', 'MTRF', 'F', 'MF', 'WF']\n",
    "\n",
    "df_fe['schedule_days'] = df_fe['schedule_days'].apply(lambda x: x \n",
    "                                                      if x in keep_schedules \n",
    "                                                      else 'other')\n",
    "\n",
    "# check\n",
    "df_fe['schedule_days'].value_counts()"
   ]
  },
  {
   "cell_type": "code",
   "execution_count": 106,
   "metadata": {},
   "outputs": [
    {
     "name": "stdout",
     "output_type": "stream",
     "text": [
      "mon col in df_fe: False\n",
      "tues col in df_fe: False\n",
      "wed col in df_fe: False\n",
      "thurs col in df_fe: False\n",
      "fri col in df_fe: False\n",
      "sat col in df_fe: False\n",
      "sun col in df_fe: False\n"
     ]
    }
   ],
   "source": [
    "# drop original columns\n",
    "df_fe.drop(columns = ['mon', 'tues', 'wed', 'thurs', 'fri', 'sat', 'sun'], \n",
    "           inplace = True)\n",
    "\n",
    "# check\n",
    "for col in ['mon', 'tues', 'wed', 'thurs', 'fri', 'sat', 'sun']:\n",
    "    print(f\"{col} col in df_fe: {col in df_fe.columns}\")"
   ]
  },
  {
   "cell_type": "markdown",
   "metadata": {},
   "source": [
    "### Course name"
   ]
  },
  {
   "cell_type": "code",
   "execution_count": 107,
   "metadata": {},
   "outputs": [
    {
     "data": {
      "text/plain": [
       "False"
      ]
     },
     "execution_count": 107,
     "metadata": {},
     "output_type": "execute_result"
    }
   ],
   "source": [
    "# course_name is a finer distinction of 'subject_name'; let's get rid of it\n",
    "df_fe.drop(columns = 'course_name', inplace = True)\n",
    "\n",
    "# check\n",
    "'course_name' in df_fe.columns"
   ]
  },
  {
   "cell_type": "markdown",
   "metadata": {},
   "source": [
    "### Start time"
   ]
  },
  {
   "cell_type": "code",
   "execution_count": 108,
   "metadata": {},
   "outputs": [
    {
     "data": {
      "text/plain": [
       "count    49286.000000\n",
       "mean       673.830155\n",
       "std        244.789537\n",
       "min         -1.000000\n",
       "25%        570.000000\n",
       "50%        660.000000\n",
       "75%        865.000000\n",
       "max       1260.000000\n",
       "Name: start_time, dtype: float64"
      ]
     },
     "execution_count": 108,
     "metadata": {},
     "output_type": "execute_result"
    }
   ],
   "source": [
    "# check range of start times\n",
    "df_fe['start_time'].describe()"
   ]
  },
  {
   "cell_type": "code",
   "execution_count": 109,
   "metadata": {},
   "outputs": [
    {
     "data": {
      "text/html": [
       "<div>\n",
       "<style scoped>\n",
       "    .dataframe tbody tr th:only-of-type {\n",
       "        vertical-align: middle;\n",
       "    }\n",
       "\n",
       "    .dataframe tbody tr th {\n",
       "        vertical-align: top;\n",
       "    }\n",
       "\n",
       "    .dataframe thead th {\n",
       "        text-align: right;\n",
       "    }\n",
       "</style>\n",
       "<table border=\"1\" class=\"dataframe\">\n",
       "  <thead>\n",
       "    <tr style=\"text-align: right;\">\n",
       "      <th></th>\n",
       "      <th>start_time</th>\n",
       "      <th>num_all_grades</th>\n",
       "      <th>avg_letter_grade</th>\n",
       "      <th>year</th>\n",
       "      <th>class_length</th>\n",
       "      <th>days_per_week</th>\n",
       "    </tr>\n",
       "  </thead>\n",
       "  <tbody>\n",
       "    <tr>\n",
       "      <th>count</th>\n",
       "      <td>45479.000000</td>\n",
       "      <td>45479.000000</td>\n",
       "      <td>45479.000000</td>\n",
       "      <td>45479.000000</td>\n",
       "      <td>45479.000000</td>\n",
       "      <td>45479.000000</td>\n",
       "    </tr>\n",
       "    <tr>\n",
       "      <th>mean</th>\n",
       "      <td>730.319488</td>\n",
       "      <td>38.544757</td>\n",
       "      <td>3.490403</td>\n",
       "      <td>12.187075</td>\n",
       "      <td>79.992854</td>\n",
       "      <td>2.199499</td>\n",
       "    </tr>\n",
       "    <tr>\n",
       "      <th>std</th>\n",
       "      <td>153.705467</td>\n",
       "      <td>53.615894</td>\n",
       "      <td>0.369939</td>\n",
       "      <td>3.397032</td>\n",
       "      <td>45.537697</td>\n",
       "      <td>0.918880</td>\n",
       "    </tr>\n",
       "    <tr>\n",
       "      <th>min</th>\n",
       "      <td>390.000000</td>\n",
       "      <td>2.000000</td>\n",
       "      <td>0.000000</td>\n",
       "      <td>7.000000</td>\n",
       "      <td>40.000000</td>\n",
       "      <td>0.000000</td>\n",
       "    </tr>\n",
       "    <tr>\n",
       "      <th>25%</th>\n",
       "      <td>595.000000</td>\n",
       "      <td>14.000000</td>\n",
       "      <td>3.245534</td>\n",
       "      <td>9.000000</td>\n",
       "      <td>50.000000</td>\n",
       "      <td>2.000000</td>\n",
       "    </tr>\n",
       "    <tr>\n",
       "      <th>50%</th>\n",
       "      <td>725.000000</td>\n",
       "      <td>20.000000</td>\n",
       "      <td>3.529605</td>\n",
       "      <td>12.000000</td>\n",
       "      <td>75.000000</td>\n",
       "      <td>2.000000</td>\n",
       "    </tr>\n",
       "    <tr>\n",
       "      <th>75%</th>\n",
       "      <td>865.000000</td>\n",
       "      <td>37.000000</td>\n",
       "      <td>3.791667</td>\n",
       "      <td>15.000000</td>\n",
       "      <td>75.000000</td>\n",
       "      <td>3.000000</td>\n",
       "    </tr>\n",
       "    <tr>\n",
       "      <th>max</th>\n",
       "      <td>1260.000000</td>\n",
       "      <td>712.000000</td>\n",
       "      <td>4.000000</td>\n",
       "      <td>18.000000</td>\n",
       "      <td>600.000000</td>\n",
       "      <td>7.000000</td>\n",
       "    </tr>\n",
       "  </tbody>\n",
       "</table>\n",
       "</div>"
      ],
      "text/plain": [
       "         start_time  num_all_grades  avg_letter_grade          year  \\\n",
       "count  45479.000000    45479.000000      45479.000000  45479.000000   \n",
       "mean     730.319488       38.544757          3.490403     12.187075   \n",
       "std      153.705467       53.615894          0.369939      3.397032   \n",
       "min      390.000000        2.000000          0.000000      7.000000   \n",
       "25%      595.000000       14.000000          3.245534      9.000000   \n",
       "50%      725.000000       20.000000          3.529605     12.000000   \n",
       "75%      865.000000       37.000000          3.791667     15.000000   \n",
       "max     1260.000000      712.000000          4.000000     18.000000   \n",
       "\n",
       "       class_length  days_per_week  \n",
       "count  45479.000000   45479.000000  \n",
       "mean      79.992854       2.199499  \n",
       "std       45.537697       0.918880  \n",
       "min       40.000000       0.000000  \n",
       "25%       50.000000       2.000000  \n",
       "50%       75.000000       2.000000  \n",
       "75%       75.000000       3.000000  \n",
       "max      600.000000       7.000000  "
      ]
     },
     "execution_count": 109,
     "metadata": {},
     "output_type": "execute_result"
    }
   ],
   "source": [
    "# check start times without -1 (no start time)\n",
    "df_fe[df_fe['start_time'] != -1].describe()"
   ]
  },
  {
   "cell_type": "code",
   "execution_count": 110,
   "metadata": {},
   "outputs": [
    {
     "data": {
      "text/plain": [
       "mid-morning        12670\n",
       "early afternoon    11368\n",
       "late morning        8026\n",
       "mid-afternoon       8014\n",
       "late afternoon      3937\n",
       "none                3807\n",
       "early morning        767\n",
       "evening              697\n",
       "Name: start_time, dtype: int64"
      ]
     },
     "execution_count": 110,
     "metadata": {},
     "output_type": "execute_result"
    }
   ],
   "source": [
    "# start_time is given in minutes, so it is a numerical variable; courses\n",
    "# without an assigned start_time are coded with -1\n",
    "# start_time shouldn't be treated as a numeric variable since there is not a\n",
    "# natural size order to times; for example, it's possible that courses in the\n",
    "# afternoon give out higher grades than both courses in the mornings and\n",
    "# evenings\n",
    "\n",
    "# we will bin courses by start_time to morning, afternoon, evening, and none\n",
    "# then we will be able to one-hot encode this variable\n",
    "\n",
    "# times:\n",
    "# -1 = 'none'\n",
    "# earliest start time is 6:30am (390)\n",
    "# 390 - 479 = early morning (6:30-7:59am) # 1.5 hours\n",
    "# 480 - 599 = mid-morning (8-9:59am) # 2 hours\n",
    "# 600 - 719 = late morning (10-11:59am) # 2 hours\n",
    "# 720 - 839 = early afternoon (noon-1:59pm) # 2 hours\n",
    "# 840 - 959 = mid-afternoon (2-3:59pm) # 2 hours\n",
    "# 960 - 1079 = late afternoon (4-5:59pm) # 2 hours\n",
    "# 1080 - 1260 = evening (6-9pm) # 3 hours\n",
    "# last start time is 9pm (1260)\n",
    "\n",
    "for index in df_fe['start_time'].index:\n",
    "    if df_fe.at[index, 'start_time'] == -1:\n",
    "        df_fe.at[index, 'start_time'] = 'none'\n",
    "    elif df_fe.at[index, 'start_time'] < 480:\n",
    "        df_fe.at[index, 'start_time'] = 'early morning'\n",
    "    elif df_fe.at[index, 'start_time'] < 600:\n",
    "        df_fe.at[index, 'start_time'] = 'mid-morning'\n",
    "    elif df_fe.at[index, 'start_time'] < 720:\n",
    "        df_fe.at[index, 'start_time'] = 'late morning'\n",
    "    elif df_fe.at[index, 'start_time'] < 840:\n",
    "        df_fe.at[index, 'start_time'] = 'early afternoon'\n",
    "    elif df_fe.at[index, 'start_time'] < 960:\n",
    "        df_fe.at[index, 'start_time'] = 'mid-afternoon'\n",
    "    elif df_fe.at[index, 'start_time'] < 1080:\n",
    "        df_fe.at[index, 'start_time'] = 'late afternoon'\n",
    "    else:\n",
    "        df_fe.at[index, 'start_time'] = 'evening'\n",
    "        \n",
    "# check\n",
    "df_fe['start_time'].value_counts()"
   ]
  },
  {
   "cell_type": "markdown",
   "metadata": {},
   "source": [
    "### Class length"
   ]
  },
  {
   "cell_type": "code",
   "execution_count": 111,
   "metadata": {},
   "outputs": [
    {
     "data": {
      "text/plain": [
       "count    49286.000000\n",
       "mean        73.813963\n",
       "std         48.678525\n",
       "min          0.000000\n",
       "25%         50.000000\n",
       "50%         75.000000\n",
       "75%         75.000000\n",
       "max        600.000000\n",
       "Name: class_length, dtype: float64"
      ]
     },
     "execution_count": 111,
     "metadata": {},
     "output_type": "execute_result"
    }
   ],
   "source": [
    "# bin 'class_length'\n",
    "df_fe['class_length'].describe()"
   ]
  },
  {
   "cell_type": "code",
   "execution_count": 112,
   "metadata": {},
   "outputs": [
    {
     "data": {
      "text/plain": [
       "50.0     19298\n",
       "75.0     15422\n",
       "0.0       3807\n",
       "150.0     3360\n",
       "120.0     2019\n",
       "         ...  \n",
       "340.0        1\n",
       "325.0        1\n",
       "113.0        1\n",
       "40.0         1\n",
       "520.0        1\n",
       "Name: class_length, Length: 61, dtype: int64"
      ]
     },
     "execution_count": 112,
     "metadata": {},
     "output_type": "execute_result"
    }
   ],
   "source": [
    "df_fe['class_length'].value_counts()"
   ]
  },
  {
   "cell_type": "code",
   "execution_count": 113,
   "metadata": {},
   "outputs": [
    {
     "data": {
      "text/plain": [
       "count    45479.000000\n",
       "mean        79.992854\n",
       "std         45.537697\n",
       "min         40.000000\n",
       "25%         50.000000\n",
       "50%         75.000000\n",
       "75%         75.000000\n",
       "max        600.000000\n",
       "Name: class_length, dtype: float64"
      ]
     },
     "execution_count": 113,
     "metadata": {},
     "output_type": "execute_result"
    }
   ],
   "source": [
    "# inspect without 0-length classes\n",
    "class_length_no_zero = df_fe[df_fe['class_length'] != 0]\n",
    "class_length_no_zero['class_length'].describe()"
   ]
  },
  {
   "cell_type": "code",
   "execution_count": 114,
   "metadata": {},
   "outputs": [
    {
     "data": {
      "text/plain": [
       "longer     25638\n",
       "shorter    23648\n",
       "Name: class_length, dtype: int64"
      ]
     },
     "execution_count": 114,
     "metadata": {},
     "output_type": "execute_result"
    }
   ],
   "source": [
    "# bin into less than 75 and 75 or more\n",
    "df_fe['class_length'] = df_fe['class_length'].apply(lambda x: 'shorter' \n",
    "                                                    if x < 75 \n",
    "                                                    else 'longer')\n",
    "\n",
    "# check\n",
    "df_fe['class_length'].value_counts()"
   ]
  },
  {
   "cell_type": "markdown",
   "metadata": {},
   "source": [
    "### 'num_all_grades'"
   ]
  },
  {
   "cell_type": "markdown",
   "metadata": {},
   "source": [
    "The size of a class may have some predictive power on the class's average grade, but it will not necessarily be a linear relationship. So, we will bin 'num_all_grades' here as we binned other numerical categories above. "
   ]
  },
  {
   "cell_type": "code",
   "execution_count": 115,
   "metadata": {},
   "outputs": [
    {
     "data": {
      "text/plain": [
       "count    49286.000000\n",
       "mean        37.348943\n",
       "std         52.927500\n",
       "min          2.000000\n",
       "25%         13.000000\n",
       "50%         20.000000\n",
       "75%         35.000000\n",
       "max        712.000000\n",
       "Name: num_all_grades, dtype: float64"
      ]
     },
     "execution_count": 115,
     "metadata": {},
     "output_type": "execute_result"
    }
   ],
   "source": [
    "# see description of column\n",
    "df_fe['num_all_grades'].describe()"
   ]
  },
  {
   "cell_type": "code",
   "execution_count": 116,
   "metadata": {},
   "outputs": [
    {
     "data": {
      "text/plain": [
       "medium    20605\n",
       "small     16513\n",
       "large     12168\n",
       "Name: num_all_grades, dtype: int64"
      ]
     },
     "execution_count": 116,
     "metadata": {},
     "output_type": "execute_result"
    }
   ],
   "source": [
    "# small = under 15\n",
    "# medium = 16-35\n",
    "# large = over 35\n",
    "\n",
    "# bin \n",
    "for index in df_fe['num_all_grades'].index:\n",
    "    if df_fe.at[index, 'num_all_grades'] < 16:\n",
    "        df_fe.at[index, 'num_all_grades'] = 'small'\n",
    "    elif df_fe.at[index, 'num_all_grades'] < 36:\n",
    "        df_fe.at[index, 'num_all_grades'] = 'medium'\n",
    "    else:\n",
    "        df_fe.at[index, 'num_all_grades'] = 'large'\n",
    "\n",
    "# check\n",
    "df_fe['num_all_grades'].value_counts()"
   ]
  },
  {
   "cell_type": "code",
   "execution_count": 117,
   "metadata": {},
   "outputs": [
    {
     "data": {
      "text/plain": [
       "False"
      ]
     },
     "execution_count": 117,
     "metadata": {},
     "output_type": "execute_result"
    }
   ],
   "source": [
    "# rename column\n",
    "df_fe.rename(columns = {'num_all_grades': 'class_size'}, inplace = True)\n",
    "\n",
    "# check\n",
    "'num_all_grades' in df_fe.columns"
   ]
  },
  {
   "cell_type": "markdown",
   "metadata": {},
   "source": [
    "## Create new preprocessor"
   ]
  },
  {
   "cell_type": "code",
   "execution_count": 118,
   "metadata": {},
   "outputs": [
    {
     "name": "stdout",
     "output_type": "stream",
     "text": [
      "<class 'pandas.core.frame.DataFrame'>\n",
      "Int64Index: 49286 entries, 0 to 50205\n",
      "Data columns (total 13 columns):\n",
      " #   Column             Non-Null Count  Dtype  \n",
      "---  ------             --------------  -----  \n",
      " 0   section_type       49286 non-null  object \n",
      " 1   instructor_id      49286 non-null  object \n",
      " 2   facility_code      45608 non-null  object \n",
      " 3   start_time         49286 non-null  object \n",
      " 4   subject_name       49286 non-null  object \n",
      " 5   class_size         49286 non-null  object \n",
      " 6   avg_letter_grade   49286 non-null  float64\n",
      " 7   year               49286 non-null  int64  \n",
      " 8   term               49286 non-null  object \n",
      " 9   class_length       49286 non-null  object \n",
      " 10  course_difficulty  49286 non-null  object \n",
      " 11  days_per_week      49286 non-null  int64  \n",
      " 12  schedule_days      49286 non-null  object \n",
      "dtypes: float64(1), int64(2), object(10)\n",
      "memory usage: 6.3+ MB\n"
     ]
    }
   ],
   "source": [
    "df_fe.info()"
   ]
  },
  {
   "cell_type": "code",
   "execution_count": 119,
   "metadata": {},
   "outputs": [
    {
     "name": "stdout",
     "output_type": "stream",
     "text": [
      "0    27630\n",
      "1    21656\n",
      "Name: is_spring, dtype: int64\n",
      "False\n"
     ]
    }
   ],
   "source": [
    "# binary encode 'term'\n",
    "df_fe['term'].replace({'fall': 0, 'spring': 1}, inplace = True)\n",
    "\n",
    "# rename column\n",
    "df_fe.rename(columns = {'term': 'is_spring'}, inplace = True)\n",
    "\n",
    "# check\n",
    "print(df_fe['is_spring'].value_counts())\n",
    "print('term' in df_fe.columns)"
   ]
  },
  {
   "cell_type": "code",
   "execution_count": 120,
   "metadata": {},
   "outputs": [
    {
     "name": "stdout",
     "output_type": "stream",
     "text": [
      "1    25638\n",
      "0    23648\n",
      "Name: is_longer, dtype: int64\n",
      "False\n"
     ]
    }
   ],
   "source": [
    "# binary enocde 'class_length'\n",
    "df_fe['class_length'].replace({'shorter': 0, 'longer': 1}, inplace = True)\n",
    "\n",
    "# rename column\n",
    "df_fe.rename(columns = {'class_length': 'is_longer'}, inplace = True)\n",
    "\n",
    "# check\n",
    "print(df_fe['is_longer'].value_counts())\n",
    "print('class_length' in df_fe.columns)"
   ]
  },
  {
   "cell_type": "code",
   "execution_count": 121,
   "metadata": {},
   "outputs": [],
   "source": [
    "# ohe \n",
    "\n",
    "# instantiate onehotencoder\n",
    "ohe = OneHotEncoder(sparse = False, \n",
    "                    handle_unknown = 'ignore')\n",
    "\n",
    "# grab columns\n",
    "ohe_cols = ['section_type', \n",
    "            'instructor_id', \n",
    "            'start_time',\n",
    "            'subject_name', \n",
    "            'year',  \n",
    "            'course_difficulty', \n",
    "            'schedule_days', \n",
    "            'days_per_week',\n",
    "            'class_size']\n",
    "\n",
    "# make tuple\n",
    "ohe_tuple = (ohe, ohe_cols)"
   ]
  },
  {
   "cell_type": "code",
   "execution_count": 122,
   "metadata": {},
   "outputs": [],
   "source": [
    "# impute 'missing' and ohe\n",
    "\n",
    "# grab columns\n",
    "imp_and_ohe_cols = ['facility_code']\n",
    "\n",
    "# instantiate imputer\n",
    "missing_imputer = SimpleImputer(strategy = 'constant',\n",
    "                               fill_value = 'missing')\n",
    "\n",
    "# instantiate ohe\n",
    "ohe = OneHotEncoder(sparse = False,\n",
    "                   handle_unknown = 'ignore')\n",
    "\n",
    "# make pipeline\n",
    "imp_and_ohe_pipe = make_pipeline(missing_imputer, ohe)\n",
    "\n",
    "# make tuple\n",
    "imp_and_ohe_tuple = (imp_and_ohe_pipe, imp_and_ohe_cols)"
   ]
  },
  {
   "cell_type": "code",
   "execution_count": 123,
   "metadata": {},
   "outputs": [
    {
     "data": {
      "text/html": [
       "<style>#sk-container-id-2 {color: black;background-color: white;}#sk-container-id-2 pre{padding: 0;}#sk-container-id-2 div.sk-toggleable {background-color: white;}#sk-container-id-2 label.sk-toggleable__label {cursor: pointer;display: block;width: 100%;margin-bottom: 0;padding: 0.3em;box-sizing: border-box;text-align: center;}#sk-container-id-2 label.sk-toggleable__label-arrow:before {content: \"▸\";float: left;margin-right: 0.25em;color: #696969;}#sk-container-id-2 label.sk-toggleable__label-arrow:hover:before {color: black;}#sk-container-id-2 div.sk-estimator:hover label.sk-toggleable__label-arrow:before {color: black;}#sk-container-id-2 div.sk-toggleable__content {max-height: 0;max-width: 0;overflow: hidden;text-align: left;background-color: #f0f8ff;}#sk-container-id-2 div.sk-toggleable__content pre {margin: 0.2em;color: black;border-radius: 0.25em;background-color: #f0f8ff;}#sk-container-id-2 input.sk-toggleable__control:checked~div.sk-toggleable__content {max-height: 200px;max-width: 100%;overflow: auto;}#sk-container-id-2 input.sk-toggleable__control:checked~label.sk-toggleable__label-arrow:before {content: \"▾\";}#sk-container-id-2 div.sk-estimator input.sk-toggleable__control:checked~label.sk-toggleable__label {background-color: #d4ebff;}#sk-container-id-2 div.sk-label input.sk-toggleable__control:checked~label.sk-toggleable__label {background-color: #d4ebff;}#sk-container-id-2 input.sk-hidden--visually {border: 0;clip: rect(1px 1px 1px 1px);clip: rect(1px, 1px, 1px, 1px);height: 1px;margin: -1px;overflow: hidden;padding: 0;position: absolute;width: 1px;}#sk-container-id-2 div.sk-estimator {font-family: monospace;background-color: #f0f8ff;border: 1px dotted black;border-radius: 0.25em;box-sizing: border-box;margin-bottom: 0.5em;}#sk-container-id-2 div.sk-estimator:hover {background-color: #d4ebff;}#sk-container-id-2 div.sk-parallel-item::after {content: \"\";width: 100%;border-bottom: 1px solid gray;flex-grow: 1;}#sk-container-id-2 div.sk-label:hover label.sk-toggleable__label {background-color: #d4ebff;}#sk-container-id-2 div.sk-serial::before {content: \"\";position: absolute;border-left: 1px solid gray;box-sizing: border-box;top: 0;bottom: 0;left: 50%;z-index: 0;}#sk-container-id-2 div.sk-serial {display: flex;flex-direction: column;align-items: center;background-color: white;padding-right: 0.2em;padding-left: 0.2em;position: relative;}#sk-container-id-2 div.sk-item {position: relative;z-index: 1;}#sk-container-id-2 div.sk-parallel {display: flex;align-items: stretch;justify-content: center;background-color: white;position: relative;}#sk-container-id-2 div.sk-item::before, #sk-container-id-2 div.sk-parallel-item::before {content: \"\";position: absolute;border-left: 1px solid gray;box-sizing: border-box;top: 0;bottom: 0;left: 50%;z-index: -1;}#sk-container-id-2 div.sk-parallel-item {display: flex;flex-direction: column;z-index: 1;position: relative;background-color: white;}#sk-container-id-2 div.sk-parallel-item:first-child::after {align-self: flex-end;width: 50%;}#sk-container-id-2 div.sk-parallel-item:last-child::after {align-self: flex-start;width: 50%;}#sk-container-id-2 div.sk-parallel-item:only-child::after {width: 0;}#sk-container-id-2 div.sk-dashed-wrapped {border: 1px dashed gray;margin: 0 0.4em 0.5em 0.4em;box-sizing: border-box;padding-bottom: 0.4em;background-color: white;}#sk-container-id-2 div.sk-label label {font-family: monospace;font-weight: bold;display: inline-block;line-height: 1.2em;}#sk-container-id-2 div.sk-label-container {text-align: center;}#sk-container-id-2 div.sk-container {/* jupyter's `normalize.less` sets `[hidden] { display: none; }` but bootstrap.min.css set `[hidden] { display: none !important; }` so we also need the `!important` here to be able to override the default hidden behavior on the sphinx rendered scikit-learn.org. See: https://github.com/scikit-learn/scikit-learn/issues/21755 */display: inline-block !important;position: relative;}#sk-container-id-2 div.sk-text-repr-fallback {display: none;}</style><div id=\"sk-container-id-2\" class=\"sk-top-container\"><div class=\"sk-text-repr-fallback\"><pre>ColumnTransformer(remainder=&#x27;passthrough&#x27;,\n",
       "                  transformers=[(&#x27;onehotencoder&#x27;,\n",
       "                                 OneHotEncoder(handle_unknown=&#x27;ignore&#x27;,\n",
       "                                               sparse=False),\n",
       "                                 [&#x27;section_type&#x27;, &#x27;instructor_id&#x27;, &#x27;start_time&#x27;,\n",
       "                                  &#x27;subject_name&#x27;, &#x27;year&#x27;, &#x27;course_difficulty&#x27;,\n",
       "                                  &#x27;schedule_days&#x27;, &#x27;days_per_week&#x27;,\n",
       "                                  &#x27;class_size&#x27;]),\n",
       "                                (&#x27;pipeline&#x27;,\n",
       "                                 Pipeline(steps=[(&#x27;simpleimputer&#x27;,\n",
       "                                                  SimpleImputer(fill_value=&#x27;missing&#x27;,\n",
       "                                                                strategy=&#x27;constant&#x27;)),\n",
       "                                                 (&#x27;onehotencoder&#x27;,\n",
       "                                                  OneHotEncoder(handle_unknown=&#x27;ignore&#x27;,\n",
       "                                                                sparse=False))]),\n",
       "                                 [&#x27;facility_code&#x27;])])</pre><b>In a Jupyter environment, please rerun this cell to show the HTML representation or trust the notebook. <br />On GitHub, the HTML representation is unable to render, please try loading this page with nbviewer.org.</b></div><div class=\"sk-container\" hidden><div class=\"sk-item sk-dashed-wrapped\"><div class=\"sk-label-container\"><div class=\"sk-label sk-toggleable\"><input class=\"sk-toggleable__control sk-hidden--visually\" id=\"sk-estimator-id-9\" type=\"checkbox\" ><label for=\"sk-estimator-id-9\" class=\"sk-toggleable__label sk-toggleable__label-arrow\">ColumnTransformer</label><div class=\"sk-toggleable__content\"><pre>ColumnTransformer(remainder=&#x27;passthrough&#x27;,\n",
       "                  transformers=[(&#x27;onehotencoder&#x27;,\n",
       "                                 OneHotEncoder(handle_unknown=&#x27;ignore&#x27;,\n",
       "                                               sparse=False),\n",
       "                                 [&#x27;section_type&#x27;, &#x27;instructor_id&#x27;, &#x27;start_time&#x27;,\n",
       "                                  &#x27;subject_name&#x27;, &#x27;year&#x27;, &#x27;course_difficulty&#x27;,\n",
       "                                  &#x27;schedule_days&#x27;, &#x27;days_per_week&#x27;,\n",
       "                                  &#x27;class_size&#x27;]),\n",
       "                                (&#x27;pipeline&#x27;,\n",
       "                                 Pipeline(steps=[(&#x27;simpleimputer&#x27;,\n",
       "                                                  SimpleImputer(fill_value=&#x27;missing&#x27;,\n",
       "                                                                strategy=&#x27;constant&#x27;)),\n",
       "                                                 (&#x27;onehotencoder&#x27;,\n",
       "                                                  OneHotEncoder(handle_unknown=&#x27;ignore&#x27;,\n",
       "                                                                sparse=False))]),\n",
       "                                 [&#x27;facility_code&#x27;])])</pre></div></div></div><div class=\"sk-parallel\"><div class=\"sk-parallel-item\"><div class=\"sk-item\"><div class=\"sk-label-container\"><div class=\"sk-label sk-toggleable\"><input class=\"sk-toggleable__control sk-hidden--visually\" id=\"sk-estimator-id-10\" type=\"checkbox\" ><label for=\"sk-estimator-id-10\" class=\"sk-toggleable__label sk-toggleable__label-arrow\">onehotencoder</label><div class=\"sk-toggleable__content\"><pre>[&#x27;section_type&#x27;, &#x27;instructor_id&#x27;, &#x27;start_time&#x27;, &#x27;subject_name&#x27;, &#x27;year&#x27;, &#x27;course_difficulty&#x27;, &#x27;schedule_days&#x27;, &#x27;days_per_week&#x27;, &#x27;class_size&#x27;]</pre></div></div></div><div class=\"sk-serial\"><div class=\"sk-item\"><div class=\"sk-estimator sk-toggleable\"><input class=\"sk-toggleable__control sk-hidden--visually\" id=\"sk-estimator-id-11\" type=\"checkbox\" ><label for=\"sk-estimator-id-11\" class=\"sk-toggleable__label sk-toggleable__label-arrow\">OneHotEncoder</label><div class=\"sk-toggleable__content\"><pre>OneHotEncoder(handle_unknown=&#x27;ignore&#x27;, sparse=False)</pre></div></div></div></div></div></div><div class=\"sk-parallel-item\"><div class=\"sk-item\"><div class=\"sk-label-container\"><div class=\"sk-label sk-toggleable\"><input class=\"sk-toggleable__control sk-hidden--visually\" id=\"sk-estimator-id-12\" type=\"checkbox\" ><label for=\"sk-estimator-id-12\" class=\"sk-toggleable__label sk-toggleable__label-arrow\">pipeline</label><div class=\"sk-toggleable__content\"><pre>[&#x27;facility_code&#x27;]</pre></div></div></div><div class=\"sk-serial\"><div class=\"sk-item\"><div class=\"sk-serial\"><div class=\"sk-item\"><div class=\"sk-estimator sk-toggleable\"><input class=\"sk-toggleable__control sk-hidden--visually\" id=\"sk-estimator-id-13\" type=\"checkbox\" ><label for=\"sk-estimator-id-13\" class=\"sk-toggleable__label sk-toggleable__label-arrow\">SimpleImputer</label><div class=\"sk-toggleable__content\"><pre>SimpleImputer(fill_value=&#x27;missing&#x27;, strategy=&#x27;constant&#x27;)</pre></div></div></div><div class=\"sk-item\"><div class=\"sk-estimator sk-toggleable\"><input class=\"sk-toggleable__control sk-hidden--visually\" id=\"sk-estimator-id-14\" type=\"checkbox\" ><label for=\"sk-estimator-id-14\" class=\"sk-toggleable__label sk-toggleable__label-arrow\">OneHotEncoder</label><div class=\"sk-toggleable__content\"><pre>OneHotEncoder(handle_unknown=&#x27;ignore&#x27;, sparse=False)</pre></div></div></div></div></div></div></div></div><div class=\"sk-parallel-item\"><div class=\"sk-item\"><div class=\"sk-label-container\"><div class=\"sk-label sk-toggleable\"><input class=\"sk-toggleable__control sk-hidden--visually\" id=\"sk-estimator-id-15\" type=\"checkbox\" ><label for=\"sk-estimator-id-15\" class=\"sk-toggleable__label sk-toggleable__label-arrow\">remainder</label><div class=\"sk-toggleable__content\"><pre></pre></div></div></div><div class=\"sk-serial\"><div class=\"sk-item\"><div class=\"sk-estimator sk-toggleable\"><input class=\"sk-toggleable__control sk-hidden--visually\" id=\"sk-estimator-id-16\" type=\"checkbox\" ><label for=\"sk-estimator-id-16\" class=\"sk-toggleable__label sk-toggleable__label-arrow\">passthrough</label><div class=\"sk-toggleable__content\"><pre>passthrough</pre></div></div></div></div></div></div></div></div></div></div>"
      ],
      "text/plain": [
       "ColumnTransformer(remainder='passthrough',\n",
       "                  transformers=[('onehotencoder',\n",
       "                                 OneHotEncoder(handle_unknown='ignore',\n",
       "                                               sparse=False),\n",
       "                                 ['section_type', 'instructor_id', 'start_time',\n",
       "                                  'subject_name', 'year', 'course_difficulty',\n",
       "                                  'schedule_days', 'days_per_week',\n",
       "                                  'class_size']),\n",
       "                                ('pipeline',\n",
       "                                 Pipeline(steps=[('simpleimputer',\n",
       "                                                  SimpleImputer(fill_value='missing',\n",
       "                                                                strategy='constant')),\n",
       "                                                 ('onehotencoder',\n",
       "                                                  OneHotEncoder(handle_unknown='ignore',\n",
       "                                                                sparse=False))]),\n",
       "                                 ['facility_code'])])"
      ]
     },
     "execution_count": 123,
     "metadata": {},
     "output_type": "execute_result"
    }
   ],
   "source": [
    "# already binary (passthrough): 'is_spring', 'is_longer'\n",
    "\n",
    "preprocessor2 = make_column_transformer(ohe_tuple,\n",
    "                                        imp_and_ohe_tuple,\n",
    "                                        remainder = 'passthrough')\n",
    "\n",
    "# check\n",
    "preprocessor2"
   ]
  },
  {
   "cell_type": "markdown",
   "metadata": {},
   "source": [
    "## Run models with new features"
   ]
  },
  {
   "cell_type": "markdown",
   "metadata": {},
   "source": [
    "The highest-performing models with our original features are below:"
   ]
  },
  {
   "cell_type": "code",
   "execution_count": 124,
   "metadata": {},
   "outputs": [
    {
     "data": {
      "text/html": [
       "<div>\n",
       "<style scoped>\n",
       "    .dataframe tbody tr th:only-of-type {\n",
       "        vertical-align: middle;\n",
       "    }\n",
       "\n",
       "    .dataframe tbody tr th {\n",
       "        vertical-align: top;\n",
       "    }\n",
       "\n",
       "    .dataframe thead th {\n",
       "        text-align: right;\n",
       "    }\n",
       "</style>\n",
       "<table border=\"1\" class=\"dataframe\">\n",
       "  <thead>\n",
       "    <tr style=\"text-align: right;\">\n",
       "      <th></th>\n",
       "      <th>Train R2</th>\n",
       "      <th>Test R2</th>\n",
       "      <th>Train MAE</th>\n",
       "      <th>Test MAE</th>\n",
       "      <th>Train MAPE</th>\n",
       "      <th>Test MAPE</th>\n",
       "      <th>Train RMSE</th>\n",
       "      <th>Test RMSE</th>\n",
       "    </tr>\n",
       "  </thead>\n",
       "  <tbody>\n",
       "    <tr>\n",
       "      <th>Tun GBR</th>\n",
       "      <td>0.878626</td>\n",
       "      <td>0.634133</td>\n",
       "      <td>0.938064</td>\n",
       "      <td>0.167933</td>\n",
       "      <td>0.116179</td>\n",
       "      <td>0.499571</td>\n",
       "      <td>0.130387</td>\n",
       "      <td>0.226655</td>\n",
       "    </tr>\n",
       "    <tr>\n",
       "      <th>Def RF</th>\n",
       "      <td>0.942911</td>\n",
       "      <td>0.624926</td>\n",
       "      <td>0.647630</td>\n",
       "      <td>0.168989</td>\n",
       "      <td>0.192624</td>\n",
       "      <td>0.146197</td>\n",
       "      <td>0.895258</td>\n",
       "      <td>0.230476</td>\n",
       "    </tr>\n",
       "    <tr>\n",
       "      <th>Tun BR</th>\n",
       "      <td>0.940895</td>\n",
       "      <td>0.621733</td>\n",
       "      <td>0.654441</td>\n",
       "      <td>0.169767</td>\n",
       "      <td>0.194667</td>\n",
       "      <td>0.146197</td>\n",
       "      <td>0.910928</td>\n",
       "      <td>0.231455</td>\n",
       "    </tr>\n",
       "    <tr>\n",
       "      <th>Tun XGB</th>\n",
       "      <td>0.849687</td>\n",
       "      <td>0.619919</td>\n",
       "      <td>0.105860</td>\n",
       "      <td>0.170964</td>\n",
       "      <td>0.312667</td>\n",
       "      <td>0.143864</td>\n",
       "      <td>0.145268</td>\n",
       "      <td>0.232009</td>\n",
       "    </tr>\n",
       "    <tr>\n",
       "      <th>Tun RF</th>\n",
       "      <td>0.878312</td>\n",
       "      <td>0.618507</td>\n",
       "      <td>0.979121</td>\n",
       "      <td>0.175654</td>\n",
       "      <td>0.291020</td>\n",
       "      <td>0.144212</td>\n",
       "      <td>0.130706</td>\n",
       "      <td>0.232439</td>\n",
       "    </tr>\n",
       "  </tbody>\n",
       "</table>\n",
       "</div>"
      ],
      "text/plain": [
       "         Train R2   Test R2  Train MAE  Test MAE  Train MAPE  Test MAPE  \\\n",
       "Tun GBR  0.878626  0.634133   0.938064  0.167933    0.116179   0.499571   \n",
       "Def RF   0.942911  0.624926   0.647630  0.168989    0.192624   0.146197   \n",
       "Tun BR   0.940895  0.621733   0.654441  0.169767    0.194667   0.146197   \n",
       "Tun XGB  0.849687  0.619919   0.105860  0.170964    0.312667   0.143864   \n",
       "Tun RF   0.878312  0.618507   0.979121  0.175654    0.291020   0.144212   \n",
       "\n",
       "         Train RMSE  Test RMSE  \n",
       "Tun GBR    0.130387   0.226655  \n",
       "Def RF     0.895258   0.230476  \n",
       "Tun BR     0.910928   0.231455  \n",
       "Tun XGB    0.145268   0.232009  \n",
       "Tun RF     0.130706   0.232439  "
      ]
     },
     "execution_count": 124,
     "metadata": {},
     "output_type": "execute_result"
    }
   ],
   "source": [
    "metrics_df.sort_values(by = 'Test R2', ascending = False).head()"
   ]
  },
  {
   "cell_type": "markdown",
   "metadata": {},
   "source": [
    "Let's test the top four models (GBR, RF, BR, and XGB) with our feature-engineered dataset to see if we can improve the performance of any models."
   ]
  },
  {
   "cell_type": "code",
   "execution_count": 144,
   "metadata": {},
   "outputs": [],
   "source": [
    "# split df_fe into X and y\n",
    "target = 'avg_letter_grade'\n",
    "df_fe_y = df_fe[target]\n",
    "df_fe_X = df_fe.drop(columns = target)\n",
    "\n",
    "# validate model with train/test split\n",
    "df_fe_X_train, df_fe_X_test, df_fe_y_train, df_fe_y_test = \\\n",
    "train_test_split(df_fe_X, df_fe_y, random_state = 42)"
   ]
  },
  {
   "cell_type": "markdown",
   "metadata": {},
   "source": [
    "### XGB (Default and Tuned)"
   ]
  },
  {
   "cell_type": "code",
   "execution_count": 146,
   "metadata": {},
   "outputs": [
    {
     "name": "stdout",
     "output_type": "stream",
     "text": [
      "Train R2      6.479061e-01\n",
      "Test R2       5.948829e-01\n",
      "Train MAE     1.698384e-01\n",
      "Test MAE      1.814810e-01\n",
      "Train MAPE    5.047456e-02\n",
      "Test MAPE     1.418810e+12\n",
      "Train RMSE    2.223311e-01\n",
      "Test RMSE     2.395283e-01\n",
      "Name: FE Def XGB, dtype: float64\n"
     ]
    },
    {
     "data": {
      "text/html": [
       "\n",
       "                <audio  controls=\"controls\" autoplay=\"autoplay\">\n",
       "                    <source src=\"data:audio/mpeg;base64,//uUBAAP8AAAaQAAAAgAAA0gAAABAAABpAAAACAAADSAAAAETEFNRQMACQgABAAAAAAAAAAAAAAAAAAAAAAAAAAAAAAAAAAAAAAAAAAAAAAAAAAAAAAAAAAAAAAAAAAAAAAAAAAAAAAAAAAAAAAAAAAAAAAAAAAAAAAAAAAAAAAAAAAAAAAAAAAAAAAAAAAAAAAAAAAAAAAAAAAAAAAAAAAAAAAAAAAAAAAAAAAAAAAAAAAAAAAAAAAAAAAAAAAAAAAAAAAAAAAAAAAAAAAAAAAAAAAAAAAAAAAAAAAAAAAAAAAAAAAAAAAAAAAAAAAAAAAAAAAAAAAAAAAAAAAAAAAAAAAAAAAAAAAAAAAAAAAAAAAAAAAAAAAAAAAAAAAAAAAAAAAAAAAAAAAAAAAAAAAAAAAAAAAAAAAAAAAAAAAAAAAAAAAAAAAAAAAAAAAAAAAAAAAAAAAAAAAAAAAAAAAAAAAAAAAAAAAAAAAAAAAAAAAAAAAAAAAAAAAAAAAA//uUBAAJ0nVgL4gBGQBRwzcyBCMASiyE9sGEw8k+mF8EMAyJYBo3l7FYYZ0vymZH8rEMOhkZGiWcrEZpflYidLLFMyMvMj//z+/Kyji0eWViJ0/lMyMv/8vimSPP/My/lYiND8j//zI3l+KZI6WVlHHEOuAAKN8QtE658Q9E657vxE66bucRMIAJQ4GWA+CMz474Dgzo/hmBkd8N4B0/M/AyI4P8RwRmfmfAcP6P4IwMjvgeAdH5n4GR3B/BGAjM/B8BweFqRHKx+QESHGnJb+IjmSvCee2xo/gEGaget6T7EEIc9PTJGJOWAHdlMpkk8A/OXbjCLvLMEMP4R+R9TvSVI0fZNXIvad5lLe0cnx2N/nQr/J+CK57hzREm6ZpXp7nIHMQuWTmwAFf0U5HF03fL+mX2xELds4U3uWESbxBCvEcz8y4BARwIEeQdvp8cH/OSJ9W9v6O59nkUnkWnMOn37z+ACYgpqKBgASEAAIAAAAAAAAAAAAAAAAAAAAAA//uUBAAAAkcnQVBhHhBPxjgGGCMOS5ltDySEYIlOoSIkcIwgAABaMpIAARXP55fmhWV08vQ+wQNEYRWYlk4Ac3G8bdvbE9jMzCEIBED5x4QB8dem5i9r9JdFTjZIzHDeRL3rocXNolz9tYf60gCVgABjz24JbPj8RL2uzIDNHYF166v2K5B9CXWGD0Uz4v13tNKYOu2eZHPI6H7u5uwgI9yT3O7X/h8cfn9aTnn8V/v4fniM79QoBPnf4ufYEJxStKAMWb2nKoWHHZxs4Tm4sDMxFrkRWWvIsCKa9x3dL+PK7yIQdnQp+Bm5iIWiPTlqm8PPtPG07Q7giO5ZlPKZBFOktCCE+9c0V/ovn5Oh5XIOeESmW54RGHqgDcksoIAUmOY41QNE4pOHc66mHeQ3OUQn+ZYwdnqjhR3hPNLh3+ZGdOYc0JnCL/uZX//ff9EQW9PQRCfhPM56SggG8WBAN2YsYP0QiQq20qGgfQpMQU1FAwAJCAAEAAAAAAAAAAAA//uUBAAAArVXyEkhGIJR6cjpGEMgCp13JYQE2YFYrmRkgRsxrZb3pmRFrV0N8GUKugdhAuRiEPDdzgOHBJYjuYU0urnlDy37E703KkmT6FEYjxFP+EdOmZv/gFqIWlT0Pim/yc90Rz2fJ84UIz3tb55Xik/08D4ebEmAbLoEIAAbzqMh9rynxnPsyMIb0+59LTSwMVM13d8WgsjRYXX+lKnwo7xDLF/R9871+uQs8UXO7Q/hcLz5NDKphw3Aeb8sy+PqPYJBcQ3KV1C5xwplEiUygQQIhzDVp1ke1JaQztwmQftXKWtduN+mTyQohBWaIDJZbAkOABHGZcJojRdhqlb3gEBSKIicmP2zHBHxOWcsR0aoMlH9ePtCNzfaFKeD1PY2q1IAEFEQ65WGmze1pYHO8Il242N5S+vdLlyV9SorDKc/0bTYsd4c4QjOCe2ourJ3aymZNGo85CE7sz0c/o5TnQrvQ7/pm6jWL963G1/eWVkilTh5BMQU1FAwAJCA//uUBAAAAp1YSmChHXJRy2lMGCN+SvVzK4QEXEFpLmVwYo9gVKCQZUSoCGOJGuxllML9DsMIyEZ22mCeXwMyCJoYUyMAzMvhmImO8JJ0GcYRKMnQyTNko3RDtsTrCTA4jkmadQ9ELzr9mZO1dFvx1OXHgwMrrxOCsKThS5BAg2nVVZebV7jq7SsiNzqQEbyJZlWQueQzD//OVgZJTaXRiLeHk8I6cPYsnWqRmWXrDQ9rxDpPUPQi8q/ZmTtXRb8dQ9rB0m1ijAM+CQcbcq6pQh0TWrElKNCBJQc1ks1yJ5it1cviG0mjES6qUSUVbiDNpm8bPSoDQzaOiSfJ2C5m1MWr2tOLRf++1u20jSJ1ELRmzPFaFRClBKSokXsRzsVBRFCIelF8sBKaY7+K108BP/N59wxJse5s/s2/Lx6nLwqaY+2dI9zKV6+uVWUYSExZ3EVQTNS86XM2pz1K7WiRUL/32t2xCZbUvr3pkWx4r4siqCEt0dPCocrwARMQU1FA//uUBAABIrBcScjDFGBPy4lMDEPaSnFzLYMEWkE/LiUgYZY5CbDJBUCx+8VDGpGCWY1+cni0gnghCmouwYon9CeRGnBuNUF84ZTrvNYpUxx8EDGG/g/B/qA8bgYz8EAwfghI0A/+AY/xsHjRwWMAAwOADggDHHjAUcYCCwpAoAARXqElEilCQ4cGVZZVghSmQuwYpIdjnWf7Fc2Z19tVpdLEoJepWMe3q+5WmdkdSHqc8Y38/oXJ666HPSk3ftkoNLNDP65tQRwBVhcYBTEKDZeGxUF629siDc2rbdjO+agtJjfnxfe8tHdpWYDNskgMxnzpw2zzIs7KjxR1//VW1X6fbzbd+zMmjTEqe7WVaUGjDAgQIEBjAh4wLARxxn5wBPeIjIbcGtlZhzp62URZSMQOKirDQbqcHxgQfZH4zwiLp//uc8gahIDsCho5cX03yfCg3bf7dvMy0ZTPvTRXR2bR2sulCqyIifsrY9dMQU1FAwAJCAAEAAAAAAAAAAAA//uUBAAAAq1cTEhmGoJTa5mcDCLCCu1dLQGYZwljLWXkMwvBy75WulCJKWO7huTbFli1zmW46JfiT7490IK7o4UyXTrtW7mhOk2OtOEhvmV58Sv+W+RFx4f0y9H8+mSzIsF6ISm/HLY+qUmh8OqWCJYTQsRo0IjmBtM+Xspr1ZCJFKgjopWCmjeuuTk4swhVTZEYz3GOP0Fu2KILn7kZmSDfurkYIQ1a6mU/ae7NQMdmRWf/V2KllgshJXL/rXs9HUrQTGsZGnnKjMRYVwsUkwBWpkARTIi65bOBJFHYamqlAN7UReMpiD+hGw1rVdOMZaBP1vGdzqu+lOq5+b5H/2Jnpf550tk7cirf5nohOuDHOe37kEBGr+bkQU+IpvuOFfk+kmP9OOgICp04jCoiFDDI1EA6bZDVIBvQYQEJ+EIEn8VOR6GGLLMctEz/9aZPYCJd5s6M+W/zfVCM8qvpuV5S1SzKb3eYjFLBXFZuR2uU+52Zn0K55GOXmCdgpiCA//uUBAABAqVdTEBhHoBTS6mJDCPSCoF1LQMVPQFgLqZwMQ/YpD2j4RLUoD7MxZItIQ0NgQp5Oijk9Gf9ZxZYJCo0t9TSloDQ4S75guQs2uxJr+RHPQiVqdcn/r5ThM5f9zLnKbypjepGWhoSYJTg6XyHUzTzckPBnVZyjgACJak74hQWRcOsRVJmULFHJ+zkGWi1s34CGspOdT+WbwSB8Brk9rk2v5EU8IjqtOqb/65ThM5f9zLnIbyJn6EZaGhJglODpfI0zPzQlPBmHKCAIy7ljKMuK9xdEXvYdebHdpmaOu50VGVnjKbYpDYdmzPN0jrWhxI6yndrDGXsunZlX51fcjXxqdrTP/zhfyBDrbG4//dk0Z1aqkg++oXGqcyoTD1SRLUANCdyUE4JoRCF7D+ZqKGMOGVVYM7qbsHUMhmjmBoFVGqEWrtDvNENLspHuDdGeVWp2ZVpyKZ7ma+idrTP/zr85ul8Hj/7RTAAmqr5CGrCRAAJDJiCmooGABIQ//uUBAAAAppaTEjDFHJTi4mLDGWeSxlzNSGEeAlcLmawMw/B1BAAIUAiTQ8H269mnmd171hLNAu1SBEm3yNxwupKGczpzpRyzqUqkczry0vhKJXO7WLo/mMjFjXVWehsfz6tvlV7u6HGflq19LrqJg9N6nWOTqpYBjCAAAoqjpXauJbhDU3OC2ZgulSBEm39zs/f6eDOdKOWdSlFpmVSq4vwrI6Z5NYvw/9mFkg/hRMNql/n1bfKj2Z1Jbmq19LrqKxsxKEZ62VUClasgFQQQguIFMYgJvlsnmZBzcQyoDYiFdCiO8BHiMs3TE5PoFIocp8l+m0YXexFYs+Oa+sZPLh5PfqkWW6/5F0um/8kf4XuedtCJbp1yIQzUA4roKYidFow9KNIFICAgQXQU9GbdGr5aEs6UWPkTdVO4NeB7/9upuQvZSKHKfJ/SSQMdn16jG3tez6yTIuHTWnxzLPdz/Iul03/ki/D9zyloRLdOuRSvPjOqIRs7igFRMQU1FAA//uUBAAAAqdTUWjBHTpUpwmlPGJmSb1dWaOgXHldKyn0hQrleAQEUrSURJcdafPJ7H5YDX+9/zdTkQu9lzMfdstGzej7yVtyIodlhA4RO5H1zT1yzR4Xzk83rvz8v+ta01Sn3iOZHl85RRbK7xzcxEUbKYSIgAUgQAJAGn3vCLJfH1rm+Jul9VDN5T0RAYs6dVF9rMu0SOQYWxlZnRkv39bQRXYIVmq7ky2uR0JpRnjlDzre7+lY1gSfvANZ7ucqcEh8NOkZESmGx0AXigsQACjgLURBZO59hI8qUMYwwxz1szGGOe/8ICH22Y23/istdmZKC6yJ4Usf0nLpahO/XcT/Tsragx////aZW/8iIj7NSjJdqtFlgPNZJL8gADZYm9ElT+3ugAn+IYYIMhN3qqrRLe/0W4SCT/TMbzLajMku0gYiYcaXIi1zKKaxoUZPa6L+i6uY1EDv01s/qd3W7iFMrf+RER9mpRku0E2JcPwWSSpiCmooGABIQAAgAAAA//uUBAAAAk5F12lJVwxKi0rtKGp1zB1dZ+ONWDmIKSw0pJ+HkAAAcoMVSQbHLlBr5oAws/NNU0lNU1UKmfxFm/RXSeyf+MSzDxE7s0RudQao3/wZHf/qa1NX4MmVpqu07Lf1Lf/uaxUyUJJB5LJQAAG6C1EkGxy5Qa+aAMLP1VVVatwafxFm/7JP/+MSxjkTTUI2ZB6Lye/8GR3/6kD01fgyY6VaqbTnlvyhYt///+1aabvPViic5qFMQQAZmSszbcHBtOjYJ32CoC/nnuejyrVX1wEk/rTdgjR+m+EgaoSiLJyEqpMLA5FsbD3/gyH//XVf9wZCxKPztjWQ5TjkPz3GAhWLlpDZ6stdjkPLK6CLn3roUtNpJ0d4wGBrUY8kkyAfTjRWE99hJAP+SnuYllZFXquIEv86xx5ozOO67NCgJaJQBk6E6uF1mpBoHRU36QVD/+uq/7gqGKvztjWQ5TjkPzx8UAVZnmWerLXY5DyyugP899+m02knRyYgpqKA//uUBAAAAqVS1umpPw5SqLp6SSfgyslJWaaw/BFgKSu01iuGjACAsgDNIJamUuVji6zgEwS9IkLrZNFNBX9QmiX69C//yIbwiSqGx+1woZZFQPi3/E4N///+Jw7e3926mu5jCgbzmWWbur0RqoYaapI4rvn20+g2JICHwCFKSamUtQ1w+Jes4BxRPN2Utl0EXUr+oUIl/ZFVnf/lg/WIUnn7XDQ+yI1j//E4f/71/6BUEN7f3bqa7mMPH5s+723UOqASYUV3z7afQbEkICAkoMfTqhuiki5qGRtRdALc19011o6Z5Jf8hnv1GtJFaSXrayBSG4WtJDHj47LZvHNjSv/h/+35+z0icGVRGNbY5VZEOmnUUkX////LQwQYqHVsHpkQCAswLdJYbouikXRENqLoJGj6k3ZGjTpL/Ybyx/3bVZla2sgSwiiy0kMePjs/VxzYJ6/+H/+35+z0i8EqoUY1ssTKVLFCh0lH1Co2Hf///y0wSYq1TBqUxBTUUAAA//uUBAAAIqZSVFJsVwZRC2qqRSfgyuVLW6ak/DlOKWpxJJ+DkAC8BDIttHUsbgtKrsfBcJWb1o1WSTu36xnU/1Jt//lmLV0agSDgd4HqoZrZbU7tiQHbr///xzptZ7nstKaIMRDKY61tVd7pYo7nERGjXSAXPiXS8oBD8BHJNxGtSyUHyrYrg+mzdfS0k1O36x0p/rV+tv5HpDrWsChQT1KKZmUf+KAb///+HdNrPc9lpTRBuLldlraq73SyO5xx7O7n0OpqYqEmqcQCAtoDVAISrLY3Fd86eAMI960nPkxN0lIqR/UMR/1XXRTSoUepMTUoCgIqoDBQ6vA3ZcgW/4mL/7fb93QO05jnnTGmbsimxSQb//vvc1SWd+dbfZs1dJkBARyu1WWxuF1z+WS0AGRLefSWpJ1mDukj+odD/r9//kaeFARVQGCh1eBlMsG5Xp8FA0fX7fb93QO05jnnTGmbsimxSNG//773NUlnfnW32bNXSYgpqKBgASEAAIAA//uUBAAAApxF2ekKHWxUiLtNIOatitlJWaeE7RlgqS00g4rv1BDAuwclahhDwvIp/BoAH/z18YF3TpW/MALCY/95tF6LrC4JRFGozlBe5G1yRTH+0ERP/zWNz6NO1GAm4X7NAa7MGRzSjRUG/9Czh8gBDd0SOEb9QQwNcHZU4YQ8LyKfwOAF/9CW4ua6Nb8wAIWP+qmzB45mqusHhESjUZySuY5Vh0j/xA//NY3PoxY/UQAjbP/VMXPqjovYcO0wr/0LOHyAEN3RI4RvcIIASTDVUcm6XgUiIGJreGcB2gaGOPmyJZ2ExuFV+9N06/oICYvMcdcuNMtOYn/oIFT+j0PTHDFMPc8DCJuZpVP27rHBJ3qi6Jrto2YNe5n1rDXJK2ga5loKWQx1NOWjkIYJkq4D8BaN3t76eEivntZe4VX71zFXP/QQExeY465cjERxOKmN/0BRU/o9D0zTChh7kAMIj2f1T9u6wgDtRV1TXbRsgD3M+tYa5JW0DJiCmooA//uUBAAAArFTVmnjFHpUqmr9JGKPSpyxa6G8ZjFfLa78gwm+sAACkrlurZ0lvPvLxtZ2NioLa6ZYcC0XeCuwdfKTUmgEcNecL5TI12MtmWATVYbFvTzRfO2AQEBU7fe+ifSswYztrfeqLf+Yz///9EdxdKZ3KBwoqxn6gAJZ1dvpH0pdrbgq2jWwALkK6kmdl+wdWVOfyARw14cH5GNUXQy2ZYBNVhobpcyVvO2AQEBU7fe+ifB1mDGdtL71Rb/zGf///ojuLgp38pGAhFjOIgByba3StKB3y4dVoQQWXZG3H1AXYzQE1DCccOiEs6bs7egOC3RUelmEIkytKapM2JXoMw7i6VESrBRwTQ89d9TXG4QYp3bKuAQ1wjICpIJKBkSrSzIICjK8f73WTC7rVkXKgEP2mISe1+ZPrdh6c5HrPjMEIqfmXVfmu9oylFlq+x/rnW4VhYlbHOoK9EeVKI0oKw03H//RbXfIiaN/XytYzK1D2RFbqRVg1SmIKaig//uUBAAAAqlaXvijK/xWRXr9DgIlyuFRcaWgSflOKi78sZYvZ2ABRWh9/9tbh1CObOAZqI6vCD8qSNqRL6lTY0VyaB80c2mpoUhbET5K7m84T796ORVlZoiQqcyEVwl3Hf/M1mZ96C47kE5WQRd87sQy2ZSHfTdfiTjAASkbcbRLEpjUVYZcD8cSNJXQj7IiGlZhOVronXfu9JXIyI0MzHsFYwQiAhbvguFA5StxTgQl8CJIMXY///8nKK+8i7xuDSr81gK6kQr8wjqIIExCn9AYt32utjltxQeUf6ApCqftNhhEMpKOLpVzkjMg1zIVjrus1VlcWjnUfZtzBXV5V1yNVdnVyTImfHK+isdnT/0notb0kV7fvWxUayMQ98JEmScB1opjcQ4AgM7x/tdJNbig8kn7B6JLPz00DxxlJB2c1XFJMRa7xWTMpq90GvDtP/lfaZMZh9qrhjq5P+9tcRev/pPRa3pIr2/etio1kYh73EMtJ+h6oIY2mIKaigAA//uUBAAAApZZXvkBHl5TyavfICLnyz1BXeNMZWlkKCo1pAldd1ADBoef/9rbk09PsITP+9g2GpiFcSKjPNDao6WRaqRxlDTnEidWCK/EXDgti8nFNY2fCM+mjpLkqTsjERid5vn+WSXDJYhPYpaFFK/x8XXR9C3dgAwiHj/+625NOU+whMv9SDxHCvMPIppDzQ2qOdEJqpeZtu0rky1vq7T/z4tpAHuSjmsbPhGfTR0lyVJ2RiIxO6T37WIsMSoQXguEQWf4eTdH0LiZAACFZt//9b0EALIH5AQR6KyPSN2JVHsevcjCZ0Wm6FCZofmh59U5/7le2Ox6wyUkqvqef8n5UNkjFnDSTBUj7/+cgOcYnPQj//9+61vCRviDssxNYT4MdLagAI63ZHGlLFi5jzPXqYhMZ1rzea2Ba7nSSWtnCXUWIjlHRmJbY73md0/r9dLMBMFQh5XjdE7KGsQw90cgNIMtq/uiA0oZjtIz/56yqbCI3xB20we8X4u0qYgg//uUBAAAAoNWXvhhF0xS5OvfGEgni01pSYNgZmlsLiu8gI7Fd3ACBniP/9rJmuOp/Bl/9cKOQMlUNspMLAmBGuxJEEvQjlCVmRWmjssOgtjEVwMBlYjEiisaj0VWb5qU8y/meHZvcociekjPi8iamCgB5/JPEABA7RH/+1k1O4+CegxfZZW8fSqE2y0x4swy1zKOhHOglagpXZFNjR2WJ6W7do7yRwSFg6JRgASHi8YhJOtzGqbxedSG7muUQmBrZ6og7W9i5GYgAuNT9AVUDp3B5Bm46maxNTKMAHmnqugkwYuAZ5dLxQbR7HjArqqI08R5NudyTM4f86dnFKzL8+Ws8n+naXfcrOZ6VeaH8nNaSV/T09jSpSQxGKBThYAQGZxDACLEu/v+9t8M9umh4GlXztEkN6S6robY0+Be6k8wu6yiqkE4RURp6eTVTfJGMMJMF8B06K4pWZfnygmeA/9u0u+5Wcz0q80P5Oa0kr+np7GlSkhTvOF6RguaYgpo//uUBAAAArNYVvjDE+pVJQq/JGWLCslRU6wMT+lSlSkkPQzgaIEAACRt/743scnpBH7IC2ylEykHQq/OaEfBy+buzdpO5nM2QyDqi3P7ZNtRJUMzla6kMV3lVC3qqOjMXZa/vU+dKtyfYZnTepZ9SXR3KZTM/g+6HyywyCAABmm00rTrl19hn1UNPTSMCtZiaBhd5OaEboKK83aITfCI77IY4CoVbn4x8++FDzxNOvCYhQsVHGzqDrdKz5dhKU0Gh14lLxIkiBQqHH1LQHyJFCQAAIySSImfz+5ds2LlW71sBhqDHPvKb1UkZ9LT4yh1ACUilIKUpoj8sJ2DoBuZUifuSKc9RDHBEvVpVR/dbLJ1vom2n/17v7k/vdTP5+aIuaw/o/hECAALv5tSxTKNKj629rQNKnORSS3lLi1Yr4QMLJKDPjK6oSkPaSPaROZpYTsHQDcypE/ckU54JiDUUlbgmRx6GnLXqYiz7ZvAnSkTPl5Yo0+56yahqYgpqKAA//uUBAAAAqhYWWhPKoxSyYvvIGLlyw1leaQEfrlfkyfEPY0okkYCckjjaSa7sx0cH2MEHgCC9lRENsIgl0MhGb3dlRkQ2WdwiZHtnY5ikX91uzq1JjLPsqM5zep1oNy/TTSsrJ3dksgsm5yEZqEo7zGKlNh/GmjlE3Z3UAVXj/fa26Y7S3jX+QqBB0r216QOQIPcNCVX/d1E2r97b2EjRfXuTsqX/86DMjpDTZLv5WEbt/17wF6/TTSsrJ3dkuipschQroHF8gmh/v+v7fAXb/f7W3JPfaJM/4aClwjpEV01AgrB7aCGn9S0PcJjDYGI8T1ExVpLu0RSjatOAHRTBETqZapbMfkkPZ6iBgaN0IJbJf/N9s7046ro/ehWKFTfgxtsIWQhLnIg1krjEDgBCPKJ2uQ3SWMuTWrv8y49mLCTQOixFYQ6HEOVIjirlKII0ru0g6wcwqgkUYIixJC2IQ5InyADj7gYhka8BBKDDcDlktJiMFSh9qG7E5VMQU1F//uUBAAAAqJbXOkBF45RA0n1D0hQCfFrc+QMVzFori00sYrn12oEl+11sjq6eyRNfiQKiI9cxF+x4TBVtqdjXpaPpjY6m7hJ9LS4fsi5RWQpEPVLhCc2ENRzb+rHkUd9FYft7zN8FRSlb/qa/+mf4oyNzqYag79DSEACFoT1R1RRDSxF+D4oDrOO0x/NniQTN39jnpaNpj17isoUOFAIOPgR7C8+uBY9SfrAZQk9RJ11JZ2wVBVwspjxUVnijAaLvaXCboUOLSoHGaHUAVXfTa1t3iHkxuU/DEgMFb4d2uRjA8I6KQ1bZ8L2XdzHZ1i+R6C4Tkfj6hD2WuSRrPjopOk/9v3z1ey/0a7vbTdi0yL6KmdZX//weEtv6BRrXY40o1RJO0HvfH4qMhsNZ/POuTBxAH81JDlt39vk27lq60T5Hs8JyPz1I9XoYkgHZ8cUpOk0yXeOybxLy0ey/0a7vbTdtMyeipnWV3PZbkRJTqZLCxiYgpqKBgASEAAIAAAA//uUBAAAAqtXWeljFV5Sy0t9JGKpyv1lY6MoaLlaHCx0gw5PljoDkjkrjSiTIuX7Yj8KgkRzsvZv12+oXOz8vBbBHMBXQ1RqTFAWnQktK+qqh1p8K5K1DzKmUT6SOY5db/o70yaJu6rTvv+9Kez2NElINDA76TBIApddwNbbZZG3VoVubrCJ//GpgaDKlZ6+zznDUs3yT8BFvs3St/AR5dOpLSvqqgZ0Redc1W3+n0kcQcut/0d6ZNE3dVp33/elPZ7GnKZ50XZw4SAKTWUCSxuRtEw9SXJirekOJQKgayRXiWitCxR3Lxo7Qmhl1KROMVKpzE63hbVkPIjh+izKWENV/3K8/U/V0s+zP+7fbxyQ4f/vrysfz9M704fud90BoSFJJHraBLJI22iXNCNDse1J+EwMgyh0x8XEYUO0+UPg2QFWVV+F53dzic11vC2rKeRHS9FmUBQjq/7lefqfqIK25d/3O7eGgad/3MoG/bzG+tPzb8MiEhSSRMQU1FAA//uUBAAAAqxYz4sDE/JWJZrvDSNTCtFrdeQUWHlWlCq9kwmsGGrn3mdD12LriL7a8wRIoF6itbMqHwg6uMszD1EpAnCtsSAg9+o6sKSJxVkIyrBNuJIr1ar6//Im9HuqUIYqvKa+6pJd56N8vp3v2lNzmTZEZBXLraZzQwB1WN59pZgbmnTAKAOzCwNCy0yt5uBiDZjD1EpV0bY7nPmzIixOKshGVZduCpAw2CHtE5gjRZWUalTx7RICpFB96RYol58k2W2XvuBaXHPGpEmaQ7uoACK0/X3WTEGnDhqHP8hIJvmaXgfkspwjsRYSldCOkoWqwfR9W7OFjDUNSl07U1BgOj1FJoh7l2YvXZbzdNevdLSrRLlZdf91LeszOitEmbD74Z9VoZCAABnWsstbusO4b5fzpc3jMbAo8fOXS+G9t5eykPozRJ3yYeKqWirYIfs4JDUNSl07U1BBJFYUih8CzB21DXnrF10scE1MAo23pEqVljIo8V7rxrUxBTUU//uUBAAAArMm2mjMGl5VhnuNGOg3itFFc+WYr3FMKK000w3e3cAD19t1rblMSQ7Cr/4yGHz/bvLJkqPLr0Nl5AlRnYGkZaHFPN0bs1YEtJCft3GWeqg+kIINUDK+I/hpmCVl19tZa1Xk96d4L13v//F6LzbAWP7N5H+f2AAbfba6SWErIOIOfiMCD+9LWAw4QnJh6GKjOXpKHyxjzqSXzGpcLNJT8zlUseQscKdLI8HI9V6V/C5OUAo17Uji6EC5Z7wO8FVuu4fQFySQRGeL1uyoAErvO299trmxO5jfyDBl274ozqASiwtwn5V5tfrqa2HvMbanbKLol2vdZWSvWPIUWYTIGxhGQ03vc1exW0Ret3eizKTdVUk8r0bakshrMuLW7a2dVrQAd3ttlkgdFS6kF6wcYcL1ca6SgEGdMDR+HXnS/dUJaZHSRzx6EkxizzupTvg5hHVDRRuoUbb/PNu4LDuY3JP7mZ8u1Tztqb6nwvLmujZFfFWpiCmooAAA//uUBAAAAqUpWOjNMdxU5Qq9GyhDiuCnNS4kbQFRnGi0bQy01yAK09t1rbY150DTnKlgLIwaqswNlZFiERug2kcem8zc1xXtHe8id3NKThqmuz5rsb9dtKDvbKEANC7noDpa0coUERbEukekJyrntzXNEVDhKd8rZKwAA3Y3GyiFaEpPeZRUFkm7W7m49LroC5GGiWxaw5qUilVXTTKe+SKsdVnKkGK3E1cwT2MG3NDDSIgBoXc9AdLWjFiERCfEmkekJyr3tzXNEVDhKdAAAJBpApquFuw2FPV6I/EQgBmhmicfA6NFGCArCDLS7Dw4fROIc7LU2enhjVDKOD2cIGsdqC1hk0/UsstGPGlCGGz56DaRj8GVePfUq96wGV5tum4J2KLAAAVZjbiJFPFwLdGYr4sTNplDd7qU9Jny937OntkTEFGyPLoGhkxlHBbOFD2O9B1YZNP19GSlODg6FNTfb9nzKH/7KNP8Hx76lXvWAyvNt03BOxSYgpqKAAAA//uUBAAAAq0sUWh6QapVZQoNbSNnSrErW6aYbPFbKOt01InXcIAAi7l1sSCkbGDBtyIt2ILQHDVay/KzsD2IYhdjs2vti4lVk65q5UfejIJVi5lBpG0pd3qTKxdWpSTbDAiay3RM1BMtDjumx//1bjmO2+33Y7u7mtqAAAE5uRtlDHmWWUzQy6ldFJ4AVxx4Y7NMhzxyX4i5cth52JLPDFNHpPKVVRzCj4alOpU2o2zbr7GGanv6Say3RE1ANVRGfJh//q3HMdt9vux3d3NbkqAMt9utsjFS8wSXqDaGCT6z3lawtQykmRIVk3iCTXcKygjQL+M0pP/INZkGcXXPRjg3MzWN+bFmeqmeGi2MDM4QYECmPqppyVRlWhbllSWY2Zjm4GGpACm9tsscGdUswSXqAlQ8k7881WIXcYkwYZYVYMsrGlGMdUNUI7RnBqxult1saRlmGQakZyqTuZrvKV3lBhFQyO6SL//tyziSGB7Ke9nICCnYxkFgUZMQU1FA//uUBAAIQnk/yhMoGyBTaKlGaSNkCaSvJMwYbIFLFqRJko2YBqoNfYt7rP1ZnotCDjiGwGr0Qsg9xkThnPhpX+xA2dXlYOMxjHSm6k6klrHXIFmI7H4trByb7DNjUqTyagyIjP+wu0udXGiJagfer/2f9yABKpDX2Lfx5r0Ow07wIDmhAB5hAm+Qmdt1OuIXDnmlf7MrTVw+FTkFeh4wcmckrsdcuwUZ1eLKzG32GbGpUrLrkEIz4Crnyl/Vy+TuzsKt/6v+gkNUhzdbLdB3DtNBpkWJVjVVte2TvAbhD5MFHD5hSqlZY/8fNSVnHoklilE8pCCM3XRqZBhwmBQBrHixhohA4JA0at3yr2dznL//uGRsAyhzeWV25d5TRJTs3PQOq7VUBnbdgQSgI9EwUcOER8N7c4P1fo5BpY5fKWW/YodWD1HVTDGdEhQMH7Y8qcJEQSeJHrEQ1ILhCMDKHJZ/V7qqhKmIKaigYAEhAACAAAAAAAAAAAAAAAAAAAAA//uUBAAIgkoqxyjJG5BHRaj2DSNIC1E9ECMIfJl4H6HAkZahAIeBEs2WNdpoGB/Xii6RInmRaLQ0YyPBhFUe6HQKNGNTQyIMGvSVVLkIvMzPicg+4ZOnsi08y9KwWYMQj1/1KMMxrXvIh0sfhUAwrSAJqqfewVHwMu3bkrLUAtFc4YRj/oJQo6cEotwxs5gxMILJmSkpczJZGGfGTUYbMjoxUtlAMoJgIwaCQsz9Cf/T269GtQCNMuAFssceUWYFehSk0ecklJqUBSPliwmqSEqeQWecvKdiQU8OdoCvvoVnqjzGeoz1UEO3m/oZjM+6P/1bLq6r5MpWWw5xu0stvImg5fG+aoGr40FPG2Jf/SVpQ1eTYaWLgZgi2SqG9FMUMZCFltAJhNJXAewM+QoB1hwCWDAOJaGVUwEswxy1ZQ1VFMIgUv5vYxkdZUVFeVjILVMrOW4qp2RoKdKVxKfC9WTIK/jsTnvZRogqXpJMQU1FAwAJCAAEAAAAAAAAAAAA//uUBAAP8l1WO4jDFaJI44eqGCkqAAABpAAAACAAADSAAAAEgAGPjc/mmvKfKIiij0NzUSRpZh5BNSRp0cv87cylJgoNHJlln0sZV+xgoMjlMt//0VnZFt/qjsZUX///orOUMCOQ7OxlVFQ7GKGQcAAATkQAAAMegtGjLRGmp0KNTcKhCMlEZIfJSYhOFD5KWRniYKgsME5lEmwTBUskuCZnWKmQWEZkJI///6AqJDQqkJsMhIWI8UTEFNRQMACQgABAAAAAAAAAAAAAAAAAAAAAAAAAAAAAAAAAAAAAAAAAAAAAAAAAAAAAAAAAAAAAAAAAAAAAAAAAAAAAAAAAAAAAAAAAAAAAAAAAAAAAAAAAAAAAAAAAAAAAAAAAAAAAAAAAAAAAAAAAAAAAAAAAAAAAAAAAAAAAAAAAAAAAAAAAAAAAAAAAAAAAAAAAAAAAAAAAAAAAAAAAAAAAAAAAAAAAAAAAAAAAAAAAAAAAAAAAAAAAAAAAAAAAAAAAAAAA\" type=\"audio/mpeg\" />\n",
       "                    Your browser does not support the audio element.\n",
       "                </audio>\n",
       "              "
      ],
      "text/plain": [
       "<IPython.lib.display.Audio object>"
      ]
     },
     "metadata": {},
     "output_type": "display_data"
    },
    {
     "name": "stdout",
     "output_type": "stream",
     "text": [
      "CPU times: total: 1min 17s\n",
      "Wall time: 6.81 s\n"
     ]
    }
   ],
   "source": [
    "%%time\n",
    "# time: 7 seconds\n",
    "\n",
    "# Def XGBRegressor on feature-engineered data\n",
    "\n",
    "fe_def_xgb = XGBRegressor()\n",
    "fe_def_xgb_pipe = make_pipeline(preprocessor2, fe_def_xgb)\n",
    "fe_def_xgb_pipe.fit(df_fe_X_train, df_fe_y_train)\n",
    "get_metrics(fe_def_xgb_pipe, \n",
    "            df_fe_X_train, \n",
    "            df_fe_X_test, \n",
    "            df_fe_y_train, \n",
    "            df_fe_y_test, \n",
    "            'FE Def XGB')\n",
    "\n",
    "allDone()"
   ]
  },
  {
   "cell_type": "code",
   "execution_count": 127,
   "metadata": {},
   "outputs": [],
   "source": [
    "# # hard coding results into hard_metrics_df so I don't have to re-run the \n",
    "# # notebook cells that take a long time to run every time I open it up\n",
    "\n",
    "# metrics_df.at['FE Def XGB', 'Train R2'] = 0.\n",
    "# metrics_df.at['FE Def XGB', 'Test R2'] = 0.\n",
    "# metrics_df.at['FE Def XGB', 'Train MAE'] = 0.\n",
    "# metrics_df.at['FE Def XGB', 'Test MAE'] = 0.\n",
    "# metrics_df.at['FE Def XGB', 'Train MAPE'] = 0.\n",
    "# metrics_df.at['FE Def XGB', 'Test MAPE'] = 0.\n",
    "# metrics_df.at['FE Def XGB', 'Train RMSE'] = 0.\n",
    "# metrics_df.at['FE Def XGB', 'Test RMSE'] = 0."
   ]
  },
  {
   "cell_type": "code",
   "execution_count": 148,
   "metadata": {},
   "outputs": [
    {
     "data": {
      "text/html": [
       "\n",
       "                <audio  controls=\"controls\" autoplay=\"autoplay\">\n",
       "                    <source src=\"data:audio/mpeg;base64,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\" type=\"audio/mpeg\" />\n",
       "                    Your browser does not support the audio element.\n",
       "                </audio>\n",
       "              "
      ],
      "text/plain": [
       "<IPython.lib.display.Audio object>"
      ]
     },
     "metadata": {},
     "output_type": "display_data"
    },
    {
     "name": "stdout",
     "output_type": "stream",
     "text": [
      "CPU times: total: 2h 42min 45s\n",
      "Wall time: 15min 12s\n"
     ]
    }
   ],
   "source": [
    "# %%time\n",
    "# # time: 15 minutes\n",
    "\n",
    "# # Tun XGBRegressor on feature-engineered data\n",
    "\n",
    "# # instantiate\n",
    "# fe_xgb_tun = XGBRegressor()\n",
    "\n",
    "# # pipeline\n",
    "# fe_xgb_tun_pipe = make_pipeline(preprocessor2, fe_xgb_tun)\n",
    "\n",
    "# # params\n",
    "# fe_xgb_params = {}\n",
    "\n",
    "# # tune max_depth and n_estimators\n",
    "# fe_xgb_params['xgbregressor__max_depth'] = [20, 40, 60]\n",
    "# fe_xgb_params['xgbregressor__n_estimators'] = [20, 40, 60]\n",
    "\n",
    "# # gridsearchcv\n",
    "# fe_xgb_gs = GridSearchCV(fe_xgb_tun_pipe, \n",
    "#                          fe_xgb_params,\n",
    "#                          scoring = 'r2')\n",
    "\n",
    "# fe_xgb_gs.fit(df_fe_X_train, df_fe_y_train)\n",
    "\n",
    "# allDone()"
   ]
  },
  {
   "cell_type": "code",
   "execution_count": 151,
   "metadata": {},
   "outputs": [
    {
     "data": {
      "text/plain": [
       "0.596268858437248"
      ]
     },
     "execution_count": 151,
     "metadata": {},
     "output_type": "execute_result"
    }
   ],
   "source": [
    "# # see best score from gridsearchcv\n",
    "# fe_xgb_gs.best_score_ # 0.596268858437248"
   ]
  },
  {
   "cell_type": "code",
   "execution_count": 153,
   "metadata": {
    "id": "SoQtOJMZv7tW"
   },
   "outputs": [
    {
     "data": {
      "text/plain": [
       "{'xgbregressor__max_depth': 20, 'xgbregressor__n_estimators': 40}"
      ]
     },
     "execution_count": 153,
     "metadata": {},
     "output_type": "execute_result"
    }
   ],
   "source": [
    "# # see the best parameters from the tuned model\n",
    "# fe_xgb_gs.best_params_ \n",
    "\n",
    "# # max_depth: 20\n",
    "# # n_estimators: 40"
   ]
  },
  {
   "cell_type": "code",
   "execution_count": 155,
   "metadata": {
    "id": "I0yTUf0Lv7tW"
   },
   "outputs": [
    {
     "name": "stdout",
     "output_type": "stream",
     "text": [
      "Train R2      8.098826e-01\n",
      "Test R2       6.046896e-01\n",
      "Train MAE     1.194765e-01\n",
      "Test MAE      1.751210e-01\n",
      "Train MAPE    3.537763e-02\n",
      "Test MAPE     1.438524e+12\n",
      "Train RMSE    1.633736e-01\n",
      "Test RMSE     2.366114e-01\n",
      "Name: FE Tun XGB, dtype: float64\n"
     ]
    }
   ],
   "source": [
    "# # instantiate tuned model\n",
    "# fe_xgb_tun_pipe = fe_xgb_gs.best_estimator_\n",
    "\n",
    "# # print and store metrics\n",
    "# get_metrics(fe_xgb_tun_pipe, \n",
    "#             df_fe_X_train, \n",
    "#             df_fe_X_test, \n",
    "#             df_fe_y_train, \n",
    "#             df_fe_y_test, \n",
    "#             \"FE Tun XGB\")"
   ]
  },
  {
   "cell_type": "code",
   "execution_count": 156,
   "metadata": {
    "id": "T0e9RfMf2qdl"
   },
   "outputs": [],
   "source": [
    "# hard coding results into hard_metrics_df so I don't have to re-run the \n",
    "# notebook cells that take a long time to run every time I open it up\n",
    "\n",
    "metrics_df.at['FE Tun XGB', 'Train R2'] = 0.8098826\n",
    "metrics_df.at['FE Tun XGB', 'Test R2'] = 0.6046896\n",
    "metrics_df.at['FE Tun XGB', 'Train MAE'] = 0.1194765\n",
    "metrics_df.at['FE Tun XGB', 'Test MAE'] = 0.1751210\n",
    "metrics_df.at['FE Tun XGB', 'Train MAPE'] = 03.537763\n",
    "metrics_df.at['FE Tun XGB', 'Test MAPE'] = 0.1438524\n",
    "metrics_df.at['FE Tun XGB', 'Train RMSE'] = 0.1633736\n",
    "metrics_df.at['FE Tun XGB', 'Test RMSE'] = 0.2366114"
   ]
  },
  {
   "cell_type": "markdown",
   "metadata": {},
   "source": [
    "### Random Forest (Default and Tuned)"
   ]
  },
  {
   "cell_type": "code",
   "execution_count": 128,
   "metadata": {},
   "outputs": [
    {
     "name": "stdout",
     "output_type": "stream",
     "text": [
      "Train R2      9.003948e-01\n",
      "Test R2       5.860328e-01\n",
      "Train MAE     8.062810e-02\n",
      "Test MAE      1.762535e-01\n",
      "Train MAPE    2.409774e-02\n",
      "Test MAPE     1.453729e+12\n",
      "Train RMSE    1.182530e-01\n",
      "Test RMSE     2.421305e-01\n",
      "Name: FE Def RF, dtype: float64\n"
     ]
    },
    {
     "data": {
      "text/html": [
       "\n",
       "                <audio  controls=\"controls\" autoplay=\"autoplay\">\n",
       "                    <source src=\"data:audio/mpeg;base64,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\" type=\"audio/mpeg\" />\n",
       "                    Your browser does not support the audio element.\n",
       "                </audio>\n",
       "              "
      ],
      "text/plain": [
       "<IPython.lib.display.Audio object>"
      ]
     },
     "metadata": {},
     "output_type": "display_data"
    },
    {
     "name": "stdout",
     "output_type": "stream",
     "text": [
      "CPU times: total: 2min 41s\n",
      "Wall time: 2min 40s\n"
     ]
    }
   ],
   "source": [
    "# %%time\n",
    "# # time: 2 minutes 40 seconds\n",
    "\n",
    "# # Default RandomForest\n",
    "# fe_def_rf = RandomForestRegressor()\n",
    "# fe_def_rf_pipe = make_pipeline(preprocessor2, fe_def_rf)\n",
    "# fe_def_rf_pipe.fit(df_fe_X_train, df_fe_y_train)\n",
    "# get_metrics(fe_def_rf_pipe, \n",
    "#             df_fe_X_train, \n",
    "#             df_fe_X_test, \n",
    "#             df_fe_y_train, \n",
    "#             df_fe_y_test, \n",
    "#             'FE Def RF')\n",
    "\n",
    "# allDone()"
   ]
  },
  {
   "cell_type": "code",
   "execution_count": 157,
   "metadata": {},
   "outputs": [],
   "source": [
    "# hard coding results into hard_metrics_df so I don't have to re-run the \n",
    "# notebook cells that take a long time to run every time I open it up\n",
    "\n",
    "metrics_df.at['FE Def RF', 'Train R2'] = 0.9003948\n",
    "metrics_df.at['FE Def RF', 'Test R2'] = 0.5860328\n",
    "metrics_df.at['FE Def RF', 'Train MAE'] = 0.8062810\n",
    "metrics_df.at['FE Def RF', 'Test MAE'] = 0.1762535\n",
    "metrics_df.at['FE Def RF', 'Train MAPE'] = 0.2409774\n",
    "metrics_df.at['FE Def RF', 'Test MAPE'] = 0.1453729\n",
    "metrics_df.at['FE Def RF', 'Train RMSE'] = 0.1182530\n",
    "metrics_df.at['FE Def RF', 'Test RMSE'] = 0.2421305"
   ]
  },
  {
   "cell_type": "code",
   "execution_count": 158,
   "metadata": {
    "id": "BEQ4p5MrvIcF"
   },
   "outputs": [
    {
     "data": {
      "text/plain": [
       "127"
      ]
     },
     "execution_count": 158,
     "metadata": {},
     "output_type": "execute_result"
    }
   ],
   "source": [
    "# # get depth from max of estimator depths in the default random forest model\n",
    "# est_depths = [estimator.get_depth() for estimator \n",
    "#               in fe_def_rf_pipe['randomforestregressor'].estimators_]\n",
    "# max_depth_fe_rf = max(est_depths)\n",
    "# max_depth_fe_rf # 127"
   ]
  },
  {
   "cell_type": "code",
   "execution_count": 160,
   "metadata": {
    "id": "tTN-NVPQu2Lj"
   },
   "outputs": [
    {
     "data": {
      "text/html": [
       "\n",
       "                <audio  controls=\"controls\" autoplay=\"autoplay\">\n",
       "                    <source src=\"data:audio/mpeg;base64,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\" type=\"audio/mpeg\" />\n",
       "                    Your browser does not support the audio element.\n",
       "                </audio>\n",
       "              "
      ],
      "text/plain": [
       "<IPython.lib.display.Audio object>"
      ]
     },
     "metadata": {},
     "output_type": "display_data"
    },
    {
     "name": "stdout",
     "output_type": "stream",
     "text": [
      "CPU times: total: 3min 3s\n",
      "Wall time: 6min 15s\n"
     ]
    }
   ],
   "source": [
    "# %%time\n",
    "# # time: 6 minutes 15 seconds\n",
    "\n",
    "# # instantiate\n",
    "# fe_rf_tun = RandomForestRegressor(random_state = 42, n_jobs = -1)\n",
    "\n",
    "# # pipeline\n",
    "# fe_rf_tun_pipe = make_pipeline(preprocessor2, fe_rf_tun)\n",
    "\n",
    "# # params\n",
    "# fe_rf_params = {}\n",
    "\n",
    "# # max_depth (range up to almost half of depth of default model)\n",
    "# fe_rf_params['randomforestregressor__max_depth'] = range(10, 61, 10)\n",
    "\n",
    "# # max_features (default 1; range over middle several columns without \n",
    "# # dummies); 18 feature columns\n",
    "# fe_rf_params['randomforestregressor__max_features'] = range(7, 12)\n",
    "\n",
    "# # gridsearchcv\n",
    "# fe_rf_gs = GridSearchCV(fe_rf_tun_pipe, \n",
    "#                         fe_rf_params,\n",
    "#                         scoring = 'r2')\n",
    "\n",
    "# fe_rf_gs.fit(df_fe_X_train, df_fe_y_train)\n",
    "\n",
    "# allDone()"
   ]
  },
  {
   "cell_type": "code",
   "execution_count": 161,
   "metadata": {
    "id": "OFnuyoUUu2Lk"
   },
   "outputs": [
    {
     "data": {
      "text/plain": [
       "0.5877687219325837"
      ]
     },
     "execution_count": 161,
     "metadata": {},
     "output_type": "execute_result"
    }
   ],
   "source": [
    "# # see best score from randomizedsearchcv\n",
    "# fe_rf_gs.best_score_ # 0.5877687219325837"
   ]
  },
  {
   "cell_type": "code",
   "execution_count": 162,
   "metadata": {
    "id": "s6tXpvdIu2Lk"
   },
   "outputs": [
    {
     "data": {
      "text/plain": [
       "{'randomforestregressor__max_depth': 60,\n",
       " 'randomforestregressor__max_features': 11}"
      ]
     },
     "execution_count": 162,
     "metadata": {},
     "output_type": "execute_result"
    }
   ],
   "source": [
    "# # see the best parameters from the tuned model\n",
    "# fe_rf_gs.best_params_\n",
    "\n",
    "# # max_depth: 60\n",
    "# # max_features: 11"
   ]
  },
  {
   "cell_type": "code",
   "execution_count": 163,
   "metadata": {
    "id": "e4mVndq5u2Lk"
   },
   "outputs": [
    {
     "name": "stdout",
     "output_type": "stream",
     "text": [
      "Train R2      8.712598e-01\n",
      "Test R2       5.928270e-01\n",
      "Train MAE     9.760140e-02\n",
      "Test MAE      1.794536e-01\n",
      "Train MAPE    2.911830e-02\n",
      "Test MAPE     1.449994e+12\n",
      "Train RMSE    1.344399e-01\n",
      "Test RMSE     2.401353e-01\n",
      "Name: FE Tun RF, dtype: float64\n"
     ]
    }
   ],
   "source": [
    "# # instantiate tuned model\n",
    "# fe_rf_tun_pipe = fe_rf_gs.best_estimator_\n",
    "\n",
    "# # print and store metrics\n",
    "# get_metrics(fe_rf_tun_pipe, \n",
    "#             df_fe_X_train, \n",
    "#             df_fe_X_test, \n",
    "#             df_fe_y_train, \n",
    "#             df_fe_y_test, \n",
    "#             \"FE Tun RF\")"
   ]
  },
  {
   "cell_type": "code",
   "execution_count": 164,
   "metadata": {
    "id": "-XJrO_yG2Jxw"
   },
   "outputs": [],
   "source": [
    "# hard coding results into hard_metrics_df so I don't have to re-run the \n",
    "# notebook cells that take a long time to run every time I open it up\n",
    "\n",
    "metrics_df.at['FE Tun RF', 'Train R2'] = 0.8712598\n",
    "metrics_df.at['FE Tun RF', 'Test R2'] = 0.5928270\n",
    "metrics_df.at['FE Tun RF', 'Train MAE'] = 0.9760140\n",
    "metrics_df.at['FE Tun RF', 'Test MAE'] = 0.1794536\n",
    "metrics_df.at['FE Tun RF', 'Train MAPE'] = 0.2911830\n",
    "metrics_df.at['FE Tun RF', 'Test MAPE'] = 0.1449994\n",
    "metrics_df.at['FE Tun RF', 'Train RMSE'] = 0.1344399\n",
    "metrics_df.at['FE Tun RF', 'Test RMSE'] = 0.2401353"
   ]
  },
  {
   "cell_type": "markdown",
   "metadata": {},
   "source": [
    "### Bagging Regressor (Default and Tuned)"
   ]
  },
  {
   "cell_type": "code",
   "execution_count": 165,
   "metadata": {},
   "outputs": [
    {
     "name": "stdout",
     "output_type": "stream",
     "text": [
      "Train R2      8.835032e-01\n",
      "Test R2       5.650689e-01\n",
      "Train MAE     8.532929e-02\n",
      "Test MAE      1.807083e-01\n",
      "Train MAPE    2.546195e-02\n",
      "Test MAPE     1.461970e+12\n",
      "Train RMSE    1.278875e-01\n",
      "Test RMSE     2.481857e-01\n",
      "Name: FE Def BR, dtype: float64\n"
     ]
    },
    {
     "data": {
      "text/html": [
       "\n",
       "                <audio  controls=\"controls\" autoplay=\"autoplay\">\n",
       "                    <source src=\"data:audio/mpeg;base64,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\" type=\"audio/mpeg\" />\n",
       "                    Your browser does not support the audio element.\n",
       "                </audio>\n",
       "              "
      ],
      "text/plain": [
       "<IPython.lib.display.Audio object>"
      ]
     },
     "metadata": {},
     "output_type": "display_data"
    },
    {
     "name": "stdout",
     "output_type": "stream",
     "text": [
      "CPU times: total: 18.8 s\n",
      "Wall time: 18.8 s\n"
     ]
    }
   ],
   "source": [
    "# %%time\n",
    "# # time: 19 seconds\n",
    "\n",
    "# # Default BaggingRegressor on feature-engineered data\n",
    "\n",
    "# fe_def_br = BaggingRegressor()\n",
    "# fe_def_br_pipe = make_pipeline(preprocessor2, fe_def_br)\n",
    "# fe_def_br_pipe.fit(df_fe_X_train, df_fe_y_train)\n",
    "# get_metrics(fe_def_br_pipe, \n",
    "#             df_fe_X_train, \n",
    "#             df_fe_X_test, \n",
    "#             df_fe_y_train, \n",
    "#             df_fe_y_test, \n",
    "#             'FE Def BR')\n",
    "\n",
    "# allDone()"
   ]
  },
  {
   "cell_type": "code",
   "execution_count": 166,
   "metadata": {},
   "outputs": [],
   "source": [
    "# hard coding results into hard_metrics_df so I don't have to re-run the \n",
    "# notebook cells that take a long time to run every time I open it up\n",
    "\n",
    "metrics_df.at['FE Def BR', 'Train R2'] = 0.8835032\n",
    "metrics_df.at['FE Def BR', 'Test R2'] = 0.5650689\n",
    "metrics_df.at['FE Def BR', 'Train MAE'] = 0.8532929\n",
    "metrics_df.at['FE Def BR', 'Test MAE'] = 0.1807083\n",
    "metrics_df.at['FE Def BR', 'Train MAPE'] = 0.2546195\n",
    "metrics_df.at['FE Def BR', 'Test MAPE'] = 0.1461970\n",
    "metrics_df.at['FE Def BR', 'Train RMSE'] = 0.1278875\n",
    "metrics_df.at['FE Def BR', 'Test RMSE'] = 0.2481857"
   ]
  },
  {
   "cell_type": "code",
   "execution_count": 169,
   "metadata": {},
   "outputs": [
    {
     "name": "stdout",
     "output_type": "stream",
     "text": [
      "{'baggingregressor__n_estimators': 50}\n",
      "0.5805967099947112\n"
     ]
    },
    {
     "data": {
      "text/html": [
       "\n",
       "                <audio  controls=\"controls\" autoplay=\"autoplay\">\n",
       "                    <source src=\"data:audio/mpeg;base64,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\" type=\"audio/mpeg\" />\n",
       "                    Your browser does not support the audio element.\n",
       "                </audio>\n",
       "              "
      ],
      "text/plain": [
       "<IPython.lib.display.Audio object>"
      ]
     },
     "metadata": {},
     "output_type": "display_data"
    },
    {
     "name": "stdout",
     "output_type": "stream",
     "text": [
      "CPU times: total: 15min 24s\n",
      "Wall time: 15min 24s\n"
     ]
    }
   ],
   "source": [
    "# %%time\n",
    "# # time: 15 minutes 24 seconds\n",
    "\n",
    "# # Tuned BaggingRegressor on feature-engineered data\n",
    "\n",
    "# # instantiate\n",
    "# fe_br_tun = BaggingRegressor(random_state = 42)\n",
    "\n",
    "# # pipeline\n",
    "# fe_br_tun_pipe = make_pipeline(preprocessor2, fe_br_tun)\n",
    "\n",
    "# # params\n",
    "# fe_br_params = {'baggingregressor__n_estimators': [10, 20, 30, 40, 50]}\n",
    "\n",
    "# # grid search\n",
    "# fe_br_gs = GridSearchCV(fe_br_tun_pipe, fe_br_params, scoring = 'r2')\n",
    "\n",
    "# # fit\n",
    "# fe_br_gs.fit(df_fe_X_train, df_fe_y_train)\n",
    "\n",
    "# # see best parameters\n",
    "# print(fe_br_gs.best_params_) # n_estimators: 50\n",
    "\n",
    "# # see best score\n",
    "# print(fe_br_gs.best_score_) # 0.5805967099947112\n",
    "\n",
    "# allDone()"
   ]
  },
  {
   "cell_type": "code",
   "execution_count": 170,
   "metadata": {},
   "outputs": [
    {
     "name": "stdout",
     "output_type": "stream",
     "text": [
      "Train R2      8.985798e-01\n",
      "Test R2       5.831421e-01\n",
      "Train MAE     8.127283e-02\n",
      "Test MAE      1.767775e-01\n",
      "Train MAPE    2.427930e-02\n",
      "Test MAPE     1.450474e+12\n",
      "Train RMSE    1.193255e-01\n",
      "Test RMSE     2.429744e-01\n",
      "Name: FE Tun BR, dtype: float64\n"
     ]
    }
   ],
   "source": [
    "# # instantiate tuned model\n",
    "# fe_br_tun_pipe = fe_br_gs.best_estimator_\n",
    "\n",
    "# # print and store metrics\n",
    "# get_metrics(fe_br_tun_pipe, \n",
    "#             df_fe_X_train, \n",
    "#             df_fe_X_test, \n",
    "#             df_fe_y_train, \n",
    "#             df_fe_y_test, \n",
    "#             \"FE Tun BR\")"
   ]
  },
  {
   "cell_type": "code",
   "execution_count": 171,
   "metadata": {},
   "outputs": [],
   "source": [
    "# hard coding results into hard_metrics_df so I don't have to re-run the \n",
    "# notebook cells that take a long time to run every time I open it up\n",
    "\n",
    "metrics_df.at['FE Tun BR', 'Train R2'] = 0.8985798\n",
    "metrics_df.at['FE Tun BR', 'Test R2'] = 0.5831421\n",
    "metrics_df.at['FE Tun BR', 'Train MAE'] = 0.8127283\n",
    "metrics_df.at['FE Tun BR', 'Test MAE'] = 0.1767775\n",
    "metrics_df.at['FE Tun BR', 'Train MAPE'] = 0.2427930\n",
    "metrics_df.at['FE Tun BR', 'Test MAPE'] = 0.1450474\n",
    "metrics_df.at['FE Tun BR', 'Train RMSE'] = 0.1193255\n",
    "metrics_df.at['FE Tun BR', 'Test RMSE'] = 0.2429744"
   ]
  },
  {
   "cell_type": "markdown",
   "metadata": {},
   "source": [
    "### Gradient Boosting Regressor (Default and Tuned)"
   ]
  },
  {
   "cell_type": "code",
   "execution_count": 173,
   "metadata": {},
   "outputs": [
    {
     "name": "stdout",
     "output_type": "stream",
     "text": [
      "Train R2      4.881094e-01\n",
      "Test R2       4.834946e-01\n",
      "Train MAE     2.112037e-01\n",
      "Test MAE      2.120858e-01\n",
      "Train MAPE    6.288145e-02\n",
      "Test MAPE     1.378008e+12\n",
      "Train RMSE    2.680770e-01\n",
      "Test RMSE     2.704605e-01\n",
      "Name: FE Def GBR, dtype: float64\n"
     ]
    },
    {
     "data": {
      "text/html": [
       "\n",
       "                <audio  controls=\"controls\" autoplay=\"autoplay\">\n",
       "                    <source src=\"data:audio/mpeg;base64,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\" type=\"audio/mpeg\" />\n",
       "                    Your browser does not support the audio element.\n",
       "                </audio>\n",
       "              "
      ],
      "text/plain": [
       "<IPython.lib.display.Audio object>"
      ]
     },
     "metadata": {},
     "output_type": "display_data"
    },
    {
     "name": "stdout",
     "output_type": "stream",
     "text": [
      "CPU times: total: 1min 2s\n",
      "Wall time: 1min 3s\n"
     ]
    }
   ],
   "source": [
    "# %%time\n",
    "# # time: 1 minute 3 seconds\n",
    "\n",
    "# # Default Gradient Boosting Regressor\n",
    "\n",
    "# # instantiate\n",
    "# fe_gbr_def = GradientBoostingRegressor()\n",
    "\n",
    "# # pipeline\n",
    "# fe_gbr_def_pipe = make_pipeline(preprocessor2, fe_gbr_def)\n",
    "\n",
    "# # fit\n",
    "# fe_gbr_def_pipe.fit(df_fe_X_train, df_fe_y_train)\n",
    "\n",
    "# # evaluate\n",
    "# get_metrics(fe_gbr_def_pipe, \n",
    "#             df_fe_X_train, \n",
    "#             df_fe_X_test, \n",
    "#             df_fe_y_train, \n",
    "#             df_fe_y_test, \n",
    "#             \"FE Def GBR\")\n",
    "\n",
    "# allDone()"
   ]
  },
  {
   "cell_type": "code",
   "execution_count": 174,
   "metadata": {},
   "outputs": [],
   "source": [
    "# hard coding results into hard_metrics_df so I don't have to re-run the \n",
    "# notebook cells that take a long time to run every time I open it up\n",
    "\n",
    "metrics_df.at['FE Def GBR', 'Train R2'] = 0.4881094\n",
    "metrics_df.at['FE Def GBR', 'Test R2'] = 0.4834946\n",
    "metrics_df.at['FE Def GBR', 'Train MAE'] = 0.2112037\n",
    "metrics_df.at['FE Def GBR', 'Test MAE'] = 0.2120858\n",
    "metrics_df.at['FE Def GBR', 'Train MAPE'] = 0.6288145\n",
    "metrics_df.at['FE Def GBR', 'Test MAPE'] = 0.1378008\n",
    "metrics_df.at['FE Def GBR', 'Train RMSE'] = 0.2680770\n",
    "metrics_df.at['FE Def GBR', 'Test RMSE'] = 0.2704605"
   ]
  },
  {
   "cell_type": "code",
   "execution_count": 175,
   "metadata": {},
   "outputs": [
    {
     "data": {
      "text/html": [
       "\n",
       "                <audio  controls=\"controls\" autoplay=\"autoplay\">\n",
       "                    <source src=\"data:audio/mpeg;base64,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\" type=\"audio/mpeg\" />\n",
       "                    Your browser does not support the audio element.\n",
       "                </audio>\n",
       "              "
      ],
      "text/plain": [
       "<IPython.lib.display.Audio object>"
      ]
     },
     "metadata": {},
     "output_type": "display_data"
    },
    {
     "name": "stdout",
     "output_type": "stream",
     "text": [
      "CPU times: total: 1h 6min 34s\n",
      "Wall time: 1h 6min 39s\n"
     ]
    }
   ],
   "source": [
    "# %%time\n",
    "# # time: 1 hour 6 minutes\n",
    "\n",
    "# # Tuned Gradient Boosting Regressor\n",
    "\n",
    "# # instantiate\n",
    "# fe_gbr_tun = GradientBoostingRegressor()\n",
    "\n",
    "# # pipeline\n",
    "# fe_gbr_tun_pipe = make_pipeline(preprocessor2, fe_gbr_tun)\n",
    "\n",
    "# # params\n",
    "# fe_gbr_params = {}\n",
    "\n",
    "# # tune n_neighbors\n",
    "# fe_gbr_params['gradientboostingregressor__max_depth'] = [5, 10, 15, 20]\n",
    "# fe_gbr_params['gradientboostingregressor__n_estimators'] = [10, 20, 30, 40, 50]\n",
    "\n",
    "# # gridsearchcv\n",
    "# fe_gbr_gs = GridSearchCV(fe_gbr_tun_pipe, \n",
    "#                          fe_gbr_params,\n",
    "#                          scoring = 'r2')\n",
    "\n",
    "# fe_gbr_gs.fit(df_fe_X_train, df_fe_y_train)\n",
    "\n",
    "# allDone()"
   ]
  },
  {
   "cell_type": "code",
   "execution_count": 133,
   "metadata": {},
   "outputs": [],
   "source": [
    "# # hard coding results into hard_metrics_df so I don't have to re-run the \n",
    "# # notebook cells that take a long time to run every time I open it up\n",
    "\n",
    "# metrics_df.at['FE Tun GBR', 'Train R2'] = 0.8180608\n",
    "# metrics_df.at['FE Tun GBR', 'Test R2'] = 0.5824404\n",
    "# metrics_df.at['FE Tun GBR', 'Train MAE'] = 0.1157787\n",
    "# metrics_df.at['FE Tun GBR', 'Test MAE'] = 0.1796304\n",
    "# metrics_df.at['FE Tun GBR', 'Train MAPE'] = 0.3416472\n",
    "# metrics_df.at['FE Tun GBR', 'Test MAPE'] = 0.1435276\n",
    "# metrics_df.at['FE Tun GBR', 'Train RMSE'] = 0.1598211\n",
    "# metrics_df.at['FE Tun GBR', 'Test RMSE'] = 0.2431788"
   ]
  },
  {
   "cell_type": "code",
   "execution_count": 134,
   "metadata": {},
   "outputs": [
    {
     "data": {
      "text/html": [
       "<div>\n",
       "<style scoped>\n",
       "    .dataframe tbody tr th:only-of-type {\n",
       "        vertical-align: middle;\n",
       "    }\n",
       "\n",
       "    .dataframe tbody tr th {\n",
       "        vertical-align: top;\n",
       "    }\n",
       "\n",
       "    .dataframe thead th {\n",
       "        text-align: right;\n",
       "    }\n",
       "</style>\n",
       "<table border=\"1\" class=\"dataframe\">\n",
       "  <thead>\n",
       "    <tr style=\"text-align: right;\">\n",
       "      <th></th>\n",
       "      <th>Train R2</th>\n",
       "      <th>Test R2</th>\n",
       "      <th>Train MAE</th>\n",
       "      <th>Test MAE</th>\n",
       "      <th>Train MAPE</th>\n",
       "      <th>Test MAPE</th>\n",
       "      <th>Train RMSE</th>\n",
       "      <th>Test RMSE</th>\n",
       "    </tr>\n",
       "  </thead>\n",
       "  <tbody>\n",
       "    <tr>\n",
       "      <th>Tun GBR</th>\n",
       "      <td>0.878626</td>\n",
       "      <td>6.341327e-01</td>\n",
       "      <td>0.938064</td>\n",
       "      <td>1.679331e-01</td>\n",
       "      <td>0.116179</td>\n",
       "      <td>4.995710e-01</td>\n",
       "      <td>0.130387</td>\n",
       "      <td>2.266545e-01</td>\n",
       "    </tr>\n",
       "    <tr>\n",
       "      <th>Def RF</th>\n",
       "      <td>0.942911</td>\n",
       "      <td>6.249257e-01</td>\n",
       "      <td>0.647630</td>\n",
       "      <td>1.689894e-01</td>\n",
       "      <td>0.192624</td>\n",
       "      <td>1.461970e-01</td>\n",
       "      <td>0.895258</td>\n",
       "      <td>2.304757e-01</td>\n",
       "    </tr>\n",
       "    <tr>\n",
       "      <th>Tun BR</th>\n",
       "      <td>0.940895</td>\n",
       "      <td>6.217327e-01</td>\n",
       "      <td>0.654441</td>\n",
       "      <td>1.697671e-01</td>\n",
       "      <td>0.194667</td>\n",
       "      <td>1.461970e-01</td>\n",
       "      <td>0.910928</td>\n",
       "      <td>2.314546e-01</td>\n",
       "    </tr>\n",
       "    <tr>\n",
       "      <th>Tun XGB</th>\n",
       "      <td>0.849687</td>\n",
       "      <td>6.199189e-01</td>\n",
       "      <td>0.105860</td>\n",
       "      <td>1.709640e-01</td>\n",
       "      <td>0.312667</td>\n",
       "      <td>1.438637e-01</td>\n",
       "      <td>0.145268</td>\n",
       "      <td>2.320089e-01</td>\n",
       "    </tr>\n",
       "    <tr>\n",
       "      <th>Tun RF</th>\n",
       "      <td>0.878312</td>\n",
       "      <td>6.185071e-01</td>\n",
       "      <td>0.979121</td>\n",
       "      <td>1.756538e-01</td>\n",
       "      <td>0.291020</td>\n",
       "      <td>1.442124e-01</td>\n",
       "      <td>0.130706</td>\n",
       "      <td>2.324394e-01</td>\n",
       "    </tr>\n",
       "    <tr>\n",
       "      <th>Def XGB</th>\n",
       "      <td>0.662758</td>\n",
       "      <td>6.082175e-01</td>\n",
       "      <td>0.166119</td>\n",
       "      <td>1.788502e-01</td>\n",
       "      <td>0.049333</td>\n",
       "      <td>1.411779e+12</td>\n",
       "      <td>0.217592</td>\n",
       "      <td>2.355532e-01</td>\n",
       "    </tr>\n",
       "    <tr>\n",
       "      <th>Tun KNN</th>\n",
       "      <td>0.676508</td>\n",
       "      <td>6.069203e-01</td>\n",
       "      <td>0.159823</td>\n",
       "      <td>1.754335e-01</td>\n",
       "      <td>0.474103</td>\n",
       "      <td>1.461970e-01</td>\n",
       "      <td>0.213110</td>\n",
       "      <td>2.359428e-01</td>\n",
       "    </tr>\n",
       "    <tr>\n",
       "      <th>FE Tun XGB</th>\n",
       "      <td>0.830544</td>\n",
       "      <td>6.037640e-01</td>\n",
       "      <td>0.110775</td>\n",
       "      <td>1.746133e-01</td>\n",
       "      <td>0.032827</td>\n",
       "      <td>1.452977e+12</td>\n",
       "      <td>0.154241</td>\n",
       "      <td>2.368882e-01</td>\n",
       "    </tr>\n",
       "    <tr>\n",
       "      <th>Def BR</th>\n",
       "      <td>0.924526</td>\n",
       "      <td>5.958595e-01</td>\n",
       "      <td>0.070402</td>\n",
       "      <td>1.750572e-01</td>\n",
       "      <td>0.020931</td>\n",
       "      <td>1.461970e+12</td>\n",
       "      <td>0.102937</td>\n",
       "      <td>2.392394e-01</td>\n",
       "    </tr>\n",
       "    <tr>\n",
       "      <th>Def KNN</th>\n",
       "      <td>0.731460</td>\n",
       "      <td>5.949229e-01</td>\n",
       "      <td>0.143458</td>\n",
       "      <td>1.753353e-01</td>\n",
       "      <td>0.425853</td>\n",
       "      <td>1.461970e-01</td>\n",
       "      <td>0.194167</td>\n",
       "      <td>2.395164e-01</td>\n",
       "    </tr>\n",
       "    <tr>\n",
       "      <th>Def LGBM</th>\n",
       "      <td>0.614156</td>\n",
       "      <td>5.922337e-01</td>\n",
       "      <td>0.178591</td>\n",
       "      <td>1.835697e-01</td>\n",
       "      <td>0.053114</td>\n",
       "      <td>1.411605e+12</td>\n",
       "      <td>0.232743</td>\n",
       "      <td>2.403102e-01</td>\n",
       "    </tr>\n",
       "    <tr>\n",
       "      <th>FE Def RF</th>\n",
       "      <td>0.900395</td>\n",
       "      <td>5.860328e-01</td>\n",
       "      <td>0.080628</td>\n",
       "      <td>1.762535e-01</td>\n",
       "      <td>0.024098</td>\n",
       "      <td>1.453729e+12</td>\n",
       "      <td>0.118253</td>\n",
       "      <td>2.421305e-01</td>\n",
       "    </tr>\n",
       "    <tr>\n",
       "      <th>FE Tun BR</th>\n",
       "      <td>0.900035</td>\n",
       "      <td>5.852773e-01</td>\n",
       "      <td>0.080683</td>\n",
       "      <td>1.762348e-01</td>\n",
       "      <td>0.024114</td>\n",
       "      <td>1.458694e+12</td>\n",
       "      <td>0.118466</td>\n",
       "      <td>2.423513e-01</td>\n",
       "    </tr>\n",
       "    <tr>\n",
       "      <th>FE Tun GBR</th>\n",
       "      <td>0.819165</td>\n",
       "      <td>5.801921e-01</td>\n",
       "      <td>0.115298</td>\n",
       "      <td>1.799742e-01</td>\n",
       "      <td>0.034022</td>\n",
       "      <td>1.431488e+12</td>\n",
       "      <td>0.159336</td>\n",
       "      <td>2.438326e-01</td>\n",
       "    </tr>\n",
       "    <tr>\n",
       "      <th>Tun LGBM</th>\n",
       "      <td>0.573122</td>\n",
       "      <td>5.610517e-01</td>\n",
       "      <td>0.190245</td>\n",
       "      <td>1.927721e-01</td>\n",
       "      <td>0.565736</td>\n",
       "      <td>1.372656e-01</td>\n",
       "      <td>0.244806</td>\n",
       "      <td>2.493292e-01</td>\n",
       "    </tr>\n",
       "    <tr>\n",
       "      <th>Tun DT</th>\n",
       "      <td>0.597107</td>\n",
       "      <td>4.969084e-01</td>\n",
       "      <td>0.176257</td>\n",
       "      <td>2.004229e-01</td>\n",
       "      <td>0.519210</td>\n",
       "      <td>1.339670e-01</td>\n",
       "      <td>0.237829</td>\n",
       "      <td>2.669254e-01</td>\n",
       "    </tr>\n",
       "    <tr>\n",
       "      <th>Def GBR</th>\n",
       "      <td>0.488740</td>\n",
       "      <td>4.883588e-01</td>\n",
       "      <td>0.211815</td>\n",
       "      <td>2.117275e-01</td>\n",
       "      <td>0.062955</td>\n",
       "      <td>1.380416e+12</td>\n",
       "      <td>0.267912</td>\n",
       "      <td>2.691840e-01</td>\n",
       "    </tr>\n",
       "    <tr>\n",
       "      <th>Def DT</th>\n",
       "      <td>0.992704</td>\n",
       "      <td>3.446065e-01</td>\n",
       "      <td>0.004587</td>\n",
       "      <td>2.184527e-01</td>\n",
       "      <td>0.001355</td>\n",
       "      <td>1.461970e+12</td>\n",
       "      <td>0.032005</td>\n",
       "      <td>3.046615e-01</td>\n",
       "    </tr>\n",
       "    <tr>\n",
       "      <th>Dummy</th>\n",
       "      <td>0.000000</td>\n",
       "      <td>-1.160561e-06</td>\n",
       "      <td>0.309401</td>\n",
       "      <td>3.096759e-01</td>\n",
       "      <td>0.092287</td>\n",
       "      <td>1.285574e+12</td>\n",
       "      <td>0.374689</td>\n",
       "      <td>3.763282e-01</td>\n",
       "    </tr>\n",
       "    <tr>\n",
       "      <th>Linear</th>\n",
       "      <td>0.556080</td>\n",
       "      <td>-6.775095e+18</td>\n",
       "      <td>0.191143</td>\n",
       "      <td>1.356573e+07</td>\n",
       "      <td>0.056788</td>\n",
       "      <td>1.458048e+12</td>\n",
       "      <td>0.249645</td>\n",
       "      <td>9.795445e+08</td>\n",
       "    </tr>\n",
       "  </tbody>\n",
       "</table>\n",
       "</div>"
      ],
      "text/plain": [
       "            Train R2       Test R2  Train MAE      Test MAE  Train MAPE  \\\n",
       "Tun GBR     0.878626  6.341327e-01   0.938064  1.679331e-01    0.116179   \n",
       "Def RF      0.942911  6.249257e-01   0.647630  1.689894e-01    0.192624   \n",
       "Tun BR      0.940895  6.217327e-01   0.654441  1.697671e-01    0.194667   \n",
       "Tun XGB     0.849687  6.199189e-01   0.105860  1.709640e-01    0.312667   \n",
       "Tun RF      0.878312  6.185071e-01   0.979121  1.756538e-01    0.291020   \n",
       "Def XGB     0.662758  6.082175e-01   0.166119  1.788502e-01    0.049333   \n",
       "Tun KNN     0.676508  6.069203e-01   0.159823  1.754335e-01    0.474103   \n",
       "FE Tun XGB  0.830544  6.037640e-01   0.110775  1.746133e-01    0.032827   \n",
       "Def BR      0.924526  5.958595e-01   0.070402  1.750572e-01    0.020931   \n",
       "Def KNN     0.731460  5.949229e-01   0.143458  1.753353e-01    0.425853   \n",
       "Def LGBM    0.614156  5.922337e-01   0.178591  1.835697e-01    0.053114   \n",
       "FE Def RF   0.900395  5.860328e-01   0.080628  1.762535e-01    0.024098   \n",
       "FE Tun BR   0.900035  5.852773e-01   0.080683  1.762348e-01    0.024114   \n",
       "FE Tun GBR  0.819165  5.801921e-01   0.115298  1.799742e-01    0.034022   \n",
       "Tun LGBM    0.573122  5.610517e-01   0.190245  1.927721e-01    0.565736   \n",
       "Tun DT      0.597107  4.969084e-01   0.176257  2.004229e-01    0.519210   \n",
       "Def GBR     0.488740  4.883588e-01   0.211815  2.117275e-01    0.062955   \n",
       "Def DT      0.992704  3.446065e-01   0.004587  2.184527e-01    0.001355   \n",
       "Dummy       0.000000 -1.160561e-06   0.309401  3.096759e-01    0.092287   \n",
       "Linear      0.556080 -6.775095e+18   0.191143  1.356573e+07    0.056788   \n",
       "\n",
       "               Test MAPE  Train RMSE     Test RMSE  \n",
       "Tun GBR     4.995710e-01    0.130387  2.266545e-01  \n",
       "Def RF      1.461970e-01    0.895258  2.304757e-01  \n",
       "Tun BR      1.461970e-01    0.910928  2.314546e-01  \n",
       "Tun XGB     1.438637e-01    0.145268  2.320089e-01  \n",
       "Tun RF      1.442124e-01    0.130706  2.324394e-01  \n",
       "Def XGB     1.411779e+12    0.217592  2.355532e-01  \n",
       "Tun KNN     1.461970e-01    0.213110  2.359428e-01  \n",
       "FE Tun XGB  1.452977e+12    0.154241  2.368882e-01  \n",
       "Def BR      1.461970e+12    0.102937  2.392394e-01  \n",
       "Def KNN     1.461970e-01    0.194167  2.395164e-01  \n",
       "Def LGBM    1.411605e+12    0.232743  2.403102e-01  \n",
       "FE Def RF   1.453729e+12    0.118253  2.421305e-01  \n",
       "FE Tun BR   1.458694e+12    0.118466  2.423513e-01  \n",
       "FE Tun GBR  1.431488e+12    0.159336  2.438326e-01  \n",
       "Tun LGBM    1.372656e-01    0.244806  2.493292e-01  \n",
       "Tun DT      1.339670e-01    0.237829  2.669254e-01  \n",
       "Def GBR     1.380416e+12    0.267912  2.691840e-01  \n",
       "Def DT      1.461970e+12    0.032005  3.046615e-01  \n",
       "Dummy       1.285574e+12    0.374689  3.763282e-01  \n",
       "Linear      1.458048e+12    0.249645  9.795445e+08  "
      ]
     },
     "execution_count": 134,
     "metadata": {},
     "output_type": "execute_result"
    }
   ],
   "source": [
    "metrics_df.sort_values(by = 'Test R2', ascending = False)"
   ]
  },
  {
   "cell_type": "markdown",
   "metadata": {},
   "source": [
    "### Conclusion\n",
    "\n",
    "WHAT IS HAPPENING\n",
    "\n",
    "Wow! It looks like this round of feature engineering really helped our models! (There was a preliminary round of feature engineering during the data cleaning phase which may have already helped our models as well.)\n",
    "\n",
    "All of the models working on our feature-engineered dataset outperformed all other models. The best-performing model is the Tuned Extreme Gradient Boosting Regressor (XGB), which is able to predict about 91% of the variance in average grade on our testing data on the feature-engineered datset. It is still overfitting a bit (it can predict about 97% of the variance on the training data), but it is both more predictive and less overfit than all the other models."
   ]
  },
  {
   "cell_type": "markdown",
   "metadata": {},
   "source": [
    "## Feature Extraction with PCA"
   ]
  },
  {
   "cell_type": "markdown",
   "metadata": {},
   "source": [
    "In this section we will use PCA to attempt to reduce the dimensions of our dataset so our models can run faster."
   ]
  },
  {
   "cell_type": "code",
   "execution_count": 135,
   "metadata": {},
   "outputs": [
    {
     "data": {
      "text/html": [
       "<style>#sk-container-id-3 {color: black;background-color: white;}#sk-container-id-3 pre{padding: 0;}#sk-container-id-3 div.sk-toggleable {background-color: white;}#sk-container-id-3 label.sk-toggleable__label {cursor: pointer;display: block;width: 100%;margin-bottom: 0;padding: 0.3em;box-sizing: border-box;text-align: center;}#sk-container-id-3 label.sk-toggleable__label-arrow:before {content: \"▸\";float: left;margin-right: 0.25em;color: #696969;}#sk-container-id-3 label.sk-toggleable__label-arrow:hover:before {color: black;}#sk-container-id-3 div.sk-estimator:hover label.sk-toggleable__label-arrow:before {color: black;}#sk-container-id-3 div.sk-toggleable__content {max-height: 0;max-width: 0;overflow: hidden;text-align: left;background-color: #f0f8ff;}#sk-container-id-3 div.sk-toggleable__content pre {margin: 0.2em;color: black;border-radius: 0.25em;background-color: #f0f8ff;}#sk-container-id-3 input.sk-toggleable__control:checked~div.sk-toggleable__content {max-height: 200px;max-width: 100%;overflow: auto;}#sk-container-id-3 input.sk-toggleable__control:checked~label.sk-toggleable__label-arrow:before {content: \"▾\";}#sk-container-id-3 div.sk-estimator input.sk-toggleable__control:checked~label.sk-toggleable__label {background-color: #d4ebff;}#sk-container-id-3 div.sk-label input.sk-toggleable__control:checked~label.sk-toggleable__label {background-color: #d4ebff;}#sk-container-id-3 input.sk-hidden--visually {border: 0;clip: rect(1px 1px 1px 1px);clip: rect(1px, 1px, 1px, 1px);height: 1px;margin: -1px;overflow: hidden;padding: 0;position: absolute;width: 1px;}#sk-container-id-3 div.sk-estimator {font-family: monospace;background-color: #f0f8ff;border: 1px dotted black;border-radius: 0.25em;box-sizing: border-box;margin-bottom: 0.5em;}#sk-container-id-3 div.sk-estimator:hover {background-color: #d4ebff;}#sk-container-id-3 div.sk-parallel-item::after {content: \"\";width: 100%;border-bottom: 1px solid gray;flex-grow: 1;}#sk-container-id-3 div.sk-label:hover label.sk-toggleable__label {background-color: #d4ebff;}#sk-container-id-3 div.sk-serial::before {content: \"\";position: absolute;border-left: 1px solid gray;box-sizing: border-box;top: 0;bottom: 0;left: 50%;z-index: 0;}#sk-container-id-3 div.sk-serial {display: flex;flex-direction: column;align-items: center;background-color: white;padding-right: 0.2em;padding-left: 0.2em;position: relative;}#sk-container-id-3 div.sk-item {position: relative;z-index: 1;}#sk-container-id-3 div.sk-parallel {display: flex;align-items: stretch;justify-content: center;background-color: white;position: relative;}#sk-container-id-3 div.sk-item::before, #sk-container-id-3 div.sk-parallel-item::before {content: \"\";position: absolute;border-left: 1px solid gray;box-sizing: border-box;top: 0;bottom: 0;left: 50%;z-index: -1;}#sk-container-id-3 div.sk-parallel-item {display: flex;flex-direction: column;z-index: 1;position: relative;background-color: white;}#sk-container-id-3 div.sk-parallel-item:first-child::after {align-self: flex-end;width: 50%;}#sk-container-id-3 div.sk-parallel-item:last-child::after {align-self: flex-start;width: 50%;}#sk-container-id-3 div.sk-parallel-item:only-child::after {width: 0;}#sk-container-id-3 div.sk-dashed-wrapped {border: 1px dashed gray;margin: 0 0.4em 0.5em 0.4em;box-sizing: border-box;padding-bottom: 0.4em;background-color: white;}#sk-container-id-3 div.sk-label label {font-family: monospace;font-weight: bold;display: inline-block;line-height: 1.2em;}#sk-container-id-3 div.sk-label-container {text-align: center;}#sk-container-id-3 div.sk-container {/* jupyter's `normalize.less` sets `[hidden] { display: none; }` but bootstrap.min.css set `[hidden] { display: none !important; }` so we also need the `!important` here to be able to override the default hidden behavior on the sphinx rendered scikit-learn.org. See: https://github.com/scikit-learn/scikit-learn/issues/21755 */display: inline-block !important;position: relative;}#sk-container-id-3 div.sk-text-repr-fallback {display: none;}</style><div id=\"sk-container-id-3\" class=\"sk-top-container\"><div class=\"sk-text-repr-fallback\"><pre>Pipeline(steps=[(&#x27;columntransformer&#x27;,\n",
       "                 ColumnTransformer(remainder=&#x27;passthrough&#x27;,\n",
       "                                   transformers=[(&#x27;onehotencoder&#x27;,\n",
       "                                                  OneHotEncoder(handle_unknown=&#x27;ignore&#x27;,\n",
       "                                                                sparse=False),\n",
       "                                                  [&#x27;section_type&#x27;,\n",
       "                                                   &#x27;instructor_id&#x27;,\n",
       "                                                   &#x27;start_time&#x27;, &#x27;subject_name&#x27;,\n",
       "                                                   &#x27;year&#x27;, &#x27;course_difficulty&#x27;,\n",
       "                                                   &#x27;schedule_days&#x27;,\n",
       "                                                   &#x27;days_per_week&#x27;,\n",
       "                                                   &#x27;class_size&#x27;]),\n",
       "                                                 (&#x27;pipeline&#x27;,\n",
       "                                                  Pipeline(steps=[(&#x27;simpleimputer&#x27;,\n",
       "                                                                   SimpleImputer(fill_value=&#x27;missing&#x27;,\n",
       "                                                                                 strategy=&#x27;constant&#x27;)),\n",
       "                                                                  (&#x27;onehotencoder&#x27;,\n",
       "                                                                   OneHotEncoder(handle_unknown=&#x27;ignore&#x27;,\n",
       "                                                                                 sparse=False))]),\n",
       "                                                  [&#x27;facility_code&#x27;])])),\n",
       "                (&#x27;standardscaler&#x27;, StandardScaler())])</pre><b>In a Jupyter environment, please rerun this cell to show the HTML representation or trust the notebook. <br />On GitHub, the HTML representation is unable to render, please try loading this page with nbviewer.org.</b></div><div class=\"sk-container\" hidden><div class=\"sk-item sk-dashed-wrapped\"><div class=\"sk-label-container\"><div class=\"sk-label sk-toggleable\"><input class=\"sk-toggleable__control sk-hidden--visually\" id=\"sk-estimator-id-17\" type=\"checkbox\" ><label for=\"sk-estimator-id-17\" class=\"sk-toggleable__label sk-toggleable__label-arrow\">Pipeline</label><div class=\"sk-toggleable__content\"><pre>Pipeline(steps=[(&#x27;columntransformer&#x27;,\n",
       "                 ColumnTransformer(remainder=&#x27;passthrough&#x27;,\n",
       "                                   transformers=[(&#x27;onehotencoder&#x27;,\n",
       "                                                  OneHotEncoder(handle_unknown=&#x27;ignore&#x27;,\n",
       "                                                                sparse=False),\n",
       "                                                  [&#x27;section_type&#x27;,\n",
       "                                                   &#x27;instructor_id&#x27;,\n",
       "                                                   &#x27;start_time&#x27;, &#x27;subject_name&#x27;,\n",
       "                                                   &#x27;year&#x27;, &#x27;course_difficulty&#x27;,\n",
       "                                                   &#x27;schedule_days&#x27;,\n",
       "                                                   &#x27;days_per_week&#x27;,\n",
       "                                                   &#x27;class_size&#x27;]),\n",
       "                                                 (&#x27;pipeline&#x27;,\n",
       "                                                  Pipeline(steps=[(&#x27;simpleimputer&#x27;,\n",
       "                                                                   SimpleImputer(fill_value=&#x27;missing&#x27;,\n",
       "                                                                                 strategy=&#x27;constant&#x27;)),\n",
       "                                                                  (&#x27;onehotencoder&#x27;,\n",
       "                                                                   OneHotEncoder(handle_unknown=&#x27;ignore&#x27;,\n",
       "                                                                                 sparse=False))]),\n",
       "                                                  [&#x27;facility_code&#x27;])])),\n",
       "                (&#x27;standardscaler&#x27;, StandardScaler())])</pre></div></div></div><div class=\"sk-serial\"><div class=\"sk-item sk-dashed-wrapped\"><div class=\"sk-label-container\"><div class=\"sk-label sk-toggleable\"><input class=\"sk-toggleable__control sk-hidden--visually\" id=\"sk-estimator-id-18\" type=\"checkbox\" ><label for=\"sk-estimator-id-18\" class=\"sk-toggleable__label sk-toggleable__label-arrow\">columntransformer: ColumnTransformer</label><div class=\"sk-toggleable__content\"><pre>ColumnTransformer(remainder=&#x27;passthrough&#x27;,\n",
       "                  transformers=[(&#x27;onehotencoder&#x27;,\n",
       "                                 OneHotEncoder(handle_unknown=&#x27;ignore&#x27;,\n",
       "                                               sparse=False),\n",
       "                                 [&#x27;section_type&#x27;, &#x27;instructor_id&#x27;, &#x27;start_time&#x27;,\n",
       "                                  &#x27;subject_name&#x27;, &#x27;year&#x27;, &#x27;course_difficulty&#x27;,\n",
       "                                  &#x27;schedule_days&#x27;, &#x27;days_per_week&#x27;,\n",
       "                                  &#x27;class_size&#x27;]),\n",
       "                                (&#x27;pipeline&#x27;,\n",
       "                                 Pipeline(steps=[(&#x27;simpleimputer&#x27;,\n",
       "                                                  SimpleImputer(fill_value=&#x27;missing&#x27;,\n",
       "                                                                strategy=&#x27;constant&#x27;)),\n",
       "                                                 (&#x27;onehotencoder&#x27;,\n",
       "                                                  OneHotEncoder(handle_unknown=&#x27;ignore&#x27;,\n",
       "                                                                sparse=False))]),\n",
       "                                 [&#x27;facility_code&#x27;])])</pre></div></div></div><div class=\"sk-parallel\"><div class=\"sk-parallel-item\"><div class=\"sk-item\"><div class=\"sk-label-container\"><div class=\"sk-label sk-toggleable\"><input class=\"sk-toggleable__control sk-hidden--visually\" id=\"sk-estimator-id-19\" type=\"checkbox\" ><label for=\"sk-estimator-id-19\" class=\"sk-toggleable__label sk-toggleable__label-arrow\">onehotencoder</label><div class=\"sk-toggleable__content\"><pre>[&#x27;section_type&#x27;, &#x27;instructor_id&#x27;, &#x27;start_time&#x27;, &#x27;subject_name&#x27;, &#x27;year&#x27;, &#x27;course_difficulty&#x27;, &#x27;schedule_days&#x27;, &#x27;days_per_week&#x27;, &#x27;class_size&#x27;]</pre></div></div></div><div class=\"sk-serial\"><div class=\"sk-item\"><div class=\"sk-estimator sk-toggleable\"><input class=\"sk-toggleable__control sk-hidden--visually\" id=\"sk-estimator-id-20\" type=\"checkbox\" ><label for=\"sk-estimator-id-20\" class=\"sk-toggleable__label sk-toggleable__label-arrow\">OneHotEncoder</label><div class=\"sk-toggleable__content\"><pre>OneHotEncoder(handle_unknown=&#x27;ignore&#x27;, sparse=False)</pre></div></div></div></div></div></div><div class=\"sk-parallel-item\"><div class=\"sk-item\"><div class=\"sk-label-container\"><div class=\"sk-label sk-toggleable\"><input class=\"sk-toggleable__control sk-hidden--visually\" id=\"sk-estimator-id-21\" type=\"checkbox\" ><label for=\"sk-estimator-id-21\" class=\"sk-toggleable__label sk-toggleable__label-arrow\">pipeline</label><div class=\"sk-toggleable__content\"><pre>[&#x27;facility_code&#x27;]</pre></div></div></div><div class=\"sk-serial\"><div class=\"sk-item\"><div class=\"sk-serial\"><div class=\"sk-item\"><div class=\"sk-estimator sk-toggleable\"><input class=\"sk-toggleable__control sk-hidden--visually\" id=\"sk-estimator-id-22\" type=\"checkbox\" ><label for=\"sk-estimator-id-22\" class=\"sk-toggleable__label sk-toggleable__label-arrow\">SimpleImputer</label><div class=\"sk-toggleable__content\"><pre>SimpleImputer(fill_value=&#x27;missing&#x27;, strategy=&#x27;constant&#x27;)</pre></div></div></div><div class=\"sk-item\"><div class=\"sk-estimator sk-toggleable\"><input class=\"sk-toggleable__control sk-hidden--visually\" id=\"sk-estimator-id-23\" type=\"checkbox\" ><label for=\"sk-estimator-id-23\" class=\"sk-toggleable__label sk-toggleable__label-arrow\">OneHotEncoder</label><div class=\"sk-toggleable__content\"><pre>OneHotEncoder(handle_unknown=&#x27;ignore&#x27;, sparse=False)</pre></div></div></div></div></div></div></div></div><div class=\"sk-parallel-item\"><div class=\"sk-item\"><div class=\"sk-label-container\"><div class=\"sk-label sk-toggleable\"><input class=\"sk-toggleable__control sk-hidden--visually\" id=\"sk-estimator-id-24\" type=\"checkbox\" ><label for=\"sk-estimator-id-24\" class=\"sk-toggleable__label sk-toggleable__label-arrow\">remainder</label><div class=\"sk-toggleable__content\"><pre>[&#x27;is_spring&#x27;, &#x27;is_longer&#x27;]</pre></div></div></div><div class=\"sk-serial\"><div class=\"sk-item\"><div class=\"sk-estimator sk-toggleable\"><input class=\"sk-toggleable__control sk-hidden--visually\" id=\"sk-estimator-id-25\" type=\"checkbox\" ><label for=\"sk-estimator-id-25\" class=\"sk-toggleable__label sk-toggleable__label-arrow\">passthrough</label><div class=\"sk-toggleable__content\"><pre>passthrough</pre></div></div></div></div></div></div></div></div><div class=\"sk-item\"><div class=\"sk-estimator sk-toggleable\"><input class=\"sk-toggleable__control sk-hidden--visually\" id=\"sk-estimator-id-26\" type=\"checkbox\" ><label for=\"sk-estimator-id-26\" class=\"sk-toggleable__label sk-toggleable__label-arrow\">StandardScaler</label><div class=\"sk-toggleable__content\"><pre>StandardScaler()</pre></div></div></div></div></div></div></div>"
      ],
      "text/plain": [
       "Pipeline(steps=[('columntransformer',\n",
       "                 ColumnTransformer(remainder='passthrough',\n",
       "                                   transformers=[('onehotencoder',\n",
       "                                                  OneHotEncoder(handle_unknown='ignore',\n",
       "                                                                sparse=False),\n",
       "                                                  ['section_type',\n",
       "                                                   'instructor_id',\n",
       "                                                   'start_time', 'subject_name',\n",
       "                                                   'year', 'course_difficulty',\n",
       "                                                   'schedule_days',\n",
       "                                                   'days_per_week',\n",
       "                                                   'class_size']),\n",
       "                                                 ('pipeline',\n",
       "                                                  Pipeline(steps=[('simpleimputer',\n",
       "                                                                   SimpleImputer(fill_value='missing',\n",
       "                                                                                 strategy='constant')),\n",
       "                                                                  ('onehotencoder',\n",
       "                                                                   OneHotEncoder(handle_unknown='ignore',\n",
       "                                                                                 sparse=False))]),\n",
       "                                                  ['facility_code'])])),\n",
       "                ('standardscaler', StandardScaler())])"
      ]
     },
     "execution_count": 135,
     "metadata": {},
     "output_type": "execute_result"
    }
   ],
   "source": [
    "# make a preprocessor for our feature-engineered dataset with a scaler\n",
    "# PCA requires all data to be scaled\n",
    "scaler = StandardScaler()\n",
    "\n",
    "preprocessor2_and_scaler = make_pipeline(preprocessor2, scaler)\n",
    "\n",
    "# check\n",
    "preprocessor2_and_scaler"
   ]
  },
  {
   "cell_type": "code",
   "execution_count": 136,
   "metadata": {},
   "outputs": [
    {
     "name": "stdout",
     "output_type": "stream",
     "text": [
      "<class 'pandas.core.frame.DataFrame'>\n",
      "Int64Index: 49286 entries, 0 to 50205\n",
      "Data columns (total 13 columns):\n",
      " #   Column             Non-Null Count  Dtype  \n",
      "---  ------             --------------  -----  \n",
      " 0   section_type       49286 non-null  object \n",
      " 1   instructor_id      49286 non-null  object \n",
      " 2   facility_code      45608 non-null  object \n",
      " 3   start_time         49286 non-null  object \n",
      " 4   subject_name       49286 non-null  object \n",
      " 5   class_size         49286 non-null  object \n",
      " 6   avg_letter_grade   49286 non-null  float64\n",
      " 7   year               49286 non-null  int64  \n",
      " 8   is_spring          49286 non-null  int64  \n",
      " 9   is_longer          49286 non-null  int64  \n",
      " 10  course_difficulty  49286 non-null  object \n",
      " 11  days_per_week      49286 non-null  int64  \n",
      " 12  schedule_days      49286 non-null  object \n",
      "dtypes: float64(1), int64(4), object(8)\n",
      "memory usage: 6.3+ MB\n"
     ]
    }
   ],
   "source": [
    "df_fe.info()"
   ]
  },
  {
   "cell_type": "code",
   "execution_count": 137,
   "metadata": {},
   "outputs": [
    {
     "name": "stdout",
     "output_type": "stream",
     "text": [
      "465\n"
     ]
    }
   ],
   "source": [
    "# how many columns will our data have once it is one-hot encoded?\n",
    "\n",
    "count_cols = 0\n",
    "\n",
    "for col in df_fe.columns:\n",
    "    if col == 'avg_letter_grade':\n",
    "        count_cols += 1\n",
    "    else:\n",
    "        count_cols += df_fe[col].nunique()\n",
    "\n",
    "print(count_cols)"
   ]
  },
  {
   "cell_type": "code",
   "execution_count": 138,
   "metadata": {},
   "outputs": [],
   "source": [
    "# fit and transform preprocessor2_and_scaler on df_fe\n",
    "preprocessed_and_scaled_df_fe = preprocessor2_and_scaler.fit_transform(df_fe)"
   ]
  },
  {
   "cell_type": "code",
   "execution_count": 139,
   "metadata": {},
   "outputs": [
    {
     "data": {
      "text/html": [
       "<style>#sk-container-id-4 {color: black;background-color: white;}#sk-container-id-4 pre{padding: 0;}#sk-container-id-4 div.sk-toggleable {background-color: white;}#sk-container-id-4 label.sk-toggleable__label {cursor: pointer;display: block;width: 100%;margin-bottom: 0;padding: 0.3em;box-sizing: border-box;text-align: center;}#sk-container-id-4 label.sk-toggleable__label-arrow:before {content: \"▸\";float: left;margin-right: 0.25em;color: #696969;}#sk-container-id-4 label.sk-toggleable__label-arrow:hover:before {color: black;}#sk-container-id-4 div.sk-estimator:hover label.sk-toggleable__label-arrow:before {color: black;}#sk-container-id-4 div.sk-toggleable__content {max-height: 0;max-width: 0;overflow: hidden;text-align: left;background-color: #f0f8ff;}#sk-container-id-4 div.sk-toggleable__content pre {margin: 0.2em;color: black;border-radius: 0.25em;background-color: #f0f8ff;}#sk-container-id-4 input.sk-toggleable__control:checked~div.sk-toggleable__content {max-height: 200px;max-width: 100%;overflow: auto;}#sk-container-id-4 input.sk-toggleable__control:checked~label.sk-toggleable__label-arrow:before {content: \"▾\";}#sk-container-id-4 div.sk-estimator input.sk-toggleable__control:checked~label.sk-toggleable__label {background-color: #d4ebff;}#sk-container-id-4 div.sk-label input.sk-toggleable__control:checked~label.sk-toggleable__label {background-color: #d4ebff;}#sk-container-id-4 input.sk-hidden--visually {border: 0;clip: rect(1px 1px 1px 1px);clip: rect(1px, 1px, 1px, 1px);height: 1px;margin: -1px;overflow: hidden;padding: 0;position: absolute;width: 1px;}#sk-container-id-4 div.sk-estimator {font-family: monospace;background-color: #f0f8ff;border: 1px dotted black;border-radius: 0.25em;box-sizing: border-box;margin-bottom: 0.5em;}#sk-container-id-4 div.sk-estimator:hover {background-color: #d4ebff;}#sk-container-id-4 div.sk-parallel-item::after {content: \"\";width: 100%;border-bottom: 1px solid gray;flex-grow: 1;}#sk-container-id-4 div.sk-label:hover label.sk-toggleable__label {background-color: #d4ebff;}#sk-container-id-4 div.sk-serial::before {content: \"\";position: absolute;border-left: 1px solid gray;box-sizing: border-box;top: 0;bottom: 0;left: 50%;z-index: 0;}#sk-container-id-4 div.sk-serial {display: flex;flex-direction: column;align-items: center;background-color: white;padding-right: 0.2em;padding-left: 0.2em;position: relative;}#sk-container-id-4 div.sk-item {position: relative;z-index: 1;}#sk-container-id-4 div.sk-parallel {display: flex;align-items: stretch;justify-content: center;background-color: white;position: relative;}#sk-container-id-4 div.sk-item::before, #sk-container-id-4 div.sk-parallel-item::before {content: \"\";position: absolute;border-left: 1px solid gray;box-sizing: border-box;top: 0;bottom: 0;left: 50%;z-index: -1;}#sk-container-id-4 div.sk-parallel-item {display: flex;flex-direction: column;z-index: 1;position: relative;background-color: white;}#sk-container-id-4 div.sk-parallel-item:first-child::after {align-self: flex-end;width: 50%;}#sk-container-id-4 div.sk-parallel-item:last-child::after {align-self: flex-start;width: 50%;}#sk-container-id-4 div.sk-parallel-item:only-child::after {width: 0;}#sk-container-id-4 div.sk-dashed-wrapped {border: 1px dashed gray;margin: 0 0.4em 0.5em 0.4em;box-sizing: border-box;padding-bottom: 0.4em;background-color: white;}#sk-container-id-4 div.sk-label label {font-family: monospace;font-weight: bold;display: inline-block;line-height: 1.2em;}#sk-container-id-4 div.sk-label-container {text-align: center;}#sk-container-id-4 div.sk-container {/* jupyter's `normalize.less` sets `[hidden] { display: none; }` but bootstrap.min.css set `[hidden] { display: none !important; }` so we also need the `!important` here to be able to override the default hidden behavior on the sphinx rendered scikit-learn.org. See: https://github.com/scikit-learn/scikit-learn/issues/21755 */display: inline-block !important;position: relative;}#sk-container-id-4 div.sk-text-repr-fallback {display: none;}</style><div id=\"sk-container-id-4\" class=\"sk-top-container\"><div class=\"sk-text-repr-fallback\"><pre>PCA(n_components=464)</pre><b>In a Jupyter environment, please rerun this cell to show the HTML representation or trust the notebook. <br />On GitHub, the HTML representation is unable to render, please try loading this page with nbviewer.org.</b></div><div class=\"sk-container\" hidden><div class=\"sk-item\"><div class=\"sk-estimator sk-toggleable\"><input class=\"sk-toggleable__control sk-hidden--visually\" id=\"sk-estimator-id-27\" type=\"checkbox\" checked><label for=\"sk-estimator-id-27\" class=\"sk-toggleable__label sk-toggleable__label-arrow\">PCA</label><div class=\"sk-toggleable__content\"><pre>PCA(n_components=464)</pre></div></div></div></div></div>"
      ],
      "text/plain": [
       "PCA(n_components=464)"
      ]
     },
     "execution_count": 139,
     "metadata": {},
     "output_type": "execute_result"
    }
   ],
   "source": [
    "# instantiate pca\n",
    "pca = PCA(n_components = 464)\n",
    "\n",
    "# fit pca on preprocessed_and_scaled_df_fe\n",
    "pca.fit(preprocessed_and_scaled_df_fe)"
   ]
  },
  {
   "cell_type": "code",
   "execution_count": 140,
   "metadata": {},
   "outputs": [
    {
     "data": {
      "text/plain": [
       "464"
      ]
     },
     "execution_count": 140,
     "metadata": {},
     "output_type": "execute_result"
    }
   ],
   "source": [
    "len(pca.explained_variance_ratio_)"
   ]
  },
  {
   "cell_type": "code",
   "execution_count": 141,
   "metadata": {},
   "outputs": [
    {
     "name": "stdout",
     "output_type": "stream",
     "text": [
      "Knee point: 55\n"
     ]
    },
    {
     "data": {
      "image/png": "[encoded data removed]",
      "text/plain": [
       "<Figure size 640x480 with 1 Axes>"
      ]
     },
     "metadata": {},
     "output_type": "display_data"
    }
   ],
   "source": [
    "# determine good number of pcs to use\n",
    "# plot explained variance ratios of max number of pcs\n",
    "plt.plot(range(1, 465), pca.explained_variance_ratio_[:465], marker = '.')\n",
    "plt.xticks(ticks = range(1, 465), fontsize = 8)\n",
    "plt.xlabel('number of pcs')\n",
    "plt.ylabel('proportion of explained variance')\n",
    "\n",
    "# find the knee point using the KneeLocator function\n",
    "knee_locator = KneeLocator(range(1, 465), \n",
    "                           pca.explained_variance_ratio_[:465], \n",
    "                           curve = 'convex', \n",
    "                           direction = 'decreasing',\n",
    "                           interp_method = 'polynomial')\n",
    "knee = knee_locator.knee\n",
    "plt.axvline(x = knee, color = 'red')\n",
    "\n",
    "print('Knee point:', knee)"
   ]
  },
  {
   "cell_type": "code",
   "execution_count": 142,
   "metadata": {},
   "outputs": [
    {
     "data": {
      "image/png": "[encoded data removed]",
      "text/plain": [
       "<Figure size 15000x800 with 1 Axes>"
      ]
     },
     "metadata": {},
     "output_type": "display_data"
    }
   ],
   "source": [
    "# Lets visual the cummulative sum of the variances \n",
    "\n",
    "plt.style.use(\"seaborn\")\n",
    "plt.figure(figsize=(150,8))\n",
    "exp_var = pd.Series(pca.explained_variance_ratio_)\n",
    "\n",
    "# Plot the variance for each component\n",
    "exp_var.plot(kind=\"bar\", alpha=0.7) # plot bar chart\n",
    "\n",
    "# Calculate the amount of variance explained added by each additional component\n",
    "total = 0\n",
    "var_ls = []\n",
    "for x in exp_var:\n",
    "    total = total+x\n",
    "    var_ls.append(total)\n",
    "    \n",
    "# Plot line chart of increasing variances\n",
    "pd.Series(var_ls).plot(alpha=0.7) \n",
    "# marker=\"o\"\n",
    "\n",
    "# Plot labels and titles\n",
    "plt.xlabel(\"Principle Components\", fontsize=\"x-large\")\n",
    "plt.ylabel(\"Percentage Variance Explained\", fontsize=\"x-large\")\n",
    "plt.title(\"grades Scree Plot\", fontsize=\"xx-large\")\n",
    "plt.show();"
   ]
  },
  {
   "cell_type": "markdown",
   "metadata": {},
   "source": [
    "# Final Tuning"
   ]
  },
  {
   "cell_type": "markdown",
   "metadata": {},
   "source": [
    "Here we will take our top-performing model, the XXX, and tune it further since we have reduced dimensionality and increased speed with PCA."
   ]
  },
  {
   "cell_type": "markdown",
   "metadata": {
    "id": "_ItsgC3LqRSy"
   },
   "source": [
    "# Model Decision (Regression)"
   ]
  },
  {
   "cell_type": "markdown",
   "metadata": {},
   "source": [
    "Let's see the results of all the models we've made so far."
   ]
  },
  {
   "cell_type": "code",
   "execution_count": 143,
   "metadata": {
    "colab": {
     "base_uri": "https://localhost:8080/",
     "height": 457
    },
    "id": "jPvxf6qNJw1i",
    "outputId": "7b4e6c1c-8a2b-47fb-c605-5412f2926633"
   },
   "outputs": [
    {
     "data": {
      "text/html": [
       "<div>\n",
       "<style scoped>\n",
       "    .dataframe tbody tr th:only-of-type {\n",
       "        vertical-align: middle;\n",
       "    }\n",
       "\n",
       "    .dataframe tbody tr th {\n",
       "        vertical-align: top;\n",
       "    }\n",
       "\n",
       "    .dataframe thead th {\n",
       "        text-align: right;\n",
       "    }\n",
       "</style>\n",
       "<table border=\"1\" class=\"dataframe\">\n",
       "  <thead>\n",
       "    <tr style=\"text-align: right;\">\n",
       "      <th></th>\n",
       "      <th>Train R2</th>\n",
       "      <th>Test R2</th>\n",
       "      <th>Train MAE</th>\n",
       "      <th>Test MAE</th>\n",
       "      <th>Train MAPE</th>\n",
       "      <th>Test MAPE</th>\n",
       "      <th>Train RMSE</th>\n",
       "      <th>Test RMSE</th>\n",
       "    </tr>\n",
       "  </thead>\n",
       "  <tbody>\n",
       "    <tr>\n",
       "      <th>Tun GBR</th>\n",
       "      <td>0.878626</td>\n",
       "      <td>6.341327e-01</td>\n",
       "      <td>0.938064</td>\n",
       "      <td>1.679331e-01</td>\n",
       "      <td>0.116179</td>\n",
       "      <td>4.995710e-01</td>\n",
       "      <td>0.130387</td>\n",
       "      <td>2.266545e-01</td>\n",
       "    </tr>\n",
       "    <tr>\n",
       "      <th>Def RF</th>\n",
       "      <td>0.942911</td>\n",
       "      <td>6.249257e-01</td>\n",
       "      <td>0.647630</td>\n",
       "      <td>1.689894e-01</td>\n",
       "      <td>0.192624</td>\n",
       "      <td>1.461970e-01</td>\n",
       "      <td>0.895258</td>\n",
       "      <td>2.304757e-01</td>\n",
       "    </tr>\n",
       "    <tr>\n",
       "      <th>Tun BR</th>\n",
       "      <td>0.940895</td>\n",
       "      <td>6.217327e-01</td>\n",
       "      <td>0.654441</td>\n",
       "      <td>1.697671e-01</td>\n",
       "      <td>0.194667</td>\n",
       "      <td>1.461970e-01</td>\n",
       "      <td>0.910928</td>\n",
       "      <td>2.314546e-01</td>\n",
       "    </tr>\n",
       "    <tr>\n",
       "      <th>Tun XGB</th>\n",
       "      <td>0.849687</td>\n",
       "      <td>6.199189e-01</td>\n",
       "      <td>0.105860</td>\n",
       "      <td>1.709640e-01</td>\n",
       "      <td>0.312667</td>\n",
       "      <td>1.438637e-01</td>\n",
       "      <td>0.145268</td>\n",
       "      <td>2.320089e-01</td>\n",
       "    </tr>\n",
       "    <tr>\n",
       "      <th>Tun RF</th>\n",
       "      <td>0.878312</td>\n",
       "      <td>6.185071e-01</td>\n",
       "      <td>0.979121</td>\n",
       "      <td>1.756538e-01</td>\n",
       "      <td>0.291020</td>\n",
       "      <td>1.442124e-01</td>\n",
       "      <td>0.130706</td>\n",
       "      <td>2.324394e-01</td>\n",
       "    </tr>\n",
       "    <tr>\n",
       "      <th>Def XGB</th>\n",
       "      <td>0.662758</td>\n",
       "      <td>6.082175e-01</td>\n",
       "      <td>0.166119</td>\n",
       "      <td>1.788502e-01</td>\n",
       "      <td>0.049333</td>\n",
       "      <td>1.411779e+12</td>\n",
       "      <td>0.217592</td>\n",
       "      <td>2.355532e-01</td>\n",
       "    </tr>\n",
       "    <tr>\n",
       "      <th>Tun KNN</th>\n",
       "      <td>0.676508</td>\n",
       "      <td>6.069203e-01</td>\n",
       "      <td>0.159823</td>\n",
       "      <td>1.754335e-01</td>\n",
       "      <td>0.474103</td>\n",
       "      <td>1.461970e-01</td>\n",
       "      <td>0.213110</td>\n",
       "      <td>2.359428e-01</td>\n",
       "    </tr>\n",
       "    <tr>\n",
       "      <th>FE Tun XGB</th>\n",
       "      <td>0.830544</td>\n",
       "      <td>6.037640e-01</td>\n",
       "      <td>0.110775</td>\n",
       "      <td>1.746133e-01</td>\n",
       "      <td>0.032827</td>\n",
       "      <td>1.452977e+12</td>\n",
       "      <td>0.154241</td>\n",
       "      <td>2.368882e-01</td>\n",
       "    </tr>\n",
       "    <tr>\n",
       "      <th>Def BR</th>\n",
       "      <td>0.924526</td>\n",
       "      <td>5.958595e-01</td>\n",
       "      <td>0.070402</td>\n",
       "      <td>1.750572e-01</td>\n",
       "      <td>0.020931</td>\n",
       "      <td>1.461970e+12</td>\n",
       "      <td>0.102937</td>\n",
       "      <td>2.392394e-01</td>\n",
       "    </tr>\n",
       "    <tr>\n",
       "      <th>Def KNN</th>\n",
       "      <td>0.731460</td>\n",
       "      <td>5.949229e-01</td>\n",
       "      <td>0.143458</td>\n",
       "      <td>1.753353e-01</td>\n",
       "      <td>0.425853</td>\n",
       "      <td>1.461970e-01</td>\n",
       "      <td>0.194167</td>\n",
       "      <td>2.395164e-01</td>\n",
       "    </tr>\n",
       "    <tr>\n",
       "      <th>Def LGBM</th>\n",
       "      <td>0.614156</td>\n",
       "      <td>5.922337e-01</td>\n",
       "      <td>0.178591</td>\n",
       "      <td>1.835697e-01</td>\n",
       "      <td>0.053114</td>\n",
       "      <td>1.411605e+12</td>\n",
       "      <td>0.232743</td>\n",
       "      <td>2.403102e-01</td>\n",
       "    </tr>\n",
       "    <tr>\n",
       "      <th>FE Def RF</th>\n",
       "      <td>0.900395</td>\n",
       "      <td>5.860328e-01</td>\n",
       "      <td>0.080628</td>\n",
       "      <td>1.762535e-01</td>\n",
       "      <td>0.024098</td>\n",
       "      <td>1.453729e+12</td>\n",
       "      <td>0.118253</td>\n",
       "      <td>2.421305e-01</td>\n",
       "    </tr>\n",
       "    <tr>\n",
       "      <th>FE Tun BR</th>\n",
       "      <td>0.900035</td>\n",
       "      <td>5.852773e-01</td>\n",
       "      <td>0.080683</td>\n",
       "      <td>1.762348e-01</td>\n",
       "      <td>0.024114</td>\n",
       "      <td>1.458694e+12</td>\n",
       "      <td>0.118466</td>\n",
       "      <td>2.423513e-01</td>\n",
       "    </tr>\n",
       "    <tr>\n",
       "      <th>FE Tun GBR</th>\n",
       "      <td>0.819165</td>\n",
       "      <td>5.801921e-01</td>\n",
       "      <td>0.115298</td>\n",
       "      <td>1.799742e-01</td>\n",
       "      <td>0.034022</td>\n",
       "      <td>1.431488e+12</td>\n",
       "      <td>0.159336</td>\n",
       "      <td>2.438326e-01</td>\n",
       "    </tr>\n",
       "    <tr>\n",
       "      <th>Tun LGBM</th>\n",
       "      <td>0.573122</td>\n",
       "      <td>5.610517e-01</td>\n",
       "      <td>0.190245</td>\n",
       "      <td>1.927721e-01</td>\n",
       "      <td>0.565736</td>\n",
       "      <td>1.372656e-01</td>\n",
       "      <td>0.244806</td>\n",
       "      <td>2.493292e-01</td>\n",
       "    </tr>\n",
       "    <tr>\n",
       "      <th>Tun DT</th>\n",
       "      <td>0.597107</td>\n",
       "      <td>4.969084e-01</td>\n",
       "      <td>0.176257</td>\n",
       "      <td>2.004229e-01</td>\n",
       "      <td>0.519210</td>\n",
       "      <td>1.339670e-01</td>\n",
       "      <td>0.237829</td>\n",
       "      <td>2.669254e-01</td>\n",
       "    </tr>\n",
       "    <tr>\n",
       "      <th>Def GBR</th>\n",
       "      <td>0.488740</td>\n",
       "      <td>4.883588e-01</td>\n",
       "      <td>0.211815</td>\n",
       "      <td>2.117275e-01</td>\n",
       "      <td>0.062955</td>\n",
       "      <td>1.380416e+12</td>\n",
       "      <td>0.267912</td>\n",
       "      <td>2.691840e-01</td>\n",
       "    </tr>\n",
       "    <tr>\n",
       "      <th>Def DT</th>\n",
       "      <td>0.992704</td>\n",
       "      <td>3.446065e-01</td>\n",
       "      <td>0.004587</td>\n",
       "      <td>2.184527e-01</td>\n",
       "      <td>0.001355</td>\n",
       "      <td>1.461970e+12</td>\n",
       "      <td>0.032005</td>\n",
       "      <td>3.046615e-01</td>\n",
       "    </tr>\n",
       "    <tr>\n",
       "      <th>Dummy</th>\n",
       "      <td>0.000000</td>\n",
       "      <td>-1.160561e-06</td>\n",
       "      <td>0.309401</td>\n",
       "      <td>3.096759e-01</td>\n",
       "      <td>0.092287</td>\n",
       "      <td>1.285574e+12</td>\n",
       "      <td>0.374689</td>\n",
       "      <td>3.763282e-01</td>\n",
       "    </tr>\n",
       "    <tr>\n",
       "      <th>Linear</th>\n",
       "      <td>0.556080</td>\n",
       "      <td>-6.775095e+18</td>\n",
       "      <td>0.191143</td>\n",
       "      <td>1.356573e+07</td>\n",
       "      <td>0.056788</td>\n",
       "      <td>1.458048e+12</td>\n",
       "      <td>0.249645</td>\n",
       "      <td>9.795445e+08</td>\n",
       "    </tr>\n",
       "  </tbody>\n",
       "</table>\n",
       "</div>"
      ],
      "text/plain": [
       "            Train R2       Test R2  Train MAE      Test MAE  Train MAPE  \\\n",
       "Tun GBR     0.878626  6.341327e-01   0.938064  1.679331e-01    0.116179   \n",
       "Def RF      0.942911  6.249257e-01   0.647630  1.689894e-01    0.192624   \n",
       "Tun BR      0.940895  6.217327e-01   0.654441  1.697671e-01    0.194667   \n",
       "Tun XGB     0.849687  6.199189e-01   0.105860  1.709640e-01    0.312667   \n",
       "Tun RF      0.878312  6.185071e-01   0.979121  1.756538e-01    0.291020   \n",
       "Def XGB     0.662758  6.082175e-01   0.166119  1.788502e-01    0.049333   \n",
       "Tun KNN     0.676508  6.069203e-01   0.159823  1.754335e-01    0.474103   \n",
       "FE Tun XGB  0.830544  6.037640e-01   0.110775  1.746133e-01    0.032827   \n",
       "Def BR      0.924526  5.958595e-01   0.070402  1.750572e-01    0.020931   \n",
       "Def KNN     0.731460  5.949229e-01   0.143458  1.753353e-01    0.425853   \n",
       "Def LGBM    0.614156  5.922337e-01   0.178591  1.835697e-01    0.053114   \n",
       "FE Def RF   0.900395  5.860328e-01   0.080628  1.762535e-01    0.024098   \n",
       "FE Tun BR   0.900035  5.852773e-01   0.080683  1.762348e-01    0.024114   \n",
       "FE Tun GBR  0.819165  5.801921e-01   0.115298  1.799742e-01    0.034022   \n",
       "Tun LGBM    0.573122  5.610517e-01   0.190245  1.927721e-01    0.565736   \n",
       "Tun DT      0.597107  4.969084e-01   0.176257  2.004229e-01    0.519210   \n",
       "Def GBR     0.488740  4.883588e-01   0.211815  2.117275e-01    0.062955   \n",
       "Def DT      0.992704  3.446065e-01   0.004587  2.184527e-01    0.001355   \n",
       "Dummy       0.000000 -1.160561e-06   0.309401  3.096759e-01    0.092287   \n",
       "Linear      0.556080 -6.775095e+18   0.191143  1.356573e+07    0.056788   \n",
       "\n",
       "               Test MAPE  Train RMSE     Test RMSE  \n",
       "Tun GBR     4.995710e-01    0.130387  2.266545e-01  \n",
       "Def RF      1.461970e-01    0.895258  2.304757e-01  \n",
       "Tun BR      1.461970e-01    0.910928  2.314546e-01  \n",
       "Tun XGB     1.438637e-01    0.145268  2.320089e-01  \n",
       "Tun RF      1.442124e-01    0.130706  2.324394e-01  \n",
       "Def XGB     1.411779e+12    0.217592  2.355532e-01  \n",
       "Tun KNN     1.461970e-01    0.213110  2.359428e-01  \n",
       "FE Tun XGB  1.452977e+12    0.154241  2.368882e-01  \n",
       "Def BR      1.461970e+12    0.102937  2.392394e-01  \n",
       "Def KNN     1.461970e-01    0.194167  2.395164e-01  \n",
       "Def LGBM    1.411605e+12    0.232743  2.403102e-01  \n",
       "FE Def RF   1.453729e+12    0.118253  2.421305e-01  \n",
       "FE Tun BR   1.458694e+12    0.118466  2.423513e-01  \n",
       "FE Tun GBR  1.431488e+12    0.159336  2.438326e-01  \n",
       "Tun LGBM    1.372656e-01    0.244806  2.493292e-01  \n",
       "Tun DT      1.339670e-01    0.237829  2.669254e-01  \n",
       "Def GBR     1.380416e+12    0.267912  2.691840e-01  \n",
       "Def DT      1.461970e+12    0.032005  3.046615e-01  \n",
       "Dummy       1.285574e+12    0.374689  3.763282e-01  \n",
       "Linear      1.458048e+12    0.249645  9.795445e+08  "
      ]
     },
     "execution_count": 143,
     "metadata": {},
     "output_type": "execute_result"
    }
   ],
   "source": [
    "metrics_df.sort_values(by = 'Test R2', ascending = False)"
   ]
  },
  {
   "cell_type": "markdown",
   "metadata": {},
   "source": [
    "## Summary of Modeling Steps\n",
    "\n",
    "1. Created dummy and linear regression models.\n",
    "2. Created default and tuned versions of Decision Tree Regressor, Bagged Tree Regressor, Random Forest Regressor, K-Nearest Neighbors Regressor, Extreme Gradient Boosting Regressor, Light Gradient Boosting Machine Regressor, and Gradient Boosting Regressor models.\n",
    "3. Feature engineering: selected and transformed columns in dataset.\n",
    "4. Ran the Tuned XGB, Tuned BR, Default RF, and Tuned GBR on the feature-engineered dataset. \n",
    "5. Tried but decided against using PCA."
   ]
  },
  {
   "cell_type": "markdown",
   "metadata": {
    "id": "5niRmLwYp2MI"
   },
   "source": [
    "# Next Steps"
   ]
  },
  {
   "cell_type": "markdown",
   "metadata": {
    "id": "lJIHC50yp4Hj"
   },
   "source": [
    "1. Try to predict other targets (a_proportion, f_proportion)\n",
    "\n",
    "2. Convert to a classification problem (average grade targets 3.0-4.0, 2.0-3.0, 1.0-2.0, < 1.0, for example), to show ROC visualizations\n",
    "\n",
    "3. Go back to original data to keep number of grades given per class (size of class variable). "
   ]
  },
  {
   "cell_type": "code",
   "execution_count": null,
   "metadata": {
    "id": "BO2UpghXJ_QV"
   },
   "outputs": [],
   "source": []
  }
 ],
 "metadata": {
  "colab": {
   "authorship_tag": "ABX9TyNch6ghhRcvROVXsGOuI/kG",
   "collapsed_sections": [
    "rqvwfHWjNXoN",
    "_8ge-a3eOUNn",
    "5HHTDJYhXC4O",
    "WnJ0FgGEW7cD",
    "RKJWc83fWSnH",
    "1N-YE1IuJ9nk",
    "-PAzhFcGMvPj",
    "5c46Bws2pCZh",
    "QWd42KMArfgl",
    "0Fo7m7edpJhu",
    "i42dcB1ZpOYy",
    "I1k2abN1paSI",
    "zWO-nfJ1peuA",
    "qSWyaHSDp7nI"
   ],
   "include_colab_link": true,
   "provenance": []
  },
  "kernelspec": {
   "display_name": "Python 3 (ipykernel)",
   "language": "python",
   "name": "python3"
  },
  "language_info": {
   "codemirror_mode": {
    "name": "ipython",
    "version": 3
   },
   "file_extension": ".py",
   "mimetype": "text/x-python",
   "name": "python",
   "nbconvert_exporter": "python",
   "pygments_lexer": "ipython3",
   "version": "3.9.15"
  },
  "toc": {
   "base_numbering": 1,
   "nav_menu": {},
   "number_sections": false,
   "sideBar": true,
   "skip_h1_title": false,
   "title_cell": "Table of Contents",
   "title_sidebar": "Contents",
   "toc_cell": false,
   "toc_position": {},
   "toc_section_display": true,
   "toc_window_display": true
  }
 },
 "nbformat": 4,
 "nbformat_minor": 1
}

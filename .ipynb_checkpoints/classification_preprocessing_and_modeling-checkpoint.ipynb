{
 "cells": [
  {
   "cell_type": "markdown",
   "id": "55ef401a",
   "metadata": {},
   "source": [
    "# Classification"
   ]
  },
  {
   "cell_type": "markdown",
   "id": "1fdde77a",
   "metadata": {},
   "source": [
    "We will now try this problem as a classification problem instead of regression. We will transform the target into categories, and then try classification models to see how well the target class can be predicted."
   ]
  },
  {
   "cell_type": "markdown",
   "id": "bc8de6fa",
   "metadata": {},
   "source": [
    "# Preliminary Steps"
   ]
  },
  {
   "cell_type": "code",
   "execution_count": 103,
   "id": "493da718",
   "metadata": {},
   "outputs": [],
   "source": [
    "# import libraries\n",
    "\n",
    "import warnings\n",
    "warnings.filterwarnings('ignore')\n",
    "\n",
    "# general\n",
    "import numpy as np\n",
    "import pandas as pd\n",
    "\n",
    "# preprocessing\n",
    "from sklearn.preprocessing import OneHotEncoder, StandardScaler\n",
    "from sklearn.impute import SimpleImputer\n",
    "from sklearn.pipeline import make_pipeline\n",
    "from sklearn.compose import make_column_transformer\n",
    "from sklearn.model_selection import train_test_split\n",
    "\n",
    "# modeling\n",
    "from sklearn.dummy import DummyClassifier\n",
    "from sklearn.linear_model import LogisticRegression\n",
    "from sklearn.tree import DecisionTreeClassifier\n",
    "from sklearn.ensemble import BaggingClassifier, RandomForestClassifier, \\\n",
    "GradientBoostingClassifier\n",
    "from sklearn.neighbors import KNeighborsClassifier\n",
    "from lightgbm import LGBMClassifier\n",
    "from xgboost import XGBClassifier\n",
    "\n",
    "# evaluation\n",
    "from sklearn.metrics import classification_report, accuracy_score, \\\n",
    "precision_score, recall_score, ConfusionMatrixDisplay\n",
    "\n",
    "# tuning\n",
    "from sklearn.model_selection import GridSearchCV\n",
    "\n",
    "# feature engineering\n",
    "from sklearn.decomposition import PCA\n",
    "import matplotlib.pyplot as plt\n",
    "from sklearn import set_config\n",
    "set_config(display=\"text\")\n",
    "from kneed import KneeLocator\n",
    "\n"
   ]
  },
  {
   "cell_type": "code",
   "execution_count": 104,
   "id": "2ed945b3",
   "metadata": {},
   "outputs": [
    {
     "name": "stdout",
     "output_type": "stream",
     "text": [
      "<class 'pandas.core.frame.DataFrame'>\n",
      "Int64Index: 49012 entries, 12 to 64185\n",
      "Data columns (total 20 columns):\n",
      " #   Column             Non-Null Count  Dtype  \n",
      "---  ------             --------------  -----  \n",
      " 0   section_type       49012 non-null  object \n",
      " 1   instructor_id      49012 non-null  object \n",
      " 2   facility_code      45521 non-null  object \n",
      " 3   start_time         49012 non-null  float64\n",
      " 4   mon                49012 non-null  bool   \n",
      " 5   tues               49012 non-null  bool   \n",
      " 6   wed                49012 non-null  bool   \n",
      " 7   thurs              49012 non-null  bool   \n",
      " 8   fri                49012 non-null  bool   \n",
      " 9   subject_name       49012 non-null  object \n",
      " 10  course_name        49012 non-null  object \n",
      " 11  a_proportion       49012 non-null  float64\n",
      " 12  f_proportion       49012 non-null  float64\n",
      " 13  avg_grade          49012 non-null  float64\n",
      " 14  year               49012 non-null  int64  \n",
      " 15  term               49012 non-null  object \n",
      " 16  class_length       49012 non-null  float64\n",
      " 17  total_time         49012 non-null  int64  \n",
      " 18  weekend            49012 non-null  bool   \n",
      " 19  course_difficulty  49012 non-null  object \n",
      "dtypes: bool(6), float64(5), int64(2), object(7)\n",
      "memory usage: 5.9+ MB\n"
     ]
    }
   ],
   "source": [
    "# load data\n",
    "path = 'Data/all_grades_data_cleaned.csv'\n",
    "df = pd.read_csv(path, index_col = 0)\n",
    "\n",
    "# inspect\n",
    "df.info()"
   ]
  },
  {
   "cell_type": "code",
   "execution_count": 105,
   "id": "a1464eec",
   "metadata": {},
   "outputs": [],
   "source": [
    "# create copy to work on\n",
    "df1 = df.copy()"
   ]
  },
  {
   "cell_type": "code",
   "execution_count": 106,
   "id": "168d3aed",
   "metadata": {},
   "outputs": [
    {
     "data": {
      "text/plain": [
       "0"
      ]
     },
     "execution_count": 106,
     "metadata": {},
     "output_type": "execute_result"
    }
   ],
   "source": [
    "# check for duplicates\n",
    "df.duplicated().sum()"
   ]
  },
  {
   "cell_type": "code",
   "execution_count": 107,
   "id": "833d5f36",
   "metadata": {},
   "outputs": [
    {
     "data": {
      "text/plain": [
       "section_type            0\n",
       "instructor_id           0\n",
       "facility_code        3491\n",
       "start_time              0\n",
       "mon                     0\n",
       "tues                    0\n",
       "wed                     0\n",
       "thurs                   0\n",
       "fri                     0\n",
       "subject_name            0\n",
       "course_name             0\n",
       "a_proportion            0\n",
       "f_proportion            0\n",
       "avg_grade               0\n",
       "year                    0\n",
       "term                    0\n",
       "class_length            0\n",
       "total_time              0\n",
       "weekend                 0\n",
       "course_difficulty       0\n",
       "dtype: int64"
      ]
     },
     "execution_count": 107,
     "metadata": {},
     "output_type": "execute_result"
    }
   ],
   "source": [
    "# check for missing values\n",
    "df.isna().sum()\n",
    "\n",
    "# 'facility_code' is the only column with missing values; will need to impute"
   ]
  },
  {
   "cell_type": "markdown",
   "id": "28ff811e",
   "metadata": {},
   "source": [
    "# Feature Engineering (Before Pre-Processing)"
   ]
  },
  {
   "cell_type": "markdown",
   "id": "84060d6c",
   "metadata": {},
   "source": [
    "The schedule variables take up 6 columns for days of the week (Saturday and Sunday are combined in 'weekend'). However this doesn't capture the schedules of classes; there is a high probability of a class that is held on Monday also being held on Wednesday, for example. \n",
    "\n",
    "So, to reduce this collinearity, we will make new schedule-related columns related to the actual schedules of the courses."
   ]
  },
  {
   "cell_type": "markdown",
   "id": "fafca9eb",
   "metadata": {},
   "source": [
    "## Schedule"
   ]
  },
  {
   "cell_type": "code",
   "execution_count": 108,
   "id": "b33248f9",
   "metadata": {},
   "outputs": [
    {
     "name": "stdout",
     "output_type": "stream",
     "text": [
      "0    26559\n",
      "1    22453\n",
      "Name: mon, dtype: int64\n",
      "0    26559\n",
      "1    22453\n",
      "Name: mon, dtype: int64\n",
      "0    27148\n",
      "1    21864\n",
      "Name: tues, dtype: int64\n",
      "0    27148\n",
      "1    21864\n",
      "Name: tues, dtype: int64\n",
      "0    27180\n",
      "1    21832\n",
      "Name: wed, dtype: int64\n",
      "0    27180\n",
      "1    21832\n",
      "Name: wed, dtype: int64\n",
      "0    28022\n",
      "1    20990\n",
      "Name: thurs, dtype: int64\n",
      "0    28022\n",
      "1    20990\n",
      "Name: thurs, dtype: int64\n",
      "0    36491\n",
      "1    12521\n",
      "Name: fri, dtype: int64\n",
      "0    36491\n",
      "1    12521\n",
      "Name: fri, dtype: int64\n",
      "0    48747\n",
      "1      265\n",
      "Name: weekend, dtype: int64\n",
      "0    48747\n",
      "1      265\n",
      "Name: weekend, dtype: int64\n"
     ]
    }
   ],
   "source": [
    "# binary-encode days of week columns\n",
    "binary_cols = ['mon', 'tues', 'wed', 'thurs', 'fri', 'weekend']\n",
    "\n",
    "for col in binary_cols:\n",
    "    df1[col].replace({True: 1, False: 0}, inplace = True)\n",
    "    df1[col].replace({True: 1, False: 0}, inplace = True)\n",
    "\n",
    "# check\n",
    "for col in binary_cols:\n",
    "    print(df1[col].value_counts())\n",
    "    print(df1[col].value_counts())"
   ]
  },
  {
   "cell_type": "code",
   "execution_count": 109,
   "id": "2a6789e8",
   "metadata": {},
   "outputs": [
    {
     "data": {
      "text/html": [
       "<div>\n",
       "<style scoped>\n",
       "    .dataframe tbody tr th:only-of-type {\n",
       "        vertical-align: middle;\n",
       "    }\n",
       "\n",
       "    .dataframe tbody tr th {\n",
       "        vertical-align: top;\n",
       "    }\n",
       "\n",
       "    .dataframe thead th {\n",
       "        text-align: right;\n",
       "    }\n",
       "</style>\n",
       "<table border=\"1\" class=\"dataframe\">\n",
       "  <thead>\n",
       "    <tr style=\"text-align: right;\">\n",
       "      <th></th>\n",
       "      <th>mon</th>\n",
       "      <th>tues</th>\n",
       "      <th>wed</th>\n",
       "      <th>thurs</th>\n",
       "      <th>fri</th>\n",
       "      <th>weekend</th>\n",
       "      <th>days_per_week</th>\n",
       "    </tr>\n",
       "  </thead>\n",
       "  <tbody>\n",
       "    <tr>\n",
       "      <th>25830</th>\n",
       "      <td>0</td>\n",
       "      <td>1</td>\n",
       "      <td>0</td>\n",
       "      <td>1</td>\n",
       "      <td>0</td>\n",
       "      <td>0</td>\n",
       "      <td>2</td>\n",
       "    </tr>\n",
       "    <tr>\n",
       "      <th>31219</th>\n",
       "      <td>0</td>\n",
       "      <td>1</td>\n",
       "      <td>0</td>\n",
       "      <td>1</td>\n",
       "      <td>0</td>\n",
       "      <td>0</td>\n",
       "      <td>2</td>\n",
       "    </tr>\n",
       "    <tr>\n",
       "      <th>33334</th>\n",
       "      <td>0</td>\n",
       "      <td>1</td>\n",
       "      <td>0</td>\n",
       "      <td>1</td>\n",
       "      <td>0</td>\n",
       "      <td>0</td>\n",
       "      <td>2</td>\n",
       "    </tr>\n",
       "    <tr>\n",
       "      <th>17041</th>\n",
       "      <td>1</td>\n",
       "      <td>0</td>\n",
       "      <td>1</td>\n",
       "      <td>0</td>\n",
       "      <td>0</td>\n",
       "      <td>0</td>\n",
       "      <td>2</td>\n",
       "    </tr>\n",
       "    <tr>\n",
       "      <th>5219</th>\n",
       "      <td>0</td>\n",
       "      <td>0</td>\n",
       "      <td>0</td>\n",
       "      <td>0</td>\n",
       "      <td>0</td>\n",
       "      <td>0</td>\n",
       "      <td>0</td>\n",
       "    </tr>\n",
       "    <tr>\n",
       "      <th>33942</th>\n",
       "      <td>1</td>\n",
       "      <td>0</td>\n",
       "      <td>1</td>\n",
       "      <td>0</td>\n",
       "      <td>1</td>\n",
       "      <td>0</td>\n",
       "      <td>3</td>\n",
       "    </tr>\n",
       "    <tr>\n",
       "      <th>30710</th>\n",
       "      <td>1</td>\n",
       "      <td>0</td>\n",
       "      <td>1</td>\n",
       "      <td>0</td>\n",
       "      <td>1</td>\n",
       "      <td>0</td>\n",
       "      <td>3</td>\n",
       "    </tr>\n",
       "    <tr>\n",
       "      <th>32779</th>\n",
       "      <td>1</td>\n",
       "      <td>0</td>\n",
       "      <td>1</td>\n",
       "      <td>0</td>\n",
       "      <td>1</td>\n",
       "      <td>0</td>\n",
       "      <td>3</td>\n",
       "    </tr>\n",
       "    <tr>\n",
       "      <th>30015</th>\n",
       "      <td>1</td>\n",
       "      <td>0</td>\n",
       "      <td>1</td>\n",
       "      <td>0</td>\n",
       "      <td>0</td>\n",
       "      <td>0</td>\n",
       "      <td>2</td>\n",
       "    </tr>\n",
       "    <tr>\n",
       "      <th>3303</th>\n",
       "      <td>0</td>\n",
       "      <td>1</td>\n",
       "      <td>0</td>\n",
       "      <td>1</td>\n",
       "      <td>0</td>\n",
       "      <td>0</td>\n",
       "      <td>2</td>\n",
       "    </tr>\n",
       "  </tbody>\n",
       "</table>\n",
       "</div>"
      ],
      "text/plain": [
       "       mon  tues  wed  thurs  fri  weekend  days_per_week\n",
       "25830    0     1    0      1    0        0              2\n",
       "31219    0     1    0      1    0        0              2\n",
       "33334    0     1    0      1    0        0              2\n",
       "17041    1     0    1      0    0        0              2\n",
       "5219     0     0    0      0    0        0              0\n",
       "33942    1     0    1      0    1        0              3\n",
       "30710    1     0    1      0    1        0              3\n",
       "32779    1     0    1      0    1        0              3\n",
       "30015    1     0    1      0    0        0              2\n",
       "3303     0     1    0      1    0        0              2"
      ]
     },
     "execution_count": 109,
     "metadata": {},
     "output_type": "execute_result"
    }
   ],
   "source": [
    "# new column: how many days per week the course is held (numeric, to be \n",
    "# one-hot encoded); weekend counts as one day (can go back to original\n",
    "# data and change if needed)\n",
    "\n",
    "df1['days_per_week'] = df1['mon'] + df1['tues'] + df1['wed'] + \\\n",
    "                         df1['thurs'] + df1['fri'] + df1['weekend']\n",
    "\n",
    "# check\n",
    "df1[['mon', 'tues', 'wed', 'thurs', 'fri', 'weekend', 'days_per_week']].sample(10)"
   ]
  },
  {
   "cell_type": "code",
   "execution_count": 110,
   "id": "ba1aaa69",
   "metadata": {},
   "outputs": [
    {
     "data": {
      "text/html": [
       "<div>\n",
       "<style scoped>\n",
       "    .dataframe tbody tr th:only-of-type {\n",
       "        vertical-align: middle;\n",
       "    }\n",
       "\n",
       "    .dataframe tbody tr th {\n",
       "        vertical-align: top;\n",
       "    }\n",
       "\n",
       "    .dataframe thead th {\n",
       "        text-align: right;\n",
       "    }\n",
       "</style>\n",
       "<table border=\"1\" class=\"dataframe\">\n",
       "  <thead>\n",
       "    <tr style=\"text-align: right;\">\n",
       "      <th></th>\n",
       "      <th>mon</th>\n",
       "      <th>tues</th>\n",
       "      <th>wed</th>\n",
       "      <th>thurs</th>\n",
       "      <th>fri</th>\n",
       "      <th>weekend</th>\n",
       "    </tr>\n",
       "  </thead>\n",
       "  <tbody>\n",
       "    <tr>\n",
       "      <th>5901</th>\n",
       "      <td></td>\n",
       "      <td></td>\n",
       "      <td></td>\n",
       "      <td></td>\n",
       "      <td></td>\n",
       "      <td></td>\n",
       "    </tr>\n",
       "    <tr>\n",
       "      <th>32563</th>\n",
       "      <td>M</td>\n",
       "      <td></td>\n",
       "      <td>W</td>\n",
       "      <td></td>\n",
       "      <td>F</td>\n",
       "      <td></td>\n",
       "    </tr>\n",
       "    <tr>\n",
       "      <th>13323</th>\n",
       "      <td></td>\n",
       "      <td></td>\n",
       "      <td></td>\n",
       "      <td></td>\n",
       "      <td>F</td>\n",
       "      <td></td>\n",
       "    </tr>\n",
       "    <tr>\n",
       "      <th>57224</th>\n",
       "      <td></td>\n",
       "      <td>T</td>\n",
       "      <td></td>\n",
       "      <td></td>\n",
       "      <td></td>\n",
       "      <td></td>\n",
       "    </tr>\n",
       "    <tr>\n",
       "      <th>47793</th>\n",
       "      <td>M</td>\n",
       "      <td>T</td>\n",
       "      <td></td>\n",
       "      <td>R</td>\n",
       "      <td>F</td>\n",
       "      <td></td>\n",
       "    </tr>\n",
       "    <tr>\n",
       "      <th>5671</th>\n",
       "      <td></td>\n",
       "      <td></td>\n",
       "      <td></td>\n",
       "      <td></td>\n",
       "      <td></td>\n",
       "      <td></td>\n",
       "    </tr>\n",
       "    <tr>\n",
       "      <th>12477</th>\n",
       "      <td></td>\n",
       "      <td></td>\n",
       "      <td></td>\n",
       "      <td></td>\n",
       "      <td></td>\n",
       "      <td></td>\n",
       "    </tr>\n",
       "    <tr>\n",
       "      <th>55051</th>\n",
       "      <td></td>\n",
       "      <td>T</td>\n",
       "      <td></td>\n",
       "      <td>R</td>\n",
       "      <td></td>\n",
       "      <td></td>\n",
       "    </tr>\n",
       "    <tr>\n",
       "      <th>56838</th>\n",
       "      <td></td>\n",
       "      <td>T</td>\n",
       "      <td></td>\n",
       "      <td></td>\n",
       "      <td></td>\n",
       "      <td></td>\n",
       "    </tr>\n",
       "    <tr>\n",
       "      <th>51025</th>\n",
       "      <td>M</td>\n",
       "      <td></td>\n",
       "      <td></td>\n",
       "      <td></td>\n",
       "      <td></td>\n",
       "      <td></td>\n",
       "    </tr>\n",
       "  </tbody>\n",
       "</table>\n",
       "</div>"
      ],
      "text/plain": [
       "      mon tues wed thurs fri weekend\n",
       "5901                                \n",
       "32563   M        W         F        \n",
       "13323                      F        \n",
       "57224        T                      \n",
       "47793   M    T         R   F        \n",
       "5671                                \n",
       "12477                               \n",
       "55051        T         R            \n",
       "56838        T                      \n",
       "51025   M                           "
      ]
     },
     "execution_count": 110,
     "metadata": {},
     "output_type": "execute_result"
    }
   ],
   "source": [
    "# change 1s and 0s in days of week columns to abbreviations \n",
    "# (M, T, W, R, F, E)\n",
    "\n",
    "df1['mon'].replace({1: 'M', 0: ''}, inplace = True)\n",
    "df1['tues'].replace({1: 'T', 0: ''}, inplace = True)\n",
    "df1['wed'].replace({1: 'W', 0: ''}, inplace = True)\n",
    "df1['thurs'].replace({1: 'R', 0: ''}, inplace = True)\n",
    "df1['fri'].replace({1: 'F', 0: ''}, inplace = True)\n",
    "df1['weekend'].replace({1: 'E', 0: ''}, inplace = True)\n",
    "\n",
    "# check\n",
    "df1[['mon', 'tues', 'wed', 'thurs', 'fri', 'weekend']].sample(10)"
   ]
  },
  {
   "cell_type": "code",
   "execution_count": 111,
   "id": "27cc927b",
   "metadata": {},
   "outputs": [
    {
     "data": {
      "text/plain": [
       "TR        15434\n",
       "MWF        9089\n",
       "MW         7137\n",
       "           3576\n",
       "T          2414\n",
       "W          2268\n",
       "M          1948\n",
       "MTWR       1813\n",
       "R          1492\n",
       "MTWRF      1151\n",
       "MTRF        870\n",
       "F           869\n",
       "E           245\n",
       "MF          205\n",
       "WF          162\n",
       "MWR          88\n",
       "MTWF         69\n",
       "MTR          31\n",
       "TRF          31\n",
       "TWRF         26\n",
       "MR           21\n",
       "FE           18\n",
       "WR           10\n",
       "MWRF          9\n",
       "MTF           7\n",
       "MT            5\n",
       "MRF           5\n",
       "TF            4\n",
       "RF            4\n",
       "MTW           3\n",
       "TWR           3\n",
       "TW            2\n",
       "ME            1\n",
       "MTWRFE        1\n",
       "WRF           1\n",
       "Name: schedule_days, dtype: int64"
      ]
     },
     "execution_count": 111,
     "metadata": {},
     "output_type": "execute_result"
    }
   ],
   "source": [
    "# concatenate days of week columns into one\n",
    "df1['schedule_days'] = df1['mon'] + df1['tues'] + df1['wed'] + df1['thurs'] + df1['fri'] + df1['weekend']\n",
    "\n",
    "# check\n",
    "df1['schedule_days'].value_counts()"
   ]
  },
  {
   "cell_type": "code",
   "execution_count": 112,
   "id": "a03b7485",
   "metadata": {},
   "outputs": [
    {
     "data": {
      "text/plain": [
       "TR        15434\n",
       "MWF        9089\n",
       "MW         7137\n",
       "none       3576\n",
       "T          2414\n",
       "W          2268\n",
       "M          1948\n",
       "MTWR       1813\n",
       "R          1492\n",
       "MTWRF      1151\n",
       "MTRF        870\n",
       "F           869\n",
       "E           245\n",
       "MF          205\n",
       "WF          162\n",
       "MWR          88\n",
       "MTWF         69\n",
       "MTR          31\n",
       "TRF          31\n",
       "TWRF         26\n",
       "MR           21\n",
       "FE           18\n",
       "WR           10\n",
       "MWRF          9\n",
       "MTF           7\n",
       "MT            5\n",
       "MRF           5\n",
       "TF            4\n",
       "RF            4\n",
       "MTW           3\n",
       "TWR           3\n",
       "TW            2\n",
       "ME            1\n",
       "MTWRFE        1\n",
       "WRF           1\n",
       "Name: schedule_days, dtype: int64"
      ]
     },
     "execution_count": 112,
     "metadata": {},
     "output_type": "execute_result"
    }
   ],
   "source": [
    "# replace '' with 'none'\n",
    "df1['schedule_days'] = df1['schedule_days'].apply(lambda x: 'none' if x == '' else x)\n",
    "\n",
    "# check\n",
    "df1['schedule_days'].value_counts()"
   ]
  },
  {
   "cell_type": "code",
   "execution_count": 113,
   "id": "5d104546",
   "metadata": {},
   "outputs": [
    {
     "data": {
      "text/plain": [
       "TR       15434\n",
       "MWF       9089\n",
       "MW        7137\n",
       "none      3576\n",
       "T         2414\n",
       "W         2268\n",
       "M         1948\n",
       "MTWR      1813\n",
       "R         1492\n",
       "MTWRF     1151\n",
       "MTRF       870\n",
       "F          869\n",
       "other      339\n",
       "E          245\n",
       "MF         205\n",
       "WF         162\n",
       "Name: schedule_days, dtype: int64"
      ]
     },
     "execution_count": 113,
     "metadata": {},
     "output_type": "execute_result"
    }
   ],
   "source": [
    "# bin all schedules with fewer than 100 values into 'other'\n",
    "keep_schedules = ['TR', 'MWF', 'MW', 'none', 'T', 'W', 'M', 'MTWR', \n",
    "                 'R', 'MTWRF', 'MTRF', 'F', 'E', 'MF', 'WF']\n",
    "\n",
    "df1['schedule_days'] = df1['schedule_days'].apply(lambda x: x if x in keep_schedules else 'other')\n",
    "\n",
    "# check\n",
    "df1['schedule_days'].value_counts()"
   ]
  },
  {
   "cell_type": "code",
   "execution_count": 114,
   "id": "95757cf1",
   "metadata": {},
   "outputs": [
    {
     "data": {
      "text/plain": [
       "Index(['section_type', 'instructor_id', 'facility_code', 'start_time',\n",
       "       'subject_name', 'course_name', 'a_proportion', 'f_proportion',\n",
       "       'avg_grade', 'year', 'term', 'class_length', 'total_time',\n",
       "       'course_difficulty', 'days_per_week', 'schedule_days'],\n",
       "      dtype='object')"
      ]
     },
     "execution_count": 114,
     "metadata": {},
     "output_type": "execute_result"
    }
   ],
   "source": [
    "# drop original columns\n",
    "df1.drop(columns = ['mon', 'tues', 'wed', 'thurs', 'fri', 'weekend'], \n",
    "        inplace = True)\n",
    "\n",
    "# check\n",
    "df1.columns"
   ]
  },
  {
   "cell_type": "markdown",
   "id": "e585e388",
   "metadata": {},
   "source": [
    "## Total Time"
   ]
  },
  {
   "cell_type": "markdown",
   "id": "5031f24d",
   "metadata": {},
   "source": [
    "We will drop the 'total_time' column now, since it represents information that is independently coded into the 'days_per_week' and 'class_length' columns, and represents their product."
   ]
  },
  {
   "cell_type": "code",
   "execution_count": 115,
   "id": "45a8f1d5",
   "metadata": {},
   "outputs": [
    {
     "data": {
      "text/plain": [
       "Index(['section_type', 'instructor_id', 'facility_code', 'start_time',\n",
       "       'subject_name', 'course_name', 'a_proportion', 'f_proportion',\n",
       "       'avg_grade', 'year', 'term', 'class_length', 'course_difficulty',\n",
       "       'days_per_week', 'schedule_days'],\n",
       "      dtype='object')"
      ]
     },
     "execution_count": 115,
     "metadata": {},
     "output_type": "execute_result"
    }
   ],
   "source": [
    "df1.drop(columns = 'total_time', inplace = True)\n",
    "\n",
    "# check\n",
    "df1.columns"
   ]
  },
  {
   "cell_type": "markdown",
   "id": "d3159a65",
   "metadata": {},
   "source": [
    "## Course Name"
   ]
  },
  {
   "cell_type": "markdown",
   "id": "2a9736f4",
   "metadata": {},
   "source": [
    "We will drop the 'course_name' column, since it has a high number of unique values. It is binned, but it is also related to 'subject_name', which also has many unique values (although binned), so we believe it contributes too much division of the data without a large amount of information to contribute to the target."
   ]
  },
  {
   "cell_type": "code",
   "execution_count": 116,
   "id": "6609ff16",
   "metadata": {},
   "outputs": [
    {
     "data": {
      "text/plain": [
       "Index(['section_type', 'instructor_id', 'facility_code', 'start_time',\n",
       "       'subject_name', 'a_proportion', 'f_proportion', 'avg_grade', 'year',\n",
       "       'term', 'class_length', 'course_difficulty', 'days_per_week',\n",
       "       'schedule_days'],\n",
       "      dtype='object')"
      ]
     },
     "execution_count": 116,
     "metadata": {},
     "output_type": "execute_result"
    }
   ],
   "source": [
    "df1.drop(columns = 'course_name', inplace = True)\n",
    "\n",
    "# check\n",
    "df1.columns"
   ]
  },
  {
   "cell_type": "markdown",
   "id": "33e81ef1",
   "metadata": {},
   "source": [
    "## Start Time"
   ]
  },
  {
   "cell_type": "markdown",
   "id": "2795e435",
   "metadata": {},
   "source": [
    "'start_time' is given in minutes, so it is a numerical variable. Courses without an assigned start_time are coded as -1. 'start_time' shouldn't be treated as a numeric variable since there is not a natural size order to times; for example, it's possible that courses in the afternoon give out higher grades than both courses in the mornings and evenings. So, we want to treat 'start_time' as a categorical variable.\n",
    "\n",
    "Instead of just one-hot encoding the column as-is, we will bin courses by start_time to morning, afternoon, evening, and none, to reduce the number of dummy variables made with one-hot encoding. Then we will be able to one-hot encode this variable.\n",
    "\n",
    "Let's check out the distribution of 'start_time's before binning."
   ]
  },
  {
   "cell_type": "code",
   "execution_count": 117,
   "id": "6e6f974a",
   "metadata": {},
   "outputs": [
    {
     "data": {
      "text/html": [
       "<div>\n",
       "<style scoped>\n",
       "    .dataframe tbody tr th:only-of-type {\n",
       "        vertical-align: middle;\n",
       "    }\n",
       "\n",
       "    .dataframe tbody tr th {\n",
       "        vertical-align: top;\n",
       "    }\n",
       "\n",
       "    .dataframe thead th {\n",
       "        text-align: right;\n",
       "    }\n",
       "</style>\n",
       "<table border=\"1\" class=\"dataframe\">\n",
       "  <thead>\n",
       "    <tr style=\"text-align: right;\">\n",
       "      <th></th>\n",
       "      <th>start_time</th>\n",
       "      <th>a_proportion</th>\n",
       "      <th>f_proportion</th>\n",
       "      <th>avg_grade</th>\n",
       "      <th>year</th>\n",
       "      <th>class_length</th>\n",
       "      <th>days_per_week</th>\n",
       "    </tr>\n",
       "  </thead>\n",
       "  <tbody>\n",
       "    <tr>\n",
       "      <th>count</th>\n",
       "      <td>45414.000000</td>\n",
       "      <td>45414.000000</td>\n",
       "      <td>45414.000000</td>\n",
       "      <td>45414.000000</td>\n",
       "      <td>45414.000000</td>\n",
       "      <td>45414.000000</td>\n",
       "      <td>45414.000000</td>\n",
       "    </tr>\n",
       "    <tr>\n",
       "      <th>mean</th>\n",
       "      <td>730.335249</td>\n",
       "      <td>0.490533</td>\n",
       "      <td>0.008711</td>\n",
       "      <td>3.489751</td>\n",
       "      <td>12.188818</td>\n",
       "      <td>79.899480</td>\n",
       "      <td>2.199520</td>\n",
       "    </tr>\n",
       "    <tr>\n",
       "      <th>std</th>\n",
       "      <td>153.560322</td>\n",
       "      <td>0.282317</td>\n",
       "      <td>0.024151</td>\n",
       "      <td>0.369700</td>\n",
       "      <td>3.396662</td>\n",
       "      <td>45.183048</td>\n",
       "      <td>0.917262</td>\n",
       "    </tr>\n",
       "    <tr>\n",
       "      <th>min</th>\n",
       "      <td>390.000000</td>\n",
       "      <td>0.000000</td>\n",
       "      <td>0.000000</td>\n",
       "      <td>0.000000</td>\n",
       "      <td>7.000000</td>\n",
       "      <td>40.000000</td>\n",
       "      <td>0.000000</td>\n",
       "    </tr>\n",
       "    <tr>\n",
       "      <th>25%</th>\n",
       "      <td>595.000000</td>\n",
       "      <td>0.250253</td>\n",
       "      <td>0.000000</td>\n",
       "      <td>3.244444</td>\n",
       "      <td>9.000000</td>\n",
       "      <td>50.000000</td>\n",
       "      <td>2.000000</td>\n",
       "    </tr>\n",
       "    <tr>\n",
       "      <th>50%</th>\n",
       "      <td>725.000000</td>\n",
       "      <td>0.437500</td>\n",
       "      <td>0.000000</td>\n",
       "      <td>3.529412</td>\n",
       "      <td>12.000000</td>\n",
       "      <td>75.000000</td>\n",
       "      <td>2.000000</td>\n",
       "    </tr>\n",
       "    <tr>\n",
       "      <th>75%</th>\n",
       "      <td>865.000000</td>\n",
       "      <td>0.714286</td>\n",
       "      <td>0.000000</td>\n",
       "      <td>3.790323</td>\n",
       "      <td>15.000000</td>\n",
       "      <td>75.000000</td>\n",
       "      <td>3.000000</td>\n",
       "    </tr>\n",
       "    <tr>\n",
       "      <th>max</th>\n",
       "      <td>1260.000000</td>\n",
       "      <td>1.000000</td>\n",
       "      <td>1.000000</td>\n",
       "      <td>4.000000</td>\n",
       "      <td>18.000000</td>\n",
       "      <td>600.000000</td>\n",
       "      <td>6.000000</td>\n",
       "    </tr>\n",
       "  </tbody>\n",
       "</table>\n",
       "</div>"
      ],
      "text/plain": [
       "         start_time  a_proportion  f_proportion     avg_grade          year  \\\n",
       "count  45414.000000  45414.000000  45414.000000  45414.000000  45414.000000   \n",
       "mean     730.335249      0.490533      0.008711      3.489751     12.188818   \n",
       "std      153.560322      0.282317      0.024151      0.369700      3.396662   \n",
       "min      390.000000      0.000000      0.000000      0.000000      7.000000   \n",
       "25%      595.000000      0.250253      0.000000      3.244444      9.000000   \n",
       "50%      725.000000      0.437500      0.000000      3.529412     12.000000   \n",
       "75%      865.000000      0.714286      0.000000      3.790323     15.000000   \n",
       "max     1260.000000      1.000000      1.000000      4.000000     18.000000   \n",
       "\n",
       "       class_length  days_per_week  \n",
       "count  45414.000000   45414.000000  \n",
       "mean      79.899480       2.199520  \n",
       "std       45.183048       0.917262  \n",
       "min       40.000000       0.000000  \n",
       "25%       50.000000       2.000000  \n",
       "50%       75.000000       2.000000  \n",
       "75%       75.000000       3.000000  \n",
       "max      600.000000       6.000000  "
      ]
     },
     "execution_count": 117,
     "metadata": {},
     "output_type": "execute_result"
    }
   ],
   "source": [
    "# check start times without -1 (no start time)\n",
    "df1[df1['start_time'] != -1].describe()"
   ]
  },
  {
   "cell_type": "markdown",
   "id": "641e9b9b",
   "metadata": {},
   "source": [
    "Earliest start time is 6:30am (390) and latest start time is 9pm (1260).\n",
    "\n",
    "Time bins:\n",
    "- -1 = 'none'\n",
    "- 390 - 479 = early morning (6:30-7:59am) (1.5 hours)\n",
    "- 480 - 599 = mid-morning (8-9:59am) (2 hours)\n",
    "- 600 - 719 = late morning (10-11:59am) (2 hours)\n",
    "- 720 - 839 = early afternoon (noon-1:59pm) (2 hours)\n",
    "- 840 - 959 = mid-afternoon (2-3:59pm) (2 hours)\n",
    "- 960 - 1079 = late afternoon (4-5:59pm) (2 hours)\n",
    "- 1080 - 1260 = evening (6-9pm) (3 hours)"
   ]
  },
  {
   "cell_type": "code",
   "execution_count": 118,
   "id": "722e84d0",
   "metadata": {},
   "outputs": [
    {
     "data": {
      "text/plain": [
       "mid-morning        12654\n",
       "early afternoon    11369\n",
       "late morning        8020\n",
       "mid-afternoon       8006\n",
       "late afternoon      3914\n",
       "none                3598\n",
       "early morning        755\n",
       "evening              696\n",
       "Name: start_time, dtype: int64"
      ]
     },
     "execution_count": 118,
     "metadata": {},
     "output_type": "execute_result"
    }
   ],
   "source": [
    "for index in df1['start_time'].index:\n",
    "    if df1.at[index, 'start_time'] == -1:\n",
    "        df1.at[index, 'start_time'] = 'none'\n",
    "    elif df1.at[index, 'start_time'] < 480:\n",
    "        df1.at[index, 'start_time'] = 'early morning'\n",
    "    elif df1.at[index, 'start_time'] < 600:\n",
    "        df1.at[index, 'start_time'] = 'mid-morning'\n",
    "    elif df1.at[index, 'start_time'] < 720:\n",
    "        df1.at[index, 'start_time'] = 'late morning'\n",
    "    elif df1.at[index, 'start_time'] < 840:\n",
    "        df1.at[index, 'start_time'] = 'early afternoon'\n",
    "    elif df1.at[index, 'start_time'] < 960:\n",
    "        df1.at[index, 'start_time'] = 'mid-afternoon'\n",
    "    elif df1.at[index, 'start_time'] < 1080:\n",
    "        df1.at[index, 'start_time'] = 'late afternoon'\n",
    "    else:\n",
    "        df1.at[index, 'start_time'] = 'evening'\n",
    "        \n",
    "# check\n",
    "df1['start_time'].value_counts()"
   ]
  },
  {
   "cell_type": "markdown",
   "id": "952b8848",
   "metadata": {},
   "source": [
    "## Class Length"
   ]
  },
  {
   "cell_type": "markdown",
   "id": "06dc2ea1",
   "metadata": {},
   "source": [
    "'class_length' is also a numeric variable that should not be numeric since it doesn't have a reasonable expectation that longer or shorter classes will always outperform the other. It may be the case that courses with a middling length may outperform both longer and shorter classes, for example.\n",
    "\n",
    "So, we also want to one-hot encode this column, but again have too many values to one-hot encode as-is. We will look at the distribution of times in this column and bin them accordingly."
   ]
  },
  {
   "cell_type": "code",
   "execution_count": 119,
   "id": "9f9a80d8",
   "metadata": {},
   "outputs": [
    {
     "data": {
      "text/plain": [
       "50.0     19284\n",
       "75.0     15419\n",
       "0.0       3598\n",
       "150.0     3371\n",
       "120.0     1991\n",
       "         ...  \n",
       "340.0        1\n",
       "325.0        1\n",
       "113.0        1\n",
       "40.0         1\n",
       "520.0        1\n",
       "Name: class_length, Length: 61, dtype: int64"
      ]
     },
     "execution_count": 119,
     "metadata": {},
     "output_type": "execute_result"
    }
   ],
   "source": [
    "df1['class_length'].value_counts()"
   ]
  },
  {
   "cell_type": "code",
   "execution_count": 120,
   "id": "f7cf282c",
   "metadata": {},
   "outputs": [
    {
     "data": {
      "text/plain": [
       "count    45414.000000\n",
       "mean        79.899480\n",
       "std         45.183048\n",
       "min         40.000000\n",
       "25%         50.000000\n",
       "50%         75.000000\n",
       "75%         75.000000\n",
       "max        600.000000\n",
       "Name: class_length, dtype: float64"
      ]
     },
     "execution_count": 120,
     "metadata": {},
     "output_type": "execute_result"
    }
   ],
   "source": [
    "class_length_no_zero = df1[df1['class_length'] != 0]\n",
    "class_length_no_zero['class_length'].describe()"
   ]
  },
  {
   "cell_type": "code",
   "execution_count": 121,
   "id": "ad7339c9",
   "metadata": {},
   "outputs": [
    {
     "data": {
      "text/plain": [
       "longer     25590\n",
       "shorter    23422\n",
       "Name: class_length, dtype: int64"
      ]
     },
     "execution_count": 121,
     "metadata": {},
     "output_type": "execute_result"
    }
   ],
   "source": [
    "# bin into less than 75 and 75 or more\n",
    "df1['class_length'] = df1['class_length'].apply(lambda x: 'shorter' \n",
    "                                               if x < 75 else 'longer')\n",
    "\n",
    "# check\n",
    "df1['class_length'].value_counts()"
   ]
  },
  {
   "cell_type": "markdown",
   "id": "7509f369",
   "metadata": {},
   "source": [
    "## Target Columns"
   ]
  },
  {
   "cell_type": "markdown",
   "id": "035ff273",
   "metadata": {},
   "source": [
    "The target columns 'avg_grade', 'a_proportion', and 'f_proportion' are all numeric in this dataset, so we treated this as a regression problem (see separate notebook in this repository). In the interest of exploring classification models, for this notebook we will convert the target column 'avg_grade' into categories and try to predict its values with classification models. We will drop 'a_proportion' and 'f_proportion' for now."
   ]
  },
  {
   "cell_type": "code",
   "execution_count": 122,
   "id": "e90f0048",
   "metadata": {},
   "outputs": [
    {
     "data": {
      "text/plain": [
       "Index(['section_type', 'instructor_id', 'facility_code', 'start_time',\n",
       "       'subject_name', 'avg_grade', 'year', 'term', 'class_length',\n",
       "       'course_difficulty', 'days_per_week', 'schedule_days'],\n",
       "      dtype='object')"
      ]
     },
     "execution_count": 122,
     "metadata": {},
     "output_type": "execute_result"
    }
   ],
   "source": [
    "# drop 'a_proportion' and 'f_proportion'\n",
    "df1.drop(columns = ['a_proportion', 'f_proportion'], inplace = True)\n",
    "\n",
    "# check\n",
    "df1.columns"
   ]
  },
  {
   "cell_type": "markdown",
   "id": "d780bc24",
   "metadata": {},
   "source": [
    "We will break down the target column ('avg_grade') into grade categories as follows:     \n",
    "- A: x == 4.0\n",
    "- AB: 3.5 <= x < 4.0\n",
    "- B: 3.0 <= x < 3.5\n",
    "- BC: 2.5 <= x < 3.0\n",
    "- C: 2.0 <= x < 2.5\n",
    "- D: 1.0 <= x < 2.0\n",
    "- F: x < 1.0\n",
    "\n",
    "Source for categories: https://registrar.wisc.edu/valid-grades/"
   ]
  },
  {
   "cell_type": "code",
   "execution_count": 125,
   "id": "4fe576c7",
   "metadata": {},
   "outputs": [
    {
     "data": {
      "text/plain": [
       "AB    22165\n",
       "B     16384\n",
       "A      5578\n",
       "BC     4532\n",
       "C       325\n",
       "D        27\n",
       "F         1\n",
       "Name: avg_grade, dtype: int64"
      ]
     },
     "execution_count": 125,
     "metadata": {},
     "output_type": "execute_result"
    }
   ],
   "source": [
    "# categorize 'avg_grade' column\n",
    "for index in df1['avg_grade'].index:\n",
    "    if df1.at[index, 'avg_grade'] == 4.0:\n",
    "        df1.at[index, 'avg_grade'] = 'A'\n",
    "    elif df1.at[index, 'avg_grade'] >= 3.5:\n",
    "        df1.at[index, 'avg_grade'] = 'AB'\n",
    "    elif df1.at[index, 'avg_grade'] >= 3.0:\n",
    "        df1.at[index, 'avg_grade'] = 'B'\n",
    "    elif df1.at[index, 'avg_grade'] >= 2.5:\n",
    "        df1.at[index, 'avg_grade'] = 'BC'\n",
    "    elif df1.at[index, 'avg_grade'] >= 2.0:\n",
    "        df1.at[index, 'avg_grade'] = 'C'\n",
    "    elif df1.at[index, 'avg_grade'] >= 1.0:\n",
    "        df1.at[index, 'avg_grade'] = 'D'\n",
    "    else:\n",
    "        df1.at[index, 'avg_grade'] = 'F'\n",
    "\n",
    "# check\n",
    "df1['avg_grade'].value_counts()"
   ]
  },
  {
   "cell_type": "markdown",
   "id": "77c8922a",
   "metadata": {},
   "source": [
    "## Final Check"
   ]
  },
  {
   "cell_type": "code",
   "execution_count": 126,
   "id": "9910bb4d",
   "metadata": {},
   "outputs": [
    {
     "name": "stdout",
     "output_type": "stream",
     "text": [
      "<class 'pandas.core.frame.DataFrame'>\n",
      "Int64Index: 49012 entries, 12 to 64185\n",
      "Data columns (total 12 columns):\n",
      " #   Column             Non-Null Count  Dtype \n",
      "---  ------             --------------  ----- \n",
      " 0   section_type       49012 non-null  object\n",
      " 1   instructor_id      49012 non-null  object\n",
      " 2   facility_code      45521 non-null  object\n",
      " 3   start_time         49012 non-null  object\n",
      " 4   subject_name       49012 non-null  object\n",
      " 5   avg_grade          49012 non-null  object\n",
      " 6   year               49012 non-null  int64 \n",
      " 7   term               49012 non-null  object\n",
      " 8   class_length       49012 non-null  object\n",
      " 9   course_difficulty  49012 non-null  object\n",
      " 10  days_per_week      49012 non-null  int64 \n",
      " 11  schedule_days      49012 non-null  object\n",
      "dtypes: int64(2), object(10)\n",
      "memory usage: 5.9+ MB\n"
     ]
    }
   ],
   "source": [
    "df1.info()"
   ]
  },
  {
   "cell_type": "code",
   "execution_count": 127,
   "id": "03400d14",
   "metadata": {},
   "outputs": [
    {
     "name": "stdout",
     "output_type": "stream",
     "text": [
      "section_type\n",
      "6\n",
      "\n",
      "instructor_id\n",
      "522\n",
      "\n",
      "facility_code\n",
      "119\n",
      "\n",
      "start_time\n",
      "8\n",
      "\n",
      "subject_name\n",
      "180\n",
      "\n",
      "avg_grade\n",
      "7\n",
      "\n",
      "year\n",
      "12\n",
      "\n",
      "term\n",
      "2\n",
      "\n",
      "class_length\n",
      "2\n",
      "\n",
      "course_difficulty\n",
      "3\n",
      "\n",
      "days_per_week\n",
      "7\n",
      "\n",
      "schedule_days\n",
      "16\n",
      "\n"
     ]
    }
   ],
   "source": [
    "for col in df1.columns:\n",
    "    print(col)\n",
    "    print(df1[col].nunique())\n",
    "    print()"
   ]
  },
  {
   "cell_type": "markdown",
   "id": "9de94567",
   "metadata": {},
   "source": [
    "We have hopefully improved our data's interpretability for the model by making these changes to our features. They are all now able to be appropriately one-hot encoded, and the largest number of unique values for any one column is 522 for 'instructor_id'. "
   ]
  },
  {
   "cell_type": "markdown",
   "id": "c3f62b23",
   "metadata": {},
   "source": [
    "# Preprocessing"
   ]
  },
  {
   "cell_type": "code",
   "execution_count": 128,
   "id": "1c7a0d25",
   "metadata": {
    "collapsed": true
   },
   "outputs": [
    {
     "name": "stdout",
     "output_type": "stream",
     "text": [
      "y: \n",
      "12       AB\n",
      "13        B\n",
      "14       AB\n",
      "15       AB\n",
      "16        B\n",
      "         ..\n",
      "64181     B\n",
      "64182     B\n",
      "64183     B\n",
      "64184     B\n",
      "64185    AB\n",
      "Name: avg_grade, Length: 49012, dtype: object\n",
      "X: \n",
      "      section_type instructor_id facility_code       start_time  \\\n",
      "12             lec         other           NaN             none   \n",
      "13             lec         other          0545     late morning   \n",
      "14             lec         other          0545     late morning   \n",
      "15             lec         other          0545      mid-morning   \n",
      "16             lec         other          0545      mid-morning   \n",
      "...            ...           ...           ...              ...   \n",
      "64181          lec         other          0093  early afternoon   \n",
      "64182          lec         other          0093  early afternoon   \n",
      "64183          lec         other          0093  early afternoon   \n",
      "64184          lec         other          0093  early afternoon   \n",
      "64185          lab         other          0021     late morning   \n",
      "\n",
      "                       subject_name  year    term class_length  \\\n",
      "12               communication arts    15  spring      shorter   \n",
      "13               communication arts    15  spring       longer   \n",
      "14               communication arts    15  spring       longer   \n",
      "15               communication arts    15  spring      shorter   \n",
      "16               communication arts    15  spring      shorter   \n",
      "...                             ...   ...     ...          ...   \n",
      "64181       comparative biosciences     9    fall      shorter   \n",
      "64182       comparative biosciences    11    fall      shorter   \n",
      "64183       comparative biosciences    16    fall      shorter   \n",
      "64184       comparative biosciences    10    fall      shorter   \n",
      "64185  physical educ activity progm     7  spring      shorter   \n",
      "\n",
      "      course_difficulty  days_per_week schedule_days  \n",
      "12           elementary              0          none  \n",
      "13           elementary              2            TR  \n",
      "14           elementary              2            TR  \n",
      "15           elementary              3           MWF  \n",
      "16           elementary              3           MWF  \n",
      "...                 ...            ...           ...  \n",
      "64181          advanced              3         other  \n",
      "64182          advanced              3         other  \n",
      "64183          advanced              3         other  \n",
      "64184          advanced              3         other  \n",
      "64185        elementary              2            MW  \n",
      "\n",
      "[49012 rows x 11 columns]\n"
     ]
    }
   ],
   "source": [
    "# assign X and y\n",
    "target = 'avg_grade'\n",
    "y = df1[target]\n",
    "X = df1.drop(columns = target)\n",
    "\n",
    "# check\n",
    "print(f\"y: \\n{y}\")\n",
    "print(f\"X: \\n{X}\")"
   ]
  },
  {
   "cell_type": "code",
   "execution_count": 129,
   "id": "a6a75cfb",
   "metadata": {
    "collapsed": true
   },
   "outputs": [
    {
     "name": "stdout",
     "output_type": "stream",
     "text": [
      "X_train shape: (36759, 11)\n",
      "X_test shape: (12253, 11)\n",
      "y_train shape: (36759,)\n",
      "y_test shape: (12253,)\n"
     ]
    }
   ],
   "source": [
    "# validate model with train/test split\n",
    "X_train, X_test, y_train, y_test = train_test_split(X, y, random_state = 42)\n",
    "\n",
    "# check\n",
    "print(f\"X_train shape: {X_train.shape}\")\n",
    "print(f\"X_test shape: {X_test.shape}\")\n",
    "print(f\"y_train shape: {y_train.shape}\")\n",
    "print(f\"y_test shape: {y_test.shape}\")"
   ]
  },
  {
   "cell_type": "markdown",
   "id": "5ec3e458",
   "metadata": {},
   "source": [
    "## One-Hot Encoded Columns"
   ]
  },
  {
   "cell_type": "code",
   "execution_count": 131,
   "id": "7650f54f",
   "metadata": {},
   "outputs": [],
   "source": [
    "# make list\n",
    "ohe_cols = ['section_type', 'instructor_id', 'start_time', 'subject_name',\n",
    "           'year', 'term', 'class_length', 'course_difficulty', \n",
    "           'days_per_week', 'schedule_days']\n",
    "\n",
    "# instantiate ohe\n",
    "ohe1 = OneHotEncoder(handle_unknown = 'ignore', \n",
    "                     sparse = False)\n",
    "\n",
    "# make tuple\n",
    "ohe_tuple = (ohe1, ohe_cols)"
   ]
  },
  {
   "cell_type": "markdown",
   "id": "9b3ba174",
   "metadata": {},
   "source": [
    "## Imputed and One-Hot Encoded Columns"
   ]
  },
  {
   "cell_type": "code",
   "execution_count": 134,
   "id": "020ec23f",
   "metadata": {},
   "outputs": [],
   "source": [
    "# make list\n",
    "imp_ohe_cols = ['facility_code']\n",
    "\n",
    "# instantiate imputer\n",
    "missing_imputer = SimpleImputer(strategy = 'constant', \n",
    "                               fill_value = 'missing',\n",
    "                               add_indicator = True)\n",
    "\n",
    "# instantiate ohe\n",
    "ohe2 = OneHotEncoder(handle_unknown = 'ignore', \n",
    "                     sparse = False)\n",
    "\n",
    "# make tuple\n",
    "imp_ohe_tuple = (ohe2, imp_ohe_cols)"
   ]
  },
  {
   "cell_type": "markdown",
   "id": "da1daae7",
   "metadata": {},
   "source": [
    "## Create Preprocessor Object"
   ]
  },
  {
   "cell_type": "code",
   "execution_count": 136,
   "id": "cdf65d64",
   "metadata": {},
   "outputs": [
    {
     "data": {
      "text/plain": [
       "ColumnTransformer(transformers=[('onehotencoder-1',\n",
       "                                 OneHotEncoder(handle_unknown='ignore',\n",
       "                                               sparse=False),\n",
       "                                 ['section_type', 'instructor_id', 'start_time',\n",
       "                                  'subject_name', 'year', 'term',\n",
       "                                  'class_length', 'course_difficulty',\n",
       "                                  'days_per_week', 'schedule_days']),\n",
       "                                ('onehotencoder-2',\n",
       "                                 OneHotEncoder(handle_unknown='ignore',\n",
       "                                               sparse=False),\n",
       "                                 ['facility_code'])])"
      ]
     },
     "execution_count": 136,
     "metadata": {},
     "output_type": "execute_result"
    }
   ],
   "source": [
    "# create preprocessor\n",
    "preprocessor = make_column_transformer(ohe_tuple,\n",
    "                                      imp_ohe_tuple,\n",
    "                                      remainder = 'drop')\n",
    "\n",
    "# check\n",
    "preprocessor"
   ]
  },
  {
   "cell_type": "markdown",
   "id": "9772ad07",
   "metadata": {},
   "source": [
    "# Evaluation Functions"
   ]
  },
  {
   "cell_type": "code",
   "execution_count": 137,
   "id": "88a15a88",
   "metadata": {},
   "outputs": [
    {
     "data": {
      "text/plain": [
       "(0, 0)"
      ]
     },
     "execution_count": 137,
     "metadata": {},
     "output_type": "execute_result"
    }
   ],
   "source": [
    "# create dataframe to save evaluated model scores\n",
    "scores_df = pd.DataFrame()\n",
    "\n",
    "# check\n",
    "scores_df.shape"
   ]
  },
  {
   "cell_type": "code",
   "execution_count": null,
   "id": "3b295324",
   "metadata": {},
   "outputs": [],
   "source": [
    "# define function that will print classification metrics for current model\n",
    "# and will store classification metrics into scores_df with all other scores\n",
    "# to be called by 'scores_df'\n",
    "\n",
    "def pipe_fit_and_evaluate_model(model, X_train, X_test, y_train, y_test, \n",
    "                                model_name):\n",
    "    \n",
    "    # make pipeline with preprocessor\n",
    "    model_pipe = make_pipeline(preprocessor, model)\n",
    "    \n",
    "    # fit on training data\n",
    "    model_pipe.fit(X_train, y_train)\n",
    "    \n",
    "    # create test data predictions\n",
    "    test_pred = model_pipe.predict(X_test)\n",
    "    \n",
    "    # print model name\n",
    "    print(f\"{model_name} classification metrics on test data:\")\n",
    "    \n",
    "    # print classification report\n",
    "    print(classification_report(y_test, test_pred))\n",
    "    \n",
    "    # print roc auc\n",
    "    print(\"roc auc score here\")\n",
    "    \n",
    "    # display confusion matrix\n",
    "    display(ConfusionMatrixDisply.from_predictions(y_test, \n",
    "                                                   test_pred, \n",
    "                                                   normalize = 'all'))\n",
    "    \n",
    "    # store in scores_df\n",
    "    scores_df.at[model_name, 'Test Accuracy'] = \n",
    "    scores_df.at[model_name, 'Test Recall (Sensitivity)'] = \n",
    "    scores_df.at[model_name, 'Test Precision'] = \n",
    "    scores_df.at[model_name, 'Test Specificity'] = \n",
    "    scores_df.at[model_name, 'Test ROC AUC'] = \n",
    "    \n",
    "    # classification metrics: \n",
    "    # accuracy\n",
    "    # recall (sensitivity)\n",
    "    # precision\n",
    "    # specificity (recall on negative class)\n",
    "    # classification report\n",
    "    # confusion matrix \n",
    "    # roc auc "
   ]
  }
 ],
 "metadata": {
  "kernelspec": {
   "display_name": "Python (dojo-env)",
   "language": "python",
   "name": "dojo-env"
  },
  "language_info": {
   "codemirror_mode": {
    "name": "ipython",
    "version": 3
   },
   "file_extension": ".py",
   "mimetype": "text/x-python",
   "name": "python",
   "nbconvert_exporter": "python",
   "pygments_lexer": "ipython3",
   "version": "3.9.15"
  },
  "toc": {
   "base_numbering": 1,
   "nav_menu": {},
   "number_sections": false,
   "sideBar": true,
   "skip_h1_title": false,
   "title_cell": "Table of Contents",
   "title_sidebar": "Contents",
   "toc_cell": false,
   "toc_position": {},
   "toc_section_display": true,
   "toc_window_display": false
  }
 },
 "nbformat": 4,
 "nbformat_minor": 5
}

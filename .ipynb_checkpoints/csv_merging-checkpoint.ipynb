{
 "cells": [
  {
   "cell_type": "markdown",
   "metadata": {
    "colab_type": "text",
    "id": "view-in-github"
   },
   "source": [
    "<a href=\"https://colab.research.google.com/github/kellianneyang/project-exploration/blob/main/csv_merging.ipynb\" target=\"_parent\"><img src=\"https://colab.research.google.com/assets/colab-badge.svg\" alt=\"Open In Colab\"/></a>"
   ]
  },
  {
   "cell_type": "markdown",
   "metadata": {
    "id": "sOFDYrvKMsu5"
   },
   "source": [
    "# Grades Project: Merge .csv files into one dataframe"
   ]
  },
  {
   "cell_type": "markdown",
   "metadata": {
    "id": "ZuZlUSE04mkK"
   },
   "source": [
    "# Goal"
   ]
  },
  {
   "cell_type": "markdown",
   "metadata": {
    "id": "6VAVo0Ps4psY"
   },
   "source": [
    "In this notebook, the goal is to merge all .csv files from the Kaggle dataset into one .csv file to use for the project.\n",
    "\n",
    "The main steps will be:\n",
    "- importing each .csv file\n",
    "- renaming columns as necessary (some columns have the same names in separate .csv files and need to be renamed so they are distinct)\n",
    "- making all data lowercase (to eliminate non-matching data if caps are different)\n",
    "- merging all data together\n",
    "  - this may include casting columns to a different datatype to merge on that column; if this needs to happen, some rows may be dropped after checking that there is no data in the other .csvs that is associated with the dropped rows first\n",
    "\n",
    "This notebook will NOT:\n",
    "- delete any columns\n",
    "- create any new columns\n",
    "- fill any missing values\n",
    "- check for any duplicates"
   ]
  },
  {
   "cell_type": "markdown",
   "metadata": {
    "id": "gPClsFQd06oB"
   },
   "source": [
    "## Overview"
   ]
  },
  {
   "cell_type": "markdown",
   "metadata": {
    "id": "D3EFneqM1Fas"
   },
   "source": [
    "\n",
    "To use the data provided in this dataset (https://www.kaggle.com/datasets/Madgrades/uw-madison-courses), which is provided in multiple .csv files, for a machine learning model, we will need to merge the files to create one .csv file."
   ]
  },
  {
   "cell_type": "markdown",
   "metadata": {
    "id": "r3cR9Ac41K2P"
   },
   "source": [
    "## .csv files and columns\n",
    "\n",
    "Included in dataset as separate .csv files:\n",
    "- schedules.csv: each row is a unique potential schedule\n",
    "    - (schedule) uuid: unique identifier of schedules\n",
    "    - start_time: start of class, in minutes\n",
    "    - end_time: end of class, in minutes (drop -- high co-linearity with start_time)\n",
    "    - mon: boolean, if class meets on monday\n",
    "    - tues: \"\n",
    "    - wed: \"\n",
    "    - thurs: \"\n",
    "    - fri: \"\n",
    "    - sat: \"\n",
    "    - sun: \"\n",
    "      - sat and sun have very few values; combine to get more observations\n",
    "- subjects.csv: each row is a unique subject\n",
    "    - (subject) code: 3-digit unique identifier of subjects\n",
    "    - (subject) name: name of subject\n",
    "    - (subject) abbreviation: abbreviation (e.g. ENGL for English)\n",
    "- teachings.csv: each row is a unique instructor\n",
    "    - instructor_id: numeric unique identifier of instructor\n",
    "    - section_uuid: section taught by instructor\n",
    "- subject_memberships.csv: each row is a course offering (course offered in certain term; does not encompass all sections in that term)\n",
    "    - subject_code: subject code associated with course offering\n",
    "    - course_offering_uuid: unique identifier of course offerings\n",
    "- sections.csv: each row is a section (specific instance of course at certain time in certain place in certain term)\n",
    "    - (section) uuid: unique identifier of section (alphanumeric)\n",
    "      - could have multiple section uuids for cross-listed sections\n",
    "    - course_offering_uuid: unique identifier of course offering (course offered in certain term but encompasses all sections in that term) \n",
    "    - section_type: 3-letter identifier (e.g., LEC for lecture)\n",
    "    - (section) number: 1-3-number of section (e.g., 301 for section 301)\n",
    "    - room_uuid: unique identifier of room and building where section is held (including online and off-campus designations)\n",
    "    - schedule_uuid: unique identifier of schedule for section\n",
    "- rooms.csv: each row is a specific place\n",
    "    - (room) uuid: unique identifier of building and room (inclduing off-campus and online)\n",
    "    - facility_code: unique identifier of building\n",
    "    - room_code: number of room within a building\n",
    "- instructors.csv (will not use -- is essentially a duplicate of teachings; can use to look up instructors' names): each row is an instructor\n",
    "    - (instructor) id: unique identifier of instructor\n",
    "    - (instructor) name: instructor's name\n",
    "- grade_distributions.csv: each row is a section's grades\n",
    "    - course_offering_uuid: identifies the course offering (certain course in certain term, but not broken down into sections)\n",
    "    - section_number: number of section for grades\n",
    "    - a_count: number of As\n",
    "    - ab_count: number of ABs (can be combined with As as needed)\n",
    "    - b_count: number of Bs\n",
    "    - bc_count: number of BCs (can be combined with Bs as needed)\n",
    "    - c_count: number of Cs\n",
    "    - d_count: number of Ds\n",
    "    - f_count: number of Fs\n",
    "    - s_count: satisfactory\n",
    "    - u_count: unstatisfactory\n",
    "    - cr_count: credit\n",
    "    - n_count: no credit\n",
    "    - p_count\n",
    "    - i_count: incomplete\n",
    "    - nw_count: no work\n",
    "    - nr_count\n",
    "- course_offerings.csv: each row is a course offering (course offered in certain term)\n",
    "    - (course offering) uuid: unique identifier of course offering\n",
    "    - course_uuid: course that the course offering belongs to\n",
    "    - term_code: academic term when course offering was held\n",
    "    - (course offering) name: name associate with course offering (can be different than course name)\n",
    "- courses.csv: each row is a course (abstract; not associated with specific course offering)\n",
    "    - (course) uuid: uniquely identifies the course\n",
    "    - (course) name: name of course\n",
    "    - (course) number: number in course catalog (e.g. 101 for ENGL 101)"
   ]
  },
  {
   "cell_type": "markdown",
   "metadata": {
    "id": "iOg4-t8GOYHT"
   },
   "source": [
    "# Preliminary steps"
   ]
  },
  {
   "cell_type": "code",
   "execution_count": 1,
   "metadata": {
    "id": "zy4mLaMYOZby"
   },
   "outputs": [],
   "source": [
    "# import libraries\n",
    "import pandas as pd"
   ]
  },
  {
   "cell_type": "markdown",
   "metadata": {
    "id": "VUmwkwWmNWlc"
   },
   "source": [
    "# sections.csv\n",
    "\n",
    "Sections.csv contains the column 'section_uuid' that has a correlate column in teachings.csv. In teachings.csv, the only other column is 'teacher_id'. \n",
    "\n",
    "In this section, we merge 'teacher_id' into the sections.csv data. We will keep 'section_uuid' in the data for now, but it may prove to be a high-cardinality feature, with almost as many values as observations. So, we will keep it in mind for later, when we can experiment to see if dropping it will help our machine learning algorithm make better predictions."
   ]
  },
  {
   "cell_type": "markdown",
   "metadata": {
    "id": "nCNDTa3n0YJc"
   },
   "source": [
    "## Import"
   ]
  },
  {
   "cell_type": "code",
   "execution_count": 2,
   "metadata": {
    "id": "jbqrcpn0MndS"
   },
   "outputs": [],
   "source": [
    "# create df from .csv\n",
    "path = 'Data/sections.csv'\n",
    "sections_df = pd.read_csv(path)"
   ]
  },
  {
   "cell_type": "markdown",
   "metadata": {
    "id": "A4veVjJr0bZH"
   },
   "source": [
    "## Inspect"
   ]
  },
  {
   "cell_type": "code",
   "execution_count": 3,
   "metadata": {
    "colab": {
     "base_uri": "https://localhost:8080/"
    },
    "id": "cBok9SR4O9yr",
    "outputId": "cea2de9a-5802-45fc-9e24-5e057ce9b3e7"
   },
   "outputs": [
    {
     "name": "stdout",
     "output_type": "stream",
     "text": [
      "<class 'pandas.core.frame.DataFrame'>\n",
      "RangeIndex: 315602 entries, 0 to 315601\n",
      "Data columns (total 6 columns):\n",
      " #   Column                Non-Null Count   Dtype \n",
      "---  ------                --------------   ----- \n",
      " 0   uuid                  315602 non-null  object\n",
      " 1   course_offering_uuid  315602 non-null  object\n",
      " 2   section_type          315602 non-null  object\n",
      " 3   number                315602 non-null  int64 \n",
      " 4   room_uuid             209644 non-null  object\n",
      " 5   schedule_uuid         315602 non-null  object\n",
      "dtypes: int64(1), object(5)\n",
      "memory usage: 14.4+ MB\n"
     ]
    }
   ],
   "source": [
    "# inspect df\n",
    "sections_df.info()"
   ]
  },
  {
   "cell_type": "markdown",
   "metadata": {
    "id": "Kd-xCy5y0dkc"
   },
   "source": [
    "## Rename columns & make lowercase"
   ]
  },
  {
   "cell_type": "code",
   "execution_count": 4,
   "metadata": {
    "id": "AH6ni7H3M9XS"
   },
   "outputs": [],
   "source": [
    "# rename 'number' to 'section_number' to avoid confusion with future 'number' \n",
    "# columns in other .csv files\n",
    "sections_df.rename(columns = {'number': 'section_number'}, inplace = True)"
   ]
  },
  {
   "cell_type": "code",
   "execution_count": 5,
   "metadata": {
    "id": "PkKNrtXQ531c"
   },
   "outputs": [],
   "source": [
    "# rename 'uuid' to 'section_uuid' to avoid confusion with future 'uuid'\n",
    "# columns in other .csv files\n",
    "sections_df.rename(columns = {'uuid': 'section_uuid'}, inplace = True)"
   ]
  },
  {
   "cell_type": "code",
   "execution_count": 6,
   "metadata": {
    "colab": {
     "base_uri": "https://localhost:8080/"
    },
    "id": "DvhEy6I56CHB",
    "outputId": "9a35ce78-b842-4fe4-a1f0-05af1151153a"
   },
   "outputs": [
    {
     "data": {
      "text/plain": [
       "Index(['section_uuid', 'course_offering_uuid', 'section_type',\n",
       "       'section_number', 'room_uuid', 'schedule_uuid'],\n",
       "      dtype='object')"
      ]
     },
     "execution_count": 6,
     "metadata": {},
     "output_type": "execute_result"
    }
   ],
   "source": [
    "# check\n",
    "sections_df.columns"
   ]
  },
  {
   "cell_type": "code",
   "execution_count": 7,
   "metadata": {
    "id": "WdQ7cxvCFMIm"
   },
   "outputs": [],
   "source": [
    "# make all values lowercase to standardize\n",
    "sections_df = sections_df.applymap(lambda x: x.lower() if type(x) == str else x)"
   ]
  },
  {
   "cell_type": "markdown",
   "metadata": {
    "id": "8PCAs98WPSvq"
   },
   "source": [
    "# teachings.csv"
   ]
  },
  {
   "cell_type": "markdown",
   "metadata": {
    "id": "evmpWd2q5fhW"
   },
   "source": [
    "## Import"
   ]
  },
  {
   "cell_type": "code",
   "execution_count": 8,
   "metadata": {
    "id": "WruhcU5iPCXS"
   },
   "outputs": [],
   "source": [
    "# create df from teachings.csv\n",
    "path = 'Data/teachings.csv'\n",
    "teachings_df = pd.read_csv(path)"
   ]
  },
  {
   "cell_type": "markdown",
   "metadata": {
    "id": "qsGynWzU5iCn"
   },
   "source": [
    "## Inspect"
   ]
  },
  {
   "cell_type": "code",
   "execution_count": 9,
   "metadata": {
    "colab": {
     "base_uri": "https://localhost:8080/"
    },
    "id": "Kf3nItF-PbbS",
    "outputId": "efe087df-1d8e-4b6f-dabe-eebe78d39d7e"
   },
   "outputs": [
    {
     "name": "stdout",
     "output_type": "stream",
     "text": [
      "<class 'pandas.core.frame.DataFrame'>\n",
      "RangeIndex: 315211 entries, 0 to 315210\n",
      "Data columns (total 2 columns):\n",
      " #   Column         Non-Null Count   Dtype \n",
      "---  ------         --------------   ----- \n",
      " 0   instructor_id  315211 non-null  int64 \n",
      " 1   section_uuid   315211 non-null  object\n",
      "dtypes: int64(1), object(1)\n",
      "memory usage: 4.8+ MB\n"
     ]
    }
   ],
   "source": [
    "# inspect new data\n",
    "teachings_df.info()"
   ]
  },
  {
   "cell_type": "markdown",
   "metadata": {
    "id": "YutNLrYR5vJq"
   },
   "source": [
    "## Rename columns & make lowercase"
   ]
  },
  {
   "cell_type": "code",
   "execution_count": 10,
   "metadata": {
    "id": "sBfgfcHMFofN"
   },
   "outputs": [],
   "source": [
    "# make all values lowercase to standardize\n",
    "teachings_df = teachings_df.applymap(lambda x: x.lower() if type(x) == str else x)"
   ]
  },
  {
   "cell_type": "markdown",
   "metadata": {
    "id": "7mNHkAvD6vlz"
   },
   "source": [
    "## Merge and fix"
   ]
  },
  {
   "cell_type": "markdown",
   "metadata": {
    "id": "CPBRNCqN7NOU"
   },
   "source": [
    "### Merge"
   ]
  },
  {
   "cell_type": "code",
   "execution_count": 11,
   "metadata": {
    "id": "CYnd0SOOUu0y"
   },
   "outputs": [],
   "source": [
    "# merge sections_df and teachings_df on 'section_uuid'\n",
    "# into new df 'big_df'\n",
    "big_df = pd.merge(sections_df, teachings_df, how = 'outer', on = 'section_uuid')"
   ]
  },
  {
   "cell_type": "code",
   "execution_count": 12,
   "metadata": {
    "colab": {
     "base_uri": "https://localhost:8080/"
    },
    "id": "f4kkHQwFU34h",
    "outputId": "b3e4e740-9a86-4f9c-a681-c502390a67cf"
   },
   "outputs": [
    {
     "name": "stdout",
     "output_type": "stream",
     "text": [
      "<class 'pandas.core.frame.DataFrame'>\n",
      "Int64Index: 315602 entries, 0 to 315601\n",
      "Data columns (total 7 columns):\n",
      " #   Column                Non-Null Count   Dtype  \n",
      "---  ------                --------------   -----  \n",
      " 0   section_uuid          315602 non-null  object \n",
      " 1   course_offering_uuid  315602 non-null  object \n",
      " 2   section_type          315602 non-null  object \n",
      " 3   section_number        315602 non-null  int64  \n",
      " 4   room_uuid             209644 non-null  object \n",
      " 5   schedule_uuid         315602 non-null  object \n",
      " 6   instructor_id         315211 non-null  float64\n",
      "dtypes: float64(1), int64(1), object(5)\n",
      "memory usage: 19.3+ MB\n"
     ]
    }
   ],
   "source": [
    "# inspect\n",
    "big_df.info()"
   ]
  },
  {
   "cell_type": "markdown",
   "metadata": {
    "id": "8OOn6iTcsrsr"
   },
   "source": [
    "# rooms.csv"
   ]
  },
  {
   "cell_type": "markdown",
   "metadata": {
    "id": "ypmGPPAL75JJ"
   },
   "source": [
    "## Import"
   ]
  },
  {
   "cell_type": "code",
   "execution_count": 13,
   "metadata": {
    "id": "QsAdybljVFZS"
   },
   "outputs": [],
   "source": [
    "path = 'Data/rooms.csv'\n",
    "rooms_df = pd.read_csv(path)"
   ]
  },
  {
   "cell_type": "markdown",
   "metadata": {
    "id": "d8wRvmGE76jE"
   },
   "source": [
    "## Inspect"
   ]
  },
  {
   "cell_type": "code",
   "execution_count": 14,
   "metadata": {
    "colab": {
     "base_uri": "https://localhost:8080/"
    },
    "id": "U9y7NWFAsylb",
    "outputId": "fa27e6ff-1f5f-441c-cafe-36dd97a02810"
   },
   "outputs": [
    {
     "name": "stdout",
     "output_type": "stream",
     "text": [
      "<class 'pandas.core.frame.DataFrame'>\n",
      "RangeIndex: 1350 entries, 0 to 1349\n",
      "Data columns (total 3 columns):\n",
      " #   Column         Non-Null Count  Dtype \n",
      "---  ------         --------------  ----- \n",
      " 0   uuid           1350 non-null   object\n",
      " 1   facility_code  1350 non-null   object\n",
      " 2   room_code      1348 non-null   object\n",
      "dtypes: object(3)\n",
      "memory usage: 31.8+ KB\n"
     ]
    }
   ],
   "source": [
    "# inspect\n",
    "rooms_df.info()"
   ]
  },
  {
   "cell_type": "markdown",
   "metadata": {
    "id": "cJMzHftt8E9Q"
   },
   "source": [
    "## Rename columns & make lowercase"
   ]
  },
  {
   "cell_type": "code",
   "execution_count": 15,
   "metadata": {
    "id": "Q-ep0YOMufyx"
   },
   "outputs": [],
   "source": [
    "# rename uuid to room_uuid\n",
    "rooms_df.rename(columns = {'uuid': 'room_uuid'}, inplace = True)"
   ]
  },
  {
   "cell_type": "code",
   "execution_count": 16,
   "metadata": {
    "id": "CnAJuwYnGEIr"
   },
   "outputs": [],
   "source": [
    "# make all values lowercase to standardize\n",
    "rooms_df = rooms_df.applymap(lambda x: x.lower() if type(x) == str else x)"
   ]
  },
  {
   "cell_type": "markdown",
   "metadata": {
    "id": "zQM5-v9_JPTY"
   },
   "source": [
    "## Merge and fix"
   ]
  },
  {
   "cell_type": "markdown",
   "metadata": {
    "id": "fPl0qq0GJQt1"
   },
   "source": [
    "### Merge"
   ]
  },
  {
   "cell_type": "code",
   "execution_count": 17,
   "metadata": {
    "id": "8A679jLouswS"
   },
   "outputs": [],
   "source": [
    "# merge with big_df on 'room_uuid'\n",
    "big_df = pd.merge(big_df, rooms_df, how = 'outer', on = 'room_uuid')"
   ]
  },
  {
   "cell_type": "code",
   "execution_count": 18,
   "metadata": {
    "colab": {
     "base_uri": "https://localhost:8080/"
    },
    "id": "Iw28pxREvMzB",
    "outputId": "d90417b8-1bd5-4ea6-83b2-ab26bbee9552"
   },
   "outputs": [
    {
     "name": "stdout",
     "output_type": "stream",
     "text": [
      "<class 'pandas.core.frame.DataFrame'>\n",
      "Int64Index: 315602 entries, 0 to 315601\n",
      "Data columns (total 9 columns):\n",
      " #   Column                Non-Null Count   Dtype  \n",
      "---  ------                --------------   -----  \n",
      " 0   section_uuid          315602 non-null  object \n",
      " 1   course_offering_uuid  315602 non-null  object \n",
      " 2   section_type          315602 non-null  object \n",
      " 3   section_number        315602 non-null  int64  \n",
      " 4   room_uuid             209644 non-null  object \n",
      " 5   schedule_uuid         315602 non-null  object \n",
      " 6   instructor_id         315211 non-null  float64\n",
      " 7   facility_code         209644 non-null  object \n",
      " 8   room_code             204052 non-null  object \n",
      "dtypes: float64(1), int64(1), object(7)\n",
      "memory usage: 24.1+ MB\n"
     ]
    }
   ],
   "source": [
    "# check\n",
    "big_df.info()"
   ]
  },
  {
   "cell_type": "markdown",
   "metadata": {
    "id": "OqepT_jzy9Yk"
   },
   "source": [
    "# schedules.csv"
   ]
  },
  {
   "cell_type": "markdown",
   "metadata": {
    "id": "ySXSXxYgKsKp"
   },
   "source": [
    "## Import"
   ]
  },
  {
   "cell_type": "code",
   "execution_count": 19,
   "metadata": {
    "id": "n4FfbbtBy77K"
   },
   "outputs": [],
   "source": [
    "path = 'Data/schedules.csv'\n",
    "schedules_df = pd.read_csv(path)"
   ]
  },
  {
   "cell_type": "markdown",
   "metadata": {
    "id": "jqwDYPD-Kts3"
   },
   "source": [
    "## Inspect"
   ]
  },
  {
   "cell_type": "code",
   "execution_count": 20,
   "metadata": {
    "colab": {
     "base_uri": "https://localhost:8080/"
    },
    "id": "_CxV8nNF3J4b",
    "outputId": "7a0d6575-2545-4dc5-8ac6-282cacd7ccab"
   },
   "outputs": [
    {
     "name": "stdout",
     "output_type": "stream",
     "text": [
      "<class 'pandas.core.frame.DataFrame'>\n",
      "RangeIndex: 4467 entries, 0 to 4466\n",
      "Data columns (total 10 columns):\n",
      " #   Column      Non-Null Count  Dtype \n",
      "---  ------      --------------  ----- \n",
      " 0   uuid        4467 non-null   object\n",
      " 1   start_time  4467 non-null   int64 \n",
      " 2   end_time    4467 non-null   int64 \n",
      " 3   mon         4467 non-null   bool  \n",
      " 4   tues        4467 non-null   bool  \n",
      " 5   wed         4467 non-null   bool  \n",
      " 6   thurs       4467 non-null   bool  \n",
      " 7   fri         4467 non-null   bool  \n",
      " 8   sat         4467 non-null   bool  \n",
      " 9   sun         4467 non-null   bool  \n",
      "dtypes: bool(7), int64(2), object(1)\n",
      "memory usage: 135.4+ KB\n"
     ]
    }
   ],
   "source": [
    "# inspect\n",
    "schedules_df.info()"
   ]
  },
  {
   "cell_type": "markdown",
   "metadata": {
    "id": "_7K3VQt4Kw4F"
   },
   "source": [
    "## Rename columns & make lowercase"
   ]
  },
  {
   "cell_type": "code",
   "execution_count": 21,
   "metadata": {
    "id": "Wl0M7E0g3Ltb"
   },
   "outputs": [],
   "source": [
    "# replace 'uuid' with 'schedule_uuid' to be able to merge\n",
    "schedules_df.rename(columns = {'uuid': 'schedule_uuid'}, inplace = True)"
   ]
  },
  {
   "cell_type": "code",
   "execution_count": 22,
   "metadata": {
    "id": "rgkX2BM8K-md"
   },
   "outputs": [],
   "source": [
    "# make all values lowercase to standardize\n",
    "schedules_df = schedules_df.applymap(lambda x: x.lower() if type(x) == str else x)"
   ]
  },
  {
   "cell_type": "markdown",
   "metadata": {
    "id": "KiAlfFDPRCxn"
   },
   "source": [
    "## Merge and fix"
   ]
  },
  {
   "cell_type": "markdown",
   "metadata": {
    "id": "D_ze6yRjREFM"
   },
   "source": [
    "### Merge"
   ]
  },
  {
   "cell_type": "code",
   "execution_count": 23,
   "metadata": {
    "id": "OEnFJIPW7M6r"
   },
   "outputs": [],
   "source": [
    "# merge schedules_df with big_df on 'schedule_uuid'\n",
    "big_df = pd.merge(big_df, schedules_df, how = 'outer', on = 'schedule_uuid')"
   ]
  },
  {
   "cell_type": "code",
   "execution_count": 24,
   "metadata": {
    "colab": {
     "base_uri": "https://localhost:8080/"
    },
    "id": "RqxOcnWX7mGL",
    "outputId": "7332df1a-3778-41b1-e287-c9209c615a8c"
   },
   "outputs": [
    {
     "name": "stdout",
     "output_type": "stream",
     "text": [
      "<class 'pandas.core.frame.DataFrame'>\n",
      "Int64Index: 315602 entries, 0 to 315601\n",
      "Data columns (total 18 columns):\n",
      " #   Column                Non-Null Count   Dtype  \n",
      "---  ------                --------------   -----  \n",
      " 0   section_uuid          315602 non-null  object \n",
      " 1   course_offering_uuid  315602 non-null  object \n",
      " 2   section_type          315602 non-null  object \n",
      " 3   section_number        315602 non-null  int64  \n",
      " 4   room_uuid             209644 non-null  object \n",
      " 5   schedule_uuid         315602 non-null  object \n",
      " 6   instructor_id         315211 non-null  float64\n",
      " 7   facility_code         209644 non-null  object \n",
      " 8   room_code             204052 non-null  object \n",
      " 9   start_time            315602 non-null  int64  \n",
      " 10  end_time              315602 non-null  int64  \n",
      " 11  mon                   315602 non-null  bool   \n",
      " 12  tues                  315602 non-null  bool   \n",
      " 13  wed                   315602 non-null  bool   \n",
      " 14  thurs                 315602 non-null  bool   \n",
      " 15  fri                   315602 non-null  bool   \n",
      " 16  sat                   315602 non-null  bool   \n",
      " 17  sun                   315602 non-null  bool   \n",
      "dtypes: bool(7), float64(1), int64(3), object(7)\n",
      "memory usage: 31.0+ MB\n"
     ]
    }
   ],
   "source": [
    "# check\n",
    "big_df.info()"
   ]
  },
  {
   "cell_type": "markdown",
   "metadata": {
    "id": "vMGvNFa67_dt"
   },
   "source": [
    "# subject_memberships.csv and subjects.csv "
   ]
  },
  {
   "cell_type": "markdown",
   "metadata": {
    "id": "VCNPIsQgSHUf"
   },
   "source": [
    "## subject_memberships.csv"
   ]
  },
  {
   "cell_type": "markdown",
   "metadata": {
    "id": "UO1gCcUnR-6o"
   },
   "source": [
    "### Import"
   ]
  },
  {
   "cell_type": "code",
   "execution_count": 25,
   "metadata": {
    "id": "LtRBLsXW7qh7"
   },
   "outputs": [],
   "source": [
    "path = 'Data/subject_memberships.csv'\n",
    "subject_memberships_df = pd.read_csv(path)"
   ]
  },
  {
   "cell_type": "markdown",
   "metadata": {
    "id": "NT_s9Q_xSOEJ"
   },
   "source": [
    "### Inspect"
   ]
  },
  {
   "cell_type": "code",
   "execution_count": 26,
   "metadata": {
    "colab": {
     "base_uri": "https://localhost:8080/"
    },
    "id": "eAmGfx4k9Jms",
    "outputId": "dddad61a-ee68-47a0-d659-909478da0126"
   },
   "outputs": [
    {
     "name": "stdout",
     "output_type": "stream",
     "text": [
      "<class 'pandas.core.frame.DataFrame'>\n",
      "RangeIndex: 95314 entries, 0 to 95313\n",
      "Data columns (total 2 columns):\n",
      " #   Column                Non-Null Count  Dtype \n",
      "---  ------                --------------  ----- \n",
      " 0   subject_code          95314 non-null  int64 \n",
      " 1   course_offering_uuid  95314 non-null  object\n",
      "dtypes: int64(1), object(1)\n",
      "memory usage: 1.5+ MB\n"
     ]
    }
   ],
   "source": [
    "# inspect\n",
    "subject_memberships_df.info()"
   ]
  },
  {
   "cell_type": "markdown",
   "metadata": {
    "id": "u-b4k9KRSSDt"
   },
   "source": [
    "### Rename columns & make lowercase"
   ]
  },
  {
   "cell_type": "code",
   "execution_count": 27,
   "metadata": {
    "id": "fzJWKvUMSWko"
   },
   "outputs": [],
   "source": [
    "# make all values lowercase to standardize\n",
    "subject_memberships_df = subject_memberships_df.applymap(lambda x: x.lower() \\\n",
    "                                                         if type(x) == str \n",
    "                                                         else x)"
   ]
  },
  {
   "cell_type": "markdown",
   "metadata": {
    "id": "Lz7f0eCYSxa1"
   },
   "source": [
    "## subjects.csv"
   ]
  },
  {
   "cell_type": "markdown",
   "metadata": {
    "id": "pTqCiWseTQ-f"
   },
   "source": [
    "### Import"
   ]
  },
  {
   "cell_type": "code",
   "execution_count": 28,
   "metadata": {
    "id": "qkYk5d779y7k"
   },
   "outputs": [],
   "source": [
    "# load subjects.csv\n",
    "path = 'Data/subjects.csv'\n",
    "subjects_df = pd.read_csv(path)"
   ]
  },
  {
   "cell_type": "markdown",
   "metadata": {
    "id": "9sdoTJ-fTTHd"
   },
   "source": [
    "### Inspect"
   ]
  },
  {
   "cell_type": "code",
   "execution_count": 29,
   "metadata": {
    "colab": {
     "base_uri": "https://localhost:8080/"
    },
    "id": "YAk-BboJ-HDb",
    "outputId": "f125b036-5dda-4e9e-def4-cc1db232d7a5"
   },
   "outputs": [
    {
     "name": "stdout",
     "output_type": "stream",
     "text": [
      "<class 'pandas.core.frame.DataFrame'>\n",
      "RangeIndex: 200 entries, 0 to 199\n",
      "Data columns (total 3 columns):\n",
      " #   Column        Non-Null Count  Dtype \n",
      "---  ------        --------------  ----- \n",
      " 0   code          200 non-null    object\n",
      " 1   name          200 non-null    object\n",
      " 2   abbreviation  200 non-null    object\n",
      "dtypes: object(3)\n",
      "memory usage: 4.8+ KB\n"
     ]
    }
   ],
   "source": [
    "# check out subjects_df\n",
    "subjects_df.info()"
   ]
  },
  {
   "cell_type": "markdown",
   "metadata": {
    "id": "ZgUUJ0KbTXgK"
   },
   "source": [
    "### Rename columns & make lowercase"
   ]
  },
  {
   "cell_type": "code",
   "execution_count": 30,
   "metadata": {
    "id": "DlQmRUKKTcAf"
   },
   "outputs": [],
   "source": [
    "subjects_df.rename(columns = {'code': 'subject_code', \n",
    "                              'name': 'subject_name',\n",
    "                              'abbreviation': 'subject_abbreviation'},\n",
    "                   inplace = True)"
   ]
  },
  {
   "cell_type": "code",
   "execution_count": 31,
   "metadata": {
    "id": "WgtbAgGlTrGm"
   },
   "outputs": [],
   "source": [
    "# make all values lowercase to standardize\n",
    "subjects_df = subjects_df.applymap(lambda x: x.lower() \n",
    "                                   if type(x) == str \n",
    "                                   else x)"
   ]
  },
  {
   "cell_type": "markdown",
   "metadata": {
    "id": "bOjQ9Zl1XZeD"
   },
   "source": [
    "## Merge subjects.csv and subject_memberships.csv"
   ]
  },
  {
   "cell_type": "markdown",
   "metadata": {
    "id": "CzKhyx5MXtd8"
   },
   "source": [
    "### Merge"
   ]
  },
  {
   "cell_type": "code",
   "execution_count": 32,
   "metadata": {
    "id": "Rlo0KXb8DTkg"
   },
   "outputs": [],
   "source": [
    "# cast 'subject_code' as int so can merge with df\n",
    "# subjects_df['subject_code'] = subjects_df['subject_code'].astype(int) \n",
    "# throws error for value 'zzz'"
   ]
  },
  {
   "cell_type": "code",
   "execution_count": 33,
   "metadata": {
    "colab": {
     "base_uri": "https://localhost:8080/",
     "height": 81
    },
    "id": "7rTgkeaADeEf",
    "outputId": "99383153-be1b-4745-8838-cc93b6db34fa"
   },
   "outputs": [
    {
     "data": {
      "text/html": [
       "<div>\n",
       "<style scoped>\n",
       "    .dataframe tbody tr th:only-of-type {\n",
       "        vertical-align: middle;\n",
       "    }\n",
       "\n",
       "    .dataframe tbody tr th {\n",
       "        vertical-align: top;\n",
       "    }\n",
       "\n",
       "    .dataframe thead th {\n",
       "        text-align: right;\n",
       "    }\n",
       "</style>\n",
       "<table border=\"1\" class=\"dataframe\">\n",
       "  <thead>\n",
       "    <tr style=\"text-align: right;\">\n",
       "      <th></th>\n",
       "      <th>subject_code</th>\n",
       "    </tr>\n",
       "  </thead>\n",
       "  <tbody>\n",
       "    <tr>\n",
       "      <th>127</th>\n",
       "      <td>zzz</td>\n",
       "    </tr>\n",
       "  </tbody>\n",
       "</table>\n",
       "</div>"
      ],
      "text/plain": [
       "    subject_code\n",
       "127          zzz"
      ]
     },
     "execution_count": 33,
     "metadata": {},
     "output_type": "execute_result"
    }
   ],
   "source": [
    "# look up 'ZZZ' in subject_code\n",
    "subjects_df.loc[subjects_df['subject_code'] == 'zzz', ['subject_code']] \n",
    "# index 127"
   ]
  },
  {
   "cell_type": "code",
   "execution_count": 34,
   "metadata": {
    "colab": {
     "base_uri": "https://localhost:8080/"
    },
    "id": "LKjiFQZkDku-",
    "outputId": "4227defa-30ee-40cb-a8f5-8c4a004128bb"
   },
   "outputs": [
    {
     "data": {
      "text/plain": [
       "subject_code                                     zzz\n",
       "subject_name            registrar-administrative use\n",
       "subject_abbreviation                        adminuse\n",
       "Name: 127, dtype: object"
      ]
     },
     "execution_count": 34,
     "metadata": {},
     "output_type": "execute_result"
    }
   ],
   "source": [
    "subjects_df.loc[127, :] \n",
    "# 'zzz' should be assigned to the subject_code for registrar-administrative \n",
    "# use"
   ]
  },
  {
   "cell_type": "code",
   "execution_count": 35,
   "metadata": {
    "colab": {
     "base_uri": "https://localhost:8080/",
     "height": 49
    },
    "id": "YsV1MOlHDuaO",
    "outputId": "b460b52d-1edb-43f7-b75f-82745d13fe82"
   },
   "outputs": [
    {
     "data": {
      "text/html": [
       "<div>\n",
       "<style scoped>\n",
       "    .dataframe tbody tr th:only-of-type {\n",
       "        vertical-align: middle;\n",
       "    }\n",
       "\n",
       "    .dataframe tbody tr th {\n",
       "        vertical-align: top;\n",
       "    }\n",
       "\n",
       "    .dataframe thead th {\n",
       "        text-align: right;\n",
       "    }\n",
       "</style>\n",
       "<table border=\"1\" class=\"dataframe\">\n",
       "  <thead>\n",
       "    <tr style=\"text-align: right;\">\n",
       "      <th></th>\n",
       "      <th>subject_code</th>\n",
       "      <th>course_offering_uuid</th>\n",
       "    </tr>\n",
       "  </thead>\n",
       "  <tbody>\n",
       "  </tbody>\n",
       "</table>\n",
       "</div>"
      ],
      "text/plain": [
       "Empty DataFrame\n",
       "Columns: [subject_code, course_offering_uuid]\n",
       "Index: []"
      ]
     },
     "execution_count": 35,
     "metadata": {},
     "output_type": "execute_result"
    }
   ],
   "source": [
    "subject_memberships_df.loc[subject_memberships_df['subject_code'] == 'zzz', :]\n",
    "# there are no courses in the dataset with this subject_code, so we can delete"
   ]
  },
  {
   "cell_type": "code",
   "execution_count": 36,
   "metadata": {
    "id": "WW4i03szDyFw"
   },
   "outputs": [],
   "source": [
    "subjects_df.drop(127, axis = 0, inplace = True)"
   ]
  },
  {
   "cell_type": "code",
   "execution_count": 37,
   "metadata": {
    "colab": {
     "base_uri": "https://localhost:8080/",
     "height": 49
    },
    "id": "dMI6IgtrXO3P",
    "outputId": "12dd912f-f686-48a4-fef9-b95bcf881d5d"
   },
   "outputs": [
    {
     "data": {
      "text/html": [
       "<div>\n",
       "<style scoped>\n",
       "    .dataframe tbody tr th:only-of-type {\n",
       "        vertical-align: middle;\n",
       "    }\n",
       "\n",
       "    .dataframe tbody tr th {\n",
       "        vertical-align: top;\n",
       "    }\n",
       "\n",
       "    .dataframe thead th {\n",
       "        text-align: right;\n",
       "    }\n",
       "</style>\n",
       "<table border=\"1\" class=\"dataframe\">\n",
       "  <thead>\n",
       "    <tr style=\"text-align: right;\">\n",
       "      <th></th>\n",
       "      <th>subject_code</th>\n",
       "      <th>subject_name</th>\n",
       "      <th>subject_abbreviation</th>\n",
       "    </tr>\n",
       "  </thead>\n",
       "  <tbody>\n",
       "  </tbody>\n",
       "</table>\n",
       "</div>"
      ],
      "text/plain": [
       "Empty DataFrame\n",
       "Columns: [subject_code, subject_name, subject_abbreviation]\n",
       "Index: []"
      ]
     },
     "execution_count": 37,
     "metadata": {},
     "output_type": "execute_result"
    }
   ],
   "source": [
    "# check\n",
    "subjects_df.loc[subjects_df['subject_name'] == 'registrar-administrative use',\n",
    "                :]"
   ]
  },
  {
   "cell_type": "code",
   "execution_count": 38,
   "metadata": {
    "id": "wviG_Myu_YOQ"
   },
   "outputs": [],
   "source": [
    "# cast 'subject_code' as int so can merge with df\n",
    "# subjects_df['subject_code'] = subjects_df['subject_code'].astype(int) \n",
    "# throws error for value 'sab'"
   ]
  },
  {
   "cell_type": "code",
   "execution_count": 39,
   "metadata": {
    "colab": {
     "base_uri": "https://localhost:8080/",
     "height": 81
    },
    "id": "ujNGvY4g_uTu",
    "outputId": "3089d2c6-04a4-480d-bd02-c44f22c0fb41"
   },
   "outputs": [
    {
     "data": {
      "text/html": [
       "<div>\n",
       "<style scoped>\n",
       "    .dataframe tbody tr th:only-of-type {\n",
       "        vertical-align: middle;\n",
       "    }\n",
       "\n",
       "    .dataframe tbody tr th {\n",
       "        vertical-align: top;\n",
       "    }\n",
       "\n",
       "    .dataframe thead th {\n",
       "        text-align: right;\n",
       "    }\n",
       "</style>\n",
       "<table border=\"1\" class=\"dataframe\">\n",
       "  <thead>\n",
       "    <tr style=\"text-align: right;\">\n",
       "      <th></th>\n",
       "      <th>subject_code</th>\n",
       "    </tr>\n",
       "  </thead>\n",
       "  <tbody>\n",
       "    <tr>\n",
       "      <th>173</th>\n",
       "      <td>sab</td>\n",
       "    </tr>\n",
       "  </tbody>\n",
       "</table>\n",
       "</div>"
      ],
      "text/plain": [
       "    subject_code\n",
       "173          sab"
      ]
     },
     "execution_count": 39,
     "metadata": {},
     "output_type": "execute_result"
    }
   ],
   "source": [
    "# look up 'sab' in subject_code\n",
    "subjects_df.loc[subjects_df['subject_code'] == 'sab', ['subject_code']] \n",
    "# index 173"
   ]
  },
  {
   "cell_type": "code",
   "execution_count": 40,
   "metadata": {
    "colab": {
     "base_uri": "https://localhost:8080/"
    },
    "id": "eJZnYZ31AnqH",
    "outputId": "71bcea73-eb64-413c-b7b3-af40e5147c43"
   },
   "outputs": [
    {
     "data": {
      "text/plain": [
       "subject_code                                                       sab\n",
       "subject_name            international academic programs - study abroad\n",
       "subject_abbreviation                                          stdyabrd\n",
       "Name: 173, dtype: object"
      ]
     },
     "execution_count": 40,
     "metadata": {},
     "output_type": "execute_result"
    }
   ],
   "source": [
    "subjects_df.loc[173, :] \n",
    "# 'sab' should be assigned to the subject_code for 'international academic \n",
    "# programs - study abroad'"
   ]
  },
  {
   "cell_type": "code",
   "execution_count": 41,
   "metadata": {
    "colab": {
     "base_uri": "https://localhost:8080/",
     "height": 49
    },
    "id": "JWVuanorBti3",
    "outputId": "10f45260-9e41-4bdf-bc2d-c7e15aaa9129"
   },
   "outputs": [
    {
     "data": {
      "text/html": [
       "<div>\n",
       "<style scoped>\n",
       "    .dataframe tbody tr th:only-of-type {\n",
       "        vertical-align: middle;\n",
       "    }\n",
       "\n",
       "    .dataframe tbody tr th {\n",
       "        vertical-align: top;\n",
       "    }\n",
       "\n",
       "    .dataframe thead th {\n",
       "        text-align: right;\n",
       "    }\n",
       "</style>\n",
       "<table border=\"1\" class=\"dataframe\">\n",
       "  <thead>\n",
       "    <tr style=\"text-align: right;\">\n",
       "      <th></th>\n",
       "      <th>subject_code</th>\n",
       "      <th>course_offering_uuid</th>\n",
       "    </tr>\n",
       "  </thead>\n",
       "  <tbody>\n",
       "  </tbody>\n",
       "</table>\n",
       "</div>"
      ],
      "text/plain": [
       "Empty DataFrame\n",
       "Columns: [subject_code, course_offering_uuid]\n",
       "Index: []"
      ]
     },
     "execution_count": 41,
     "metadata": {},
     "output_type": "execute_result"
    }
   ],
   "source": [
    "subject_memberships_df.loc[subject_memberships_df['subject_code'] == 'sab', :]\n",
    "# there are no courses in the dataset with this subject_code, so we can delete"
   ]
  },
  {
   "cell_type": "code",
   "execution_count": 42,
   "metadata": {
    "id": "vrlWk3vlCtR3"
   },
   "outputs": [],
   "source": [
    "subjects_df.drop(173, axis = 0, inplace = True)"
   ]
  },
  {
   "cell_type": "code",
   "execution_count": 43,
   "metadata": {
    "colab": {
     "base_uri": "https://localhost:8080/",
     "height": 49
    },
    "id": "VhvA2UW5DHf_",
    "outputId": "47be0912-6647-4e8b-c890-3b17ab1c286e"
   },
   "outputs": [
    {
     "data": {
      "text/html": [
       "<div>\n",
       "<style scoped>\n",
       "    .dataframe tbody tr th:only-of-type {\n",
       "        vertical-align: middle;\n",
       "    }\n",
       "\n",
       "    .dataframe tbody tr th {\n",
       "        vertical-align: top;\n",
       "    }\n",
       "\n",
       "    .dataframe thead th {\n",
       "        text-align: right;\n",
       "    }\n",
       "</style>\n",
       "<table border=\"1\" class=\"dataframe\">\n",
       "  <thead>\n",
       "    <tr style=\"text-align: right;\">\n",
       "      <th></th>\n",
       "      <th>subject_code</th>\n",
       "      <th>subject_name</th>\n",
       "      <th>subject_abbreviation</th>\n",
       "    </tr>\n",
       "  </thead>\n",
       "  <tbody>\n",
       "  </tbody>\n",
       "</table>\n",
       "</div>"
      ],
      "text/plain": [
       "Empty DataFrame\n",
       "Columns: [subject_code, subject_name, subject_abbreviation]\n",
       "Index: []"
      ]
     },
     "execution_count": 43,
     "metadata": {},
     "output_type": "execute_result"
    }
   ],
   "source": [
    "# check\n",
    "subjects_df.loc[subjects_df['subject_name'] == 'international academic \\\n",
    "programs - study abroad', :]"
   ]
  },
  {
   "cell_type": "code",
   "execution_count": 44,
   "metadata": {
    "id": "YidQ9PNHD1WA"
   },
   "outputs": [],
   "source": [
    "# cast 'subject_code' as int so can merge with df\n",
    "subjects_df['subject_code'] = subjects_df['subject_code'].astype(int)"
   ]
  },
  {
   "cell_type": "code",
   "execution_count": 45,
   "metadata": {
    "id": "0vbTKeb9-pKF"
   },
   "outputs": [],
   "source": [
    "# merge on 'subject_code\n",
    "complete_subjects_df = pd.merge(subject_memberships_df, \n",
    "                              subjects_df, \n",
    "                              how = 'outer', \n",
    "                              on = 'subject_code')"
   ]
  },
  {
   "cell_type": "code",
   "execution_count": 46,
   "metadata": {
    "colab": {
     "base_uri": "https://localhost:8080/"
    },
    "id": "IbhIV-_8_RSN",
    "outputId": "46b1bff1-4ca9-4d92-b890-47ea98877ee9"
   },
   "outputs": [
    {
     "name": "stdout",
     "output_type": "stream",
     "text": [
      "<class 'pandas.core.frame.DataFrame'>\n",
      "Int64Index: 95319 entries, 0 to 95318\n",
      "Data columns (total 4 columns):\n",
      " #   Column                Non-Null Count  Dtype \n",
      "---  ------                --------------  ----- \n",
      " 0   subject_code          95319 non-null  int64 \n",
      " 1   course_offering_uuid  95314 non-null  object\n",
      " 2   subject_name          95319 non-null  object\n",
      " 3   subject_abbreviation  95319 non-null  object\n",
      "dtypes: int64(1), object(3)\n",
      "memory usage: 3.6+ MB\n"
     ]
    }
   ],
   "source": [
    "# inspect\n",
    "complete_subjects_df.info()"
   ]
  },
  {
   "cell_type": "markdown",
   "metadata": {
    "id": "B6xeXOltZdIf"
   },
   "source": [
    "## Merge with big_df"
   ]
  },
  {
   "cell_type": "markdown",
   "metadata": {
    "id": "3cI9TQjTZtTu"
   },
   "source": [
    "### Merge"
   ]
  },
  {
   "cell_type": "code",
   "execution_count": 47,
   "metadata": {
    "id": "ep18Vjhf9buD"
   },
   "outputs": [],
   "source": [
    "# merge complete_subjects_df with big_df on 'course_offering_uuid'\n",
    "big_df = pd.merge(big_df, \n",
    "                  complete_subjects_df, \n",
    "                  how = 'outer', \n",
    "                  on = 'course_offering_uuid')"
   ]
  },
  {
   "cell_type": "code",
   "execution_count": 48,
   "metadata": {
    "colab": {
     "base_uri": "https://localhost:8080/"
    },
    "id": "w4clsw4v9t8r",
    "outputId": "5d61f3af-0e16-4ad4-f96f-e28417aa883a"
   },
   "outputs": [
    {
     "name": "stdout",
     "output_type": "stream",
     "text": [
      "<class 'pandas.core.frame.DataFrame'>\n",
      "Int64Index: 365133 entries, 0 to 365132\n",
      "Data columns (total 21 columns):\n",
      " #   Column                Non-Null Count   Dtype  \n",
      "---  ------                --------------   -----  \n",
      " 0   section_uuid          365128 non-null  object \n",
      " 1   course_offering_uuid  365128 non-null  object \n",
      " 2   section_type          365128 non-null  object \n",
      " 3   section_number        365128 non-null  float64\n",
      " 4   room_uuid             255639 non-null  object \n",
      " 5   schedule_uuid         365128 non-null  object \n",
      " 6   instructor_id         364408 non-null  float64\n",
      " 7   facility_code         255639 non-null  object \n",
      " 8   room_code             249390 non-null  object \n",
      " 9   start_time            365128 non-null  float64\n",
      " 10  end_time              365128 non-null  float64\n",
      " 11  mon                   365128 non-null  object \n",
      " 12  tues                  365128 non-null  object \n",
      " 13  wed                   365128 non-null  object \n",
      " 14  thurs                 365128 non-null  object \n",
      " 15  fri                   365128 non-null  object \n",
      " 16  sat                   365128 non-null  object \n",
      " 17  sun                   365128 non-null  object \n",
      " 18  subject_code          365133 non-null  int64  \n",
      " 19  subject_name          365133 non-null  object \n",
      " 20  subject_abbreviation  365133 non-null  object \n",
      "dtypes: float64(4), int64(1), object(16)\n",
      "memory usage: 61.3+ MB\n"
     ]
    }
   ],
   "source": [
    "# check\n",
    "big_df.info()"
   ]
  },
  {
   "cell_type": "markdown",
   "metadata": {
    "id": "QYvUP6JdGsyA"
   },
   "source": [
    "# course_offerings.csv"
   ]
  },
  {
   "cell_type": "markdown",
   "metadata": {
    "id": "WSHWnSQaaI5r"
   },
   "source": [
    "## Import"
   ]
  },
  {
   "cell_type": "code",
   "execution_count": 49,
   "metadata": {
    "id": "U0SJG5SWFlZm"
   },
   "outputs": [],
   "source": [
    "path = 'Data/course_offerings.csv'\n",
    "course_offerings_df = pd.read_csv(path)"
   ]
  },
  {
   "cell_type": "markdown",
   "metadata": {
    "id": "OhwdRXd6aKvK"
   },
   "source": [
    "## Inspect"
   ]
  },
  {
   "cell_type": "code",
   "execution_count": 50,
   "metadata": {
    "colab": {
     "base_uri": "https://localhost:8080/"
    },
    "id": "NIocxI8vIKIu",
    "outputId": "87febc2e-f7b2-4f5e-9cdb-e2db958ea073"
   },
   "outputs": [
    {
     "name": "stdout",
     "output_type": "stream",
     "text": [
      "<class 'pandas.core.frame.DataFrame'>\n",
      "RangeIndex: 81452 entries, 0 to 81451\n",
      "Data columns (total 4 columns):\n",
      " #   Column       Non-Null Count  Dtype \n",
      "---  ------       --------------  ----- \n",
      " 0   uuid         81452 non-null  object\n",
      " 1   course_uuid  81452 non-null  object\n",
      " 2   term_code    81452 non-null  int64 \n",
      " 3   name         78916 non-null  object\n",
      "dtypes: int64(1), object(3)\n",
      "memory usage: 2.5+ MB\n"
     ]
    }
   ],
   "source": [
    "# inspect\n",
    "course_offerings_df.info()"
   ]
  },
  {
   "cell_type": "markdown",
   "metadata": {
    "id": "GQTORqOVaPv9"
   },
   "source": [
    "## Rename columns & make lowercase"
   ]
  },
  {
   "cell_type": "code",
   "execution_count": 51,
   "metadata": {
    "id": "tHds3PGrIgCv"
   },
   "outputs": [],
   "source": [
    "# rename 'name' to 'course_offering_name' to avoid confusion with \n",
    "# 'course_name' (official course name and particular-term course name can \n",
    "# differ)\n",
    "\n",
    "# rename 'uuid' to 'course_offering_uuid' to avoid confusion with \n",
    "# 'course_uuid'\n",
    "course_offerings_df.rename(columns = {'name': 'course_offering_name', \n",
    "                                      'uuid': 'course_offering_uuid'}, \n",
    "                           inplace = True)"
   ]
  },
  {
   "cell_type": "code",
   "execution_count": 52,
   "metadata": {
    "colab": {
     "base_uri": "https://localhost:8080/"
    },
    "id": "M8epw6nUIyAW",
    "outputId": "54915f25-fd40-4e84-ed4d-118bb4dce98a"
   },
   "outputs": [
    {
     "name": "stdout",
     "output_type": "stream",
     "text": [
      "<class 'pandas.core.frame.DataFrame'>\n",
      "RangeIndex: 81452 entries, 0 to 81451\n",
      "Data columns (total 4 columns):\n",
      " #   Column                Non-Null Count  Dtype \n",
      "---  ------                --------------  ----- \n",
      " 0   course_offering_uuid  81452 non-null  object\n",
      " 1   course_uuid           81452 non-null  object\n",
      " 2   term_code             81452 non-null  int64 \n",
      " 3   course_offering_name  78916 non-null  object\n",
      "dtypes: int64(1), object(3)\n",
      "memory usage: 2.5+ MB\n"
     ]
    }
   ],
   "source": [
    "# inspect\n",
    "course_offerings_df.info()"
   ]
  },
  {
   "cell_type": "code",
   "execution_count": 53,
   "metadata": {
    "id": "EB4e80DcaWAJ"
   },
   "outputs": [],
   "source": [
    "# make all values lowercase to standardize\n",
    "course_offerings_df = course_offerings_df.applymap(lambda x: x.lower() \n",
    "                                                   if type(x) == str \n",
    "                                                   else x)"
   ]
  },
  {
   "cell_type": "markdown",
   "metadata": {
    "id": "EWUZX5CwdDIR"
   },
   "source": [
    "## Merge"
   ]
  },
  {
   "cell_type": "markdown",
   "metadata": {
    "id": "SK32iukxdELN"
   },
   "source": [
    "### Merge"
   ]
  },
  {
   "cell_type": "code",
   "execution_count": 54,
   "metadata": {
    "id": "0x9Z_59FKDV2"
   },
   "outputs": [],
   "source": [
    "# merge with big_df on course_offering_uuid\n",
    "big_df = pd.merge(big_df, \n",
    "                  course_offerings_df, \n",
    "                  how = 'outer', \n",
    "                  on = 'course_offering_uuid')"
   ]
  },
  {
   "cell_type": "code",
   "execution_count": 55,
   "metadata": {
    "colab": {
     "base_uri": "https://localhost:8080/"
    },
    "id": "H1lyFSkpKS3V",
    "outputId": "d15071f6-c936-4d8f-d12c-cb394ce1eae7"
   },
   "outputs": [
    {
     "name": "stdout",
     "output_type": "stream",
     "text": [
      "<class 'pandas.core.frame.DataFrame'>\n",
      "Int64Index: 365133 entries, 0 to 365132\n",
      "Data columns (total 24 columns):\n",
      " #   Column                Non-Null Count   Dtype  \n",
      "---  ------                --------------   -----  \n",
      " 0   section_uuid          365128 non-null  object \n",
      " 1   course_offering_uuid  365128 non-null  object \n",
      " 2   section_type          365128 non-null  object \n",
      " 3   section_number        365128 non-null  float64\n",
      " 4   room_uuid             255639 non-null  object \n",
      " 5   schedule_uuid         365128 non-null  object \n",
      " 6   instructor_id         364408 non-null  float64\n",
      " 7   facility_code         255639 non-null  object \n",
      " 8   room_code             249390 non-null  object \n",
      " 9   start_time            365128 non-null  float64\n",
      " 10  end_time              365128 non-null  float64\n",
      " 11  mon                   365128 non-null  object \n",
      " 12  tues                  365128 non-null  object \n",
      " 13  wed                   365128 non-null  object \n",
      " 14  thurs                 365128 non-null  object \n",
      " 15  fri                   365128 non-null  object \n",
      " 16  sat                   365128 non-null  object \n",
      " 17  sun                   365128 non-null  object \n",
      " 18  subject_code          365133 non-null  int64  \n",
      " 19  subject_name          365133 non-null  object \n",
      " 20  subject_abbreviation  365133 non-null  object \n",
      " 21  course_uuid           365128 non-null  object \n",
      " 22  term_code             365128 non-null  float64\n",
      " 23  course_offering_name  355518 non-null  object \n",
      "dtypes: float64(5), int64(1), object(18)\n",
      "memory usage: 69.6+ MB\n"
     ]
    }
   ],
   "source": [
    "# check\n",
    "big_df.info()"
   ]
  },
  {
   "cell_type": "markdown",
   "metadata": {
    "id": "4bPKv8nWKc2Y"
   },
   "source": [
    "# courses.csv"
   ]
  },
  {
   "cell_type": "markdown",
   "metadata": {
    "id": "QSX0hLaDdeH2"
   },
   "source": [
    "## Import"
   ]
  },
  {
   "cell_type": "code",
   "execution_count": 56,
   "metadata": {
    "id": "qb8JZy33KU2l"
   },
   "outputs": [],
   "source": [
    "path = 'Data/courses.csv'\n",
    "courses_df = pd.read_csv(path)"
   ]
  },
  {
   "cell_type": "markdown",
   "metadata": {
    "id": "h9bTxTsMdgUR"
   },
   "source": [
    "## Inspect"
   ]
  },
  {
   "cell_type": "code",
   "execution_count": 57,
   "metadata": {
    "colab": {
     "base_uri": "https://localhost:8080/"
    },
    "id": "FBnkyWoXKt3W",
    "outputId": "147d97ff-54a1-4383-a805-50bd1554e30f"
   },
   "outputs": [
    {
     "name": "stdout",
     "output_type": "stream",
     "text": [
      "<class 'pandas.core.frame.DataFrame'>\n",
      "RangeIndex: 9306 entries, 0 to 9305\n",
      "Data columns (total 3 columns):\n",
      " #   Column  Non-Null Count  Dtype \n",
      "---  ------  --------------  ----- \n",
      " 0   uuid    9306 non-null   object\n",
      " 1   name    9264 non-null   object\n",
      " 2   number  9306 non-null   int64 \n",
      "dtypes: int64(1), object(2)\n",
      "memory usage: 218.2+ KB\n"
     ]
    }
   ],
   "source": [
    "# inspect\n",
    "courses_df.info()"
   ]
  },
  {
   "cell_type": "markdown",
   "metadata": {
    "id": "_rExA7PTdis0"
   },
   "source": [
    "## Rename columns & make lowercase"
   ]
  },
  {
   "cell_type": "code",
   "execution_count": 58,
   "metadata": {
    "id": "ec9xB3ipK9Mp"
   },
   "outputs": [],
   "source": [
    "# rename 'uuid' to 'course_uuid', 'name' to 'course_name', \n",
    "# 'number' to 'course_number' to avoid confusion\n",
    "courses_df.rename(columns = {'uuid': 'course_uuid', \n",
    "                             'name': 'course_name', \n",
    "                             'number': 'course_number'}, \n",
    "                  inplace = True)"
   ]
  },
  {
   "cell_type": "code",
   "execution_count": 59,
   "metadata": {
    "colab": {
     "base_uri": "https://localhost:8080/"
    },
    "id": "QTRBWZz2LNiI",
    "outputId": "46a13b8b-e048-46c4-9f9d-ad8b35cf5cfb"
   },
   "outputs": [
    {
     "name": "stdout",
     "output_type": "stream",
     "text": [
      "<class 'pandas.core.frame.DataFrame'>\n",
      "RangeIndex: 9306 entries, 0 to 9305\n",
      "Data columns (total 3 columns):\n",
      " #   Column         Non-Null Count  Dtype \n",
      "---  ------         --------------  ----- \n",
      " 0   course_uuid    9306 non-null   object\n",
      " 1   course_name    9264 non-null   object\n",
      " 2   course_number  9306 non-null   int64 \n",
      "dtypes: int64(1), object(2)\n",
      "memory usage: 218.2+ KB\n"
     ]
    }
   ],
   "source": [
    "# check\n",
    "courses_df.info()"
   ]
  },
  {
   "cell_type": "code",
   "execution_count": 60,
   "metadata": {
    "id": "gFsy6D2Bdwra"
   },
   "outputs": [],
   "source": [
    "# make all values lowercase to standardize\n",
    "courses_df = courses_df.applymap(lambda x: x.lower() \n",
    "                                 if type(x) == str \n",
    "                                 else x)"
   ]
  },
  {
   "cell_type": "markdown",
   "metadata": {
    "id": "8PxztbUAjQ7w"
   },
   "source": [
    "## Merge"
   ]
  },
  {
   "cell_type": "markdown",
   "metadata": {
    "id": "ilGPhcEbjSSN"
   },
   "source": [
    "### Merge"
   ]
  },
  {
   "cell_type": "code",
   "execution_count": 61,
   "metadata": {
    "id": "i4ejaYg4Lw72"
   },
   "outputs": [],
   "source": [
    "# merge with big_df on course_uuid\n",
    "big_df = pd.merge(big_df, \n",
    "                  courses_df, \n",
    "                  how = 'outer', \n",
    "                  on = 'course_uuid')"
   ]
  },
  {
   "cell_type": "code",
   "execution_count": 62,
   "metadata": {
    "colab": {
     "base_uri": "https://localhost:8080/"
    },
    "id": "3HplWdUwMDTm",
    "outputId": "3ce33613-710c-4ab6-ab89-e6df81b6277e"
   },
   "outputs": [
    {
     "name": "stdout",
     "output_type": "stream",
     "text": [
      "<class 'pandas.core.frame.DataFrame'>\n",
      "Int64Index: 365133 entries, 0 to 365132\n",
      "Data columns (total 26 columns):\n",
      " #   Column                Non-Null Count   Dtype  \n",
      "---  ------                --------------   -----  \n",
      " 0   section_uuid          365128 non-null  object \n",
      " 1   course_offering_uuid  365128 non-null  object \n",
      " 2   section_type          365128 non-null  object \n",
      " 3   section_number        365128 non-null  float64\n",
      " 4   room_uuid             255639 non-null  object \n",
      " 5   schedule_uuid         365128 non-null  object \n",
      " 6   instructor_id         364408 non-null  float64\n",
      " 7   facility_code         255639 non-null  object \n",
      " 8   room_code             249390 non-null  object \n",
      " 9   start_time            365128 non-null  float64\n",
      " 10  end_time              365128 non-null  float64\n",
      " 11  mon                   365128 non-null  object \n",
      " 12  tues                  365128 non-null  object \n",
      " 13  wed                   365128 non-null  object \n",
      " 14  thurs                 365128 non-null  object \n",
      " 15  fri                   365128 non-null  object \n",
      " 16  sat                   365128 non-null  object \n",
      " 17  sun                   365128 non-null  object \n",
      " 18  subject_code          365133 non-null  int64  \n",
      " 19  subject_name          365133 non-null  object \n",
      " 20  subject_abbreviation  365133 non-null  object \n",
      " 21  course_uuid           365128 non-null  object \n",
      " 22  term_code             365128 non-null  float64\n",
      " 23  course_offering_name  355518 non-null  object \n",
      " 24  course_name           364915 non-null  object \n",
      " 25  course_number         365128 non-null  float64\n",
      "dtypes: float64(6), int64(1), object(19)\n",
      "memory usage: 75.2+ MB\n"
     ]
    }
   ],
   "source": [
    "# inspect\n",
    "big_df.info()"
   ]
  },
  {
   "cell_type": "markdown",
   "metadata": {
    "id": "ZuZ0YADANkIJ"
   },
   "source": [
    "# grade_distributions.csv"
   ]
  },
  {
   "cell_type": "markdown",
   "metadata": {
    "id": "C1L-8ObOlO2C"
   },
   "source": [
    "## Import"
   ]
  },
  {
   "cell_type": "code",
   "execution_count": 63,
   "metadata": {
    "id": "cKYy-M53Mq-m"
   },
   "outputs": [],
   "source": [
    "path = 'Data/grade_distributions.csv'\n",
    "grades_df = pd.read_csv(path)"
   ]
  },
  {
   "cell_type": "markdown",
   "metadata": {
    "id": "guzJ_i5hlRRx"
   },
   "source": [
    "## Inspect"
   ]
  },
  {
   "cell_type": "code",
   "execution_count": 64,
   "metadata": {
    "colab": {
     "base_uri": "https://localhost:8080/"
    },
    "id": "YIrJQ9_WlS7M",
    "outputId": "2f7f8584-8b82-45ad-e89d-751f94e36048"
   },
   "outputs": [
    {
     "name": "stdout",
     "output_type": "stream",
     "text": [
      "<class 'pandas.core.frame.DataFrame'>\n",
      "RangeIndex: 193262 entries, 0 to 193261\n",
      "Data columns (total 18 columns):\n",
      " #   Column                Non-Null Count   Dtype \n",
      "---  ------                --------------   ----- \n",
      " 0   course_offering_uuid  193262 non-null  object\n",
      " 1   section_number        193262 non-null  int64 \n",
      " 2   a_count               193262 non-null  int64 \n",
      " 3   ab_count              193262 non-null  int64 \n",
      " 4   b_count               193262 non-null  int64 \n",
      " 5   bc_count              193262 non-null  int64 \n",
      " 6   c_count               193262 non-null  int64 \n",
      " 7   d_count               193262 non-null  int64 \n",
      " 8   f_count               193262 non-null  int64 \n",
      " 9   s_count               193262 non-null  int64 \n",
      " 10  u_count               193262 non-null  int64 \n",
      " 11  cr_count              193262 non-null  int64 \n",
      " 12  n_count               193262 non-null  int64 \n",
      " 13  p_count               193262 non-null  int64 \n",
      " 14  i_count               193262 non-null  int64 \n",
      " 15  nw_count              193262 non-null  int64 \n",
      " 16  nr_count              193262 non-null  int64 \n",
      " 17  other_count           193262 non-null  int64 \n",
      "dtypes: int64(17), object(1)\n",
      "memory usage: 26.5+ MB\n"
     ]
    }
   ],
   "source": [
    "grades_df.info()"
   ]
  },
  {
   "cell_type": "markdown",
   "metadata": {
    "id": "4dD4NOdMlYQv"
   },
   "source": [
    "## Rename columns & make lowercase"
   ]
  },
  {
   "cell_type": "code",
   "execution_count": 65,
   "metadata": {
    "id": "I5Im7y71ldol"
   },
   "outputs": [],
   "source": [
    "# make all values lowercase to standardize\n",
    "grades_df = grades_df.applymap(lambda x: x.lower() \n",
    "                               if type(x) == str \n",
    "                               else x)"
   ]
  },
  {
   "cell_type": "code",
   "execution_count": 66,
   "metadata": {
    "id": "62RH12S59D3I"
   },
   "outputs": [],
   "source": [
    "# rename 'section_number' to 'grades_section_number' (there is already a \n",
    "# 'section_number' column in sections_df)\n",
    "grades_df.rename(columns = {'section_number': 'grades_section_number'},\n",
    "                  inplace = True)"
   ]
  },
  {
   "cell_type": "markdown",
   "metadata": {
    "id": "QeUUyX9Mo3OY"
   },
   "source": [
    "## Merge: Option 1 (on single column 'course_offering_uuid')"
   ]
  },
  {
   "cell_type": "code",
   "execution_count": 67,
   "metadata": {
    "id": "bVChO7QA8l2o"
   },
   "outputs": [],
   "source": [
    "# merge with big_df on course_offering_uuid\n",
    "big_df1 = pd.merge(big_df, \n",
    "                  grades_df, \n",
    "                  how = 'outer', \n",
    "                  on = 'course_offering_uuid')"
   ]
  },
  {
   "cell_type": "code",
   "execution_count": 68,
   "metadata": {
    "colab": {
     "base_uri": "https://localhost:8080/"
    },
    "id": "g5_Eg6PV84Wm",
    "outputId": "d95086f5-9545-4597-c30b-70605c0f05a3"
   },
   "outputs": [
    {
     "name": "stdout",
     "output_type": "stream",
     "text": [
      "<class 'pandas.core.frame.DataFrame'>\n",
      "Int64Index: 2211665 entries, 0 to 2211664\n",
      "Data columns (total 43 columns):\n",
      " #   Column                 Dtype  \n",
      "---  ------                 -----  \n",
      " 0   section_uuid           object \n",
      " 1   course_offering_uuid   object \n",
      " 2   section_type           object \n",
      " 3   section_number         float64\n",
      " 4   room_uuid              object \n",
      " 5   schedule_uuid          object \n",
      " 6   instructor_id          float64\n",
      " 7   facility_code          object \n",
      " 8   room_code              object \n",
      " 9   start_time             float64\n",
      " 10  end_time               float64\n",
      " 11  mon                    object \n",
      " 12  tues                   object \n",
      " 13  wed                    object \n",
      " 14  thurs                  object \n",
      " 15  fri                    object \n",
      " 16  sat                    object \n",
      " 17  sun                    object \n",
      " 18  subject_code           int64  \n",
      " 19  subject_name           object \n",
      " 20  subject_abbreviation   object \n",
      " 21  course_uuid            object \n",
      " 22  term_code              float64\n",
      " 23  course_offering_name   object \n",
      " 24  course_name            object \n",
      " 25  course_number          float64\n",
      " 26  grades_section_number  float64\n",
      " 27  a_count                float64\n",
      " 28  ab_count               float64\n",
      " 29  b_count                float64\n",
      " 30  bc_count               float64\n",
      " 31  c_count                float64\n",
      " 32  d_count                float64\n",
      " 33  f_count                float64\n",
      " 34  s_count                float64\n",
      " 35  u_count                float64\n",
      " 36  cr_count               float64\n",
      " 37  n_count                float64\n",
      " 38  p_count                float64\n",
      " 39  i_count                float64\n",
      " 40  nw_count               float64\n",
      " 41  nr_count               float64\n",
      " 42  other_count            float64\n",
      "dtypes: float64(23), int64(1), object(19)\n",
      "memory usage: 742.4+ MB\n"
     ]
    }
   ],
   "source": [
    "# inspect\n",
    "big_df1.info()"
   ]
  },
  {
   "cell_type": "markdown",
   "metadata": {
    "id": "NdoPbL6uKeLt"
   },
   "source": [
    "## Merge: Option 2 (on two columns: 'course_offering_uuid' and 'section_number')"
   ]
  },
  {
   "cell_type": "code",
   "execution_count": 69,
   "metadata": {
    "id": "gXdSVjKzKy2Z"
   },
   "outputs": [],
   "source": [
    "grades_df2 = grades_df.copy()"
   ]
  },
  {
   "cell_type": "code",
   "execution_count": 70,
   "metadata": {
    "id": "tjRTUxpJL05q"
   },
   "outputs": [],
   "source": [
    "# in grades_df2 the grades_section_number column is int, but in big_df2 the \n",
    "# section_number column is a float, so when they are converted to strings \n",
    "# they will be different solution: cast grades_df2['grades_section_number'].\n",
    "# astype(float)\n",
    "\n",
    "grades_df2['grades_section_number'] = grades_df2['grades_section_number']. \\\n",
    "astype(float)"
   ]
  },
  {
   "cell_type": "code",
   "execution_count": 71,
   "metadata": {
    "id": "z8VmCl0sKsEz"
   },
   "outputs": [],
   "source": [
    "# make a column in grades_df2 that combines 'course_offering_uuid' and \n",
    "# 'grades_section_number'\n",
    "# to use as the merge column\n",
    "grades_df2['course_and_section'] = grades_df2['course_offering_uuid']. \\\n",
    "astype(str) + \"_\" + grades_df2['grades_section_number'].astype(str)"
   ]
  },
  {
   "cell_type": "code",
   "execution_count": 72,
   "metadata": {
    "colab": {
     "base_uri": "https://localhost:8080/"
    },
    "id": "n0hlqnzOLJqN",
    "outputId": "8c04e58f-9b68-4566-cba2-761848c024a6"
   },
   "outputs": [
    {
     "data": {
      "text/plain": [
       "36785      3ccfaafe-fc00-3812-950c-37afbca352ec_1.0\n",
       "95755      125903d2-87ed-328a-83b4-258008b61ee7_3.0\n",
       "101070    34672c03-1f2d-3ed7-9199-8213f4f24f81_61.0\n",
       "51613      24deb1a3-1f9e-3d6b-acd9-8b724d2ec69c_1.0\n",
       "92776     637ba867-6fd7-3fd9-9698-fdea6c71d630_27.0\n",
       "57845      a7f9f14a-fa52-3c79-a3ad-276bdce4ab76_2.0\n",
       "35879      4265e888-c5e3-3b86-969c-cd0d91c6a45d_5.0\n",
       "63917     e3ed0e32-2f1e-3304-9007-2de5a55a5fb1_40.0\n",
       "160712     58a6d555-e915-3492-bb4a-fd1d0642ebc2_1.0\n",
       "99370      e9505af3-5da4-38de-a26c-67233fa309ab_1.0\n",
       "Name: course_and_section, dtype: object"
      ]
     },
     "execution_count": 72,
     "metadata": {},
     "output_type": "execute_result"
    }
   ],
   "source": [
    "# check\n",
    "grades_df2['course_and_section'].sample(10)"
   ]
  },
  {
   "cell_type": "code",
   "execution_count": 73,
   "metadata": {
    "id": "dVaBOj79MmQs"
   },
   "outputs": [],
   "source": [
    "# drop columns 'course_offering_uuid' and 'grades_section_number'\n",
    "grades_df2.drop(columns = ['course_offering_uuid', 'grades_section_number'], \n",
    "                inplace = True)"
   ]
  },
  {
   "cell_type": "code",
   "execution_count": 74,
   "metadata": {
    "colab": {
     "base_uri": "https://localhost:8080/"
    },
    "id": "jFkU9A4LO7XV",
    "outputId": "92d2a7b2-06ed-4237-d422-2d3c1d21955d"
   },
   "outputs": [
    {
     "name": "stdout",
     "output_type": "stream",
     "text": [
      "There are 193262 unique values in the 'course_and_section' column in grades_df2 and there are 193262 rows in grades_df2.\n"
     ]
    }
   ],
   "source": [
    "# see if new column 'course_and_section' uniquely identifies all rows in \n",
    "# grades_df2\n",
    "print(f\"There are {grades_df2['course_and_section'].nunique()} unique values \\\n",
    "in the 'course_and_section' column in grades_df2 and there are \\\n",
    "{len(grades_df2)} rows in grades_df2.\")\n",
    "\n",
    "# yes, this column uniquely identifies all rows in grades_df2"
   ]
  },
  {
   "cell_type": "code",
   "execution_count": 75,
   "metadata": {
    "id": "PEq5i9z6LXuU"
   },
   "outputs": [],
   "source": [
    "big_df2 = big_df.copy()"
   ]
  },
  {
   "cell_type": "code",
   "execution_count": 76,
   "metadata": {
    "id": "wvFOPex4LRhj"
   },
   "outputs": [],
   "source": [
    "# make a column in big_df2 same as above for grades_df2\n",
    "big_df2['course_and_section'] = big_df2['course_offering_uuid'].astype(str) \\\n",
    "+ \"_\" + big_df2['section_number'].astype(str)"
   ]
  },
  {
   "cell_type": "code",
   "execution_count": 77,
   "metadata": {
    "colab": {
     "base_uri": "https://localhost:8080/"
    },
    "id": "qI0ktOHqLqa6",
    "outputId": "91789f04-0136-4314-bc51-263d77e5c46a"
   },
   "outputs": [
    {
     "data": {
      "text/plain": [
       "97819      e677edf9-d064-3064-b8d1-ea4012ea1738_76.0\n",
       "1205       21ced15c-d665-38b3-abc6-23e523733326_11.0\n",
       "161567    2ee8bfa9-7062-3ed2-8eab-cdbe46ad24a9_308.0\n",
       "44833     b435111c-fc06-37c9-ab90-5bc3861ab244_218.0\n",
       "133705     c25ccdf0-7c46-3513-baef-e4ec4306abed_20.0\n",
       "238741    c1cbb50f-7f5b-3654-a749-4ef152201f08_303.0\n",
       "241084      3fbfd812-879f-303e-b9cf-cda275ac0b34_1.0\n",
       "281531      0ad3d5d9-a7e6-3faa-a5ff-8b953bb908f4_1.0\n",
       "210933    6b12f4dc-6865-350f-b71c-fb1c068e8a12_310.0\n",
       "55488      89c21e4c-6896-3769-9e33-4b1a89184016_80.0\n",
       "Name: course_and_section, dtype: object"
      ]
     },
     "execution_count": 77,
     "metadata": {},
     "output_type": "execute_result"
    }
   ],
   "source": [
    "# check\n",
    "big_df2['course_and_section'].sample(10)"
   ]
  },
  {
   "cell_type": "code",
   "execution_count": 78,
   "metadata": {
    "colab": {
     "base_uri": "https://localhost:8080/"
    },
    "id": "idxg4e0vPYsL",
    "outputId": "55f7a160-2b60-4a62-f89f-a340962c61cb"
   },
   "outputs": [
    {
     "name": "stdout",
     "output_type": "stream",
     "text": [
      "There are 277895 unique values in the 'course_and_section' column in big_df2 and there are 365133 rows in big_df2.\n"
     ]
    }
   ],
   "source": [
    "# see if new column 'course_and_section' uniquely identifies all rows in \n",
    "# big_df2\n",
    "print(f\"There are {big_df2['course_and_section'].nunique()} unique values in \\\n",
    "the 'course_and_section' column in big_df2 and there are {len(big_df2)} \\\n",
    "rows in big_df2.\")\n",
    "\n",
    "# no, this column does not uniquely identify rows in big_df2\n",
    "# so, before we merge on this column, we need to figure out how the rows \n",
    "# differ in big_df2, so that we don't merge the same grade distribution to \n",
    "# more than one row in big_df2"
   ]
  },
  {
   "cell_type": "code",
   "execution_count": 79,
   "metadata": {
    "colab": {
     "base_uri": "https://localhost:8080/"
    },
    "id": "xnMr4lCrP_qN",
    "outputId": "e539a23f-9d6d-40c2-fc45-57dfe4e6f234"
   },
   "outputs": [
    {
     "data": {
      "text/plain": [
       "e6fe4acb-9375-3b46-9d16-6d6ae716d80a_1.0     50\n",
       "76b9c458-d3c2-38c4-951f-69b6900bd7fe_1.0     45\n",
       "febd8499-f935-3941-891f-79e2e34fa74e_1.0     42\n",
       "7b8aa2b9-560f-34a6-aa4b-153d1abfb542_1.0     40\n",
       "ea3b717c-d66b-30dc-8b37-964d9688295f_1.0     40\n",
       "                                             ..\n",
       "24abdcdb-d322-32f8-872b-e877e9d8d68e_1.0      1\n",
       "24abdcdb-d322-32f8-872b-e877e9d8d68e_10.0     1\n",
       "24abdcdb-d322-32f8-872b-e877e9d8d68e_18.0     1\n",
       "24abdcdb-d322-32f8-872b-e877e9d8d68e_13.0     1\n",
       "ad38492a-f913-3c3b-84bf-84b7f93cc925_1.0      1\n",
       "Name: course_and_section, Length: 277895, dtype: int64"
      ]
     },
     "execution_count": 79,
     "metadata": {},
     "output_type": "execute_result"
    }
   ],
   "source": [
    "# see which rows share the same value in the 'course_and_section' column in \n",
    "# big_df2, and how many rows share the same value\n",
    "big_df2['course_and_section'].value_counts()\n",
    "\n",
    "# one 'course_and_section' includes 50 rows, and there are more \n",
    "# 'course_and_section' values that share multiple rows"
   ]
  },
  {
   "cell_type": "code",
   "execution_count": 80,
   "metadata": {
    "colab": {
     "base_uri": "https://localhost:8080/"
    },
    "id": "Ev18mU0MP4UO",
    "outputId": "e6483cd2-cf75-4204-d309-9600df5d2698"
   },
   "outputs": [
    {
     "name": "stdout",
     "output_type": "stream",
     "text": [
      "column: section_uuid\n",
      "6fedc217-81a8-3bc4-9d57-5e10481282dc    10\n",
      "b0e86f13-692f-3f7d-8572-c94a8e7d1f07    10\n",
      "9465796d-7f08-3569-ac22-92b20cd245a1    10\n",
      "86a1c582-983c-3dbf-bc37-0cbd28407651    10\n",
      "d7ba74dc-2da5-39ba-845d-0422fb1909ec    10\n",
      "Name: section_uuid, dtype: int64\n",
      "\n",
      "column: course_offering_uuid\n",
      "e6fe4acb-9375-3b46-9d16-6d6ae716d80a    50\n",
      "Name: course_offering_uuid, dtype: int64\n",
      "\n",
      "column: section_type\n",
      "fld    50\n",
      "Name: section_type, dtype: int64\n",
      "\n",
      "column: section_number\n",
      "1.0    50\n",
      "Name: section_number, dtype: int64\n",
      "\n",
      "column: room_uuid\n",
      "04368a56-c959-3e4b-8b3d-f4cc3538fea5    30\n",
      "NaN                                     20\n",
      "Name: room_uuid, dtype: int64\n",
      "\n",
      "column: schedule_uuid\n",
      "f2d66a4d-0c08-3b48-abf6-649fffd7ae90    50\n",
      "Name: schedule_uuid, dtype: int64\n",
      "\n",
      "column: instructor_id\n",
      "761703.0     20\n",
      "788586.0     20\n",
      "3677061.0    10\n",
      "Name: instructor_id, dtype: int64\n",
      "\n",
      "column: facility_code\n",
      "off campus    30\n",
      "NaN           20\n",
      "Name: facility_code, dtype: int64\n",
      "\n",
      "column: room_code\n",
      "NaN    50\n",
      "Name: room_code, dtype: int64\n",
      "\n",
      "column: start_time\n",
      "-1.0    50\n",
      "Name: start_time, dtype: int64\n",
      "\n",
      "column: end_time\n",
      "-1.0    50\n",
      "Name: end_time, dtype: int64\n",
      "\n",
      "column: mon\n",
      "False    50\n",
      "Name: mon, dtype: int64\n",
      "\n",
      "column: tues\n",
      "False    50\n",
      "Name: tues, dtype: int64\n",
      "\n",
      "column: wed\n",
      "False    50\n",
      "Name: wed, dtype: int64\n",
      "\n",
      "column: thurs\n",
      "False    50\n",
      "Name: thurs, dtype: int64\n",
      "\n",
      "column: fri\n",
      "False    50\n",
      "Name: fri, dtype: int64\n",
      "\n",
      "column: sat\n",
      "False    50\n",
      "Name: sat, dtype: int64\n",
      "\n",
      "column: sun\n",
      "False    50\n",
      "Name: sun, dtype: int64\n",
      "\n",
      "column: subject_code\n",
      "220    5\n",
      "320    5\n",
      "346    5\n",
      "612    5\n",
      "636    5\n",
      "207    5\n",
      "490    5\n",
      "240    5\n",
      "418    5\n",
      "684    5\n",
      "Name: subject_code, dtype: int64\n",
      "\n",
      "column: subject_name\n",
      "chemical and biological engineering       5\n",
      "electrical and computer engineering       5\n",
      "engineering mechanics and astronautics    5\n",
      "mechanical engineering                    5\n",
      "materials science and engineering         5\n",
      "biomedical engineering                    5\n",
      "industrial and systems engineering        5\n",
      "civil and environmental engineering       5\n",
      "geological engineering                    5\n",
      "nuclear engineering                       5\n",
      "Name: subject_name, dtype: int64\n",
      "\n",
      "column: subject_abbreviation\n",
      "cbe         5\n",
      "e c e       5\n",
      "e m a       5\n",
      "m e         5\n",
      "m s & e     5\n",
      "b m e       5\n",
      "i sy e      5\n",
      "civ engr    5\n",
      "g l e       5\n",
      "n e         5\n",
      "Name: subject_abbreviation, dtype: int64\n",
      "\n",
      "column: course_uuid\n",
      "a3e3e1c3-543d-3bb5-ae65-5f2aec4ad1de    50\n",
      "Name: course_uuid, dtype: int64\n",
      "\n",
      "column: term_code\n",
      "1152.0    50\n",
      "Name: term_code, dtype: int64\n",
      "\n",
      "column: course_offering_name\n",
      "cooperative education prog    50\n",
      "Name: course_offering_name, dtype: int64\n",
      "\n",
      "column: course_name\n",
      "cooperative education program    50\n",
      "Name: course_name, dtype: int64\n",
      "\n",
      "column: course_number\n",
      "1.0    50\n",
      "Name: course_number, dtype: int64\n",
      "\n",
      "column: course_and_section\n",
      "e6fe4acb-9375-3b46-9d16-6d6ae716d80a_1.0    50\n",
      "Name: course_and_section, dtype: int64\n",
      "\n"
     ]
    }
   ],
   "source": [
    "# investigate differences among rows that share the same value in the \n",
    "# 'course_and_section' column in big_df2\n",
    "\n",
    "\n",
    "# look at the 'course_and_section' value that is copied in 50 rows, and see \n",
    "# what differs among those 50 rows\n",
    "section1_df = big_df2[big_df2['course_and_section'] == \\\n",
    "                      'e6fe4acb-9375-3b46-9d16-6d6ae716d80a_1.0']\n",
    "\n",
    "for col in section1_df.columns:\n",
    "  print(f\"column: {col}\")\n",
    "  print(section1_df[col].value_counts(dropna = False))\n",
    "  print()\n",
    "\n",
    "# they differ on 'section_uuid', 'instructor_id', 'subject_name', \n",
    "# 'facility_code'"
   ]
  },
  {
   "cell_type": "code",
   "execution_count": 81,
   "metadata": {
    "id": "he7aVTfnSdHM"
   },
   "outputs": [],
   "source": [
    "# to compress these 50 rows into one, we could:\n",
    "# assign 'multiple' for 'facility_code', 'instructor_id', and 'section_uuid' \n",
    "# ('section_uuid' will eventually be dropped anyway) assign 'engineering' for \n",
    "# 'subject_name'\n",
    "# manually go through all other values for 'course_and_section' with multiple \n",
    "# rows and re-assign other column values\n",
    "\n",
    "# the above would be a good strategy to make sure all data is preserved, but \n",
    "# would be difficult/time-consuming to implement\n",
    "# so for the sake of simplicity (and meeting the due date deadline),\n",
    "# for now, we will drop every row that shares a 'course_and_section' column \n",
    "# value with any other row\n",
    "# but before we do that, let's see how much of our data that strategy would \n",
    "# delete!\n",
    "\n",
    "# get the value_counts again for the 'course_and_section' column, save in an \n",
    "# array\n",
    "course_and_section_value_counts_array = big_df2['course_and_section']. \\\n",
    "value_counts()"
   ]
  },
  {
   "cell_type": "code",
   "execution_count": 82,
   "metadata": {
    "colab": {
     "base_uri": "https://localhost:8080/"
    },
    "id": "Sp0akyJWWpxN",
    "outputId": "7ea0e7ac-9fb2-4121-87a1-d7d130aa1e73"
   },
   "outputs": [
    {
     "name": "stdout",
     "output_type": "stream",
     "text": [
      "48793\n",
      "136031\n"
     ]
    }
   ],
   "source": [
    "# get a list of the 'course_and_section' values that have multiple rows\n",
    "\n",
    "# create empty list\n",
    "duplicated_course_and_section_list = []\n",
    "\n",
    "# creat empty counter to count number of rows that are duplicated on \n",
    "# 'course_and_section'\n",
    "num_duplicated_rows = 0\n",
    "\n",
    "# loop through each 'course_and_section' value and its 'value_count' in the \n",
    "# array\n",
    "for course_and_section, value_count in \\\n",
    "course_and_section_value_counts_array.items():\n",
    "\n",
    "    # if the 'course_and_section' string represents is duplicated (appears in \n",
    "    # more than one row)\n",
    "    if value_count > 1:\n",
    "\n",
    "        # add the 'course_and_section' string to the \n",
    "        # duplicated_course_and_section_list\n",
    "        duplicated_course_and_section_list.append(course_and_section)\n",
    "\n",
    "        # add the value_count to the num_duplicated_rows\n",
    "        num_duplicated_rows += value_count\n",
    "\n",
    "print(len(duplicated_course_and_section_list)) # how many rows are duplicated \n",
    "# on 'course_and_section'\n",
    "print(num_duplicated_rows) # in big_df2"
   ]
  },
  {
   "cell_type": "code",
   "execution_count": 83,
   "metadata": {
    "colab": {
     "base_uri": "https://localhost:8080/"
    },
    "id": "IR6vdLRDXnb0",
    "outputId": "fdae7a2f-2e29-4c93-ff90-acc89d2aab90"
   },
   "outputs": [
    {
     "name": "stdout",
     "output_type": "stream",
     "text": [
      "37.25519194375748\n"
     ]
    },
    {
     "data": {
      "text/plain": [
       "25.247073920377517"
      ]
     },
     "execution_count": 83,
     "metadata": {},
     "output_type": "execute_result"
    }
   ],
   "source": [
    "# what percent of our data does this represent?\n",
    "# number of duplicated rows in big_df2 over number of rows in big_df2\n",
    "print((num_duplicated_rows / len(big_df2)) * 100)\n",
    "\n",
    "# we are losing all the \"duplicated\" rows (any rows that share their \n",
    "# 'course_and_section' value with another row) in big_df2 but we are also \n",
    "# losing 48,793 grade distributions (assuming there is one grade distribution \n",
    "# (in grades_df2) per 'course_and_section' value in big_df2)\n",
    "((len(duplicated_course_and_section_list) / len(grades_df2)) * 100)\n",
    "\n",
    "# i think this dataset is big enough that this loss of data is okay for now,\n",
    "# but if i had more time i would go back and implement the more difficult \n",
    "# strategy of compressing the duplicated rows into one so we wouldn't lose the \n",
    "# grade data for that row"
   ]
  },
  {
   "cell_type": "code",
   "execution_count": 84,
   "metadata": {
    "colab": {
     "base_uri": "https://localhost:8080/"
    },
    "id": "0zvVWhgdOUNo",
    "outputId": "6a1bbc3a-8a09-42eb-b10a-02c03b52a6bf"
   },
   "outputs": [
    {
     "name": "stdout",
     "output_type": "stream",
     "text": [
      "e6fe4acb-9375-3b46-9d16-6d6ae716d80a_1.0\n",
      "76b9c458-d3c2-38c4-951f-69b6900bd7fe_1.0\n",
      "febd8499-f935-3941-891f-79e2e34fa74e_1.0\n",
      "7b8aa2b9-560f-34a6-aa4b-153d1abfb542_1.0\n",
      "ea3b717c-d66b-30dc-8b37-964d9688295f_1.0\n",
      "d8aa6383-0da4-3c39-adba-c324bb24a494_2.0\n",
      "8ec4c4f6-8040-3142-ae99-227063559eb8_1.0\n",
      "08c52cb4-31b6-3c51-a886-f75e527fe049_1.0\n",
      "a4f39010-e771-3375-abce-4fa0bdb01139_1.0\n",
      "73eb2c88-a7c0-36db-872f-b2fc0c1c956d_1.0\n",
      "c94b0026-46e5-3183-9e02-f0d8616b020e_1.0\n",
      "e2b91cd9-7941-319c-a3da-5f682c9d06eb_1.0\n",
      "be62d53d-6531-38ca-a396-da52bb4b1c15_3.0\n",
      "af720f25-ad8e-3226-9ab8-10186b84218a_301.0\n",
      "f759d1d8-0a9b-328e-9fa9-ffa5214221ae_8.0\n",
      "e100d196-5e82-32e4-80e9-ac45c07a498c_1.0\n",
      "cf5cbdbd-1496-33e7-b024-21ffcc72c354_1.0\n",
      "c9c4584c-0a47-3132-9a36-3494f713fadc_1.0\n",
      "16779668-a3e3-34ef-b17f-46a64c6338e8_1.0\n",
      "73eba694-db49-372f-8d0a-860018561e36_1.0\n"
     ]
    }
   ],
   "source": [
    "# check duplicated course and section list\n",
    "for item in duplicated_course_and_section_list[:20]:\n",
    "  print(item)"
   ]
  },
  {
   "cell_type": "code",
   "execution_count": 85,
   "metadata": {
    "colab": {
     "base_uri": "https://localhost:8080/"
    },
    "id": "bp3fspJ8qmcN",
    "outputId": "638de6d7-97bf-4b5d-95a3-191bbe96b66b"
   },
   "outputs": [
    {
     "name": "stdout",
     "output_type": "stream",
     "text": [
      "length of big_df2: 365133\n",
      "number of duplicated rows in big_df2: 136031\n",
      "big_df3 should have 229102 rows\n",
      "length of big_df3: 229102\n"
     ]
    }
   ],
   "source": [
    "# delete any row in big_df2 whose 'course_and_section' value matches an item\n",
    "# on the duplicated_course_and_section_list\n",
    "# save to new df\n",
    "\n",
    "big_df3 = big_df2[~big_df2['course_and_section'].isin \\\n",
    "                  (duplicated_course_and_section_list)]\n",
    "\n",
    "# check that big_df3 has number of rows equal to len(big_df2) minus \n",
    "# num_duplicated_rows\n",
    "print(f\"length of big_df2: {len(big_df2)}\")\n",
    "print(f\"number of duplicated rows in big_df2: {num_duplicated_rows}\")\n",
    "print(f\"big_df3 should have {len(big_df2) - num_duplicated_rows} rows\")\n",
    "print(f\"length of big_df3: {len(big_df3)}\")"
   ]
  },
  {
   "cell_type": "code",
   "execution_count": 86,
   "metadata": {
    "colab": {
     "base_uri": "https://localhost:8080/"
    },
    "id": "T4UUZh60P3MI",
    "outputId": "57307139-ea30-42f9-faf3-293309de5a9d"
   },
   "outputs": [
    {
     "name": "stdout",
     "output_type": "stream",
     "text": [
      "length of grades_df2: 193262\n",
      "length of grades_df2 - length of duplicated_course_and_section_list: 144469\n",
      "length of grades_df3: 165432\n"
     ]
    }
   ],
   "source": [
    "# do the same to grades_df2: drop all rows that are in \n",
    "# duplicated_course_and_section_list\n",
    "\n",
    "grades_df3 = grades_df2[~grades_df2['course_and_section'].isin \\\n",
    "                        (duplicated_course_and_section_list)]\n",
    "\n",
    "# check old and new lengths of grades_dfs\n",
    "print(f\"length of grades_df2: {len(grades_df2)}\")\n",
    "print(f\"length of grades_df2 - length of duplicated_course_and_section_list: \\\n",
    "{len(grades_df2) - len(duplicated_course_and_section_list)}\")\n",
    "print(f\"length of grades_df3: {len(grades_df3)}\")\n",
    "\n",
    "# it's okay that the length of grades_df3 is not exactly equal to the length \n",
    "# of grades_df2 minus the length of the duplicated course and section list \n",
    "# because although we assume that each course in the duplicated course and \n",
    "# section list has one correlate row in grades_df2, that may not be the case"
   ]
  },
  {
   "cell_type": "code",
   "execution_count": 87,
   "metadata": {
    "colab": {
     "base_uri": "https://localhost:8080/"
    },
    "id": "JbQw2T2BRLEQ",
    "outputId": "5fff97cd-3047-404b-9cec-ae8a76be9bf0"
   },
   "outputs": [
    {
     "name": "stdout",
     "output_type": "stream",
     "text": [
      "rows in big_df3: 229102\n",
      "unique row values in 'course_and_section' column in big_df3: 229102\n",
      "\n",
      "rows in grades_df3: 165432\n",
      "unique row values in 'course_and_section' column in grades_df3: 165432\n"
     ]
    }
   ],
   "source": [
    "# check now that the 'course_and_section' column uniquely identifies both \n",
    "# big_df3 and grades_df3\n",
    "print(f\"rows in big_df3: {len(big_df3)}\")\n",
    "print(f\"unique row values in 'course_and_section' column in big_df3: \\\n",
    "{big_df3['course_and_section'].nunique()}\")\n",
    "print()\n",
    "print(f\"rows in grades_df3: {len(grades_df3)}\")\n",
    "print(f\"unique row values in 'course_and_section' column in grades_df3: \\\n",
    "{grades_df3['course_and_section'].nunique()}\")\n"
   ]
  },
  {
   "cell_type": "code",
   "execution_count": 88,
   "metadata": {
    "id": "vMH-jn_OM6Tr"
   },
   "outputs": [],
   "source": [
    "# now can merge big_df3 and grades_df3 on 'course_and_section' column\n",
    "# we want to do an inner join because we only want to keep rows that have a \n",
    "# match in the 'course_and_section' column if big_df3 has info in a row about \n",
    "# a section that doesn't have a row with its grades in grades_df3, we don't \n",
    "# want that row (and vice versa)\n",
    "\n",
    "# make new df\n",
    "big_df4 = pd.merge(big_df3, \n",
    "                   grades_df3, \n",
    "                   how = 'inner',\n",
    "                   on = 'course_and_section')"
   ]
  },
  {
   "cell_type": "code",
   "execution_count": 89,
   "metadata": {
    "colab": {
     "base_uri": "https://localhost:8080/"
    },
    "id": "RsePstP9OwfE",
    "outputId": "63c6a8da-b68a-4792-e556-b3a49a1f854e"
   },
   "outputs": [
    {
     "name": "stdout",
     "output_type": "stream",
     "text": [
      "<class 'pandas.core.frame.DataFrame'>\n",
      "Int64Index: 162710 entries, 0 to 162709\n",
      "Data columns (total 43 columns):\n",
      " #   Column                Non-Null Count   Dtype  \n",
      "---  ------                --------------   -----  \n",
      " 0   section_uuid          162710 non-null  object \n",
      " 1   course_offering_uuid  162710 non-null  object \n",
      " 2   section_type          162710 non-null  object \n",
      " 3   section_number        162710 non-null  float64\n",
      " 4   room_uuid             66778 non-null   object \n",
      " 5   schedule_uuid         162710 non-null  object \n",
      " 6   instructor_id         162682 non-null  float64\n",
      " 7   facility_code         66778 non-null   object \n",
      " 8   room_code             64871 non-null   object \n",
      " 9   start_time            162710 non-null  float64\n",
      " 10  end_time              162710 non-null  float64\n",
      " 11  mon                   162710 non-null  object \n",
      " 12  tues                  162710 non-null  object \n",
      " 13  wed                   162710 non-null  object \n",
      " 14  thurs                 162710 non-null  object \n",
      " 15  fri                   162710 non-null  object \n",
      " 16  sat                   162710 non-null  object \n",
      " 17  sun                   162710 non-null  object \n",
      " 18  subject_code          162710 non-null  int64  \n",
      " 19  subject_name          162710 non-null  object \n",
      " 20  subject_abbreviation  162710 non-null  object \n",
      " 21  course_uuid           162710 non-null  object \n",
      " 22  term_code             162710 non-null  float64\n",
      " 23  course_offering_name  162710 non-null  object \n",
      " 24  course_name           162710 non-null  object \n",
      " 25  course_number         162710 non-null  float64\n",
      " 26  course_and_section    162710 non-null  object \n",
      " 27  a_count               162710 non-null  int64  \n",
      " 28  ab_count              162710 non-null  int64  \n",
      " 29  b_count               162710 non-null  int64  \n",
      " 30  bc_count              162710 non-null  int64  \n",
      " 31  c_count               162710 non-null  int64  \n",
      " 32  d_count               162710 non-null  int64  \n",
      " 33  f_count               162710 non-null  int64  \n",
      " 34  s_count               162710 non-null  int64  \n",
      " 35  u_count               162710 non-null  int64  \n",
      " 36  cr_count              162710 non-null  int64  \n",
      " 37  n_count               162710 non-null  int64  \n",
      " 38  p_count               162710 non-null  int64  \n",
      " 39  i_count               162710 non-null  int64  \n",
      " 40  nw_count              162710 non-null  int64  \n",
      " 41  nr_count              162710 non-null  int64  \n",
      " 42  other_count           162710 non-null  int64  \n",
      "dtypes: float64(6), int64(17), object(20)\n",
      "memory usage: 54.6+ MB\n"
     ]
    }
   ],
   "source": [
    "# check\n",
    "big_df4.info()"
   ]
  },
  {
   "cell_type": "code",
   "execution_count": 90,
   "metadata": {
    "colab": {
     "base_uri": "https://localhost:8080/",
     "height": 959
    },
    "id": "cWcR0GGeSxr5",
    "outputId": "25e64994-6b63-47b6-d2e7-24b9e9578ff1"
   },
   "outputs": [
    {
     "data": {
      "text/html": [
       "<div>\n",
       "<style scoped>\n",
       "    .dataframe tbody tr th:only-of-type {\n",
       "        vertical-align: middle;\n",
       "    }\n",
       "\n",
       "    .dataframe tbody tr th {\n",
       "        vertical-align: top;\n",
       "    }\n",
       "\n",
       "    .dataframe thead th {\n",
       "        text-align: right;\n",
       "    }\n",
       "</style>\n",
       "<table border=\"1\" class=\"dataframe\">\n",
       "  <thead>\n",
       "    <tr style=\"text-align: right;\">\n",
       "      <th></th>\n",
       "      <th>section_uuid</th>\n",
       "      <th>course_offering_uuid</th>\n",
       "      <th>section_type</th>\n",
       "      <th>section_number</th>\n",
       "      <th>room_uuid</th>\n",
       "      <th>schedule_uuid</th>\n",
       "      <th>instructor_id</th>\n",
       "      <th>facility_code</th>\n",
       "      <th>room_code</th>\n",
       "      <th>start_time</th>\n",
       "      <th>...</th>\n",
       "      <th>f_count</th>\n",
       "      <th>s_count</th>\n",
       "      <th>u_count</th>\n",
       "      <th>cr_count</th>\n",
       "      <th>n_count</th>\n",
       "      <th>p_count</th>\n",
       "      <th>i_count</th>\n",
       "      <th>nw_count</th>\n",
       "      <th>nr_count</th>\n",
       "      <th>other_count</th>\n",
       "    </tr>\n",
       "  </thead>\n",
       "  <tbody>\n",
       "    <tr>\n",
       "      <th>104981</th>\n",
       "      <td>2cdd3e38-b822-3ebc-bee9-818c766fed00</td>\n",
       "      <td>19e97fbb-f502-31a0-95f8-4c36245b1515</td>\n",
       "      <td>lec</td>\n",
       "      <td>19.0</td>\n",
       "      <td>7df5c6cc-71be-3843-b643-62f3c3b0fa7d</td>\n",
       "      <td>8d3f5c74-e7b8-394f-a3e7-5fc02f866ed9</td>\n",
       "      <td>4151702.0</td>\n",
       "      <td>0048</td>\n",
       "      <td>b305</td>\n",
       "      <td>865.0</td>\n",
       "      <td>...</td>\n",
       "      <td>0</td>\n",
       "      <td>0</td>\n",
       "      <td>0</td>\n",
       "      <td>0</td>\n",
       "      <td>0</td>\n",
       "      <td>0</td>\n",
       "      <td>0</td>\n",
       "      <td>0</td>\n",
       "      <td>0</td>\n",
       "      <td>0</td>\n",
       "    </tr>\n",
       "    <tr>\n",
       "      <th>27129</th>\n",
       "      <td>88e65aa8-1659-33a0-a07b-70952faa4968</td>\n",
       "      <td>eca7d24f-b4f9-383d-ac6d-afa16158b5bd</td>\n",
       "      <td>ind</td>\n",
       "      <td>298.0</td>\n",
       "      <td>NaN</td>\n",
       "      <td>f2d66a4d-0c08-3b48-abf6-649fffd7ae90</td>\n",
       "      <td>3568533.0</td>\n",
       "      <td>NaN</td>\n",
       "      <td>NaN</td>\n",
       "      <td>-1.0</td>\n",
       "      <td>...</td>\n",
       "      <td>0</td>\n",
       "      <td>0</td>\n",
       "      <td>0</td>\n",
       "      <td>0</td>\n",
       "      <td>0</td>\n",
       "      <td>0</td>\n",
       "      <td>0</td>\n",
       "      <td>0</td>\n",
       "      <td>0</td>\n",
       "      <td>0</td>\n",
       "    </tr>\n",
       "    <tr>\n",
       "      <th>95187</th>\n",
       "      <td>419fb8f1-040b-368b-a0ce-07472f92717e</td>\n",
       "      <td>5c5318b7-ee9e-36de-a911-e4b140d2cdf9</td>\n",
       "      <td>fld</td>\n",
       "      <td>81.0</td>\n",
       "      <td>NaN</td>\n",
       "      <td>739ab54a-17e8-3428-b64a-5b60640a35ff</td>\n",
       "      <td>4183902.0</td>\n",
       "      <td>NaN</td>\n",
       "      <td>NaN</td>\n",
       "      <td>360.0</td>\n",
       "      <td>...</td>\n",
       "      <td>0</td>\n",
       "      <td>126</td>\n",
       "      <td>0</td>\n",
       "      <td>0</td>\n",
       "      <td>0</td>\n",
       "      <td>0</td>\n",
       "      <td>0</td>\n",
       "      <td>0</td>\n",
       "      <td>0</td>\n",
       "      <td>0</td>\n",
       "    </tr>\n",
       "    <tr>\n",
       "      <th>81778</th>\n",
       "      <td>1e3a509e-08ff-33eb-8482-096c005ee89c</td>\n",
       "      <td>8bb4315d-7532-355a-9691-b8966518aeb8</td>\n",
       "      <td>ind</td>\n",
       "      <td>30.0</td>\n",
       "      <td>NaN</td>\n",
       "      <td>f2d66a4d-0c08-3b48-abf6-649fffd7ae90</td>\n",
       "      <td>3437442.0</td>\n",
       "      <td>NaN</td>\n",
       "      <td>NaN</td>\n",
       "      <td>-1.0</td>\n",
       "      <td>...</td>\n",
       "      <td>0</td>\n",
       "      <td>0</td>\n",
       "      <td>0</td>\n",
       "      <td>0</td>\n",
       "      <td>0</td>\n",
       "      <td>0</td>\n",
       "      <td>0</td>\n",
       "      <td>0</td>\n",
       "      <td>0</td>\n",
       "      <td>0</td>\n",
       "    </tr>\n",
       "    <tr>\n",
       "      <th>104176</th>\n",
       "      <td>022b3d4f-278a-30ff-b866-af433bef756e</td>\n",
       "      <td>776e55dc-6725-3ecd-a8c3-e19028fa5c1a</td>\n",
       "      <td>lec</td>\n",
       "      <td>4.0</td>\n",
       "      <td>5d2dbb4d-761e-3c62-86b5-303524d508c3</td>\n",
       "      <td>f233bab0-d3cf-3899-97aa-0fbe1db14f00</td>\n",
       "      <td>2600258.0</td>\n",
       "      <td>0140</td>\n",
       "      <td>1295</td>\n",
       "      <td>570.0</td>\n",
       "      <td>...</td>\n",
       "      <td>0</td>\n",
       "      <td>0</td>\n",
       "      <td>0</td>\n",
       "      <td>0</td>\n",
       "      <td>0</td>\n",
       "      <td>0</td>\n",
       "      <td>0</td>\n",
       "      <td>0</td>\n",
       "      <td>0</td>\n",
       "      <td>0</td>\n",
       "    </tr>\n",
       "    <tr>\n",
       "      <th>37042</th>\n",
       "      <td>65778a4c-1d95-3795-8475-289fb80ebf25</td>\n",
       "      <td>c0bd5837-c940-3948-9f50-ef1e496b58d1</td>\n",
       "      <td>ind</td>\n",
       "      <td>46.0</td>\n",
       "      <td>NaN</td>\n",
       "      <td>f2d66a4d-0c08-3b48-abf6-649fffd7ae90</td>\n",
       "      <td>3923236.0</td>\n",
       "      <td>NaN</td>\n",
       "      <td>NaN</td>\n",
       "      <td>-1.0</td>\n",
       "      <td>...</td>\n",
       "      <td>0</td>\n",
       "      <td>0</td>\n",
       "      <td>0</td>\n",
       "      <td>0</td>\n",
       "      <td>0</td>\n",
       "      <td>0</td>\n",
       "      <td>0</td>\n",
       "      <td>0</td>\n",
       "      <td>0</td>\n",
       "      <td>0</td>\n",
       "    </tr>\n",
       "    <tr>\n",
       "      <th>157578</th>\n",
       "      <td>8c0a39c0-272c-3a56-99f2-18b927ddbdd9</td>\n",
       "      <td>8bbec0f6-280b-3dec-a827-b770f5ab6099</td>\n",
       "      <td>fld</td>\n",
       "      <td>44.0</td>\n",
       "      <td>NaN</td>\n",
       "      <td>739ab54a-17e8-3428-b64a-5b60640a35ff</td>\n",
       "      <td>2601387.0</td>\n",
       "      <td>NaN</td>\n",
       "      <td>NaN</td>\n",
       "      <td>360.0</td>\n",
       "      <td>...</td>\n",
       "      <td>0</td>\n",
       "      <td>0</td>\n",
       "      <td>0</td>\n",
       "      <td>0</td>\n",
       "      <td>0</td>\n",
       "      <td>0</td>\n",
       "      <td>0</td>\n",
       "      <td>0</td>\n",
       "      <td>0</td>\n",
       "      <td>0</td>\n",
       "    </tr>\n",
       "    <tr>\n",
       "      <th>87530</th>\n",
       "      <td>6d8bb6cd-464d-3eb2-b868-6ca09a90d143</td>\n",
       "      <td>785c042a-e1e6-3759-b830-0f45b34e10f2</td>\n",
       "      <td>ind</td>\n",
       "      <td>20.0</td>\n",
       "      <td>NaN</td>\n",
       "      <td>f2d66a4d-0c08-3b48-abf6-649fffd7ae90</td>\n",
       "      <td>177304.0</td>\n",
       "      <td>NaN</td>\n",
       "      <td>NaN</td>\n",
       "      <td>-1.0</td>\n",
       "      <td>...</td>\n",
       "      <td>0</td>\n",
       "      <td>0</td>\n",
       "      <td>0</td>\n",
       "      <td>0</td>\n",
       "      <td>0</td>\n",
       "      <td>0</td>\n",
       "      <td>0</td>\n",
       "      <td>0</td>\n",
       "      <td>0</td>\n",
       "      <td>0</td>\n",
       "    </tr>\n",
       "    <tr>\n",
       "      <th>25314</th>\n",
       "      <td>85290c8f-8aa4-3392-b444-ebc07a1cc1db</td>\n",
       "      <td>7a4e58d7-2b0b-31c4-a73e-720f38367f53</td>\n",
       "      <td>ind</td>\n",
       "      <td>148.0</td>\n",
       "      <td>NaN</td>\n",
       "      <td>f2d66a4d-0c08-3b48-abf6-649fffd7ae90</td>\n",
       "      <td>3104155.0</td>\n",
       "      <td>NaN</td>\n",
       "      <td>NaN</td>\n",
       "      <td>-1.0</td>\n",
       "      <td>...</td>\n",
       "      <td>0</td>\n",
       "      <td>0</td>\n",
       "      <td>0</td>\n",
       "      <td>0</td>\n",
       "      <td>0</td>\n",
       "      <td>0</td>\n",
       "      <td>0</td>\n",
       "      <td>0</td>\n",
       "      <td>0</td>\n",
       "      <td>0</td>\n",
       "    </tr>\n",
       "    <tr>\n",
       "      <th>37467</th>\n",
       "      <td>ec0b500c-4d13-36b1-b9e2-6b421e668d6c</td>\n",
       "      <td>a968a22c-e72e-371d-b3e8-f514c69c88ba</td>\n",
       "      <td>lec</td>\n",
       "      <td>1.0</td>\n",
       "      <td>18dad87c-f6bc-3720-80b1-e9d05d3d0eee</td>\n",
       "      <td>257d50c7-607c-3d4d-bfa3-4ca76ca40712</td>\n",
       "      <td>2602026.0</td>\n",
       "      <td>0034</td>\n",
       "      <td>2121</td>\n",
       "      <td>465.0</td>\n",
       "      <td>...</td>\n",
       "      <td>0</td>\n",
       "      <td>0</td>\n",
       "      <td>0</td>\n",
       "      <td>0</td>\n",
       "      <td>0</td>\n",
       "      <td>0</td>\n",
       "      <td>0</td>\n",
       "      <td>0</td>\n",
       "      <td>0</td>\n",
       "      <td>0</td>\n",
       "    </tr>\n",
       "  </tbody>\n",
       "</table>\n",
       "<p>10 rows × 43 columns</p>\n",
       "</div>"
      ],
      "text/plain": [
       "                                section_uuid  \\\n",
       "104981  2cdd3e38-b822-3ebc-bee9-818c766fed00   \n",
       "27129   88e65aa8-1659-33a0-a07b-70952faa4968   \n",
       "95187   419fb8f1-040b-368b-a0ce-07472f92717e   \n",
       "81778   1e3a509e-08ff-33eb-8482-096c005ee89c   \n",
       "104176  022b3d4f-278a-30ff-b866-af433bef756e   \n",
       "37042   65778a4c-1d95-3795-8475-289fb80ebf25   \n",
       "157578  8c0a39c0-272c-3a56-99f2-18b927ddbdd9   \n",
       "87530   6d8bb6cd-464d-3eb2-b868-6ca09a90d143   \n",
       "25314   85290c8f-8aa4-3392-b444-ebc07a1cc1db   \n",
       "37467   ec0b500c-4d13-36b1-b9e2-6b421e668d6c   \n",
       "\n",
       "                        course_offering_uuid section_type  section_number  \\\n",
       "104981  19e97fbb-f502-31a0-95f8-4c36245b1515          lec            19.0   \n",
       "27129   eca7d24f-b4f9-383d-ac6d-afa16158b5bd          ind           298.0   \n",
       "95187   5c5318b7-ee9e-36de-a911-e4b140d2cdf9          fld            81.0   \n",
       "81778   8bb4315d-7532-355a-9691-b8966518aeb8          ind            30.0   \n",
       "104176  776e55dc-6725-3ecd-a8c3-e19028fa5c1a          lec             4.0   \n",
       "37042   c0bd5837-c940-3948-9f50-ef1e496b58d1          ind            46.0   \n",
       "157578  8bbec0f6-280b-3dec-a827-b770f5ab6099          fld            44.0   \n",
       "87530   785c042a-e1e6-3759-b830-0f45b34e10f2          ind            20.0   \n",
       "25314   7a4e58d7-2b0b-31c4-a73e-720f38367f53          ind           148.0   \n",
       "37467   a968a22c-e72e-371d-b3e8-f514c69c88ba          lec             1.0   \n",
       "\n",
       "                                   room_uuid  \\\n",
       "104981  7df5c6cc-71be-3843-b643-62f3c3b0fa7d   \n",
       "27129                                    NaN   \n",
       "95187                                    NaN   \n",
       "81778                                    NaN   \n",
       "104176  5d2dbb4d-761e-3c62-86b5-303524d508c3   \n",
       "37042                                    NaN   \n",
       "157578                                   NaN   \n",
       "87530                                    NaN   \n",
       "25314                                    NaN   \n",
       "37467   18dad87c-f6bc-3720-80b1-e9d05d3d0eee   \n",
       "\n",
       "                               schedule_uuid  instructor_id facility_code  \\\n",
       "104981  8d3f5c74-e7b8-394f-a3e7-5fc02f866ed9      4151702.0          0048   \n",
       "27129   f2d66a4d-0c08-3b48-abf6-649fffd7ae90      3568533.0           NaN   \n",
       "95187   739ab54a-17e8-3428-b64a-5b60640a35ff      4183902.0           NaN   \n",
       "81778   f2d66a4d-0c08-3b48-abf6-649fffd7ae90      3437442.0           NaN   \n",
       "104176  f233bab0-d3cf-3899-97aa-0fbe1db14f00      2600258.0          0140   \n",
       "37042   f2d66a4d-0c08-3b48-abf6-649fffd7ae90      3923236.0           NaN   \n",
       "157578  739ab54a-17e8-3428-b64a-5b60640a35ff      2601387.0           NaN   \n",
       "87530   f2d66a4d-0c08-3b48-abf6-649fffd7ae90       177304.0           NaN   \n",
       "25314   f2d66a4d-0c08-3b48-abf6-649fffd7ae90      3104155.0           NaN   \n",
       "37467   257d50c7-607c-3d4d-bfa3-4ca76ca40712      2602026.0          0034   \n",
       "\n",
       "       room_code  start_time  ...  f_count s_count u_count cr_count n_count  \\\n",
       "104981      b305       865.0  ...        0       0       0        0       0   \n",
       "27129        NaN        -1.0  ...        0       0       0        0       0   \n",
       "95187        NaN       360.0  ...        0     126       0        0       0   \n",
       "81778        NaN        -1.0  ...        0       0       0        0       0   \n",
       "104176      1295       570.0  ...        0       0       0        0       0   \n",
       "37042        NaN        -1.0  ...        0       0       0        0       0   \n",
       "157578       NaN       360.0  ...        0       0       0        0       0   \n",
       "87530        NaN        -1.0  ...        0       0       0        0       0   \n",
       "25314        NaN        -1.0  ...        0       0       0        0       0   \n",
       "37467       2121       465.0  ...        0       0       0        0       0   \n",
       "\n",
       "       p_count i_count nw_count  nr_count other_count  \n",
       "104981       0       0        0         0           0  \n",
       "27129        0       0        0         0           0  \n",
       "95187        0       0        0         0           0  \n",
       "81778        0       0        0         0           0  \n",
       "104176       0       0        0         0           0  \n",
       "37042        0       0        0         0           0  \n",
       "157578       0       0        0         0           0  \n",
       "87530        0       0        0         0           0  \n",
       "25314        0       0        0         0           0  \n",
       "37467        0       0        0         0           0  \n",
       "\n",
       "[10 rows x 43 columns]"
      ]
     },
     "execution_count": 90,
     "metadata": {},
     "output_type": "execute_result"
    }
   ],
   "source": [
    "big_df4.sample(10)"
   ]
  },
  {
   "cell_type": "markdown",
   "metadata": {
    "id": "elqS88VWSecP"
   },
   "source": [
    "Now the big csv including all the data in all csv files given in this dataset in Kaggle is ready to be further cleaned and used for machine learning."
   ]
  },
  {
   "cell_type": "markdown",
   "metadata": {
    "id": "Pubx1Uwh9mGX"
   },
   "source": [
    "# Export to csv"
   ]
  },
  {
   "cell_type": "code",
   "execution_count": 91,
   "metadata": {
    "id": "6HlVxWkH9lyJ"
   },
   "outputs": [],
   "source": [
    "big_df4.to_csv('Data/all_grades_data.csv')"
   ]
  }
 ],
 "metadata": {
  "colab": {
   "authorship_tag": "ABX9TyO8MRhbg7875YAQTVQh5NGW",
   "include_colab_link": true,
   "provenance": []
  },
  "kernelspec": {
   "display_name": "Python 3 (ipykernel)",
   "language": "python",
   "name": "python3"
  },
  "language_info": {
   "codemirror_mode": {
    "name": "ipython",
    "version": 3
   },
   "file_extension": ".py",
   "mimetype": "text/x-python",
   "name": "python",
   "nbconvert_exporter": "python",
   "pygments_lexer": "ipython3",
   "version": "3.9.15"
  },
  "toc": {
   "base_numbering": 1,
   "nav_menu": {},
   "number_sections": false,
   "sideBar": true,
   "skip_h1_title": false,
   "title_cell": "Table of Contents",
   "title_sidebar": "Contents",
   "toc_cell": false,
   "toc_position": {},
   "toc_section_display": true,
   "toc_window_display": false
  }
 },
 "nbformat": 4,
 "nbformat_minor": 1
}

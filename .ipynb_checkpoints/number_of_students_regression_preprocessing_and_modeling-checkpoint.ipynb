{
 "cells": [
  {
   "cell_type": "code",
   "execution_count": 75,
   "id": "85d4451e",
   "metadata": {},
   "outputs": [
    {
     "data": {
      "text/html": [
       "\n",
       "                <audio  controls=\"controls\" autoplay=\"autoplay\">\n",
       "                    <source src=\"data:audio/mpeg;base64,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\" type=\"audio/mpeg\" />\n",
       "                    Your browser does not support the audio element.\n",
       "                </audio>\n",
       "              "
      ],
      "text/plain": [
       "<IPython.lib.display.Audio object>"
      ]
     },
     "metadata": {},
     "output_type": "display_data"
    }
   ],
   "source": [
    "# display a sound when cell is done running\n",
    "# source: https://forums.fast.ai/t/sound-alerts-in-jupyter-for-code-completion-and-exceptions/4614\n",
    "\n",
    "## Import up sound alert dependencies\n",
    "from IPython.display import Audio, display\n",
    "\n",
    "def allDone():\n",
    "    display(Audio('f1-radio-notification-By-tuna.voicemod.net.mp3', autoplay=True))\n",
    "\n",
    "allDone()"
   ]
  },
  {
   "cell_type": "markdown",
   "id": "174abe82",
   "metadata": {},
   "source": [
    "# **Number of Students: Regression Processing and Modeling**"
   ]
  },
  {
   "cell_type": "markdown",
   "id": "2fc52627",
   "metadata": {},
   "source": [
    "# Preliminary Steps"
   ]
  },
  {
   "cell_type": "code",
   "execution_count": 76,
   "id": "00187880",
   "metadata": {},
   "outputs": [],
   "source": [
    "# import libraries\n",
    "\n",
    "import warnings\n",
    "warnings.filterwarnings('ignore')\n",
    "\n",
    "# general\n",
    "import numpy as np\n",
    "import pandas as pd\n",
    "\n",
    "# preprocessing\n",
    "from sklearn.preprocessing import OneHotEncoder, StandardScaler\n",
    "from sklearn.impute import SimpleImputer\n",
    "from sklearn.pipeline import make_pipeline\n",
    "from sklearn.compose import make_column_transformer\n",
    "from sklearn.model_selection import train_test_split\n",
    "\n",
    "# modeling\n",
    "from sklearn.dummy import DummyRegressor\n",
    "from sklearn.linear_model import LinearRegression\n",
    "from sklearn.tree import DecisionTreeRegressor\n",
    "from sklearn.ensemble import BaggingRegressor, RandomForestRegressor, \\\n",
    "GradientBoostingRegressor\n",
    "from sklearn.neighbors import KNeighborsRegressor\n",
    "from lightgbm import LGBMRegressor\n",
    "from xgboost import XGBRegressor\n",
    "\n",
    "# evaluation\n",
    "from sklearn.metrics import r2_score, mean_absolute_error, \\\n",
    "mean_squared_error, mean_absolute_percentage_error\n",
    "\n",
    "# tuning\n",
    "from sklearn.model_selection import GridSearchCV\n",
    "\n",
    "# feature engineering\n",
    "from sklearn.decomposition import PCA\n",
    "import matplotlib.pyplot as plt\n",
    "from sklearn import set_config\n",
    "set_config(display=\"diagram\") # can change to text\n",
    "from kneed import KneeLocator"
   ]
  },
  {
   "cell_type": "code",
   "execution_count": 77,
   "id": "0e8ec852",
   "metadata": {},
   "outputs": [],
   "source": [
    "# load data\n",
    "path = 'Data/all_grades_data_cleaned.csv'\n",
    "df = pd.read_csv(path, index_col = 0)"
   ]
  },
  {
   "cell_type": "code",
   "execution_count": 78,
   "id": "72a0478a",
   "metadata": {},
   "outputs": [
    {
     "name": "stdout",
     "output_type": "stream",
     "text": [
      "<class 'pandas.core.frame.DataFrame'>\n",
      "Int64Index: 49975 entries, 0 to 50205\n",
      "Data columns (total 51 columns):\n",
      " #   Column             Non-Null Count  Dtype  \n",
      "---  ------             --------------  -----  \n",
      " 0   section_type       49975 non-null  object \n",
      " 1   instructor_id      49975 non-null  object \n",
      " 2   facility_code      46160 non-null  object \n",
      " 3   start_time         49975 non-null  float64\n",
      " 4   mon                49975 non-null  bool   \n",
      " 5   tues               49975 non-null  bool   \n",
      " 6   wed                49975 non-null  bool   \n",
      " 7   thurs              49975 non-null  bool   \n",
      " 8   fri                49975 non-null  bool   \n",
      " 9   sat                49975 non-null  bool   \n",
      " 10  sun                49975 non-null  bool   \n",
      " 11  subject_name       49975 non-null  object \n",
      " 12  course_name        49975 non-null  object \n",
      " 13  a_count            49975 non-null  int64  \n",
      " 14  ab_count           49975 non-null  int64  \n",
      " 15  b_count            49975 non-null  int64  \n",
      " 16  bc_count           49975 non-null  int64  \n",
      " 17  c_count            49975 non-null  int64  \n",
      " 18  d_count            49975 non-null  int64  \n",
      " 19  f_count            49975 non-null  int64  \n",
      " 20  s_count            49975 non-null  int64  \n",
      " 21  u_count            49975 non-null  int64  \n",
      " 22  cr_count           49975 non-null  int64  \n",
      " 23  n_count            49975 non-null  int64  \n",
      " 24  p_count            49975 non-null  int64  \n",
      " 25  i_count            49975 non-null  int64  \n",
      " 26  nw_count           49975 non-null  int64  \n",
      " 27  nr_count           49975 non-null  int64  \n",
      " 28  other_count        49975 non-null  int64  \n",
      " 29  num_all_grades     49975 non-null  float64\n",
      " 30  a_proportion       49975 non-null  float64\n",
      " 31  ab_proportion      49975 non-null  float64\n",
      " 32  b_proportion       49975 non-null  float64\n",
      " 33  bc_proportion      49975 non-null  float64\n",
      " 34  c_proportion       49975 non-null  float64\n",
      " 35  d_proportion       49975 non-null  float64\n",
      " 36  f_proportion       49975 non-null  float64\n",
      " 37  s_proportion       49975 non-null  float64\n",
      " 38  u_proportion       49975 non-null  float64\n",
      " 39  cr_proportion      49975 non-null  float64\n",
      " 40  n_proportion       49975 non-null  float64\n",
      " 41  p_proportion       49975 non-null  float64\n",
      " 42  i_proportion       49975 non-null  float64\n",
      " 43  nw_proportion      49975 non-null  float64\n",
      " 44  nr_proportion      49975 non-null  float64\n",
      " 45  other_proportion   49975 non-null  float64\n",
      " 46  avg_letter_grade   49286 non-null  float64\n",
      " 47  year               49975 non-null  int64  \n",
      " 48  term               49975 non-null  object \n",
      " 49  class_length       49975 non-null  float64\n",
      " 50  course_difficulty  49975 non-null  object \n",
      "dtypes: bool(7), float64(20), int64(17), object(7)\n",
      "memory usage: 17.5+ MB\n"
     ]
    }
   ],
   "source": [
    "# inspect\n",
    "df.info()"
   ]
  },
  {
   "cell_type": "code",
   "execution_count": 79,
   "id": "997f26cb",
   "metadata": {},
   "outputs": [
    {
     "data": {
      "text/plain": [
       "0"
      ]
     },
     "execution_count": 79,
     "metadata": {},
     "output_type": "execute_result"
    }
   ],
   "source": [
    "# check for duplicates\n",
    "df.duplicated().sum()"
   ]
  },
  {
   "cell_type": "code",
   "execution_count": 80,
   "id": "399ee619",
   "metadata": {},
   "outputs": [
    {
     "data": {
      "text/plain": [
       "section_type            0\n",
       "instructor_id           0\n",
       "facility_code        3815\n",
       "start_time              0\n",
       "mon                     0\n",
       "tues                    0\n",
       "wed                     0\n",
       "thurs                   0\n",
       "fri                     0\n",
       "sat                     0\n",
       "sun                     0\n",
       "subject_name            0\n",
       "course_name             0\n",
       "a_count                 0\n",
       "ab_count                0\n",
       "b_count                 0\n",
       "bc_count                0\n",
       "c_count                 0\n",
       "d_count                 0\n",
       "f_count                 0\n",
       "s_count                 0\n",
       "u_count                 0\n",
       "cr_count                0\n",
       "n_count                 0\n",
       "p_count                 0\n",
       "i_count                 0\n",
       "nw_count                0\n",
       "nr_count                0\n",
       "other_count             0\n",
       "num_all_grades          0\n",
       "a_proportion            0\n",
       "ab_proportion           0\n",
       "b_proportion            0\n",
       "bc_proportion           0\n",
       "c_proportion            0\n",
       "d_proportion            0\n",
       "f_proportion            0\n",
       "s_proportion            0\n",
       "u_proportion            0\n",
       "cr_proportion           0\n",
       "n_proportion            0\n",
       "p_proportion            0\n",
       "i_proportion            0\n",
       "nw_proportion           0\n",
       "nr_proportion           0\n",
       "other_proportion        0\n",
       "avg_letter_grade      689\n",
       "year                    0\n",
       "term                    0\n",
       "class_length            0\n",
       "course_difficulty       0\n",
       "dtype: int64"
      ]
     },
     "execution_count": 80,
     "metadata": {},
     "output_type": "execute_result"
    }
   ],
   "source": [
    "# check for missing values\n",
    "df.isna().sum()\n",
    "\n",
    "# 'facility_code' is the only feature column with missing values; will need \n",
    "# to impute\n",
    "# 'avg_grade' missing values but this column will be dropped as we are using\n",
    "# 'num_all_grades' as our target variable in this notebook"
   ]
  },
  {
   "cell_type": "markdown",
   "id": "50e6d0d0",
   "metadata": {},
   "source": [
    "# Preprocessing"
   ]
  },
  {
   "cell_type": "markdown",
   "id": "ddf5adda",
   "metadata": {},
   "source": [
    "## Target: Number of Grades"
   ]
  },
  {
   "cell_type": "markdown",
   "id": "ea4cbe04",
   "metadata": {},
   "source": [
    "In this notebook, we will see if we can predict the number of students in each class as a proxy for how popular each class is. We will use the number of all grades given in each class as the number of students who took the class. This is not a perfect measure since students can drop classes before getting their final grades, and this dataset does not include information on drops."
   ]
  },
  {
   "cell_type": "code",
   "execution_count": 81,
   "id": "d5b157ee",
   "metadata": {},
   "outputs": [
    {
     "name": "stdout",
     "output_type": "stream",
     "text": [
      "col a_count is in df: False\n",
      "col ab_count is in df: False\n",
      "col b_count is in df: False\n",
      "col bc_count is in df: False\n",
      "col c_count is in df: False\n",
      "col d_count is in df: False\n",
      "col f_count is in df: False\n",
      "col s_count is in df: False\n",
      "col u_count is in df: False\n",
      "col cr_count is in df: False\n",
      "col n_count is in df: False\n",
      "col p_count is in df: False\n",
      "col i_count is in df: False\n",
      "col nw_count is in df: False\n",
      "col nr_count is in df: False\n",
      "col other_count is in df: False\n",
      "col a_proportion is in df: False\n",
      "col ab_proportion is in df: False\n",
      "col b_proportion is in df: False\n",
      "col bc_proportion is in df: False\n",
      "col c_proportion is in df: False\n",
      "col d_proportion is in df: False\n",
      "col f_proportion is in df: False\n",
      "col s_proportion is in df: False\n",
      "col u_proportion is in df: False\n",
      "col cr_proportion is in df: False\n",
      "col n_proportion is in df: False\n",
      "col p_proportion is in df: False\n",
      "col i_proportion is in df: False\n",
      "col nw_proportion is in df: False\n",
      "col nr_proportion is in df: False\n",
      "col other_proportion is in df: False\n",
      "col avg_letter_grade is in df: False\n"
     ]
    }
   ],
   "source": [
    "# drop columns that will not be used as target\n",
    "\n",
    "drop_columns = ['a_count', 'ab_count', 'b_count', 'bc_count', 'c_count', \n",
    "                'd_count', 'f_count', 's_count', 'u_count', 'cr_count', \n",
    "                'n_count', 'p_count', 'i_count', 'nw_count', 'nr_count', \n",
    "                'other_count', 'a_proportion', 'ab_proportion', \n",
    "                'b_proportion', 'bc_proportion', 'c_proportion', \n",
    "                'd_proportion', 'f_proportion', 's_proportion', \n",
    "                'u_proportion', 'cr_proportion', 'n_proportion', \n",
    "                'p_proportion', 'i_proportion', 'nw_proportion', \n",
    "                'nr_proportion', 'other_proportion', 'avg_letter_grade']\n",
    "\n",
    "df.drop(columns = drop_columns, inplace = True)\n",
    "\n",
    "# check\n",
    "for col in drop_columns:\n",
    "    print(f\"col {col} is in df: {col in df.columns}\")"
   ]
  },
  {
   "cell_type": "markdown",
   "id": "ff6ea95d",
   "metadata": {},
   "source": [
    "## Features"
   ]
  },
  {
   "cell_type": "markdown",
   "id": "a29518c5",
   "metadata": {},
   "source": [
    "Here we will manipulate our feature variables as in the average_grade_regression_preprocessing_and_modeling notebook, in the feature engineering section. This is because those manipulations made the models predicting average letter grade much more accurate, so we will hope they would do the same for this target variable."
   ]
  },
  {
   "cell_type": "code",
   "execution_count": 82,
   "id": "551ef85e",
   "metadata": {},
   "outputs": [
    {
     "data": {
      "text/plain": [
       "Index(['section_type', 'instructor_id', 'facility_code', 'start_time', 'mon',\n",
       "       'tues', 'wed', 'thurs', 'fri', 'sat', 'sun', 'subject_name',\n",
       "       'course_name', 'num_all_grades', 'year', 'term', 'class_length',\n",
       "       'course_difficulty'],\n",
       "      dtype='object')"
      ]
     },
     "execution_count": 82,
     "metadata": {},
     "output_type": "execute_result"
    }
   ],
   "source": [
    "df.columns"
   ]
  },
  {
   "cell_type": "markdown",
   "id": "6107625e",
   "metadata": {},
   "source": [
    "### Schedule"
   ]
  },
  {
   "cell_type": "markdown",
   "id": "e5abfca3",
   "metadata": {},
   "source": [
    "Create a new column for how many days per week the course is held (numeric, to be one-hot encoded in preprocessor)."
   ]
  },
  {
   "cell_type": "code",
   "execution_count": 83,
   "id": "252be732",
   "metadata": {},
   "outputs": [
    {
     "data": {
      "text/html": [
       "<div>\n",
       "<style scoped>\n",
       "    .dataframe tbody tr th:only-of-type {\n",
       "        vertical-align: middle;\n",
       "    }\n",
       "\n",
       "    .dataframe tbody tr th {\n",
       "        vertical-align: top;\n",
       "    }\n",
       "\n",
       "    .dataframe thead th {\n",
       "        text-align: right;\n",
       "    }\n",
       "</style>\n",
       "<table border=\"1\" class=\"dataframe\">\n",
       "  <thead>\n",
       "    <tr style=\"text-align: right;\">\n",
       "      <th></th>\n",
       "      <th>mon</th>\n",
       "      <th>tues</th>\n",
       "      <th>wed</th>\n",
       "      <th>thurs</th>\n",
       "      <th>fri</th>\n",
       "      <th>sat</th>\n",
       "      <th>sun</th>\n",
       "    </tr>\n",
       "  </thead>\n",
       "  <tbody>\n",
       "    <tr>\n",
       "      <th>0</th>\n",
       "      <td>0</td>\n",
       "      <td>0</td>\n",
       "      <td>0</td>\n",
       "      <td>0</td>\n",
       "      <td>0</td>\n",
       "      <td>0</td>\n",
       "      <td>0</td>\n",
       "    </tr>\n",
       "    <tr>\n",
       "      <th>1</th>\n",
       "      <td>0</td>\n",
       "      <td>1</td>\n",
       "      <td>0</td>\n",
       "      <td>1</td>\n",
       "      <td>0</td>\n",
       "      <td>0</td>\n",
       "      <td>0</td>\n",
       "    </tr>\n",
       "    <tr>\n",
       "      <th>2</th>\n",
       "      <td>0</td>\n",
       "      <td>1</td>\n",
       "      <td>0</td>\n",
       "      <td>1</td>\n",
       "      <td>0</td>\n",
       "      <td>0</td>\n",
       "      <td>0</td>\n",
       "    </tr>\n",
       "    <tr>\n",
       "      <th>3</th>\n",
       "      <td>1</td>\n",
       "      <td>0</td>\n",
       "      <td>1</td>\n",
       "      <td>0</td>\n",
       "      <td>1</td>\n",
       "      <td>0</td>\n",
       "      <td>0</td>\n",
       "    </tr>\n",
       "    <tr>\n",
       "      <th>4</th>\n",
       "      <td>1</td>\n",
       "      <td>0</td>\n",
       "      <td>1</td>\n",
       "      <td>0</td>\n",
       "      <td>1</td>\n",
       "      <td>0</td>\n",
       "      <td>0</td>\n",
       "    </tr>\n",
       "    <tr>\n",
       "      <th>...</th>\n",
       "      <td>...</td>\n",
       "      <td>...</td>\n",
       "      <td>...</td>\n",
       "      <td>...</td>\n",
       "      <td>...</td>\n",
       "      <td>...</td>\n",
       "      <td>...</td>\n",
       "    </tr>\n",
       "    <tr>\n",
       "      <th>50201</th>\n",
       "      <td>1</td>\n",
       "      <td>1</td>\n",
       "      <td>0</td>\n",
       "      <td>0</td>\n",
       "      <td>1</td>\n",
       "      <td>0</td>\n",
       "      <td>0</td>\n",
       "    </tr>\n",
       "    <tr>\n",
       "      <th>50202</th>\n",
       "      <td>1</td>\n",
       "      <td>1</td>\n",
       "      <td>0</td>\n",
       "      <td>0</td>\n",
       "      <td>1</td>\n",
       "      <td>0</td>\n",
       "      <td>0</td>\n",
       "    </tr>\n",
       "    <tr>\n",
       "      <th>50203</th>\n",
       "      <td>1</td>\n",
       "      <td>1</td>\n",
       "      <td>0</td>\n",
       "      <td>0</td>\n",
       "      <td>1</td>\n",
       "      <td>0</td>\n",
       "      <td>0</td>\n",
       "    </tr>\n",
       "    <tr>\n",
       "      <th>50204</th>\n",
       "      <td>1</td>\n",
       "      <td>1</td>\n",
       "      <td>0</td>\n",
       "      <td>0</td>\n",
       "      <td>1</td>\n",
       "      <td>0</td>\n",
       "      <td>0</td>\n",
       "    </tr>\n",
       "    <tr>\n",
       "      <th>50205</th>\n",
       "      <td>1</td>\n",
       "      <td>0</td>\n",
       "      <td>1</td>\n",
       "      <td>0</td>\n",
       "      <td>0</td>\n",
       "      <td>0</td>\n",
       "      <td>0</td>\n",
       "    </tr>\n",
       "  </tbody>\n",
       "</table>\n",
       "<p>49975 rows × 7 columns</p>\n",
       "</div>"
      ],
      "text/plain": [
       "       mon  tues  wed  thurs  fri  sat  sun\n",
       "0        0     0    0      0    0    0    0\n",
       "1        0     1    0      1    0    0    0\n",
       "2        0     1    0      1    0    0    0\n",
       "3        1     0    1      0    1    0    0\n",
       "4        1     0    1      0    1    0    0\n",
       "...    ...   ...  ...    ...  ...  ...  ...\n",
       "50201    1     1    0      0    1    0    0\n",
       "50202    1     1    0      0    1    0    0\n",
       "50203    1     1    0      0    1    0    0\n",
       "50204    1     1    0      0    1    0    0\n",
       "50205    1     0    1      0    0    0    0\n",
       "\n",
       "[49975 rows x 7 columns]"
      ]
     },
     "execution_count": 83,
     "metadata": {},
     "output_type": "execute_result"
    }
   ],
   "source": [
    "# first convert boolean values (True, False) to 1s and 0s so can be summed\n",
    "\n",
    "days_in_week = ['mon', 'tues', 'wed', 'thurs', 'fri', 'sat', 'sun']\n",
    "\n",
    "for day in days_in_week:\n",
    "    df[day].replace({True: 1, False: 0}, inplace = True)\n",
    "\n",
    "# check\n",
    "df[['mon', 'tues', 'wed', 'thurs', 'fri', 'sat', 'sun']]"
   ]
  },
  {
   "cell_type": "code",
   "execution_count": 84,
   "id": "0646e815",
   "metadata": {},
   "outputs": [
    {
     "data": {
      "text/html": [
       "<div>\n",
       "<style scoped>\n",
       "    .dataframe tbody tr th:only-of-type {\n",
       "        vertical-align: middle;\n",
       "    }\n",
       "\n",
       "    .dataframe tbody tr th {\n",
       "        vertical-align: top;\n",
       "    }\n",
       "\n",
       "    .dataframe thead th {\n",
       "        text-align: right;\n",
       "    }\n",
       "</style>\n",
       "<table border=\"1\" class=\"dataframe\">\n",
       "  <thead>\n",
       "    <tr style=\"text-align: right;\">\n",
       "      <th></th>\n",
       "      <th>mon</th>\n",
       "      <th>tues</th>\n",
       "      <th>wed</th>\n",
       "      <th>thurs</th>\n",
       "      <th>fri</th>\n",
       "      <th>sat</th>\n",
       "      <th>sun</th>\n",
       "      <th>days_per_week</th>\n",
       "    </tr>\n",
       "  </thead>\n",
       "  <tbody>\n",
       "    <tr>\n",
       "      <th>0</th>\n",
       "      <td>0</td>\n",
       "      <td>0</td>\n",
       "      <td>0</td>\n",
       "      <td>0</td>\n",
       "      <td>0</td>\n",
       "      <td>0</td>\n",
       "      <td>0</td>\n",
       "      <td>0</td>\n",
       "    </tr>\n",
       "    <tr>\n",
       "      <th>1</th>\n",
       "      <td>0</td>\n",
       "      <td>1</td>\n",
       "      <td>0</td>\n",
       "      <td>1</td>\n",
       "      <td>0</td>\n",
       "      <td>0</td>\n",
       "      <td>0</td>\n",
       "      <td>2</td>\n",
       "    </tr>\n",
       "    <tr>\n",
       "      <th>2</th>\n",
       "      <td>0</td>\n",
       "      <td>1</td>\n",
       "      <td>0</td>\n",
       "      <td>1</td>\n",
       "      <td>0</td>\n",
       "      <td>0</td>\n",
       "      <td>0</td>\n",
       "      <td>2</td>\n",
       "    </tr>\n",
       "    <tr>\n",
       "      <th>3</th>\n",
       "      <td>1</td>\n",
       "      <td>0</td>\n",
       "      <td>1</td>\n",
       "      <td>0</td>\n",
       "      <td>1</td>\n",
       "      <td>0</td>\n",
       "      <td>0</td>\n",
       "      <td>3</td>\n",
       "    </tr>\n",
       "    <tr>\n",
       "      <th>4</th>\n",
       "      <td>1</td>\n",
       "      <td>0</td>\n",
       "      <td>1</td>\n",
       "      <td>0</td>\n",
       "      <td>1</td>\n",
       "      <td>0</td>\n",
       "      <td>0</td>\n",
       "      <td>3</td>\n",
       "    </tr>\n",
       "    <tr>\n",
       "      <th>...</th>\n",
       "      <td>...</td>\n",
       "      <td>...</td>\n",
       "      <td>...</td>\n",
       "      <td>...</td>\n",
       "      <td>...</td>\n",
       "      <td>...</td>\n",
       "      <td>...</td>\n",
       "      <td>...</td>\n",
       "    </tr>\n",
       "    <tr>\n",
       "      <th>50201</th>\n",
       "      <td>1</td>\n",
       "      <td>1</td>\n",
       "      <td>0</td>\n",
       "      <td>0</td>\n",
       "      <td>1</td>\n",
       "      <td>0</td>\n",
       "      <td>0</td>\n",
       "      <td>3</td>\n",
       "    </tr>\n",
       "    <tr>\n",
       "      <th>50202</th>\n",
       "      <td>1</td>\n",
       "      <td>1</td>\n",
       "      <td>0</td>\n",
       "      <td>0</td>\n",
       "      <td>1</td>\n",
       "      <td>0</td>\n",
       "      <td>0</td>\n",
       "      <td>3</td>\n",
       "    </tr>\n",
       "    <tr>\n",
       "      <th>50203</th>\n",
       "      <td>1</td>\n",
       "      <td>1</td>\n",
       "      <td>0</td>\n",
       "      <td>0</td>\n",
       "      <td>1</td>\n",
       "      <td>0</td>\n",
       "      <td>0</td>\n",
       "      <td>3</td>\n",
       "    </tr>\n",
       "    <tr>\n",
       "      <th>50204</th>\n",
       "      <td>1</td>\n",
       "      <td>1</td>\n",
       "      <td>0</td>\n",
       "      <td>0</td>\n",
       "      <td>1</td>\n",
       "      <td>0</td>\n",
       "      <td>0</td>\n",
       "      <td>3</td>\n",
       "    </tr>\n",
       "    <tr>\n",
       "      <th>50205</th>\n",
       "      <td>1</td>\n",
       "      <td>0</td>\n",
       "      <td>1</td>\n",
       "      <td>0</td>\n",
       "      <td>0</td>\n",
       "      <td>0</td>\n",
       "      <td>0</td>\n",
       "      <td>2</td>\n",
       "    </tr>\n",
       "  </tbody>\n",
       "</table>\n",
       "<p>49975 rows × 8 columns</p>\n",
       "</div>"
      ],
      "text/plain": [
       "       mon  tues  wed  thurs  fri  sat  sun  days_per_week\n",
       "0        0     0    0      0    0    0    0              0\n",
       "1        0     1    0      1    0    0    0              2\n",
       "2        0     1    0      1    0    0    0              2\n",
       "3        1     0    1      0    1    0    0              3\n",
       "4        1     0    1      0    1    0    0              3\n",
       "...    ...   ...  ...    ...  ...  ...  ...            ...\n",
       "50201    1     1    0      0    1    0    0              3\n",
       "50202    1     1    0      0    1    0    0              3\n",
       "50203    1     1    0      0    1    0    0              3\n",
       "50204    1     1    0      0    1    0    0              3\n",
       "50205    1     0    1      0    0    0    0              2\n",
       "\n",
       "[49975 rows x 8 columns]"
      ]
     },
     "execution_count": 84,
     "metadata": {},
     "output_type": "execute_result"
    }
   ],
   "source": [
    "# make new column\n",
    "df['days_per_week'] = (df['mon'] + df['tues'] + df['wed'] +\n",
    "                       df['thurs'] + df['fri'] + df['sat'] +\n",
    "                       df['sun'])\n",
    "\n",
    "# check\n",
    "df[['mon', 'tues', 'wed', 'thurs', 'fri', 'sat', 'sun', 'days_per_week']]"
   ]
  },
  {
   "cell_type": "code",
   "execution_count": 85,
   "id": "37a7ff67",
   "metadata": {},
   "outputs": [
    {
     "data": {
      "text/html": [
       "<div>\n",
       "<style scoped>\n",
       "    .dataframe tbody tr th:only-of-type {\n",
       "        vertical-align: middle;\n",
       "    }\n",
       "\n",
       "    .dataframe tbody tr th {\n",
       "        vertical-align: top;\n",
       "    }\n",
       "\n",
       "    .dataframe thead th {\n",
       "        text-align: right;\n",
       "    }\n",
       "</style>\n",
       "<table border=\"1\" class=\"dataframe\">\n",
       "  <thead>\n",
       "    <tr style=\"text-align: right;\">\n",
       "      <th></th>\n",
       "      <th>mon</th>\n",
       "      <th>tues</th>\n",
       "      <th>wed</th>\n",
       "      <th>thurs</th>\n",
       "      <th>fri</th>\n",
       "      <th>sat</th>\n",
       "      <th>sun</th>\n",
       "      <th>days_per_week</th>\n",
       "    </tr>\n",
       "  </thead>\n",
       "  <tbody>\n",
       "    <tr>\n",
       "      <th>0</th>\n",
       "      <td></td>\n",
       "      <td></td>\n",
       "      <td></td>\n",
       "      <td></td>\n",
       "      <td></td>\n",
       "      <td></td>\n",
       "      <td></td>\n",
       "      <td>0</td>\n",
       "    </tr>\n",
       "    <tr>\n",
       "      <th>1</th>\n",
       "      <td></td>\n",
       "      <td>T</td>\n",
       "      <td></td>\n",
       "      <td>R</td>\n",
       "      <td></td>\n",
       "      <td></td>\n",
       "      <td></td>\n",
       "      <td>2</td>\n",
       "    </tr>\n",
       "    <tr>\n",
       "      <th>2</th>\n",
       "      <td></td>\n",
       "      <td>T</td>\n",
       "      <td></td>\n",
       "      <td>R</td>\n",
       "      <td></td>\n",
       "      <td></td>\n",
       "      <td></td>\n",
       "      <td>2</td>\n",
       "    </tr>\n",
       "    <tr>\n",
       "      <th>3</th>\n",
       "      <td>M</td>\n",
       "      <td></td>\n",
       "      <td>W</td>\n",
       "      <td></td>\n",
       "      <td>F</td>\n",
       "      <td></td>\n",
       "      <td></td>\n",
       "      <td>3</td>\n",
       "    </tr>\n",
       "    <tr>\n",
       "      <th>4</th>\n",
       "      <td>M</td>\n",
       "      <td></td>\n",
       "      <td>W</td>\n",
       "      <td></td>\n",
       "      <td>F</td>\n",
       "      <td></td>\n",
       "      <td></td>\n",
       "      <td>3</td>\n",
       "    </tr>\n",
       "    <tr>\n",
       "      <th>...</th>\n",
       "      <td>...</td>\n",
       "      <td>...</td>\n",
       "      <td>...</td>\n",
       "      <td>...</td>\n",
       "      <td>...</td>\n",
       "      <td>...</td>\n",
       "      <td>...</td>\n",
       "      <td>...</td>\n",
       "    </tr>\n",
       "    <tr>\n",
       "      <th>50201</th>\n",
       "      <td>M</td>\n",
       "      <td>T</td>\n",
       "      <td></td>\n",
       "      <td></td>\n",
       "      <td>F</td>\n",
       "      <td></td>\n",
       "      <td></td>\n",
       "      <td>3</td>\n",
       "    </tr>\n",
       "    <tr>\n",
       "      <th>50202</th>\n",
       "      <td>M</td>\n",
       "      <td>T</td>\n",
       "      <td></td>\n",
       "      <td></td>\n",
       "      <td>F</td>\n",
       "      <td></td>\n",
       "      <td></td>\n",
       "      <td>3</td>\n",
       "    </tr>\n",
       "    <tr>\n",
       "      <th>50203</th>\n",
       "      <td>M</td>\n",
       "      <td>T</td>\n",
       "      <td></td>\n",
       "      <td></td>\n",
       "      <td>F</td>\n",
       "      <td></td>\n",
       "      <td></td>\n",
       "      <td>3</td>\n",
       "    </tr>\n",
       "    <tr>\n",
       "      <th>50204</th>\n",
       "      <td>M</td>\n",
       "      <td>T</td>\n",
       "      <td></td>\n",
       "      <td></td>\n",
       "      <td>F</td>\n",
       "      <td></td>\n",
       "      <td></td>\n",
       "      <td>3</td>\n",
       "    </tr>\n",
       "    <tr>\n",
       "      <th>50205</th>\n",
       "      <td>M</td>\n",
       "      <td></td>\n",
       "      <td>W</td>\n",
       "      <td></td>\n",
       "      <td></td>\n",
       "      <td></td>\n",
       "      <td></td>\n",
       "      <td>2</td>\n",
       "    </tr>\n",
       "  </tbody>\n",
       "</table>\n",
       "<p>49975 rows × 8 columns</p>\n",
       "</div>"
      ],
      "text/plain": [
       "      mon tues wed thurs fri sat sun  days_per_week\n",
       "0                                                 0\n",
       "1            T         R                          2\n",
       "2            T         R                          2\n",
       "3       M        W         F                      3\n",
       "4       M        W         F                      3\n",
       "...    ..  ...  ..   ...  ..  ..  ..            ...\n",
       "50201   M    T             F                      3\n",
       "50202   M    T             F                      3\n",
       "50203   M    T             F                      3\n",
       "50204   M    T             F                      3\n",
       "50205   M        W                                2\n",
       "\n",
       "[49975 rows x 8 columns]"
      ]
     },
     "execution_count": 85,
     "metadata": {},
     "output_type": "execute_result"
    }
   ],
   "source": [
    "# change 1s and 0s to abbreviations\n",
    "\n",
    "# change 1s and 0s in days of week columns to abbreviations \n",
    "# (M, T, W, R, F, A, U)\n",
    "\n",
    "df['mon'].replace({1: 'M', 0: ''}, inplace = True)\n",
    "df['tues'].replace({1: 'T', 0: ''}, inplace = True)\n",
    "df['wed'].replace({1: 'W', 0: ''}, inplace = True)\n",
    "df['thurs'].replace({1: 'R', 0: ''}, inplace = True)\n",
    "df['fri'].replace({1: 'F', 0: ''}, inplace = True)\n",
    "df['sat'].replace({1: 'A', 0: ''}, inplace = True)\n",
    "df['sun'].replace({1: 'U', 0: ''}, inplace = True)\n",
    "\n",
    "# check\n",
    "df[['mon', 'tues', 'wed', 'thurs', 'fri', 'sat', 'sun', 'days_per_week']]"
   ]
  },
  {
   "cell_type": "code",
   "execution_count": 86,
   "id": "34133fbe",
   "metadata": {},
   "outputs": [
    {
     "data": {
      "text/plain": [
       "TR         15477\n",
       "MWF         9313\n",
       "MW          7150\n",
       "            3899\n",
       "T           2485\n",
       "W           2334\n",
       "M           1985\n",
       "MTWR        1816\n",
       "R           1534\n",
       "MTWRF       1240\n",
       "F            893\n",
       "MTRF         870\n",
       "A            217\n",
       "MF           206\n",
       "WF           162\n",
       "MWR           88\n",
       "MTWF          69\n",
       "U             40\n",
       "MTR           31\n",
       "TRF           31\n",
       "TWRF          27\n",
       "MR            22\n",
       "FA            18\n",
       "MT            14\n",
       "WR            11\n",
       "MWRF           9\n",
       "MTF            7\n",
       "MRF            5\n",
       "TF             4\n",
       "RF             4\n",
       "MTW            3\n",
       "TWR            3\n",
       "TRA            2\n",
       "WRF            2\n",
       "TW             2\n",
       "MA             1\n",
       "MTWRFAU        1\n",
       "Name: schedule_days, dtype: int64"
      ]
     },
     "execution_count": 86,
     "metadata": {},
     "output_type": "execute_result"
    }
   ],
   "source": [
    "# concatenate days of week columns into one\n",
    "df['schedule_days'] = (df['mon'] + df['tues'] + df['wed'] + \n",
    "                       df['thurs'] + df['fri'] + df['sat'] + \n",
    "                       df['sun'])\n",
    "\n",
    "# check\n",
    "df['schedule_days'].value_counts()"
   ]
  },
  {
   "cell_type": "code",
   "execution_count": 87,
   "id": "ecb50d06",
   "metadata": {},
   "outputs": [
    {
     "data": {
      "text/plain": [
       "TR         15477\n",
       "MWF         9313\n",
       "MW          7150\n",
       "none        3899\n",
       "T           2485\n",
       "W           2334\n",
       "M           1985\n",
       "MTWR        1816\n",
       "R           1534\n",
       "MTWRF       1240\n",
       "F            893\n",
       "MTRF         870\n",
       "A            217\n",
       "MF           206\n",
       "WF           162\n",
       "MWR           88\n",
       "MTWF          69\n",
       "U             40\n",
       "MTR           31\n",
       "TRF           31\n",
       "TWRF          27\n",
       "MR            22\n",
       "FA            18\n",
       "MT            14\n",
       "WR            11\n",
       "MWRF           9\n",
       "MTF            7\n",
       "MRF            5\n",
       "TF             4\n",
       "RF             4\n",
       "MTW            3\n",
       "TWR            3\n",
       "TRA            2\n",
       "WRF            2\n",
       "TW             2\n",
       "MA             1\n",
       "MTWRFAU        1\n",
       "Name: schedule_days, dtype: int64"
      ]
     },
     "execution_count": 87,
     "metadata": {},
     "output_type": "execute_result"
    }
   ],
   "source": [
    "# replace '' with 'none'\n",
    "df['schedule_days'] = df['schedule_days'].apply(lambda x: 'none' \n",
    "                                                if x == '' \n",
    "                                                else x)\n",
    "\n",
    "# check\n",
    "df['schedule_days'].value_counts()"
   ]
  },
  {
   "cell_type": "code",
   "execution_count": 88,
   "id": "1c100937",
   "metadata": {},
   "outputs": [
    {
     "data": {
      "text/plain": [
       "TR       15477\n",
       "MWF       9313\n",
       "MW        7150\n",
       "none      3899\n",
       "T         2485\n",
       "W         2334\n",
       "M         1985\n",
       "MTWR      1816\n",
       "R         1534\n",
       "MTWRF     1240\n",
       "F          893\n",
       "MTRF       870\n",
       "other      394\n",
       "A          217\n",
       "MF         206\n",
       "WF         162\n",
       "Name: schedule_days, dtype: int64"
      ]
     },
     "execution_count": 88,
     "metadata": {},
     "output_type": "execute_result"
    }
   ],
   "source": [
    "# bin all schedules with fewer than 100 values into 'other'\n",
    "\n",
    "keep_schedules = ['TR', 'MWF', 'MW', 'none', 'T', 'W', 'M', 'MTWR', \n",
    "                 'R', 'MTWRF', 'MTRF', 'F', 'A', 'MF', 'WF']\n",
    "\n",
    "df['schedule_days'] = df['schedule_days'].apply(lambda x: x \n",
    "                                                if x in keep_schedules \n",
    "                                                else 'other')\n",
    "\n",
    "# check\n",
    "df['schedule_days'].value_counts()"
   ]
  },
  {
   "cell_type": "code",
   "execution_count": 89,
   "id": "3b61c55b",
   "metadata": {},
   "outputs": [
    {
     "name": "stdout",
     "output_type": "stream",
     "text": [
      "mon col in df: False\n",
      "tues col in df: False\n",
      "wed col in df: False\n",
      "thurs col in df: False\n",
      "fri col in df: False\n",
      "sat col in df: False\n",
      "sun col in df: False\n"
     ]
    }
   ],
   "source": [
    "# drop original columns\n",
    "df.drop(columns = days_in_week, inplace = True)\n",
    "\n",
    "# check\n",
    "for col in days_in_week:\n",
    "    print(f\"{col} col in df: {col in df.columns}\")"
   ]
  },
  {
   "cell_type": "markdown",
   "id": "546de401",
   "metadata": {},
   "source": [
    "### Course name"
   ]
  },
  {
   "cell_type": "code",
   "execution_count": 90,
   "id": "a9ddeefa",
   "metadata": {},
   "outputs": [
    {
     "data": {
      "text/plain": [
       "False"
      ]
     },
     "execution_count": 90,
     "metadata": {},
     "output_type": "execute_result"
    }
   ],
   "source": [
    "# course_name is a finer distinction of 'subject_name'; let's get rid of it\n",
    "\n",
    "df.drop(columns = 'course_name', inplace = True)\n",
    "\n",
    "# check\n",
    "'course_name' in df.columns"
   ]
  },
  {
   "cell_type": "markdown",
   "id": "c14878c8",
   "metadata": {},
   "source": [
    "### Start time"
   ]
  },
  {
   "cell_type": "code",
   "execution_count": 91,
   "id": "258970d7",
   "metadata": {},
   "outputs": [
    {
     "data": {
      "text/plain": [
       "mid-morning        12819\n",
       "early afternoon    11594\n",
       "late morning        8105\n",
       "mid-afternoon       8090\n",
       "late afternoon      3975\n",
       "none                3920\n",
       "early morning        769\n",
       "evening              703\n",
       "Name: start_time, dtype: int64"
      ]
     },
     "execution_count": 91,
     "metadata": {},
     "output_type": "execute_result"
    }
   ],
   "source": [
    "# start_time is given in minutes, so it is a numerical variable; courses\n",
    "# without an assigned start_time are coded with -1\n",
    "# start_time shouldn't be treated as a numeric variable since there is not a\n",
    "# natural size order to times; for example, it's possible that courses in the\n",
    "# afternoon give out higher grades than both courses in the mornings and\n",
    "# evenings\n",
    "\n",
    "# we will bin courses by start_time to morning, afternoon, evening, and none\n",
    "# then we will be able to one-hot encode this variable\n",
    "\n",
    "# times:\n",
    "# -1 = 'none'\n",
    "# earliest start time is 6:30am (390)\n",
    "# 390 - 479 = early morning (6:30-7:59am) # 1.5 hours\n",
    "# 480 - 599 = mid-morning (8-9:59am) # 2 hours\n",
    "# 600 - 719 = late morning (10-11:59am) # 2 hours\n",
    "# 720 - 839 = early afternoon (noon-1:59pm) # 2 hours\n",
    "# 840 - 959 = mid-afternoon (2-3:59pm) # 2 hours\n",
    "# 960 - 1079 = late afternoon (4-5:59pm) # 2 hours\n",
    "# 1080 - 1260 = evening (6-9pm) # 3 hours\n",
    "# last start time is 9pm (1260)\n",
    "\n",
    "for index in df['start_time'].index:\n",
    "    if df.at[index, 'start_time'] == -1:\n",
    "        df.at[index, 'start_time'] = 'none'\n",
    "    elif df.at[index, 'start_time'] < 480:\n",
    "        df.at[index, 'start_time'] = 'early morning'\n",
    "    elif df.at[index, 'start_time'] < 600:\n",
    "        df.at[index, 'start_time'] = 'mid-morning'\n",
    "    elif df.at[index, 'start_time'] < 720:\n",
    "        df.at[index, 'start_time'] = 'late morning'\n",
    "    elif df.at[index, 'start_time'] < 840:\n",
    "        df.at[index, 'start_time'] = 'early afternoon'\n",
    "    elif df.at[index, 'start_time'] < 960:\n",
    "        df.at[index, 'start_time'] = 'mid-afternoon'\n",
    "    elif df.at[index, 'start_time'] < 1080:\n",
    "        df.at[index, 'start_time'] = 'late afternoon'\n",
    "    else:\n",
    "        df.at[index, 'start_time'] = 'evening'\n",
    "        \n",
    "# check\n",
    "df['start_time'].value_counts()"
   ]
  },
  {
   "cell_type": "markdown",
   "id": "04458670",
   "metadata": {},
   "source": [
    "### Class length"
   ]
  },
  {
   "cell_type": "code",
   "execution_count": 92,
   "id": "1f7cdcee",
   "metadata": {},
   "outputs": [
    {
     "data": {
      "text/plain": [
       "longer     25813\n",
       "shorter    24162\n",
       "Name: class_length, dtype: int64"
      ]
     },
     "execution_count": 92,
     "metadata": {},
     "output_type": "execute_result"
    }
   ],
   "source": [
    "# bin into less than 75 and 75 or more\n",
    "df['class_length'] = df['class_length'].apply(lambda x: 'shorter' \n",
    "                                              if x < 75 \n",
    "                                              else 'longer')\n",
    "\n",
    "# check\n",
    "df['class_length'].value_counts()"
   ]
  },
  {
   "cell_type": "markdown",
   "id": "9490b975",
   "metadata": {},
   "source": [
    "## Create preprocessor"
   ]
  },
  {
   "cell_type": "code",
   "execution_count": 93,
   "id": "01c6d42a",
   "metadata": {},
   "outputs": [
    {
     "name": "stdout",
     "output_type": "stream",
     "text": [
      "y:\n",
      "0         8.0\n",
      "1        13.0\n",
      "2        13.0\n",
      "3        12.0\n",
      "4        11.0\n",
      "         ... \n",
      "50201    81.0\n",
      "50202    81.0\n",
      "50203    88.0\n",
      "50204    80.0\n",
      "50205    21.0\n",
      "Name: num_all_grades, Length: 49975, dtype: float64\n",
      "X:\n",
      "      section_type instructor_id facility_code       start_time  \\\n",
      "0              lec         other           NaN             none   \n",
      "1              lec         other          0545     late morning   \n",
      "2              lec         other          0545     late morning   \n",
      "3              lec         other          0545      mid-morning   \n",
      "4              lec         other          0545      mid-morning   \n",
      "...            ...           ...           ...              ...   \n",
      "50201          lec         other          0093  early afternoon   \n",
      "50202          lec         other          0093  early afternoon   \n",
      "50203          lec         other          0093  early afternoon   \n",
      "50204          lec         other          0093  early afternoon   \n",
      "50205          lab         other          0021     late morning   \n",
      "\n",
      "                       subject_name  year    term class_length  \\\n",
      "0                communication arts    15  spring      shorter   \n",
      "1                communication arts    15  spring       longer   \n",
      "2                communication arts    15  spring       longer   \n",
      "3                communication arts    15  spring      shorter   \n",
      "4                communication arts    15  spring      shorter   \n",
      "...                             ...   ...     ...          ...   \n",
      "50201       comparative biosciences     9    fall      shorter   \n",
      "50202       comparative biosciences    11    fall      shorter   \n",
      "50203       comparative biosciences    16    fall      shorter   \n",
      "50204       comparative biosciences    10    fall      shorter   \n",
      "50205  physical educ activity progm     7  spring      shorter   \n",
      "\n",
      "      course_difficulty  days_per_week schedule_days  \n",
      "0            elementary              0          none  \n",
      "1            elementary              2            TR  \n",
      "2            elementary              2            TR  \n",
      "3            elementary              3           MWF  \n",
      "4            elementary              3           MWF  \n",
      "...                 ...            ...           ...  \n",
      "50201          advanced              3         other  \n",
      "50202          advanced              3         other  \n",
      "50203          advanced              3         other  \n",
      "50204          advanced              3         other  \n",
      "50205        elementary              2            MW  \n",
      "\n",
      "[49975 rows x 11 columns]\n"
     ]
    }
   ],
   "source": [
    "# split into X and y\n",
    "target = 'num_all_grades'\n",
    "y = df[target]\n",
    "X = df.drop(columns = target)\n",
    "\n",
    "# check\n",
    "print(f\"y:\\n{y}\")\n",
    "print(f\"X:\\n{X}\")"
   ]
  },
  {
   "cell_type": "code",
   "execution_count": 94,
   "id": "63363de2",
   "metadata": {},
   "outputs": [
    {
     "name": "stdout",
     "output_type": "stream",
     "text": [
      "X_train shape: (37481, 11)\n",
      "X_test shape: (12494, 11)\n",
      "y_train shape: (37481,)\n",
      "y_test shape: (12494,)\n"
     ]
    }
   ],
   "source": [
    "# validate model with train/test split\n",
    "X_train, X_test, y_train, y_test = train_test_split(X, y, random_state = 42)\n",
    "\n",
    "# check\n",
    "print(f\"X_train shape: {X_train.shape}\")\n",
    "print(f\"X_test shape: {X_test.shape}\")\n",
    "print(f\"y_train shape: {y_train.shape}\")\n",
    "print(f\"y_test shape: {y_test.shape}\")"
   ]
  },
  {
   "cell_type": "code",
   "execution_count": 95,
   "id": "9b2086c3",
   "metadata": {},
   "outputs": [
    {
     "data": {
      "text/plain": [
       "Index(['section_type', 'instructor_id', 'facility_code', 'start_time',\n",
       "       'subject_name', 'year', 'term', 'class_length', 'course_difficulty',\n",
       "       'days_per_week', 'schedule_days'],\n",
       "      dtype='object')"
      ]
     },
     "execution_count": 95,
     "metadata": {},
     "output_type": "execute_result"
    }
   ],
   "source": [
    "X.columns"
   ]
  },
  {
   "cell_type": "code",
   "execution_count": 96,
   "id": "b63f2052",
   "metadata": {},
   "outputs": [],
   "source": [
    "# one-hot encode\n",
    "\n",
    "ohe_cols = ['section_type', 'instructor_id', 'start_time', 'days_per_week', \n",
    "            'subject_name', 'year', 'term', 'class_length', 'schedule_days',\n",
    "            'course_difficulty']\n",
    "\n",
    "ohe = OneHotEncoder(handle_unknown = 'ignore',\n",
    "                    sparse = False)\n",
    "\n",
    "ohe_tuple = (ohe, ohe_cols)"
   ]
  },
  {
   "cell_type": "code",
   "execution_count": 97,
   "id": "cf0df99e",
   "metadata": {},
   "outputs": [],
   "source": [
    "# impute and one-hot encode\n",
    "\n",
    "imp_and_ohe_cols = ['facility_code']\n",
    "\n",
    "missing_imputer = SimpleImputer(strategy = 'constant', \n",
    "                                fill_value = 'missing')\n",
    "\n",
    "ohe = OneHotEncoder(handle_unknown = 'ignore',\n",
    "                    sparse = False)\n",
    "\n",
    "imp_and_ohe_pipe = make_pipeline(missing_imputer, ohe)\n",
    "\n",
    "imp_and_ohe_tuple = (imp_and_ohe_pipe, imp_and_ohe_cols)"
   ]
  },
  {
   "cell_type": "code",
   "execution_count": 98,
   "id": "95895d31",
   "metadata": {},
   "outputs": [
    {
     "data": {
      "text/html": [
       "<style>#sk-container-id-2 {color: black;background-color: white;}#sk-container-id-2 pre{padding: 0;}#sk-container-id-2 div.sk-toggleable {background-color: white;}#sk-container-id-2 label.sk-toggleable__label {cursor: pointer;display: block;width: 100%;margin-bottom: 0;padding: 0.3em;box-sizing: border-box;text-align: center;}#sk-container-id-2 label.sk-toggleable__label-arrow:before {content: \"▸\";float: left;margin-right: 0.25em;color: #696969;}#sk-container-id-2 label.sk-toggleable__label-arrow:hover:before {color: black;}#sk-container-id-2 div.sk-estimator:hover label.sk-toggleable__label-arrow:before {color: black;}#sk-container-id-2 div.sk-toggleable__content {max-height: 0;max-width: 0;overflow: hidden;text-align: left;background-color: #f0f8ff;}#sk-container-id-2 div.sk-toggleable__content pre {margin: 0.2em;color: black;border-radius: 0.25em;background-color: #f0f8ff;}#sk-container-id-2 input.sk-toggleable__control:checked~div.sk-toggleable__content {max-height: 200px;max-width: 100%;overflow: auto;}#sk-container-id-2 input.sk-toggleable__control:checked~label.sk-toggleable__label-arrow:before {content: \"▾\";}#sk-container-id-2 div.sk-estimator input.sk-toggleable__control:checked~label.sk-toggleable__label {background-color: #d4ebff;}#sk-container-id-2 div.sk-label input.sk-toggleable__control:checked~label.sk-toggleable__label {background-color: #d4ebff;}#sk-container-id-2 input.sk-hidden--visually {border: 0;clip: rect(1px 1px 1px 1px);clip: rect(1px, 1px, 1px, 1px);height: 1px;margin: -1px;overflow: hidden;padding: 0;position: absolute;width: 1px;}#sk-container-id-2 div.sk-estimator {font-family: monospace;background-color: #f0f8ff;border: 1px dotted black;border-radius: 0.25em;box-sizing: border-box;margin-bottom: 0.5em;}#sk-container-id-2 div.sk-estimator:hover {background-color: #d4ebff;}#sk-container-id-2 div.sk-parallel-item::after {content: \"\";width: 100%;border-bottom: 1px solid gray;flex-grow: 1;}#sk-container-id-2 div.sk-label:hover label.sk-toggleable__label {background-color: #d4ebff;}#sk-container-id-2 div.sk-serial::before {content: \"\";position: absolute;border-left: 1px solid gray;box-sizing: border-box;top: 0;bottom: 0;left: 50%;z-index: 0;}#sk-container-id-2 div.sk-serial {display: flex;flex-direction: column;align-items: center;background-color: white;padding-right: 0.2em;padding-left: 0.2em;position: relative;}#sk-container-id-2 div.sk-item {position: relative;z-index: 1;}#sk-container-id-2 div.sk-parallel {display: flex;align-items: stretch;justify-content: center;background-color: white;position: relative;}#sk-container-id-2 div.sk-item::before, #sk-container-id-2 div.sk-parallel-item::before {content: \"\";position: absolute;border-left: 1px solid gray;box-sizing: border-box;top: 0;bottom: 0;left: 50%;z-index: -1;}#sk-container-id-2 div.sk-parallel-item {display: flex;flex-direction: column;z-index: 1;position: relative;background-color: white;}#sk-container-id-2 div.sk-parallel-item:first-child::after {align-self: flex-end;width: 50%;}#sk-container-id-2 div.sk-parallel-item:last-child::after {align-self: flex-start;width: 50%;}#sk-container-id-2 div.sk-parallel-item:only-child::after {width: 0;}#sk-container-id-2 div.sk-dashed-wrapped {border: 1px dashed gray;margin: 0 0.4em 0.5em 0.4em;box-sizing: border-box;padding-bottom: 0.4em;background-color: white;}#sk-container-id-2 div.sk-label label {font-family: monospace;font-weight: bold;display: inline-block;line-height: 1.2em;}#sk-container-id-2 div.sk-label-container {text-align: center;}#sk-container-id-2 div.sk-container {/* jupyter's `normalize.less` sets `[hidden] { display: none; }` but bootstrap.min.css set `[hidden] { display: none !important; }` so we also need the `!important` here to be able to override the default hidden behavior on the sphinx rendered scikit-learn.org. See: https://github.com/scikit-learn/scikit-learn/issues/21755 */display: inline-block !important;position: relative;}#sk-container-id-2 div.sk-text-repr-fallback {display: none;}</style><div id=\"sk-container-id-2\" class=\"sk-top-container\"><div class=\"sk-text-repr-fallback\"><pre>ColumnTransformer(transformers=[(&#x27;onehotencoder&#x27;,\n",
       "                                 OneHotEncoder(handle_unknown=&#x27;ignore&#x27;,\n",
       "                                               sparse=False),\n",
       "                                 [&#x27;section_type&#x27;, &#x27;instructor_id&#x27;, &#x27;start_time&#x27;,\n",
       "                                  &#x27;days_per_week&#x27;, &#x27;subject_name&#x27;, &#x27;year&#x27;,\n",
       "                                  &#x27;term&#x27;, &#x27;class_length&#x27;, &#x27;schedule_days&#x27;,\n",
       "                                  &#x27;course_difficulty&#x27;]),\n",
       "                                (&#x27;pipeline&#x27;,\n",
       "                                 Pipeline(steps=[(&#x27;simpleimputer&#x27;,\n",
       "                                                  SimpleImputer(fill_value=&#x27;missing&#x27;,\n",
       "                                                                strategy=&#x27;constant&#x27;)),\n",
       "                                                 (&#x27;onehotencoder&#x27;,\n",
       "                                                  OneHotEncoder(handle_unknown=&#x27;ignore&#x27;,\n",
       "                                                                sparse=False))]),\n",
       "                                 [&#x27;facility_code&#x27;])])</pre><b>In a Jupyter environment, please rerun this cell to show the HTML representation or trust the notebook. <br />On GitHub, the HTML representation is unable to render, please try loading this page with nbviewer.org.</b></div><div class=\"sk-container\" hidden><div class=\"sk-item sk-dashed-wrapped\"><div class=\"sk-label-container\"><div class=\"sk-label sk-toggleable\"><input class=\"sk-toggleable__control sk-hidden--visually\" id=\"sk-estimator-id-7\" type=\"checkbox\" ><label for=\"sk-estimator-id-7\" class=\"sk-toggleable__label sk-toggleable__label-arrow\">ColumnTransformer</label><div class=\"sk-toggleable__content\"><pre>ColumnTransformer(transformers=[(&#x27;onehotencoder&#x27;,\n",
       "                                 OneHotEncoder(handle_unknown=&#x27;ignore&#x27;,\n",
       "                                               sparse=False),\n",
       "                                 [&#x27;section_type&#x27;, &#x27;instructor_id&#x27;, &#x27;start_time&#x27;,\n",
       "                                  &#x27;days_per_week&#x27;, &#x27;subject_name&#x27;, &#x27;year&#x27;,\n",
       "                                  &#x27;term&#x27;, &#x27;class_length&#x27;, &#x27;schedule_days&#x27;,\n",
       "                                  &#x27;course_difficulty&#x27;]),\n",
       "                                (&#x27;pipeline&#x27;,\n",
       "                                 Pipeline(steps=[(&#x27;simpleimputer&#x27;,\n",
       "                                                  SimpleImputer(fill_value=&#x27;missing&#x27;,\n",
       "                                                                strategy=&#x27;constant&#x27;)),\n",
       "                                                 (&#x27;onehotencoder&#x27;,\n",
       "                                                  OneHotEncoder(handle_unknown=&#x27;ignore&#x27;,\n",
       "                                                                sparse=False))]),\n",
       "                                 [&#x27;facility_code&#x27;])])</pre></div></div></div><div class=\"sk-parallel\"><div class=\"sk-parallel-item\"><div class=\"sk-item\"><div class=\"sk-label-container\"><div class=\"sk-label sk-toggleable\"><input class=\"sk-toggleable__control sk-hidden--visually\" id=\"sk-estimator-id-8\" type=\"checkbox\" ><label for=\"sk-estimator-id-8\" class=\"sk-toggleable__label sk-toggleable__label-arrow\">onehotencoder</label><div class=\"sk-toggleable__content\"><pre>[&#x27;section_type&#x27;, &#x27;instructor_id&#x27;, &#x27;start_time&#x27;, &#x27;days_per_week&#x27;, &#x27;subject_name&#x27;, &#x27;year&#x27;, &#x27;term&#x27;, &#x27;class_length&#x27;, &#x27;schedule_days&#x27;, &#x27;course_difficulty&#x27;]</pre></div></div></div><div class=\"sk-serial\"><div class=\"sk-item\"><div class=\"sk-estimator sk-toggleable\"><input class=\"sk-toggleable__control sk-hidden--visually\" id=\"sk-estimator-id-9\" type=\"checkbox\" ><label for=\"sk-estimator-id-9\" class=\"sk-toggleable__label sk-toggleable__label-arrow\">OneHotEncoder</label><div class=\"sk-toggleable__content\"><pre>OneHotEncoder(handle_unknown=&#x27;ignore&#x27;, sparse=False)</pre></div></div></div></div></div></div><div class=\"sk-parallel-item\"><div class=\"sk-item\"><div class=\"sk-label-container\"><div class=\"sk-label sk-toggleable\"><input class=\"sk-toggleable__control sk-hidden--visually\" id=\"sk-estimator-id-10\" type=\"checkbox\" ><label for=\"sk-estimator-id-10\" class=\"sk-toggleable__label sk-toggleable__label-arrow\">pipeline</label><div class=\"sk-toggleable__content\"><pre>[&#x27;facility_code&#x27;]</pre></div></div></div><div class=\"sk-serial\"><div class=\"sk-item\"><div class=\"sk-serial\"><div class=\"sk-item\"><div class=\"sk-estimator sk-toggleable\"><input class=\"sk-toggleable__control sk-hidden--visually\" id=\"sk-estimator-id-11\" type=\"checkbox\" ><label for=\"sk-estimator-id-11\" class=\"sk-toggleable__label sk-toggleable__label-arrow\">SimpleImputer</label><div class=\"sk-toggleable__content\"><pre>SimpleImputer(fill_value=&#x27;missing&#x27;, strategy=&#x27;constant&#x27;)</pre></div></div></div><div class=\"sk-item\"><div class=\"sk-estimator sk-toggleable\"><input class=\"sk-toggleable__control sk-hidden--visually\" id=\"sk-estimator-id-12\" type=\"checkbox\" ><label for=\"sk-estimator-id-12\" class=\"sk-toggleable__label sk-toggleable__label-arrow\">OneHotEncoder</label><div class=\"sk-toggleable__content\"><pre>OneHotEncoder(handle_unknown=&#x27;ignore&#x27;, sparse=False)</pre></div></div></div></div></div></div></div></div></div></div></div></div>"
      ],
      "text/plain": [
       "ColumnTransformer(transformers=[('onehotencoder',\n",
       "                                 OneHotEncoder(handle_unknown='ignore',\n",
       "                                               sparse=False),\n",
       "                                 ['section_type', 'instructor_id', 'start_time',\n",
       "                                  'days_per_week', 'subject_name', 'year',\n",
       "                                  'term', 'class_length', 'schedule_days',\n",
       "                                  'course_difficulty']),\n",
       "                                ('pipeline',\n",
       "                                 Pipeline(steps=[('simpleimputer',\n",
       "                                                  SimpleImputer(fill_value='missing',\n",
       "                                                                strategy='constant')),\n",
       "                                                 ('onehotencoder',\n",
       "                                                  OneHotEncoder(handle_unknown='ignore',\n",
       "                                                                sparse=False))]),\n",
       "                                 ['facility_code'])])"
      ]
     },
     "execution_count": 98,
     "metadata": {},
     "output_type": "execute_result"
    }
   ],
   "source": [
    "# create preprocessor\n",
    "preprocessor = make_column_transformer(ohe_tuple,\n",
    "                                      imp_and_ohe_tuple,\n",
    "                                      remainder = 'drop')\n",
    "\n",
    "# check\n",
    "preprocessor"
   ]
  },
  {
   "cell_type": "markdown",
   "id": "1d080c59",
   "metadata": {},
   "source": [
    "# Create helper functions"
   ]
  },
  {
   "cell_type": "code",
   "execution_count": 99,
   "id": "09eb2915",
   "metadata": {},
   "outputs": [
    {
     "data": {
      "text/plain": [
       "(0, 0)"
      ]
     },
     "execution_count": 99,
     "metadata": {},
     "output_type": "execute_result"
    }
   ],
   "source": [
    "# create dataframe to save evaluation metrics\n",
    "regression_metrics_df = pd.DataFrame()\n",
    "\n",
    "# check\n",
    "regression_metrics_df.shape"
   ]
  },
  {
   "cell_type": "code",
   "execution_count": 100,
   "id": "87020996",
   "metadata": {},
   "outputs": [],
   "source": [
    "# define function that will print regression metrics 9for current model, and \n",
    "# store metrics in regression_metrics_df along with all other models' metrics\n",
    "# for easy viewing\n",
    "\n",
    "def evaluate_regression(model_pipe, X_train, X_test, y_train, y_test, name):\n",
    "    \n",
    "    # calculate predictions\n",
    "    train_pred = model_pipe.predict(X_train)\n",
    "    test_pred = model_pipe.predict(X_test)\n",
    "\n",
    "    # store scores\n",
    "    regression_metrics_df.at[name, 'Train R2'] = \\\n",
    "        r2_score(y_train, train_pred) \n",
    "    \n",
    "    regression_metrics_df.at[name, 'Test R2'] = \\\n",
    "        r2_score(y_test, test_pred)\n",
    "        \n",
    "    regression_metrics_df.at[name, 'Train MAE'] = \\\n",
    "        mean_absolute_error(y_train, train_pred)\n",
    "    \n",
    "    regression_metrics_df.at[name, 'Test MAE'] = \\\n",
    "        mean_absolute_error(y_test, test_pred)\n",
    "    \n",
    "    regression_metrics_df.at[name, 'Train MAPE'] = \\\n",
    "        mean_absolute_percentage_error(y_train, train_pred)\n",
    "    \n",
    "    regression_metrics_df.at[name, 'Test MAPE'] = \\\n",
    "        mean_absolute_percentage_error(y_test, test_pred)\n",
    "    \n",
    "    regression_metrics_df.at[name, 'Train RMSE'] = \\\n",
    "        np.sqrt(mean_squared_error(y_train, train_pred))\n",
    "    \n",
    "    regression_metrics_df.at[name, 'Test RMSE'] = \\\n",
    "        np.sqrt(mean_squared_error(y_test, test_pred))\n",
    "  \n",
    "    # show scores for this model only (can call regression_metrics_df to \n",
    "    # see all scores)\n",
    "    print(regression_metrics_df.loc[name, :])"
   ]
  },
  {
   "cell_type": "markdown",
   "id": "b5c60954",
   "metadata": {},
   "source": [
    "# Modeling: Round 1"
   ]
  },
  {
   "cell_type": "markdown",
   "id": "0acac8b4",
   "metadata": {},
   "source": [
    "## Dummy Model"
   ]
  },
  {
   "cell_type": "code",
   "execution_count": 101,
   "id": "9b8fe3a2",
   "metadata": {},
   "outputs": [
    {
     "name": "stdout",
     "output_type": "stream",
     "text": [
      "Train R2       0.000000\n",
      "Test R2       -0.000227\n",
      "Train MAE     30.284737\n",
      "Test MAE      30.792237\n",
      "Train MAPE     1.471100\n",
      "Test MAPE      1.465341\n",
      "Train RMSE    52.317775\n",
      "Test RMSE     53.851290\n",
      "Name: Dummy, dtype: float64\n",
      "CPU times: total: 453 ms\n",
      "Wall time: 448 ms\n"
     ]
    }
   ],
   "source": [
    "%%time\n",
    "# wall time: 705 milliseconds\n",
    "\n",
    "# instantiate\n",
    "dummy_regressor = DummyRegressor(strategy = 'mean')\n",
    "\n",
    "# combine with preprocessor\n",
    "dummy_pipe = make_pipeline(preprocessor, dummy_regressor)\n",
    "\n",
    "# fit on training data\n",
    "dummy_pipe.fit(X_train, y_train)\n",
    "\n",
    "# calculate, show, and store metrics\n",
    "evaluate_regression(dummy_pipe, \n",
    "                    X_train, \n",
    "                    X_test, \n",
    "                    y_train, \n",
    "                    y_test, \n",
    "                    \"Dummy\")"
   ]
  },
  {
   "cell_type": "markdown",
   "id": "6c642dcd",
   "metadata": {},
   "source": [
    "## Model 1: Linear Regression"
   ]
  },
  {
   "cell_type": "code",
   "execution_count": 102,
   "id": "6029b53a",
   "metadata": {},
   "outputs": [
    {
     "name": "stdout",
     "output_type": "stream",
     "text": [
      "Train R2      3.964443e-01\n",
      "Test R2      -3.196729e+19\n",
      "Train MAE     2.387622e+01\n",
      "Test MAE      4.917438e+09\n",
      "Train MAPE    1.138980e+00\n",
      "Test MAPE     3.693067e+08\n",
      "Train RMSE    4.064507e+01\n",
      "Test RMSE     3.044386e+11\n",
      "Name: Linear, dtype: float64\n",
      "CPU times: total: 4.86 s\n",
      "Wall time: 1.31 s\n"
     ]
    }
   ],
   "source": [
    "%%time\n",
    "# wall time: 2 seconds\n",
    "\n",
    "# instantiate\n",
    "lr = LinearRegression()\n",
    "\n",
    "# pipeline\n",
    "lr_pipe = make_pipeline(preprocessor, lr)\n",
    "\n",
    "# fit\n",
    "lr_pipe.fit(X_train, y_train)\n",
    "\n",
    "# evaluate\n",
    "evaluate_regression(lr_pipe, \n",
    "                    X_train, \n",
    "                    X_test, \n",
    "                    y_train, \n",
    "                    y_test, \n",
    "                    \"Linear\")"
   ]
  },
  {
   "cell_type": "markdown",
   "id": "ef65cead",
   "metadata": {},
   "source": [
    "## Model 2: Decision Tree Regressor"
   ]
  },
  {
   "cell_type": "markdown",
   "id": "b6fff927",
   "metadata": {},
   "source": [
    "### Default"
   ]
  },
  {
   "cell_type": "code",
   "execution_count": 103,
   "id": "7b42d162",
   "metadata": {},
   "outputs": [
    {
     "name": "stdout",
     "output_type": "stream",
     "text": [
      "Train R2       0.931858\n",
      "Test R2        0.552381\n",
      "Train MAE      2.999277\n",
      "Test MAE      14.998740\n",
      "Train MAPE     0.118540\n",
      "Test MAPE      0.528410\n",
      "Train RMSE    13.657047\n",
      "Test RMSE     36.024753\n",
      "Name: Def DT, dtype: float64\n",
      "CPU times: total: 4.77 s\n",
      "Wall time: 3.91 s\n"
     ]
    }
   ],
   "source": [
    "%%time\n",
    "# wall time: 7 seconds\n",
    "\n",
    "# instantiate\n",
    "dt_def = DecisionTreeRegressor(random_state = 42)\n",
    "\n",
    "# pipeline\n",
    "dt_def_pipe = make_pipeline(preprocessor, dt_def)\n",
    "\n",
    "# fit\n",
    "dt_def_pipe.fit(X_train, y_train)\n",
    "\n",
    "# evaluate\n",
    "evaluate_regression(dt_def_pipe, \n",
    "                    X_train, \n",
    "                    X_test, \n",
    "                    y_train, \n",
    "                    y_test, \n",
    "                    \"Def DT\")"
   ]
  },
  {
   "cell_type": "markdown",
   "id": "1865df64",
   "metadata": {},
   "source": [
    "### Tuned on 'max_depth'"
   ]
  },
  {
   "cell_type": "code",
   "execution_count": 104,
   "id": "42ed7995",
   "metadata": {},
   "outputs": [],
   "source": [
    "# # get depth from default tree where max_depth = None\n",
    "# def_depth = dt_def_pipe['decisiontreeregressor'].get_depth()\n",
    "# def_depth\n",
    "\n",
    "# # 133\n",
    "\n",
    "# # this is a very deep tree, which is overfitting by a lot; for the\n",
    "# # tuned model, I will only try up to half this depth"
   ]
  },
  {
   "cell_type": "code",
   "execution_count": 105,
   "id": "a2e7105c",
   "metadata": {},
   "outputs": [],
   "source": [
    "# %%time\n",
    "# # wall time: 4 minutes\n",
    "\n",
    "# # instantiate\n",
    "# dt_tun = DecisionTreeRegressor(random_state = 42)\n",
    "\n",
    "# # pipeline\n",
    "# dt_tun_pipe = make_pipeline(preprocessor, dt_tun)\n",
    "\n",
    "# # params\n",
    "# dt_params = {'decisiontreeregressor__max_depth': range(1, 67, 5)}\n",
    "\n",
    "# # gridsearch\n",
    "# dt_gs = GridSearchCV(dt_tun_pipe, dt_params, scoring = 'r2')\n",
    "\n",
    "# # fit\n",
    "# dt_gs.fit(X_train, y_train)\n",
    "\n",
    "# # see best parameters\n",
    "# print(dt_gs.best_params_) # max_depth: 26\n",
    "\n",
    "# # see best score\n",
    "# print(dt_gs.best_score_) # 0.552244552061277\n",
    "\n",
    "# allDone()"
   ]
  },
  {
   "cell_type": "code",
   "execution_count": 106,
   "id": "9edb0933",
   "metadata": {},
   "outputs": [],
   "source": [
    "# # instantiate tuned model\n",
    "# dt_tun_pipe = dt_gs.best_estimator_\n",
    "\n",
    "# # print and store metrics\n",
    "# evaluate_regression(dt_tun_pipe, \n",
    "#                     X_train, \n",
    "#                     X_test, \n",
    "#                     y_train, \n",
    "#                     y_test, \n",
    "#                     \"Tun DT\")"
   ]
  },
  {
   "cell_type": "code",
   "execution_count": 107,
   "id": "79bf03ee",
   "metadata": {},
   "outputs": [],
   "source": [
    "# hard coding results into regression_metrics_df so I don't have to re-run the \n",
    "# notebook cells that take a long time to run every time I open it up\n",
    "\n",
    "regression_metrics_df.at['Tun DT', 'Train R2'] = 0.816726\n",
    "regression_metrics_df.at['Tun DT', 'Test R2'] = 0.567127\n",
    "regression_metrics_df.at['Tun DT', 'Train MAE'] = 10.464698\n",
    "regression_metrics_df.at['Tun DT', 'Test MAE'] = 16.181360\n",
    "regression_metrics_df.at['Tun DT', 'Train MAPE'] = 0.492257\n",
    "regression_metrics_df.at['Tun DT', 'Test MAPE'] = 0.639247\n",
    "regression_metrics_df.at['Tun DT', 'Train RMSE'] = 22.397496\n",
    "regression_metrics_df.at['Tun DT', 'Test RMSE'] = 35.426392"
   ]
  },
  {
   "cell_type": "markdown",
   "id": "78168eb5",
   "metadata": {},
   "source": [
    "## Model 3: Bagged Tree Regressor"
   ]
  },
  {
   "cell_type": "markdown",
   "id": "7ff09b05",
   "metadata": {},
   "source": [
    "### Default"
   ]
  },
  {
   "cell_type": "code",
   "execution_count": 108,
   "id": "0eaff0b2",
   "metadata": {},
   "outputs": [],
   "source": [
    "# %%time\n",
    "# # wall time:  33 seconds\n",
    "\n",
    "# # instantiate\n",
    "# br_def = BaggingRegressor(random_state = 42)\n",
    "\n",
    "# # pipeline\n",
    "# br_def_pipe = make_pipeline(preprocessor, br_def)\n",
    "\n",
    "# # fit\n",
    "# br_def_pipe.fit(X_train, y_train)\n",
    "\n",
    "# # evaluate\n",
    "# evaluate_regression(br_def_pipe, \n",
    "#                     X_train, \n",
    "#                     X_test, \n",
    "#                     y_train, \n",
    "#                     y_test, \n",
    "#                     \"Def BR\")"
   ]
  },
  {
   "cell_type": "code",
   "execution_count": 109,
   "id": "35c5ba79",
   "metadata": {},
   "outputs": [],
   "source": [
    "# hard coding results into regression_metrics_df so I don't have to re-run the \n",
    "# notebook cells that take a long time to run every time I open it up\n",
    "\n",
    "regression_metrics_df.at['Def BR', 'Train R2'] = 0.898944\n",
    "regression_metrics_df.at['Def BR', 'Test R2'] = 0.667539\n",
    "regression_metrics_df.at['Def BR', 'Train MAE'] = 6.327471\n",
    "regression_metrics_df.at['Def BR', 'Test MAE'] = 13.434552\n",
    "regression_metrics_df.at['Def BR', 'Train MAPE'] = 0.238370\n",
    "regression_metrics_df.at['Def BR', 'Test MAPE'] = 0.495508\n",
    "regression_metrics_df.at['Def BR', 'Train RMSE'] = 16.631432\n",
    "regression_metrics_df.at['Def BR', 'Test RMSE'] = 31.046835"
   ]
  },
  {
   "cell_type": "markdown",
   "id": "2f3ae97b",
   "metadata": {},
   "source": [
    "### BR Tuned 1: 'n_estimators'"
   ]
  },
  {
   "cell_type": "code",
   "execution_count": 110,
   "id": "d827e548",
   "metadata": {},
   "outputs": [],
   "source": [
    "# %%time\n",
    "# # time: 31 minutes\n",
    "\n",
    "# # instantiate\n",
    "# br_tun = BaggingRegressor(random_state = 42)\n",
    "\n",
    "# # pipeline\n",
    "# br_tun_pipe = make_pipeline(preprocessor, br_tun)\n",
    "\n",
    "# # params\n",
    "# br_params = {'baggingregressor__n_estimators': [10, 20, 30, 40, 50]}\n",
    "\n",
    "# # grid search\n",
    "# br_gs = GridSearchCV(br_tun_pipe, br_params, scoring = 'r2')\n",
    "\n",
    "# # fit\n",
    "# br_gs.fit(X_train, y_train)\n",
    "\n",
    "# # see best parameters\n",
    "# print(br_gs.best_params_) # n_estimators: \n",
    "\n",
    "# # see best score\n",
    "# print(br_gs.best_score_) # \n",
    "\n",
    "# allDone()"
   ]
  },
  {
   "cell_type": "code",
   "execution_count": 111,
   "id": "8c1bea72",
   "metadata": {},
   "outputs": [],
   "source": [
    "# # instantiate tuned model\n",
    "# br_tun_pipe = br_gs.best_estimator_\n",
    "\n",
    "# # print and store metrics\n",
    "# evaluate_regression(br_tun_pipe, \n",
    "#                     X_train, \n",
    "#                     X_test, \n",
    "#                     y_train, \n",
    "#                     y_test, \n",
    "#                     \"Tun BR\")"
   ]
  },
  {
   "cell_type": "code",
   "execution_count": 112,
   "id": "fd7de3ad",
   "metadata": {},
   "outputs": [],
   "source": [
    "# hard coding results into hard_metrics_df so I don't have to re-run the \n",
    "# notebook cells that take a long time to run every time I open it up\n",
    "\n",
    "regression_metrics_df.at['Tun BR', 'Train R2'] = 0.907775\n",
    "regression_metrics_df.at['Tun BR', 'Test R2'] = 0.678912\n",
    "regression_metrics_df.at['Tun BR', 'Train MAE'] = 6.087626\n",
    "regression_metrics_df.at['Tun BR', 'Test MAE'] = 13.107256\n",
    "regression_metrics_df.at['Tun BR', 'Train MAPE'] = 0.230614\n",
    "regression_metrics_df.at['Tun BR', 'Test MAPE'] = 0.485255\n",
    "regression_metrics_df.at['Tun BR', 'Train RMSE'] = 15.888121\n",
    "regression_metrics_df.at['Tun BR', 'Test RMSE'] = 30.511182"
   ]
  },
  {
   "cell_type": "markdown",
   "id": "859d03ef",
   "metadata": {},
   "source": [
    "### BR Tuned 2: 'max_features' and 'max_samples'"
   ]
  },
  {
   "cell_type": "code",
   "execution_count": 182,
   "id": "ec324952",
   "metadata": {},
   "outputs": [
    {
     "data": {
      "text/html": [
       "\n",
       "                <audio  controls=\"controls\" autoplay=\"autoplay\">\n",
       "                    <source src=\"data:audio/mpeg;base64,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\" type=\"audio/mpeg\" />\n",
       "                    Your browser does not support the audio element.\n",
       "                </audio>\n",
       "              "
      ],
      "text/plain": [
       "<IPython.lib.display.Audio object>"
      ]
     },
     "metadata": {},
     "output_type": "display_data"
    },
    {
     "name": "stdout",
     "output_type": "stream",
     "text": [
      "CPU times: total: 3min 18s\n",
      "Wall time: 3min 18s\n"
     ]
    }
   ],
   "source": [
    "# %%time\n",
    "# # time: 3 minutes 18 seconds\n",
    "\n",
    "# # instantiate\n",
    "# br_tun2 = BaggingRegressor(random_state = 42)\n",
    "\n",
    "# # pipeline\n",
    "# br_tun2_pipe = make_pipeline(preprocessor, br_tun2)\n",
    "\n",
    "# # params\n",
    "# br2_params = {'baggingregressor__max_features': [.25, .5, .75],\n",
    "#               'baggingregressor__max_samples': [.25, .5, .75]}\n",
    "\n",
    "# # grid search\n",
    "# br2_gs = GridSearchCV(br_tun2_pipe, br2_params, scoring = 'r2')\n",
    "\n",
    "# # fit\n",
    "# br2_gs.fit(X_train, y_train)\n",
    "\n",
    "# allDone()"
   ]
  },
  {
   "cell_type": "code",
   "execution_count": 183,
   "id": "19e13a88",
   "metadata": {},
   "outputs": [
    {
     "name": "stdout",
     "output_type": "stream",
     "text": [
      "{'baggingregressor__max_features': 0.75, 'baggingregressor__max_samples': 0.75}\n"
     ]
    }
   ],
   "source": [
    "# # see best parameters\n",
    "# print(br2_gs.best_params_) \n",
    "# # max_features: .75\n",
    "# # max_samples: .75"
   ]
  },
  {
   "cell_type": "code",
   "execution_count": 184,
   "id": "a873fad2",
   "metadata": {},
   "outputs": [
    {
     "name": "stdout",
     "output_type": "stream",
     "text": [
      "0.6495152892833793\n"
     ]
    }
   ],
   "source": [
    "# # see best score\n",
    "# print(br2_gs.best_score_) # 0.6495152892833793"
   ]
  },
  {
   "cell_type": "code",
   "execution_count": 185,
   "id": "4a9d299d",
   "metadata": {},
   "outputs": [
    {
     "name": "stdout",
     "output_type": "stream",
     "text": [
      "Train R2       0.855164\n",
      "Test R2        0.675588\n",
      "Train MAE      9.061913\n",
      "Test MAE      14.971682\n",
      "Train MAPE     0.369960\n",
      "Test MAPE      0.621645\n",
      "Train RMSE    19.910724\n",
      "Test RMSE     30.668712\n",
      "Name: Tun 2 BR, dtype: float64\n"
     ]
    }
   ],
   "source": [
    "# # instantiate tuned model\n",
    "# br_tun2_pipe = br2_gs.best_estimator_\n",
    "\n",
    "# # print and store metrics\n",
    "# evaluate_regression(br_tun2_pipe, \n",
    "#                     X_train, \n",
    "#                     X_test, \n",
    "#                     y_train, \n",
    "#                     y_test, \n",
    "#                     \"Tun 2 BR\")"
   ]
  },
  {
   "cell_type": "code",
   "execution_count": 186,
   "id": "eebc9f55",
   "metadata": {},
   "outputs": [],
   "source": [
    "# hard coding results into hard_metrics_df so I don't have to re-run the \n",
    "# notebook cells that take a long time to run every time I open it up\n",
    "\n",
    "regression_metrics_df.at['Tun 2 BR', 'Train R2'] = 0.855164\n",
    "regression_metrics_df.at['Tun 2 BR', 'Test R2'] = 0.675588\n",
    "regression_metrics_df.at['Tun 2 BR', 'Train MAE'] = 9.061913\n",
    "regression_metrics_df.at['Tun 2 BR', 'Test MAE'] = 14.971682\n",
    "regression_metrics_df.at['Tun 2 BR', 'Train MAPE'] = 0.369960\n",
    "regression_metrics_df.at['Tun 2 BR', 'Test MAPE'] = 0.621645\n",
    "regression_metrics_df.at['Tun 2 BR', 'Train RMSE'] = 19.910724\n",
    "regression_metrics_df.at['Tun 2 BR', 'Test RMSE'] = 30.668712"
   ]
  },
  {
   "cell_type": "markdown",
   "id": "f99c8d9b",
   "metadata": {},
   "source": [
    "## Model 4: Random Forest Regressor"
   ]
  },
  {
   "cell_type": "markdown",
   "id": "27ecb0ca",
   "metadata": {},
   "source": [
    "### Default"
   ]
  },
  {
   "cell_type": "code",
   "execution_count": 113,
   "id": "3877e24f",
   "metadata": {},
   "outputs": [],
   "source": [
    "# %%time\n",
    "# # time: 5 minutes\n",
    "\n",
    "# # instantiate\n",
    "# rf_def = RandomForestRegressor(random_state = 42)\n",
    "\n",
    "# # pipeline\n",
    "# rf_def_pipe = make_pipeline(preprocessor, rf_def)\n",
    "\n",
    "# # fit\n",
    "# rf_def_pipe.fit(X_train, y_train)\n",
    "\n",
    "# # evaluate\n",
    "# evaluate_regression(rf_def_pipe, \n",
    "#                     X_train, \n",
    "#                     X_test, \n",
    "#                     y_train, \n",
    "#                     y_test, \n",
    "#                     \"Def RF\")\n",
    "\n",
    "# allDone()"
   ]
  },
  {
   "cell_type": "code",
   "execution_count": 114,
   "id": "d81e1cf4",
   "metadata": {},
   "outputs": [],
   "source": [
    "# hard coding results into hard_metrics_df so I don't have to re-run the \n",
    "# notebook cells that take a long time to run every time I open it up\n",
    "\n",
    "regression_metrics_df.at['Def RF', 'Train R2'] = 0.908955\n",
    "regression_metrics_df.at['Def RF', 'Test R2'] = 0.679376\n",
    "regression_metrics_df.at['Def RF', 'Train MAE'] = 6.054180\n",
    "regression_metrics_df.at['Def RF', 'Test MAE'] = 13.062209\n",
    "regression_metrics_df.at['Def RF', 'Train MAPE'] = 0.229691\n",
    "regression_metrics_df.at['Def RF', 'Test MAPE'] = 0.482821\n",
    "regression_metrics_df.at['Def RF', 'Train RMSE'] = 15.786208\n",
    "regression_metrics_df.at['Def RF', 'Test RMSE'] = 30.489094"
   ]
  },
  {
   "cell_type": "markdown",
   "id": "5ce5c0cc",
   "metadata": {},
   "source": [
    "### RF Tuned 1: 'max_depth' and 'max_features'"
   ]
  },
  {
   "cell_type": "code",
   "execution_count": 115,
   "id": "260c954f",
   "metadata": {},
   "outputs": [],
   "source": [
    "# # get depth from max of estimator depths in the default random forest model\n",
    "# est_depths = [estimator.get_depth() for estimator \n",
    "#               in rf_def_pipe['randomforestregressor'].estimators_]\n",
    "# max_depth_rf = max(est_depths)\n",
    "# max_depth_rf # 154"
   ]
  },
  {
   "cell_type": "code",
   "execution_count": 116,
   "id": "06261eb7",
   "metadata": {},
   "outputs": [],
   "source": [
    "# %%time\n",
    "# # time: 8 minutes 29 seconds\n",
    "\n",
    "# # instantiate\n",
    "# rf_tun = RandomForestRegressor(random_state = 42, n_jobs = -1)\n",
    "\n",
    "# # pipeline\n",
    "# rf_tun_pipe = make_pipeline(preprocessor, rf_tun)\n",
    "\n",
    "# # params\n",
    "# rf_params = {}\n",
    "\n",
    "# # max_depth (range up to almost half of depth of default model)\n",
    "# rf_params['randomforestregressor__max_depth'] = range(10, 61, 10)\n",
    "\n",
    "# # max_features (default 1; range over middle several columns without \n",
    "# # dummies); 18 feature columns\n",
    "# rf_params['randomforestregressor__max_features'] = range(7, 12)\n",
    "\n",
    "# # gridsearchcv\n",
    "# rf_gs = GridSearchCV(rf_tun_pipe, \n",
    "#                      rf_params,\n",
    "#                      scoring = 'r2')\n",
    "\n",
    "# rf_gs.fit(X_train, y_train)\n",
    "\n",
    "# allDone()"
   ]
  },
  {
   "cell_type": "code",
   "execution_count": 117,
   "id": "53715379",
   "metadata": {},
   "outputs": [],
   "source": [
    "# # see best score from gridsearchcv\n",
    "# rf_gs.best_score_ # 0.6396938929084938"
   ]
  },
  {
   "cell_type": "code",
   "execution_count": 118,
   "id": "03b5a89a",
   "metadata": {},
   "outputs": [],
   "source": [
    "# # see the best parameters from the tuned model\n",
    "# rf_gs.best_params_\n",
    "\n",
    "# # max_depth: 60\n",
    "# # max_features: 11"
   ]
  },
  {
   "cell_type": "code",
   "execution_count": 119,
   "id": "3cf1d570",
   "metadata": {},
   "outputs": [],
   "source": [
    "# # instantiate tuned model\n",
    "# rf_tun_pipe = rf_gs.best_estimator_\n",
    "\n",
    "# # print and store metrics\n",
    "# evaluate_regression(rf_tun_pipe, \n",
    "#                     X_train, \n",
    "#                     X_test, \n",
    "#                     y_train, \n",
    "#                     y_test, \n",
    "#                     \"Tun RF\")"
   ]
  },
  {
   "cell_type": "code",
   "execution_count": 120,
   "id": "ad380a5d",
   "metadata": {},
   "outputs": [],
   "source": [
    "# hard coding results into hard_metrics_df so I don't have to re-run the \n",
    "# notebook cells that take a long time to run every time I open it up\n",
    "\n",
    "regression_metrics_df.at['Tun RF', 'Train R2'] = 0.874848\n",
    "regression_metrics_df.at['Tun RF', 'Test R2'] = 0.662458\n",
    "regression_metrics_df.at['Tun RF', 'Train MAE'] = 8.797796\n",
    "regression_metrics_df.at['Tun RF', 'Test MAE'] = 15.259658\n",
    "regression_metrics_df.at['Tun RF', 'Train MAPE'] = 0.374132\n",
    "regression_metrics_df.at['Tun RF', 'Test MAPE'] = 0.632943\n",
    "regression_metrics_df.at['Tun RF', 'Train RMSE'] = 18.508387\n",
    "regression_metrics_df.at['Tun RF', 'Test RMSE'] = 31.283174"
   ]
  },
  {
   "cell_type": "markdown",
   "id": "40b8d26a",
   "metadata": {},
   "source": [
    "### RF Tuned 2: 'max_features' and 'n_estimators'"
   ]
  },
  {
   "cell_type": "code",
   "execution_count": 187,
   "id": "568c9b28",
   "metadata": {},
   "outputs": [
    {
     "data": {
      "text/html": [
       "\n",
       "                <audio  controls=\"controls\" autoplay=\"autoplay\">\n",
       "                    <source src=\"data:audio/mpeg;base64,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\" type=\"audio/mpeg\" />\n",
       "                    Your browser does not support the audio element.\n",
       "                </audio>\n",
       "              "
      ],
      "text/plain": [
       "<IPython.lib.display.Audio object>"
      ]
     },
     "metadata": {},
     "output_type": "display_data"
    },
    {
     "name": "stdout",
     "output_type": "stream",
     "text": [
      "CPU times: total: 4min 34s\n",
      "Wall time: 7min 41s\n"
     ]
    }
   ],
   "source": [
    "# %%time\n",
    "# # time: 7 minutes 41 seconds\n",
    "\n",
    "# # instantiate\n",
    "# rf_tun2 = RandomForestRegressor(random_state = 42, n_jobs = -1)\n",
    "\n",
    "# # pipeline\n",
    "# rf_tun2_pipe = make_pipeline(preprocessor, rf_tun2)\n",
    "\n",
    "# # params\n",
    "# rf2_params = {}\n",
    "# rf2_params['randomforestregressor__max_features'] = [.25, .5, .75]\n",
    "# rf2_params['randomforestregressor__n_estimators'] = [10, 50, 100]\n",
    "\n",
    "# # gridsearchcv\n",
    "# rf2_gs = GridSearchCV(rf_tun2_pipe, \n",
    "#                      rf2_params,\n",
    "#                      scoring = 'r2')\n",
    "\n",
    "# rf2_gs.fit(X_train, y_train)\n",
    "\n",
    "# allDone()"
   ]
  },
  {
   "cell_type": "code",
   "execution_count": 191,
   "id": "871cd24a",
   "metadata": {},
   "outputs": [
    {
     "data": {
      "text/plain": [
       "0.6864281542491636"
      ]
     },
     "execution_count": 191,
     "metadata": {},
     "output_type": "execute_result"
    }
   ],
   "source": [
    "# # see best score from gridsearchcv\n",
    "# rf2_gs.best_score_ # 0.6864281542491636"
   ]
  },
  {
   "cell_type": "code",
   "execution_count": 192,
   "id": "ed51c705",
   "metadata": {},
   "outputs": [
    {
     "data": {
      "text/plain": [
       "{'randomforestregressor__max_features': 0.5,\n",
       " 'randomforestregressor__n_estimators': 100}"
      ]
     },
     "execution_count": 192,
     "metadata": {},
     "output_type": "execute_result"
    }
   ],
   "source": [
    "# # see the best parameters from the tuned model\n",
    "# rf2_gs.best_params_\n",
    "\n",
    "# # max_features: 0.5\n",
    "# # n_estimators: 100"
   ]
  },
  {
   "cell_type": "code",
   "execution_count": 193,
   "id": "aad78a98",
   "metadata": {},
   "outputs": [
    {
     "name": "stdout",
     "output_type": "stream",
     "text": [
      "Train R2       0.909118\n",
      "Test R2        0.695232\n",
      "Train MAE      6.071088\n",
      "Test MAE      12.917984\n",
      "Train MAPE     0.231531\n",
      "Test MAPE      0.481957\n",
      "Train RMSE    15.772064\n",
      "Test RMSE     29.725659\n",
      "Name: Tun 2 RF, dtype: float64\n"
     ]
    }
   ],
   "source": [
    "# # instantiate tuned model\n",
    "# rf_tun2_pipe = rf2_gs.best_estimator_\n",
    "\n",
    "# # print and store metrics\n",
    "# evaluate_regression(rf_tun2_pipe, \n",
    "#                     X_train, \n",
    "#                     X_test, \n",
    "#                     y_train, \n",
    "#                     y_test, \n",
    "#                     \"Tun 2 RF\")"
   ]
  },
  {
   "cell_type": "code",
   "execution_count": 194,
   "id": "6a316b81",
   "metadata": {},
   "outputs": [],
   "source": [
    "# hard coding results into hard_metrics_df so I don't have to re-run the \n",
    "# notebook cells that take a long time to run every time I open it up\n",
    "\n",
    "regression_metrics_df.at['Tun 2 RF', 'Train R2'] = 0.909118\n",
    "regression_metrics_df.at['Tun 2 RF', 'Test R2'] = 0.695232\n",
    "regression_metrics_df.at['Tun 2 RF', 'Train MAE'] = 6.071088\n",
    "regression_metrics_df.at['Tun 2 RF', 'Test MAE'] = 12.917984\n",
    "regression_metrics_df.at['Tun 2 RF', 'Train MAPE'] = 0.231531\n",
    "regression_metrics_df.at['Tun 2 RF', 'Test MAPE'] = 0.481957\n",
    "regression_metrics_df.at['Tun 2 RF', 'Train RMSE'] = 15.772064\n",
    "regression_metrics_df.at['Tun 2 RF', 'Test RMSE'] = 29.725659"
   ]
  },
  {
   "cell_type": "markdown",
   "id": "d3f6154c",
   "metadata": {},
   "source": [
    "## Model 5: K-Nearest Neighbors Regressor"
   ]
  },
  {
   "cell_type": "markdown",
   "id": "6e17dacd",
   "metadata": {},
   "source": [
    "### Default"
   ]
  },
  {
   "cell_type": "code",
   "execution_count": 121,
   "id": "03ebe2d6",
   "metadata": {},
   "outputs": [],
   "source": [
    "# %%time\n",
    "# # time: 12 seconds\n",
    "\n",
    "# # instantiate\n",
    "# kn_def = KNeighborsRegressor()\n",
    "\n",
    "# # pipeline\n",
    "# kn_def_pipe = make_pipeline(preprocessor, kn_def)\n",
    "\n",
    "# # fit\n",
    "# kn_def_pipe.fit(X_train, y_train)\n",
    "\n",
    "# # evaluate\n",
    "# evaluate_regression(kn_def_pipe, \n",
    "#                     X_train, \n",
    "#                     X_test, \n",
    "#                     y_train, \n",
    "#                     y_test, \n",
    "#                     \"Def KN\")\n",
    "\n",
    "# allDone()"
   ]
  },
  {
   "cell_type": "code",
   "execution_count": 122,
   "id": "00593497",
   "metadata": {},
   "outputs": [],
   "source": [
    "# hard coding results so I don't have to re-run the notebook cells that take \n",
    "# a long time to run every time I open it up\n",
    "\n",
    "regression_metrics_df.at['Def KNN', 'Train R2'] = 0.728828\n",
    "regression_metrics_df.at['Def KNN', 'Test R2'] = 0.602546\n",
    "regression_metrics_df.at['Def KNN', 'Train MAE'] = 12.618852\n",
    "regression_metrics_df.at['Def KNN', 'Test MAE'] = 15.934048\n",
    "regression_metrics_df.at['Def KNN', 'Train MAPE'] = 0.478908\n",
    "regression_metrics_df.at['Def KNN', 'Test MAPE'] = 0.611594\n",
    "regression_metrics_df.at['Def KNN', 'Train RMSE'] = 27.244059\n",
    "regression_metrics_df.at['Def KNN', 'Test RMSE'] = 33.946147"
   ]
  },
  {
   "cell_type": "markdown",
   "id": "034a01be",
   "metadata": {},
   "source": [
    "### Tuned on 'n_neighbors'"
   ]
  },
  {
   "cell_type": "code",
   "execution_count": 123,
   "id": "8b447176",
   "metadata": {},
   "outputs": [],
   "source": [
    "# %%time\n",
    "# # time: \n",
    "\n",
    "# # instantiate\n",
    "# kn_tun = KNeighborsRegressor()\n",
    "\n",
    "# # pipeline\n",
    "# kn_tun_pipe = make_pipeline(preprocessor, kn_tun)\n",
    "\n",
    "# # params\n",
    "# kn_params = {}\n",
    "\n",
    "# # tune n_neighbors\n",
    "# kn_params['kneighborsregressor__n_neighbors'] = range(10, 311, 50)\n",
    "\n",
    "# # gridsearchcv\n",
    "# kn_gs = GridSearchCV(kn_tun_pipe, \n",
    "#                      kn_params,\n",
    "#                      scoring = 'r2')\n",
    "\n",
    "# kn_gs.fit(X_train, y_train)\n",
    "\n",
    "# allDone()"
   ]
  },
  {
   "cell_type": "code",
   "execution_count": 124,
   "id": "0f084977",
   "metadata": {},
   "outputs": [],
   "source": [
    "# # see best score from gridsearchcv\n",
    "# kn_gs.best_score_ # 0.5779756101534584"
   ]
  },
  {
   "cell_type": "code",
   "execution_count": 125,
   "id": "62f7d73a",
   "metadata": {},
   "outputs": [],
   "source": [
    "# # see the best parameters from the tuned model\n",
    "# kn_gs.best_params_\n",
    "\n",
    "# # n_neighbors: 10"
   ]
  },
  {
   "cell_type": "code",
   "execution_count": 126,
   "id": "8679fc42",
   "metadata": {},
   "outputs": [],
   "source": [
    "# # instantiate tuned model\n",
    "# kn_tun_pipe = kn_gs.best_estimator_\n",
    "\n",
    "# # print and store metrics\n",
    "# evaluate_regression(kn_tun_pipe, \n",
    "#                     X_train, \n",
    "#                     X_test, \n",
    "#                     y_train, \n",
    "#                     y_test, \n",
    "#                     \"Tun KNN\")"
   ]
  },
  {
   "cell_type": "code",
   "execution_count": 127,
   "id": "68cd9008",
   "metadata": {},
   "outputs": [],
   "source": [
    "# hard coding results so I don't have to re-run the notebook cells that take \n",
    "# a long time to run every time I open it up\n",
    "\n",
    "regression_metrics_df.at['Tun KNN', 'Train R2'] = 0.674011\n",
    "regression_metrics_df.at['Tun KNN', 'Test R2'] = 0.608170\n",
    "regression_metrics_df.at['Tun KNN', 'Train MAE'] = 14.439231\n",
    "regression_metrics_df.at['Tun KNN', 'Test MAE'] = 16.487466\n",
    "regression_metrics_df.at['Tun KNN', 'Train MAPE'] = 0.575196\n",
    "regression_metrics_df.at['Tun KNN', 'Test MAPE'] = 0.650102\n",
    "regression_metrics_df.at['Tun KNN', 'Train RMSE'] = 29.871061\n",
    "regression_metrics_df.at['Tun KNN', 'Test RMSE'] = 33.705102"
   ]
  },
  {
   "cell_type": "markdown",
   "id": "cbb65498",
   "metadata": {},
   "source": [
    "## Model 6: Extreme Gradient Boosting Regressor"
   ]
  },
  {
   "cell_type": "markdown",
   "id": "b6c77330",
   "metadata": {},
   "source": [
    "### Default"
   ]
  },
  {
   "cell_type": "code",
   "execution_count": 128,
   "id": "9d132872",
   "metadata": {},
   "outputs": [
    {
     "name": "stdout",
     "output_type": "stream",
     "text": [
      "Train R2       0.723095\n",
      "Test R2        0.667440\n",
      "Train MAE     14.561838\n",
      "Test MAE      15.973772\n",
      "Train MAPE     0.629571\n",
      "Test MAPE      0.673783\n",
      "Train RMSE    27.530559\n",
      "Test RMSE     31.051453\n",
      "Name: Def XGB, dtype: float64\n"
     ]
    },
    {
     "data": {
      "text/html": [
       "\n",
       "                <audio  controls=\"controls\" autoplay=\"autoplay\">\n",
       "                    <source src=\"data:audio/mpeg;base64,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\" type=\"audio/mpeg\" />\n",
       "                    Your browser does not support the audio element.\n",
       "                </audio>\n",
       "              "
      ],
      "text/plain": [
       "<IPython.lib.display.Audio object>"
      ]
     },
     "metadata": {},
     "output_type": "display_data"
    },
    {
     "name": "stdout",
     "output_type": "stream",
     "text": [
      "CPU times: total: 1min 37s\n",
      "Wall time: 9.61 s\n"
     ]
    }
   ],
   "source": [
    "%%time\n",
    "# time: 10 seconds\n",
    "\n",
    "# instantiate\n",
    "xgb_def = XGBRegressor()\n",
    "\n",
    "# pipeline\n",
    "xgb_def_pipe = make_pipeline(preprocessor, xgb_def)\n",
    "\n",
    "# fit\n",
    "xgb_def_pipe.fit(X_train, y_train)\n",
    "\n",
    "# evaluate\n",
    "evaluate_regression(xgb_def_pipe, \n",
    "                    X_train, \n",
    "                    X_test, \n",
    "                    y_train, \n",
    "                    y_test, \n",
    "                    \"Def XGB\")\n",
    "\n",
    "allDone()"
   ]
  },
  {
   "cell_type": "markdown",
   "id": "de95d026",
   "metadata": {},
   "source": [
    "### Tuned on 'max_depth' and 'n_estimators'"
   ]
  },
  {
   "cell_type": "code",
   "execution_count": 129,
   "id": "c650e726",
   "metadata": {},
   "outputs": [],
   "source": [
    "# %%time\n",
    "# # time: 15 minues\n",
    "\n",
    "# # instantiate\n",
    "# xgb_tun = XGBRegressor()\n",
    "\n",
    "# # pipeline\n",
    "# xgb_tun_pipe = make_pipeline(preprocessor, xgb_tun)\n",
    "\n",
    "# # params\n",
    "# xgb_params = {}\n",
    "\n",
    "# # tune max_depth and n_estimators\n",
    "# xgb_params['xgbregressor__max_depth'] = [20, 40, 60]\n",
    "# xgb_params['xgbregressor__n_estimators'] = [20, 40, 60]\n",
    "\n",
    "# # gridsearchcv\n",
    "# xgb_gs = GridSearchCV(xgb_tun_pipe, \n",
    "#                      xgb_params,\n",
    "#                      scoring = 'r2')\n",
    "\n",
    "# xgb_gs.fit(X_train, y_train)\n",
    "\n",
    "# allDone()"
   ]
  },
  {
   "cell_type": "code",
   "execution_count": 130,
   "id": "4ded897f",
   "metadata": {},
   "outputs": [],
   "source": [
    "# # see best score from gridizedsearchcv\n",
    "# xgb_gs.best_score_ # 0.6610792782418022"
   ]
  },
  {
   "cell_type": "code",
   "execution_count": 131,
   "id": "de17067d",
   "metadata": {},
   "outputs": [],
   "source": [
    "# # see the best parameters from the tuned model\n",
    "# xgb_gs.best_params_ \n",
    "\n",
    "# # max_depth: 20\n",
    "# # n_estimators: 40"
   ]
  },
  {
   "cell_type": "code",
   "execution_count": 132,
   "id": "e56b159e",
   "metadata": {},
   "outputs": [],
   "source": [
    "# # instantiate tuned model\n",
    "# xgb_tun_pipe = xgb_gs.best_estimator_\n",
    "\n",
    "# # print and store metrics\n",
    "# evaluate_regression(xgb_tun_pipe, \n",
    "#                     X_train, \n",
    "#                     X_test, \n",
    "#                     y_train, \n",
    "#                     y_test, \n",
    "#                     \"Tun XGB\")"
   ]
  },
  {
   "cell_type": "code",
   "execution_count": 133,
   "id": "22037555",
   "metadata": {},
   "outputs": [],
   "source": [
    "# hard coding results so I don't have to re-run the notebook cells that take \n",
    "# a long time to run every time I open it up\n",
    "\n",
    "regression_metrics_df.at['Tun XGB', 'Train R2'] = 0.886501\n",
    "regression_metrics_df.at['Tun XGB', 'Test R2'] = 0.670250\n",
    "regression_metrics_df.at['Tun XGB', 'Train MAE'] = 8.081317\n",
    "regression_metrics_df.at['Tun XGB', 'Test MAE'] = 13.811605\n",
    "regression_metrics_df.at['Tun XGB', 'Train MAPE'] = 0.356713\n",
    "regression_metrics_df.at['Tun XGB', 'Test MAPE'] = 0.539004\n",
    "regression_metrics_df.at['Tun XGB', 'Train RMSE'] = 17.625647\n",
    "regression_metrics_df.at['Tun XGB', 'Test RMSE'] = 30.919982"
   ]
  },
  {
   "cell_type": "markdown",
   "id": "c00ee8da",
   "metadata": {},
   "source": [
    "## Model 7: Light Gradient Boosting Machine Regressor"
   ]
  },
  {
   "cell_type": "markdown",
   "id": "7e1981be",
   "metadata": {},
   "source": [
    "### Default"
   ]
  },
  {
   "cell_type": "code",
   "execution_count": 134,
   "id": "21012c7e",
   "metadata": {},
   "outputs": [
    {
     "name": "stdout",
     "output_type": "stream",
     "text": [
      "Train R2       0.664614\n",
      "Test R2        0.642854\n",
      "Train MAE     16.033627\n",
      "Test MAE      16.841458\n",
      "Train MAPE     0.679746\n",
      "Test MAPE      0.703099\n",
      "Train RMSE    30.298529\n",
      "Test RMSE     32.178775\n",
      "Name: Def LGBM, dtype: float64\n"
     ]
    },
    {
     "data": {
      "text/html": [
       "\n",
       "                <audio  controls=\"controls\" autoplay=\"autoplay\">\n",
       "                    <source src=\"data:audio/mpeg;base64,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\" type=\"audio/mpeg\" />\n",
       "                    Your browser does not support the audio element.\n",
       "                </audio>\n",
       "              "
      ],
      "text/plain": [
       "<IPython.lib.display.Audio object>"
      ]
     },
     "metadata": {},
     "output_type": "display_data"
    },
    {
     "name": "stdout",
     "output_type": "stream",
     "text": [
      "CPU times: total: 4.67 s\n",
      "Wall time: 900 ms\n"
     ]
    }
   ],
   "source": [
    "%%time\n",
    "# time: 655 milliseconds\n",
    "\n",
    "# instantiate\n",
    "lgbm_def = LGBMRegressor()\n",
    "\n",
    "# pipeline\n",
    "lgbm_def_pipe = make_pipeline(preprocessor, lgbm_def)\n",
    "\n",
    "# fit\n",
    "lgbm_def_pipe.fit(X_train, y_train)\n",
    "\n",
    "# evaluate\n",
    "evaluate_regression(lgbm_def_pipe, \n",
    "                    X_train, \n",
    "                    X_test, \n",
    "                    y_train, \n",
    "                    y_test, \n",
    "                    \"Def LGBM\")\n",
    "\n",
    "allDone()"
   ]
  },
  {
   "cell_type": "markdown",
   "id": "2bd39f4f",
   "metadata": {},
   "source": [
    "### Tuned on 'max_depth' and 'n_estimators'"
   ]
  },
  {
   "cell_type": "code",
   "execution_count": 135,
   "id": "21c235b3",
   "metadata": {},
   "outputs": [],
   "source": [
    "# %%time\n",
    "# # time: 19 seconds\n",
    "\n",
    "# # instantiate\n",
    "# lgbm_tun = LGBMRegressor()\n",
    "\n",
    "# # pipeline\n",
    "# lgbm_tun_pipe = make_pipeline(preprocessor, lgbm_tun)\n",
    "\n",
    "# # params\n",
    "# lgbm_params = {}\n",
    "\n",
    "# # tune n_neighbors\n",
    "# lgbm_params['lgbmregressor__max_depth'] = [5, 10, 15, 20]\n",
    "# lgbm_params['lgbmregressor__n_estimators'] = [10, 25, 50]\n",
    "\n",
    "# # gridsearchcv\n",
    "# lgbm_gs = GridSearchCV(lgbm_tun_pipe, \n",
    "#                        lgbm_params,\n",
    "#                        scoring = 'r2')\n",
    "\n",
    "# lgbm_gs.fit(X_train, y_train)\n",
    "\n",
    "# allDone()"
   ]
  },
  {
   "cell_type": "code",
   "execution_count": 136,
   "id": "eb97c158",
   "metadata": {},
   "outputs": [],
   "source": [
    "# # see best score from gridsearchcv\n",
    "# lgbm_gs.best_score_ # 0.592515714044081"
   ]
  },
  {
   "cell_type": "code",
   "execution_count": 137,
   "id": "2599a613",
   "metadata": {},
   "outputs": [],
   "source": [
    "# # see the best parameters from the tuned model\n",
    "# lgbm_gs.best_params_\n",
    "\n",
    "# # max_depth: 20\n",
    "# # n_estimators: 50 "
   ]
  },
  {
   "cell_type": "code",
   "execution_count": 138,
   "id": "5a76c3bd",
   "metadata": {},
   "outputs": [],
   "source": [
    "# # instantiate tuned model\n",
    "# lgbm_tun_pipe = lgbm_gs.best_estimator_\n",
    "\n",
    "# # print and store metrics\n",
    "# evaluate_regression(lgbm_tun_pipe, \n",
    "#                     X_train, \n",
    "#                     X_test, \n",
    "#                     y_train, \n",
    "#                     y_test, \n",
    "#                     \"Tun LGBM\")"
   ]
  },
  {
   "cell_type": "code",
   "execution_count": 139,
   "id": "d4da7d2d",
   "metadata": {},
   "outputs": [],
   "source": [
    "# hard coding results so I don't have to re-run the notebook cells that take \n",
    "# a long time to run every time I open it up\n",
    "\n",
    "regression_metrics_df.at['Tun LGBM', 'Train R2'] = 0.619190\n",
    "regression_metrics_df.at['Tun LGBM', 'Test R2'] = 0.603308\n",
    "regression_metrics_df.at['Tun LGBM', 'Train MAE'] = 17.430325\n",
    "regression_metrics_df.at['Tun LGBM', 'Test MAE'] = 18.123538\n",
    "regression_metrics_df.at['Tun LGBM', 'Train MAPE'] = 0.754229\n",
    "regression_metrics_df.at['Tun LGBM', 'Test MAPE'] = 0.773916\n",
    "regression_metrics_df.at['Tun LGBM', 'Train RMSE'] = 32.285186\n",
    "regression_metrics_df.at['Tun LGBM', 'Test RMSE'] = 33.913575"
   ]
  },
  {
   "cell_type": "markdown",
   "id": "18930bd0",
   "metadata": {},
   "source": [
    "## Model 8: Gradient Boosting Regressor"
   ]
  },
  {
   "cell_type": "markdown",
   "id": "7c854c82",
   "metadata": {},
   "source": [
    "### Default"
   ]
  },
  {
   "cell_type": "code",
   "execution_count": 140,
   "id": "26c85894",
   "metadata": {},
   "outputs": [],
   "source": [
    "# %%time\n",
    "# # time: 1 minute 18 seconds\n",
    "\n",
    "# # instantiate\n",
    "# gbr_def = GradientBoostingRegressor()\n",
    "\n",
    "# # pipeline\n",
    "# gbr_def_pipe = make_pipeline(preprocessor, gbr_def)\n",
    "\n",
    "# # fit\n",
    "# gbr_def_pipe.fit(X_train, y_train)\n",
    "\n",
    "# # evaluate\n",
    "# evaluate_regression(gbr_def_pipe, \n",
    "#                     X_train, \n",
    "#                     X_test, \n",
    "#                     y_train, \n",
    "#                     y_test, \n",
    "#                     \"Def GBR\")\n",
    "\n",
    "# allDone()"
   ]
  },
  {
   "cell_type": "code",
   "execution_count": 141,
   "id": "067107ba",
   "metadata": {},
   "outputs": [],
   "source": [
    "# hard coding results so I don't have to re-run the notebook cells that take \n",
    "# a long time to run every time I open it up\n",
    "\n",
    "regression_metrics_df.at['Def GBR', 'Train R2'] = 0.438490\n",
    "regression_metrics_df.at['Def GBR', 'Test R2'] = 0.422539\n",
    "regression_metrics_df.at['Def GBR', 'Train MAE'] = 21.744673\n",
    "regression_metrics_df.at['Def GBR', 'Test MAE'] = 22.299318\n",
    "regression_metrics_df.at['Def GBR', 'Train MAPE'] = 0.985450\n",
    "regression_metrics_df.at['Def GBR', 'Test MAPE'] = 0.995671\n",
    "regression_metrics_df.at['Def GBR', 'Train RMSE'] = 39.203798\n",
    "regression_metrics_df.at['Def GBR', 'Test RMSE'] = 40.917422"
   ]
  },
  {
   "cell_type": "markdown",
   "id": "32cc264d",
   "metadata": {},
   "source": [
    "### Tuned on 'max_depth' and 'n_estimators'"
   ]
  },
  {
   "cell_type": "code",
   "execution_count": 142,
   "id": "a3340c6c",
   "metadata": {},
   "outputs": [],
   "source": [
    "# %%time\n",
    "# # time: 43 minutes\n",
    "\n",
    "# # instantiate\n",
    "# gbr_tun = GradientBoostingRegressor()\n",
    "\n",
    "# # pipeline\n",
    "# gbr_tun_pipe = make_pipeline(preprocessor, gbr_tun)\n",
    "\n",
    "# # params\n",
    "# gbr_params = {}\n",
    "\n",
    "# # tune n_neighbors\n",
    "# gbr_params['gradientboostingregressor__max_depth'] = [10, 15, 20]\n",
    "# gbr_params['gradientboostingregressor__n_estimators'] = [20, 30, 40]\n",
    "\n",
    "# # gridsearchcv\n",
    "# gbr_gs = GridSearchCV(gbr_tun_pipe, \n",
    "#                      gbr_params,\n",
    "#                      scoring = 'r2')\n",
    "\n",
    "# gbr_gs.fit(X_train, y_train)\n",
    "\n",
    "# allDone()"
   ]
  },
  {
   "cell_type": "code",
   "execution_count": 143,
   "id": "c6179428",
   "metadata": {},
   "outputs": [],
   "source": [
    "# # see best score from gridsearchcv\n",
    "# gbr_gs.best_score_ # 0.6530051823484924"
   ]
  },
  {
   "cell_type": "code",
   "execution_count": 144,
   "id": "72aa6cc1",
   "metadata": {},
   "outputs": [],
   "source": [
    "# # see the best parameters from the tuned model\n",
    "# gbr_gs.best_params_\n",
    "\n",
    "# # max_depth: 20\n",
    "# # n_estimators: 40"
   ]
  },
  {
   "cell_type": "code",
   "execution_count": 145,
   "id": "455f4218",
   "metadata": {},
   "outputs": [],
   "source": [
    "# # instantiate tuned model\n",
    "# gbr_tun_pipe = gbr_gs.best_estimator_\n",
    "\n",
    "# # print and store metrics\n",
    "# evaluate_regression(gbr_tun_pipe, \n",
    "#                     X_train, \n",
    "#                     X_test, \n",
    "#                     y_train, \n",
    "#                     y_test, \n",
    "#                     \"Tun GBR\")"
   ]
  },
  {
   "cell_type": "code",
   "execution_count": 146,
   "id": "87a9c043",
   "metadata": {},
   "outputs": [],
   "source": [
    "# hard coding results so I don't have to re-run the notebook cells that take \n",
    "# a long time to run every time I open it up\n",
    "\n",
    "regression_metrics_df.at['Tun GBR', 'Train R2'] = 0.858627\n",
    "regression_metrics_df.at['Tun GBR', 'Test R2'] = 0.654365\n",
    "regression_metrics_df.at['Tun GBR', 'Train MAE'] = 10.075562\n",
    "regression_metrics_df.at['Tun GBR', 'Test MAE'] = 14.710098\n",
    "regression_metrics_df.at['Tun GBR', 'Train MAPE'] = 0.462800\n",
    "regression_metrics_df.at['Tun GBR', 'Test MAPE'] = 0.602836\n",
    "regression_metrics_df.at['Tun GBR', 'Train RMSE'] = 19.671273\n",
    "regression_metrics_df.at['Tun GBR', 'Test RMSE'] = 31.655980"
   ]
  },
  {
   "cell_type": "markdown",
   "id": "4fe7ae1d",
   "metadata": {},
   "source": [
    "# Model Decision"
   ]
  },
  {
   "cell_type": "markdown",
   "id": "43d03cda",
   "metadata": {},
   "source": [
    "Let's see the results of all the models we've made so far."
   ]
  },
  {
   "cell_type": "code",
   "execution_count": 147,
   "id": "7b7e682e",
   "metadata": {},
   "outputs": [
    {
     "data": {
      "text/html": [
       "<div>\n",
       "<style scoped>\n",
       "    .dataframe tbody tr th:only-of-type {\n",
       "        vertical-align: middle;\n",
       "    }\n",
       "\n",
       "    .dataframe tbody tr th {\n",
       "        vertical-align: top;\n",
       "    }\n",
       "\n",
       "    .dataframe thead th {\n",
       "        text-align: right;\n",
       "    }\n",
       "</style>\n",
       "<table border=\"1\" class=\"dataframe\">\n",
       "  <thead>\n",
       "    <tr style=\"text-align: right;\">\n",
       "      <th></th>\n",
       "      <th>Train R2</th>\n",
       "      <th>Test R2</th>\n",
       "      <th>Train MAE</th>\n",
       "      <th>Test MAE</th>\n",
       "      <th>Train MAPE</th>\n",
       "      <th>Test MAPE</th>\n",
       "      <th>Train RMSE</th>\n",
       "      <th>Test RMSE</th>\n",
       "    </tr>\n",
       "  </thead>\n",
       "  <tbody>\n",
       "    <tr>\n",
       "      <th>Def RF</th>\n",
       "      <td>0.908955</td>\n",
       "      <td>6.793760e-01</td>\n",
       "      <td>6.054180</td>\n",
       "      <td>1.306221e+01</td>\n",
       "      <td>0.229691</td>\n",
       "      <td>4.828210e-01</td>\n",
       "      <td>15.786208</td>\n",
       "      <td>3.048909e+01</td>\n",
       "    </tr>\n",
       "    <tr>\n",
       "      <th>Tun BR</th>\n",
       "      <td>0.907775</td>\n",
       "      <td>6.789120e-01</td>\n",
       "      <td>6.087626</td>\n",
       "      <td>1.310726e+01</td>\n",
       "      <td>0.230614</td>\n",
       "      <td>4.852550e-01</td>\n",
       "      <td>15.888121</td>\n",
       "      <td>3.051118e+01</td>\n",
       "    </tr>\n",
       "    <tr>\n",
       "      <th>Tun XGB</th>\n",
       "      <td>0.886501</td>\n",
       "      <td>6.702500e-01</td>\n",
       "      <td>8.081317</td>\n",
       "      <td>1.381161e+01</td>\n",
       "      <td>0.356713</td>\n",
       "      <td>5.390040e-01</td>\n",
       "      <td>17.625647</td>\n",
       "      <td>3.091998e+01</td>\n",
       "    </tr>\n",
       "    <tr>\n",
       "      <th>Def BR</th>\n",
       "      <td>0.898944</td>\n",
       "      <td>6.675390e-01</td>\n",
       "      <td>6.327471</td>\n",
       "      <td>1.343455e+01</td>\n",
       "      <td>0.238370</td>\n",
       "      <td>4.955080e-01</td>\n",
       "      <td>16.631432</td>\n",
       "      <td>3.104684e+01</td>\n",
       "    </tr>\n",
       "    <tr>\n",
       "      <th>Def XGB</th>\n",
       "      <td>0.723095</td>\n",
       "      <td>6.674398e-01</td>\n",
       "      <td>14.561838</td>\n",
       "      <td>1.597377e+01</td>\n",
       "      <td>0.629571</td>\n",
       "      <td>6.737828e-01</td>\n",
       "      <td>27.530559</td>\n",
       "      <td>3.105145e+01</td>\n",
       "    </tr>\n",
       "    <tr>\n",
       "      <th>Tun RF</th>\n",
       "      <td>0.874848</td>\n",
       "      <td>6.624580e-01</td>\n",
       "      <td>8.797796</td>\n",
       "      <td>1.525966e+01</td>\n",
       "      <td>0.374132</td>\n",
       "      <td>6.329430e-01</td>\n",
       "      <td>18.508387</td>\n",
       "      <td>3.128317e+01</td>\n",
       "    </tr>\n",
       "    <tr>\n",
       "      <th>Tun GBR</th>\n",
       "      <td>0.858627</td>\n",
       "      <td>6.543650e-01</td>\n",
       "      <td>10.075562</td>\n",
       "      <td>1.471010e+01</td>\n",
       "      <td>0.462800</td>\n",
       "      <td>6.028360e-01</td>\n",
       "      <td>19.671273</td>\n",
       "      <td>3.165598e+01</td>\n",
       "    </tr>\n",
       "    <tr>\n",
       "      <th>Def LGBM</th>\n",
       "      <td>0.664614</td>\n",
       "      <td>6.428543e-01</td>\n",
       "      <td>16.033627</td>\n",
       "      <td>1.684146e+01</td>\n",
       "      <td>0.679746</td>\n",
       "      <td>7.030994e-01</td>\n",
       "      <td>30.298529</td>\n",
       "      <td>3.217878e+01</td>\n",
       "    </tr>\n",
       "    <tr>\n",
       "      <th>Tun KNN</th>\n",
       "      <td>0.674011</td>\n",
       "      <td>6.081700e-01</td>\n",
       "      <td>14.439231</td>\n",
       "      <td>1.648747e+01</td>\n",
       "      <td>0.575196</td>\n",
       "      <td>6.501020e-01</td>\n",
       "      <td>29.871061</td>\n",
       "      <td>3.370510e+01</td>\n",
       "    </tr>\n",
       "    <tr>\n",
       "      <th>Tun LGBM</th>\n",
       "      <td>0.619190</td>\n",
       "      <td>6.033080e-01</td>\n",
       "      <td>17.430325</td>\n",
       "      <td>1.812354e+01</td>\n",
       "      <td>0.754229</td>\n",
       "      <td>7.739160e-01</td>\n",
       "      <td>32.285186</td>\n",
       "      <td>3.391358e+01</td>\n",
       "    </tr>\n",
       "    <tr>\n",
       "      <th>Def KNN</th>\n",
       "      <td>0.728828</td>\n",
       "      <td>6.025460e-01</td>\n",
       "      <td>12.618852</td>\n",
       "      <td>1.593405e+01</td>\n",
       "      <td>0.478908</td>\n",
       "      <td>6.115940e-01</td>\n",
       "      <td>27.244059</td>\n",
       "      <td>3.394615e+01</td>\n",
       "    </tr>\n",
       "    <tr>\n",
       "      <th>Tun DT</th>\n",
       "      <td>0.816726</td>\n",
       "      <td>5.671270e-01</td>\n",
       "      <td>10.464698</td>\n",
       "      <td>1.618136e+01</td>\n",
       "      <td>0.492257</td>\n",
       "      <td>6.392470e-01</td>\n",
       "      <td>22.397496</td>\n",
       "      <td>3.542639e+01</td>\n",
       "    </tr>\n",
       "    <tr>\n",
       "      <th>Def DT</th>\n",
       "      <td>0.931858</td>\n",
       "      <td>5.523811e-01</td>\n",
       "      <td>2.999277</td>\n",
       "      <td>1.499874e+01</td>\n",
       "      <td>0.118540</td>\n",
       "      <td>5.284102e-01</td>\n",
       "      <td>13.657047</td>\n",
       "      <td>3.602475e+01</td>\n",
       "    </tr>\n",
       "    <tr>\n",
       "      <th>Def GBR</th>\n",
       "      <td>0.438490</td>\n",
       "      <td>4.225390e-01</td>\n",
       "      <td>21.744673</td>\n",
       "      <td>2.229932e+01</td>\n",
       "      <td>0.985450</td>\n",
       "      <td>9.956710e-01</td>\n",
       "      <td>39.203798</td>\n",
       "      <td>4.091742e+01</td>\n",
       "    </tr>\n",
       "    <tr>\n",
       "      <th>Dummy</th>\n",
       "      <td>0.000000</td>\n",
       "      <td>-2.270826e-04</td>\n",
       "      <td>30.284737</td>\n",
       "      <td>3.079224e+01</td>\n",
       "      <td>1.471100</td>\n",
       "      <td>1.465341e+00</td>\n",
       "      <td>52.317775</td>\n",
       "      <td>5.385129e+01</td>\n",
       "    </tr>\n",
       "    <tr>\n",
       "      <th>Linear</th>\n",
       "      <td>0.396444</td>\n",
       "      <td>-3.196729e+19</td>\n",
       "      <td>23.876216</td>\n",
       "      <td>4.917438e+09</td>\n",
       "      <td>1.138980</td>\n",
       "      <td>3.693067e+08</td>\n",
       "      <td>40.645075</td>\n",
       "      <td>3.044386e+11</td>\n",
       "    </tr>\n",
       "  </tbody>\n",
       "</table>\n",
       "</div>"
      ],
      "text/plain": [
       "          Train R2       Test R2  Train MAE      Test MAE  Train MAPE  \\\n",
       "Def RF    0.908955  6.793760e-01   6.054180  1.306221e+01    0.229691   \n",
       "Tun BR    0.907775  6.789120e-01   6.087626  1.310726e+01    0.230614   \n",
       "Tun XGB   0.886501  6.702500e-01   8.081317  1.381161e+01    0.356713   \n",
       "Def BR    0.898944  6.675390e-01   6.327471  1.343455e+01    0.238370   \n",
       "Def XGB   0.723095  6.674398e-01  14.561838  1.597377e+01    0.629571   \n",
       "Tun RF    0.874848  6.624580e-01   8.797796  1.525966e+01    0.374132   \n",
       "Tun GBR   0.858627  6.543650e-01  10.075562  1.471010e+01    0.462800   \n",
       "Def LGBM  0.664614  6.428543e-01  16.033627  1.684146e+01    0.679746   \n",
       "Tun KNN   0.674011  6.081700e-01  14.439231  1.648747e+01    0.575196   \n",
       "Tun LGBM  0.619190  6.033080e-01  17.430325  1.812354e+01    0.754229   \n",
       "Def KNN   0.728828  6.025460e-01  12.618852  1.593405e+01    0.478908   \n",
       "Tun DT    0.816726  5.671270e-01  10.464698  1.618136e+01    0.492257   \n",
       "Def DT    0.931858  5.523811e-01   2.999277  1.499874e+01    0.118540   \n",
       "Def GBR   0.438490  4.225390e-01  21.744673  2.229932e+01    0.985450   \n",
       "Dummy     0.000000 -2.270826e-04  30.284737  3.079224e+01    1.471100   \n",
       "Linear    0.396444 -3.196729e+19  23.876216  4.917438e+09    1.138980   \n",
       "\n",
       "             Test MAPE  Train RMSE     Test RMSE  \n",
       "Def RF    4.828210e-01   15.786208  3.048909e+01  \n",
       "Tun BR    4.852550e-01   15.888121  3.051118e+01  \n",
       "Tun XGB   5.390040e-01   17.625647  3.091998e+01  \n",
       "Def BR    4.955080e-01   16.631432  3.104684e+01  \n",
       "Def XGB   6.737828e-01   27.530559  3.105145e+01  \n",
       "Tun RF    6.329430e-01   18.508387  3.128317e+01  \n",
       "Tun GBR   6.028360e-01   19.671273  3.165598e+01  \n",
       "Def LGBM  7.030994e-01   30.298529  3.217878e+01  \n",
       "Tun KNN   6.501020e-01   29.871061  3.370510e+01  \n",
       "Tun LGBM  7.739160e-01   32.285186  3.391358e+01  \n",
       "Def KNN   6.115940e-01   27.244059  3.394615e+01  \n",
       "Tun DT    6.392470e-01   22.397496  3.542639e+01  \n",
       "Def DT    5.284102e-01   13.657047  3.602475e+01  \n",
       "Def GBR   9.956710e-01   39.203798  4.091742e+01  \n",
       "Dummy     1.465341e+00   52.317775  5.385129e+01  \n",
       "Linear    3.693067e+08   40.645075  3.044386e+11  "
      ]
     },
     "execution_count": 147,
     "metadata": {},
     "output_type": "execute_result"
    }
   ],
   "source": [
    "regression_metrics_df.sort_values(by = 'Test R2', ascending = False)"
   ]
  },
  {
   "cell_type": "code",
   "execution_count": null,
   "id": "474493bc",
   "metadata": {},
   "outputs": [],
   "source": []
  },
  {
   "cell_type": "code",
   "execution_count": null,
   "id": "898b2d2e",
   "metadata": {},
   "outputs": [],
   "source": []
  },
  {
   "cell_type": "code",
   "execution_count": null,
   "id": "06680001",
   "metadata": {},
   "outputs": [],
   "source": []
  },
  {
   "cell_type": "code",
   "execution_count": null,
   "id": "ca3e910a",
   "metadata": {},
   "outputs": [],
   "source": []
  }
 ],
 "metadata": {
  "kernelspec": {
   "display_name": "Python (dojo-env)",
   "language": "python",
   "name": "dojo-env"
  },
  "language_info": {
   "codemirror_mode": {
    "name": "ipython",
    "version": 3
   },
   "file_extension": ".py",
   "mimetype": "text/x-python",
   "name": "python",
   "nbconvert_exporter": "python",
   "pygments_lexer": "ipython3",
   "version": "3.9.15"
  },
  "toc": {
   "base_numbering": 1,
   "nav_menu": {},
   "number_sections": false,
   "sideBar": true,
   "skip_h1_title": false,
   "title_cell": "Table of Contents",
   "title_sidebar": "Contents",
   "toc_cell": false,
   "toc_position": {},
   "toc_section_display": true,
   "toc_window_display": true
  }
 },
 "nbformat": 4,
 "nbformat_minor": 5
}
